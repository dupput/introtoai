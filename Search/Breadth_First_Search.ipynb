{
 "cells": [
  {
   "cell_type": "code",
   "execution_count": 1,
   "id": "9f18cfb5",
   "metadata": {},
   "outputs": [],
   "source": [
    "tree = {'A': ['B', 'C', 'E'],\n",
    "        'B': ['D', 'F'],\n",
    "        'C': [],\n",
    "        'D': [],\n",
    "        'E': ['G'],\n",
    "        'F': [],\n",
    "        'G': []\n",
    "       }"
   ]
  },
  {
   "cell_type": "code",
   "execution_count": 4,
   "id": "a11aa0a7",
   "metadata": {},
   "outputs": [],
   "source": [
    "# from networkx.drawing.nx_agraph import graphviz_layout\n",
    "# import matplotlib.pyplot as plt\n",
    "# import networkx as nx\n",
    "\n",
    "# graph_viz = nx.to_networkx_graph(tree)\n",
    "# nx.draw(graph_viz, with_labels=True, pos=graphviz_layout(graph_viz, prog='dot'))"
   ]
  },
  {
   "cell_type": "code",
   "execution_count": 26,
   "id": "caa9bc89",
   "metadata": {},
   "outputs": [],
   "source": [
    "def dfs(tree, node, goal, explored=[], frontier=[]):\n",
    "    if node not in explored:\n",
    "        explored.append(node)\n",
    "    if node == goal:\n",
    "        print('Goal!!!')\n",
    "        print(len(explored))\n",
    "        frontier.append(node)\n",
    "        return explored\n",
    "    \n",
    "    for child in tree[node]:\n",
    "        if child not in explored:\n",
    "            frontier.append(node)\n",
    "            p = dfs(tree, child, goal, explored, frontier)\n",
    "            if p:\n",
    "                return p\n",
    "    return []\n"
   ]
  },
  {
   "cell_type": "code",
   "execution_count": 27,
   "id": "273a723d",
   "metadata": {},
   "outputs": [
    {
     "name": "stdout",
     "output_type": "stream",
     "text": [
      "Goal!!!\n",
      "7\n"
     ]
    }
   ],
   "source": [
    "explored = dfs(tree, 'A', 'G')"
   ]
  },
  {
   "cell_type": "code",
   "execution_count": 28,
   "id": "85222305",
   "metadata": {},
   "outputs": [
    {
     "data": {
      "text/plain": [
       "['A', 'B', 'D', 'F', 'C', 'E', 'G']"
      ]
     },
     "execution_count": 28,
     "metadata": {},
     "output_type": "execute_result"
    }
   ],
   "source": [
    "explored"
   ]
  },
  {
   "cell_type": "code",
   "execution_count": 31,
   "id": "8ffe8a2e",
   "metadata": {},
   "outputs": [],
   "source": [
    "import collections\n",
    "\n",
    "def bfs(tree, start, goal):\n",
    "    explored = []\n",
    "    frontier = collections.deque([start])\n",
    "    while frontier:\n",
    "        print(frontier)\n",
    "        node = frontier.popleft()\n",
    "        explored.append(node)\n",
    "        if node == goal:\n",
    "            print('Goal !!')\n",
    "            print(len(explored))\n",
    "            break\n",
    "        \n",
    "        for child in tree[node]:\n",
    "            if child not in frontier:\n",
    "                frontier.append(child)\n",
    "                \n",
    "    return explored"
   ]
  },
  {
   "cell_type": "code",
   "execution_count": 32,
   "id": "1266cfd9",
   "metadata": {},
   "outputs": [
    {
     "name": "stdout",
     "output_type": "stream",
     "text": [
      "deque(['A'])\n",
      "deque(['B', 'C', 'E'])\n",
      "deque(['C', 'E', 'D', 'F'])\n",
      "deque(['E', 'D', 'F'])\n",
      "deque(['D', 'F', 'G'])\n",
      "deque(['F', 'G'])\n",
      "deque(['G'])\n",
      "Goal !!\n",
      "7\n"
     ]
    },
    {
     "data": {
      "text/plain": [
       "['A', 'B', 'C', 'E', 'D', 'F', 'G']"
      ]
     },
     "execution_count": 32,
     "metadata": {},
     "output_type": "execute_result"
    }
   ],
   "source": [
    "bfs(tree, 'A', 'G')"
   ]
  },
  {
   "cell_type": "code",
   "execution_count": 44,
   "id": "eba5c31f",
   "metadata": {},
   "outputs": [],
   "source": [
    "import pandas as pd\n",
    "\n",
    "G = nx.Graph()\n",
    "df = pd.read_csv('hero-network.csv', header=None)\n",
    "for index, r in df.iterrows():\n",
    "    if G.has_node(r[0]):\n",
    "        pass\n",
    "    else:\n",
    "        G.add_node(r[0])\n",
    "    if G.has_node(r[1]):\n",
    "        pass\n",
    "    else:\n",
    "        G.add_node(r[1])\n",
    "\n",
    "for index, r in df.iterrows():\n",
    "    G.add_edge(r[0], r[1])\n"
   ]
  },
  {
   "cell_type": "code",
   "execution_count": 45,
   "id": "294704bf",
   "metadata": {},
   "outputs": [
    {
     "data": {
      "text/plain": [
       "['PRINCESS ZANDA',\n",
       " \"BLACK PANTHER/T'CHAL\",\n",
       " 'CARNIVORE/COUNT ANDR',\n",
       " 'IRON MAN/TONY STARK ',\n",
       " 'GOLDEN-BLADE',\n",
       " 'DIXON, GENERAL',\n",
       " 'IRON MAN IV/JAMES R.',\n",
       " 'JOCASTA',\n",
       " 'FUJIKAWA, RUMIKO',\n",
       " 'MADAME MENACE/SUNSET',\n",
       " 'JACOBS, GLENDA',\n",
       " 'WAR MACHINE II/PARNE',\n",
       " 'SAPPER',\n",
       " 'HOGAN, VIRGINIA PEPP',\n",
       " 'BINARY/CAROL DANVERS',\n",
       " 'FIN FANG FOOM/MIDGAR',\n",
       " 'MANN, DR. J. VERNON ',\n",
       " 'THOR/DR. DONALD BLAK',\n",
       " 'TEMPEST II/NICOLETTE',\n",
       " 'JARVIS, EDWIN ',\n",
       " 'INFERNO III/SAMANTHA',\n",
       " 'DECAY II/YOSHIRO HAC']"
      ]
     },
     "execution_count": 45,
     "metadata": {},
     "output_type": "execute_result"
    }
   ],
   "source": [
    "marvel_graph = nx.to_dict_of_lists(G)\n",
    "marvel_graph['LITTLE, ABNER']"
   ]
  },
  {
   "cell_type": "code",
   "execution_count": null,
   "id": "2fa1276c",
   "metadata": {},
   "outputs": [],
   "source": []
  }
 ],
 "metadata": {
  "kernelspec": {
   "display_name": "Python 3 (ipykernel)",
   "language": "python",
   "name": "python3"
  },
  "language_info": {
   "codemirror_mode": {
    "name": "ipython",
    "version": 3
   },
   "file_extension": ".py",
   "mimetype": "text/x-python",
   "name": "python",
   "nbconvert_exporter": "python",
   "pygments_lexer": "ipython3",
   "version": "3.10.4"
  }
 },
 "nbformat": 4,
 "nbformat_minor": 5
}
