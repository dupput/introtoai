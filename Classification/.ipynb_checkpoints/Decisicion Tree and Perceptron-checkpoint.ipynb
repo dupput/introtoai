{
 "cells": [
  {
   "cell_type": "code",
   "execution_count": 2,
   "id": "41096c81",
   "metadata": {},
   "outputs": [],
   "source": [
    "from sklearn.linear_model import Perceptron\n",
    "from sklearn.metrics import accuracy_score, mean_squared_error\n",
    "from sklearn.model_selection import train_test_split\n",
    "from sklearn.tree import DecisionTreeClassifier"
   ]
  },
  {
   "cell_type": "code",
   "execution_count": 13,
   "id": "ed177975",
   "metadata": {
    "scrolled": true
   },
   "outputs": [
    {
     "name": "stderr",
     "output_type": "stream",
     "text": [
      "/tmp/ipykernel_39457/99792719.py:7: SettingWithCopyWarning: \n",
      "A value is trying to be set on a copy of a slice from a DataFrame.\n",
      "Try using .loc[row_indexer,col_indexer] = value instead\n",
      "\n",
      "See the caveats in the documentation: https://pandas.pydata.org/pandas-docs/stable/user_guide/indexing.html#returning-a-view-versus-a-copy\n",
      "  X['Age'] = X['Age'].fillna(X['Age'].mean())\n"
     ]
    }
   ],
   "source": [
    "import pandas as pd\n",
    "dff = pd.read_csv('titanic.csv')\n",
    "df = pd.get_dummies(dff, columns=['Sex'])\n",
    "\n",
    "y = df.Survived\n",
    "X = df[['Pclass', 'Age', 'SibSp', 'Parch', 'Fare', 'Sex_female', 'Sex_male']]\n",
    "X['Age'] = X['Age'].fillna(X['Age'].mean())\n",
    "\n",
    "# Split data\n",
    "train_X, test_X, train_y, test_y = train_test_split(X, y, test_size=0.25, random_state=0)"
   ]
  },
  {
   "cell_type": "code",
   "execution_count": null,
   "id": "633fd6b5",
   "metadata": {},
   "outputs": [],
   "source": [
    "df = pd.DataFrame({\n",
    "    'Driver': ['y', 'y']\n",
    "})"
   ]
  },
  {
   "cell_type": "markdown",
   "id": "a9041bb2",
   "metadata": {},
   "source": [
    "**Perceptron Algorythm**"
   ]
  },
  {
   "cell_type": "code",
   "execution_count": 14,
   "id": "08b5d79e",
   "metadata": {},
   "outputs": [
    {
     "name": "stdout",
     "output_type": "stream",
     "text": [
      "The accuracy of the perceptron classifier on the test set is 0.70\n"
     ]
    }
   ],
   "source": [
    "clf = Perceptron(max_iter=100, tol=0.0001, random_state=0)\n",
    "clf.fit(train_X, train_y)\n",
    "predictions = clf.predict(test_X)\n",
    "\n",
    "test_acc_perceptron = accuracy_score(test_y, predictions)\n",
    "print('The accuracy of the perceptron classifier on the test set is %.2f' % test_acc_perceptron)"
   ]
  },
  {
   "cell_type": "markdown",
   "id": "165d5928",
   "metadata": {},
   "source": [
    "**Decision Tree Classifier**"
   ]
  },
  {
   "cell_type": "code",
   "execution_count": 19,
   "id": "8ec4c88f",
   "metadata": {},
   "outputs": [
    {
     "name": "stdout",
     "output_type": "stream",
     "text": [
      "The accuracy of the decision tree classifier on the test set is 0.85\n"
     ]
    }
   ],
   "source": [
    "clf = DecisionTreeClassifier(random_state=0, criterion='entropy', min_samples_leaf=10)\n",
    "clf.fit(train_X, train_y)\n",
    "predictions = clf.predict(test_X)\n",
    "\n",
    "accuracy = accuracy_score(test_y, predictions)\n",
    "print('The accuracy of the decision tree classifier on the test set is %.2f' % accuracy)"
   ]
  }
 ],
 "metadata": {
  "kernelspec": {
   "display_name": "Python 3 (ipykernel)",
   "language": "python",
   "name": "python3"
  },
  "language_info": {
   "codemirror_mode": {
    "name": "ipython",
    "version": 3
   },
   "file_extension": ".py",
   "mimetype": "text/x-python",
   "name": "python",
   "nbconvert_exporter": "python",
   "pygments_lexer": "ipython3",
   "version": "3.10.4"
  }
 },
 "nbformat": 4,
 "nbformat_minor": 5
}
