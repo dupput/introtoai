{
 "cells": [
  {
   "cell_type": "markdown",
   "id": "199a7a5c",
   "metadata": {},
   "source": [
    "https://scikit-learn.org/stable/modules/generated/sklearn.neighbors.KNeighborsClassifier.html"
   ]
  },
  {
   "cell_type": "code",
   "execution_count": 1,
   "id": "f5c8a331",
   "metadata": {},
   "outputs": [],
   "source": [
    "from sklearn.neighbors import KNeighborsClassifier"
   ]
  },
  {
   "cell_type": "code",
   "execution_count": 2,
   "id": "0420c5c2",
   "metadata": {},
   "outputs": [],
   "source": [
    "# samples = (1.5, +1), (3.2, +1), (5.4, -1), (6.2, -1), (8.5, -1)\n",
    "X = [[1.5], [3.2], [5.4], [6.2], [8.5]]\n",
    "y = [1, 1, -1, -1, -1]"
   ]
  },
  {
   "cell_type": "code",
   "execution_count": 7,
   "id": "54621b9c",
   "metadata": {},
   "outputs": [
    {
     "data": {
      "text/plain": [
       "array([1])"
      ]
     },
     "execution_count": 7,
     "metadata": {},
     "output_type": "execute_result"
    }
   ],
   "source": [
    "neigh = KNeighborsClassifier(n_neighbors=1)\n",
    "neigh.fit(X, y)\n",
    "neigh.predict([[4.0]])"
   ]
  },
  {
   "cell_type": "code",
   "execution_count": 8,
   "id": "d1b179c9",
   "metadata": {},
   "outputs": [
    {
     "data": {
      "text/plain": [
       "array([-1])"
      ]
     },
     "execution_count": 8,
     "metadata": {},
     "output_type": "execute_result"
    }
   ],
   "source": [
    "neigh = KNeighborsClassifier(n_neighbors=3)\n",
    "neigh.fit(X, y)\n",
    "neigh.predict([[4.0]])"
   ]
  }
 ],
 "metadata": {
  "kernelspec": {
   "display_name": "Python 3 (ipykernel)",
   "language": "python",
   "name": "python3"
  },
  "language_info": {
   "codemirror_mode": {
    "name": "ipython",
    "version": 3
   },
   "file_extension": ".py",
   "mimetype": "text/x-python",
   "name": "python",
   "nbconvert_exporter": "python",
   "pygments_lexer": "ipython3",
   "version": "3.10.4"
  }
 },
 "nbformat": 4,
 "nbformat_minor": 5
}
