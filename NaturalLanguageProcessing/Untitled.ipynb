{
 "cells": [
  {
   "cell_type": "code",
   "execution_count": null,
   "id": "8d98be56",
   "metadata": {},
   "outputs": [],
   "source": [
    "from transformers import (AutoConfig, AutoTokenizer, AutoModel, \n",
    "                          AutoModelForSequenceClassification,\n",
    "                          TrainingArguments, Trainer,\n",
    "                          DataCollatorWithPadding,\n",
    "                          EarlyStoppingCallback)"
   ]
  },
  {
   "cell_type": "code",
   "execution_count": 1,
   "id": "6528ec8c",
   "metadata": {},
   "outputs": [
    {
     "data": {
      "application/vnd.jupyter.widget-view+json": {
       "model_id": "95070b6e99284084b520c657e9d38b80",
       "version_major": 2,
       "version_minor": 0
      },
      "text/plain": [
       "Downloading:   0%|          | 0.00/481 [00:00<?, ?B/s]"
      ]
     },
     "metadata": {},
     "output_type": "display_data"
    },
    {
     "name": "stderr",
     "output_type": "stream",
     "text": [
      "C:\\Users\\duppu\\miniconda3\\envs\\introtoai\\lib\\site-packages\\huggingface_hub\\file_download.py:123: UserWarning: `huggingface_hub` cache-system uses symlinks by default to efficiently store duplicated files but your machine does not support them in C:\\Users\\duppu\\.cache\\huggingface\\hub. Caching files will still work but in a degraded version that might require more space on your disk. This warning can be disabled by setting the `HF_HUB_DISABLE_SYMLINKS_WARNING` environment variable. For more details, see https://huggingface.co/docs/huggingface_hub/how-to-cache#limitations.\n",
      "To support symlinks on Windows, you either need to activate Developer Mode or to run Python as an administrator. In order to see activate developer mode, see this article: https://docs.microsoft.com/en-us/windows/apps/get-started/enable-your-device-for-development\n",
      "  warnings.warn(message)\n"
     ]
    },
    {
     "data": {
      "application/vnd.jupyter.widget-view+json": {
       "model_id": "8d6169acab9e4adaa2d660040f1b1906",
       "version_major": 2,
       "version_minor": 0
      },
      "text/plain": [
       "Downloading:   0%|          | 0.00/899k [00:00<?, ?B/s]"
      ]
     },
     "metadata": {},
     "output_type": "display_data"
    },
    {
     "data": {
      "application/vnd.jupyter.widget-view+json": {
       "model_id": "128fd4c5b05b423e9f381a1e332906a9",
       "version_major": 2,
       "version_minor": 0
      },
      "text/plain": [
       "Downloading:   0%|          | 0.00/456k [00:00<?, ?B/s]"
      ]
     },
     "metadata": {},
     "output_type": "display_data"
    },
    {
     "data": {
      "application/vnd.jupyter.widget-view+json": {
       "model_id": "c187943472c7413ca6ba959ad6adda54",
       "version_major": 2,
       "version_minor": 0
      },
      "text/plain": [
       "Downloading:   0%|          | 0.00/1.36M [00:00<?, ?B/s]"
      ]
     },
     "metadata": {},
     "output_type": "display_data"
    },
    {
     "data": {
      "application/vnd.jupyter.widget-view+json": {
       "model_id": "6f61a772243243408bd9a5a2467107c9",
       "version_major": 2,
       "version_minor": 0
      },
      "text/plain": [
       "Downloading:   0%|          | 0.00/501M [00:00<?, ?B/s]"
      ]
     },
     "metadata": {},
     "output_type": "display_data"
    },
    {
     "name": "stderr",
     "output_type": "stream",
     "text": [
      "Some weights of the model checkpoint at roberta-base were not used when initializing RobertaForSequenceClassification: ['lm_head.bias', 'roberta.pooler.dense.bias', 'lm_head.decoder.weight', 'lm_head.dense.weight', 'roberta.pooler.dense.weight', 'lm_head.layer_norm.bias', 'lm_head.layer_norm.weight', 'lm_head.dense.bias']\n",
      "- This IS expected if you are initializing RobertaForSequenceClassification from the checkpoint of a model trained on another task or with another architecture (e.g. initializing a BertForSequenceClassification model from a BertForPreTraining model).\n",
      "- This IS NOT expected if you are initializing RobertaForSequenceClassification from the checkpoint of a model that you expect to be exactly identical (initializing a BertForSequenceClassification model from a BertForSequenceClassification model).\n",
      "Some weights of RobertaForSequenceClassification were not initialized from the model checkpoint at roberta-base and are newly initialized: ['classifier.out_proj.bias', 'classifier.dense.bias', 'classifier.out_proj.weight', 'classifier.dense.weight']\n",
      "You should probably TRAIN this model on a down-stream task to be able to use it for predictions and inference.\n"
     ]
    }
   ],
   "source": [
    "def load_pretrained_transformer(model_id='roberta-base'):\n",
    "    '''Load pretrained transformer with its tokeniser.\n",
    "\n",
    "    Args:\n",
    "        model_id (str, optional):\n",
    "            The transformer model to load. Defaults to 'roberta-base'.\n",
    "\n",
    "    Returns:\n",
    "        tuple:\n",
    "            A pair of the pretrained transformer and its tokeniser.\n",
    "    '''\n",
    "    # Create list of all the labels in the dataset\n",
    "    labels = ['sadness', 'joy', 'love', 'anger', 'fear', 'surprise']\n",
    "    \n",
    "    # Load model\n",
    "    config = dict(num_labels=len(labels),\n",
    "                  id2label={id:lbl for id, lbl in enumerate(labels)},\n",
    "                  label2id={lbl:id for id, lbl in enumerate(labels)})\n",
    "    config = AutoConfig.from_pretrained(model_id, **config)\n",
    "    tokeniser = AutoTokenizer.from_pretrained(model_id)\n",
    "    model = AutoModelForSequenceClassification.from_pretrained(model_id, \n",
    "                                                               config=config)\n",
    "    \n",
    "    return model, tokeniser\n",
    "\n",
    "\n",
    "tf_model, tokeniser = load_pretrained_transformer()"
   ]
  },
  {
   "cell_type": "code",
   "execution_count": null,
   "id": "aabbf5e2",
   "metadata": {},
   "outputs": [],
   "source": [
    "tf_model_2, tokeniser_2 ="
   ]
  },
  {
   "cell_type": "code",
   "execution_count": 2,
   "id": "4ca06060",
   "metadata": {},
   "outputs": [
    {
     "name": "stdout",
     "output_type": "stream",
     "text": [
      "0\n",
      "713\n",
      "19233\n",
      "5999\n",
      "16\n",
      "269\n",
      "1341\n",
      "31879\n",
      "4\n",
      "2\n"
     ]
    },
    {
     "data": {
      "text/plain": [
       "['<s>',\n",
       " 'This',\n",
       " ' token',\n",
       " 'iser',\n",
       " ' is',\n",
       " ' really',\n",
       " ' quite',\n",
       " ' extravagant',\n",
       " '.',\n",
       " '</s>']"
      ]
     },
     "execution_count": 2,
     "metadata": {},
     "output_type": "execute_result"
    }
   ],
   "source": [
    "doc = 'This tokeniser is really quite extravagant.'\n",
    "for tok in tokeniser(doc).input_ids:\n",
    "    print(tok)\n",
    "[tokeniser.decode(tok) for tok in tokeniser(doc).input_ids]"
   ]
  }
 ],
 "metadata": {
  "kernelspec": {
   "display_name": "Python 3 (ipykernel)",
   "language": "python",
   "name": "python3"
  },
  "language_info": {
   "codemirror_mode": {
    "name": "ipython",
    "version": 3
   },
   "file_extension": ".py",
   "mimetype": "text/x-python",
   "name": "python",
   "nbconvert_exporter": "python",
   "pygments_lexer": "ipython3",
   "version": "3.10.4"
  }
 },
 "nbformat": 4,
 "nbformat_minor": 5
}
