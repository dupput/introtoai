{
 "cells": [
  {
   "cell_type": "code",
   "execution_count": 1,
   "id": "ea4ab9fe",
   "metadata": {},
   "outputs": [],
   "source": [
    "import pandas as pd"
   ]
  },
  {
   "cell_type": "code",
   "execution_count": 2,
   "id": "2f6e5676",
   "metadata": {},
   "outputs": [
    {
     "name": "stdout",
     "output_type": "stream",
     "text": [
      "Loaded 16,000 train samples, 2,000 validation samples and 2,000 test samples.\n"
     ]
    },
    {
     "data": {
      "text/html": [
       "<div>\n",
       "<style scoped>\n",
       "    .dataframe tbody tr th:only-of-type {\n",
       "        vertical-align: middle;\n",
       "    }\n",
       "\n",
       "    .dataframe tbody tr th {\n",
       "        vertical-align: top;\n",
       "    }\n",
       "\n",
       "    .dataframe thead th {\n",
       "        text-align: right;\n",
       "    }\n",
       "</style>\n",
       "<table border=\"1\" class=\"dataframe\">\n",
       "  <thead>\n",
       "    <tr style=\"text-align: right;\">\n",
       "      <th></th>\n",
       "      <th>text</th>\n",
       "      <th>label_description</th>\n",
       "      <th>label</th>\n",
       "    </tr>\n",
       "  </thead>\n",
       "  <tbody>\n",
       "    <tr>\n",
       "      <th>0</th>\n",
       "      <td>im feeling rather rotten so im not very ambiti...</td>\n",
       "      <td>sadness</td>\n",
       "      <td>0</td>\n",
       "    </tr>\n",
       "    <tr>\n",
       "      <th>1</th>\n",
       "      <td>im updating my blog because i feel shitty</td>\n",
       "      <td>sadness</td>\n",
       "      <td>0</td>\n",
       "    </tr>\n",
       "    <tr>\n",
       "      <th>2</th>\n",
       "      <td>i never make her separate from me because i do...</td>\n",
       "      <td>sadness</td>\n",
       "      <td>0</td>\n",
       "    </tr>\n",
       "    <tr>\n",
       "      <th>3</th>\n",
       "      <td>i left with my bouquet of red and yellow tulip...</td>\n",
       "      <td>joy</td>\n",
       "      <td>1</td>\n",
       "    </tr>\n",
       "    <tr>\n",
       "      <th>4</th>\n",
       "      <td>i was feeling a little vain when i did this one</td>\n",
       "      <td>sadness</td>\n",
       "      <td>0</td>\n",
       "    </tr>\n",
       "  </tbody>\n",
       "</table>\n",
       "</div>"
      ],
      "text/plain": [
       "                                                text label_description  label\n",
       "0  im feeling rather rotten so im not very ambiti...           sadness      0\n",
       "1          im updating my blog because i feel shitty           sadness      0\n",
       "2  i never make her separate from me because i do...           sadness      0\n",
       "3  i left with my bouquet of red and yellow tulip...               joy      1\n",
       "4    i was feeling a little vain when i did this one           sadness      0"
      ]
     },
     "execution_count": 2,
     "metadata": {},
     "output_type": "execute_result"
    }
   ],
   "source": [
    "labels = ['sadness', 'joy', 'love', 'anger', 'fear', 'surprise']\n",
    "\n",
    "# Extract the DataFrames\n",
    "train = pd.read_csv('train.csv', delimiter=';')\n",
    "train['label'] = train['label_description'].map({label: i for i, label in enumerate(labels)})\n",
    "\n",
    "val = pd.read_csv('val.csv', delimiter=';')\n",
    "val['label'] = val['label_description'].map({label: i for i, label in enumerate(labels)})\n",
    "\n",
    "test = pd.read_csv('test.csv', delimiter=';')\n",
    "test['label'] = test['label_description'].map({label: i for i, label in enumerate(labels)})\n",
    "    \n",
    "print(f'Loaded {len(train):,} train samples, {len(val):,} validation samples and {len(test):,} test samples.')\n",
    "test.head()"
   ]
  },
  {
   "cell_type": "code",
   "execution_count": 6,
   "id": "ab4b2bc1",
   "metadata": {},
   "outputs": [],
   "source": [
    "from sklearn.feature_extraction.text import TfidfVectorizer\n",
    "\n",
    "def fit_tfidf(corpus, **tfidf_params):\n",
    "    '''Fit a TF-IDF model on a corpus.\n",
    "    \n",
    "    This computes the vocabulary and stores all the\n",
    "    document frequencies in the class.\n",
    "    \n",
    "    Args:\n",
    "        corpus (list of str):\n",
    "            The corpus on which the TF-IDF model will\n",
    "            be fitted.\n",
    "        **tfidf_params:\n",
    "            Extra keyword parameters to include in the TF-IDF model.\n",
    "            \n",
    "    Returns:\n",
    "        TfidfVectorizer:\n",
    "            The fitted TF-IDF model.\n",
    "    '''\n",
    "\n",
    "    # Initialise the class computing the TF-IDF embeddings\n",
    "    tfidf = TfidfVectorizer(**tfidf_params)\n",
    "\n",
    "    # Fit model to text\n",
    "    tfidf.fit(corpus)\n",
    "    \n",
    "    # Return the fitted TF-IDF model\n",
    "    return tfidf\n",
    "\n",
    "tfidf = fit_tfidf(train.text)"
   ]
  },
  {
   "cell_type": "code",
   "execution_count": 7,
   "id": "14de0370",
   "metadata": {},
   "outputs": [
    {
     "ename": "NameError",
     "evalue": "name 'LogisticRegression' is not defined",
     "output_type": "error",
     "traceback": [
      "\u001b[1;31m----------------------------------------------------------------\u001b[0m",
      "\u001b[1;31mNameError\u001b[0m                      Traceback (most recent call last)",
      "Cell \u001b[1;32mIn [7], line 38\u001b[0m\n\u001b[0;32m     35\u001b[0m     \u001b[38;5;66;03m# Return the trained model\u001b[39;00m\n\u001b[0;32m     36\u001b[0m     \u001b[38;5;28;01mreturn\u001b[39;00m model\n\u001b[1;32m---> 38\u001b[0m model \u001b[38;5;241m=\u001b[39m \u001b[43mtfidf_train_model\u001b[49m\u001b[43m(\u001b[49m\u001b[43mtfidf_model\u001b[49m\u001b[38;5;241;43m=\u001b[39;49m\u001b[43mtfidf\u001b[49m\u001b[43m,\u001b[49m\u001b[43m \u001b[49m\u001b[43mtrain_dataset\u001b[49m\u001b[38;5;241;43m=\u001b[39;49m\u001b[43mtrain\u001b[49m\u001b[43m,\u001b[49m\u001b[43m \u001b[49m\u001b[43mval_dataset\u001b[49m\u001b[38;5;241;43m=\u001b[39;49m\u001b[43mval\u001b[49m\u001b[43m)\u001b[49m\n",
      "Cell \u001b[1;32mIn [7], line 24\u001b[0m, in \u001b[0;36mtfidf_train_model\u001b[1;34m(tfidf_model, train_dataset, val_dataset)\u001b[0m\n\u001b[0;32m     21\u001b[0m tfidf_embeddings_val \u001b[38;5;241m=\u001b[39m tfidf_model\u001b[38;5;241m.\u001b[39mtransform(val_dataset\u001b[38;5;241m.\u001b[39mtext)\n\u001b[0;32m     23\u001b[0m \u001b[38;5;66;03m# Define the model\u001b[39;00m\n\u001b[1;32m---> 24\u001b[0m model \u001b[38;5;241m=\u001b[39m \u001b[43mLogisticRegression\u001b[49m(max_iter\u001b[38;5;241m=\u001b[39m\u001b[38;5;241m1_000\u001b[39m)\n\u001b[0;32m     26\u001b[0m \u001b[38;5;66;03m# Train the model\u001b[39;00m\n\u001b[0;32m     27\u001b[0m model\u001b[38;5;241m.\u001b[39mfit(tfidf_embeddings_train, train_dataset\u001b[38;5;241m.\u001b[39mlabel)\n",
      "\u001b[1;31mNameError\u001b[0m: name 'LogisticRegression' is not defined"
     ]
    }
   ],
   "source": [
    "def tfidf_train_model(tfidf_model, train_dataset, val_dataset):\n",
    "    '''Trains a logistic regression model on a TF-IDF embedded corpus.\n",
    "    \n",
    "    Args:\n",
    "        tfidf_model (TfidfVectorizer):\n",
    "            The fitted TF-IDF model.\n",
    "        train_dataset (Pandas DataFrame):\n",
    "            The dataset on which to train the logistic regression \n",
    "            model. Must have a 'text' and 'label' column.\n",
    "        val_dataset (Pandas DataFrame):\n",
    "            The dataset on which to evaluate the logistic regression \n",
    "            model. Must have a 'text' and 'label' column.\n",
    "            \n",
    "    Returns:\n",
    "        LogisticRegression:\n",
    "            The trained model.\n",
    "    '''\n",
    "    tfidf_embeddings_train = tfidf_model.transform(train_dataset.text)\n",
    "    tfidf_embeddings_val = tfidf_model.transform(val_dataset.text)\n",
    "    \n",
    "    # Define the model\n",
    "    model = LogisticRegression(max_iter=1_000)\n",
    "    \n",
    "    # Train the model\n",
    "    model.fit(tfidf_embeddings_train, train_dataset.label)\n",
    "    \n",
    "    # Evaluate the model on the validation set.\n",
    "    predictions = model.predict(tfidf_embeddings_val)\n",
    "    val_balanced_acc = balanced_accuracy_score(val_dataset.label, predictions)\n",
    "    print(f'The model achieved a {100 * val_balanced_acc:.2f}% '\n",
    "          f'balanced accuracy on the validation set.')\n",
    "    \n",
    "    # Return the trained model\n",
    "    return model\n",
    "\n",
    "model = tfidf_train_model(tfidf_model=tfidf, train_dataset=train, val_dataset=val)"
   ]
  }
 ],
 "metadata": {
  "kernelspec": {
   "display_name": "Python 3 (ipykernel)",
   "language": "python",
   "name": "python3"
  },
  "language_info": {
   "codemirror_mode": {
    "name": "ipython",
    "version": 3
   },
   "file_extension": ".py",
   "mimetype": "text/x-python",
   "name": "python",
   "nbconvert_exporter": "python",
   "pygments_lexer": "ipython3",
   "version": "3.10.4"
  }
 },
 "nbformat": 4,
 "nbformat_minor": 5
}
