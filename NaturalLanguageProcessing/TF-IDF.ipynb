{
 "cells": [
  {
   "cell_type": "code",
   "execution_count": 10,
   "id": "ea4ab9fe",
   "metadata": {},
   "outputs": [],
   "source": [
    "import pandas as pd\n",
    "from sklearn.linear_model import LogisticRegression\n",
    "from sklearn.feature_extraction.text import TfidfVectorizer\n",
    "from sklearn.metrics import balanced_accuracy_score"
   ]
  },
  {
   "cell_type": "code",
   "execution_count": 2,
   "id": "edba93df",
   "metadata": {},
   "outputs": [
    {
     "name": "stdout",
     "output_type": "stream",
     "text": [
      "Loaded 16,000 train samples, 2,000 validation samples and 2,000 test samples.\n"
     ]
    },
    {
     "data": {
      "text/html": [
       "<div>\n",
       "<style scoped>\n",
       "    .dataframe tbody tr th:only-of-type {\n",
       "        vertical-align: middle;\n",
       "    }\n",
       "\n",
       "    .dataframe tbody tr th {\n",
       "        vertical-align: top;\n",
       "    }\n",
       "\n",
       "    .dataframe thead th {\n",
       "        text-align: right;\n",
       "    }\n",
       "</style>\n",
       "<table border=\"1\" class=\"dataframe\">\n",
       "  <thead>\n",
       "    <tr style=\"text-align: right;\">\n",
       "      <th></th>\n",
       "      <th>text</th>\n",
       "      <th>label_description</th>\n",
       "      <th>label</th>\n",
       "    </tr>\n",
       "  </thead>\n",
       "  <tbody>\n",
       "    <tr>\n",
       "      <th>0</th>\n",
       "      <td>im feeling rather rotten so im not very ambiti...</td>\n",
       "      <td>sadness</td>\n",
       "      <td>0</td>\n",
       "    </tr>\n",
       "    <tr>\n",
       "      <th>1</th>\n",
       "      <td>im updating my blog because i feel shitty</td>\n",
       "      <td>sadness</td>\n",
       "      <td>0</td>\n",
       "    </tr>\n",
       "    <tr>\n",
       "      <th>2</th>\n",
       "      <td>i never make her separate from me because i do...</td>\n",
       "      <td>sadness</td>\n",
       "      <td>0</td>\n",
       "    </tr>\n",
       "    <tr>\n",
       "      <th>3</th>\n",
       "      <td>i left with my bouquet of red and yellow tulip...</td>\n",
       "      <td>joy</td>\n",
       "      <td>1</td>\n",
       "    </tr>\n",
       "    <tr>\n",
       "      <th>4</th>\n",
       "      <td>i was feeling a little vain when i did this one</td>\n",
       "      <td>sadness</td>\n",
       "      <td>0</td>\n",
       "    </tr>\n",
       "  </tbody>\n",
       "</table>\n",
       "</div>"
      ],
      "text/plain": [
       "                                                text label_description  label\n",
       "0  im feeling rather rotten so im not very ambiti...           sadness      0\n",
       "1          im updating my blog because i feel shitty           sadness      0\n",
       "2  i never make her separate from me because i do...           sadness      0\n",
       "3  i left with my bouquet of red and yellow tulip...               joy      1\n",
       "4    i was feeling a little vain when i did this one           sadness      0"
      ]
     },
     "execution_count": 2,
     "metadata": {},
     "output_type": "execute_result"
    }
   ],
   "source": [
    "labels = ['sadness', 'joy', 'love', 'anger', 'fear', 'surprise']\n",
    "\n",
    "# Extract the DataFrames\n",
    "train = pd.read_csv('train.csv', delimiter=';')\n",
    "train['label'] = train['label_description'].map({label: i for i, label in enumerate(labels)})\n",
    "\n",
    "val = pd.read_csv('val.csv', delimiter=';')\n",
    "val['label'] = val['label_description'].map({label: i for i, label in enumerate(labels)})\n",
    "\n",
    "test = pd.read_csv('test.csv', delimiter=';')\n",
    "test['label'] = test['label_description'].map({label: i for i, label in enumerate(labels)})\n",
    "    \n",
    "print(f'Loaded {len(train):,} train samples, {len(val):,} validation samples and {len(test):,} test samples.')\n",
    "test.head()"
   ]
  },
  {
   "cell_type": "code",
   "execution_count": 12,
   "id": "e3414761",
   "metadata": {},
   "outputs": [],
   "source": [
    "def fit_tfidf(corpus, **tfidf_params):\n",
    "    '''Fit a TF-IDF model on a corpus.\n",
    "    \n",
    "    This computes the vocabulary and stores all the\n",
    "    document frequencies in the class.\n",
    "    \n",
    "    Args:\n",
    "        corpus (list of str):\n",
    "            The corpus on which the TF-IDF model will\n",
    "            be fitted.\n",
    "        **tfidf_params:\n",
    "            Extra keyword parameters to include in the TF-IDF model.\n",
    "            \n",
    "    Returns:\n",
    "        TfidfVectorizer:\n",
    "            The fitted TF-IDF model.\n",
    "    '''\n",
    "\n",
    "    # Initialise the class computing the TF-IDF embeddings\n",
    "    tfidf = TfidfVectorizer(**tfidf_params)\n",
    "\n",
    "    # Fit model to text\n",
    "    tfidf.fit(corpus)\n",
    "    \n",
    "    # Return the fitted TF-IDF model\n",
    "    return tfidf\n",
    "\n",
    "# norm=None prevents normalisation occuring\n",
    "# max_df=0.1 ignores words occuring in more than 10% of the documents\n",
    "tfidf = fit_tfidf(train.text, norm=None, max_df=0.1)"
   ]
  },
  {
   "cell_type": "code",
   "execution_count": 13,
   "id": "67f67916",
   "metadata": {},
   "outputs": [
    {
     "name": "stdout",
     "output_type": "stream",
     "text": [
      "The model achieved a 83.70% balanced accuracy on the validation set.\n"
     ]
    }
   ],
   "source": [
    "def tfidf_train_model(tfidf_model, train_dataset, val_dataset):\n",
    "    '''Trains a logistic regression model on a TF-IDF embedded corpus.\n",
    "    \n",
    "    Args:\n",
    "        tfidf_model (TfidfVectorizer):\n",
    "            The fitted TF-IDF model.\n",
    "        train_dataset (Pandas DataFrame):\n",
    "            The dataset on which to train the logistic regression \n",
    "            model. Must have a 'text' and 'label' column.\n",
    "        val_dataset (Pandas DataFrame):\n",
    "            The dataset on which to evaluate the logistic regression \n",
    "            model. Must have a 'text' and 'label' column.\n",
    "            \n",
    "    Returns:\n",
    "        LogisticRegression:\n",
    "            The trained model.\n",
    "    '''\n",
    "    tfidf_embeddings_train = tfidf_model.transform(train_dataset.text)\n",
    "    tfidf_embeddings_val = tfidf_model.transform(val_dataset.text)\n",
    "    \n",
    "    # Define the model\n",
    "    model = LogisticRegression(max_iter=1_000)\n",
    "    \n",
    "    # Train the model\n",
    "    model.fit(tfidf_embeddings_train, train_dataset.label)\n",
    "    \n",
    "    # Evaluate the model on the validation set.\n",
    "    predictions = model.predict(tfidf_embeddings_val)\n",
    "    val_balanced_acc = balanced_accuracy_score(val_dataset.label, predictions)\n",
    "    print(f'The model achieved a {100 * val_balanced_acc:.2f}% '\n",
    "          f'balanced accuracy on the validation set.')\n",
    "    \n",
    "    # Return the trained model\n",
    "    return model\n",
    "\n",
    "model = tfidf_train_model(tfidf_model=tfidf, train_dataset=train, val_dataset=val)"
   ]
  }
 ],
 "metadata": {
  "kernelspec": {
   "display_name": "Python 3 (ipykernel)",
   "language": "python",
   "name": "python3"
  },
  "language_info": {
   "codemirror_mode": {
    "name": "ipython",
    "version": 3
   },
   "file_extension": ".py",
   "mimetype": "text/x-python",
   "name": "python",
   "nbconvert_exporter": "python",
   "pygments_lexer": "ipython3",
   "version": "3.10.4"
  }
 },
 "nbformat": 4,
 "nbformat_minor": 5
}
