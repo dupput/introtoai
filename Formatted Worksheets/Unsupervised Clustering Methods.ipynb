{
 "cells": [
  {
   "cell_type": "markdown",
   "metadata": {
    "id": "YdRJKkHUSWgc"
   },
   "source": [
    "### EMAT31530 Worksheet 4 Unsupervised Learning\n",
    "\n",
    "In this worksheet we will explore the use of different clustering algorithms on data, and how we can utilize dimensionality reduction techinqiues to visualise data and the resulting clusters."
   ]
  },
  {
   "cell_type": "markdown",
   "metadata": {},
   "source": [
    "# Digits dataset\n",
    "\n",
    "Can we visualise our data? This isn't so straightforward, as our data is 64-dimensional. Rarely will you be working with data in 2 dimensions (or 3) and thus can be directly visualised. There is, however, something we can do to work around that, which we will get to soon. However, ultimatately, while visualisation is useful, we often want to know how good our clusters are quantitatively. \n",
    "\n",
    "There are a number of different metrics for assessing the performance of a cluster. One that is often used is known as the 'normalised mutual information' (NMI) score.\n",
    "\n",
    "The Normalized Mutual Information (NMI) can be viewed as a normalization of the mutual information to scale the results between 0 and 1, where 0 has no mutual information and 1 is perfect correlation. More concretely, NMI is defined as:\n",
    "\n",
    "\\begin{equation}\n",
    "NMI = \\frac{\n",
    "2I(y, c)}{[H(y)+ H(c)]}\n",
    "\\end{equation}\n",
    "where $y$ are the ground truth labels, $c$ are the cluster labels (cluster assignments for each point), $H$ measures the entropy, and $I$ is the mutual information between the ground truth labels and the cluster labels.\n",
    "\n",
    "Larger values indicate a better clustering. If every datapoint was assigned to the correct cluster, then the NMI would be 1."
   ]
  },
  {
   "cell_type": "markdown",
   "metadata": {},
   "source": []
  },
  {
   "cell_type": "code",
   "execution_count": 88,
   "metadata": {
    "id": "s7ZmSqjWQoKx"
   },
   "outputs": [],
   "source": [
    "from sklearn import datasets\n",
    "digits = datasets.load_digits()\n",
    "\n",
    "X = digits.data\n",
    "y = digits.target"
   ]
  },
  {
   "cell_type": "code",
   "execution_count": 89,
   "metadata": {
    "colab": {
     "base_uri": "https://localhost:8080/",
     "height": 316
    },
    "id": "eKLueCmaqmvX",
    "outputId": "a0fe37b3-3cbd-4fef-c0bf-d7cc4945758b"
   },
   "outputs": [
    {
     "name": "stdout",
     "output_type": "stream",
     "text": [
      "Each digit is a vector of length 64\n",
      "However, we can reshape it such that it is a 8 x 8 image, which we can view\n"
     ]
    },
    {
     "data": {
      "application/vnd.plotly.v1+json": {
       "config": {
        "plotlyServerURL": "https://plot.ly"
       },
       "data": [
        {
         "hovertemplate": "x: %{x}<br>y: %{y}<extra></extra>",
         "name": "0",
         "source": "data:image/png;base64,iVBORw0KGgoAAAANSUhEUgAAAAgAAAAICAAAAADhZOFXAAAAQUlEQVR4XgXBARGAIBAAsB0NvgIVyEIFs1jBClTQCBIBIkgE3FDHFWDstivKzu5TEn3qJPEQJKuIspC/2l5wjIYfyAoS2F8ljZwAAAAASUVORK5CYII=",
         "type": "image",
         "xaxis": "x",
         "yaxis": "y"
        }
       ],
       "layout": {
        "margin": {
         "t": 60
        },
        "template": {
         "data": {
          "bar": [
           {
            "error_x": {
             "color": "#2a3f5f"
            },
            "error_y": {
             "color": "#2a3f5f"
            },
            "marker": {
             "line": {
              "color": "#E5ECF6",
              "width": 0.5
             },
             "pattern": {
              "fillmode": "overlay",
              "size": 10,
              "solidity": 0.2
             }
            },
            "type": "bar"
           }
          ],
          "barpolar": [
           {
            "marker": {
             "line": {
              "color": "#E5ECF6",
              "width": 0.5
             },
             "pattern": {
              "fillmode": "overlay",
              "size": 10,
              "solidity": 0.2
             }
            },
            "type": "barpolar"
           }
          ],
          "carpet": [
           {
            "aaxis": {
             "endlinecolor": "#2a3f5f",
             "gridcolor": "white",
             "linecolor": "white",
             "minorgridcolor": "white",
             "startlinecolor": "#2a3f5f"
            },
            "baxis": {
             "endlinecolor": "#2a3f5f",
             "gridcolor": "white",
             "linecolor": "white",
             "minorgridcolor": "white",
             "startlinecolor": "#2a3f5f"
            },
            "type": "carpet"
           }
          ],
          "choropleth": [
           {
            "colorbar": {
             "outlinewidth": 0,
             "ticks": ""
            },
            "type": "choropleth"
           }
          ],
          "contour": [
           {
            "colorbar": {
             "outlinewidth": 0,
             "ticks": ""
            },
            "colorscale": [
             [
              0,
              "#0d0887"
             ],
             [
              0.1111111111111111,
              "#46039f"
             ],
             [
              0.2222222222222222,
              "#7201a8"
             ],
             [
              0.3333333333333333,
              "#9c179e"
             ],
             [
              0.4444444444444444,
              "#bd3786"
             ],
             [
              0.5555555555555556,
              "#d8576b"
             ],
             [
              0.6666666666666666,
              "#ed7953"
             ],
             [
              0.7777777777777778,
              "#fb9f3a"
             ],
             [
              0.8888888888888888,
              "#fdca26"
             ],
             [
              1,
              "#f0f921"
             ]
            ],
            "type": "contour"
           }
          ],
          "contourcarpet": [
           {
            "colorbar": {
             "outlinewidth": 0,
             "ticks": ""
            },
            "type": "contourcarpet"
           }
          ],
          "heatmap": [
           {
            "colorbar": {
             "outlinewidth": 0,
             "ticks": ""
            },
            "colorscale": [
             [
              0,
              "#0d0887"
             ],
             [
              0.1111111111111111,
              "#46039f"
             ],
             [
              0.2222222222222222,
              "#7201a8"
             ],
             [
              0.3333333333333333,
              "#9c179e"
             ],
             [
              0.4444444444444444,
              "#bd3786"
             ],
             [
              0.5555555555555556,
              "#d8576b"
             ],
             [
              0.6666666666666666,
              "#ed7953"
             ],
             [
              0.7777777777777778,
              "#fb9f3a"
             ],
             [
              0.8888888888888888,
              "#fdca26"
             ],
             [
              1,
              "#f0f921"
             ]
            ],
            "type": "heatmap"
           }
          ],
          "heatmapgl": [
           {
            "colorbar": {
             "outlinewidth": 0,
             "ticks": ""
            },
            "colorscale": [
             [
              0,
              "#0d0887"
             ],
             [
              0.1111111111111111,
              "#46039f"
             ],
             [
              0.2222222222222222,
              "#7201a8"
             ],
             [
              0.3333333333333333,
              "#9c179e"
             ],
             [
              0.4444444444444444,
              "#bd3786"
             ],
             [
              0.5555555555555556,
              "#d8576b"
             ],
             [
              0.6666666666666666,
              "#ed7953"
             ],
             [
              0.7777777777777778,
              "#fb9f3a"
             ],
             [
              0.8888888888888888,
              "#fdca26"
             ],
             [
              1,
              "#f0f921"
             ]
            ],
            "type": "heatmapgl"
           }
          ],
          "histogram": [
           {
            "marker": {
             "pattern": {
              "fillmode": "overlay",
              "size": 10,
              "solidity": 0.2
             }
            },
            "type": "histogram"
           }
          ],
          "histogram2d": [
           {
            "colorbar": {
             "outlinewidth": 0,
             "ticks": ""
            },
            "colorscale": [
             [
              0,
              "#0d0887"
             ],
             [
              0.1111111111111111,
              "#46039f"
             ],
             [
              0.2222222222222222,
              "#7201a8"
             ],
             [
              0.3333333333333333,
              "#9c179e"
             ],
             [
              0.4444444444444444,
              "#bd3786"
             ],
             [
              0.5555555555555556,
              "#d8576b"
             ],
             [
              0.6666666666666666,
              "#ed7953"
             ],
             [
              0.7777777777777778,
              "#fb9f3a"
             ],
             [
              0.8888888888888888,
              "#fdca26"
             ],
             [
              1,
              "#f0f921"
             ]
            ],
            "type": "histogram2d"
           }
          ],
          "histogram2dcontour": [
           {
            "colorbar": {
             "outlinewidth": 0,
             "ticks": ""
            },
            "colorscale": [
             [
              0,
              "#0d0887"
             ],
             [
              0.1111111111111111,
              "#46039f"
             ],
             [
              0.2222222222222222,
              "#7201a8"
             ],
             [
              0.3333333333333333,
              "#9c179e"
             ],
             [
              0.4444444444444444,
              "#bd3786"
             ],
             [
              0.5555555555555556,
              "#d8576b"
             ],
             [
              0.6666666666666666,
              "#ed7953"
             ],
             [
              0.7777777777777778,
              "#fb9f3a"
             ],
             [
              0.8888888888888888,
              "#fdca26"
             ],
             [
              1,
              "#f0f921"
             ]
            ],
            "type": "histogram2dcontour"
           }
          ],
          "mesh3d": [
           {
            "colorbar": {
             "outlinewidth": 0,
             "ticks": ""
            },
            "type": "mesh3d"
           }
          ],
          "parcoords": [
           {
            "line": {
             "colorbar": {
              "outlinewidth": 0,
              "ticks": ""
             }
            },
            "type": "parcoords"
           }
          ],
          "pie": [
           {
            "automargin": true,
            "type": "pie"
           }
          ],
          "scatter": [
           {
            "fillpattern": {
             "fillmode": "overlay",
             "size": 10,
             "solidity": 0.2
            },
            "type": "scatter"
           }
          ],
          "scatter3d": [
           {
            "line": {
             "colorbar": {
              "outlinewidth": 0,
              "ticks": ""
             }
            },
            "marker": {
             "colorbar": {
              "outlinewidth": 0,
              "ticks": ""
             }
            },
            "type": "scatter3d"
           }
          ],
          "scattercarpet": [
           {
            "marker": {
             "colorbar": {
              "outlinewidth": 0,
              "ticks": ""
             }
            },
            "type": "scattercarpet"
           }
          ],
          "scattergeo": [
           {
            "marker": {
             "colorbar": {
              "outlinewidth": 0,
              "ticks": ""
             }
            },
            "type": "scattergeo"
           }
          ],
          "scattergl": [
           {
            "marker": {
             "colorbar": {
              "outlinewidth": 0,
              "ticks": ""
             }
            },
            "type": "scattergl"
           }
          ],
          "scattermapbox": [
           {
            "marker": {
             "colorbar": {
              "outlinewidth": 0,
              "ticks": ""
             }
            },
            "type": "scattermapbox"
           }
          ],
          "scatterpolar": [
           {
            "marker": {
             "colorbar": {
              "outlinewidth": 0,
              "ticks": ""
             }
            },
            "type": "scatterpolar"
           }
          ],
          "scatterpolargl": [
           {
            "marker": {
             "colorbar": {
              "outlinewidth": 0,
              "ticks": ""
             }
            },
            "type": "scatterpolargl"
           }
          ],
          "scatterternary": [
           {
            "marker": {
             "colorbar": {
              "outlinewidth": 0,
              "ticks": ""
             }
            },
            "type": "scatterternary"
           }
          ],
          "surface": [
           {
            "colorbar": {
             "outlinewidth": 0,
             "ticks": ""
            },
            "colorscale": [
             [
              0,
              "#0d0887"
             ],
             [
              0.1111111111111111,
              "#46039f"
             ],
             [
              0.2222222222222222,
              "#7201a8"
             ],
             [
              0.3333333333333333,
              "#9c179e"
             ],
             [
              0.4444444444444444,
              "#bd3786"
             ],
             [
              0.5555555555555556,
              "#d8576b"
             ],
             [
              0.6666666666666666,
              "#ed7953"
             ],
             [
              0.7777777777777778,
              "#fb9f3a"
             ],
             [
              0.8888888888888888,
              "#fdca26"
             ],
             [
              1,
              "#f0f921"
             ]
            ],
            "type": "surface"
           }
          ],
          "table": [
           {
            "cells": {
             "fill": {
              "color": "#EBF0F8"
             },
             "line": {
              "color": "white"
             }
            },
            "header": {
             "fill": {
              "color": "#C8D4E3"
             },
             "line": {
              "color": "white"
             }
            },
            "type": "table"
           }
          ]
         },
         "layout": {
          "annotationdefaults": {
           "arrowcolor": "#2a3f5f",
           "arrowhead": 0,
           "arrowwidth": 1
          },
          "autotypenumbers": "strict",
          "coloraxis": {
           "colorbar": {
            "outlinewidth": 0,
            "ticks": ""
           }
          },
          "colorscale": {
           "diverging": [
            [
             0,
             "#8e0152"
            ],
            [
             0.1,
             "#c51b7d"
            ],
            [
             0.2,
             "#de77ae"
            ],
            [
             0.3,
             "#f1b6da"
            ],
            [
             0.4,
             "#fde0ef"
            ],
            [
             0.5,
             "#f7f7f7"
            ],
            [
             0.6,
             "#e6f5d0"
            ],
            [
             0.7,
             "#b8e186"
            ],
            [
             0.8,
             "#7fbc41"
            ],
            [
             0.9,
             "#4d9221"
            ],
            [
             1,
             "#276419"
            ]
           ],
           "sequential": [
            [
             0,
             "#0d0887"
            ],
            [
             0.1111111111111111,
             "#46039f"
            ],
            [
             0.2222222222222222,
             "#7201a8"
            ],
            [
             0.3333333333333333,
             "#9c179e"
            ],
            [
             0.4444444444444444,
             "#bd3786"
            ],
            [
             0.5555555555555556,
             "#d8576b"
            ],
            [
             0.6666666666666666,
             "#ed7953"
            ],
            [
             0.7777777777777778,
             "#fb9f3a"
            ],
            [
             0.8888888888888888,
             "#fdca26"
            ],
            [
             1,
             "#f0f921"
            ]
           ],
           "sequentialminus": [
            [
             0,
             "#0d0887"
            ],
            [
             0.1111111111111111,
             "#46039f"
            ],
            [
             0.2222222222222222,
             "#7201a8"
            ],
            [
             0.3333333333333333,
             "#9c179e"
            ],
            [
             0.4444444444444444,
             "#bd3786"
            ],
            [
             0.5555555555555556,
             "#d8576b"
            ],
            [
             0.6666666666666666,
             "#ed7953"
            ],
            [
             0.7777777777777778,
             "#fb9f3a"
            ],
            [
             0.8888888888888888,
             "#fdca26"
            ],
            [
             1,
             "#f0f921"
            ]
           ]
          },
          "colorway": [
           "#636efa",
           "#EF553B",
           "#00cc96",
           "#ab63fa",
           "#FFA15A",
           "#19d3f3",
           "#FF6692",
           "#B6E880",
           "#FF97FF",
           "#FECB52"
          ],
          "font": {
           "color": "#2a3f5f"
          },
          "geo": {
           "bgcolor": "white",
           "lakecolor": "white",
           "landcolor": "#E5ECF6",
           "showlakes": true,
           "showland": true,
           "subunitcolor": "white"
          },
          "hoverlabel": {
           "align": "left"
          },
          "hovermode": "closest",
          "mapbox": {
           "style": "light"
          },
          "paper_bgcolor": "white",
          "plot_bgcolor": "#E5ECF6",
          "polar": {
           "angularaxis": {
            "gridcolor": "white",
            "linecolor": "white",
            "ticks": ""
           },
           "bgcolor": "#E5ECF6",
           "radialaxis": {
            "gridcolor": "white",
            "linecolor": "white",
            "ticks": ""
           }
          },
          "scene": {
           "xaxis": {
            "backgroundcolor": "#E5ECF6",
            "gridcolor": "white",
            "gridwidth": 2,
            "linecolor": "white",
            "showbackground": true,
            "ticks": "",
            "zerolinecolor": "white"
           },
           "yaxis": {
            "backgroundcolor": "#E5ECF6",
            "gridcolor": "white",
            "gridwidth": 2,
            "linecolor": "white",
            "showbackground": true,
            "ticks": "",
            "zerolinecolor": "white"
           },
           "zaxis": {
            "backgroundcolor": "#E5ECF6",
            "gridcolor": "white",
            "gridwidth": 2,
            "linecolor": "white",
            "showbackground": true,
            "ticks": "",
            "zerolinecolor": "white"
           }
          },
          "shapedefaults": {
           "line": {
            "color": "#2a3f5f"
           }
          },
          "ternary": {
           "aaxis": {
            "gridcolor": "white",
            "linecolor": "white",
            "ticks": ""
           },
           "baxis": {
            "gridcolor": "white",
            "linecolor": "white",
            "ticks": ""
           },
           "bgcolor": "#E5ECF6",
           "caxis": {
            "gridcolor": "white",
            "linecolor": "white",
            "ticks": ""
           }
          },
          "title": {
           "x": 0.05
          },
          "xaxis": {
           "automargin": true,
           "gridcolor": "white",
           "linecolor": "white",
           "ticks": "",
           "title": {
            "standoff": 15
           },
           "zerolinecolor": "white",
           "zerolinewidth": 2
          },
          "yaxis": {
           "automargin": true,
           "gridcolor": "white",
           "linecolor": "white",
           "ticks": "",
           "title": {
            "standoff": 15
           },
           "zerolinecolor": "white",
           "zerolinewidth": 2
          }
         }
        },
        "xaxis": {
         "anchor": "y",
         "domain": [
          0,
          1
         ]
        },
        "yaxis": {
         "anchor": "x",
         "domain": [
          0,
          1
         ]
        }
       }
      },
      "text/html": [
       "<div>                            <div id=\"f8f63e69-e574-44b4-9e8b-ec480cc5b129\" class=\"plotly-graph-div\" style=\"height:525px; width:100%;\"></div>            <script type=\"text/javascript\">                require([\"plotly\"], function(Plotly) {                    window.PLOTLYENV=window.PLOTLYENV || {};                                    if (document.getElementById(\"f8f63e69-e574-44b4-9e8b-ec480cc5b129\")) {                    Plotly.newPlot(                        \"f8f63e69-e574-44b4-9e8b-ec480cc5b129\",                        [{\"name\":\"0\",\"source\":\"data:image/png;base64,iVBORw0KGgoAAAANSUhEUgAAAAgAAAAICAAAAADhZOFXAAAAQUlEQVR4XgXBARGAIBAAsB0NvgIVyEIFs1jBClTQCBIBIkgE3FDHFWDstivKzu5TEn3qJPEQJKuIspC/2l5wjIYfyAoS2F8ljZwAAAAASUVORK5CYII=\",\"type\":\"image\",\"xaxis\":\"x\",\"yaxis\":\"y\",\"hovertemplate\":\"x: %{x}<br>y: %{y}<extra></extra>\"}],                        {\"template\":{\"data\":{\"histogram2dcontour\":[{\"type\":\"histogram2dcontour\",\"colorbar\":{\"outlinewidth\":0,\"ticks\":\"\"},\"colorscale\":[[0.0,\"#0d0887\"],[0.1111111111111111,\"#46039f\"],[0.2222222222222222,\"#7201a8\"],[0.3333333333333333,\"#9c179e\"],[0.4444444444444444,\"#bd3786\"],[0.5555555555555556,\"#d8576b\"],[0.6666666666666666,\"#ed7953\"],[0.7777777777777778,\"#fb9f3a\"],[0.8888888888888888,\"#fdca26\"],[1.0,\"#f0f921\"]]}],\"choropleth\":[{\"type\":\"choropleth\",\"colorbar\":{\"outlinewidth\":0,\"ticks\":\"\"}}],\"histogram2d\":[{\"type\":\"histogram2d\",\"colorbar\":{\"outlinewidth\":0,\"ticks\":\"\"},\"colorscale\":[[0.0,\"#0d0887\"],[0.1111111111111111,\"#46039f\"],[0.2222222222222222,\"#7201a8\"],[0.3333333333333333,\"#9c179e\"],[0.4444444444444444,\"#bd3786\"],[0.5555555555555556,\"#d8576b\"],[0.6666666666666666,\"#ed7953\"],[0.7777777777777778,\"#fb9f3a\"],[0.8888888888888888,\"#fdca26\"],[1.0,\"#f0f921\"]]}],\"heatmap\":[{\"type\":\"heatmap\",\"colorbar\":{\"outlinewidth\":0,\"ticks\":\"\"},\"colorscale\":[[0.0,\"#0d0887\"],[0.1111111111111111,\"#46039f\"],[0.2222222222222222,\"#7201a8\"],[0.3333333333333333,\"#9c179e\"],[0.4444444444444444,\"#bd3786\"],[0.5555555555555556,\"#d8576b\"],[0.6666666666666666,\"#ed7953\"],[0.7777777777777778,\"#fb9f3a\"],[0.8888888888888888,\"#fdca26\"],[1.0,\"#f0f921\"]]}],\"heatmapgl\":[{\"type\":\"heatmapgl\",\"colorbar\":{\"outlinewidth\":0,\"ticks\":\"\"},\"colorscale\":[[0.0,\"#0d0887\"],[0.1111111111111111,\"#46039f\"],[0.2222222222222222,\"#7201a8\"],[0.3333333333333333,\"#9c179e\"],[0.4444444444444444,\"#bd3786\"],[0.5555555555555556,\"#d8576b\"],[0.6666666666666666,\"#ed7953\"],[0.7777777777777778,\"#fb9f3a\"],[0.8888888888888888,\"#fdca26\"],[1.0,\"#f0f921\"]]}],\"contourcarpet\":[{\"type\":\"contourcarpet\",\"colorbar\":{\"outlinewidth\":0,\"ticks\":\"\"}}],\"contour\":[{\"type\":\"contour\",\"colorbar\":{\"outlinewidth\":0,\"ticks\":\"\"},\"colorscale\":[[0.0,\"#0d0887\"],[0.1111111111111111,\"#46039f\"],[0.2222222222222222,\"#7201a8\"],[0.3333333333333333,\"#9c179e\"],[0.4444444444444444,\"#bd3786\"],[0.5555555555555556,\"#d8576b\"],[0.6666666666666666,\"#ed7953\"],[0.7777777777777778,\"#fb9f3a\"],[0.8888888888888888,\"#fdca26\"],[1.0,\"#f0f921\"]]}],\"surface\":[{\"type\":\"surface\",\"colorbar\":{\"outlinewidth\":0,\"ticks\":\"\"},\"colorscale\":[[0.0,\"#0d0887\"],[0.1111111111111111,\"#46039f\"],[0.2222222222222222,\"#7201a8\"],[0.3333333333333333,\"#9c179e\"],[0.4444444444444444,\"#bd3786\"],[0.5555555555555556,\"#d8576b\"],[0.6666666666666666,\"#ed7953\"],[0.7777777777777778,\"#fb9f3a\"],[0.8888888888888888,\"#fdca26\"],[1.0,\"#f0f921\"]]}],\"mesh3d\":[{\"type\":\"mesh3d\",\"colorbar\":{\"outlinewidth\":0,\"ticks\":\"\"}}],\"scatter\":[{\"fillpattern\":{\"fillmode\":\"overlay\",\"size\":10,\"solidity\":0.2},\"type\":\"scatter\"}],\"parcoords\":[{\"type\":\"parcoords\",\"line\":{\"colorbar\":{\"outlinewidth\":0,\"ticks\":\"\"}}}],\"scatterpolargl\":[{\"type\":\"scatterpolargl\",\"marker\":{\"colorbar\":{\"outlinewidth\":0,\"ticks\":\"\"}}}],\"bar\":[{\"error_x\":{\"color\":\"#2a3f5f\"},\"error_y\":{\"color\":\"#2a3f5f\"},\"marker\":{\"line\":{\"color\":\"#E5ECF6\",\"width\":0.5},\"pattern\":{\"fillmode\":\"overlay\",\"size\":10,\"solidity\":0.2}},\"type\":\"bar\"}],\"scattergeo\":[{\"type\":\"scattergeo\",\"marker\":{\"colorbar\":{\"outlinewidth\":0,\"ticks\":\"\"}}}],\"scatterpolar\":[{\"type\":\"scatterpolar\",\"marker\":{\"colorbar\":{\"outlinewidth\":0,\"ticks\":\"\"}}}],\"histogram\":[{\"marker\":{\"pattern\":{\"fillmode\":\"overlay\",\"size\":10,\"solidity\":0.2}},\"type\":\"histogram\"}],\"scattergl\":[{\"type\":\"scattergl\",\"marker\":{\"colorbar\":{\"outlinewidth\":0,\"ticks\":\"\"}}}],\"scatter3d\":[{\"type\":\"scatter3d\",\"line\":{\"colorbar\":{\"outlinewidth\":0,\"ticks\":\"\"}},\"marker\":{\"colorbar\":{\"outlinewidth\":0,\"ticks\":\"\"}}}],\"scattermapbox\":[{\"type\":\"scattermapbox\",\"marker\":{\"colorbar\":{\"outlinewidth\":0,\"ticks\":\"\"}}}],\"scatterternary\":[{\"type\":\"scatterternary\",\"marker\":{\"colorbar\":{\"outlinewidth\":0,\"ticks\":\"\"}}}],\"scattercarpet\":[{\"type\":\"scattercarpet\",\"marker\":{\"colorbar\":{\"outlinewidth\":0,\"ticks\":\"\"}}}],\"carpet\":[{\"aaxis\":{\"endlinecolor\":\"#2a3f5f\",\"gridcolor\":\"white\",\"linecolor\":\"white\",\"minorgridcolor\":\"white\",\"startlinecolor\":\"#2a3f5f\"},\"baxis\":{\"endlinecolor\":\"#2a3f5f\",\"gridcolor\":\"white\",\"linecolor\":\"white\",\"minorgridcolor\":\"white\",\"startlinecolor\":\"#2a3f5f\"},\"type\":\"carpet\"}],\"table\":[{\"cells\":{\"fill\":{\"color\":\"#EBF0F8\"},\"line\":{\"color\":\"white\"}},\"header\":{\"fill\":{\"color\":\"#C8D4E3\"},\"line\":{\"color\":\"white\"}},\"type\":\"table\"}],\"barpolar\":[{\"marker\":{\"line\":{\"color\":\"#E5ECF6\",\"width\":0.5},\"pattern\":{\"fillmode\":\"overlay\",\"size\":10,\"solidity\":0.2}},\"type\":\"barpolar\"}],\"pie\":[{\"automargin\":true,\"type\":\"pie\"}]},\"layout\":{\"autotypenumbers\":\"strict\",\"colorway\":[\"#636efa\",\"#EF553B\",\"#00cc96\",\"#ab63fa\",\"#FFA15A\",\"#19d3f3\",\"#FF6692\",\"#B6E880\",\"#FF97FF\",\"#FECB52\"],\"font\":{\"color\":\"#2a3f5f\"},\"hovermode\":\"closest\",\"hoverlabel\":{\"align\":\"left\"},\"paper_bgcolor\":\"white\",\"plot_bgcolor\":\"#E5ECF6\",\"polar\":{\"bgcolor\":\"#E5ECF6\",\"angularaxis\":{\"gridcolor\":\"white\",\"linecolor\":\"white\",\"ticks\":\"\"},\"radialaxis\":{\"gridcolor\":\"white\",\"linecolor\":\"white\",\"ticks\":\"\"}},\"ternary\":{\"bgcolor\":\"#E5ECF6\",\"aaxis\":{\"gridcolor\":\"white\",\"linecolor\":\"white\",\"ticks\":\"\"},\"baxis\":{\"gridcolor\":\"white\",\"linecolor\":\"white\",\"ticks\":\"\"},\"caxis\":{\"gridcolor\":\"white\",\"linecolor\":\"white\",\"ticks\":\"\"}},\"coloraxis\":{\"colorbar\":{\"outlinewidth\":0,\"ticks\":\"\"}},\"colorscale\":{\"sequential\":[[0.0,\"#0d0887\"],[0.1111111111111111,\"#46039f\"],[0.2222222222222222,\"#7201a8\"],[0.3333333333333333,\"#9c179e\"],[0.4444444444444444,\"#bd3786\"],[0.5555555555555556,\"#d8576b\"],[0.6666666666666666,\"#ed7953\"],[0.7777777777777778,\"#fb9f3a\"],[0.8888888888888888,\"#fdca26\"],[1.0,\"#f0f921\"]],\"sequentialminus\":[[0.0,\"#0d0887\"],[0.1111111111111111,\"#46039f\"],[0.2222222222222222,\"#7201a8\"],[0.3333333333333333,\"#9c179e\"],[0.4444444444444444,\"#bd3786\"],[0.5555555555555556,\"#d8576b\"],[0.6666666666666666,\"#ed7953\"],[0.7777777777777778,\"#fb9f3a\"],[0.8888888888888888,\"#fdca26\"],[1.0,\"#f0f921\"]],\"diverging\":[[0,\"#8e0152\"],[0.1,\"#c51b7d\"],[0.2,\"#de77ae\"],[0.3,\"#f1b6da\"],[0.4,\"#fde0ef\"],[0.5,\"#f7f7f7\"],[0.6,\"#e6f5d0\"],[0.7,\"#b8e186\"],[0.8,\"#7fbc41\"],[0.9,\"#4d9221\"],[1,\"#276419\"]]},\"xaxis\":{\"gridcolor\":\"white\",\"linecolor\":\"white\",\"ticks\":\"\",\"title\":{\"standoff\":15},\"zerolinecolor\":\"white\",\"automargin\":true,\"zerolinewidth\":2},\"yaxis\":{\"gridcolor\":\"white\",\"linecolor\":\"white\",\"ticks\":\"\",\"title\":{\"standoff\":15},\"zerolinecolor\":\"white\",\"automargin\":true,\"zerolinewidth\":2},\"scene\":{\"xaxis\":{\"backgroundcolor\":\"#E5ECF6\",\"gridcolor\":\"white\",\"linecolor\":\"white\",\"showbackground\":true,\"ticks\":\"\",\"zerolinecolor\":\"white\",\"gridwidth\":2},\"yaxis\":{\"backgroundcolor\":\"#E5ECF6\",\"gridcolor\":\"white\",\"linecolor\":\"white\",\"showbackground\":true,\"ticks\":\"\",\"zerolinecolor\":\"white\",\"gridwidth\":2},\"zaxis\":{\"backgroundcolor\":\"#E5ECF6\",\"gridcolor\":\"white\",\"linecolor\":\"white\",\"showbackground\":true,\"ticks\":\"\",\"zerolinecolor\":\"white\",\"gridwidth\":2}},\"shapedefaults\":{\"line\":{\"color\":\"#2a3f5f\"}},\"annotationdefaults\":{\"arrowcolor\":\"#2a3f5f\",\"arrowhead\":0,\"arrowwidth\":1},\"geo\":{\"bgcolor\":\"white\",\"landcolor\":\"#E5ECF6\",\"subunitcolor\":\"white\",\"showland\":true,\"showlakes\":true,\"lakecolor\":\"white\"},\"title\":{\"x\":0.05},\"mapbox\":{\"style\":\"light\"}}},\"xaxis\":{\"anchor\":\"y\",\"domain\":[0.0,1.0]},\"yaxis\":{\"anchor\":\"x\",\"domain\":[0.0,1.0]},\"margin\":{\"t\":60}},                        {\"responsive\": true}                    ).then(function(){\n",
       "                            \n",
       "var gd = document.getElementById('f8f63e69-e574-44b4-9e8b-ec480cc5b129');\n",
       "var x = new MutationObserver(function (mutations, observer) {{\n",
       "        var display = window.getComputedStyle(gd).display;\n",
       "        if (!display || display === 'none') {{\n",
       "            console.log([gd, 'removed!']);\n",
       "            Plotly.purge(gd);\n",
       "            observer.disconnect();\n",
       "        }}\n",
       "}});\n",
       "\n",
       "// Listen for the removal of the full notebook cells\n",
       "var notebookContainer = gd.closest('#notebook-container');\n",
       "if (notebookContainer) {{\n",
       "    x.observe(notebookContainer, {childList: true});\n",
       "}}\n",
       "\n",
       "// Listen for the clearing of the current output cell\n",
       "var outputEl = gd.closest('.output');\n",
       "if (outputEl) {{\n",
       "    x.observe(outputEl, {childList: true});\n",
       "}}\n",
       "\n",
       "                        })                };                });            </script>        </div>"
      ]
     },
     "metadata": {},
     "output_type": "display_data"
    }
   ],
   "source": [
    "# this will visualise the image. note here that we 'reshape' the vector before displaying it. \n",
    "# this is because the image, which was originally 8x8 pixels, has been 'flattened' to a 64 dimensional vector.\n",
    "print(\"Each digit is a vector of length %i\" % len(X[0]))\n",
    "reshaped_x0 = X[0].reshape(8, 8)\n",
    "print(\"However, we can reshape it such that it is a %i x %i image, which we can view\" % (reshaped_x0.shape[0], reshaped_x0.shape[1]))\n",
    "px.imshow(reshaped_x0, binary_string=True)"
   ]
  },
  {
   "cell_type": "markdown",
   "metadata": {
    "id": "fS8bvzWY5vE0"
   },
   "source": [
    "#### K-Means"
   ]
  },
  {
   "cell_type": "code",
   "execution_count": 90,
   "metadata": {
    "id": "fA6wOxqrqpre"
   },
   "outputs": [],
   "source": [
    "kmeans = KMeans(n_clusters=10, random_state=0).fit(X)\n",
    "cluster_assignments = [str(i) for i in kmeans.labels_]"
   ]
  },
  {
   "cell_type": "code",
   "execution_count": 91,
   "metadata": {
    "colab": {
     "base_uri": "https://localhost:8080/",
     "height": 282
    },
    "id": "c_EXBugK5ViE",
    "outputId": "5859fe3c-2d88-400c-b904-0cdb7776b9e0"
   },
   "outputs": [
    {
     "data": {
      "application/vnd.plotly.v1+json": {
       "config": {
        "plotlyServerURL": "https://plot.ly"
       },
       "data": [
        {
         "hovertemplate": "x: %{x}<br>y: %{y}<extra></extra>",
         "name": "0",
         "source": "data:image/png;base64,iVBORw0KGgoAAAANSUhEUgAAAAgAAAAICAAAAADhZOFXAAAAPUlEQVR4XjXKQRGAIBAAwJ0rgA0wCg2wmRWMYAOMYJRrgA/G3z4WjA7UOQjKJQn1bgstj3zWKfMksNl/vHzgqAxx9+JkzAAAAABJRU5ErkJggg==",
         "type": "image",
         "xaxis": "x",
         "yaxis": "y"
        }
       ],
       "layout": {
        "height": 400,
        "margin": {
         "t": 60
        },
        "template": {
         "data": {
          "bar": [
           {
            "error_x": {
             "color": "#2a3f5f"
            },
            "error_y": {
             "color": "#2a3f5f"
            },
            "marker": {
             "line": {
              "color": "#E5ECF6",
              "width": 0.5
             },
             "pattern": {
              "fillmode": "overlay",
              "size": 10,
              "solidity": 0.2
             }
            },
            "type": "bar"
           }
          ],
          "barpolar": [
           {
            "marker": {
             "line": {
              "color": "#E5ECF6",
              "width": 0.5
             },
             "pattern": {
              "fillmode": "overlay",
              "size": 10,
              "solidity": 0.2
             }
            },
            "type": "barpolar"
           }
          ],
          "carpet": [
           {
            "aaxis": {
             "endlinecolor": "#2a3f5f",
             "gridcolor": "white",
             "linecolor": "white",
             "minorgridcolor": "white",
             "startlinecolor": "#2a3f5f"
            },
            "baxis": {
             "endlinecolor": "#2a3f5f",
             "gridcolor": "white",
             "linecolor": "white",
             "minorgridcolor": "white",
             "startlinecolor": "#2a3f5f"
            },
            "type": "carpet"
           }
          ],
          "choropleth": [
           {
            "colorbar": {
             "outlinewidth": 0,
             "ticks": ""
            },
            "type": "choropleth"
           }
          ],
          "contour": [
           {
            "colorbar": {
             "outlinewidth": 0,
             "ticks": ""
            },
            "colorscale": [
             [
              0,
              "#0d0887"
             ],
             [
              0.1111111111111111,
              "#46039f"
             ],
             [
              0.2222222222222222,
              "#7201a8"
             ],
             [
              0.3333333333333333,
              "#9c179e"
             ],
             [
              0.4444444444444444,
              "#bd3786"
             ],
             [
              0.5555555555555556,
              "#d8576b"
             ],
             [
              0.6666666666666666,
              "#ed7953"
             ],
             [
              0.7777777777777778,
              "#fb9f3a"
             ],
             [
              0.8888888888888888,
              "#fdca26"
             ],
             [
              1,
              "#f0f921"
             ]
            ],
            "type": "contour"
           }
          ],
          "contourcarpet": [
           {
            "colorbar": {
             "outlinewidth": 0,
             "ticks": ""
            },
            "type": "contourcarpet"
           }
          ],
          "heatmap": [
           {
            "colorbar": {
             "outlinewidth": 0,
             "ticks": ""
            },
            "colorscale": [
             [
              0,
              "#0d0887"
             ],
             [
              0.1111111111111111,
              "#46039f"
             ],
             [
              0.2222222222222222,
              "#7201a8"
             ],
             [
              0.3333333333333333,
              "#9c179e"
             ],
             [
              0.4444444444444444,
              "#bd3786"
             ],
             [
              0.5555555555555556,
              "#d8576b"
             ],
             [
              0.6666666666666666,
              "#ed7953"
             ],
             [
              0.7777777777777778,
              "#fb9f3a"
             ],
             [
              0.8888888888888888,
              "#fdca26"
             ],
             [
              1,
              "#f0f921"
             ]
            ],
            "type": "heatmap"
           }
          ],
          "heatmapgl": [
           {
            "colorbar": {
             "outlinewidth": 0,
             "ticks": ""
            },
            "colorscale": [
             [
              0,
              "#0d0887"
             ],
             [
              0.1111111111111111,
              "#46039f"
             ],
             [
              0.2222222222222222,
              "#7201a8"
             ],
             [
              0.3333333333333333,
              "#9c179e"
             ],
             [
              0.4444444444444444,
              "#bd3786"
             ],
             [
              0.5555555555555556,
              "#d8576b"
             ],
             [
              0.6666666666666666,
              "#ed7953"
             ],
             [
              0.7777777777777778,
              "#fb9f3a"
             ],
             [
              0.8888888888888888,
              "#fdca26"
             ],
             [
              1,
              "#f0f921"
             ]
            ],
            "type": "heatmapgl"
           }
          ],
          "histogram": [
           {
            "marker": {
             "pattern": {
              "fillmode": "overlay",
              "size": 10,
              "solidity": 0.2
             }
            },
            "type": "histogram"
           }
          ],
          "histogram2d": [
           {
            "colorbar": {
             "outlinewidth": 0,
             "ticks": ""
            },
            "colorscale": [
             [
              0,
              "#0d0887"
             ],
             [
              0.1111111111111111,
              "#46039f"
             ],
             [
              0.2222222222222222,
              "#7201a8"
             ],
             [
              0.3333333333333333,
              "#9c179e"
             ],
             [
              0.4444444444444444,
              "#bd3786"
             ],
             [
              0.5555555555555556,
              "#d8576b"
             ],
             [
              0.6666666666666666,
              "#ed7953"
             ],
             [
              0.7777777777777778,
              "#fb9f3a"
             ],
             [
              0.8888888888888888,
              "#fdca26"
             ],
             [
              1,
              "#f0f921"
             ]
            ],
            "type": "histogram2d"
           }
          ],
          "histogram2dcontour": [
           {
            "colorbar": {
             "outlinewidth": 0,
             "ticks": ""
            },
            "colorscale": [
             [
              0,
              "#0d0887"
             ],
             [
              0.1111111111111111,
              "#46039f"
             ],
             [
              0.2222222222222222,
              "#7201a8"
             ],
             [
              0.3333333333333333,
              "#9c179e"
             ],
             [
              0.4444444444444444,
              "#bd3786"
             ],
             [
              0.5555555555555556,
              "#d8576b"
             ],
             [
              0.6666666666666666,
              "#ed7953"
             ],
             [
              0.7777777777777778,
              "#fb9f3a"
             ],
             [
              0.8888888888888888,
              "#fdca26"
             ],
             [
              1,
              "#f0f921"
             ]
            ],
            "type": "histogram2dcontour"
           }
          ],
          "mesh3d": [
           {
            "colorbar": {
             "outlinewidth": 0,
             "ticks": ""
            },
            "type": "mesh3d"
           }
          ],
          "parcoords": [
           {
            "line": {
             "colorbar": {
              "outlinewidth": 0,
              "ticks": ""
             }
            },
            "type": "parcoords"
           }
          ],
          "pie": [
           {
            "automargin": true,
            "type": "pie"
           }
          ],
          "scatter": [
           {
            "fillpattern": {
             "fillmode": "overlay",
             "size": 10,
             "solidity": 0.2
            },
            "type": "scatter"
           }
          ],
          "scatter3d": [
           {
            "line": {
             "colorbar": {
              "outlinewidth": 0,
              "ticks": ""
             }
            },
            "marker": {
             "colorbar": {
              "outlinewidth": 0,
              "ticks": ""
             }
            },
            "type": "scatter3d"
           }
          ],
          "scattercarpet": [
           {
            "marker": {
             "colorbar": {
              "outlinewidth": 0,
              "ticks": ""
             }
            },
            "type": "scattercarpet"
           }
          ],
          "scattergeo": [
           {
            "marker": {
             "colorbar": {
              "outlinewidth": 0,
              "ticks": ""
             }
            },
            "type": "scattergeo"
           }
          ],
          "scattergl": [
           {
            "marker": {
             "colorbar": {
              "outlinewidth": 0,
              "ticks": ""
             }
            },
            "type": "scattergl"
           }
          ],
          "scattermapbox": [
           {
            "marker": {
             "colorbar": {
              "outlinewidth": 0,
              "ticks": ""
             }
            },
            "type": "scattermapbox"
           }
          ],
          "scatterpolar": [
           {
            "marker": {
             "colorbar": {
              "outlinewidth": 0,
              "ticks": ""
             }
            },
            "type": "scatterpolar"
           }
          ],
          "scatterpolargl": [
           {
            "marker": {
             "colorbar": {
              "outlinewidth": 0,
              "ticks": ""
             }
            },
            "type": "scatterpolargl"
           }
          ],
          "scatterternary": [
           {
            "marker": {
             "colorbar": {
              "outlinewidth": 0,
              "ticks": ""
             }
            },
            "type": "scatterternary"
           }
          ],
          "surface": [
           {
            "colorbar": {
             "outlinewidth": 0,
             "ticks": ""
            },
            "colorscale": [
             [
              0,
              "#0d0887"
             ],
             [
              0.1111111111111111,
              "#46039f"
             ],
             [
              0.2222222222222222,
              "#7201a8"
             ],
             [
              0.3333333333333333,
              "#9c179e"
             ],
             [
              0.4444444444444444,
              "#bd3786"
             ],
             [
              0.5555555555555556,
              "#d8576b"
             ],
             [
              0.6666666666666666,
              "#ed7953"
             ],
             [
              0.7777777777777778,
              "#fb9f3a"
             ],
             [
              0.8888888888888888,
              "#fdca26"
             ],
             [
              1,
              "#f0f921"
             ]
            ],
            "type": "surface"
           }
          ],
          "table": [
           {
            "cells": {
             "fill": {
              "color": "#EBF0F8"
             },
             "line": {
              "color": "white"
             }
            },
            "header": {
             "fill": {
              "color": "#C8D4E3"
             },
             "line": {
              "color": "white"
             }
            },
            "type": "table"
           }
          ]
         },
         "layout": {
          "annotationdefaults": {
           "arrowcolor": "#2a3f5f",
           "arrowhead": 0,
           "arrowwidth": 1
          },
          "autotypenumbers": "strict",
          "coloraxis": {
           "colorbar": {
            "outlinewidth": 0,
            "ticks": ""
           }
          },
          "colorscale": {
           "diverging": [
            [
             0,
             "#8e0152"
            ],
            [
             0.1,
             "#c51b7d"
            ],
            [
             0.2,
             "#de77ae"
            ],
            [
             0.3,
             "#f1b6da"
            ],
            [
             0.4,
             "#fde0ef"
            ],
            [
             0.5,
             "#f7f7f7"
            ],
            [
             0.6,
             "#e6f5d0"
            ],
            [
             0.7,
             "#b8e186"
            ],
            [
             0.8,
             "#7fbc41"
            ],
            [
             0.9,
             "#4d9221"
            ],
            [
             1,
             "#276419"
            ]
           ],
           "sequential": [
            [
             0,
             "#0d0887"
            ],
            [
             0.1111111111111111,
             "#46039f"
            ],
            [
             0.2222222222222222,
             "#7201a8"
            ],
            [
             0.3333333333333333,
             "#9c179e"
            ],
            [
             0.4444444444444444,
             "#bd3786"
            ],
            [
             0.5555555555555556,
             "#d8576b"
            ],
            [
             0.6666666666666666,
             "#ed7953"
            ],
            [
             0.7777777777777778,
             "#fb9f3a"
            ],
            [
             0.8888888888888888,
             "#fdca26"
            ],
            [
             1,
             "#f0f921"
            ]
           ],
           "sequentialminus": [
            [
             0,
             "#0d0887"
            ],
            [
             0.1111111111111111,
             "#46039f"
            ],
            [
             0.2222222222222222,
             "#7201a8"
            ],
            [
             0.3333333333333333,
             "#9c179e"
            ],
            [
             0.4444444444444444,
             "#bd3786"
            ],
            [
             0.5555555555555556,
             "#d8576b"
            ],
            [
             0.6666666666666666,
             "#ed7953"
            ],
            [
             0.7777777777777778,
             "#fb9f3a"
            ],
            [
             0.8888888888888888,
             "#fdca26"
            ],
            [
             1,
             "#f0f921"
            ]
           ]
          },
          "colorway": [
           "#636efa",
           "#EF553B",
           "#00cc96",
           "#ab63fa",
           "#FFA15A",
           "#19d3f3",
           "#FF6692",
           "#B6E880",
           "#FF97FF",
           "#FECB52"
          ],
          "font": {
           "color": "#2a3f5f"
          },
          "geo": {
           "bgcolor": "white",
           "lakecolor": "white",
           "landcolor": "#E5ECF6",
           "showlakes": true,
           "showland": true,
           "subunitcolor": "white"
          },
          "hoverlabel": {
           "align": "left"
          },
          "hovermode": "closest",
          "mapbox": {
           "style": "light"
          },
          "paper_bgcolor": "white",
          "plot_bgcolor": "#E5ECF6",
          "polar": {
           "angularaxis": {
            "gridcolor": "white",
            "linecolor": "white",
            "ticks": ""
           },
           "bgcolor": "#E5ECF6",
           "radialaxis": {
            "gridcolor": "white",
            "linecolor": "white",
            "ticks": ""
           }
          },
          "scene": {
           "xaxis": {
            "backgroundcolor": "#E5ECF6",
            "gridcolor": "white",
            "gridwidth": 2,
            "linecolor": "white",
            "showbackground": true,
            "ticks": "",
            "zerolinecolor": "white"
           },
           "yaxis": {
            "backgroundcolor": "#E5ECF6",
            "gridcolor": "white",
            "gridwidth": 2,
            "linecolor": "white",
            "showbackground": true,
            "ticks": "",
            "zerolinecolor": "white"
           },
           "zaxis": {
            "backgroundcolor": "#E5ECF6",
            "gridcolor": "white",
            "gridwidth": 2,
            "linecolor": "white",
            "showbackground": true,
            "ticks": "",
            "zerolinecolor": "white"
           }
          },
          "shapedefaults": {
           "line": {
            "color": "#2a3f5f"
           }
          },
          "ternary": {
           "aaxis": {
            "gridcolor": "white",
            "linecolor": "white",
            "ticks": ""
           },
           "baxis": {
            "gridcolor": "white",
            "linecolor": "white",
            "ticks": ""
           },
           "bgcolor": "#E5ECF6",
           "caxis": {
            "gridcolor": "white",
            "linecolor": "white",
            "ticks": ""
           }
          },
          "title": {
           "x": 0.05
          },
          "xaxis": {
           "automargin": true,
           "gridcolor": "white",
           "linecolor": "white",
           "ticks": "",
           "title": {
            "standoff": 15
           },
           "zerolinecolor": "white",
           "zerolinewidth": 2
          },
          "yaxis": {
           "automargin": true,
           "gridcolor": "white",
           "linecolor": "white",
           "ticks": "",
           "title": {
            "standoff": 15
           },
           "zerolinecolor": "white",
           "zerolinewidth": 2
          }
         }
        },
        "width": 400,
        "xaxis": {
         "anchor": "y",
         "domain": [
          0,
          1
         ]
        },
        "yaxis": {
         "anchor": "x",
         "domain": [
          0,
          1
         ]
        }
       }
      },
      "text/html": [
       "<div>                            <div id=\"eda7827b-9bd8-435a-ba78-618b1237a157\" class=\"plotly-graph-div\" style=\"height:400px; width:400px;\"></div>            <script type=\"text/javascript\">                require([\"plotly\"], function(Plotly) {                    window.PLOTLYENV=window.PLOTLYENV || {};                                    if (document.getElementById(\"eda7827b-9bd8-435a-ba78-618b1237a157\")) {                    Plotly.newPlot(                        \"eda7827b-9bd8-435a-ba78-618b1237a157\",                        [{\"name\":\"0\",\"source\":\"data:image/png;base64,iVBORw0KGgoAAAANSUhEUgAAAAgAAAAICAAAAADhZOFXAAAAPUlEQVR4XjXKQRGAIBAAwJ0rgA0wCg2wmRWMYAOMYJRrgA/G3z4WjA7UOQjKJQn1bgstj3zWKfMksNl/vHzgqAxx9+JkzAAAAABJRU5ErkJggg==\",\"type\":\"image\",\"xaxis\":\"x\",\"yaxis\":\"y\",\"hovertemplate\":\"x: %{x}<br>y: %{y}<extra></extra>\"}],                        {\"template\":{\"data\":{\"histogram2dcontour\":[{\"type\":\"histogram2dcontour\",\"colorbar\":{\"outlinewidth\":0,\"ticks\":\"\"},\"colorscale\":[[0.0,\"#0d0887\"],[0.1111111111111111,\"#46039f\"],[0.2222222222222222,\"#7201a8\"],[0.3333333333333333,\"#9c179e\"],[0.4444444444444444,\"#bd3786\"],[0.5555555555555556,\"#d8576b\"],[0.6666666666666666,\"#ed7953\"],[0.7777777777777778,\"#fb9f3a\"],[0.8888888888888888,\"#fdca26\"],[1.0,\"#f0f921\"]]}],\"choropleth\":[{\"type\":\"choropleth\",\"colorbar\":{\"outlinewidth\":0,\"ticks\":\"\"}}],\"histogram2d\":[{\"type\":\"histogram2d\",\"colorbar\":{\"outlinewidth\":0,\"ticks\":\"\"},\"colorscale\":[[0.0,\"#0d0887\"],[0.1111111111111111,\"#46039f\"],[0.2222222222222222,\"#7201a8\"],[0.3333333333333333,\"#9c179e\"],[0.4444444444444444,\"#bd3786\"],[0.5555555555555556,\"#d8576b\"],[0.6666666666666666,\"#ed7953\"],[0.7777777777777778,\"#fb9f3a\"],[0.8888888888888888,\"#fdca26\"],[1.0,\"#f0f921\"]]}],\"heatmap\":[{\"type\":\"heatmap\",\"colorbar\":{\"outlinewidth\":0,\"ticks\":\"\"},\"colorscale\":[[0.0,\"#0d0887\"],[0.1111111111111111,\"#46039f\"],[0.2222222222222222,\"#7201a8\"],[0.3333333333333333,\"#9c179e\"],[0.4444444444444444,\"#bd3786\"],[0.5555555555555556,\"#d8576b\"],[0.6666666666666666,\"#ed7953\"],[0.7777777777777778,\"#fb9f3a\"],[0.8888888888888888,\"#fdca26\"],[1.0,\"#f0f921\"]]}],\"heatmapgl\":[{\"type\":\"heatmapgl\",\"colorbar\":{\"outlinewidth\":0,\"ticks\":\"\"},\"colorscale\":[[0.0,\"#0d0887\"],[0.1111111111111111,\"#46039f\"],[0.2222222222222222,\"#7201a8\"],[0.3333333333333333,\"#9c179e\"],[0.4444444444444444,\"#bd3786\"],[0.5555555555555556,\"#d8576b\"],[0.6666666666666666,\"#ed7953\"],[0.7777777777777778,\"#fb9f3a\"],[0.8888888888888888,\"#fdca26\"],[1.0,\"#f0f921\"]]}],\"contourcarpet\":[{\"type\":\"contourcarpet\",\"colorbar\":{\"outlinewidth\":0,\"ticks\":\"\"}}],\"contour\":[{\"type\":\"contour\",\"colorbar\":{\"outlinewidth\":0,\"ticks\":\"\"},\"colorscale\":[[0.0,\"#0d0887\"],[0.1111111111111111,\"#46039f\"],[0.2222222222222222,\"#7201a8\"],[0.3333333333333333,\"#9c179e\"],[0.4444444444444444,\"#bd3786\"],[0.5555555555555556,\"#d8576b\"],[0.6666666666666666,\"#ed7953\"],[0.7777777777777778,\"#fb9f3a\"],[0.8888888888888888,\"#fdca26\"],[1.0,\"#f0f921\"]]}],\"surface\":[{\"type\":\"surface\",\"colorbar\":{\"outlinewidth\":0,\"ticks\":\"\"},\"colorscale\":[[0.0,\"#0d0887\"],[0.1111111111111111,\"#46039f\"],[0.2222222222222222,\"#7201a8\"],[0.3333333333333333,\"#9c179e\"],[0.4444444444444444,\"#bd3786\"],[0.5555555555555556,\"#d8576b\"],[0.6666666666666666,\"#ed7953\"],[0.7777777777777778,\"#fb9f3a\"],[0.8888888888888888,\"#fdca26\"],[1.0,\"#f0f921\"]]}],\"mesh3d\":[{\"type\":\"mesh3d\",\"colorbar\":{\"outlinewidth\":0,\"ticks\":\"\"}}],\"scatter\":[{\"fillpattern\":{\"fillmode\":\"overlay\",\"size\":10,\"solidity\":0.2},\"type\":\"scatter\"}],\"parcoords\":[{\"type\":\"parcoords\",\"line\":{\"colorbar\":{\"outlinewidth\":0,\"ticks\":\"\"}}}],\"scatterpolargl\":[{\"type\":\"scatterpolargl\",\"marker\":{\"colorbar\":{\"outlinewidth\":0,\"ticks\":\"\"}}}],\"bar\":[{\"error_x\":{\"color\":\"#2a3f5f\"},\"error_y\":{\"color\":\"#2a3f5f\"},\"marker\":{\"line\":{\"color\":\"#E5ECF6\",\"width\":0.5},\"pattern\":{\"fillmode\":\"overlay\",\"size\":10,\"solidity\":0.2}},\"type\":\"bar\"}],\"scattergeo\":[{\"type\":\"scattergeo\",\"marker\":{\"colorbar\":{\"outlinewidth\":0,\"ticks\":\"\"}}}],\"scatterpolar\":[{\"type\":\"scatterpolar\",\"marker\":{\"colorbar\":{\"outlinewidth\":0,\"ticks\":\"\"}}}],\"histogram\":[{\"marker\":{\"pattern\":{\"fillmode\":\"overlay\",\"size\":10,\"solidity\":0.2}},\"type\":\"histogram\"}],\"scattergl\":[{\"type\":\"scattergl\",\"marker\":{\"colorbar\":{\"outlinewidth\":0,\"ticks\":\"\"}}}],\"scatter3d\":[{\"type\":\"scatter3d\",\"line\":{\"colorbar\":{\"outlinewidth\":0,\"ticks\":\"\"}},\"marker\":{\"colorbar\":{\"outlinewidth\":0,\"ticks\":\"\"}}}],\"scattermapbox\":[{\"type\":\"scattermapbox\",\"marker\":{\"colorbar\":{\"outlinewidth\":0,\"ticks\":\"\"}}}],\"scatterternary\":[{\"type\":\"scatterternary\",\"marker\":{\"colorbar\":{\"outlinewidth\":0,\"ticks\":\"\"}}}],\"scattercarpet\":[{\"type\":\"scattercarpet\",\"marker\":{\"colorbar\":{\"outlinewidth\":0,\"ticks\":\"\"}}}],\"carpet\":[{\"aaxis\":{\"endlinecolor\":\"#2a3f5f\",\"gridcolor\":\"white\",\"linecolor\":\"white\",\"minorgridcolor\":\"white\",\"startlinecolor\":\"#2a3f5f\"},\"baxis\":{\"endlinecolor\":\"#2a3f5f\",\"gridcolor\":\"white\",\"linecolor\":\"white\",\"minorgridcolor\":\"white\",\"startlinecolor\":\"#2a3f5f\"},\"type\":\"carpet\"}],\"table\":[{\"cells\":{\"fill\":{\"color\":\"#EBF0F8\"},\"line\":{\"color\":\"white\"}},\"header\":{\"fill\":{\"color\":\"#C8D4E3\"},\"line\":{\"color\":\"white\"}},\"type\":\"table\"}],\"barpolar\":[{\"marker\":{\"line\":{\"color\":\"#E5ECF6\",\"width\":0.5},\"pattern\":{\"fillmode\":\"overlay\",\"size\":10,\"solidity\":0.2}},\"type\":\"barpolar\"}],\"pie\":[{\"automargin\":true,\"type\":\"pie\"}]},\"layout\":{\"autotypenumbers\":\"strict\",\"colorway\":[\"#636efa\",\"#EF553B\",\"#00cc96\",\"#ab63fa\",\"#FFA15A\",\"#19d3f3\",\"#FF6692\",\"#B6E880\",\"#FF97FF\",\"#FECB52\"],\"font\":{\"color\":\"#2a3f5f\"},\"hovermode\":\"closest\",\"hoverlabel\":{\"align\":\"left\"},\"paper_bgcolor\":\"white\",\"plot_bgcolor\":\"#E5ECF6\",\"polar\":{\"bgcolor\":\"#E5ECF6\",\"angularaxis\":{\"gridcolor\":\"white\",\"linecolor\":\"white\",\"ticks\":\"\"},\"radialaxis\":{\"gridcolor\":\"white\",\"linecolor\":\"white\",\"ticks\":\"\"}},\"ternary\":{\"bgcolor\":\"#E5ECF6\",\"aaxis\":{\"gridcolor\":\"white\",\"linecolor\":\"white\",\"ticks\":\"\"},\"baxis\":{\"gridcolor\":\"white\",\"linecolor\":\"white\",\"ticks\":\"\"},\"caxis\":{\"gridcolor\":\"white\",\"linecolor\":\"white\",\"ticks\":\"\"}},\"coloraxis\":{\"colorbar\":{\"outlinewidth\":0,\"ticks\":\"\"}},\"colorscale\":{\"sequential\":[[0.0,\"#0d0887\"],[0.1111111111111111,\"#46039f\"],[0.2222222222222222,\"#7201a8\"],[0.3333333333333333,\"#9c179e\"],[0.4444444444444444,\"#bd3786\"],[0.5555555555555556,\"#d8576b\"],[0.6666666666666666,\"#ed7953\"],[0.7777777777777778,\"#fb9f3a\"],[0.8888888888888888,\"#fdca26\"],[1.0,\"#f0f921\"]],\"sequentialminus\":[[0.0,\"#0d0887\"],[0.1111111111111111,\"#46039f\"],[0.2222222222222222,\"#7201a8\"],[0.3333333333333333,\"#9c179e\"],[0.4444444444444444,\"#bd3786\"],[0.5555555555555556,\"#d8576b\"],[0.6666666666666666,\"#ed7953\"],[0.7777777777777778,\"#fb9f3a\"],[0.8888888888888888,\"#fdca26\"],[1.0,\"#f0f921\"]],\"diverging\":[[0,\"#8e0152\"],[0.1,\"#c51b7d\"],[0.2,\"#de77ae\"],[0.3,\"#f1b6da\"],[0.4,\"#fde0ef\"],[0.5,\"#f7f7f7\"],[0.6,\"#e6f5d0\"],[0.7,\"#b8e186\"],[0.8,\"#7fbc41\"],[0.9,\"#4d9221\"],[1,\"#276419\"]]},\"xaxis\":{\"gridcolor\":\"white\",\"linecolor\":\"white\",\"ticks\":\"\",\"title\":{\"standoff\":15},\"zerolinecolor\":\"white\",\"automargin\":true,\"zerolinewidth\":2},\"yaxis\":{\"gridcolor\":\"white\",\"linecolor\":\"white\",\"ticks\":\"\",\"title\":{\"standoff\":15},\"zerolinecolor\":\"white\",\"automargin\":true,\"zerolinewidth\":2},\"scene\":{\"xaxis\":{\"backgroundcolor\":\"#E5ECF6\",\"gridcolor\":\"white\",\"linecolor\":\"white\",\"showbackground\":true,\"ticks\":\"\",\"zerolinecolor\":\"white\",\"gridwidth\":2},\"yaxis\":{\"backgroundcolor\":\"#E5ECF6\",\"gridcolor\":\"white\",\"linecolor\":\"white\",\"showbackground\":true,\"ticks\":\"\",\"zerolinecolor\":\"white\",\"gridwidth\":2},\"zaxis\":{\"backgroundcolor\":\"#E5ECF6\",\"gridcolor\":\"white\",\"linecolor\":\"white\",\"showbackground\":true,\"ticks\":\"\",\"zerolinecolor\":\"white\",\"gridwidth\":2}},\"shapedefaults\":{\"line\":{\"color\":\"#2a3f5f\"}},\"annotationdefaults\":{\"arrowcolor\":\"#2a3f5f\",\"arrowhead\":0,\"arrowwidth\":1},\"geo\":{\"bgcolor\":\"white\",\"landcolor\":\"#E5ECF6\",\"subunitcolor\":\"white\",\"showland\":true,\"showlakes\":true,\"lakecolor\":\"white\"},\"title\":{\"x\":0.05},\"mapbox\":{\"style\":\"light\"}}},\"xaxis\":{\"anchor\":\"y\",\"domain\":[0.0,1.0]},\"yaxis\":{\"anchor\":\"x\",\"domain\":[0.0,1.0]},\"margin\":{\"t\":60},\"height\":400,\"width\":400},                        {\"responsive\": true}                    ).then(function(){\n",
       "                            \n",
       "var gd = document.getElementById('eda7827b-9bd8-435a-ba78-618b1237a157');\n",
       "var x = new MutationObserver(function (mutations, observer) {{\n",
       "        var display = window.getComputedStyle(gd).display;\n",
       "        if (!display || display === 'none') {{\n",
       "            console.log([gd, 'removed!']);\n",
       "            Plotly.purge(gd);\n",
       "            observer.disconnect();\n",
       "        }}\n",
       "}});\n",
       "\n",
       "// Listen for the removal of the full notebook cells\n",
       "var notebookContainer = gd.closest('#notebook-container');\n",
       "if (notebookContainer) {{\n",
       "    x.observe(notebookContainer, {childList: true});\n",
       "}}\n",
       "\n",
       "// Listen for the clearing of the current output cell\n",
       "var outputEl = gd.closest('.output');\n",
       "if (outputEl) {{\n",
       "    x.observe(outputEl, {childList: true});\n",
       "}}\n",
       "\n",
       "                        })                };                });            </script>        </div>"
      ]
     },
     "metadata": {},
     "output_type": "display_data"
    }
   ],
   "source": [
    "px.imshow(X[42].reshape(8, 8), binary_string=True,\n",
    "         height=400, width=400)"
   ]
  },
  {
   "cell_type": "code",
   "execution_count": 93,
   "metadata": {
    "colab": {
     "base_uri": "https://localhost:8080/"
    },
    "id": "GQrEjQ_AZ39q",
    "outputId": "f1d62cc2-86c8-4340-e780-7f7d4b169890"
   },
   "outputs": [
    {
     "name": "stdout",
     "output_type": "stream",
     "text": [
      "The NMI score of this clustering is 0.746877\n"
     ]
    }
   ],
   "source": [
    "from sklearn.metrics.cluster import normalized_mutual_info_score\n",
    "nmi = normalized_mutual_info_score(y, cluster_assignments)\n",
    "print(\"The NMI score of this clustering is %f\" % nmi)"
   ]
  },
  {
   "cell_type": "code",
   "execution_count": 94,
   "metadata": {
    "colab": {
     "base_uri": "https://localhost:8080/",
     "height": 211
    },
    "id": "DkPaWAKiWu_U",
    "outputId": "741d4cf7-e50d-492e-ec2d-a460e93b86ee"
   },
   "outputs": [
    {
     "data": {
      "image/png": "[encoded data removed]",
      "text/plain": [
       "<Figure size 800x300 with 10 Axes>"
      ]
     },
     "metadata": {},
     "output_type": "display_data"
    }
   ],
   "source": [
    "import matplotlib.pyplot as plt\n",
    "fig, ax = plt.subplots(2, 5, figsize=(8, 3))\n",
    "centers = kmeans.cluster_centers_.reshape(10, 8, 8)\n",
    "for axi, center in zip(ax.flat, centers):\n",
    "    axi.imshow(center, cmap=plt.cm.binary)"
   ]
  },
  {
   "cell_type": "markdown",
   "metadata": {
    "id": "Ossf96H4W_A7"
   },
   "source": [
    "# Dimensionality reduction \n",
    "\n",
    "A common approach to visualising data, including after you have clustered it, is to use a dimensionality reduction method (such as PCA or tSNE) to reduce the higher dimensional data down to 2 dimensions and plot it.\n"
   ]
  },
  {
   "cell_type": "markdown",
   "metadata": {},
   "source": [
    "### PCA"
   ]
  },
  {
   "cell_type": "code",
   "execution_count": 95,
   "metadata": {
    "colab": {
     "base_uri": "https://localhost:8080/",
     "height": 286
    },
    "id": "85krQ1G0oH2q",
    "outputId": "c4666e60-8e5f-46b0-e96b-e810542c6db8"
   },
   "outputs": [
    {
     "data": {
      "application/vnd.plotly.v1+json": {
       "config": {
        "plotlyServerURL": "https://plot.ly"
       },
       "data": [
        {
         "hovertemplate": "color=5<br>x=%{x}<br>y=%{y}<extra></extra>",
         "legendgroup": "5",
         "marker": {
          "color": "#636efa",
          "size": 12,
          "symbol": "circle"
         },
         "mode": "markers",
         "name": "5",
         "showlegend": true,
         "type": "scattergl",
         "x": [
          -1.259468785964746,
          11.215081773786887,
          6.435368399829143,
          0.24092407426786974,
          6.134364006470748,
          5.018480094865713,
          3.9385991103104105,
          10.32278274358417,
          6.3080806518369785,
          -3.4294625008755717,
          -1.264837311211141,
          8.55760695555684,
          7.653094388692096,
          2.017144281506988,
          3.5609634403129724,
          8.081889888734384,
          6.023722290794494,
          4.2891311749226935,
          2.809675019691992,
          10.78212897660804,
          10.660782011818979,
          5.710834001705787,
          14.796136044691805,
          11.314747289995715,
          0.13818026757870003,
          7.956977907192094,
          5.6483983490836955,
          3.150151309308052,
          0.6473935709469549,
          5.81795725893299,
          -3.1605735654554477,
          3.663120747499148,
          -0.6204141706394313,
          1.1144308695686127,
          1.9832116257265935,
          3.4396945824712146,
          0.522490622732284,
          1.1894060263674664,
          2.478180238097501,
          -5.279174858069267,
          -0.7938764574976458,
          4.540172926231828,
          7.510539368456839,
          -2.664023587439323,
          2.805454100200345,
          5.365418129459907,
          -5.4040038029020065,
          2.171367526028407,
          -0.9043797850137685,
          0.08873842555846607,
          2.8633119204246547,
          0.6090229089966206,
          -3.5227511796807036,
          0.12978730974965,
          -6.4691443752733075,
          0.20757933960941732,
          -6.239571579662272,
          -2.509393711005788,
          -4.973199093831863,
          3.65213336518158,
          1.7171205087955794,
          -8.631906328723593,
          -1.7290483809643027,
          -8.718106021907374,
          -2.943697228309354,
          3.118601893855605,
          -0.9071540556974068,
          7.547975795723975,
          4.94365392241094,
          -0.05627786393337973,
          7.694317381976683,
          -0.039371443206883266,
          14.567052249685364,
          8.412767182740852,
          5.753324450555741,
          3.8776466382999617,
          4.218136727758655,
          3.3655361374759627,
          -3.261339640842659,
          -4.089317845935653,
          8.063058258912848,
          4.266379847382194,
          3.9337828195990445,
          3.570869504981935,
          1.8025346316773754,
          5.363686004578873,
          3.6584608133287206,
          6.7429177196598955,
          11.652407498513167,
          -5.140188479069242,
          -2.867731800493263,
          6.788870980706267,
          -3.639204816189194,
          -4.437593899536785,
          0.6782099836013887,
          -6.436957293958327,
          -4.593433055133761,
          -10.297382240712516,
          -6.993554450394875,
          -7.1924612594004556,
          -4.140714579566984,
          -12.358242938271765,
          1.0062340268862402,
          3.75574025598922,
          2.135137577730996,
          -2.8349922939253847,
          7.1200864698799835,
          4.709838574539005,
          0.2994600170776105,
          -5.092031904816186,
          -3.3091332071065223,
          1.3966803542320607,
          -0.6831227413717966,
          -0.7628072095278252,
          -0.355885020864439,
          0.40165695234120813,
          2.3082898044070537,
          2.353429991300522,
          -0.9741876779912353,
          2.969516766223897,
          -0.7710606904813285,
          -0.33164816415489307,
          0.5222953820694469,
          2.7445476339945225,
          -3.814535202653468,
          -3.446887986734133,
          2.5746540804422158,
          -2.600044064437752,
          3.1321680616207463,
          8.278125086779191,
          5.235430587022253,
          -2.765131553321254,
          9.343737125405562,
          6.45396773071243,
          6.497670605757468,
          -0.6453050697546775,
          5.008339234612588,
          -1.418147088169234,
          -0.9087326078827173,
          5.198147935318728,
          9.251110697482217,
          -7.301115560572729,
          -3.6533626171973044,
          -1.4040090600671653,
          -0.5650271111860081,
          -1.7981297837850019,
          -1.6854406536572064,
          -3.796508081221737,
          -5.302313477746225,
          -5.738801200107996,
          -6.609352724177554,
          -0.9894161840746352,
          -2.4811863091243254,
          -3.362227788527916,
          6.658960042535303,
          6.6203919505228885,
          7.610085919109903,
          4.027627670513432,
          15.821792778626723,
          0.43654981917397134,
          -7.055185868389035,
          10.611395581331832,
          17.356055642751613,
          2.3770741627812595,
          11.187551195776773,
          2.598684406903052,
          -2.481524771567339,
          0.018645318215948396,
          2.384059371208689,
          -0.03313024586877014,
          10.328373108883438,
          1.0262177816729494,
          3.4868737331211856,
          9.579959779292446,
          1.8138721353893519,
          4.095452628506001,
          -1.4580197945281095,
          10.041819295101387,
          6.464577196235311
         ],
         "xaxis": "x",
         "y": [
          21.274880950045343,
          16.91986050412505,
          19.477110517909093,
          26.59301652486549,
          15.899979966039217,
          20.77468838488756,
          20.882146237368623,
          13.990165938330906,
          20.10219584081744,
          22.843595317060274,
          23.802466526263217,
          23.51691558058779,
          21.08939571505018,
          24.135919424497008,
          21.529028895696992,
          22.276614610599076,
          20.8394567731313,
          22.578564994070423,
          24.269626055747597,
          16.17271004580079,
          21.459933769240266,
          24.425807872866653,
          16.284138269735447,
          20.637472528988418,
          25.084934470244047,
          23.210668525979333,
          18.79494149979015,
          20.83273511585021,
          20.82332753346161,
          18.497675186688475,
          18.970413705707912,
          20.53802360388396,
          24.8482383122532,
          21.33565731780969,
          20.726375578898317,
          24.579951336853163,
          17.995230692326167,
          20.313450186775665,
          24.06321778377494,
          25.002066924267837,
          24.945683070442886,
          24.035806620096327,
          16.989859968219744,
          22.56455693507247,
          26.52149902551683,
          21.46475190205143,
          26.155450100247343,
          18.847619953834414,
          23.84829108009551,
          27.07831884747303,
          22.433821446089404,
          22.329560809168157,
          24.005358805345285,
          21.946623283754793,
          18.303788678150873,
          22.184877764046348,
          23.16427899869578,
          24.687395550117326,
          29.185918370572566,
          21.209610829752723,
          18.90428492863003,
          18.054748304185935,
          20.168143688515933,
          19.221146240817323,
          24.661558021982707,
          23.415613502048927,
          11.52346453146608,
          21.127311116652415,
          19.345676219901655,
          25.0071111633803,
          22.411859181983417,
          13.201561042889384,
          9.41032251111988,
          20.049038230023275,
          17.8111011620827,
          23.16691798977271,
          22.60358558349309,
          17.286779775403613,
          19.707252019310154,
          26.52016016121127,
          19.788427566211933,
          18.071862545938988,
          25.277172660945602,
          23.550163829933,
          17.804062767661456,
          17.281957646449982,
          21.723552653667863,
          22.409252057983238,
          13.132643061464098,
          21.253193386306673,
          22.759846139184678,
          20.91684110247232,
          24.945108749753906,
          22.739009975848255,
          24.467401118672832,
          22.79071727552604,
          22.960911822925866,
          24.07777407295537,
          19.817783187813298,
          23.954155673853716,
          23.009602813989563,
          20.103209067403476,
          21.124794526983287,
          26.31139530282416,
          22.89596378488512,
          23.97142457710858,
          25.65275642975949,
          18.377210316706847,
          20.044989778678207,
          27.377145809464764,
          22.170135679613683,
          28.033123316455768,
          30.09221610284006,
          21.869211921338685,
          26.167594911251218,
          22.687474152236934,
          18.228898484609772,
          17.62162585198548,
          12.16714594734419,
          22.71450377468533,
          22.859286742844965,
          19.389701318221164,
          16.56957083869073,
          13.721856515157931,
          11.776091749426124,
          17.156135541354786,
          19.23065413297834,
          7.38706987949308,
          24.091141828043735,
          24.38532578838582,
          27.906321890509407,
          28.98547027059906,
          13.649441047294358,
          26.13882505636762,
          25.2877945451809,
          24.61675027869823,
          20.33207804342569,
          22.164002572180998,
          22.73580168699628,
          26.770977738547963,
          16.643329890317414,
          19.95933801914288,
          19.198800689674457,
          18.15243171793453,
          20.737496354494887,
          21.566727595247485,
          22.719165362563974,
          20.32110993718351,
          28.62093878608276,
          24.32479899250776,
          26.982157736083565,
          20.70406512374084,
          22.91519871019166,
          19.449765205723445,
          23.741226054240745,
          23.501938931866878,
          19.005230154123943,
          25.079507247867912,
          13.028723632058488,
          13.799041963303608,
          11.358653641503423,
          19.713882819751223,
          15.225582355816627,
          28.796174981924022,
          20.785743935607528,
          20.947018811665934,
          21.233825992236778,
          23.56088648602482,
          20.721481649952775,
          23.813149830352067,
          20.233658063730054,
          18.433840368358993,
          23.124344367649492,
          10.59081885362298,
          16.888437271681816,
          18.320307810400372,
          18.031412384787817,
          17.004891275370884,
          20.56730367141499
         ],
         "yaxis": "y"
        },
        {
         "hovertemplate": "color=7<br>x=%{x}<br>y=%{y}<extra></extra>",
         "legendgroup": "7",
         "marker": {
          "color": "#EF553B",
          "size": 12,
          "symbol": "circle"
         },
         "mode": "markers",
         "name": "7",
         "showlegend": true,
         "type": "scattergl",
         "x": [
          7.9576160632327735,
          6.991923891114646,
          -2.84515904715992,
          0.4447338197957138,
          -0.018041605424184735,
          -4.388883940273683,
          0.9825012084311904,
          6.2653910800690005,
          1.6728866686483352,
          6.659993962298088,
          -7.711837859256348,
          2.7498071370532036,
          12.55869397822681,
          20.13908582833864,
          3.11503787901422,
          19.922257706363382,
          3.610845078580352,
          2.835414635227787,
          -4.984619238251815,
          0.04990349336920665,
          -3.6522152288085836,
          1.7710528726976442,
          4.319656690450391,
          1.211450947775911,
          4.209084561168965,
          7.173259176684773,
          3.654189154290896,
          4.045917883483455,
          -5.092155884110584,
          21.096008391329633,
          -0.08284061105507468,
          1.7911011225795515,
          20.797184511740667,
          5.424006681697971,
          1.3570493953671816,
          -0.37036922533992017,
          -1.7645992994033648,
          5.271747787284935,
          10.848066001498372,
          8.769026977889373,
          1.7501537676439398,
          13.431460743168447,
          7.058234611416675,
          -2.651176150920435,
          -1.0875959646809148,
          14.17176498322553,
          9.71838413207353,
          11.391302872678178,
          8.279251384485011,
          6.876243693839139,
          10.927028416653343,
          10.129736289803134,
          1.9409747767850403,
          3.467508139209983,
          15.206662927284794,
          3.419796903321905,
          -3.7646783133833184,
          -6.838093210428334,
          21.135842563645525,
          3.0705441602213335,
          -2.5291258553533154,
          0.6017282867595536,
          3.5528452857652186,
          3.8415073469513734,
          -3.8268230977334694,
          -6.091106712484097,
          6.016912739903135,
          0.32652878214796466,
          1.0524862707923135,
          2.344740219317746,
          7.914207677730438,
          6.518632382914319,
          3.650944517789099,
          2.4302029410966104,
          5.715080594132989,
          10.29799601160693,
          13.701165096698455,
          -1.2591941876747768,
          18.141476090185805,
          -3.6254618754616073,
          10.249284902606698,
          10.372966414381112,
          -0.5287986094920962,
          -10.099993492450338,
          0.566668567955908,
          15.147850054603351,
          0.659725151844693,
          8.042466441828926,
          9.890188058910264,
          13.841669448252262,
          0.3497135854258367,
          14.797779221489714,
          10.738369931022259,
          10.127255071476712,
          7.233963068775644,
          3.5474585723152416,
          2.506580076693545,
          -2.5136675302730938,
          4.192816364728214,
          10.317811687100363,
          12.400138153193806,
          7.53607004387399,
          0.837041816640026,
          -6.117847255215549,
          11.009674030151608,
          9.327474115855978,
          10.334028428907978,
          9.01254208210244,
          5.724890999547717,
          6.217239643918965,
          1.0436670817056943,
          10.424771318492493,
          6.54381203897557,
          8.85155168271017,
          -11.211008670534017,
          8.692893652343912,
          -3.835414536810555,
          9.161381208144434,
          12.570166704003164,
          -9.450654296869885,
          17.157866773404184,
          6.917909711718569,
          13.169634862051401,
          5.199847157712361,
          1.2502782195316646,
          7.968876867491445,
          -6.421849909111357,
          14.424345124622839,
          11.640586621288184,
          -5.1606231613303715,
          -0.3951661835697668,
          -4.342977505238142,
          0.03059966630339304,
          8.384510749908717,
          -3.2382859194510214,
          5.346037905842018,
          4.906701326356527,
          6.963877606617338,
          10.002826979056103,
          5.50189455921351,
          0.12421324707941957,
          10.774544439342302,
          12.415676475776744,
          -10.506765483611673,
          14.61966096554506,
          1.0021573733550735,
          -4.1919241110941785,
          -5.248753072826849,
          -4.557983027417195,
          2.730693708822336,
          6.706795546494645,
          1.6727184423768953,
          2.8216079417622857,
          -1.5215035388292824,
          2.8180576417325907,
          10.276538764513875,
          5.683448674077709,
          -0.754323898177282,
          4.111193878363561,
          3.029972823233696,
          1.412953365294298,
          2.5754431215304567,
          7.688524532332041,
          -6.690825403465387,
          10.783310698913699,
          11.166342665386507,
          -7.861013392000181,
          4.922677078645237,
          3.6663961185874214,
          -3.450967806491429,
          9.918828768598324,
          -7.210675667683245,
          9.86512679631809,
          9.359102600886128,
          17.278438085519962,
          15.114056957818127,
          3.8528998578670968,
          6.136387658664727,
          -16.505395615357028,
          9.224609312896375,
          6.394901284301394,
          2.6581165696799367,
          16.205162169320094,
          -11.995630966113442,
          -13.933436693541191,
          -7.073435270261644,
          14.345822072046227,
          2.6135550173157522,
          10.419134383264945,
          4.721349145511771,
          -1.2083737011745062,
          7.401565014046225,
          8.780646229212655,
          7.786171303016152,
          6.249834288632404,
          5.071091751015961,
          8.807135423944247,
          10.908001395973255,
          16.226660582358768,
          -8.231501101660244,
          -0.7809378855459497,
          11.680325288571026,
          -5.235520235251429,
          -0.6220662160951475,
          9.024588950646919,
          10.694646355533532,
          -6.765364838095423,
          10.310682076682399,
          -8.883611549766375,
          -4.946474035605744,
          -7.993874004677164,
          10.230648666037796,
          -0.16985902545049442,
          12.803232567593268,
          1.898478528670337,
          4.532755602692078,
          17.159713543258743,
          0.19231438505386858,
          12.558757893300005,
          10.504038877752299,
          0.3047056254018969,
          3.5533141912444464,
          0.13466553829101924,
          10.801280346130122
         ],
         "xaxis": "x",
         "y": [
          -20.768696397224367,
          -9.955986728596391,
          -14.289634408226824,
          -7.3817454649462935,
          -11.679006826755543,
          -10.773904610611025,
          -6.80479527462061,
          -7.259272243181439,
          -9.991364209122047,
          -11.723521015285687,
          -19.18784312353189,
          -11.291076839159434,
          -20.23728339586682,
          -4.6848001072849925,
          -10.382000233042573,
          -19.197566867411357,
          -11.306382030067446,
          -7.4872502692589284,
          -4.535673704110928,
          -18.768926055868274,
          -14.980894103076238,
          -10.770883900509087,
          -15.587819228214753,
          -5.260106281954326,
          -0.21655555336589782,
          -12.268854676684336,
          -6.802635513629618,
          -12.538556142167268,
          -0.968702673153661,
          -12.78376194835499,
          -14.783649046626882,
          2.9653219582522814,
          -12.870247317746752,
          -15.770560773977389,
          -7.545326305259853,
          -8.034040976948797,
          -2.8775040700643806,
          -5.364028978551864,
          -21.259212728807533,
          -18.584398712309305,
          -9.22230919712953,
          -18.01902776925688,
          -7.670890547234605,
          -1.7740377012147497,
          -1.7525162025923477,
          -18.81107032038767,
          -16.840644898410165,
          -20.40997796664259,
          -25.345030043409228,
          -20.6173749509715,
          -23.10191780484806,
          -20.736821660197617,
          -4.446145854805538,
          -25.255949688431027,
          -12.600834086430083,
          -11.957629961270621,
          -8.223714504714808,
          -3.523880128713428,
          -3.913343940633194,
          -9.82167523590554,
          -4.043925584973664,
          -9.411153410362463,
          -7.979549793229423,
          -2.8594948811879846,
          -2.17945071545892,
          -4.818591437356973,
          -1.6240051556472395,
          -5.745005579808724,
          -1.1785688577082505,
          -6.219031628764745,
          -11.539183659930112,
          -2.3785457779525427,
          -10.383490699803742,
          -6.714748792858196,
          -6.560922669602329,
          -26.089219078949995,
          -16.001375258791533,
          3.812382922994426,
          -11.142485613223515,
          -2.533772055097137,
          -22.210398393400943,
          -19.541105902005125,
          -6.2275998539354305,
          -8.453606479796672,
          -24.205698705551395,
          -14.172036181205215,
          -26.310288131617742,
          -14.935648004702072,
          -16.896431902358223,
          -18.475111702699472,
          -8.656992280908558,
          -17.5325985473584,
          -22.235805207765843,
          -9.451703913645046,
          -4.732024073951951,
          -3.605362639690388,
          -26.7875346337813,
          -20.443101713023868,
          -26.275495529688207,
          -8.001398833467325,
          -9.466056723495827,
          -18.941429647440916,
          -21.5063876730084,
          -6.860556967909043,
          -12.803126847046437,
          -19.69697031451028,
          -25.29800568384786,
          -22.506924485260036,
          -26.025099761354877,
          -26.120062069287986,
          -4.349832203520605,
          -6.834298951094127,
          -15.93648741614918,
          -17.003359267809273,
          -15.32980583215057,
          -24.76150459661655,
          -6.489424207539158,
          -19.75858961168825,
          -22.273614765646485,
          -17.403634129417785,
          -11.66083114723056,
          -25.258576948912907,
          -19.22973840765197,
          -23.765121262373345,
          -22.275446693780676,
          -23.310573896596797,
          -3.773586237472751,
          -15.635834689070249,
          -21.648572059394205,
          -9.980801036631204,
          -11.840698986578532,
          -7.003288956707269,
          -8.904062135813087,
          -15.601057783123762,
          -16.09028681503575,
          -22.426943815044716,
          -16.662818914167495,
          -26.440578852669677,
          -17.352274415294488,
          -26.843421846560656,
          -20.33905641301472,
          -22.53822622436119,
          -19.36108758440895,
          -14.775115665899028,
          -7.854265967494683,
          -17.334197643406505,
          -12.91140003778993,
          -17.63654309313144,
          -13.067931503742015,
          -10.00989431740052,
          -17.12123760800952,
          -13.345556030221724,
          -13.78162541167982,
          -14.9600224065744,
          -14.02558307326519,
          -23.55450553970217,
          -26.882024306190832,
          -13.315108983827114,
          -24.44879488464008,
          -6.703588318986091,
          -19.971139017434272,
          -25.34176684069699,
          -23.18037549390028,
          -16.43890596641104,
          -21.905780571195333,
          -17.88528779737118,
          -12.760316678061912,
          -18.102520946524216,
          -10.910969565854794,
          -11.679319380599495,
          -23.711637247220928,
          -18.742869615462357,
          -5.568726000922789,
          -18.773234969583463,
          -14.210471684780615,
          -6.61365265816577,
          0.41050234855682216,
          -25.560138379722677,
          -25.25927623281381,
          -23.029470142965884,
          -8.018308546429306,
          -9.68777140174391,
          -20.21555299192441,
          -21.517223983579647,
          -19.155650406372978,
          -17.96320951393252,
          -22.448239296499974,
          -7.799130774761537,
          -22.69744584481172,
          -22.459198553993467,
          -17.007386636714877,
          -26.311343975432337,
          -25.798833637892514,
          -0.9131187200246493,
          -26.50750761077337,
          -24.19126025170049,
          -9.227248739244951,
          -9.19574961206717,
          -17.05534066529069,
          -13.919701605789518,
          -9.767271555269978,
          -10.294421483844069,
          -0.7839956748097012,
          -9.238996968748802,
          -12.33301911206033,
          -20.307626361286747,
          -11.749649226671925,
          -16.026045432975792,
          -11.842585211470144,
          -15.447528723822986,
          -15.346785560125843,
          -18.49326207389917,
          -1.4959634452175192,
          -11.286824715241401,
          -18.37612560756382,
          -22.648773556723086,
          -14.905555585549246,
          -12.032717213349352,
          -13.144057137167465,
          -14.139553569293685,
          -0.5014277076008817,
          -17.9722407695331,
          -18.647269984479905,
          -6.960262456196731
         ],
         "yaxis": "y"
        },
        {
         "hovertemplate": "color=1<br>x=%{x}<br>y=%{y}<extra></extra>",
         "legendgroup": "1",
         "marker": {
          "color": "#00cc96",
          "size": 12,
          "symbol": "circle"
         },
         "mode": "markers",
         "name": "1",
         "showlegend": true,
         "type": "scattergl",
         "x": [
          -15.906105182723437,
          -23.255620691255587,
          -19.189779501252733,
          -20.851998429466132,
          -19.406631187631387,
          -23.56550951590942,
          -23.89206851721392,
          -21.561378697749397,
          -20.242243946103738,
          -24.09607766770904,
          -20.60603128041822,
          -20.175482387199903,
          -24.68563573660471,
          -19.632684983964815,
          -26.95498274243332,
          -16.928597144010507,
          -12.960693062823934,
          -21.54342133160311,
          -26.069903641414918,
          -19.143514798193625,
          -21.87708988115896,
          -23.029152000718657,
          -20.445708737784084,
          -18.30484919598922,
          -19.84272483010731,
          -17.8526102610518,
          -19.473197328964577,
          -15.665607667477401,
          -22.503719251890136,
          -20.542042578550493,
          -16.316095654282993,
          -20.749203624815447,
          -25.4237497729829,
          -20.43315254739816,
          -20.468073386912344,
          -25.22213899227801,
          -15.98330978556575,
          -10.43178274368125,
          -22.366278699464694,
          -23.694152314622254,
          -21.291473425404057,
          -17.377016790213474,
          -9.29790435397727,
          -20.66573191203041,
          -14.185295015053994,
          -13.562034004364602,
          -12.81698343549656,
          -15.96130497045207,
          -15.175835232792416,
          -12.044688597218085,
          -17.905771753370065,
          -19.61065373511338,
          -19.458030584412334,
          -16.961339027432157,
          -15.8656489959276,
          -18.632616919166857,
          -14.602516900045526,
          -11.733700069284186,
          -15.087751277413673,
          -24.383947612566104,
          -21.915913368474126,
          -24.338566131817686,
          -23.377711242348674,
          -13.594586840383988,
          -20.91959632780523,
          -21.280000795730288,
          -5.155775089501893,
          -9.664767572080276,
          -16.822061057928437,
          -5.389713623690676,
          -21.080186069248988,
          -22.16736775915548,
          -20.489073238362693,
          -13.843671995146924,
          -12.33726075666815,
          -18.68602530713219,
          -16.321001055472635,
          -21.4094052237192,
          -19.175762660917627,
          -21.47134944001958,
          -13.947615543855331,
          -17.425947140151756,
          -19.258731386732844,
          -17.972021111503178,
          -20.21181432774156,
          -7.8939739255159225,
          -14.383123552178374,
          -20.079903230587075,
          -19.649407637012086,
          -13.925384210883616,
          -17.07245454059895,
          -7.906556322090376,
          -21.633562813638726,
          -12.77017149236678,
          -17.156417251687095,
          -17.408189048253856,
          -23.135774005291626,
          -12.879025691663172,
          -23.39470758903588,
          -24.58383669630175,
          -24.176906713524186,
          -31.16989979712108,
          -28.40321767286992,
          -28.858177193951093,
          -28.833295810875036,
          -19.144972269479265,
          -24.802723975514596,
          -27.87606991867704,
          -27.07943686282884,
          -27.482940295892302,
          -8.508925640280129,
          -26.15002764500287,
          -25.34235146598555,
          -25.85434219802775,
          -26.494871009241596,
          -23.84668846106971,
          -23.41040696914148,
          -28.391558192409693,
          -23.651376534327486,
          -22.98324658302505,
          -21.99508323310616,
          -23.19169080314001,
          -23.280381219615396,
          -30.25584087777387,
          -25.850820393697237,
          -10.113555668623526,
          -21.228270325302482,
          -26.62576920861944,
          -17.755309084302834,
          -15.160606334384067,
          -12.35425236333833,
          -15.168580185506498,
          -18.11780633936626,
          -24.278469947815786,
          -25.499838708713753,
          -28.365274321973022,
          -12.680218227164975,
          -25.108026279082328,
          -21.811144714005387,
          -23.6714692584493,
          -22.60354556708568,
          -26.395864096794817,
          -17.704613442678436,
          -21.388390605245274,
          -18.579320215815567,
          -21.45586660937155,
          -18.38890597462064,
          -20.053046693787312,
          -23.220131387536604,
          -27.875349023560318,
          -20.506740368220758,
          -22.024183501439232,
          -21.333356206673933,
          -19.418668879528816,
          -21.717043251422407,
          -16.717956743840805,
          -16.628643263872192,
          -3.937168383227492,
          -17.573324609579515,
          -23.2494455686732,
          -4.73746852597706,
          -8.885184468968303,
          -22.66138179966391,
          -16.805775930265415,
          -13.606257337514066,
          -20.61903568655296,
          -19.679598859854924,
          -18.94597738045547,
          -14.61099111595526,
          -12.417205340541987,
          -6.458158343720166,
          -10.37818265727992,
          -15.478900727796477,
          -19.837539478208043,
          -10.962859808777916,
          -18.681261322335047
         ],
         "xaxis": "x",
         "y": [
          3.3324598456326697,
          -1.9067559450920237,
          -4.515541935990073,
          3.0781632884376644,
          -8.135230130108573,
          3.62125426209492,
          0.5928306394953986,
          -8.819548960184665,
          -5.357027248859355,
          -1.8128455763354296,
          -14.85944941465795,
          12.002424612090438,
          -5.215517939721651,
          -11.99624953895844,
          0.8162878423673756,
          -8.00273607751971,
          8.28202410706209,
          -8.631605600508806,
          3.508918844481735,
          -2.190160933280254,
          2.2774420212961046,
          -2.410266621626537,
          -6.70455622007634,
          -9.52606875911137,
          -8.780032248143339,
          -9.136755202144458,
          3.3440245099932833,
          -1.2307329280409467,
          0.8222538850257117,
          0.04206608488521142,
          -3.3659251408400346,
          -1.9286160204741318,
          0.5508640271958267,
          -1.708689558465597,
          -0.5815512720278807,
          -2.7254342867921992,
          -2.73154450996555,
          1.047129596238197,
          3.8722953436197334,
          -1.825368875407035,
          1.7548590131564075,
          8.30678837233331,
          13.632872290914799,
          6.617098084566038,
          4.54734270157826,
          8.265473017580065,
          8.026898470966525,
          3.849040974963158,
          3.4352861514117268,
          6.382650574596973,
          5.6783128061052635,
          10.279008529360626,
          4.3159988273788334,
          6.479504352213251,
          -1.449107516990844,
          7.778085874230938,
          -3.254562621271401,
          6.7196149938312395,
          -5.898982673655862,
          6.563430088794036,
          -0.09510516260454698,
          6.37557188110685,
          -4.1032805505907515,
          -9.861088964317277,
          2.180637583094887,
          4.757892500120069,
          -3.666622383133022,
          -0.1684427062474029,
          -8.985136745389452,
          2.004695813644292,
          -1.6311236874881245,
          1.7336322160292057,
          0.22733922534050077,
          -6.594623143028245,
          -5.797087038577421,
          -1.5496653365460327,
          -7.0364746218161365,
          -0.4697277975302121,
          -0.8971504214444235,
          1.2281359918055468,
          1.6352598547522839,
          -1.7228750008879938,
          9.030451843935472,
          7.822428145260771,
          6.103365860296347,
          0.9697200443320855,
          6.484414617139832,
          4.541703448989915,
          8.100001125259125,
          10.811258846817209,
          12.49463961177265,
          14.159893750502537,
          8.552818325704951,
          10.263695647085864,
          4.154839034716228,
          12.168297828648393,
          5.440712345908607,
          -0.9560630524363951,
          5.353393957554278,
          3.2142137325980924,
          2.5861420423327703,
          8.264716961676168,
          3.1782966582589087,
          7.5087305563511455,
          4.4057958893132545,
          -0.7605814305272218,
          4.767679229558187,
          4.252568490412397,
          6.015401948229022,
          4.68248505868021,
          -5.280656746319534,
          6.178782348941264,
          1.863264708754241,
          10.810948000913461,
          12.185235006652137,
          -5.6130679135108075,
          -2.771007462940967,
          6.5090532166745705,
          -10.915830801675844,
          -1.3505323819966564,
          -0.21240484550554475,
          0.9480845925584498,
          -12.887454322921743,
          0.1491093926319442,
          5.907627704093968,
          -5.568446305114467,
          6.156919368936949,
          4.971980170061837,
          -0.41093127812848873,
          8.479297560648874,
          0.9207752409052825,
          1.6808209461255212,
          -2.924922257121181,
          6.209943503205315,
          9.137421510390622,
          12.041103437478034,
          10.821762420360052,
          2.192742098837823,
          -8.945888497005715,
          3.3519091164019983,
          9.34924295804384,
          1.3856308548510017,
          5.224420845440184,
          7.399168118453561,
          1.0206827490714896,
          3.3191493129868452,
          3.1087370543695965,
          6.602356239762662,
          5.122089333684572,
          5.61827064322731,
          3.2605181552296347,
          0.9954326004549636,
          6.34977318505844,
          7.935602312649677,
          0.5340317124153527,
          4.562073889351967,
          -6.696501378957342,
          2.8574227465990294,
          -5.398855438418506,
          -6.531305808394277,
          3.0157114280614827,
          -1.0091621012747907,
          -9.373792932509213,
          -2.496918631451723,
          -5.152129146349563,
          -5.4021686226275945,
          -0.10926813593278781,
          12.721265198463263,
          -2.619286463412724,
          0.7946761219961179,
          2.1808200654683016,
          -3.251530897772886,
          -16.05928095509903,
          -7.85312099215163,
          -1.0744531802135453,
          -3.6642918435168466
         ],
         "yaxis": "y"
        },
        {
         "hovertemplate": "color=0<br>x=%{x}<br>y=%{y}<extra></extra>",
         "legendgroup": "0",
         "marker": {
          "color": "#ab63fa",
          "size": 12,
          "symbol": "circle"
         },
         "mode": "markers",
         "name": "0",
         "showlegend": true,
         "type": "scattergl",
         "x": [
          23.30687281542836,
          24.456741668335177,
          25.045091093626084,
          28.181626888575575,
          19.446587458716987,
          18.20044239985737,
          22.568153188791072,
          22.77232794936965,
          16.832211480120268,
          18.74806455030464,
          16.710691711196603,
          24.50704085496806,
          18.417615926724988,
          22.416447535895415,
          19.641330253771667,
          25.338741203505155,
          20.379781376667594,
          26.25005547651365,
          24.845192145587163,
          22.257850245596543,
          22.6977544164579,
          20.91781991819738,
          26.45292708845794,
          23.395294110257975,
          27.566229192714022,
          28.88921760615108,
          25.971697208596787,
          26.413634994318,
          30.39898483574799,
          20.693202445060813,
          29.467782403645742,
          28.09618844019508,
          28.852781526185577,
          26.837523856185722,
          17.78119357143667,
          21.985837731761503,
          22.099849170413403,
          19.18467142042698,
          22.578022144508708,
          20.216319383354737,
          21.29483242682799,
          20.787774747493394,
          21.576677508526977,
          20.315654986200702,
          19.014319425015184,
          19.36764864608897,
          22.316501662430383,
          19.172626591139927,
          24.738587896003082,
          14.66646058917146,
          16.851193571017788,
          18.551117643156115,
          19.827391397970178,
          15.656781911245703,
          24.392673624907545,
          15.05760785681064,
          23.26415088441049,
          27.16190914166853,
          18.234160683828357,
          18.360718982895737,
          15.726875315874844,
          22.359381294332906,
          25.187295246786558,
          19.526084404639327,
          14.952204885347175,
          23.407121930684614,
          28.222177945610323,
          29.81284472368594,
          25.7440173129976,
          28.953240106284635,
          26.977207843499336,
          28.859784927822407,
          25.292665182848705,
          25.413772412076217,
          25.67647410140696,
          27.27052092462261,
          28.75696618234261,
          29.557559858546274,
          26.431547826161985,
          28.227634574961662,
          28.76330323694233,
          20.432067047000714,
          22.699894909411913,
          16.78028212696379,
          19.889538630757297,
          21.65337825439621,
          22.452067472478795,
          27.23664958557682,
          20.532321542131758,
          13.6157614397456,
          24.44560450031327,
          17.003641910112172,
          14.489791155544468,
          21.257877340739416,
          16.474603440271405,
          18.09638203216235,
          17.337612130664876,
          20.19453552361606,
          23.32308245958031,
          26.044893579105455,
          14.353693087862256,
          23.768443812343328,
          17.57997680573262,
          26.762973832999027,
          27.292238365880134,
          21.017467969164368,
          27.990304039424856,
          26.162948520827328,
          27.361415242040696,
          28.984710662015765,
          27.798680650395625,
          29.515866120612593,
          23.889153702129626,
          29.97706114528798,
          28.12397457905355,
          16.373162049474896,
          23.459431357460478,
          20.530520298943404,
          18.371752750517853,
          24.547000811417632,
          23.411185560782922,
          29.479084043799038,
          24.74708528213148,
          20.99945532947905,
          28.842033063192197,
          25.20042600545682,
          26.46136133122789,
          25.367563267355315,
          28.629770073107014,
          18.08988805969464,
          25.78967464546482,
          25.03347085959407,
          26.68918443086223,
          23.6403267974926,
          25.73807900918137,
          26.75080067894359,
          25.095009781923704,
          24.409421810510224,
          26.74762837279785,
          18.59251774597025,
          27.008542042474396,
          27.522979731206593,
          22.25333025699378,
          24.0794020956271,
          20.519569274590534,
          20.092275509150333,
          27.286971450344833,
          16.13381824675467,
          28.290252241029695,
          26.282902330130344,
          23.754031093589656,
          16.484073193767284,
          26.6757123026341,
          29.096227300136118,
          27.78817448690792,
          8.07939697219718,
          27.104018699910334,
          28.997195330460848,
          25.15946880799293,
          23.606629721797834,
          28.43572455531213,
          23.603397477347617,
          20.230829494108324,
          26.803278650458488,
          28.181203396885028,
          31.700127763536393
         ],
         "xaxis": "x",
         "y": [
          4.269064763003052,
          2.6613028015124214,
          0.7712365558829947,
          7.427006465216138,
          -4.4108505184469085,
          -13.21294890901005,
          0.6865906776022346,
          4.986725664484032,
          -1.3880829180205692,
          2.6905257879116564,
          -12.116901718551716,
          1.2244868977255383,
          -14.95412298958027,
          -10.872647343617192,
          -12.415474038391977,
          -12.58939882567207,
          -10.446029613777831,
          -11.80675656846631,
          -13.100010274584985,
          -15.988397032072275,
          -13.280923053607978,
          -1.5932689919482974,
          -3.943978846877915,
          -1.0159248324051788,
          4.13055667705833,
          2.742378832004657,
          2.5738404667097172,
          -4.164946449104479,
          7.809737449541184,
          -6.389236598409437,
          9.379356228969698,
          -0.707347516824679,
          1.6754647942338072,
          -1.2303325739869713,
          -3.7714854916848433,
          -9.72338375472218,
          -8.115489546382351,
          -6.366935245014291,
          -4.811071977760967,
          -6.141905620496969,
          -4.468396707145613,
          -7.135618298977204,
          -4.090909006321625,
          -1.8507543924647973,
          -9.495105482306764,
          -6.42926079989226,
          -1.3325886329729837,
          -2.814620000596648,
          -2.535339579375322,
          -9.159104265081512,
          -6.483924156523073,
          -2.0420464309840862,
          -3.5611030817450366,
          0.23668019956286832,
          -0.8281066964128855,
          -4.331805411357658,
          -10.444181896968004,
          -9.284115138157144,
          3.158058949397602,
          -10.618777102777777,
          -5.908769405787875,
          -6.695388467646587,
          -6.7488639540775015,
          -5.598113480273677,
          -0.6712546061184835,
          2.56750007381036,
          3.122616738476665,
          -4.172386644251167,
          2.473324192152515,
          3.1411779935993107,
          -0.9096035064649962,
          -0.7226843578817818,
          13.64977605930416,
          2.3459115352645643,
          4.368062657038729,
          -0.556109787811565,
          -0.36060017726926313,
          3.9303876175888828,
          9.504647562430462,
          9.628077996251283,
          6.931776136807492,
          5.506600506170494,
          3.641177150556053,
          6.694967769250324,
          -0.14465357108949067,
          14.01291514076452,
          -1.4764485542847068,
          3.135355745871584,
          4.845379737867164,
          -3.888384791537415,
          -2.853933899370787,
          -1.8587550786635068,
          1.0510472639383808,
          1.0182987664612373,
          6.659080708901206,
          0.14747497678444563,
          -1.4926399305165998,
          -6.286826990281834,
          2.897472578948991,
          9.176248145243456,
          3.2049646950071686,
          3.2295389066774227,
          -7.21030187876741,
          1.8668033839860867,
          9.036210248480995,
          1.0346302886552634,
          10.210461968116796,
          12.670248514466506,
          3.797790539344688,
          1.2060248429631102,
          6.522145637236018,
          6.809986181692973,
          6.135193096724797,
          8.00816892704352,
          9.994561634326885,
          1.756886063551119,
          11.085006742122744,
          17.857583737245683,
          7.268453314767996,
          12.457832935433869,
          10.741055023381326,
          6.672152617803198,
          10.305642511666097,
          13.258938677702648,
          2.0067438435085485,
          11.2396946834466,
          11.211582356466781,
          9.051918902816707,
          9.727164250098962,
          -2.9552436185344075,
          -0.5440333073840007,
          -3.711545109809968,
          0.6650697150976285,
          -2.225389354389877,
          -2.5337663533403947,
          0.9822260395527072,
          -4.111304276573371,
          -4.9914381168858535,
          0.030337048106594128,
          -7.404421597954501,
          -2.301944398889296,
          -5.5026753060866005,
          -1.4443752843953614,
          -0.5207480217607087,
          -2.1368296922785883,
          4.600945459216415,
          1.1807590311497755,
          -6.298399070775072,
          4.315843034048157,
          -3.037675209828065,
          0.13950304320019147,
          -9.761891677587585,
          0.7498664752262698,
          4.458702943494531,
          5.314844524981723,
          8.660271825450485,
          2.172058423213613,
          -0.2444674947837689,
          0.1977600005963342,
          6.089317161503905,
          12.254406291287538,
          3.4107002056160765,
          2.3701829565301726,
          2.2324816793320927,
          7.782535610685026,
          2.783568142768829
         ],
         "yaxis": "y"
        },
        {
         "hovertemplate": "color=3<br>x=%{x}<br>y=%{y}<extra></extra>",
         "legendgroup": "3",
         "marker": {
          "color": "#FFA15A",
          "size": 12,
          "symbol": "circle"
         },
         "mode": "markers",
         "name": "3",
         "showlegend": true,
         "type": "scattergl",
         "x": [
          -14.087091888585718,
          -5.2551370773524475,
          -5.48019999489859,
          -13.771361733301946,
          -14.534225961113282,
          -13.630450296117003,
          -13.375012930304031,
          -20.743857680629283,
          -18.424397914274063,
          -16.437776549201686,
          -11.928591384119548,
          -16.191293002726834,
          -15.354969143126473,
          -18.297924497045877,
          -18.429517436704373,
          -16.198655216910975,
          -14.511933613814177,
          -16.935095769187033,
          -10.30124400886808,
          -14.937836430668563,
          -14.048472280221612,
          -13.94189289273117,
          -8.97137638153221,
          -4.061179193529639,
          -11.580751071689258,
          -6.672941121645015,
          -23.422104921752602,
          -17.348920460336316,
          -7.040395759066852,
          -8.5461886117616,
          -15.14265754566296,
          -16.038913700731406,
          -8.132996178450009,
          -4.804952875523234,
          -10.211679253213667,
          -7.034025821129018,
          -13.463384224243434,
          -6.873212007323996,
          -4.929904114139187,
          0.1367984931960642,
          -19.393360992255154,
          -13.670277050201207,
          5.089405778719634,
          -14.629182980960293,
          -10.659158063868368,
          -15.222861458767815,
          -12.271896868201926,
          -13.239893394345001,
          -4.829474054191919,
          -20.694896391895334,
          -5.49421070591224,
          -7.016315640207669,
          -11.389709569759487,
          -13.914962976208386,
          -12.832922703224375,
          -21.10355553882887,
          -5.327304793984381,
          -11.949685973989665,
          -11.805014174089484,
          -2.2974689687940764,
          -6.596952248164365,
          -1.4785850555828883,
          -11.077239834650852,
          -12.838805997621893,
          -5.925325618270185,
          -14.73475983544434,
          -7.940906452684421,
          -13.994176207146463,
          -7.950998923724086,
          -19.229037878754163,
          -9.996502179036066,
          -8.672602059494205,
          -12.070666312881642,
          -13.645550006135329,
          -13.674443552641423,
          -11.298543117194766,
          -11.530668094388703,
          -19.445884445138958,
          -8.376869649234312,
          -13.309554812557927,
          -15.099266510440959,
          -10.96209279465271,
          -11.770810343340722,
          -13.998568763154687,
          -19.138395352210026,
          -7.968518800110113,
          -14.220945144294273,
          -9.376845241503915,
          -8.24564233141939,
          -10.220622088306566,
          -11.476502292002369,
          -9.192674110021525,
          -20.81630511382376,
          -12.21699355510415,
          -18.438690100757753,
          -13.786655813417958,
          -5.899136604282162,
          -3.2391503944868845,
          -3.684887982232164,
          -9.733885698684084,
          -3.3919584142565817,
          -2.6797601811765337,
          -0.9986131234035012,
          -19.501841189992582,
          -8.890808430020096,
          -11.335957030756902,
          -16.51393784755467,
          -11.048380064170018,
          -5.758094489090846,
          -17.702799481988592,
          -5.5600215321541375,
          0.9756555579466113,
          -16.603948002153484,
          -12.514982600332647,
          -12.60690111613105,
          -16.926071900072337,
          -14.796541748088467,
          0.15382328219767896,
          -11.46872200929312,
          -20.861117882689904,
          -8.95398506754968,
          -19.545707251873658,
          -13.14161183454421,
          -9.526223574865323,
          -20.1059468391054,
          -13.170185231314441,
          -7.196987756905896,
          -21.80270120396795,
          -24.947297852623404,
          -15.065680876751754,
          -13.830512322164866,
          -15.870824421882155,
          -17.73454688784342,
          -11.398781822283235,
          -21.220126840128337,
          -6.497905522173663,
          -14.666633786466637,
          -11.536338164002107,
          -18.313229999787644,
          -14.359212208416327,
          -21.044801179346514,
          -14.880144829112211,
          -8.74357645253357,
          -13.749686253687376,
          -6.427620429044858,
          -22.686827562522467,
          -13.786052953391934,
          -7.8130656545347685,
          -12.592226163658331,
          -17.648552212715146,
          -16.833702692948883,
          -10.83475006609692,
          -9.106998859380385,
          -21.184997256250096,
          -11.75829033354463,
          -10.903058852987341,
          -8.30729529371638,
          -12.299080578598307,
          -7.922649824742825,
          -13.058307347247101,
          -4.5170845252195475,
          -8.55644756196928,
          -9.666005865695437,
          -10.212186085385845,
          -7.745802245008925,
          -19.522808068767226,
          -17.126215943393785,
          -2.289086677782198,
          -17.40139937163824,
          -12.037017989319537,
          -14.579202982699263,
          -17.06733550513364,
          -6.536483353538473,
          -18.01280859309067,
          -16.433541870974075,
          -17.983537551477493,
          -17.21948535595746,
          -14.434576309591655,
          -19.44367294216665,
          -22.31821507259158,
          -18.63205194260271,
          -23.353096350640737,
          -12.10821078950902,
          -9.572073858985545,
          -20.58835921700057,
          -21.333453828655845,
          -20.158716808746913,
          -19.347273094247996,
          -14.121400105468352,
          -11.74134023099632,
          -14.779918185052521,
          -19.400448417397417,
          -19.654678922331946,
          -18.101832465820564,
          -13.681920759368566,
          -1.0244757162142408,
          -18.877436195366634,
          -10.094250838924044,
          -12.493532020868232,
          -21.454092488492616,
          -13.056544844134743,
          -7.995307644130611,
          -22.955503227145496,
          -8.580344864540928,
          -8.44855961509786,
          -22.167315630052986,
          -24.54419497364344,
          -13.938951260669755,
          -13.897481114714417,
          -8.06893836710286,
          -20.602818416469482,
          -4.080116967197458,
          -22.37900971237347,
          -7.086085185614982,
          -16.684098070576162,
          -21.727972031396078,
          -6.401795010571447,
          -24.928314144436005,
          -7.091918075821825,
          -19.08184470858489,
          -5.714444858046168,
          -14.622673998182925,
          -24.311253808370857,
          -14.860483936897113,
          -0.8022412238962824,
          -22.85510537774884,
          1.3408693780344945,
          -20.10407821229168,
          -0.23831903357197762,
          -18.147928066427696,
          -22.15516055191386,
          -19.49636658012756,
          -16.795582800155163,
          -16.528848583308086,
          -21.674655442258135,
          0.43790275920484917,
          -23.124088859808463,
          -0.02775712275138319,
          -18.072518649554787,
          -20.0055095923334,
          6.717145302754456,
          -19.148645380504902,
          -8.393398259314914,
          -19.232585421703508,
          1.5771040165111,
          -16.654892677870023,
          -3.9724525895867058,
          -14.606625870231904,
          -4.8720963509418596,
          -0.34439669580751237
         ],
         "xaxis": "x",
         "y": [
          7.914445107659757,
          1.1833614094442548,
          8.076337560017992,
          8.846401614037372,
          9.43262198945482,
          7.37062125253947,
          9.993780208741336,
          12.822919996358673,
          11.801829002460314,
          11.554030808354247,
          11.517817120644319,
          -0.519794300353244,
          13.881217058134999,
          14.03416296165752,
          11.876405909243747,
          11.615040896726851,
          12.323858305796602,
          12.657660176022418,
          10.452405453181173,
          5.3364245042587015,
          5.211261194775177,
          9.539752267231572,
          12.688581574792154,
          8.399258821928282,
          11.226681839071084,
          1.7017143751724717,
          8.731551041723156,
          10.648120657742432,
          12.80060354483309,
          14.437865230956312,
          6.686856548467165,
          13.8699633868316,
          4.391081150832965,
          4.520721848898079,
          11.64338445546164,
          1.1465420487532076,
          11.424524696678986,
          8.282630104905195,
          1.7271310941599598,
          -1.0727242369414214,
          9.699601924630567,
          11.026437732483618,
          6.8734331758376195,
          11.355883184652422,
          10.801323801783438,
          1.133806313829449,
          5.254421693857843,
          10.225303051954919,
          1.5331157119524386,
          11.77169345498226,
          -1.8603139835183358,
          2.6232179112782736,
          9.719237606643048,
          9.679981452660716,
          9.177277714508147,
          10.883846846629242,
          6.144273140657042,
          7.037402373328472,
          8.904759145170528,
          9.164696083625508,
          10.800529784634733,
          8.146620709479919,
          13.289056891714258,
          9.45626354116796,
          8.747877993724346,
          12.654193415645356,
          -2.2537097277324882,
          13.45580542877014,
          9.951138454663313,
          6.43202128775942,
          14.464174641508164,
          14.061204773657549,
          2.2800238510761224,
          10.911880377270915,
          9.329887810303441,
          14.407368004598014,
          11.774178170176045,
          12.570314723611386,
          6.198561779578749,
          12.15565785025785,
          7.956510334181499,
          7.777282474646232,
          6.719925012427194,
          13.979493801392024,
          10.210062789156037,
          13.547155461923541,
          5.802124933334917,
          1.21705407684587,
          4.5150997129447665,
          14.702934527671813,
          17.152975525576174,
          11.313128197259138,
          12.347140964862215,
          13.227072445834256,
          16.36479214102772,
          11.448620840132001,
          1.219355370495761,
          3.486243707877015,
          0.1003620485493007,
          -3.091241521196561,
          1.7823369355522303,
          4.838232093247007,
          4.703838877114262,
          13.92147282187202,
          14.895741317242477,
          13.611445636590643,
          15.51578881973372,
          9.119143686208847,
          1.4352404362840272,
          14.583541091191561,
          3.310408022882419,
          5.016532249651138,
          16.67145038302997,
          11.082962659186803,
          8.238083927760533,
          12.731662856686599,
          13.823037446804998,
          7.706165146487034,
          16.041765970076185,
          12.020259442330367,
          5.0072138260008066,
          10.886696389041088,
          13.577643158980981,
          0.875960323702305,
          13.92813399312205,
          13.605816697467567,
          3.904237231073414,
          8.929601887121668,
          13.182687217566814,
          16.84625026197983,
          12.69372736397873,
          14.986516521695812,
          14.970397274825778,
          5.161197632725019,
          14.26081608156923,
          -1.722833994096274,
          17.8495176812821,
          3.837095358442588,
          10.680459884200152,
          11.306684250461249,
          10.018587191936371,
          14.459631043714943,
          6.15234432220487,
          14.181317882397831,
          4.911525547054341,
          14.439858581983618,
          16.485202572856423,
          7.408441747737762,
          18.629289598580332,
          16.2039429269641,
          12.766780629785972,
          7.099145287067344,
          0.9737908435087367,
          10.509441338514831,
          4.732810260462957,
          7.629530993693323,
          0.7093650766382251,
          7.380618144946082,
          -0.14246151138775567,
          6.921214551432275,
          -0.5764568349198036,
          4.910529390769341,
          10.366231258096377,
          -2.419573317148726,
          4.82981615882453,
          9.336890844207783,
          0.7098633980792919,
          2.4179953246614208,
          -1.215716852432856,
          2.341947845732355,
          16.415307539363685,
          10.177151619065297,
          12.620589805610994,
          13.724352368099652,
          12.220062056198923,
          11.478028070570911,
          11.303359701816113,
          8.558901797545843,
          11.245688300652134,
          10.985210116222772,
          7.688315667303496,
          13.525168659194714,
          8.859183631060446,
          16.109874001265318,
          13.89609860991117,
          11.624892362685873,
          13.425156082979221,
          13.021541677435911,
          11.246913616412147,
          11.05618295324897,
          10.936879055077675,
          13.316183773885756,
          13.870225928307736,
          10.849683294986482,
          5.591547991725079,
          13.604120457449795,
          7.513941080216948,
          10.805094443836072,
          4.092311894119014,
          10.385219914437123,
          12.898032143663096,
          -0.22706453596276532,
          10.750365634108265,
          15.238553433631616,
          0.6648533860418385,
          10.81134874785718,
          13.509774173325258,
          13.52816859495141,
          11.854558058590321,
          12.226400077297454,
          11.816106415529424,
          4.617407032118521,
          13.23584438885544,
          2.5751794278556592,
          14.038183763424202,
          13.248458584354431,
          11.722118546275462,
          11.082164579962674,
          0.1695991283695293,
          13.21539042907697,
          -0.9391917723760391,
          10.854133021905806,
          10.633807575757555,
          12.205946247396758,
          2.1361600542626236,
          13.27500256346634,
          -1.4568985119931908,
          9.392453075015963,
          -3.711894800612362,
          12.076997033281263,
          12.470582346975325,
          12.570273165710818,
          12.31752592216165,
          11.985909260520513,
          7.92348020152016,
          5.283825960084116,
          12.816620317699131,
          7.8355251272122075,
          15.331563096080941,
          10.245273760258177,
          12.074892169058721,
          12.687315005653987,
          12.767491420434279,
          5.1314068065235565,
          11.487577557092715,
          7.941857907273354,
          14.027012984659375,
          13.344119740327741,
          12.423961904365573,
          6.365541283771259
         ],
         "yaxis": "y"
        },
        {
         "hovertemplate": "color=9<br>x=%{x}<br>y=%{y}<extra></extra>",
         "legendgroup": "9",
         "marker": {
          "color": "#19d3f3",
          "size": 12,
          "symbol": "circle"
         },
         "mode": "markers",
         "name": "9",
         "showlegend": true,
         "type": "scattergl",
         "x": [
          21.363413395083505,
          17.166679827777102,
          21.334220849086634,
          18.006554738683665,
          22.426661807755387,
          21.391646072953357,
          21.364602480119363,
          14.768490717913139,
          21.69610914825146,
          22.068802168591784,
          24.502373781920085,
          18.068344083262986,
          14.555743422704428,
          18.005021867212974,
          20.024519301460234,
          18.19738204362124,
          15.698003585065468,
          23.703126728667577,
          18.444516416688668,
          18.897532241846243,
          17.329364309217635,
          19.47236252203939,
          17.478343251681704,
          9.93060914373985,
          14.565757771134397,
          18.382029898239175,
          14.974744226388848,
          17.759394478744472,
          5.496338122545779,
          14.124561654005069,
          14.665723379076912,
          19.17948810528725,
          20.556021508674434,
          13.95690423650603,
          17.34616936737492,
          17.11107565761499,
          14.958507632224352,
          20.823943682946812,
          14.064812841533344,
          16.155834267348915,
          10.030238517129478,
          11.158539193750569,
          19.396277302734916,
          16.821679646328512,
          17.595214704491667,
          21.069030952950037,
          13.58523171835741,
          12.78167399002842,
          20.86314248655721,
          13.997307275486222,
          12.621626421392154,
          13.09638534679284,
          14.077509452567698,
          11.960666600924878,
          3.217884470241193,
          12.961410357197089,
          12.77294052876025,
          18.35968318940109,
          12.48002587995429,
          12.102826758419747,
          14.414349098224033,
          17.712349356917485,
          16.353840514361714,
          17.49266649402923,
          14.496015397108716,
          16.789286058302935,
          19.30236761723381,
          17.318188200918467,
          20.26992723501674,
          11.855730214251713,
          15.433589368856337,
          17.53595438198439,
          15.198607241062101,
          17.94594069393038,
          19.9371389829362,
          15.201574556607875,
          23.094552364607097,
          18.234048727622646,
          9.084625353407663,
          4.304378797785813,
          14.56960393069223,
          11.166997567270055,
          20.479035391913392,
          19.680269601027028,
          13.873013152999587,
          11.250621185417174,
          19.00207516220814,
          11.082454636103371,
          13.278583115423732,
          18.839077416118627,
          17.413240846266298,
          12.529067333393856,
          15.769602757093375,
          10.329908278755138,
          15.311993326434521,
          9.667837263297422,
          17.429586511635673,
          14.007427228751308,
          13.241278057116794,
          10.636214960994963,
          19.927231943108147,
          16.558491971657986,
          15.676733603061514,
          15.906459945972173,
          12.785949512218036,
          11.121712869820769,
          17.204062086005543,
          18.88879103908371,
          16.59247633749471,
          15.344988761400533,
          17.28236834973297,
          19.793230893050392,
          23.701623755013237,
          17.74659615322161,
          13.62654076777852,
          19.404812281980274,
          15.092808879562298,
          5.380524639253234,
          17.912537163734378,
          17.809040395704386,
          17.49824280877266,
          13.793386851339609,
          15.59647578228198,
          19.01545261998302,
          19.401876939322285,
          13.50791673194302,
          15.258918030416755,
          17.175310375419443,
          15.397616433758344,
          16.51751645400216,
          9.361815528379648,
          10.840986835285975,
          10.994862688176976,
          11.98511740457336,
          16.8473145998374,
          13.097735433366983,
          13.694101716328097,
          14.906173934420027,
          8.886699122890766,
          13.84493495737953,
          16.696929895196245,
          11.775337492225875,
          11.42925535139392,
          10.42008857640455,
          11.702689657603766,
          9.7886478766956,
          11.26375337115642,
          13.175929197169221,
          10.537966596325553,
          16.242446458950667,
          10.622570907105173,
          17.125947082137493,
          14.460521792799703,
          14.132725866195598,
          14.665262816953822,
          17.030615560263694,
          18.412288388478743,
          15.29774296239487,
          19.12502922077992,
          17.23912678926693,
          15.882125948926475,
          21.318112006318703,
          21.934613007521563,
          17.30420626423832,
          15.60781108168672,
          14.401154489098806,
          19.187865059850967,
          17.867312982176912,
          21.155071749935033,
          20.420800285977336,
          15.968988379447385,
          21.56829991009553,
          16.05834808395365,
          19.620839037301362,
          20.8085521844523,
          17.608160171426793,
          13.135689308793847,
          22.851719297223532,
          24.113808455868583,
          17.548818916748935,
          24.435182137054337,
          15.89146039338042
         ],
         "xaxis": "x",
         "y": [
          5.288341915083829,
          -2.3892008936449054,
          8.105436371320657,
          3.4746858771437217,
          10.557026238720756,
          11.17655622085481,
          8.2882537794101,
          17.14187105808284,
          7.175539673223643,
          2.2351750515482576,
          1.2684679379730315,
          -1.4116452746293053,
          17.14946584838771,
          10.40258245161698,
          6.832915013954249,
          15.433826511682604,
          13.265295045553236,
          5.465915222203912,
          13.382766533258199,
          16.661197234483936,
          15.881807805333274,
          2.2586902119281618,
          13.751649545494109,
          21.577954142905533,
          15.624674167274751,
          15.156442424174601,
          15.318919990310505,
          10.05390417655063,
          13.61866418442748,
          16.926245000486126,
          14.973886054167828,
          11.189228977237525,
          5.268877334084916,
          16.807829198706116,
          11.24405309883322,
          17.604542702492008,
          15.66100788937269,
          10.946619765571254,
          8.069072975584406,
          10.169815738972135,
          11.123876196237573,
          7.333527970220892,
          12.775867348379988,
          8.03988189899734,
          11.914185118035142,
          9.396823230649975,
          10.931203262135936,
          13.257777730262445,
          11.227859792389864,
          12.264685649099517,
          14.614156090781439,
          17.262091537318646,
          11.727289961752692,
          -2.816133935038558,
          0.23373818695150547,
          8.21819290277746,
          15.168503042666895,
          12.39885438632646,
          16.084387662365053,
          -1.1026440715081767,
          12.416708873504735,
          6.109967910313263,
          14.4086041335036,
          12.609144410708392,
          13.931485837166402,
          12.707908587622184,
          13.877982280815582,
          13.77399260106811,
          18.192898610493803,
          18.1152003336838,
          14.76903863459397,
          8.709103833004814,
          15.790975632999432,
          15.647918775513235,
          8.786834362697144,
          16.863939364824862,
          10.52518653883234,
          8.139365277341039,
          21.0210381225045,
          0.9682187254971376,
          11.39046809634606,
          18.489987054595566,
          6.267160944977191,
          12.763798078779212,
          15.07415690942571,
          17.273329414350393,
          18.3956465238814,
          17.440842828880555,
          17.026450360622032,
          2.3650347372661655,
          16.203214179643787,
          17.74788374395449,
          17.164644897861226,
          15.977342329851794,
          16.458774859323487,
          17.1202336087915,
          16.011504081956424,
          15.703892966907311,
          15.124189563139613,
          16.596472963790266,
          8.22209714117996,
          11.851755710273624,
          16.12455657133342,
          16.54509112412893,
          16.63534515880763,
          19.379991119800483,
          12.42765095941054,
          6.023160591546638,
          7.092884564603967,
          12.43723032162854,
          8.042619778351584,
          11.135604071992423,
          7.619507633670234,
          12.007545446339481,
          12.120112767821853,
          7.992704968873656,
          15.890985771512442,
          19.602538769427003,
          13.464706244404663,
          12.420588341803226,
          12.578732746309138,
          14.098319394227703,
          11.469195694184577,
          12.040531194175282,
          10.940345866543588,
          12.774966811226646,
          11.097502648132023,
          9.556568996310139,
          13.865282912691878,
          11.597983779375834,
          0.9045194204351322,
          2.773233311768922,
          8.737049971722856,
          8.990062076268538,
          11.890341568025343,
          11.172213871878453,
          11.254732759857756,
          11.224313911321302,
          7.565011545774395,
          4.308732201072876,
          4.731177611679906,
          1.810435626911537,
          7.656488639731919,
          14.491704430143402,
          18.5694421430687,
          19.850937846244822,
          19.74791580926991,
          15.770323686128274,
          24.77634005310696,
          16.114996692074484,
          20.209828416315563,
          15.543505157584374,
          20.703912682642265,
          17.975643790589245,
          18.65544413654006,
          17.167207397006898,
          13.480834958857942,
          4.4070210395731895,
          -4.636201704077303,
          7.276145541181153,
          2.382970414792542,
          6.956041072881377,
          1.4990386333120005,
          6.916311066326122,
          6.381939164030239,
          1.8583160801146263,
          6.843361680637906,
          -1.8331290453262299,
          -1.8241897835554608,
          11.349758663640836,
          15.208592793655413,
          12.571208908807005,
          16.048719617909025,
          13.14297596636707,
          7.681942695185251,
          11.895754737428106,
          21.842965885423975,
          10.054292648106026,
          6.089262204137619,
          14.478923924160075,
          0.5794507867595716,
          17.010222229679623
         ],
         "yaxis": "y"
        },
        {
         "hovertemplate": "color=4<br>x=%{x}<br>y=%{y}<extra></extra>",
         "legendgroup": "4",
         "marker": {
          "color": "#FF6692",
          "size": 12,
          "symbol": "circle"
         },
         "mode": "markers",
         "name": "4",
         "showlegend": true,
         "type": "scattergl",
         "x": [
          -2.9526083710104807,
          5.616056225173419,
          4.775858295645386,
          5.663817228531369,
          -3.5640944456544412,
          6.897610601348344,
          10.71040959466376,
          4.770008481595991,
          1.337289515850654,
          6.524919449980575,
          -0.1572230553237179,
          -14.336283212107677,
          3.681962077106772,
          2.369744857997108,
          0.29033402767799327,
          1.0696369187602377,
          4.874819381807905,
          3.8598274370590837,
          0.12649964898905441,
          -2.228876824499845,
          0.7731906312672605,
          8.919395600501664,
          1.1310890446398174,
          5.716246358519341,
          -1.646813386858172,
          -13.524029607469407,
          -0.20447344715440946,
          5.522113470441163,
          -5.703656639358956,
          1.069177404110391,
          -4.307729180696058,
          7.5019700841904715,
          -4.225831638489724,
          1.3544129077435227,
          -5.252824326523674,
          1.8903533331667055,
          -3.2273105843560796,
          -6.91890960847653,
          2.6392855574540595,
          0.9626786517519051,
          -7.23481114885522,
          -1.9752168078575953,
          -7.889902906454966,
          4.368943319250983,
          0.14635771888874494,
          5.177524678920745,
          -0.09831237065826036,
          2.5547412980954296,
          3.3755230304941253,
          6.249952458519235,
          7.19832379088865,
          -4.353583364416379,
          2.530680605824417,
          6.175888457195887,
          8.83652564255166,
          -5.2818819247295306,
          -1.547140280474774,
          4.825388957684253,
          2.8729508751427595,
          -1.3899139371047597,
          -5.834969094567446,
          11.841124681059396,
          -7.220506427783863,
          -2.4598846122235405,
          3.7739523956602543,
          -4.313766772329377,
          -5.743997828134905,
          -1.3908996251325623,
          -5.48263742472715,
          -2.0924852422431997,
          2.68315899712587,
          -4.63389502752604,
          -2.963495686089598,
          -6.376990852152554,
          12.409846122369617,
          -1.5776058050173958,
          2.1292725917105764,
          4.019839209800471,
          14.607367453942137,
          7.9768252920497575,
          4.126533616136946,
          0.5618637743823104,
          3.782673666514012,
          9.777777080763125,
          7.723760658996476,
          7.758853336809154,
          5.711421805773561,
          15.996893075735988,
          12.698182059358748,
          -2.38747576922545,
          13.811291272021707,
          -2.342497323165501,
          -2.887577661723075,
          -6.827536432761137,
          -8.15381055349162,
          -3.1387991095959333,
          2.8046086518637092,
          -7.399614778059284,
          -5.245860217809175,
          -11.793585574670276,
          0.798826777883222,
          -1.1998029283870992,
          -0.007869911352449197,
          -2.3131793062927084,
          -7.3917346317465835,
          -7.840265927963113,
          5.179896844154118,
          -3.1094250855334304,
          0.3366930212172881,
          3.5243575509135843,
          2.806762303392778,
          2.4103137614822683,
          0.5602817092732986,
          -2.564356172493909,
          5.356469463410456,
          3.2603614083636625,
          -1.4534769748146124,
          1.292669428528899,
          -5.360002456590261,
          1.5303700887442417,
          -0.03665062026916475,
          -1.261119432355299,
          -4.963277678416207,
          -3.0282794205876,
          -5.550643703384527,
          -3.807221126897937,
          5.105788941801637,
          -4.513102468983493,
          2.296079772501171,
          -3.195126219963672,
          1.4572894793587396,
          -7.740578156490575,
          -2.181316715528459,
          -7.420798410653726,
          -7.031386440754467,
          -1.407845210204191,
          -0.5697634399062751,
          -5.910490067645503,
          -6.025206803681282,
          -11.487966054024671,
          -1.757486258713066,
          -2.293669685601173,
          -4.322447941859338,
          -7.951650692741219,
          -2.6645730411928708,
          -2.2403166634041374,
          -8.872217085454743,
          -0.7588557423366578,
          -7.518987857485527,
          -4.616025597702496,
          -8.852994299045768,
          -12.692050496808978,
          -9.116976899537045,
          -12.694691663266019,
          -10.049213404185426,
          -6.327339345122085,
          -8.377333629268755,
          -1.4836727949671589,
          0.02742585925702751,
          -2.7798565479211397,
          0.6803955741763601,
          -6.6578288436349675,
          5.863024069471079,
          1.686866411855568,
          2.472429266977278,
          -3.0298827512157374,
          5.507646741299981,
          6.305116363429408,
          -0.8655745226220423,
          -4.611774532589883,
          -1.5016883637150646,
          -2.353472896367718,
          1.7155057237529665,
          -0.41410494492705996,
          2.415577139962288,
          -3.4225203316744057,
          2.9345849844405034,
          -8.076772106271797,
          0.1764051289447436,
          -3.2346104502011834,
          -13.513264026208846,
          -7.090059084036517,
          -7.522380457582129,
          0.01493022909565599,
          1.5448646859386261,
          0.39811008493777333,
          -9.182533084934343,
          8.591497241749263,
          4.51288647268393,
          -2.2148985373497054,
          -7.7659527731161395,
          9.607121700450124,
          -3.035670646460328,
          8.700770384797153,
          -0.022916857386217484,
          4.665301823208042,
          3.757804921859638,
          -3.792884455244051,
          4.502784075949696,
          4.254969359057275,
          11.014499027008402,
          12.66801922085977,
          -0.6329826773442216,
          -3.12305466574022,
          3.3489946098862897,
          3.8867359897610863
         ],
         "xaxis": "x",
         "y": [
          -21.07166579925004,
          -12.926349236414135,
          -5.181382685573742,
          -10.368666460665109,
          -18.92042759644003,
          -13.321288489822264,
          -9.208359991375868,
          -11.743502749515736,
          -19.623343012926814,
          -3.7144111631239776,
          -17.464983646788795,
          -23.071797360989184,
          -11.339703837127102,
          -17.657903461149157,
          -15.946152389549674,
          -17.975348785947975,
          -20.39925778870222,
          -19.633985516158166,
          -20.005058462015207,
          -19.540610385097605,
          -22.194292130807337,
          -21.0800838383874,
          -23.618713379891357,
          -19.76462354133078,
          -21.757256118259786,
          -9.031740696440172,
          -20.8790150058241,
          -20.46993910041173,
          -22.35311296283374,
          -17.769295339084557,
          -17.065973897874382,
          -14.391058206993769,
          -17.726467533942373,
          -13.72056087972639,
          -19.552120210857385,
          -16.65146461824908,
          -11.346011009846606,
          -13.629201513524109,
          -14.252636131551228,
          -14.20365552139085,
          -6.070593912646037,
          -17.410009543725987,
          -13.308672578979465,
          -17.017376139211652,
          -15.997472563133458,
          -11.913574291496248,
          -8.264485671078816,
          -8.562390886553583,
          -5.4698489115313675,
          -4.700435213568859,
          -1.915522638231498,
          -16.59850457179985,
          -7.108182325812047,
          -0.641441602353708,
          0.6879763787428478,
          -14.130128267980236,
          -2.2869419373681246,
          -6.231766335864986,
          -2.3173583548335475,
          -11.221821096447533,
          -18.471899991939424,
          -7.642671685232663,
          -22.22950693482906,
          -16.00114768603521,
          -16.61109024530058,
          -20.186234283679045,
          -16.638520590405967,
          -19.313627991938215,
          -20.931109459972472,
          -20.9001026035242,
          -19.362921160308122,
          -20.408687341328477,
          -17.468219087313045,
          -22.217085851206278,
          -6.248291150352384,
          -17.667414561971604,
          -18.913569012130925,
          -12.867685304978066,
          -7.2261032631769995,
          -8.368964564602972,
          -16.212831968078632,
          -17.039991377191466,
          -13.53941792323049,
          -9.908228632766031,
          -14.598646421127434,
          -11.811881230535862,
          -12.492233169698647,
          -9.867459094630009,
          -8.231950574102328,
          -19.877695251564077,
          -11.331201048849218,
          -16.21385203195719,
          -21.2990397675336,
          -22.78197090919685,
          -18.074428444244326,
          -17.06025638568753,
          -16.460698549499494,
          -20.60731836685054,
          -18.700580843997965,
          -12.313807060941468,
          -17.359177771899454,
          -21.257691072235616,
          -18.591929693266753,
          -19.237698824271494,
          -6.963338803954573,
          -20.161967782444677,
          -8.546860067551602,
          -13.92538421119475,
          -13.093907064837053,
          -14.776207120113979,
          -12.750400718845793,
          -12.66706687482919,
          -14.026635927600328,
          -17.736462741668696,
          -14.121171435427737,
          -12.337386224567268,
          -14.99038778435756,
          -14.23901638564677,
          -18.292163366855238,
          -3.916491626842418,
          -15.99844026917401,
          -14.464141788859108,
          -15.269605054786375,
          -14.764684762066501,
          -15.17689178334235,
          -19.754619619667096,
          -7.814786176589867,
          -15.94255332414062,
          -15.305822484284146,
          -13.07916451973855,
          -15.787052580277994,
          -19.549722474857564,
          -14.924974321443232,
          -18.12052706100292,
          -18.983463456549995,
          -17.032412715321115,
          -15.907761619411334,
          -16.713080822750744,
          -20.007577114587104,
          -26.054641679900776,
          -20.585780558654147,
          -13.506462073792637,
          -19.020568055227677,
          -17.07106411616479,
          -16.996973168893966,
          -18.72268511590496,
          -17.090587656041034,
          -18.782268854432257,
          -21.254685588185794,
          -18.496821589655386,
          -17.23289092849288,
          -18.401101221995997,
          -13.02017129823158,
          -16.0179618836624,
          -19.162308418368745,
          -19.130600915974096,
          -20.506464301592686,
          -18.481703610210847,
          -15.413951782273157,
          -17.484621942538023,
          -15.003674939582629,
          -18.24170111956461,
          -10.893128736666615,
          -10.39024817263601,
          -12.897157449129717,
          -14.836633961252323,
          -9.544072030821237,
          -11.25135041200501,
          -16.78596040742369,
          -11.18843253063594,
          -13.593793411671358,
          -11.73406565589944,
          -8.332545305758362,
          -13.05420430184303,
          -10.427793761778728,
          -8.750681293941472,
          -7.6332118770911395,
          -21.424537167096712,
          -17.89491994919634,
          -14.72134497458069,
          -27.494442088716227,
          -16.889068519725647,
          -20.733713716178876,
          -17.884469934163175,
          -14.144624428586106,
          -13.463723210330112,
          -15.876170841304397,
          -18.30016015528244,
          -19.188301828300375,
          -13.303964478881861,
          -13.97530696431897,
          -11.485154756033266,
          -21.76839229315132,
          -13.27342263706307,
          -23.097484830422236,
          -14.435915785589486,
          -15.89912651278317,
          -21.451692622836156,
          -18.10334263816301,
          -17.29342445178594,
          -15.77493074945251,
          -18.97902055105137,
          -20.799118286530597,
          -23.706705042537525,
          -19.373973338671934,
          -18.74727061299836
         ],
         "yaxis": "y"
        },
        {
         "hovertemplate": "color=6<br>x=%{x}<br>y=%{y}<extra></extra>",
         "legendgroup": "6",
         "marker": {
          "color": "#B6E880",
          "size": 12,
          "symbol": "circle"
         },
         "mode": "markers",
         "name": "6",
         "showlegend": true,
         "type": "scattergl",
         "x": [
          3.009185112458248,
          0.02586623974621083,
          17.538772993227994,
          2.8245270628077037,
          1.6440010082321022,
          3.253986686044993,
          7.9143016137745015,
          2.9903599311543405,
          6.564548734340636,
          0.19165838979012004,
          7.499052392492459,
          3.1351785835065242,
          -0.7919520161599685,
          -3.907046286189197,
          2.8017478534015994,
          -2.230526379970446,
          -2.3137853189406377,
          -1.9232315601029368,
          2.067957014235927,
          7.207729660815796,
          1.4398149198061796,
          1.0761589454211222,
          -1.6309886174105512,
          7.582391370237155,
          3.91739355213457,
          9.530348020882917,
          17.546570341605253,
          5.592873273794069,
          0.8101161882175585,
          2.294890088683182,
          -6.0628822572823715,
          2.507376253272772,
          4.5003817540633095,
          -1.3050756550639486,
          1.509993256646505,
          -0.4744151756426125,
          6.424805384120542,
          12.662286213679806,
          17.35001740729691,
          -0.34256748112303015,
          1.4090847603487784,
          1.3173400989479658,
          2.2719502055163665,
          14.941164567480424,
          2.0985818509001595,
          2.367784771242616,
          7.594371913217695,
          17.064871286901813,
          1.7399255949336239,
          10.31747508493438,
          0.9894544625261054,
          8.475724811313352,
          5.303631502779745,
          5.218799450909407,
          1.042203709784149,
          9.839779721419532,
          9.205650900512122,
          1.6163132124899722,
          8.342523062305897,
          8.312679837798878,
          -1.5949249594779458,
          -1.7180735179784652,
          13.676401626912034,
          5.722826515072836,
          6.179778591572746,
          -1.6853628477290974,
          -2.593106975577548,
          1.9758872038782,
          4.365183258264257,
          -4.904159896403515,
          -5.52975516442726,
          -3.1187893856300875,
          -5.126481935459317,
          -6.802494360396474,
          4.22312615022761,
          -7.62173397160485,
          -7.339397077342882,
          -7.724723697318086,
          -8.57363736976017,
          -2.9827574552844593,
          -7.345483369995776,
          -5.258596463907144,
          -7.611516983704613,
          6.592971829111485,
          0.5191384539018298,
          -8.68712939610294,
          -5.764377861143362,
          -4.110609238428456,
          -0.9379879172653554,
          14.140837957951526
         ],
         "xaxis": "x",
         "y": [
          -11.994794515756784,
          -10.337026910062603,
          4.627740166209053,
          -9.286913733263194,
          -10.738074629037774,
          -9.593453178745756,
          -10.85570440005211,
          -9.240567272229402,
          -13.927227367521496,
          -15.574495998405965,
          -20.864214163077126,
          -14.100665092289175,
          -9.227763631289935,
          3.8289169034184583,
          -7.2662961686174175,
          -2.515578516091419,
          -3.4118342435451363,
          3.649014463090226,
          -7.392963713231888,
          -9.86509782585766,
          -5.46180351389602,
          -10.677787910748087,
          -0.23752389518533115,
          -10.893172340732022,
          -11.00864147946399,
          -9.762763015180878,
          -8.221355316005756,
          -11.560075724141944,
          -0.9831492980067461,
          7.588400913349202,
          2.426774631371123,
          -10.458242626844594,
          -8.464724022598533,
          -3.423279171066534,
          -7.78678510911923,
          -8.074877434809355,
          -12.737923833198415,
          -12.08315675872091,
          1.055879799742521,
          -10.613672991768153,
          -11.217014900260429,
          -5.846142961831977,
          -3.6367037085525022,
          -3.3690999221207947,
          -1.550679706393492,
          2.5427477862505197,
          1.6370355311535352,
          -3.71147403090533,
          7.267267700778305,
          3.0590032952821495,
          -4.460122796238517,
          1.287895296280965,
          -0.30180580833080256,
          -3.090903851130332,
          2.556643421000145,
          -2.772552207051306,
          -0.3494148752105726,
          3.6133433764787073,
          -11.087428414001407,
          -3.8298610752375075,
          -5.491398144426609,
          -3.53621995721094,
          6.693532931236237,
          -14.598460444513112,
          -10.943803584724467,
          1.9928654486697952,
          7.193737957332537,
          1.7092264631706535,
          -7.7789839720397165,
          -1.3854807783250513,
          4.688885155907262,
          -0.8298334472447834,
          10.347598373190019,
          10.705417602836286,
          5.102035376503088,
          10.502681069417772,
          10.46232728763277,
          14.104942491887817,
          -0.26027010469013223,
          0.17916405966114957,
          6.206334338779165,
          14.220074047225587,
          4.40859208631805,
          -4.52089728759124,
          3.3239513481159526,
          -5.336486468289813,
          -1.132024629457662,
          0.8014880016499295,
          -2.165407421072647,
          -2.8752748801176105
         ],
         "yaxis": "y"
        },
        {
         "hovertemplate": "color=8<br>x=%{x}<br>y=%{y}<extra></extra>",
         "legendgroup": "8",
         "marker": {
          "color": "#FF97FF",
          "size": 12,
          "symbol": "circle"
         },
         "mode": "markers",
         "name": "8",
         "showlegend": true,
         "type": "scattergl",
         "x": [
          -2.414202658787181,
          -8.088841377858575,
          -3.7303102667826757,
          -2.0042163425599377,
          -8.442298418072088,
          -10.027922206546638,
          -12.028994786725969,
          -9.578708314917119,
          -9.727268734833055,
          0.23755993724980282,
          -3.2404477204662396,
          -8.980887792388193,
          -5.401584092498139,
          -5.264092972210643,
          1.4936824089573848,
          -1.3203259912444714,
          -4.274053320073419,
          -10.633237048574998,
          -10.763186465259855,
          -13.2697322078661,
          -12.36653594401491,
          -10.070187481815429,
          -13.282351737101452,
          -12.355041366059654,
          -15.54171104093632,
          -15.043257042083722,
          -16.02105411566333,
          -13.711380877916076,
          -11.43898908532792,
          -12.93768366297007,
          -7.643791470743497,
          -7.15367068634532,
          -6.066596514840527,
          -10.397310172199642,
          -11.645984981365027,
          -12.461341235660814,
          -0.25197720579797217,
          -11.763072542262687,
          -5.583929476171534,
          -9.01175875229979,
          -6.030819677227151,
          -6.508728202198555,
          -11.141198041194725,
          -0.8775266215744301,
          -3.1183823390758287,
          -0.21749769152841583,
          -5.143624684696773,
          1.617789675254084,
          -8.18920823682182,
          7.415182663427991,
          -10.328478081926486,
          -4.9881723983016215,
          -12.705561131876532,
          9.680224465919114,
          -6.287021476103928,
          -10.52842427802032,
          -12.95261340058568,
          8.263328938495777,
          -3.2411280912255656,
          4.967379015952065,
          8.945272095457605,
          0.43016257507658734,
          -0.20411609528353986,
          -7.643403154779197,
          -18.96831408900236,
          -7.412575833645817,
          -11.267821245360262,
          -10.57456210393925,
          -14.466208218346996,
          -10.968480495889423,
          -6.125001700060753,
          -9.760401796030662,
          -13.838813550977843,
          -13.31569393850528,
          -12.396132126859674,
          -11.5545493186979,
          -13.536325196842235,
          -9.86057285224181,
          -12.577888724806527,
          -0.17122106656931016,
          -9.38320244443745,
          -0.03238350082664831,
          -7.422843672429866,
          -3.7941356576007705,
          -3.167315863466821,
          2.0012797272641127,
          -4.094116519052524,
          -13.426782860854722,
          2.9049932868539634,
          -12.272591284913364,
          -1.8835289885768824,
          -7.053441059406597,
          7.75154022546588,
          -15.940641550957393,
          -5.195752500580735,
          -14.022799489582898,
          -13.131090978148011,
          -0.2927270553154517,
          -11.248329977907218,
          -5.0834447150018445,
          -16.3008543527941,
          -12.127354608165149,
          -2.5235955822907825,
          -11.967602121722846,
          3.7820917296074024,
          -1.96510760103749,
          -2.204310543377391,
          -3.9328506800802376,
          -0.3725162126899325,
          -12.201857989278984,
          -11.207713277899071,
          -13.636305758398583,
          -11.527635091443834,
          -8.67172661882288,
          -15.186491370286943,
          -15.504660014058548,
          -14.275645140248995,
          -12.999425225056541,
          -16.821389912102237,
          -15.2604246204805,
          -6.05035972248441,
          -9.124145853246802,
          -5.994880223570754,
          -12.200235443086513,
          -16.435856730936898,
          -18.046774199396268,
          -18.829685074533103,
          -15.36076667182027,
          -12.982531888936094,
          -18.876504391875667,
          -19.8700496094817,
          -17.08723608672896,
          -19.76484843784749,
          -9.15481926579868,
          -1.3532532785557616,
          -15.78714403181405,
          -21.90531543162358,
          -10.983602162013995,
          -8.54636779651969,
          -17.65123396181057,
          -10.270803187707056,
          -14.101396574235896,
          -14.63330991812034,
          -9.76940890282792,
          -6.508918890742809,
          -13.311688976716729,
          -15.392336934406657,
          -12.885133480364358,
          -13.467147564658083,
          -11.380506488257033,
          -11.620071236632294,
          -14.387799802514843,
          -6.515105869823607,
          -16.893801224366097,
          -18.47124446988034,
          -11.102538494480505,
          -4.943504558937374,
          -4.522424865193763,
          -16.66761742526031,
          -10.230713763424019,
          -9.15840334219242,
          -2.7122930704282595,
          -12.85170127414048,
          -0.9857217641451116,
          -7.954953036567371,
          -5.889375146631283,
          -11.204177266920254,
          -7.067373280301457,
          -4.264144486539399,
          -10.193368642997347,
          -14.558681117557335,
          -9.518629022654581,
          -10.178755148557984,
          -6.848574560918244,
          -7.866849581377085
         ],
         "xaxis": "x",
         "y": [
          -4.851669523696747,
          -8.811961807659094,
          -2.3269309505849014,
          -10.532683375026377,
          -7.619616509151931,
          -11.59336025184658,
          -14.185888828201211,
          -9.773439267605692,
          -12.541274417768307,
          -4.6797274227523635,
          -8.8975046700585,
          -12.27702668263355,
          -12.56187677503991,
          -9.300095677087224,
          1.3954777599390153,
          -0.5308798209279638,
          -12.11779952686378,
          -4.2948566334855895,
          -6.6149777370418565,
          -5.221140899204329,
          -1.5272721875451447,
          -5.362955151778204,
          -8.861146431356545,
          -3.604704225297838,
          -7.825533870239769,
          -3.7416897522827726,
          -6.286004992558824,
          -5.057898669506324,
          -6.757290534814557,
          -11.098364281897528,
          -11.210672643205104,
          -1.8928074662650818,
          -5.919952317279437,
          -6.217342368277607,
          -8.534243026595336,
          -5.138003266623369,
          -3.3564917767555618,
          -1.9711787646648546,
          -9.900942276464113,
          -8.39319637958003,
          -2.8786699467867747,
          -4.130003697811214,
          -6.834039884754651,
          -5.6455074697238175,
          -3.8172744850926454,
          -4.000379036265135,
          -7.46399998007257,
          -6.44507393510979,
          -3.0034585409916223,
          -3.6351212184665207,
          -8.226016345249947,
          -5.277120228147923,
          -5.45795523009731,
          -2.9283180468515346,
          -5.748766930971189,
          -4.200097050760008,
          -2.8633438597946665,
          -5.304841373168089,
          -0.14993683030406912,
          -4.730489267368436,
          -1.7597497014286139,
          -9.296040221138657,
          -6.25752282385752,
          -8.760653075744532,
          -9.235867889903657,
          -5.1063601856305745,
          -5.606877991176673,
          -2.9335257739269394,
          -2.791415115190041,
          -8.198730889709775,
          -5.603859612655132,
          1.3671390316126715,
          -9.818524800951604,
          -7.428721708629322,
          -8.590935262765,
          -8.667831032537292,
          -9.744006598883402,
          -4.880797154890181,
          -11.876351944045439,
          5.945077274989149,
          -6.722177168789637,
          -3.031195575571141,
          -8.842309543660107,
          -3.8388232880508713,
          -1.9672246656912216,
          -3.664502867419519,
          -2.7638350414531727,
          -5.2965921108202885,
          -5.780296796937493,
          -11.283523580534402,
          -7.002625272119874,
          1.0973284137120578,
          -5.2363715059096,
          -11.07142333340175,
          2.492718734120953,
          -13.631202068706973,
          -5.997992050447493,
          -0.09592394893764934,
          -10.808383296409469,
          -3.4937300254173036,
          -3.589468137302215,
          -10.501751351501103,
          -2.3564934233728874,
          -11.248583264744287,
          -4.558340788490526,
          -5.457176917070887,
          -5.853026277814482,
          -1.4295784497463782,
          -0.9034716997079875,
          -5.974431704183606,
          -7.310062433175031,
          -11.25353883942875,
          -4.253656013480807,
          -7.679677950850721,
          -3.068903778902129,
          -7.960250378497777,
          -5.139820360399355,
          -3.6174718877523473,
          -7.663500653302094,
          -6.464766327340649,
          -9.69412901508364,
          -3.9587500666191553,
          -5.448798849962616,
          -6.6163436727074245,
          -12.438983975243557,
          -13.389499273672032,
          -11.241989247585373,
          -11.00079881086407,
          -7.264174794996373,
          -9.16645487283674,
          -11.63869713527837,
          -9.14115061743118,
          -7.33106850106924,
          -0.39824600796847004,
          -5.599837932001613,
          -6.111866804735479,
          -10.790398808700242,
          -5.381760609945354,
          0.14083807453484434,
          -7.70647628415367,
          -5.216617903637103,
          -2.606939657071349,
          -2.806260202544183,
          -4.8248999679782125,
          -4.701789569708538,
          -7.330764853341076,
          -12.412367518696378,
          -8.241871663577866,
          -9.544972063065448,
          -11.104462996711206,
          -10.725635051133711,
          -9.694117444716536,
          -1.1257755936895564,
          -11.108326288908577,
          -8.396554130452348,
          -10.61728071702334,
          -6.348855594827002,
          -6.712277663926007,
          -11.012844883940769,
          -5.025994880332772,
          -9.145913453198608,
          -6.866325191423386,
          -8.221018787571047,
          -10.680233993193404,
          -10.934604903757013,
          3.2312487130203578,
          -9.872400679256195,
          -2.6945540411872577,
          -2.7052944609548812,
          -13.090207456097033,
          -9.793862924171089,
          -8.61197870493653,
          -10.063055232754778,
          -11.773852501933298,
          -7.597509079339852
         ],
         "yaxis": "y"
        },
        {
         "hovertemplate": "color=2<br>x=%{x}<br>y=%{y}<extra></extra>",
         "legendgroup": "2",
         "marker": {
          "color": "#FECB52",
          "size": 12,
          "symbol": "circle"
         },
         "mode": "markers",
         "name": "2",
         "showlegend": true,
         "type": "scattergl",
         "x": [
          -1.4007265300762544,
          6.111418557868268,
          -5.0202433508524384,
          -6.030026374227695,
          -3.185579310319809,
          3.0097173393055345,
          -6.150657667691731,
          -1.2758107768365703,
          -0.013971029053440017,
          0.8559530649374563,
          -3.1868614787268275,
          -3.319992002898129,
          -0.9930142492099988,
          -4.3451569026852885,
          6.280499606694031,
          1.5601562850513297,
          5.04777362894513,
          2.4203012322840856,
          -2.4800045939327755,
          -0.1419976806517872,
          2.897283393469468,
          -0.3027918651414514,
          7.69541482242366,
          4.45989876309203,
          3.1716741138074687,
          -7.940788906888055,
          -6.211506085731063,
          -8.892824985241333,
          -7.499352846433874,
          -7.079717134637138,
          5.328831550593571,
          -5.502900332750401,
          -7.86468886378244,
          -2.1910088869049273,
          -10.188694414702542,
          -1.5234436280250723,
          -0.43225415612488605,
          -3.4547396226871987,
          -1.5692274844568672,
          -5.785307762708548,
          -7.048860576600205,
          -5.026173642446728,
          0.4983737603187001,
          8.451990583826866,
          -1.9581693221165253,
          -11.891837411559141,
          -8.40659126308464,
          -10.616558818681945,
          -1.8210147790633806,
          4.449156261236743,
          2.4760051204908735,
          0.7786636382295389,
          6.300961006014612,
          8.41336988778917,
          4.421190887919574,
          9.724213597051381,
          11.512810422484051,
          -3.64549824324805,
          0.9809764268063981,
          7.861240795279004,
          3.8497261687593025,
          -3.8162095105975506,
          -1.4714153333323796,
          -1.3471629569906598,
          -7.812674573037553,
          8.22773813483313,
          -4.474595056136496,
          -1.296084442256172,
          -2.992477737381916,
          -3.7153725678157343,
          -4.2541215022974095,
          1.668905474153968,
          -9.299936350350562,
          -2.111225792047694,
          -9.445693954976702,
          -12.295952775334111,
          1.743659878846692,
          -4.617956512227952,
          -4.032785405903214,
          3.379482203167548,
          1.2611483341282088,
          9.148213844763447,
          -6.651815739228787,
          3.773437010307131,
          -11.296236982391653,
          2.3987398331488277,
          1.3887370194359723,
          3.3776921502195223,
          1.9905738075806554,
          9.323217427807165,
          -0.8220383865474313,
          -5.575145143192249,
          -3.926998743466131,
          -6.582564206210387,
          -9.23020038445772,
          -6.015045516014513,
          -4.381194498161796,
          -3.163225784617637,
          8.146363016996503,
          8.035545082452131,
          -6.228901783332046,
          -8.880080460558524,
          -3.3638118800504437,
          13.48267625449305,
          -0.5445367108254673,
          4.834250410440446,
          -3.5929155712969347,
          -12.5564664611376,
          2.0051579048287866,
          -4.959975799963261,
          1.3296922339372654,
          -6.084887941383652,
          -4.092103025711305,
          -0.4065348405163226,
          10.486450453914609,
          -1.9106074904629569,
          -11.3892567377484,
          -12.529107908934682,
          -3.8426922274979813,
          -5.296887362427603,
          -8.677345477457093,
          3.344930916246871,
          12.427996688681421,
          -0.017795545915133548,
          2.480672042038053,
          -3.136360612604487,
          0.6945439994886311,
          7.721420168578448,
          0.8967926734429053,
          -7.248549142705374,
          1.541225670724192,
          1.729066678545473,
          7.931165984293963,
          4.572447776486136,
          -0.5446107340766408,
          9.90539015562203,
          8.814115449862726,
          -1.7822299930441665,
          0.5117403274316663,
          -5.710909519030535,
          1.283320023368938,
          -4.734684675702699,
          2.9152138092715787,
          1.122720039697287,
          -2.619306047251965,
          2.1572756601743004,
          -3.688020640627196,
          -1.4590298384692653,
          -0.9160585071909066
         ],
         "xaxis": "x",
         "y": [
          -15.861295417217718,
          -5.461886084753618,
          -3.598297633530587,
          -11.217758748057225,
          -9.590168123184673,
          -11.390408270968937,
          -5.705777454827449,
          0.9670627203935617,
          -3.9064388734613447,
          -7.073038562238635,
          -16.201469000696697,
          -3.6741776081676045,
          -13.182839591400361,
          -17.564697465207477,
          -2.2409477870794845,
          -15.37562414839952,
          -10.993848724487751,
          -10.290351639505781,
          -9.616123151229182,
          -12.376005158290068,
          -4.0255235006564565,
          -11.024127407104961,
          -8.705242487365792,
          -11.033206839887416,
          -12.790370923070364,
          -8.732788420835913,
          -17.50783535148574,
          1.5682778547945562,
          5.151314591796228,
          1.421013632340375,
          1.0857652324144091,
          2.7726935008637943,
          -1.2976700838238244,
          -13.93499527018364,
          -2.934932810644711,
          -8.056543297245605,
          -5.93612290540012,
          0.5000092086676923,
          -4.431671379378978,
          0.20294158910386925,
          -3.149502351187948,
          -2.0666329498444873,
          -9.889730857710202,
          -1.3860762768244927,
          6.277574421300242,
          2.321388269234959,
          7.443483217529372,
          6.567636373807752,
          2.554879174961679,
          1.6154039854397844,
          0.26166102035089606,
          -2.6846650238213625,
          -13.627390458538853,
          -8.104685725046314,
          -9.67788648871444,
          6.0010078918330265,
          1.8433339818451964,
          6.841447498781781,
          -11.113055944401676,
          -8.360544191605744,
          -0.17596278467136517,
          -19.82453131531363,
          -8.18344205277705,
          -10.507396858669606,
          -21.75367644093119,
          -12.30245086369813,
          -21.52125097488978,
          -16.419961408056807,
          -13.492466766154445,
          -17.091842744400832,
          -14.607069587144915,
          -12.001250688589549,
          -15.060274854880983,
          -12.943567336016029,
          3.472741050233974,
          3.6754412397124643,
          -12.013772503336106,
          -10.564450933968732,
          6.205036717211006,
          -4.789769696451579,
          -7.669236196916682,
          -10.919221908425929,
          -1.0024467052831856,
          0.8181314312389976,
          -4.463750334530984,
          -12.637740313691591,
          -2.259005267641843,
          11.430169785938444,
          -9.499186797168104,
          2.572458427274644,
          14.199049486825395,
          11.014824193333451,
          -10.723353602881243,
          4.872533456560068,
          -10.30679479873589,
          -17.38511302872606,
          -7.94196340461672,
          -10.301320143091221,
          8.696131527248706,
          -7.075954844367071,
          7.739740270561431,
          -16.22810803168477,
          -9.669916931474514,
          -3.436425446091975,
          -8.265106538873116,
          -1.6244837329283897,
          -9.024277518817838,
          6.134044226516937,
          4.557763724351627,
          5.0357289576953495,
          4.054995316127331,
          -4.3699744642056215,
          6.485573780122033,
          13.562412474349985,
          -3.5337795722663734,
          -7.295326575819926,
          -2.437322425921758,
          7.072676074408976,
          11.01713890791363,
          11.869747472059501,
          4.609373005126947,
          -8.724988782217254,
          -7.512125972242379,
          -11.056262036063778,
          -5.39162715127819,
          -19.945617854531204,
          -7.606229556257278,
          -10.170666138786528,
          -11.685156541365329,
          -18.936312005746966,
          0.45638496462404204,
          -12.89958330807265,
          -5.836163344120129,
          -11.492529122990597,
          -16.525242080199867,
          -6.088594461358113,
          -11.412755476999585,
          -15.46489257649032,
          -15.77789347006974,
          8.730564622235459,
          3.204421188748423,
          -4.6739623416088305,
          1.7049366286216638,
          1.2824451573458049,
          -2.630906666537995,
          4.793023118260907,
          5.371969286547667,
          -3.6916106659329015,
          10.028638864319714
         ],
         "yaxis": "y"
        }
       ],
       "layout": {
        "height": 600,
        "legend": {
         "title": {
          "text": "color"
         },
         "tracegroupgap": 0
        },
        "margin": {
         "t": 60
        },
        "template": {
         "data": {
          "bar": [
           {
            "error_x": {
             "color": "#2a3f5f"
            },
            "error_y": {
             "color": "#2a3f5f"
            },
            "marker": {
             "line": {
              "color": "#E5ECF6",
              "width": 0.5
             },
             "pattern": {
              "fillmode": "overlay",
              "size": 10,
              "solidity": 0.2
             }
            },
            "type": "bar"
           }
          ],
          "barpolar": [
           {
            "marker": {
             "line": {
              "color": "#E5ECF6",
              "width": 0.5
             },
             "pattern": {
              "fillmode": "overlay",
              "size": 10,
              "solidity": 0.2
             }
            },
            "type": "barpolar"
           }
          ],
          "carpet": [
           {
            "aaxis": {
             "endlinecolor": "#2a3f5f",
             "gridcolor": "white",
             "linecolor": "white",
             "minorgridcolor": "white",
             "startlinecolor": "#2a3f5f"
            },
            "baxis": {
             "endlinecolor": "#2a3f5f",
             "gridcolor": "white",
             "linecolor": "white",
             "minorgridcolor": "white",
             "startlinecolor": "#2a3f5f"
            },
            "type": "carpet"
           }
          ],
          "choropleth": [
           {
            "colorbar": {
             "outlinewidth": 0,
             "ticks": ""
            },
            "type": "choropleth"
           }
          ],
          "contour": [
           {
            "colorbar": {
             "outlinewidth": 0,
             "ticks": ""
            },
            "colorscale": [
             [
              0,
              "#0d0887"
             ],
             [
              0.1111111111111111,
              "#46039f"
             ],
             [
              0.2222222222222222,
              "#7201a8"
             ],
             [
              0.3333333333333333,
              "#9c179e"
             ],
             [
              0.4444444444444444,
              "#bd3786"
             ],
             [
              0.5555555555555556,
              "#d8576b"
             ],
             [
              0.6666666666666666,
              "#ed7953"
             ],
             [
              0.7777777777777778,
              "#fb9f3a"
             ],
             [
              0.8888888888888888,
              "#fdca26"
             ],
             [
              1,
              "#f0f921"
             ]
            ],
            "type": "contour"
           }
          ],
          "contourcarpet": [
           {
            "colorbar": {
             "outlinewidth": 0,
             "ticks": ""
            },
            "type": "contourcarpet"
           }
          ],
          "heatmap": [
           {
            "colorbar": {
             "outlinewidth": 0,
             "ticks": ""
            },
            "colorscale": [
             [
              0,
              "#0d0887"
             ],
             [
              0.1111111111111111,
              "#46039f"
             ],
             [
              0.2222222222222222,
              "#7201a8"
             ],
             [
              0.3333333333333333,
              "#9c179e"
             ],
             [
              0.4444444444444444,
              "#bd3786"
             ],
             [
              0.5555555555555556,
              "#d8576b"
             ],
             [
              0.6666666666666666,
              "#ed7953"
             ],
             [
              0.7777777777777778,
              "#fb9f3a"
             ],
             [
              0.8888888888888888,
              "#fdca26"
             ],
             [
              1,
              "#f0f921"
             ]
            ],
            "type": "heatmap"
           }
          ],
          "heatmapgl": [
           {
            "colorbar": {
             "outlinewidth": 0,
             "ticks": ""
            },
            "colorscale": [
             [
              0,
              "#0d0887"
             ],
             [
              0.1111111111111111,
              "#46039f"
             ],
             [
              0.2222222222222222,
              "#7201a8"
             ],
             [
              0.3333333333333333,
              "#9c179e"
             ],
             [
              0.4444444444444444,
              "#bd3786"
             ],
             [
              0.5555555555555556,
              "#d8576b"
             ],
             [
              0.6666666666666666,
              "#ed7953"
             ],
             [
              0.7777777777777778,
              "#fb9f3a"
             ],
             [
              0.8888888888888888,
              "#fdca26"
             ],
             [
              1,
              "#f0f921"
             ]
            ],
            "type": "heatmapgl"
           }
          ],
          "histogram": [
           {
            "marker": {
             "pattern": {
              "fillmode": "overlay",
              "size": 10,
              "solidity": 0.2
             }
            },
            "type": "histogram"
           }
          ],
          "histogram2d": [
           {
            "colorbar": {
             "outlinewidth": 0,
             "ticks": ""
            },
            "colorscale": [
             [
              0,
              "#0d0887"
             ],
             [
              0.1111111111111111,
              "#46039f"
             ],
             [
              0.2222222222222222,
              "#7201a8"
             ],
             [
              0.3333333333333333,
              "#9c179e"
             ],
             [
              0.4444444444444444,
              "#bd3786"
             ],
             [
              0.5555555555555556,
              "#d8576b"
             ],
             [
              0.6666666666666666,
              "#ed7953"
             ],
             [
              0.7777777777777778,
              "#fb9f3a"
             ],
             [
              0.8888888888888888,
              "#fdca26"
             ],
             [
              1,
              "#f0f921"
             ]
            ],
            "type": "histogram2d"
           }
          ],
          "histogram2dcontour": [
           {
            "colorbar": {
             "outlinewidth": 0,
             "ticks": ""
            },
            "colorscale": [
             [
              0,
              "#0d0887"
             ],
             [
              0.1111111111111111,
              "#46039f"
             ],
             [
              0.2222222222222222,
              "#7201a8"
             ],
             [
              0.3333333333333333,
              "#9c179e"
             ],
             [
              0.4444444444444444,
              "#bd3786"
             ],
             [
              0.5555555555555556,
              "#d8576b"
             ],
             [
              0.6666666666666666,
              "#ed7953"
             ],
             [
              0.7777777777777778,
              "#fb9f3a"
             ],
             [
              0.8888888888888888,
              "#fdca26"
             ],
             [
              1,
              "#f0f921"
             ]
            ],
            "type": "histogram2dcontour"
           }
          ],
          "mesh3d": [
           {
            "colorbar": {
             "outlinewidth": 0,
             "ticks": ""
            },
            "type": "mesh3d"
           }
          ],
          "parcoords": [
           {
            "line": {
             "colorbar": {
              "outlinewidth": 0,
              "ticks": ""
             }
            },
            "type": "parcoords"
           }
          ],
          "pie": [
           {
            "automargin": true,
            "type": "pie"
           }
          ],
          "scatter": [
           {
            "fillpattern": {
             "fillmode": "overlay",
             "size": 10,
             "solidity": 0.2
            },
            "type": "scatter"
           }
          ],
          "scatter3d": [
           {
            "line": {
             "colorbar": {
              "outlinewidth": 0,
              "ticks": ""
             }
            },
            "marker": {
             "colorbar": {
              "outlinewidth": 0,
              "ticks": ""
             }
            },
            "type": "scatter3d"
           }
          ],
          "scattercarpet": [
           {
            "marker": {
             "colorbar": {
              "outlinewidth": 0,
              "ticks": ""
             }
            },
            "type": "scattercarpet"
           }
          ],
          "scattergeo": [
           {
            "marker": {
             "colorbar": {
              "outlinewidth": 0,
              "ticks": ""
             }
            },
            "type": "scattergeo"
           }
          ],
          "scattergl": [
           {
            "marker": {
             "colorbar": {
              "outlinewidth": 0,
              "ticks": ""
             }
            },
            "type": "scattergl"
           }
          ],
          "scattermapbox": [
           {
            "marker": {
             "colorbar": {
              "outlinewidth": 0,
              "ticks": ""
             }
            },
            "type": "scattermapbox"
           }
          ],
          "scatterpolar": [
           {
            "marker": {
             "colorbar": {
              "outlinewidth": 0,
              "ticks": ""
             }
            },
            "type": "scatterpolar"
           }
          ],
          "scatterpolargl": [
           {
            "marker": {
             "colorbar": {
              "outlinewidth": 0,
              "ticks": ""
             }
            },
            "type": "scatterpolargl"
           }
          ],
          "scatterternary": [
           {
            "marker": {
             "colorbar": {
              "outlinewidth": 0,
              "ticks": ""
             }
            },
            "type": "scatterternary"
           }
          ],
          "surface": [
           {
            "colorbar": {
             "outlinewidth": 0,
             "ticks": ""
            },
            "colorscale": [
             [
              0,
              "#0d0887"
             ],
             [
              0.1111111111111111,
              "#46039f"
             ],
             [
              0.2222222222222222,
              "#7201a8"
             ],
             [
              0.3333333333333333,
              "#9c179e"
             ],
             [
              0.4444444444444444,
              "#bd3786"
             ],
             [
              0.5555555555555556,
              "#d8576b"
             ],
             [
              0.6666666666666666,
              "#ed7953"
             ],
             [
              0.7777777777777778,
              "#fb9f3a"
             ],
             [
              0.8888888888888888,
              "#fdca26"
             ],
             [
              1,
              "#f0f921"
             ]
            ],
            "type": "surface"
           }
          ],
          "table": [
           {
            "cells": {
             "fill": {
              "color": "#EBF0F8"
             },
             "line": {
              "color": "white"
             }
            },
            "header": {
             "fill": {
              "color": "#C8D4E3"
             },
             "line": {
              "color": "white"
             }
            },
            "type": "table"
           }
          ]
         },
         "layout": {
          "annotationdefaults": {
           "arrowcolor": "#2a3f5f",
           "arrowhead": 0,
           "arrowwidth": 1
          },
          "autotypenumbers": "strict",
          "coloraxis": {
           "colorbar": {
            "outlinewidth": 0,
            "ticks": ""
           }
          },
          "colorscale": {
           "diverging": [
            [
             0,
             "#8e0152"
            ],
            [
             0.1,
             "#c51b7d"
            ],
            [
             0.2,
             "#de77ae"
            ],
            [
             0.3,
             "#f1b6da"
            ],
            [
             0.4,
             "#fde0ef"
            ],
            [
             0.5,
             "#f7f7f7"
            ],
            [
             0.6,
             "#e6f5d0"
            ],
            [
             0.7,
             "#b8e186"
            ],
            [
             0.8,
             "#7fbc41"
            ],
            [
             0.9,
             "#4d9221"
            ],
            [
             1,
             "#276419"
            ]
           ],
           "sequential": [
            [
             0,
             "#0d0887"
            ],
            [
             0.1111111111111111,
             "#46039f"
            ],
            [
             0.2222222222222222,
             "#7201a8"
            ],
            [
             0.3333333333333333,
             "#9c179e"
            ],
            [
             0.4444444444444444,
             "#bd3786"
            ],
            [
             0.5555555555555556,
             "#d8576b"
            ],
            [
             0.6666666666666666,
             "#ed7953"
            ],
            [
             0.7777777777777778,
             "#fb9f3a"
            ],
            [
             0.8888888888888888,
             "#fdca26"
            ],
            [
             1,
             "#f0f921"
            ]
           ],
           "sequentialminus": [
            [
             0,
             "#0d0887"
            ],
            [
             0.1111111111111111,
             "#46039f"
            ],
            [
             0.2222222222222222,
             "#7201a8"
            ],
            [
             0.3333333333333333,
             "#9c179e"
            ],
            [
             0.4444444444444444,
             "#bd3786"
            ],
            [
             0.5555555555555556,
             "#d8576b"
            ],
            [
             0.6666666666666666,
             "#ed7953"
            ],
            [
             0.7777777777777778,
             "#fb9f3a"
            ],
            [
             0.8888888888888888,
             "#fdca26"
            ],
            [
             1,
             "#f0f921"
            ]
           ]
          },
          "colorway": [
           "#636efa",
           "#EF553B",
           "#00cc96",
           "#ab63fa",
           "#FFA15A",
           "#19d3f3",
           "#FF6692",
           "#B6E880",
           "#FF97FF",
           "#FECB52"
          ],
          "font": {
           "color": "#2a3f5f"
          },
          "geo": {
           "bgcolor": "white",
           "lakecolor": "white",
           "landcolor": "#E5ECF6",
           "showlakes": true,
           "showland": true,
           "subunitcolor": "white"
          },
          "hoverlabel": {
           "align": "left"
          },
          "hovermode": "closest",
          "mapbox": {
           "style": "light"
          },
          "paper_bgcolor": "white",
          "plot_bgcolor": "#E5ECF6",
          "polar": {
           "angularaxis": {
            "gridcolor": "white",
            "linecolor": "white",
            "ticks": ""
           },
           "bgcolor": "#E5ECF6",
           "radialaxis": {
            "gridcolor": "white",
            "linecolor": "white",
            "ticks": ""
           }
          },
          "scene": {
           "xaxis": {
            "backgroundcolor": "#E5ECF6",
            "gridcolor": "white",
            "gridwidth": 2,
            "linecolor": "white",
            "showbackground": true,
            "ticks": "",
            "zerolinecolor": "white"
           },
           "yaxis": {
            "backgroundcolor": "#E5ECF6",
            "gridcolor": "white",
            "gridwidth": 2,
            "linecolor": "white",
            "showbackground": true,
            "ticks": "",
            "zerolinecolor": "white"
           },
           "zaxis": {
            "backgroundcolor": "#E5ECF6",
            "gridcolor": "white",
            "gridwidth": 2,
            "linecolor": "white",
            "showbackground": true,
            "ticks": "",
            "zerolinecolor": "white"
           }
          },
          "shapedefaults": {
           "line": {
            "color": "#2a3f5f"
           }
          },
          "ternary": {
           "aaxis": {
            "gridcolor": "white",
            "linecolor": "white",
            "ticks": ""
           },
           "baxis": {
            "gridcolor": "white",
            "linecolor": "white",
            "ticks": ""
           },
           "bgcolor": "#E5ECF6",
           "caxis": {
            "gridcolor": "white",
            "linecolor": "white",
            "ticks": ""
           }
          },
          "title": {
           "x": 0.05
          },
          "xaxis": {
           "automargin": true,
           "gridcolor": "white",
           "linecolor": "white",
           "ticks": "",
           "title": {
            "standoff": 15
           },
           "zerolinecolor": "white",
           "zerolinewidth": 2
          },
          "yaxis": {
           "automargin": true,
           "gridcolor": "white",
           "linecolor": "white",
           "ticks": "",
           "title": {
            "standoff": 15
           },
           "zerolinecolor": "white",
           "zerolinewidth": 2
          }
         }
        },
        "width": 800,
        "xaxis": {
         "anchor": "y",
         "domain": [
          0,
          1
         ],
         "title": {
          "text": "x"
         }
        },
        "yaxis": {
         "anchor": "x",
         "domain": [
          0,
          1
         ],
         "title": {
          "text": "y"
         }
        }
       }
      },
      "text/html": [
       "<div>                            <div id=\"1a25f725-1886-48ab-b3f1-04009dc1996e\" class=\"plotly-graph-div\" style=\"height:600px; width:800px;\"></div>            <script type=\"text/javascript\">                require([\"plotly\"], function(Plotly) {                    window.PLOTLYENV=window.PLOTLYENV || {};                                    if (document.getElementById(\"1a25f725-1886-48ab-b3f1-04009dc1996e\")) {                    Plotly.newPlot(                        \"1a25f725-1886-48ab-b3f1-04009dc1996e\",                        [{\"hovertemplate\":\"color=5<br>x=%{x}<br>y=%{y}<extra></extra>\",\"legendgroup\":\"5\",\"marker\":{\"color\":\"#636efa\",\"symbol\":\"circle\",\"size\":12},\"mode\":\"markers\",\"name\":\"5\",\"showlegend\":true,\"x\":[-1.259468785964746,11.215081773786887,6.435368399829143,0.24092407426786974,6.134364006470748,5.018480094865713,3.9385991103104105,10.32278274358417,6.3080806518369785,-3.4294625008755717,-1.264837311211141,8.55760695555684,7.653094388692096,2.017144281506988,3.5609634403129724,8.081889888734384,6.023722290794494,4.2891311749226935,2.809675019691992,10.78212897660804,10.660782011818979,5.710834001705787,14.796136044691805,11.314747289995715,0.13818026757870003,7.956977907192094,5.6483983490836955,3.150151309308052,0.6473935709469549,5.81795725893299,-3.1605735654554477,3.663120747499148,-0.6204141706394313,1.1144308695686127,1.9832116257265935,3.4396945824712146,0.522490622732284,1.1894060263674664,2.478180238097501,-5.279174858069267,-0.7938764574976458,4.540172926231828,7.510539368456839,-2.664023587439323,2.805454100200345,5.365418129459907,-5.4040038029020065,2.171367526028407,-0.9043797850137685,0.08873842555846607,2.8633119204246547,0.6090229089966206,-3.5227511796807036,0.12978730974965,-6.4691443752733075,0.20757933960941732,-6.239571579662272,-2.509393711005788,-4.973199093831863,3.65213336518158,1.7171205087955794,-8.631906328723593,-1.7290483809643027,-8.718106021907374,-2.943697228309354,3.118601893855605,-0.9071540556974068,7.547975795723975,4.94365392241094,-0.05627786393337973,7.694317381976683,-0.039371443206883266,14.567052249685364,8.412767182740852,5.753324450555741,3.8776466382999617,4.218136727758655,3.3655361374759627,-3.261339640842659,-4.089317845935653,8.063058258912848,4.266379847382194,3.9337828195990445,3.570869504981935,1.8025346316773754,5.363686004578873,3.6584608133287206,6.7429177196598955,11.652407498513167,-5.140188479069242,-2.867731800493263,6.788870980706267,-3.639204816189194,-4.437593899536785,0.6782099836013887,-6.436957293958327,-4.593433055133761,-10.297382240712516,-6.993554450394875,-7.1924612594004556,-4.140714579566984,-12.358242938271765,1.0062340268862402,3.75574025598922,2.135137577730996,-2.8349922939253847,7.1200864698799835,4.709838574539005,0.2994600170776105,-5.092031904816186,-3.3091332071065223,1.3966803542320607,-0.6831227413717966,-0.7628072095278252,-0.355885020864439,0.40165695234120813,2.3082898044070537,2.353429991300522,-0.9741876779912353,2.969516766223897,-0.7710606904813285,-0.33164816415489307,0.5222953820694469,2.7445476339945225,-3.814535202653468,-3.446887986734133,2.5746540804422158,-2.600044064437752,3.1321680616207463,8.278125086779191,5.235430587022253,-2.765131553321254,9.343737125405562,6.45396773071243,6.497670605757468,-0.6453050697546775,5.008339234612588,-1.418147088169234,-0.9087326078827173,5.198147935318728,9.251110697482217,-7.301115560572729,-3.6533626171973044,-1.4040090600671653,-0.5650271111860081,-1.7981297837850019,-1.6854406536572064,-3.796508081221737,-5.302313477746225,-5.738801200107996,-6.609352724177554,-0.9894161840746352,-2.4811863091243254,-3.362227788527916,6.658960042535303,6.6203919505228885,7.610085919109903,4.027627670513432,15.821792778626723,0.43654981917397134,-7.055185868389035,10.611395581331832,17.356055642751613,2.3770741627812595,11.187551195776773,2.598684406903052,-2.481524771567339,0.018645318215948396,2.384059371208689,-0.03313024586877014,10.328373108883438,1.0262177816729494,3.4868737331211856,9.579959779292446,1.8138721353893519,4.095452628506001,-1.4580197945281095,10.041819295101387,6.464577196235311],\"xaxis\":\"x\",\"y\":[21.274880950045343,16.91986050412505,19.477110517909093,26.59301652486549,15.899979966039217,20.77468838488756,20.882146237368623,13.990165938330906,20.10219584081744,22.843595317060274,23.802466526263217,23.51691558058779,21.08939571505018,24.135919424497008,21.529028895696992,22.276614610599076,20.8394567731313,22.578564994070423,24.269626055747597,16.17271004580079,21.459933769240266,24.425807872866653,16.284138269735447,20.637472528988418,25.084934470244047,23.210668525979333,18.79494149979015,20.83273511585021,20.82332753346161,18.497675186688475,18.970413705707912,20.53802360388396,24.8482383122532,21.33565731780969,20.726375578898317,24.579951336853163,17.995230692326167,20.313450186775665,24.06321778377494,25.002066924267837,24.945683070442886,24.035806620096327,16.989859968219744,22.56455693507247,26.52149902551683,21.46475190205143,26.155450100247343,18.847619953834414,23.84829108009551,27.07831884747303,22.433821446089404,22.329560809168157,24.005358805345285,21.946623283754793,18.303788678150873,22.184877764046348,23.16427899869578,24.687395550117326,29.185918370572566,21.209610829752723,18.90428492863003,18.054748304185935,20.168143688515933,19.221146240817323,24.661558021982707,23.415613502048927,11.52346453146608,21.127311116652415,19.345676219901655,25.0071111633803,22.411859181983417,13.201561042889384,9.41032251111988,20.049038230023275,17.8111011620827,23.16691798977271,22.60358558349309,17.286779775403613,19.707252019310154,26.52016016121127,19.788427566211933,18.071862545938988,25.277172660945602,23.550163829933,17.804062767661456,17.281957646449982,21.723552653667863,22.409252057983238,13.132643061464098,21.253193386306673,22.759846139184678,20.91684110247232,24.945108749753906,22.739009975848255,24.467401118672832,22.79071727552604,22.960911822925866,24.07777407295537,19.817783187813298,23.954155673853716,23.009602813989563,20.103209067403476,21.124794526983287,26.31139530282416,22.89596378488512,23.97142457710858,25.65275642975949,18.377210316706847,20.044989778678207,27.377145809464764,22.170135679613683,28.033123316455768,30.09221610284006,21.869211921338685,26.167594911251218,22.687474152236934,18.228898484609772,17.62162585198548,12.16714594734419,22.71450377468533,22.859286742844965,19.389701318221164,16.56957083869073,13.721856515157931,11.776091749426124,17.156135541354786,19.23065413297834,7.38706987949308,24.091141828043735,24.38532578838582,27.906321890509407,28.98547027059906,13.649441047294358,26.13882505636762,25.2877945451809,24.61675027869823,20.33207804342569,22.164002572180998,22.73580168699628,26.770977738547963,16.643329890317414,19.95933801914288,19.198800689674457,18.15243171793453,20.737496354494887,21.566727595247485,22.719165362563974,20.32110993718351,28.62093878608276,24.32479899250776,26.982157736083565,20.70406512374084,22.91519871019166,19.449765205723445,23.741226054240745,23.501938931866878,19.005230154123943,25.079507247867912,13.028723632058488,13.799041963303608,11.358653641503423,19.713882819751223,15.225582355816627,28.796174981924022,20.785743935607528,20.947018811665934,21.233825992236778,23.56088648602482,20.721481649952775,23.813149830352067,20.233658063730054,18.433840368358993,23.124344367649492,10.59081885362298,16.888437271681816,18.320307810400372,18.031412384787817,17.004891275370884,20.56730367141499],\"yaxis\":\"y\",\"type\":\"scattergl\"},{\"hovertemplate\":\"color=7<br>x=%{x}<br>y=%{y}<extra></extra>\",\"legendgroup\":\"7\",\"marker\":{\"color\":\"#EF553B\",\"symbol\":\"circle\",\"size\":12},\"mode\":\"markers\",\"name\":\"7\",\"showlegend\":true,\"x\":[7.9576160632327735,6.991923891114646,-2.84515904715992,0.4447338197957138,-0.018041605424184735,-4.388883940273683,0.9825012084311904,6.2653910800690005,1.6728866686483352,6.659993962298088,-7.711837859256348,2.7498071370532036,12.55869397822681,20.13908582833864,3.11503787901422,19.922257706363382,3.610845078580352,2.835414635227787,-4.984619238251815,0.04990349336920665,-3.6522152288085836,1.7710528726976442,4.319656690450391,1.211450947775911,4.209084561168965,7.173259176684773,3.654189154290896,4.045917883483455,-5.092155884110584,21.096008391329633,-0.08284061105507468,1.7911011225795515,20.797184511740667,5.424006681697971,1.3570493953671816,-0.37036922533992017,-1.7645992994033648,5.271747787284935,10.848066001498372,8.769026977889373,1.7501537676439398,13.431460743168447,7.058234611416675,-2.651176150920435,-1.0875959646809148,14.17176498322553,9.71838413207353,11.391302872678178,8.279251384485011,6.876243693839139,10.927028416653343,10.129736289803134,1.9409747767850403,3.467508139209983,15.206662927284794,3.419796903321905,-3.7646783133833184,-6.838093210428334,21.135842563645525,3.0705441602213335,-2.5291258553533154,0.6017282867595536,3.5528452857652186,3.8415073469513734,-3.8268230977334694,-6.091106712484097,6.016912739903135,0.32652878214796466,1.0524862707923135,2.344740219317746,7.914207677730438,6.518632382914319,3.650944517789099,2.4302029410966104,5.715080594132989,10.29799601160693,13.701165096698455,-1.2591941876747768,18.141476090185805,-3.6254618754616073,10.249284902606698,10.372966414381112,-0.5287986094920962,-10.099993492450338,0.566668567955908,15.147850054603351,0.659725151844693,8.042466441828926,9.890188058910264,13.841669448252262,0.3497135854258367,14.797779221489714,10.738369931022259,10.127255071476712,7.233963068775644,3.5474585723152416,2.506580076693545,-2.5136675302730938,4.192816364728214,10.317811687100363,12.400138153193806,7.53607004387399,0.837041816640026,-6.117847255215549,11.009674030151608,9.327474115855978,10.334028428907978,9.01254208210244,5.724890999547717,6.217239643918965,1.0436670817056943,10.424771318492493,6.54381203897557,8.85155168271017,-11.211008670534017,8.692893652343912,-3.835414536810555,9.161381208144434,12.570166704003164,-9.450654296869885,17.157866773404184,6.917909711718569,13.169634862051401,5.199847157712361,1.2502782195316646,7.968876867491445,-6.421849909111357,14.424345124622839,11.640586621288184,-5.1606231613303715,-0.3951661835697668,-4.342977505238142,0.03059966630339304,8.384510749908717,-3.2382859194510214,5.346037905842018,4.906701326356527,6.963877606617338,10.002826979056103,5.50189455921351,0.12421324707941957,10.774544439342302,12.415676475776744,-10.506765483611673,14.61966096554506,1.0021573733550735,-4.1919241110941785,-5.248753072826849,-4.557983027417195,2.730693708822336,6.706795546494645,1.6727184423768953,2.8216079417622857,-1.5215035388292824,2.8180576417325907,10.276538764513875,5.683448674077709,-0.754323898177282,4.111193878363561,3.029972823233696,1.412953365294298,2.5754431215304567,7.688524532332041,-6.690825403465387,10.783310698913699,11.166342665386507,-7.861013392000181,4.922677078645237,3.6663961185874214,-3.450967806491429,9.918828768598324,-7.210675667683245,9.86512679631809,9.359102600886128,17.278438085519962,15.114056957818127,3.8528998578670968,6.136387658664727,-16.505395615357028,9.224609312896375,6.394901284301394,2.6581165696799367,16.205162169320094,-11.995630966113442,-13.933436693541191,-7.073435270261644,14.345822072046227,2.6135550173157522,10.419134383264945,4.721349145511771,-1.2083737011745062,7.401565014046225,8.780646229212655,7.786171303016152,6.249834288632404,5.071091751015961,8.807135423944247,10.908001395973255,16.226660582358768,-8.231501101660244,-0.7809378855459497,11.680325288571026,-5.235520235251429,-0.6220662160951475,9.024588950646919,10.694646355533532,-6.765364838095423,10.310682076682399,-8.883611549766375,-4.946474035605744,-7.993874004677164,10.230648666037796,-0.16985902545049442,12.803232567593268,1.898478528670337,4.532755602692078,17.159713543258743,0.19231438505386858,12.558757893300005,10.504038877752299,0.3047056254018969,3.5533141912444464,0.13466553829101924,10.801280346130122],\"xaxis\":\"x\",\"y\":[-20.768696397224367,-9.955986728596391,-14.289634408226824,-7.3817454649462935,-11.679006826755543,-10.773904610611025,-6.80479527462061,-7.259272243181439,-9.991364209122047,-11.723521015285687,-19.18784312353189,-11.291076839159434,-20.23728339586682,-4.6848001072849925,-10.382000233042573,-19.197566867411357,-11.306382030067446,-7.4872502692589284,-4.535673704110928,-18.768926055868274,-14.980894103076238,-10.770883900509087,-15.587819228214753,-5.260106281954326,-0.21655555336589782,-12.268854676684336,-6.802635513629618,-12.538556142167268,-0.968702673153661,-12.78376194835499,-14.783649046626882,2.9653219582522814,-12.870247317746752,-15.770560773977389,-7.545326305259853,-8.034040976948797,-2.8775040700643806,-5.364028978551864,-21.259212728807533,-18.584398712309305,-9.22230919712953,-18.01902776925688,-7.670890547234605,-1.7740377012147497,-1.7525162025923477,-18.81107032038767,-16.840644898410165,-20.40997796664259,-25.345030043409228,-20.6173749509715,-23.10191780484806,-20.736821660197617,-4.446145854805538,-25.255949688431027,-12.600834086430083,-11.957629961270621,-8.223714504714808,-3.523880128713428,-3.913343940633194,-9.82167523590554,-4.043925584973664,-9.411153410362463,-7.979549793229423,-2.8594948811879846,-2.17945071545892,-4.818591437356973,-1.6240051556472395,-5.745005579808724,-1.1785688577082505,-6.219031628764745,-11.539183659930112,-2.3785457779525427,-10.383490699803742,-6.714748792858196,-6.560922669602329,-26.089219078949995,-16.001375258791533,3.812382922994426,-11.142485613223515,-2.533772055097137,-22.210398393400943,-19.541105902005125,-6.2275998539354305,-8.453606479796672,-24.205698705551395,-14.172036181205215,-26.310288131617742,-14.935648004702072,-16.896431902358223,-18.475111702699472,-8.656992280908558,-17.5325985473584,-22.235805207765843,-9.451703913645046,-4.732024073951951,-3.605362639690388,-26.7875346337813,-20.443101713023868,-26.275495529688207,-8.001398833467325,-9.466056723495827,-18.941429647440916,-21.5063876730084,-6.860556967909043,-12.803126847046437,-19.69697031451028,-25.29800568384786,-22.506924485260036,-26.025099761354877,-26.120062069287986,-4.349832203520605,-6.834298951094127,-15.93648741614918,-17.003359267809273,-15.32980583215057,-24.76150459661655,-6.489424207539158,-19.75858961168825,-22.273614765646485,-17.403634129417785,-11.66083114723056,-25.258576948912907,-19.22973840765197,-23.765121262373345,-22.275446693780676,-23.310573896596797,-3.773586237472751,-15.635834689070249,-21.648572059394205,-9.980801036631204,-11.840698986578532,-7.003288956707269,-8.904062135813087,-15.601057783123762,-16.09028681503575,-22.426943815044716,-16.662818914167495,-26.440578852669677,-17.352274415294488,-26.843421846560656,-20.33905641301472,-22.53822622436119,-19.36108758440895,-14.775115665899028,-7.854265967494683,-17.334197643406505,-12.91140003778993,-17.63654309313144,-13.067931503742015,-10.00989431740052,-17.12123760800952,-13.345556030221724,-13.78162541167982,-14.9600224065744,-14.02558307326519,-23.55450553970217,-26.882024306190832,-13.315108983827114,-24.44879488464008,-6.703588318986091,-19.971139017434272,-25.34176684069699,-23.18037549390028,-16.43890596641104,-21.905780571195333,-17.88528779737118,-12.760316678061912,-18.102520946524216,-10.910969565854794,-11.679319380599495,-23.711637247220928,-18.742869615462357,-5.568726000922789,-18.773234969583463,-14.210471684780615,-6.61365265816577,0.41050234855682216,-25.560138379722677,-25.25927623281381,-23.029470142965884,-8.018308546429306,-9.68777140174391,-20.21555299192441,-21.517223983579647,-19.155650406372978,-17.96320951393252,-22.448239296499974,-7.799130774761537,-22.69744584481172,-22.459198553993467,-17.007386636714877,-26.311343975432337,-25.798833637892514,-0.9131187200246493,-26.50750761077337,-24.19126025170049,-9.227248739244951,-9.19574961206717,-17.05534066529069,-13.919701605789518,-9.767271555269978,-10.294421483844069,-0.7839956748097012,-9.238996968748802,-12.33301911206033,-20.307626361286747,-11.749649226671925,-16.026045432975792,-11.842585211470144,-15.447528723822986,-15.346785560125843,-18.49326207389917,-1.4959634452175192,-11.286824715241401,-18.37612560756382,-22.648773556723086,-14.905555585549246,-12.032717213349352,-13.144057137167465,-14.139553569293685,-0.5014277076008817,-17.9722407695331,-18.647269984479905,-6.960262456196731],\"yaxis\":\"y\",\"type\":\"scattergl\"},{\"hovertemplate\":\"color=1<br>x=%{x}<br>y=%{y}<extra></extra>\",\"legendgroup\":\"1\",\"marker\":{\"color\":\"#00cc96\",\"symbol\":\"circle\",\"size\":12},\"mode\":\"markers\",\"name\":\"1\",\"showlegend\":true,\"x\":[-15.906105182723437,-23.255620691255587,-19.189779501252733,-20.851998429466132,-19.406631187631387,-23.56550951590942,-23.89206851721392,-21.561378697749397,-20.242243946103738,-24.09607766770904,-20.60603128041822,-20.175482387199903,-24.68563573660471,-19.632684983964815,-26.95498274243332,-16.928597144010507,-12.960693062823934,-21.54342133160311,-26.069903641414918,-19.143514798193625,-21.87708988115896,-23.029152000718657,-20.445708737784084,-18.30484919598922,-19.84272483010731,-17.8526102610518,-19.473197328964577,-15.665607667477401,-22.503719251890136,-20.542042578550493,-16.316095654282993,-20.749203624815447,-25.4237497729829,-20.43315254739816,-20.468073386912344,-25.22213899227801,-15.98330978556575,-10.43178274368125,-22.366278699464694,-23.694152314622254,-21.291473425404057,-17.377016790213474,-9.29790435397727,-20.66573191203041,-14.185295015053994,-13.562034004364602,-12.81698343549656,-15.96130497045207,-15.175835232792416,-12.044688597218085,-17.905771753370065,-19.61065373511338,-19.458030584412334,-16.961339027432157,-15.8656489959276,-18.632616919166857,-14.602516900045526,-11.733700069284186,-15.087751277413673,-24.383947612566104,-21.915913368474126,-24.338566131817686,-23.377711242348674,-13.594586840383988,-20.91959632780523,-21.280000795730288,-5.155775089501893,-9.664767572080276,-16.822061057928437,-5.389713623690676,-21.080186069248988,-22.16736775915548,-20.489073238362693,-13.843671995146924,-12.33726075666815,-18.68602530713219,-16.321001055472635,-21.4094052237192,-19.175762660917627,-21.47134944001958,-13.947615543855331,-17.425947140151756,-19.258731386732844,-17.972021111503178,-20.21181432774156,-7.8939739255159225,-14.383123552178374,-20.079903230587075,-19.649407637012086,-13.925384210883616,-17.07245454059895,-7.906556322090376,-21.633562813638726,-12.77017149236678,-17.156417251687095,-17.408189048253856,-23.135774005291626,-12.879025691663172,-23.39470758903588,-24.58383669630175,-24.176906713524186,-31.16989979712108,-28.40321767286992,-28.858177193951093,-28.833295810875036,-19.144972269479265,-24.802723975514596,-27.87606991867704,-27.07943686282884,-27.482940295892302,-8.508925640280129,-26.15002764500287,-25.34235146598555,-25.85434219802775,-26.494871009241596,-23.84668846106971,-23.41040696914148,-28.391558192409693,-23.651376534327486,-22.98324658302505,-21.99508323310616,-23.19169080314001,-23.280381219615396,-30.25584087777387,-25.850820393697237,-10.113555668623526,-21.228270325302482,-26.62576920861944,-17.755309084302834,-15.160606334384067,-12.35425236333833,-15.168580185506498,-18.11780633936626,-24.278469947815786,-25.499838708713753,-28.365274321973022,-12.680218227164975,-25.108026279082328,-21.811144714005387,-23.6714692584493,-22.60354556708568,-26.395864096794817,-17.704613442678436,-21.388390605245274,-18.579320215815567,-21.45586660937155,-18.38890597462064,-20.053046693787312,-23.220131387536604,-27.875349023560318,-20.506740368220758,-22.024183501439232,-21.333356206673933,-19.418668879528816,-21.717043251422407,-16.717956743840805,-16.628643263872192,-3.937168383227492,-17.573324609579515,-23.2494455686732,-4.73746852597706,-8.885184468968303,-22.66138179966391,-16.805775930265415,-13.606257337514066,-20.61903568655296,-19.679598859854924,-18.94597738045547,-14.61099111595526,-12.417205340541987,-6.458158343720166,-10.37818265727992,-15.478900727796477,-19.837539478208043,-10.962859808777916,-18.681261322335047],\"xaxis\":\"x\",\"y\":[3.3324598456326697,-1.9067559450920237,-4.515541935990073,3.0781632884376644,-8.135230130108573,3.62125426209492,0.5928306394953986,-8.819548960184665,-5.357027248859355,-1.8128455763354296,-14.85944941465795,12.002424612090438,-5.215517939721651,-11.99624953895844,0.8162878423673756,-8.00273607751971,8.28202410706209,-8.631605600508806,3.508918844481735,-2.190160933280254,2.2774420212961046,-2.410266621626537,-6.70455622007634,-9.52606875911137,-8.780032248143339,-9.136755202144458,3.3440245099932833,-1.2307329280409467,0.8222538850257117,0.04206608488521142,-3.3659251408400346,-1.9286160204741318,0.5508640271958267,-1.708689558465597,-0.5815512720278807,-2.7254342867921992,-2.73154450996555,1.047129596238197,3.8722953436197334,-1.825368875407035,1.7548590131564075,8.30678837233331,13.632872290914799,6.617098084566038,4.54734270157826,8.265473017580065,8.026898470966525,3.849040974963158,3.4352861514117268,6.382650574596973,5.6783128061052635,10.279008529360626,4.3159988273788334,6.479504352213251,-1.449107516990844,7.778085874230938,-3.254562621271401,6.7196149938312395,-5.898982673655862,6.563430088794036,-0.09510516260454698,6.37557188110685,-4.1032805505907515,-9.861088964317277,2.180637583094887,4.757892500120069,-3.666622383133022,-0.1684427062474029,-8.985136745389452,2.004695813644292,-1.6311236874881245,1.7336322160292057,0.22733922534050077,-6.594623143028245,-5.797087038577421,-1.5496653365460327,-7.0364746218161365,-0.4697277975302121,-0.8971504214444235,1.2281359918055468,1.6352598547522839,-1.7228750008879938,9.030451843935472,7.822428145260771,6.103365860296347,0.9697200443320855,6.484414617139832,4.541703448989915,8.100001125259125,10.811258846817209,12.49463961177265,14.159893750502537,8.552818325704951,10.263695647085864,4.154839034716228,12.168297828648393,5.440712345908607,-0.9560630524363951,5.353393957554278,3.2142137325980924,2.5861420423327703,8.264716961676168,3.1782966582589087,7.5087305563511455,4.4057958893132545,-0.7605814305272218,4.767679229558187,4.252568490412397,6.015401948229022,4.68248505868021,-5.280656746319534,6.178782348941264,1.863264708754241,10.810948000913461,12.185235006652137,-5.6130679135108075,-2.771007462940967,6.5090532166745705,-10.915830801675844,-1.3505323819966564,-0.21240484550554475,0.9480845925584498,-12.887454322921743,0.1491093926319442,5.907627704093968,-5.568446305114467,6.156919368936949,4.971980170061837,-0.41093127812848873,8.479297560648874,0.9207752409052825,1.6808209461255212,-2.924922257121181,6.209943503205315,9.137421510390622,12.041103437478034,10.821762420360052,2.192742098837823,-8.945888497005715,3.3519091164019983,9.34924295804384,1.3856308548510017,5.224420845440184,7.399168118453561,1.0206827490714896,3.3191493129868452,3.1087370543695965,6.602356239762662,5.122089333684572,5.61827064322731,3.2605181552296347,0.9954326004549636,6.34977318505844,7.935602312649677,0.5340317124153527,4.562073889351967,-6.696501378957342,2.8574227465990294,-5.398855438418506,-6.531305808394277,3.0157114280614827,-1.0091621012747907,-9.373792932509213,-2.496918631451723,-5.152129146349563,-5.4021686226275945,-0.10926813593278781,12.721265198463263,-2.619286463412724,0.7946761219961179,2.1808200654683016,-3.251530897772886,-16.05928095509903,-7.85312099215163,-1.0744531802135453,-3.6642918435168466],\"yaxis\":\"y\",\"type\":\"scattergl\"},{\"hovertemplate\":\"color=0<br>x=%{x}<br>y=%{y}<extra></extra>\",\"legendgroup\":\"0\",\"marker\":{\"color\":\"#ab63fa\",\"symbol\":\"circle\",\"size\":12},\"mode\":\"markers\",\"name\":\"0\",\"showlegend\":true,\"x\":[23.30687281542836,24.456741668335177,25.045091093626084,28.181626888575575,19.446587458716987,18.20044239985737,22.568153188791072,22.77232794936965,16.832211480120268,18.74806455030464,16.710691711196603,24.50704085496806,18.417615926724988,22.416447535895415,19.641330253771667,25.338741203505155,20.379781376667594,26.25005547651365,24.845192145587163,22.257850245596543,22.6977544164579,20.91781991819738,26.45292708845794,23.395294110257975,27.566229192714022,28.88921760615108,25.971697208596787,26.413634994318,30.39898483574799,20.693202445060813,29.467782403645742,28.09618844019508,28.852781526185577,26.837523856185722,17.78119357143667,21.985837731761503,22.099849170413403,19.18467142042698,22.578022144508708,20.216319383354737,21.29483242682799,20.787774747493394,21.576677508526977,20.315654986200702,19.014319425015184,19.36764864608897,22.316501662430383,19.172626591139927,24.738587896003082,14.66646058917146,16.851193571017788,18.551117643156115,19.827391397970178,15.656781911245703,24.392673624907545,15.05760785681064,23.26415088441049,27.16190914166853,18.234160683828357,18.360718982895737,15.726875315874844,22.359381294332906,25.187295246786558,19.526084404639327,14.952204885347175,23.407121930684614,28.222177945610323,29.81284472368594,25.7440173129976,28.953240106284635,26.977207843499336,28.859784927822407,25.292665182848705,25.413772412076217,25.67647410140696,27.27052092462261,28.75696618234261,29.557559858546274,26.431547826161985,28.227634574961662,28.76330323694233,20.432067047000714,22.699894909411913,16.78028212696379,19.889538630757297,21.65337825439621,22.452067472478795,27.23664958557682,20.532321542131758,13.6157614397456,24.44560450031327,17.003641910112172,14.489791155544468,21.257877340739416,16.474603440271405,18.09638203216235,17.337612130664876,20.19453552361606,23.32308245958031,26.044893579105455,14.353693087862256,23.768443812343328,17.57997680573262,26.762973832999027,27.292238365880134,21.017467969164368,27.990304039424856,26.162948520827328,27.361415242040696,28.984710662015765,27.798680650395625,29.515866120612593,23.889153702129626,29.97706114528798,28.12397457905355,16.373162049474896,23.459431357460478,20.530520298943404,18.371752750517853,24.547000811417632,23.411185560782922,29.479084043799038,24.74708528213148,20.99945532947905,28.842033063192197,25.20042600545682,26.46136133122789,25.367563267355315,28.629770073107014,18.08988805969464,25.78967464546482,25.03347085959407,26.68918443086223,23.6403267974926,25.73807900918137,26.75080067894359,25.095009781923704,24.409421810510224,26.74762837279785,18.59251774597025,27.008542042474396,27.522979731206593,22.25333025699378,24.0794020956271,20.519569274590534,20.092275509150333,27.286971450344833,16.13381824675467,28.290252241029695,26.282902330130344,23.754031093589656,16.484073193767284,26.6757123026341,29.096227300136118,27.78817448690792,8.07939697219718,27.104018699910334,28.997195330460848,25.15946880799293,23.606629721797834,28.43572455531213,23.603397477347617,20.230829494108324,26.803278650458488,28.181203396885028,31.700127763536393],\"xaxis\":\"x\",\"y\":[4.269064763003052,2.6613028015124214,0.7712365558829947,7.427006465216138,-4.4108505184469085,-13.21294890901005,0.6865906776022346,4.986725664484032,-1.3880829180205692,2.6905257879116564,-12.116901718551716,1.2244868977255383,-14.95412298958027,-10.872647343617192,-12.415474038391977,-12.58939882567207,-10.446029613777831,-11.80675656846631,-13.100010274584985,-15.988397032072275,-13.280923053607978,-1.5932689919482974,-3.943978846877915,-1.0159248324051788,4.13055667705833,2.742378832004657,2.5738404667097172,-4.164946449104479,7.809737449541184,-6.389236598409437,9.379356228969698,-0.707347516824679,1.6754647942338072,-1.2303325739869713,-3.7714854916848433,-9.72338375472218,-8.115489546382351,-6.366935245014291,-4.811071977760967,-6.141905620496969,-4.468396707145613,-7.135618298977204,-4.090909006321625,-1.8507543924647973,-9.495105482306764,-6.42926079989226,-1.3325886329729837,-2.814620000596648,-2.535339579375322,-9.159104265081512,-6.483924156523073,-2.0420464309840862,-3.5611030817450366,0.23668019956286832,-0.8281066964128855,-4.331805411357658,-10.444181896968004,-9.284115138157144,3.158058949397602,-10.618777102777777,-5.908769405787875,-6.695388467646587,-6.7488639540775015,-5.598113480273677,-0.6712546061184835,2.56750007381036,3.122616738476665,-4.172386644251167,2.473324192152515,3.1411779935993107,-0.9096035064649962,-0.7226843578817818,13.64977605930416,2.3459115352645643,4.368062657038729,-0.556109787811565,-0.36060017726926313,3.9303876175888828,9.504647562430462,9.628077996251283,6.931776136807492,5.506600506170494,3.641177150556053,6.694967769250324,-0.14465357108949067,14.01291514076452,-1.4764485542847068,3.135355745871584,4.845379737867164,-3.888384791537415,-2.853933899370787,-1.8587550786635068,1.0510472639383808,1.0182987664612373,6.659080708901206,0.14747497678444563,-1.4926399305165998,-6.286826990281834,2.897472578948991,9.176248145243456,3.2049646950071686,3.2295389066774227,-7.21030187876741,1.8668033839860867,9.036210248480995,1.0346302886552634,10.210461968116796,12.670248514466506,3.797790539344688,1.2060248429631102,6.522145637236018,6.809986181692973,6.135193096724797,8.00816892704352,9.994561634326885,1.756886063551119,11.085006742122744,17.857583737245683,7.268453314767996,12.457832935433869,10.741055023381326,6.672152617803198,10.305642511666097,13.258938677702648,2.0067438435085485,11.2396946834466,11.211582356466781,9.051918902816707,9.727164250098962,-2.9552436185344075,-0.5440333073840007,-3.711545109809968,0.6650697150976285,-2.225389354389877,-2.5337663533403947,0.9822260395527072,-4.111304276573371,-4.9914381168858535,0.030337048106594128,-7.404421597954501,-2.301944398889296,-5.5026753060866005,-1.4443752843953614,-0.5207480217607087,-2.1368296922785883,4.600945459216415,1.1807590311497755,-6.298399070775072,4.315843034048157,-3.037675209828065,0.13950304320019147,-9.761891677587585,0.7498664752262698,4.458702943494531,5.314844524981723,8.660271825450485,2.172058423213613,-0.2444674947837689,0.1977600005963342,6.089317161503905,12.254406291287538,3.4107002056160765,2.3701829565301726,2.2324816793320927,7.782535610685026,2.783568142768829],\"yaxis\":\"y\",\"type\":\"scattergl\"},{\"hovertemplate\":\"color=3<br>x=%{x}<br>y=%{y}<extra></extra>\",\"legendgroup\":\"3\",\"marker\":{\"color\":\"#FFA15A\",\"symbol\":\"circle\",\"size\":12},\"mode\":\"markers\",\"name\":\"3\",\"showlegend\":true,\"x\":[-14.087091888585718,-5.2551370773524475,-5.48019999489859,-13.771361733301946,-14.534225961113282,-13.630450296117003,-13.375012930304031,-20.743857680629283,-18.424397914274063,-16.437776549201686,-11.928591384119548,-16.191293002726834,-15.354969143126473,-18.297924497045877,-18.429517436704373,-16.198655216910975,-14.511933613814177,-16.935095769187033,-10.30124400886808,-14.937836430668563,-14.048472280221612,-13.94189289273117,-8.97137638153221,-4.061179193529639,-11.580751071689258,-6.672941121645015,-23.422104921752602,-17.348920460336316,-7.040395759066852,-8.5461886117616,-15.14265754566296,-16.038913700731406,-8.132996178450009,-4.804952875523234,-10.211679253213667,-7.034025821129018,-13.463384224243434,-6.873212007323996,-4.929904114139187,0.1367984931960642,-19.393360992255154,-13.670277050201207,5.089405778719634,-14.629182980960293,-10.659158063868368,-15.222861458767815,-12.271896868201926,-13.239893394345001,-4.829474054191919,-20.694896391895334,-5.49421070591224,-7.016315640207669,-11.389709569759487,-13.914962976208386,-12.832922703224375,-21.10355553882887,-5.327304793984381,-11.949685973989665,-11.805014174089484,-2.2974689687940764,-6.596952248164365,-1.4785850555828883,-11.077239834650852,-12.838805997621893,-5.925325618270185,-14.73475983544434,-7.940906452684421,-13.994176207146463,-7.950998923724086,-19.229037878754163,-9.996502179036066,-8.672602059494205,-12.070666312881642,-13.645550006135329,-13.674443552641423,-11.298543117194766,-11.530668094388703,-19.445884445138958,-8.376869649234312,-13.309554812557927,-15.099266510440959,-10.96209279465271,-11.770810343340722,-13.998568763154687,-19.138395352210026,-7.968518800110113,-14.220945144294273,-9.376845241503915,-8.24564233141939,-10.220622088306566,-11.476502292002369,-9.192674110021525,-20.81630511382376,-12.21699355510415,-18.438690100757753,-13.786655813417958,-5.899136604282162,-3.2391503944868845,-3.684887982232164,-9.733885698684084,-3.3919584142565817,-2.6797601811765337,-0.9986131234035012,-19.501841189992582,-8.890808430020096,-11.335957030756902,-16.51393784755467,-11.048380064170018,-5.758094489090846,-17.702799481988592,-5.5600215321541375,0.9756555579466113,-16.603948002153484,-12.514982600332647,-12.60690111613105,-16.926071900072337,-14.796541748088467,0.15382328219767896,-11.46872200929312,-20.861117882689904,-8.95398506754968,-19.545707251873658,-13.14161183454421,-9.526223574865323,-20.1059468391054,-13.170185231314441,-7.196987756905896,-21.80270120396795,-24.947297852623404,-15.065680876751754,-13.830512322164866,-15.870824421882155,-17.73454688784342,-11.398781822283235,-21.220126840128337,-6.497905522173663,-14.666633786466637,-11.536338164002107,-18.313229999787644,-14.359212208416327,-21.044801179346514,-14.880144829112211,-8.74357645253357,-13.749686253687376,-6.427620429044858,-22.686827562522467,-13.786052953391934,-7.8130656545347685,-12.592226163658331,-17.648552212715146,-16.833702692948883,-10.83475006609692,-9.106998859380385,-21.184997256250096,-11.75829033354463,-10.903058852987341,-8.30729529371638,-12.299080578598307,-7.922649824742825,-13.058307347247101,-4.5170845252195475,-8.55644756196928,-9.666005865695437,-10.212186085385845,-7.745802245008925,-19.522808068767226,-17.126215943393785,-2.289086677782198,-17.40139937163824,-12.037017989319537,-14.579202982699263,-17.06733550513364,-6.536483353538473,-18.01280859309067,-16.433541870974075,-17.983537551477493,-17.21948535595746,-14.434576309591655,-19.44367294216665,-22.31821507259158,-18.63205194260271,-23.353096350640737,-12.10821078950902,-9.572073858985545,-20.58835921700057,-21.333453828655845,-20.158716808746913,-19.347273094247996,-14.121400105468352,-11.74134023099632,-14.779918185052521,-19.400448417397417,-19.654678922331946,-18.101832465820564,-13.681920759368566,-1.0244757162142408,-18.877436195366634,-10.094250838924044,-12.493532020868232,-21.454092488492616,-13.056544844134743,-7.995307644130611,-22.955503227145496,-8.580344864540928,-8.44855961509786,-22.167315630052986,-24.54419497364344,-13.938951260669755,-13.897481114714417,-8.06893836710286,-20.602818416469482,-4.080116967197458,-22.37900971237347,-7.086085185614982,-16.684098070576162,-21.727972031396078,-6.401795010571447,-24.928314144436005,-7.091918075821825,-19.08184470858489,-5.714444858046168,-14.622673998182925,-24.311253808370857,-14.860483936897113,-0.8022412238962824,-22.85510537774884,1.3408693780344945,-20.10407821229168,-0.23831903357197762,-18.147928066427696,-22.15516055191386,-19.49636658012756,-16.795582800155163,-16.528848583308086,-21.674655442258135,0.43790275920484917,-23.124088859808463,-0.02775712275138319,-18.072518649554787,-20.0055095923334,6.717145302754456,-19.148645380504902,-8.393398259314914,-19.232585421703508,1.5771040165111,-16.654892677870023,-3.9724525895867058,-14.606625870231904,-4.8720963509418596,-0.34439669580751237],\"xaxis\":\"x\",\"y\":[7.914445107659757,1.1833614094442548,8.076337560017992,8.846401614037372,9.43262198945482,7.37062125253947,9.993780208741336,12.822919996358673,11.801829002460314,11.554030808354247,11.517817120644319,-0.519794300353244,13.881217058134999,14.03416296165752,11.876405909243747,11.615040896726851,12.323858305796602,12.657660176022418,10.452405453181173,5.3364245042587015,5.211261194775177,9.539752267231572,12.688581574792154,8.399258821928282,11.226681839071084,1.7017143751724717,8.731551041723156,10.648120657742432,12.80060354483309,14.437865230956312,6.686856548467165,13.8699633868316,4.391081150832965,4.520721848898079,11.64338445546164,1.1465420487532076,11.424524696678986,8.282630104905195,1.7271310941599598,-1.0727242369414214,9.699601924630567,11.026437732483618,6.8734331758376195,11.355883184652422,10.801323801783438,1.133806313829449,5.254421693857843,10.225303051954919,1.5331157119524386,11.77169345498226,-1.8603139835183358,2.6232179112782736,9.719237606643048,9.679981452660716,9.177277714508147,10.883846846629242,6.144273140657042,7.037402373328472,8.904759145170528,9.164696083625508,10.800529784634733,8.146620709479919,13.289056891714258,9.45626354116796,8.747877993724346,12.654193415645356,-2.2537097277324882,13.45580542877014,9.951138454663313,6.43202128775942,14.464174641508164,14.061204773657549,2.2800238510761224,10.911880377270915,9.329887810303441,14.407368004598014,11.774178170176045,12.570314723611386,6.198561779578749,12.15565785025785,7.956510334181499,7.777282474646232,6.719925012427194,13.979493801392024,10.210062789156037,13.547155461923541,5.802124933334917,1.21705407684587,4.5150997129447665,14.702934527671813,17.152975525576174,11.313128197259138,12.347140964862215,13.227072445834256,16.36479214102772,11.448620840132001,1.219355370495761,3.486243707877015,0.1003620485493007,-3.091241521196561,1.7823369355522303,4.838232093247007,4.703838877114262,13.92147282187202,14.895741317242477,13.611445636590643,15.51578881973372,9.119143686208847,1.4352404362840272,14.583541091191561,3.310408022882419,5.016532249651138,16.67145038302997,11.082962659186803,8.238083927760533,12.731662856686599,13.823037446804998,7.706165146487034,16.041765970076185,12.020259442330367,5.0072138260008066,10.886696389041088,13.577643158980981,0.875960323702305,13.92813399312205,13.605816697467567,3.904237231073414,8.929601887121668,13.182687217566814,16.84625026197983,12.69372736397873,14.986516521695812,14.970397274825778,5.161197632725019,14.26081608156923,-1.722833994096274,17.8495176812821,3.837095358442588,10.680459884200152,11.306684250461249,10.018587191936371,14.459631043714943,6.15234432220487,14.181317882397831,4.911525547054341,14.439858581983618,16.485202572856423,7.408441747737762,18.629289598580332,16.2039429269641,12.766780629785972,7.099145287067344,0.9737908435087367,10.509441338514831,4.732810260462957,7.629530993693323,0.7093650766382251,7.380618144946082,-0.14246151138775567,6.921214551432275,-0.5764568349198036,4.910529390769341,10.366231258096377,-2.419573317148726,4.82981615882453,9.336890844207783,0.7098633980792919,2.4179953246614208,-1.215716852432856,2.341947845732355,16.415307539363685,10.177151619065297,12.620589805610994,13.724352368099652,12.220062056198923,11.478028070570911,11.303359701816113,8.558901797545843,11.245688300652134,10.985210116222772,7.688315667303496,13.525168659194714,8.859183631060446,16.109874001265318,13.89609860991117,11.624892362685873,13.425156082979221,13.021541677435911,11.246913616412147,11.05618295324897,10.936879055077675,13.316183773885756,13.870225928307736,10.849683294986482,5.591547991725079,13.604120457449795,7.513941080216948,10.805094443836072,4.092311894119014,10.385219914437123,12.898032143663096,-0.22706453596276532,10.750365634108265,15.238553433631616,0.6648533860418385,10.81134874785718,13.509774173325258,13.52816859495141,11.854558058590321,12.226400077297454,11.816106415529424,4.617407032118521,13.23584438885544,2.5751794278556592,14.038183763424202,13.248458584354431,11.722118546275462,11.082164579962674,0.1695991283695293,13.21539042907697,-0.9391917723760391,10.854133021905806,10.633807575757555,12.205946247396758,2.1361600542626236,13.27500256346634,-1.4568985119931908,9.392453075015963,-3.711894800612362,12.076997033281263,12.470582346975325,12.570273165710818,12.31752592216165,11.985909260520513,7.92348020152016,5.283825960084116,12.816620317699131,7.8355251272122075,15.331563096080941,10.245273760258177,12.074892169058721,12.687315005653987,12.767491420434279,5.1314068065235565,11.487577557092715,7.941857907273354,14.027012984659375,13.344119740327741,12.423961904365573,6.365541283771259],\"yaxis\":\"y\",\"type\":\"scattergl\"},{\"hovertemplate\":\"color=9<br>x=%{x}<br>y=%{y}<extra></extra>\",\"legendgroup\":\"9\",\"marker\":{\"color\":\"#19d3f3\",\"symbol\":\"circle\",\"size\":12},\"mode\":\"markers\",\"name\":\"9\",\"showlegend\":true,\"x\":[21.363413395083505,17.166679827777102,21.334220849086634,18.006554738683665,22.426661807755387,21.391646072953357,21.364602480119363,14.768490717913139,21.69610914825146,22.068802168591784,24.502373781920085,18.068344083262986,14.555743422704428,18.005021867212974,20.024519301460234,18.19738204362124,15.698003585065468,23.703126728667577,18.444516416688668,18.897532241846243,17.329364309217635,19.47236252203939,17.478343251681704,9.93060914373985,14.565757771134397,18.382029898239175,14.974744226388848,17.759394478744472,5.496338122545779,14.124561654005069,14.665723379076912,19.17948810528725,20.556021508674434,13.95690423650603,17.34616936737492,17.11107565761499,14.958507632224352,20.823943682946812,14.064812841533344,16.155834267348915,10.030238517129478,11.158539193750569,19.396277302734916,16.821679646328512,17.595214704491667,21.069030952950037,13.58523171835741,12.78167399002842,20.86314248655721,13.997307275486222,12.621626421392154,13.09638534679284,14.077509452567698,11.960666600924878,3.217884470241193,12.961410357197089,12.77294052876025,18.35968318940109,12.48002587995429,12.102826758419747,14.414349098224033,17.712349356917485,16.353840514361714,17.49266649402923,14.496015397108716,16.789286058302935,19.30236761723381,17.318188200918467,20.26992723501674,11.855730214251713,15.433589368856337,17.53595438198439,15.198607241062101,17.94594069393038,19.9371389829362,15.201574556607875,23.094552364607097,18.234048727622646,9.084625353407663,4.304378797785813,14.56960393069223,11.166997567270055,20.479035391913392,19.680269601027028,13.873013152999587,11.250621185417174,19.00207516220814,11.082454636103371,13.278583115423732,18.839077416118627,17.413240846266298,12.529067333393856,15.769602757093375,10.329908278755138,15.311993326434521,9.667837263297422,17.429586511635673,14.007427228751308,13.241278057116794,10.636214960994963,19.927231943108147,16.558491971657986,15.676733603061514,15.906459945972173,12.785949512218036,11.121712869820769,17.204062086005543,18.88879103908371,16.59247633749471,15.344988761400533,17.28236834973297,19.793230893050392,23.701623755013237,17.74659615322161,13.62654076777852,19.404812281980274,15.092808879562298,5.380524639253234,17.912537163734378,17.809040395704386,17.49824280877266,13.793386851339609,15.59647578228198,19.01545261998302,19.401876939322285,13.50791673194302,15.258918030416755,17.175310375419443,15.397616433758344,16.51751645400216,9.361815528379648,10.840986835285975,10.994862688176976,11.98511740457336,16.8473145998374,13.097735433366983,13.694101716328097,14.906173934420027,8.886699122890766,13.84493495737953,16.696929895196245,11.775337492225875,11.42925535139392,10.42008857640455,11.702689657603766,9.7886478766956,11.26375337115642,13.175929197169221,10.537966596325553,16.242446458950667,10.622570907105173,17.125947082137493,14.460521792799703,14.132725866195598,14.665262816953822,17.030615560263694,18.412288388478743,15.29774296239487,19.12502922077992,17.23912678926693,15.882125948926475,21.318112006318703,21.934613007521563,17.30420626423832,15.60781108168672,14.401154489098806,19.187865059850967,17.867312982176912,21.155071749935033,20.420800285977336,15.968988379447385,21.56829991009553,16.05834808395365,19.620839037301362,20.8085521844523,17.608160171426793,13.135689308793847,22.851719297223532,24.113808455868583,17.548818916748935,24.435182137054337,15.89146039338042],\"xaxis\":\"x\",\"y\":[5.288341915083829,-2.3892008936449054,8.105436371320657,3.4746858771437217,10.557026238720756,11.17655622085481,8.2882537794101,17.14187105808284,7.175539673223643,2.2351750515482576,1.2684679379730315,-1.4116452746293053,17.14946584838771,10.40258245161698,6.832915013954249,15.433826511682604,13.265295045553236,5.465915222203912,13.382766533258199,16.661197234483936,15.881807805333274,2.2586902119281618,13.751649545494109,21.577954142905533,15.624674167274751,15.156442424174601,15.318919990310505,10.05390417655063,13.61866418442748,16.926245000486126,14.973886054167828,11.189228977237525,5.268877334084916,16.807829198706116,11.24405309883322,17.604542702492008,15.66100788937269,10.946619765571254,8.069072975584406,10.169815738972135,11.123876196237573,7.333527970220892,12.775867348379988,8.03988189899734,11.914185118035142,9.396823230649975,10.931203262135936,13.257777730262445,11.227859792389864,12.264685649099517,14.614156090781439,17.262091537318646,11.727289961752692,-2.816133935038558,0.23373818695150547,8.21819290277746,15.168503042666895,12.39885438632646,16.084387662365053,-1.1026440715081767,12.416708873504735,6.109967910313263,14.4086041335036,12.609144410708392,13.931485837166402,12.707908587622184,13.877982280815582,13.77399260106811,18.192898610493803,18.1152003336838,14.76903863459397,8.709103833004814,15.790975632999432,15.647918775513235,8.786834362697144,16.863939364824862,10.52518653883234,8.139365277341039,21.0210381225045,0.9682187254971376,11.39046809634606,18.489987054595566,6.267160944977191,12.763798078779212,15.07415690942571,17.273329414350393,18.3956465238814,17.440842828880555,17.026450360622032,2.3650347372661655,16.203214179643787,17.74788374395449,17.164644897861226,15.977342329851794,16.458774859323487,17.1202336087915,16.011504081956424,15.703892966907311,15.124189563139613,16.596472963790266,8.22209714117996,11.851755710273624,16.12455657133342,16.54509112412893,16.63534515880763,19.379991119800483,12.42765095941054,6.023160591546638,7.092884564603967,12.43723032162854,8.042619778351584,11.135604071992423,7.619507633670234,12.007545446339481,12.120112767821853,7.992704968873656,15.890985771512442,19.602538769427003,13.464706244404663,12.420588341803226,12.578732746309138,14.098319394227703,11.469195694184577,12.040531194175282,10.940345866543588,12.774966811226646,11.097502648132023,9.556568996310139,13.865282912691878,11.597983779375834,0.9045194204351322,2.773233311768922,8.737049971722856,8.990062076268538,11.890341568025343,11.172213871878453,11.254732759857756,11.224313911321302,7.565011545774395,4.308732201072876,4.731177611679906,1.810435626911537,7.656488639731919,14.491704430143402,18.5694421430687,19.850937846244822,19.74791580926991,15.770323686128274,24.77634005310696,16.114996692074484,20.209828416315563,15.543505157584374,20.703912682642265,17.975643790589245,18.65544413654006,17.167207397006898,13.480834958857942,4.4070210395731895,-4.636201704077303,7.276145541181153,2.382970414792542,6.956041072881377,1.4990386333120005,6.916311066326122,6.381939164030239,1.8583160801146263,6.843361680637906,-1.8331290453262299,-1.8241897835554608,11.349758663640836,15.208592793655413,12.571208908807005,16.048719617909025,13.14297596636707,7.681942695185251,11.895754737428106,21.842965885423975,10.054292648106026,6.089262204137619,14.478923924160075,0.5794507867595716,17.010222229679623],\"yaxis\":\"y\",\"type\":\"scattergl\"},{\"hovertemplate\":\"color=4<br>x=%{x}<br>y=%{y}<extra></extra>\",\"legendgroup\":\"4\",\"marker\":{\"color\":\"#FF6692\",\"symbol\":\"circle\",\"size\":12},\"mode\":\"markers\",\"name\":\"4\",\"showlegend\":true,\"x\":[-2.9526083710104807,5.616056225173419,4.775858295645386,5.663817228531369,-3.5640944456544412,6.897610601348344,10.71040959466376,4.770008481595991,1.337289515850654,6.524919449980575,-0.1572230553237179,-14.336283212107677,3.681962077106772,2.369744857997108,0.29033402767799327,1.0696369187602377,4.874819381807905,3.8598274370590837,0.12649964898905441,-2.228876824499845,0.7731906312672605,8.919395600501664,1.1310890446398174,5.716246358519341,-1.646813386858172,-13.524029607469407,-0.20447344715440946,5.522113470441163,-5.703656639358956,1.069177404110391,-4.307729180696058,7.5019700841904715,-4.225831638489724,1.3544129077435227,-5.252824326523674,1.8903533331667055,-3.2273105843560796,-6.91890960847653,2.6392855574540595,0.9626786517519051,-7.23481114885522,-1.9752168078575953,-7.889902906454966,4.368943319250983,0.14635771888874494,5.177524678920745,-0.09831237065826036,2.5547412980954296,3.3755230304941253,6.249952458519235,7.19832379088865,-4.353583364416379,2.530680605824417,6.175888457195887,8.83652564255166,-5.2818819247295306,-1.547140280474774,4.825388957684253,2.8729508751427595,-1.3899139371047597,-5.834969094567446,11.841124681059396,-7.220506427783863,-2.4598846122235405,3.7739523956602543,-4.313766772329377,-5.743997828134905,-1.3908996251325623,-5.48263742472715,-2.0924852422431997,2.68315899712587,-4.63389502752604,-2.963495686089598,-6.376990852152554,12.409846122369617,-1.5776058050173958,2.1292725917105764,4.019839209800471,14.607367453942137,7.9768252920497575,4.126533616136946,0.5618637743823104,3.782673666514012,9.777777080763125,7.723760658996476,7.758853336809154,5.711421805773561,15.996893075735988,12.698182059358748,-2.38747576922545,13.811291272021707,-2.342497323165501,-2.887577661723075,-6.827536432761137,-8.15381055349162,-3.1387991095959333,2.8046086518637092,-7.399614778059284,-5.245860217809175,-11.793585574670276,0.798826777883222,-1.1998029283870992,-0.007869911352449197,-2.3131793062927084,-7.3917346317465835,-7.840265927963113,5.179896844154118,-3.1094250855334304,0.3366930212172881,3.5243575509135843,2.806762303392778,2.4103137614822683,0.5602817092732986,-2.564356172493909,5.356469463410456,3.2603614083636625,-1.4534769748146124,1.292669428528899,-5.360002456590261,1.5303700887442417,-0.03665062026916475,-1.261119432355299,-4.963277678416207,-3.0282794205876,-5.550643703384527,-3.807221126897937,5.105788941801637,-4.513102468983493,2.296079772501171,-3.195126219963672,1.4572894793587396,-7.740578156490575,-2.181316715528459,-7.420798410653726,-7.031386440754467,-1.407845210204191,-0.5697634399062751,-5.910490067645503,-6.025206803681282,-11.487966054024671,-1.757486258713066,-2.293669685601173,-4.322447941859338,-7.951650692741219,-2.6645730411928708,-2.2403166634041374,-8.872217085454743,-0.7588557423366578,-7.518987857485527,-4.616025597702496,-8.852994299045768,-12.692050496808978,-9.116976899537045,-12.694691663266019,-10.049213404185426,-6.327339345122085,-8.377333629268755,-1.4836727949671589,0.02742585925702751,-2.7798565479211397,0.6803955741763601,-6.6578288436349675,5.863024069471079,1.686866411855568,2.472429266977278,-3.0298827512157374,5.507646741299981,6.305116363429408,-0.8655745226220423,-4.611774532589883,-1.5016883637150646,-2.353472896367718,1.7155057237529665,-0.41410494492705996,2.415577139962288,-3.4225203316744057,2.9345849844405034,-8.076772106271797,0.1764051289447436,-3.2346104502011834,-13.513264026208846,-7.090059084036517,-7.522380457582129,0.01493022909565599,1.5448646859386261,0.39811008493777333,-9.182533084934343,8.591497241749263,4.51288647268393,-2.2148985373497054,-7.7659527731161395,9.607121700450124,-3.035670646460328,8.700770384797153,-0.022916857386217484,4.665301823208042,3.757804921859638,-3.792884455244051,4.502784075949696,4.254969359057275,11.014499027008402,12.66801922085977,-0.6329826773442216,-3.12305466574022,3.3489946098862897,3.8867359897610863],\"xaxis\":\"x\",\"y\":[-21.07166579925004,-12.926349236414135,-5.181382685573742,-10.368666460665109,-18.92042759644003,-13.321288489822264,-9.208359991375868,-11.743502749515736,-19.623343012926814,-3.7144111631239776,-17.464983646788795,-23.071797360989184,-11.339703837127102,-17.657903461149157,-15.946152389549674,-17.975348785947975,-20.39925778870222,-19.633985516158166,-20.005058462015207,-19.540610385097605,-22.194292130807337,-21.0800838383874,-23.618713379891357,-19.76462354133078,-21.757256118259786,-9.031740696440172,-20.8790150058241,-20.46993910041173,-22.35311296283374,-17.769295339084557,-17.065973897874382,-14.391058206993769,-17.726467533942373,-13.72056087972639,-19.552120210857385,-16.65146461824908,-11.346011009846606,-13.629201513524109,-14.252636131551228,-14.20365552139085,-6.070593912646037,-17.410009543725987,-13.308672578979465,-17.017376139211652,-15.997472563133458,-11.913574291496248,-8.264485671078816,-8.562390886553583,-5.4698489115313675,-4.700435213568859,-1.915522638231498,-16.59850457179985,-7.108182325812047,-0.641441602353708,0.6879763787428478,-14.130128267980236,-2.2869419373681246,-6.231766335864986,-2.3173583548335475,-11.221821096447533,-18.471899991939424,-7.642671685232663,-22.22950693482906,-16.00114768603521,-16.61109024530058,-20.186234283679045,-16.638520590405967,-19.313627991938215,-20.931109459972472,-20.9001026035242,-19.362921160308122,-20.408687341328477,-17.468219087313045,-22.217085851206278,-6.248291150352384,-17.667414561971604,-18.913569012130925,-12.867685304978066,-7.2261032631769995,-8.368964564602972,-16.212831968078632,-17.039991377191466,-13.53941792323049,-9.908228632766031,-14.598646421127434,-11.811881230535862,-12.492233169698647,-9.867459094630009,-8.231950574102328,-19.877695251564077,-11.331201048849218,-16.21385203195719,-21.2990397675336,-22.78197090919685,-18.074428444244326,-17.06025638568753,-16.460698549499494,-20.60731836685054,-18.700580843997965,-12.313807060941468,-17.359177771899454,-21.257691072235616,-18.591929693266753,-19.237698824271494,-6.963338803954573,-20.161967782444677,-8.546860067551602,-13.92538421119475,-13.093907064837053,-14.776207120113979,-12.750400718845793,-12.66706687482919,-14.026635927600328,-17.736462741668696,-14.121171435427737,-12.337386224567268,-14.99038778435756,-14.23901638564677,-18.292163366855238,-3.916491626842418,-15.99844026917401,-14.464141788859108,-15.269605054786375,-14.764684762066501,-15.17689178334235,-19.754619619667096,-7.814786176589867,-15.94255332414062,-15.305822484284146,-13.07916451973855,-15.787052580277994,-19.549722474857564,-14.924974321443232,-18.12052706100292,-18.983463456549995,-17.032412715321115,-15.907761619411334,-16.713080822750744,-20.007577114587104,-26.054641679900776,-20.585780558654147,-13.506462073792637,-19.020568055227677,-17.07106411616479,-16.996973168893966,-18.72268511590496,-17.090587656041034,-18.782268854432257,-21.254685588185794,-18.496821589655386,-17.23289092849288,-18.401101221995997,-13.02017129823158,-16.0179618836624,-19.162308418368745,-19.130600915974096,-20.506464301592686,-18.481703610210847,-15.413951782273157,-17.484621942538023,-15.003674939582629,-18.24170111956461,-10.893128736666615,-10.39024817263601,-12.897157449129717,-14.836633961252323,-9.544072030821237,-11.25135041200501,-16.78596040742369,-11.18843253063594,-13.593793411671358,-11.73406565589944,-8.332545305758362,-13.05420430184303,-10.427793761778728,-8.750681293941472,-7.6332118770911395,-21.424537167096712,-17.89491994919634,-14.72134497458069,-27.494442088716227,-16.889068519725647,-20.733713716178876,-17.884469934163175,-14.144624428586106,-13.463723210330112,-15.876170841304397,-18.30016015528244,-19.188301828300375,-13.303964478881861,-13.97530696431897,-11.485154756033266,-21.76839229315132,-13.27342263706307,-23.097484830422236,-14.435915785589486,-15.89912651278317,-21.451692622836156,-18.10334263816301,-17.29342445178594,-15.77493074945251,-18.97902055105137,-20.799118286530597,-23.706705042537525,-19.373973338671934,-18.74727061299836],\"yaxis\":\"y\",\"type\":\"scattergl\"},{\"hovertemplate\":\"color=6<br>x=%{x}<br>y=%{y}<extra></extra>\",\"legendgroup\":\"6\",\"marker\":{\"color\":\"#B6E880\",\"symbol\":\"circle\",\"size\":12},\"mode\":\"markers\",\"name\":\"6\",\"showlegend\":true,\"x\":[3.009185112458248,0.02586623974621083,17.538772993227994,2.8245270628077037,1.6440010082321022,3.253986686044993,7.9143016137745015,2.9903599311543405,6.564548734340636,0.19165838979012004,7.499052392492459,3.1351785835065242,-0.7919520161599685,-3.907046286189197,2.8017478534015994,-2.230526379970446,-2.3137853189406377,-1.9232315601029368,2.067957014235927,7.207729660815796,1.4398149198061796,1.0761589454211222,-1.6309886174105512,7.582391370237155,3.91739355213457,9.530348020882917,17.546570341605253,5.592873273794069,0.8101161882175585,2.294890088683182,-6.0628822572823715,2.507376253272772,4.5003817540633095,-1.3050756550639486,1.509993256646505,-0.4744151756426125,6.424805384120542,12.662286213679806,17.35001740729691,-0.34256748112303015,1.4090847603487784,1.3173400989479658,2.2719502055163665,14.941164567480424,2.0985818509001595,2.367784771242616,7.594371913217695,17.064871286901813,1.7399255949336239,10.31747508493438,0.9894544625261054,8.475724811313352,5.303631502779745,5.218799450909407,1.042203709784149,9.839779721419532,9.205650900512122,1.6163132124899722,8.342523062305897,8.312679837798878,-1.5949249594779458,-1.7180735179784652,13.676401626912034,5.722826515072836,6.179778591572746,-1.6853628477290974,-2.593106975577548,1.9758872038782,4.365183258264257,-4.904159896403515,-5.52975516442726,-3.1187893856300875,-5.126481935459317,-6.802494360396474,4.22312615022761,-7.62173397160485,-7.339397077342882,-7.724723697318086,-8.57363736976017,-2.9827574552844593,-7.345483369995776,-5.258596463907144,-7.611516983704613,6.592971829111485,0.5191384539018298,-8.68712939610294,-5.764377861143362,-4.110609238428456,-0.9379879172653554,14.140837957951526],\"xaxis\":\"x\",\"y\":[-11.994794515756784,-10.337026910062603,4.627740166209053,-9.286913733263194,-10.738074629037774,-9.593453178745756,-10.85570440005211,-9.240567272229402,-13.927227367521496,-15.574495998405965,-20.864214163077126,-14.100665092289175,-9.227763631289935,3.8289169034184583,-7.2662961686174175,-2.515578516091419,-3.4118342435451363,3.649014463090226,-7.392963713231888,-9.86509782585766,-5.46180351389602,-10.677787910748087,-0.23752389518533115,-10.893172340732022,-11.00864147946399,-9.762763015180878,-8.221355316005756,-11.560075724141944,-0.9831492980067461,7.588400913349202,2.426774631371123,-10.458242626844594,-8.464724022598533,-3.423279171066534,-7.78678510911923,-8.074877434809355,-12.737923833198415,-12.08315675872091,1.055879799742521,-10.613672991768153,-11.217014900260429,-5.846142961831977,-3.6367037085525022,-3.3690999221207947,-1.550679706393492,2.5427477862505197,1.6370355311535352,-3.71147403090533,7.267267700778305,3.0590032952821495,-4.460122796238517,1.287895296280965,-0.30180580833080256,-3.090903851130332,2.556643421000145,-2.772552207051306,-0.3494148752105726,3.6133433764787073,-11.087428414001407,-3.8298610752375075,-5.491398144426609,-3.53621995721094,6.693532931236237,-14.598460444513112,-10.943803584724467,1.9928654486697952,7.193737957332537,1.7092264631706535,-7.7789839720397165,-1.3854807783250513,4.688885155907262,-0.8298334472447834,10.347598373190019,10.705417602836286,5.102035376503088,10.502681069417772,10.46232728763277,14.104942491887817,-0.26027010469013223,0.17916405966114957,6.206334338779165,14.220074047225587,4.40859208631805,-4.52089728759124,3.3239513481159526,-5.336486468289813,-1.132024629457662,0.8014880016499295,-2.165407421072647,-2.8752748801176105],\"yaxis\":\"y\",\"type\":\"scattergl\"},{\"hovertemplate\":\"color=8<br>x=%{x}<br>y=%{y}<extra></extra>\",\"legendgroup\":\"8\",\"marker\":{\"color\":\"#FF97FF\",\"symbol\":\"circle\",\"size\":12},\"mode\":\"markers\",\"name\":\"8\",\"showlegend\":true,\"x\":[-2.414202658787181,-8.088841377858575,-3.7303102667826757,-2.0042163425599377,-8.442298418072088,-10.027922206546638,-12.028994786725969,-9.578708314917119,-9.727268734833055,0.23755993724980282,-3.2404477204662396,-8.980887792388193,-5.401584092498139,-5.264092972210643,1.4936824089573848,-1.3203259912444714,-4.274053320073419,-10.633237048574998,-10.763186465259855,-13.2697322078661,-12.36653594401491,-10.070187481815429,-13.282351737101452,-12.355041366059654,-15.54171104093632,-15.043257042083722,-16.02105411566333,-13.711380877916076,-11.43898908532792,-12.93768366297007,-7.643791470743497,-7.15367068634532,-6.066596514840527,-10.397310172199642,-11.645984981365027,-12.461341235660814,-0.25197720579797217,-11.763072542262687,-5.583929476171534,-9.01175875229979,-6.030819677227151,-6.508728202198555,-11.141198041194725,-0.8775266215744301,-3.1183823390758287,-0.21749769152841583,-5.143624684696773,1.617789675254084,-8.18920823682182,7.415182663427991,-10.328478081926486,-4.9881723983016215,-12.705561131876532,9.680224465919114,-6.287021476103928,-10.52842427802032,-12.95261340058568,8.263328938495777,-3.2411280912255656,4.967379015952065,8.945272095457605,0.43016257507658734,-0.20411609528353986,-7.643403154779197,-18.96831408900236,-7.412575833645817,-11.267821245360262,-10.57456210393925,-14.466208218346996,-10.968480495889423,-6.125001700060753,-9.760401796030662,-13.838813550977843,-13.31569393850528,-12.396132126859674,-11.5545493186979,-13.536325196842235,-9.86057285224181,-12.577888724806527,-0.17122106656931016,-9.38320244443745,-0.03238350082664831,-7.422843672429866,-3.7941356576007705,-3.167315863466821,2.0012797272641127,-4.094116519052524,-13.426782860854722,2.9049932868539634,-12.272591284913364,-1.8835289885768824,-7.053441059406597,7.75154022546588,-15.940641550957393,-5.195752500580735,-14.022799489582898,-13.131090978148011,-0.2927270553154517,-11.248329977907218,-5.0834447150018445,-16.3008543527941,-12.127354608165149,-2.5235955822907825,-11.967602121722846,3.7820917296074024,-1.96510760103749,-2.204310543377391,-3.9328506800802376,-0.3725162126899325,-12.201857989278984,-11.207713277899071,-13.636305758398583,-11.527635091443834,-8.67172661882288,-15.186491370286943,-15.504660014058548,-14.275645140248995,-12.999425225056541,-16.821389912102237,-15.2604246204805,-6.05035972248441,-9.124145853246802,-5.994880223570754,-12.200235443086513,-16.435856730936898,-18.046774199396268,-18.829685074533103,-15.36076667182027,-12.982531888936094,-18.876504391875667,-19.8700496094817,-17.08723608672896,-19.76484843784749,-9.15481926579868,-1.3532532785557616,-15.78714403181405,-21.90531543162358,-10.983602162013995,-8.54636779651969,-17.65123396181057,-10.270803187707056,-14.101396574235896,-14.63330991812034,-9.76940890282792,-6.508918890742809,-13.311688976716729,-15.392336934406657,-12.885133480364358,-13.467147564658083,-11.380506488257033,-11.620071236632294,-14.387799802514843,-6.515105869823607,-16.893801224366097,-18.47124446988034,-11.102538494480505,-4.943504558937374,-4.522424865193763,-16.66761742526031,-10.230713763424019,-9.15840334219242,-2.7122930704282595,-12.85170127414048,-0.9857217641451116,-7.954953036567371,-5.889375146631283,-11.204177266920254,-7.067373280301457,-4.264144486539399,-10.193368642997347,-14.558681117557335,-9.518629022654581,-10.178755148557984,-6.848574560918244,-7.866849581377085],\"xaxis\":\"x\",\"y\":[-4.851669523696747,-8.811961807659094,-2.3269309505849014,-10.532683375026377,-7.619616509151931,-11.59336025184658,-14.185888828201211,-9.773439267605692,-12.541274417768307,-4.6797274227523635,-8.8975046700585,-12.27702668263355,-12.56187677503991,-9.300095677087224,1.3954777599390153,-0.5308798209279638,-12.11779952686378,-4.2948566334855895,-6.6149777370418565,-5.221140899204329,-1.5272721875451447,-5.362955151778204,-8.861146431356545,-3.604704225297838,-7.825533870239769,-3.7416897522827726,-6.286004992558824,-5.057898669506324,-6.757290534814557,-11.098364281897528,-11.210672643205104,-1.8928074662650818,-5.919952317279437,-6.217342368277607,-8.534243026595336,-5.138003266623369,-3.3564917767555618,-1.9711787646648546,-9.900942276464113,-8.39319637958003,-2.8786699467867747,-4.130003697811214,-6.834039884754651,-5.6455074697238175,-3.8172744850926454,-4.000379036265135,-7.46399998007257,-6.44507393510979,-3.0034585409916223,-3.6351212184665207,-8.226016345249947,-5.277120228147923,-5.45795523009731,-2.9283180468515346,-5.748766930971189,-4.200097050760008,-2.8633438597946665,-5.304841373168089,-0.14993683030406912,-4.730489267368436,-1.7597497014286139,-9.296040221138657,-6.25752282385752,-8.760653075744532,-9.235867889903657,-5.1063601856305745,-5.606877991176673,-2.9335257739269394,-2.791415115190041,-8.198730889709775,-5.603859612655132,1.3671390316126715,-9.818524800951604,-7.428721708629322,-8.590935262765,-8.667831032537292,-9.744006598883402,-4.880797154890181,-11.876351944045439,5.945077274989149,-6.722177168789637,-3.031195575571141,-8.842309543660107,-3.8388232880508713,-1.9672246656912216,-3.664502867419519,-2.7638350414531727,-5.2965921108202885,-5.780296796937493,-11.283523580534402,-7.002625272119874,1.0973284137120578,-5.2363715059096,-11.07142333340175,2.492718734120953,-13.631202068706973,-5.997992050447493,-0.09592394893764934,-10.808383296409469,-3.4937300254173036,-3.589468137302215,-10.501751351501103,-2.3564934233728874,-11.248583264744287,-4.558340788490526,-5.457176917070887,-5.853026277814482,-1.4295784497463782,-0.9034716997079875,-5.974431704183606,-7.310062433175031,-11.25353883942875,-4.253656013480807,-7.679677950850721,-3.068903778902129,-7.960250378497777,-5.139820360399355,-3.6174718877523473,-7.663500653302094,-6.464766327340649,-9.69412901508364,-3.9587500666191553,-5.448798849962616,-6.6163436727074245,-12.438983975243557,-13.389499273672032,-11.241989247585373,-11.00079881086407,-7.264174794996373,-9.16645487283674,-11.63869713527837,-9.14115061743118,-7.33106850106924,-0.39824600796847004,-5.599837932001613,-6.111866804735479,-10.790398808700242,-5.381760609945354,0.14083807453484434,-7.70647628415367,-5.216617903637103,-2.606939657071349,-2.806260202544183,-4.8248999679782125,-4.701789569708538,-7.330764853341076,-12.412367518696378,-8.241871663577866,-9.544972063065448,-11.104462996711206,-10.725635051133711,-9.694117444716536,-1.1257755936895564,-11.108326288908577,-8.396554130452348,-10.61728071702334,-6.348855594827002,-6.712277663926007,-11.012844883940769,-5.025994880332772,-9.145913453198608,-6.866325191423386,-8.221018787571047,-10.680233993193404,-10.934604903757013,3.2312487130203578,-9.872400679256195,-2.6945540411872577,-2.7052944609548812,-13.090207456097033,-9.793862924171089,-8.61197870493653,-10.063055232754778,-11.773852501933298,-7.597509079339852],\"yaxis\":\"y\",\"type\":\"scattergl\"},{\"hovertemplate\":\"color=2<br>x=%{x}<br>y=%{y}<extra></extra>\",\"legendgroup\":\"2\",\"marker\":{\"color\":\"#FECB52\",\"symbol\":\"circle\",\"size\":12},\"mode\":\"markers\",\"name\":\"2\",\"showlegend\":true,\"x\":[-1.4007265300762544,6.111418557868268,-5.0202433508524384,-6.030026374227695,-3.185579310319809,3.0097173393055345,-6.150657667691731,-1.2758107768365703,-0.013971029053440017,0.8559530649374563,-3.1868614787268275,-3.319992002898129,-0.9930142492099988,-4.3451569026852885,6.280499606694031,1.5601562850513297,5.04777362894513,2.4203012322840856,-2.4800045939327755,-0.1419976806517872,2.897283393469468,-0.3027918651414514,7.69541482242366,4.45989876309203,3.1716741138074687,-7.940788906888055,-6.211506085731063,-8.892824985241333,-7.499352846433874,-7.079717134637138,5.328831550593571,-5.502900332750401,-7.86468886378244,-2.1910088869049273,-10.188694414702542,-1.5234436280250723,-0.43225415612488605,-3.4547396226871987,-1.5692274844568672,-5.785307762708548,-7.048860576600205,-5.026173642446728,0.4983737603187001,8.451990583826866,-1.9581693221165253,-11.891837411559141,-8.40659126308464,-10.616558818681945,-1.8210147790633806,4.449156261236743,2.4760051204908735,0.7786636382295389,6.300961006014612,8.41336988778917,4.421190887919574,9.724213597051381,11.512810422484051,-3.64549824324805,0.9809764268063981,7.861240795279004,3.8497261687593025,-3.8162095105975506,-1.4714153333323796,-1.3471629569906598,-7.812674573037553,8.22773813483313,-4.474595056136496,-1.296084442256172,-2.992477737381916,-3.7153725678157343,-4.2541215022974095,1.668905474153968,-9.299936350350562,-2.111225792047694,-9.445693954976702,-12.295952775334111,1.743659878846692,-4.617956512227952,-4.032785405903214,3.379482203167548,1.2611483341282088,9.148213844763447,-6.651815739228787,3.773437010307131,-11.296236982391653,2.3987398331488277,1.3887370194359723,3.3776921502195223,1.9905738075806554,9.323217427807165,-0.8220383865474313,-5.575145143192249,-3.926998743466131,-6.582564206210387,-9.23020038445772,-6.015045516014513,-4.381194498161796,-3.163225784617637,8.146363016996503,8.035545082452131,-6.228901783332046,-8.880080460558524,-3.3638118800504437,13.48267625449305,-0.5445367108254673,4.834250410440446,-3.5929155712969347,-12.5564664611376,2.0051579048287866,-4.959975799963261,1.3296922339372654,-6.084887941383652,-4.092103025711305,-0.4065348405163226,10.486450453914609,-1.9106074904629569,-11.3892567377484,-12.529107908934682,-3.8426922274979813,-5.296887362427603,-8.677345477457093,3.344930916246871,12.427996688681421,-0.017795545915133548,2.480672042038053,-3.136360612604487,0.6945439994886311,7.721420168578448,0.8967926734429053,-7.248549142705374,1.541225670724192,1.729066678545473,7.931165984293963,4.572447776486136,-0.5446107340766408,9.90539015562203,8.814115449862726,-1.7822299930441665,0.5117403274316663,-5.710909519030535,1.283320023368938,-4.734684675702699,2.9152138092715787,1.122720039697287,-2.619306047251965,2.1572756601743004,-3.688020640627196,-1.4590298384692653,-0.9160585071909066],\"xaxis\":\"x\",\"y\":[-15.861295417217718,-5.461886084753618,-3.598297633530587,-11.217758748057225,-9.590168123184673,-11.390408270968937,-5.705777454827449,0.9670627203935617,-3.9064388734613447,-7.073038562238635,-16.201469000696697,-3.6741776081676045,-13.182839591400361,-17.564697465207477,-2.2409477870794845,-15.37562414839952,-10.993848724487751,-10.290351639505781,-9.616123151229182,-12.376005158290068,-4.0255235006564565,-11.024127407104961,-8.705242487365792,-11.033206839887416,-12.790370923070364,-8.732788420835913,-17.50783535148574,1.5682778547945562,5.151314591796228,1.421013632340375,1.0857652324144091,2.7726935008637943,-1.2976700838238244,-13.93499527018364,-2.934932810644711,-8.056543297245605,-5.93612290540012,0.5000092086676923,-4.431671379378978,0.20294158910386925,-3.149502351187948,-2.0666329498444873,-9.889730857710202,-1.3860762768244927,6.277574421300242,2.321388269234959,7.443483217529372,6.567636373807752,2.554879174961679,1.6154039854397844,0.26166102035089606,-2.6846650238213625,-13.627390458538853,-8.104685725046314,-9.67788648871444,6.0010078918330265,1.8433339818451964,6.841447498781781,-11.113055944401676,-8.360544191605744,-0.17596278467136517,-19.82453131531363,-8.18344205277705,-10.507396858669606,-21.75367644093119,-12.30245086369813,-21.52125097488978,-16.419961408056807,-13.492466766154445,-17.091842744400832,-14.607069587144915,-12.001250688589549,-15.060274854880983,-12.943567336016029,3.472741050233974,3.6754412397124643,-12.013772503336106,-10.564450933968732,6.205036717211006,-4.789769696451579,-7.669236196916682,-10.919221908425929,-1.0024467052831856,0.8181314312389976,-4.463750334530984,-12.637740313691591,-2.259005267641843,11.430169785938444,-9.499186797168104,2.572458427274644,14.199049486825395,11.014824193333451,-10.723353602881243,4.872533456560068,-10.30679479873589,-17.38511302872606,-7.94196340461672,-10.301320143091221,8.696131527248706,-7.075954844367071,7.739740270561431,-16.22810803168477,-9.669916931474514,-3.436425446091975,-8.265106538873116,-1.6244837329283897,-9.024277518817838,6.134044226516937,4.557763724351627,5.0357289576953495,4.054995316127331,-4.3699744642056215,6.485573780122033,13.562412474349985,-3.5337795722663734,-7.295326575819926,-2.437322425921758,7.072676074408976,11.01713890791363,11.869747472059501,4.609373005126947,-8.724988782217254,-7.512125972242379,-11.056262036063778,-5.39162715127819,-19.945617854531204,-7.606229556257278,-10.170666138786528,-11.685156541365329,-18.936312005746966,0.45638496462404204,-12.89958330807265,-5.836163344120129,-11.492529122990597,-16.525242080199867,-6.088594461358113,-11.412755476999585,-15.46489257649032,-15.77789347006974,8.730564622235459,3.204421188748423,-4.6739623416088305,1.7049366286216638,1.2824451573458049,-2.630906666537995,4.793023118260907,5.371969286547667,-3.6916106659329015,10.028638864319714],\"yaxis\":\"y\",\"type\":\"scattergl\"}],                        {\"template\":{\"data\":{\"histogram2dcontour\":[{\"type\":\"histogram2dcontour\",\"colorbar\":{\"outlinewidth\":0,\"ticks\":\"\"},\"colorscale\":[[0.0,\"#0d0887\"],[0.1111111111111111,\"#46039f\"],[0.2222222222222222,\"#7201a8\"],[0.3333333333333333,\"#9c179e\"],[0.4444444444444444,\"#bd3786\"],[0.5555555555555556,\"#d8576b\"],[0.6666666666666666,\"#ed7953\"],[0.7777777777777778,\"#fb9f3a\"],[0.8888888888888888,\"#fdca26\"],[1.0,\"#f0f921\"]]}],\"choropleth\":[{\"type\":\"choropleth\",\"colorbar\":{\"outlinewidth\":0,\"ticks\":\"\"}}],\"histogram2d\":[{\"type\":\"histogram2d\",\"colorbar\":{\"outlinewidth\":0,\"ticks\":\"\"},\"colorscale\":[[0.0,\"#0d0887\"],[0.1111111111111111,\"#46039f\"],[0.2222222222222222,\"#7201a8\"],[0.3333333333333333,\"#9c179e\"],[0.4444444444444444,\"#bd3786\"],[0.5555555555555556,\"#d8576b\"],[0.6666666666666666,\"#ed7953\"],[0.7777777777777778,\"#fb9f3a\"],[0.8888888888888888,\"#fdca26\"],[1.0,\"#f0f921\"]]}],\"heatmap\":[{\"type\":\"heatmap\",\"colorbar\":{\"outlinewidth\":0,\"ticks\":\"\"},\"colorscale\":[[0.0,\"#0d0887\"],[0.1111111111111111,\"#46039f\"],[0.2222222222222222,\"#7201a8\"],[0.3333333333333333,\"#9c179e\"],[0.4444444444444444,\"#bd3786\"],[0.5555555555555556,\"#d8576b\"],[0.6666666666666666,\"#ed7953\"],[0.7777777777777778,\"#fb9f3a\"],[0.8888888888888888,\"#fdca26\"],[1.0,\"#f0f921\"]]}],\"heatmapgl\":[{\"type\":\"heatmapgl\",\"colorbar\":{\"outlinewidth\":0,\"ticks\":\"\"},\"colorscale\":[[0.0,\"#0d0887\"],[0.1111111111111111,\"#46039f\"],[0.2222222222222222,\"#7201a8\"],[0.3333333333333333,\"#9c179e\"],[0.4444444444444444,\"#bd3786\"],[0.5555555555555556,\"#d8576b\"],[0.6666666666666666,\"#ed7953\"],[0.7777777777777778,\"#fb9f3a\"],[0.8888888888888888,\"#fdca26\"],[1.0,\"#f0f921\"]]}],\"contourcarpet\":[{\"type\":\"contourcarpet\",\"colorbar\":{\"outlinewidth\":0,\"ticks\":\"\"}}],\"contour\":[{\"type\":\"contour\",\"colorbar\":{\"outlinewidth\":0,\"ticks\":\"\"},\"colorscale\":[[0.0,\"#0d0887\"],[0.1111111111111111,\"#46039f\"],[0.2222222222222222,\"#7201a8\"],[0.3333333333333333,\"#9c179e\"],[0.4444444444444444,\"#bd3786\"],[0.5555555555555556,\"#d8576b\"],[0.6666666666666666,\"#ed7953\"],[0.7777777777777778,\"#fb9f3a\"],[0.8888888888888888,\"#fdca26\"],[1.0,\"#f0f921\"]]}],\"surface\":[{\"type\":\"surface\",\"colorbar\":{\"outlinewidth\":0,\"ticks\":\"\"},\"colorscale\":[[0.0,\"#0d0887\"],[0.1111111111111111,\"#46039f\"],[0.2222222222222222,\"#7201a8\"],[0.3333333333333333,\"#9c179e\"],[0.4444444444444444,\"#bd3786\"],[0.5555555555555556,\"#d8576b\"],[0.6666666666666666,\"#ed7953\"],[0.7777777777777778,\"#fb9f3a\"],[0.8888888888888888,\"#fdca26\"],[1.0,\"#f0f921\"]]}],\"mesh3d\":[{\"type\":\"mesh3d\",\"colorbar\":{\"outlinewidth\":0,\"ticks\":\"\"}}],\"scatter\":[{\"fillpattern\":{\"fillmode\":\"overlay\",\"size\":10,\"solidity\":0.2},\"type\":\"scatter\"}],\"parcoords\":[{\"type\":\"parcoords\",\"line\":{\"colorbar\":{\"outlinewidth\":0,\"ticks\":\"\"}}}],\"scatterpolargl\":[{\"type\":\"scatterpolargl\",\"marker\":{\"colorbar\":{\"outlinewidth\":0,\"ticks\":\"\"}}}],\"bar\":[{\"error_x\":{\"color\":\"#2a3f5f\"},\"error_y\":{\"color\":\"#2a3f5f\"},\"marker\":{\"line\":{\"color\":\"#E5ECF6\",\"width\":0.5},\"pattern\":{\"fillmode\":\"overlay\",\"size\":10,\"solidity\":0.2}},\"type\":\"bar\"}],\"scattergeo\":[{\"type\":\"scattergeo\",\"marker\":{\"colorbar\":{\"outlinewidth\":0,\"ticks\":\"\"}}}],\"scatterpolar\":[{\"type\":\"scatterpolar\",\"marker\":{\"colorbar\":{\"outlinewidth\":0,\"ticks\":\"\"}}}],\"histogram\":[{\"marker\":{\"pattern\":{\"fillmode\":\"overlay\",\"size\":10,\"solidity\":0.2}},\"type\":\"histogram\"}],\"scattergl\":[{\"type\":\"scattergl\",\"marker\":{\"colorbar\":{\"outlinewidth\":0,\"ticks\":\"\"}}}],\"scatter3d\":[{\"type\":\"scatter3d\",\"line\":{\"colorbar\":{\"outlinewidth\":0,\"ticks\":\"\"}},\"marker\":{\"colorbar\":{\"outlinewidth\":0,\"ticks\":\"\"}}}],\"scattermapbox\":[{\"type\":\"scattermapbox\",\"marker\":{\"colorbar\":{\"outlinewidth\":0,\"ticks\":\"\"}}}],\"scatterternary\":[{\"type\":\"scatterternary\",\"marker\":{\"colorbar\":{\"outlinewidth\":0,\"ticks\":\"\"}}}],\"scattercarpet\":[{\"type\":\"scattercarpet\",\"marker\":{\"colorbar\":{\"outlinewidth\":0,\"ticks\":\"\"}}}],\"carpet\":[{\"aaxis\":{\"endlinecolor\":\"#2a3f5f\",\"gridcolor\":\"white\",\"linecolor\":\"white\",\"minorgridcolor\":\"white\",\"startlinecolor\":\"#2a3f5f\"},\"baxis\":{\"endlinecolor\":\"#2a3f5f\",\"gridcolor\":\"white\",\"linecolor\":\"white\",\"minorgridcolor\":\"white\",\"startlinecolor\":\"#2a3f5f\"},\"type\":\"carpet\"}],\"table\":[{\"cells\":{\"fill\":{\"color\":\"#EBF0F8\"},\"line\":{\"color\":\"white\"}},\"header\":{\"fill\":{\"color\":\"#C8D4E3\"},\"line\":{\"color\":\"white\"}},\"type\":\"table\"}],\"barpolar\":[{\"marker\":{\"line\":{\"color\":\"#E5ECF6\",\"width\":0.5},\"pattern\":{\"fillmode\":\"overlay\",\"size\":10,\"solidity\":0.2}},\"type\":\"barpolar\"}],\"pie\":[{\"automargin\":true,\"type\":\"pie\"}]},\"layout\":{\"autotypenumbers\":\"strict\",\"colorway\":[\"#636efa\",\"#EF553B\",\"#00cc96\",\"#ab63fa\",\"#FFA15A\",\"#19d3f3\",\"#FF6692\",\"#B6E880\",\"#FF97FF\",\"#FECB52\"],\"font\":{\"color\":\"#2a3f5f\"},\"hovermode\":\"closest\",\"hoverlabel\":{\"align\":\"left\"},\"paper_bgcolor\":\"white\",\"plot_bgcolor\":\"#E5ECF6\",\"polar\":{\"bgcolor\":\"#E5ECF6\",\"angularaxis\":{\"gridcolor\":\"white\",\"linecolor\":\"white\",\"ticks\":\"\"},\"radialaxis\":{\"gridcolor\":\"white\",\"linecolor\":\"white\",\"ticks\":\"\"}},\"ternary\":{\"bgcolor\":\"#E5ECF6\",\"aaxis\":{\"gridcolor\":\"white\",\"linecolor\":\"white\",\"ticks\":\"\"},\"baxis\":{\"gridcolor\":\"white\",\"linecolor\":\"white\",\"ticks\":\"\"},\"caxis\":{\"gridcolor\":\"white\",\"linecolor\":\"white\",\"ticks\":\"\"}},\"coloraxis\":{\"colorbar\":{\"outlinewidth\":0,\"ticks\":\"\"}},\"colorscale\":{\"sequential\":[[0.0,\"#0d0887\"],[0.1111111111111111,\"#46039f\"],[0.2222222222222222,\"#7201a8\"],[0.3333333333333333,\"#9c179e\"],[0.4444444444444444,\"#bd3786\"],[0.5555555555555556,\"#d8576b\"],[0.6666666666666666,\"#ed7953\"],[0.7777777777777778,\"#fb9f3a\"],[0.8888888888888888,\"#fdca26\"],[1.0,\"#f0f921\"]],\"sequentialminus\":[[0.0,\"#0d0887\"],[0.1111111111111111,\"#46039f\"],[0.2222222222222222,\"#7201a8\"],[0.3333333333333333,\"#9c179e\"],[0.4444444444444444,\"#bd3786\"],[0.5555555555555556,\"#d8576b\"],[0.6666666666666666,\"#ed7953\"],[0.7777777777777778,\"#fb9f3a\"],[0.8888888888888888,\"#fdca26\"],[1.0,\"#f0f921\"]],\"diverging\":[[0,\"#8e0152\"],[0.1,\"#c51b7d\"],[0.2,\"#de77ae\"],[0.3,\"#f1b6da\"],[0.4,\"#fde0ef\"],[0.5,\"#f7f7f7\"],[0.6,\"#e6f5d0\"],[0.7,\"#b8e186\"],[0.8,\"#7fbc41\"],[0.9,\"#4d9221\"],[1,\"#276419\"]]},\"xaxis\":{\"gridcolor\":\"white\",\"linecolor\":\"white\",\"ticks\":\"\",\"title\":{\"standoff\":15},\"zerolinecolor\":\"white\",\"automargin\":true,\"zerolinewidth\":2},\"yaxis\":{\"gridcolor\":\"white\",\"linecolor\":\"white\",\"ticks\":\"\",\"title\":{\"standoff\":15},\"zerolinecolor\":\"white\",\"automargin\":true,\"zerolinewidth\":2},\"scene\":{\"xaxis\":{\"backgroundcolor\":\"#E5ECF6\",\"gridcolor\":\"white\",\"linecolor\":\"white\",\"showbackground\":true,\"ticks\":\"\",\"zerolinecolor\":\"white\",\"gridwidth\":2},\"yaxis\":{\"backgroundcolor\":\"#E5ECF6\",\"gridcolor\":\"white\",\"linecolor\":\"white\",\"showbackground\":true,\"ticks\":\"\",\"zerolinecolor\":\"white\",\"gridwidth\":2},\"zaxis\":{\"backgroundcolor\":\"#E5ECF6\",\"gridcolor\":\"white\",\"linecolor\":\"white\",\"showbackground\":true,\"ticks\":\"\",\"zerolinecolor\":\"white\",\"gridwidth\":2}},\"shapedefaults\":{\"line\":{\"color\":\"#2a3f5f\"}},\"annotationdefaults\":{\"arrowcolor\":\"#2a3f5f\",\"arrowhead\":0,\"arrowwidth\":1},\"geo\":{\"bgcolor\":\"white\",\"landcolor\":\"#E5ECF6\",\"subunitcolor\":\"white\",\"showland\":true,\"showlakes\":true,\"lakecolor\":\"white\"},\"title\":{\"x\":0.05},\"mapbox\":{\"style\":\"light\"}}},\"xaxis\":{\"anchor\":\"y\",\"domain\":[0.0,1.0],\"title\":{\"text\":\"x\"}},\"yaxis\":{\"anchor\":\"x\",\"domain\":[0.0,1.0],\"title\":{\"text\":\"y\"}},\"legend\":{\"title\":{\"text\":\"color\"},\"tracegroupgap\":0},\"margin\":{\"t\":60},\"height\":600,\"width\":800},                        {\"responsive\": true}                    ).then(function(){\n",
       "                            \n",
       "var gd = document.getElementById('1a25f725-1886-48ab-b3f1-04009dc1996e');\n",
       "var x = new MutationObserver(function (mutations, observer) {{\n",
       "        var display = window.getComputedStyle(gd).display;\n",
       "        if (!display || display === 'none') {{\n",
       "            console.log([gd, 'removed!']);\n",
       "            Plotly.purge(gd);\n",
       "            observer.disconnect();\n",
       "        }}\n",
       "}});\n",
       "\n",
       "// Listen for the removal of the full notebook cells\n",
       "var notebookContainer = gd.closest('#notebook-container');\n",
       "if (notebookContainer) {{\n",
       "    x.observe(notebookContainer, {childList: true});\n",
       "}}\n",
       "\n",
       "// Listen for the clearing of the current output cell\n",
       "var outputEl = gd.closest('.output');\n",
       "if (outputEl) {{\n",
       "    x.observe(outputEl, {childList: true});\n",
       "}}\n",
       "\n",
       "                        })                };                });            </script>        </div>"
      ]
     },
     "metadata": {},
     "output_type": "display_data"
    }
   ],
   "source": [
    "from sklearn.decomposition import PCA\n",
    "import numpy as np\n",
    "\n",
    "pca = PCA(n_components=2)\n",
    "X_new = pca.fit_transform(X)\n",
    "\n",
    "x = []\n",
    "y = []\n",
    "for row in X_new:\n",
    "    x.append(row[0])\n",
    "    y.append(row[1])\n",
    "\n",
    "fig = px.scatter(x=x, y=y, color=cluster_assignments,\n",
    "                width=800, height=600)\n",
    "\n",
    "fig.update_traces(marker=dict(size=12),\n",
    "#                               line=dict(width=2,\n",
    "#                                         color='DarkSlateGrey')),\n",
    "                  selector=dict(mode='markers'))\n",
    "\n",
    "fig.show()"
   ]
  },
  {
   "cell_type": "markdown",
   "metadata": {
    "id": "oto-4GOLVdJL"
   },
   "source": [
    "### TSNE\n",
    "As we know, PCA is linear, while TSNE is non-linear, which may be the reason why TNSE is finding much more interesting structure.\n",
    "Let's try a new dataset, specifically one that may be more challenging for the k-means algorithm to perform well on."
   ]
  },
  {
   "cell_type": "code",
   "execution_count": 96,
   "metadata": {
    "colab": {
     "base_uri": "https://localhost:8080/",
     "height": 286
    },
    "id": "6xGVP0TJqJjH",
    "outputId": "98b65c7f-e430-4063-d142-b7653453fd11"
   },
   "outputs": [
    {
     "name": "stderr",
     "output_type": "stream",
     "text": [
      "/home/andre/miniconda3/envs/aura/lib/python3.10/site-packages/sklearn/manifold/_t_sne.py:795: FutureWarning:\n",
      "\n",
      "The default initialization in TSNE will change from 'random' to 'pca' in 1.2.\n",
      "\n",
      "/home/andre/miniconda3/envs/aura/lib/python3.10/site-packages/sklearn/manifold/_t_sne.py:805: FutureWarning:\n",
      "\n",
      "The default learning rate in TSNE will change from 200.0 to 'auto' in 1.2.\n",
      "\n"
     ]
    },
    {
     "data": {
      "application/vnd.plotly.v1+json": {
       "config": {
        "plotlyServerURL": "https://plot.ly"
       },
       "data": [
        {
         "hovertemplate": "color=5<br>x=%{x}<br>y=%{y}<extra></extra>",
         "legendgroup": "5",
         "marker": {
          "color": "#636efa",
          "size": 12,
          "symbol": "circle"
         },
         "mode": "markers",
         "name": "5",
         "showlegend": true,
         "type": "scattergl",
         "x": [
          17.34334945678711,
          13.5399808883667,
          8.576258659362793,
          12.128852844238281,
          7.736945152282715,
          16.42176055908203,
          20.96095085144043,
          7.656495094299316,
          8.80775260925293,
          23.41155433654785,
          21.845624923706055,
          8.462316513061523,
          8.699426651000977,
          17.643075942993164,
          6.852702617645264,
          9.438887596130371,
          8.671809196472168,
          12.682923316955566,
          22.791322708129883,
          7.149659633636475,
          8.115287780761719,
          10.50178050994873,
          7.395133018493652,
          8.284640312194824,
          21.8142032623291,
          9.890396118164062,
          13.67040729522705,
          20.871379852294922,
          15.59192180633545,
          14.241349220275879,
          14.57898235321045,
          16.61446762084961,
          16.393491744995117,
          16.19750213623047,
          15.526518821716309,
          13.742140769958496,
          15.774103164672852,
          20.264802932739258,
          19.951480865478516,
          23.305049896240234,
          21.8955020904541,
          10.622098922729492,
          7.104625225067139,
          22.525728225708008,
          21.666271209716797,
          16.17300796508789,
          18.322744369506836,
          13.083985328674316,
          18.827566146850586,
          22.4819278717041,
          23.79075050354004,
          15.011031150817871,
          14.043829917907715,
          16.798511505126953,
          14.229070663452148,
          13.773125648498535,
          19.667490005493164,
          15.636966705322266,
          24.416015625,
          14.130212783813477,
          11.669146537780762,
          16.606529235839844,
          13.605706214904785,
          14.000387191772461,
          14.657793998718262,
          10.428690910339355,
          16.86531639099121,
          10.055943489074707,
          15.349496841430664,
          21.863073348999023,
          10.23720932006836,
          17.603158950805664,
          6.791962623596191,
          9.81901741027832,
          8.63785171508789,
          15.52592945098877,
          11.378596305847168,
          13.666081428527832,
          17.408475875854492,
          22.850317001342773,
          -54.46455764770508,
          14.676998138427734,
          15.854887008666992,
          15.350454330444336,
          11.897710800170898,
          12.541802406311035,
          11.468130111694336,
          9.015337944030762,
          7.235947132110596,
          18.53855323791504,
          17.07327651977539,
          13.098827362060547,
          19.153091430664062,
          18.902433395385742,
          17.50126075744629,
          18.12513542175293,
          18.395668029785156,
          18.466764450073242,
          17.44369125366211,
          19.837202072143555,
          18.181842803955078,
          18.75494956970215,
          17.94156265258789,
          18.213380813598633,
          21.15569305419922,
          19.105472564697266,
          16.674468994140625,
          21.508007049560547,
          21.52965545654297,
          23.828968048095703,
          17.845802307128906,
          24.083141326904297,
          24.495548248291016,
          18.608713150024414,
          20.50869369506836,
          15.429896354675293,
          17.332733154296875,
          16.243911743164062,
          16.64894676208496,
          13.439613342285156,
          12.80260944366455,
          13.373292922973633,
          17.11127281188965,
          15.980850219726562,
          16.75673484802246,
          16.83863639831543,
          11.978096961975098,
          16.6422061920166,
          21.077390670776367,
          12.2306547164917,
          13.08895492553711,
          24.638124465942383,
          6.308673858642578,
          11.247126579284668,
          10.877379417419434,
          11.81406307220459,
          14.503376007080078,
          17.82080841064453,
          12.245687484741211,
          12.203714370727539,
          6.195233345031738,
          18.4604434967041,
          20.84239387512207,
          16.515098571777344,
          19.99662971496582,
          19.83481788635254,
          19.15751838684082,
          19.28159523010254,
          24.571290969848633,
          23.625232696533203,
          24.58438491821289,
          18.68892478942871,
          19.797908782958984,
          18.676692962646484,
          10.01307487487793,
          10.039738655090332,
          9.47946548461914,
          13.68591022491455,
          5.632301330566406,
          18.934494018554688,
          42.08382034301758,
          10.406679153442383,
          5.915706157684326,
          23.006669998168945,
          7.993372917175293,
          14.49241828918457,
          20.886516571044922,
          20.789775848388672,
          23.071128845214844,
          17.79304313659668,
          9.452594757080078,
          21.573949813842773,
          16.892513275146484,
          6.98066520690918,
          21.351713180541992,
          20.294742584228516,
          22.96061897277832,
          10.001376152038574,
          8.750753402709961
         ],
         "xaxis": "x",
         "y": [
          -64.98147583007812,
          -65.13554382324219,
          -60.729652404785156,
          -68.92849731445312,
          -63.40859603881836,
          -61.67039108276367,
          -58.78107833862305,
          -60.01234436035156,
          -59.42805099487305,
          -60.580753326416016,
          -61.000152587890625,
          -57.7274284362793,
          -59.55034255981445,
          -60.508453369140625,
          -63.96634292602539,
          -57.65067672729492,
          -64.00270080566406,
          -59.29399108886719,
          -59.31920623779297,
          -59.503868103027344,
          -59.52061462402344,
          -59.176090240478516,
          -60.921329498291016,
          -58.17792892456055,
          -62.058021545410156,
          -59.41881561279297,
          -66.33759307861328,
          -63.7902946472168,
          -64.0889663696289,
          -66.77262115478516,
          -68.36685180664062,
          -61.696346282958984,
          -62.40174102783203,
          -63.16704559326172,
          -64.89556884765625,
          -64.51409912109375,
          -65.44966888427734,
          -63.2099609375,
          -61.869110107421875,
          -62.90592575073242,
          -62.280120849609375,
          -59.24672317504883,
          -64.514404296875,
          -63.389835357666016,
          -60.47571563720703,
          -59.66975784301758,
          -58.67380905151367,
          -59.33846664428711,
          -63.277957916259766,
          -60.32139205932617,
          -64.29779815673828,
          -60.85092544555664,
          -58.884246826171875,
          -56.33236312866211,
          -57.61959457397461,
          -58.60311508178711,
          -57.33649826049805,
          -58.198692321777344,
          -58.982337951660156,
          -63.82509994506836,
          -63.41872787475586,
          -57.99797821044922,
          -58.03114700317383,
          -56.877708435058594,
          -58.95975112915039,
          -65.51232147216797,
          -69.8380126953125,
          -64.90428161621094,
          -65.31475067138672,
          -61.8231086730957,
          -62.22966384887695,
          -67.2462158203125,
          -60.658233642578125,
          -62.68524169921875,
          -64.6114730834961,
          -64.70732116699219,
          -61.038291931152344,
          -60.38477325439453,
          -54.399497985839844,
          -57.647010803222656,
          -8.096949577331543,
          -67.08061218261719,
          -62.49663162231445,
          -62.88282012939453,
          -65.66168212890625,
          -65.87998962402344,
          -67.88159942626953,
          -62.102142333984375,
          -62.46479034423828,
          -62.47719955444336,
          -64.80093383789062,
          -63.0287971496582,
          -56.64735412597656,
          -57.1960334777832,
          -59.48844909667969,
          -56.81002426147461,
          -61.88019943237305,
          -56.465152740478516,
          -54.401920318603516,
          -59.19209671020508,
          -58.04246520996094,
          -55.55179214477539,
          -65.29466247558594,
          -59.93248748779297,
          -56.04212188720703,
          -58.479373931884766,
          -59.63201141357422,
          -54.49619674682617,
          -54.55894088745117,
          -58.07367706298828,
          -59.03985595703125,
          -57.952945709228516,
          -58.81919479370117,
          -65.59342193603516,
          -57.721046447753906,
          -60.49751281738281,
          -66.11282348632812,
          -66.2502212524414,
          -69.1453628540039,
          -69.03553771972656,
          -69.59275817871094,
          -69.28624725341797,
          -68.88086700439453,
          -69.45219421386719,
          -69.66313171386719,
          -68.83738708496094,
          -64.62094116210938,
          -70.24983215332031,
          -55.9266242980957,
          -62.61319351196289,
          -61.498592376708984,
          -60.22659683227539,
          -61.86848068237305,
          -61.59383773803711,
          -61.48552703857422,
          -68.4368667602539,
          -63.537391662597656,
          -65.02830505371094,
          -60.89384078979492,
          -61.79905700683594,
          -61.8087158203125,
          -57.344242095947266,
          -60.072818756103516,
          -56.07851028442383,
          -59.954368591308594,
          -60.72999954223633,
          -61.405250549316406,
          -61.12891387939453,
          -60.013545989990234,
          -61.767704010009766,
          -60.57012939453125,
          -61.21198272705078,
          -59.99309158325195,
          -62.903846740722656,
          -61.3536491394043,
          -60.70027542114258,
          -61.63694763183594,
          -61.76762008666992,
          -60.07854461669922,
          -66.60950469970703,
          -5.428617000579834,
          -57.271751403808594,
          -59.75446701049805,
          -57.89374542236328,
          -61.61528396606445,
          -63.197044372558594,
          -61.87010192871094,
          -60.9571533203125,
          -64.3131103515625,
          -64.267333984375,
          -63.68896484375,
          -64.76483917236328,
          -63.88017654418945,
          -65.19344329833984,
          -64.56590270996094,
          -65.65101623535156,
          -64.14677429199219,
          -57.0870361328125,
          -64.31851196289062
         ],
         "yaxis": "y"
        },
        {
         "hovertemplate": "color=7<br>x=%{x}<br>y=%{y}<extra></extra>",
         "legendgroup": "7",
         "marker": {
          "color": "#EF553B",
          "size": 12,
          "symbol": "circle"
         },
         "mode": "markers",
         "name": "7",
         "showlegend": true,
         "type": "scattergl",
         "x": [
          -13.800766944885254,
          17.893491744995117,
          6.186275959014893,
          7.0716681480407715,
          -0.3891347646713257,
          6.991214275360107,
          19.295114517211914,
          18.111953735351562,
          10.360467910766602,
          17.897022247314453,
          6.975339412689209,
          2.215419292449951,
          -13.989911079406738,
          -48.184906005859375,
          4.052837371826172,
          -11.092491149902344,
          2.071794271469116,
          18.87648582458496,
          19.531841278076172,
          7.769933700561523,
          -1.2406084537506104,
          -0.7216729521751404,
          -10.354207992553711,
          6.238476276397705,
          1.7923346757888794,
          9.461432456970215,
          6.265415668487549,
          1.5472608804702759,
          8.136080741882324,
          -27.03340721130371,
          1.6542779207229614,
          11.636035919189453,
          -26.985031127929688,
          -0.6314238905906677,
          8.105281829833984,
          8.666354179382324,
          11.501774787902832,
          2.3276994228363037,
          -7.523899078369141,
          -14.017949104309082,
          4.13712739944458,
          -6.022965431213379,
          3.5479745864868164,
          5.839317798614502,
          5.333890914916992,
          -9.389657974243164,
          -4.576934814453125,
          -9.108357429504395,
          -6.28556489944458,
          -13.576913833618164,
          -6.662608623504639,
          -9.746115684509277,
          4.947242736816406,
          -7.716865539550781,
          -10.095916748046875,
          3.6899096965789795,
          5.46706485748291,
          1.4632337093353271,
          -47.80251693725586,
          18.774898529052734,
          5.17718505859375,
          3.927313804626465,
          13.521815299987793,
          13.790685653686523,
          13.974124908447266,
          4.329206943511963,
          14.106025695800781,
          14.519899368286133,
          15.247709274291992,
          14.476417541503906,
          -6.217116832733154,
          14.56808853149414,
          15.102059364318848,
          14.960819244384766,
          14.176502227783203,
          -6.669410705566406,
          -8.55687427520752,
          4.462291717529297,
          -8.950209617614746,
          3.3897480964660645,
          -5.00312614440918,
          -5.098945140838623,
          3.676642894744873,
          36.2234992980957,
          -5.677596092224121,
          -7.870538711547852,
          -5.482291221618652,
          -8.946974754333496,
          -9.363065719604492,
          -7.257065296173096,
          1.915927529335022,
          -7.879824638366699,
          -7.014812469482422,
          2.3600430488586426,
          1.430490493774414,
          3.3822906017303467,
          -8.594691276550293,
          -7.069945335388184,
          -6.404090881347656,
          1.5242527723312378,
          -5.1598711013793945,
          -5.509654998779297,
          -3.1418440341949463,
          -0.3144882321357727,
          -9.957659721374512,
          -7.523750305175781,
          -8.83029842376709,
          -9.565895080566406,
          -7.749321460723877,
          -3.4959704875946045,
          -4.441400051116943,
          24.93443489074707,
          -4.505856990814209,
          -4.657581806182861,
          7.527800559997559,
          -9.112147331237793,
          7.431717395782471,
          -4.142681121826172,
          -9.937682151794434,
          7.594198703765869,
          -9.414115905761719,
          -9.243351936340332,
          -10.81610107421875,
          -8.635909080505371,
          -3.2650885581970215,
          -6.932339668273926,
          10.046622276306152,
          -10.114914894104004,
          -10.254079818725586,
          5.243309497833252,
          11.266358375549316,
          10.660621643066406,
          3.112536668777466,
          -15.074485778808594,
          4.107481956481934,
          -4.832202911376953,
          -16.112646102905273,
          -10.25820541381836,
          -10.250589370727539,
          -8.466367721557617,
          -15.610334396362305,
          -9.70773983001709,
          -9.717430114746094,
          6.582363128662109,
          -11.258169174194336,
          4.176544666290283,
          6.196174144744873,
          6.075557708740234,
          6.599043369293213,
          2.361854076385498,
          -15.72404956817627,
          2.170840263366699,
          4.267219543457031,
          6.109325885772705,
          1.7707663774490356,
          -10.45087718963623,
          -9.160933494567871,
          2.809907913208008,
          -7.873330593109131,
          1.6269111633300781,
          -7.597083568572998,
          -8.715778350830078,
          -9.775918960571289,
          7.147367000579834,
          -10.65158748626709,
          -11.37247371673584,
          7.139989376068115,
          1.345935344696045,
          2.2174313068389893,
          5.732946872711182,
          -11.652754783630371,
          26.424579620361328,
          -15.893604278564453,
          -12.28508186340332,
          -12.018572807312012,
          1.7892438173294067,
          11.964332580566406,
          -9.420527458190918,
          20.599271774291992,
          -11.112714767456055,
          26.423107147216797,
          3.8506901264190674,
          -12.32604694366455,
          20.42911148071289,
          20.086294174194336,
          7.368829727172852,
          -10.272671699523926,
          11.123353004455566,
          -10.838196754455566,
          -10.487278938293457,
          7.311381816864014,
          -9.782527923583984,
          -9.536772727966309,
          11.733659744262695,
          -8.984384536743164,
          -9.198382377624512,
          10.185748100280762,
          -7.104439735412598,
          -6.384793281555176,
          21.340038299560547,
          8.395092964172363,
          -8.765838623046875,
          9.190445899963379,
          7.189503192901611,
          -6.543078422546387,
          -6.118948459625244,
          5.303445816040039,
          -8.512984275817871,
          22.01350975036621,
          22.397533416748047,
          21.88873863220215,
          -4.090938091278076,
          8.457544326782227,
          -4.648874282836914,
          -3.8797481060028076,
          -3.7589759826660156,
          -7.775345325469971,
          0.05392792448401451,
          -4.9276957511901855,
          -4.574624061584473,
          9.000535011291504,
          -0.6722174286842346,
          -2.1160635948181152,
          0.14913174510002136
         ],
         "xaxis": "x",
         "y": [
          18.526126861572266,
          8.81281566619873,
          8.031123161315918,
          4.781373977661133,
          7.381660461425781,
          5.669857025146484,
          8.970269203186035,
          9.740317344665527,
          8.992431640625,
          8.985201835632324,
          18.999019622802734,
          7.297048568725586,
          18.59115219116211,
          5.406806468963623,
          8.159128189086914,
          13.29584789276123,
          5.405203342437744,
          9.28774642944336,
          8.95883846282959,
          7.747096061706543,
          9.499685287475586,
          7.338305473327637,
          11.398600578308105,
          3.148207187652588,
          2.5439066886901855,
          7.47113561630249,
          3.3625383377075195,
          13.766651153564453,
          2.807466983795166,
          43.013694763183594,
          13.6873779296875,
          4.40629243850708,
          43.13058090209961,
          10.071717262268066,
          3.773914098739624,
          3.450744867324829,
          4.440462112426758,
          4.930967330932617,
          13.056680679321289,
          23.712026596069336,
          10.645567893981934,
          12.591635704040527,
          10.68191909790039,
          -0.9050986170768738,
          -1.2133522033691406,
          7.983272075653076,
          14.258125305175781,
          13.204022407531738,
          13.944518089294434,
          23.51947784423828,
          14.33108139038086,
          15.407153129577637,
          2.948518753051758,
          17.31618881225586,
          9.183303833007812,
          10.318037033081055,
          4.59043025970459,
          -1.6675204038619995,
          1.0048577785491943,
          8.360788345336914,
          3.8363561630249023,
          4.1612043380737305,
          6.236076354980469,
          4.549345016479492,
          3.8323395252227783,
          3.39654803276062,
          6.099094867706299,
          4.2147979736328125,
          4.145299911499023,
          4.422359466552734,
          7.399230480194092,
          6.73148775100708,
          4.632165431976318,
          4.348298072814941,
          5.909517765045166,
          11.505611419677734,
          8.063145637512207,
          1.0738235712051392,
          8.44349479675293,
          0.5076126456260681,
          11.474889755249023,
          11.345112800598145,
          1.426656723022461,
          9.283591270446777,
          16.379409790039062,
          10.387397766113281,
          16.473386764526367,
          10.06452751159668,
          9.520611763000488,
          9.912200927734375,
          3.244356632232666,
          10.559745788574219,
          11.3601713180542,
          9.44741439819336,
          7.7942328453063965,
          2.091197967529297,
          16.9523983001709,
          18.235445022583008,
          16.18131446838379,
          8.768847465515137,
          8.26779842376709,
          10.235530853271484,
          12.797701835632324,
          0.48540207743644714,
          7.919945240020752,
          12.55058479309082,
          13.739673614501953,
          13.946699142456055,
          15.348149299621582,
          13.246685028076172,
          -3.7971267700195312,
          5.2271318435668945,
          9.296934127807617,
          13.215492248535156,
          9.381168365478516,
          15.656286239624023,
          3.0899274349212646,
          10.57496452331543,
          14.169428825378418,
          9.295241355895996,
          10.415410041809082,
          16.146530151367188,
          12.530506134033203,
          16.073488235473633,
          11.527667045593262,
          14.617446899414062,
          -2.3778481483459473,
          11.939266204833984,
          13.47614860534668,
          11.469659805297852,
          -0.9663270711898804,
          -1.5779706239700317,
          7.973506927490234,
          14.918204307556152,
          7.363263130187988,
          13.278854370117188,
          16.781341552734375,
          17.43240737915039,
          12.448681831359863,
          16.384180068969727,
          16.143558502197266,
          13.02743911743164,
          12.682754516601562,
          8.778237342834473,
          10.731492042541504,
          7.866083145141602,
          7.0725507736206055,
          6.372574329376221,
          7.101178169250488,
          5.633115291595459,
          16.238523483276367,
          7.024880409240723,
          6.670365333557129,
          5.8365654945373535,
          5.412879943847656,
          16.840133666992188,
          17.20494270324707,
          6.263054847717285,
          16.103492736816406,
          3.004533529281616,
          18.57767677307129,
          17.75888442993164,
          16.34123992919922,
          7.971720218658447,
          14.60759162902832,
          15.071249008178711,
          5.962851047515869,
          5.963842391967773,
          7.353909015655518,
          7.728688716888428,
          16.999717712402344,
          36.70381546020508,
          14.93200397491455,
          12.494951248168945,
          11.511783599853516,
          10.417346000671387,
          5.405831336975098,
          18.23753547668457,
          -5.487912178039551,
          15.745882987976074,
          40.616416931152344,
          6.253756523132324,
          12.116669654846191,
          -5.7183837890625,
          -6.1992082595825195,
          19.284231185913086,
          15.29073715209961,
          5.355316162109375,
          16.20789337158203,
          18.138395309448242,
          19.26154899597168,
          18.272729873657227,
          16.724058151245117,
          6.105290412902832,
          18.07482147216797,
          18.442293167114258,
          7.300737380981445,
          7.053071975708008,
          9.904480934143066,
          -7.683895111083984,
          6.163875102996826,
          7.514141082763672,
          1.7637348175048828,
          11.004156112670898,
          7.33571195602417,
          10.9067964553833,
          11.108614921569824,
          6.826053619384766,
          -7.988697052001953,
          -7.612251281738281,
          -7.283799648284912,
          10.35449504852295,
          2.0194342136383057,
          8.257966995239258,
          15.886859893798828,
          11.864606857299805,
          8.252704620361328,
          4.15887975692749,
          8.688188552856445,
          8.887102127075195,
          0.5235037207603455,
          11.904197692871094,
          12.769681930541992,
          3.7397007942199707
         ],
         "yaxis": "y"
        },
        {
         "hovertemplate": "color=1<br>x=%{x}<br>y=%{y}<extra></extra>",
         "legendgroup": "1",
         "marker": {
          "color": "#00cc96",
          "size": 12,
          "symbol": "circle"
         },
         "mode": "markers",
         "name": "1",
         "showlegend": true,
         "type": "scattergl",
         "x": [
          14.50280475616455,
          22.640974044799805,
          26.41450309753418,
          25.378997802734375,
          22.635456085205078,
          25.30565643310547,
          25.863672256469727,
          24.54728126525879,
          26.448524475097656,
          26.070354461669922,
          24.573884963989258,
          -5.512482643127441,
          25.30999755859375,
          26.1761417388916,
          26.42349624633789,
          26.3756103515625,
          2.5028653144836426,
          23.352970123291016,
          26.7501277923584,
          26.85970687866211,
          27.604719161987305,
          25.40872573852539,
          26.44010353088379,
          26.82038688659668,
          25.395313262939453,
          27.223392486572266,
          14.04848575592041,
          20.2786922454834,
          18.159900665283203,
          21.067943572998047,
          15.289730072021484,
          22.472942352294922,
          19.015493392944336,
          18.995901107788086,
          20.477569580078125,
          21.776155471801758,
          15.11461353302002,
          14.916560173034668,
          18.13481903076172,
          20.91383934020996,
          22.77126121520996,
          11.847031593322754,
          14.18137264251709,
          11.993203163146973,
          11.597187995910645,
          11.717159271240234,
          11.757743835449219,
          12.06540298461914,
          12.610139846801758,
          10.444039344787598,
          7.091577529907227,
          10.633383750915527,
          7.514831066131592,
          7.492354869842529,
          21.778783798217773,
          22.51774024963379,
          20.42701530456543,
          26.243915557861328,
          36.995521545410156,
          23.37487030029297,
          22.140949249267578,
          23.56267547607422,
          21.131479263305664,
          37.46361541748047,
          22.71195411682129,
          23.848726272583008,
          13.325567245483398,
          13.353429794311523,
          19.949480056762695,
          13.906793594360352,
          16.34143829345703,
          17.19192886352539,
          17.53746795654297,
          17.21088981628418,
          17.34070587158203,
          24.07416534423828,
          23.674747467041016,
          20.525056838989258,
          15.055976867675781,
          16.83234405517578,
          15.6232271194458,
          21.66729736328125,
          16.15383529663086,
          15.200163841247559,
          13.76986312866211,
          54.75792694091797,
          14.164684295654297,
          16.06426429748535,
          15.55042839050293,
          15.6862211227417,
          13.732234001159668,
          15.528886795043945,
          16.497480392456055,
          14.564132690429688,
          16.551965713500977,
          13.843093872070312,
          18.532434463500977,
          6.428575038909912,
          18.61522102355957,
          20.46718406677246,
          24.99651527404785,
          21.793180465698242,
          24.683237075805664,
          21.816884994506836,
          21.720855712890625,
          41.089656829833984,
          19.39222526550293,
          19.34588623046875,
          19.784595489501953,
          21.631013870239258,
          10.689997673034668,
          20.861116409301758,
          24.32271957397461,
          24.349966049194336,
          24.531782150268555,
          21.206396102905273,
          25.292457580566406,
          25.32267951965332,
          23.92220687866211,
          23.90887451171875,
          20.056856155395508,
          20.36405372619629,
          24.037830352783203,
          20.270662307739258,
          24.89164924621582,
          41.49640655517578,
          13.998054504394531,
          19.599939346313477,
          40.9901008605957,
          41.398780822753906,
          42.572208404541016,
          41.49733352661133,
          22.171789169311523,
          23.5054874420166,
          22.859067916870117,
          22.158973693847656,
          42.15048599243164,
          19.295581817626953,
          21.795373916625977,
          17.77229118347168,
          22.675281524658203,
          20.18548011779785,
          13.499996185302734,
          12.973711013793945,
          14.293562889099121,
          17.638917922973633,
          13.035816192626953,
          16.63374137878418,
          13.494717597961426,
          18.2954044342041,
          15.594051361083984,
          18.780794143676758,
          17.671640396118164,
          17.30272674560547,
          15.86181640625,
          -6.426033020019531,
          23.163965225219727,
          43.43926239013672,
          26.680192947387695,
          21.99250030517578,
          42.3703498840332,
          43.27130889892578,
          22.680322647094727,
          23.913469314575195,
          20.375446319580078,
          22.706666946411133,
          23.630571365356445,
          3.597689390182495,
          40.71969223022461,
          19.354013442993164,
          13.435458183288574,
          9.901396751403809,
          21.917695999145508,
          21.819429397583008,
          19.083663940429688,
          19.494029998779297
         ],
         "xaxis": "x",
         "y": [
          -21.257131576538086,
          -16.591999053955078,
          -11.488569259643555,
          -16.95902442932129,
          -13.86208438873291,
          -16.480083465576172,
          -15.933816909790039,
          -13.855123519897461,
          -13.81370735168457,
          -15.410094261169434,
          -12.908448219299316,
          -35.163883209228516,
          -13.600470542907715,
          -12.87462043762207,
          -16.01958465576172,
          -12.317831993103027,
          -28.170419692993164,
          -13.379777908325195,
          -16.214099884033203,
          -14.867098808288574,
          -12.165757179260254,
          -15.029345512390137,
          -13.86577033996582,
          -14.0263032913208,
          -14.42432975769043,
          -12.49979305267334,
          -21.102752685546875,
          -19.824344635009766,
          -24.2249755859375,
          -20.040916442871094,
          -18.495241165161133,
          -19.591646194458008,
          -20.74110221862793,
          -20.065671920776367,
          -19.923856735229492,
          -17.891687393188477,
          -18.63274574279785,
          -18.116661071777344,
          -24.54587745666504,
          -14.621297836303711,
          -18.730005264282227,
          -22.562593460083008,
          -27.61777114868164,
          -23.573089599609375,
          -24.153650283813477,
          -22.290424346923828,
          -21.610870361328125,
          -20.384950637817383,
          -20.90816879272461,
          -21.948789596557617,
          -15.785635948181152,
          -14.733477592468262,
          -15.564974784851074,
          -15.331632614135742,
          -20.483139038085938,
          -21.701448440551758,
          -19.193601608276367,
          -21.1898136138916,
          9.241278648376465,
          -21.480058670043945,
          -20.520156860351562,
          -22.289960861206055,
          -18.906949996948242,
          9.999981880187988,
          -20.988201141357422,
          -22.473886489868164,
          -18.341468811035156,
          -18.374040603637695,
          -18.846908569335938,
          -17.516605377197266,
          -18.990583419799805,
          -19.355493545532227,
          -17.27353286743164,
          -16.54258155822754,
          -16.29266357421875,
          -18.182579040527344,
          -17.464481353759766,
          -17.018444061279297,
          -19.581283569335938,
          -20.377769470214844,
          -20.44389533996582,
          -15.54712963104248,
          -26.28205680847168,
          -23.266822814941406,
          -22.730548858642578,
          -9.146222114562988,
          -22.853361129760742,
          -22.127399444580078,
          -23.51817512512207,
          -27.44948387145996,
          -26.184558868408203,
          -27.989845275878906,
          -26.113277435302734,
          -27.619840621948242,
          -21.355350494384766,
          -26.090482711791992,
          -25.206281661987305,
          -23.31378173828125,
          -25.76205825805664,
          -25.043506622314453,
          -21.08091926574707,
          -24.747346878051758,
          -20.316139221191406,
          -23.45416831970215,
          -24.664098739624023,
          -2.7506775856018066,
          -25.26129722595215,
          -25.259544372558594,
          -25.78297996520996,
          -25.6729736328125,
          1.7955266237258911,
          -23.533349990844727,
          -19.455965042114258,
          -24.74993324279785,
          -24.572324752807617,
          -14.107893943786621,
          -11.38110637664795,
          -19.595001220703125,
          -12.3327054977417,
          -14.667394638061523,
          -23.530803680419922,
          -17.059249877929688,
          -12.169476509094238,
          -21.963483810424805,
          -20.240015029907227,
          -1.908003807067871,
          -24.11050796508789,
          -22.927732467651367,
          -3.030547618865967,
          -3.7792627811431885,
          -4.444138050079346,
          -3.0008697509765625,
          -15.400976181030273,
          -21.092483520507812,
          -23.552305221557617,
          -23.39358901977539,
          -4.966582775115967,
          -22.558303833007812,
          -13.147579193115234,
          -21.666261672973633,
          -22.04288673400879,
          -23.421218872070312,
          -20.824851989746094,
          -22.857667922973633,
          -19.954627990722656,
          -18.245616912841797,
          -22.188796997070312,
          -22.62369155883789,
          -23.090559005737305,
          -22.674924850463867,
          -21.66995620727539,
          -19.910188674926758,
          -18.11366844177246,
          -23.062759399414062,
          -20.593109130859375,
          -33.26304244995117,
          -15.156331062316895,
          -4.6895060539245605,
          -18.598188400268555,
          -13.241312026977539,
          -4.989835262298584,
          -4.7258687019348145,
          -12.78860092163086,
          -15.322959899902344,
          -12.119292259216309,
          -15.156046867370605,
          -15.611352920532227,
          -29.599761962890625,
          -2.246166467666626,
          -12.813345909118652,
          -16.87822723388672,
          1.9273353815078735,
          -8.808621406555176,
          -14.103163719177246,
          -18.994142532348633,
          -15.826216697692871
         ],
         "yaxis": "y"
        },
        {
         "hovertemplate": "color=0<br>x=%{x}<br>y=%{y}<extra></extra>",
         "legendgroup": "0",
         "marker": {
          "color": "#ab63fa",
          "size": 12,
          "symbol": "circle"
         },
         "mode": "markers",
         "name": "0",
         "showlegend": true,
         "type": "scattergl",
         "x": [
          -23.950881958007812,
          -18.4306583404541,
          -17.704418182373047,
          -21.211519241333008,
          -13.383676528930664,
          -10.62862777709961,
          -22.35745620727539,
          -22.718687057495117,
          -12.540037155151367,
          -13.67785358428955,
          -10.78616714477539,
          -17.465471267700195,
          -22.76012420654297,
          -23.851478576660156,
          -24.162940979003906,
          -25.3836612701416,
          -25.722381591796875,
          -24.610422134399414,
          -24.5387020111084,
          -24.981868743896484,
          -23.896839141845703,
          -13.847051620483398,
          -15.561205863952637,
          -13.6024808883667,
          -19.24211311340332,
          -15.488414764404297,
          -14.152933120727539,
          -15.6548490524292,
          -20.799543380737305,
          -12.140745162963867,
          -23.574098587036133,
          -17.181358337402344,
          -14.982489585876465,
          -17.66170883178711,
          -26.69905662536621,
          -15.194950103759766,
          -24.811952590942383,
          -22.658504486083984,
          -25.37630271911621,
          -24.87289047241211,
          -25.751272201538086,
          -24.056655883789062,
          -24.203636169433594,
          -22.905851364135742,
          -26.841373443603516,
          -12.535980224609375,
          -16.615930557250977,
          -14.108587265014648,
          -15.059541702270508,
          -11.580653190612793,
          -12.233920097351074,
          -14.074287414550781,
          -13.501165390014648,
          -16.581287384033203,
          -15.329309463500977,
          -12.656381607055664,
          -23.568532943725586,
          -23.958541870117188,
          -32.58695983886719,
          -22.018712997436523,
          -21.25240135192871,
          -24.239803314208984,
          -23.752193450927734,
          -13.0313138961792,
          -16.5909366607666,
          -17.591445922851562,
          -19.930191040039062,
          -18.897096633911133,
          -17.680866241455078,
          -21.152822494506836,
          -17.446853637695312,
          -18.2506103515625,
          -23.971771240234375,
          -19.149118423461914,
          -24.67738151550293,
          -17.96632957458496,
          -21.215524673461914,
          -19.86897087097168,
          -24.260107040405273,
          -22.886232376098633,
          -23.378665924072266,
          -19.353689193725586,
          -16.047029495239258,
          -18.522354125976562,
          -19.450273513793945,
          -26.653852462768555,
          -24.799589157104492,
          -22.523113250732422,
          -15.831372261047363,
          -14.400508880615234,
          -13.721159934997559,
          -14.45138168334961,
          -14.822917938232422,
          -15.144392967224121,
          -15.779247283935547,
          -13.88216781616211,
          -14.356828689575195,
          -12.73256778717041,
          -14.96955394744873,
          -19.532663345336914,
          -14.387419700622559,
          -16.21075439453125,
          -12.43865966796875,
          -16.817760467529297,
          -23.85061264038086,
          -14.798476219177246,
          -23.511642456054688,
          -24.049915313720703,
          -18.49778938293457,
          -20.38973045349121,
          -19.574512481689453,
          -20.996835708618164,
          -22.46626853942871,
          -18.296491622924805,
          -21.252378463745117,
          -12.437725067138672,
          -25.51180076599121,
          -25.95947265625,
          -26.049964904785156,
          -25.135498046875,
          -25.527816772460938,
          -22.40178680419922,
          -22.22206687927246,
          -25.747314453125,
          -18.750885009765625,
          -22.71991539001465,
          -22.435945510864258,
          -22.051597595214844,
          -22.352336883544922,
          -12.147783279418945,
          -16.692686080932617,
          -15.156736373901367,
          -18.04286766052246,
          -16.15106773376465,
          -16.3146915435791,
          -17.233905792236328,
          -14.870159149169922,
          -15.382411003112793,
          -16.727930068969727,
          -11.73165512084961,
          -16.24376678466797,
          -17.882436752319336,
          -14.684422492980957,
          -14.038646697998047,
          -12.22304630279541,
          4.896617889404297,
          -15.225162506103516,
          -11.757080078125,
          -15.744989395141602,
          -15.10208797454834,
          -14.607338905334473,
          -11.447376251220703,
          -14.727675437927246,
          -19.522075653076172,
          -19.863506317138672,
          -27.09610366821289,
          -18.449283599853516,
          -19.855043411254883,
          -24.86104393005371,
          -24.7018985748291,
          -23.340232849121094,
          -21.728174209594727,
          -23.9232234954834,
          -24.778587341308594,
          -23.90454864501953,
          -20.924386978149414
         ],
         "xaxis": "x",
         "y": [
          50.296321868896484,
          51.48674774169922,
          52.48590850830078,
          52.38865661621094,
          52.033607482910156,
          49.67298889160156,
          49.359657287597656,
          49.52568817138672,
          53.4283561706543,
          52.55613327026367,
          49.82598876953125,
          52.81413650512695,
          41.68168258666992,
          41.709861755371094,
          43.407264709472656,
          41.788124084472656,
          44.66655349731445,
          41.95111846923828,
          42.35935592651367,
          43.01820755004883,
          41.85002899169922,
          52.711727142333984,
          53.50898742675781,
          55.235923767089844,
          55.16490936279297,
          54.849876403808594,
          56.122737884521484,
          53.802555084228516,
          56.283451080322266,
          51.530025482177734,
          57.3581428527832,
          53.981632232666016,
          55.52356719970703,
          52.54489517211914,
          44.45487976074219,
          61.262969970703125,
          44.800331115722656,
          45.150184631347656,
          45.921409606933594,
          45.05611801147461,
          46.089813232421875,
          44.91209030151367,
          45.92932891845703,
          47.63436508178711,
          44.167171478271484,
          59.39210891723633,
          61.006256103515625,
          59.041439056396484,
          57.658145904541016,
          58.39746856689453,
          59.95189666748047,
          59.67422866821289,
          60.063785552978516,
          62.42584991455078,
          57.27876281738281,
          59.678680419921875,
          43.72060775756836,
          43.58282470703125,
          -20.14250946044922,
          44.27488327026367,
          44.430076599121094,
          44.30648422241211,
          44.31743621826172,
          60.06679916381836,
          62.54795837402344,
          62.323455810546875,
          60.486473083496094,
          58.33674240112305,
          60.486839294433594,
          55.231868743896484,
          58.10710144042969,
          59.85816192626953,
          53.92086410522461,
          60.803253173828125,
          57.894004821777344,
          60.23164749145508,
          54.00748062133789,
          60.39045333862305,
          56.95741653442383,
          52.021671295166016,
          52.01858139038086,
          48.68653106689453,
          49.81443786621094,
          48.25031280517578,
          48.707489013671875,
          56.90034866333008,
          50.943660736083984,
          51.49341583251953,
          48.952903747558594,
          48.28915023803711,
          50.565067291259766,
          49.07392501831055,
          48.628204345703125,
          49.77717971801758,
          48.302490234375,
          50.34280014038086,
          49.74385452270508,
          50.63861083984375,
          52.05287551879883,
          52.480995178222656,
          49.79566955566406,
          52.31557083129883,
          50.618717193603516,
          53.2226676940918,
          53.161338806152344,
          58.43924331665039,
          52.26546859741211,
          56.47883605957031,
          52.638858795166016,
          53.08572006225586,
          53.533573150634766,
          56.33979415893555,
          55.81330490112305,
          53.99880599975586,
          53.06574249267578,
          53.88128662109375,
          56.89787673950195,
          57.04388427734375,
          57.14030456542969,
          56.56027603149414,
          56.2329216003418,
          56.868648529052734,
          57.044071197509766,
          56.30195999145508,
          53.44137954711914,
          53.57148361206055,
          53.50124740600586,
          53.24089050292969,
          56.93224334716797,
          59.13488006591797,
          60.112892150878906,
          59.321327209472656,
          56.98359680175781,
          60.330501556396484,
          58.61848068237305,
          59.160579681396484,
          59.399269104003906,
          59.1205940246582,
          59.16408157348633,
          57.684120178222656,
          59.811004638671875,
          57.980186462402344,
          53.36479949951172,
          53.3197021484375,
          55.64002990722656,
          -60.90830993652344,
          55.59795379638672,
          55.462955474853516,
          55.92317199707031,
          53.73638153076172,
          53.536277770996094,
          56.61621856689453,
          54.889102935791016,
          55.47240447998047,
          54.580177307128906,
          -22.7907657623291,
          55.31386947631836,
          51.455230712890625,
          51.11641311645508,
          51.92254638671875,
          55.715999603271484,
          49.876766204833984,
          50.3043098449707,
          54.5245475769043,
          53.555076599121094,
          54.12380599975586
         ],
         "yaxis": "y"
        },
        {
         "hovertemplate": "color=3<br>x=%{x}<br>y=%{y}<extra></extra>",
         "legendgroup": "3",
         "marker": {
          "color": "#FFA15A",
          "size": 12,
          "symbol": "circle"
         },
         "mode": "markers",
         "name": "3",
         "showlegend": true,
         "type": "scattergl",
         "x": [
          2.7360939979553223,
          7.214386940002441,
          -4.134977340698242,
          4.581846714019775,
          4.231566905975342,
          4.503377914428711,
          5.591188430786133,
          -4.309518814086914,
          3.302734136581421,
          3.284059524536133,
          3.04699969291687,
          0.7481401562690735,
          -7.644811153411865,
          1.8522474765777588,
          1.5612667798995972,
          1.6204479932785034,
          2.1051371097564697,
          2.0463194847106934,
          0.3995049297809601,
          -4.411805152893066,
          -4.891495704650879,
          2.0828285217285156,
          -3.9852960109710693,
          -2.946977376937866,
          -19.94857406616211,
          3.607743740081787,
          -3.6118695735931396,
          2.3887665271759033,
          -24.11543846130371,
          -21.767024993896484,
          -7.313384056091309,
          -1.1482045650482178,
          0.8239874839782715,
          3.784144878387451,
          -23.78883171081543,
          4.70173978805542,
          -23.319250106811523,
          7.418270111083984,
          4.803874492645264,
          0.20500236749649048,
          -5.831311225891113,
          1.2598294019699097,
          -2.2873995304107666,
          1.2884143590927124,
          -2.745783805847168,
          -20.37110137939453,
          -18.889148712158203,
          -2.440727949142456,
          1.8238028287887573,
          -3.0656850337982178,
          1.764803171157837,
          -0.7154362201690674,
          11.186766624450684,
          11.62680435180664,
          11.307827949523926,
          -3.694394826889038,
          -20.509065628051758,
          -2.3094873428344727,
          -2.480510711669922,
          4.570250511169434,
          -2.2532739639282227,
          3.224714994430542,
          -2.735539197921753,
          -8.932034492492676,
          2.9476218223571777,
          -2.806955575942993,
          1.4487366676330566,
          6.314062595367432,
          -1.7023452520370483,
          7.648056983947754,
          -22.679977416992188,
          -0.8317296504974365,
          7.59439754486084,
          -21.690595626831055,
          -2.774810791015625,
          -21.811986923217773,
          -21.74007225036621,
          -8.377240180969238,
          -1.7202422618865967,
          -22.198713302612305,
          6.301634788513184,
          6.012725353240967,
          6.762526035308838,
          -8.890122413635254,
          -7.225413799285889,
          -22.86554527282715,
          6.333636283874512,
          6.808957576751709,
          7.163434982299805,
          -1.675049901008606,
          -21.45282745361328,
          -1.8379502296447754,
          -2.3927090167999268,
          -22.674558639526367,
          -8.184313774108887,
          0.4176290035247803,
          4.982661247253418,
          4.8741068840026855,
          3.504883289337158,
          36.3131103515625,
          2.2769529819488525,
          3.0557057857513428,
          4.922579765319824,
          -0.12544938921928406,
          -8.305299758911133,
          0.6327810287475586,
          -8.165325164794922,
          5.692423343658447,
          1.3590184450149536,
          -8.079450607299805,
          -3.1212520599365234,
          -3.368553638458252,
          0.2336568832397461,
          -3.0999269485473633,
          -7.927149772644043,
          1.769196629524231,
          -8.274566650390625,
          9.299549102783203,
          -8.521187782287598,
          -4.650231838226318,
          6.281345367431641,
          0.4960779547691345,
          -19.94428825378418,
          6.011377334594727,
          -1.1502355337142944,
          -18.964805603027344,
          6.55035400390625,
          -0.3855191469192505,
          -3.36611008644104,
          -19.84444808959961,
          -20.669981002807617,
          -19.162702560424805,
          -0.2460755705833435,
          5.513273239135742,
          -1.6392369270324707,
          2.032623052597046,
          -17.856189727783203,
          5.825491428375244,
          0.8961597084999084,
          -20.23319435119629,
          0.2952791750431061,
          -20.228294372558594,
          3.307573080062866,
          -0.02647654339671135,
          0.06116706132888794,
          -1.3380179405212402,
          -19.108686447143555,
          6.89093542098999,
          -19.08929443359375,
          -2.853273391723633,
          -22.43192481994629,
          -4.05180025100708,
          1.4237815141677856,
          -1.5145946741104126,
          5.067258358001709,
          -6.006956100463867,
          10.523284912109375,
          -6.61494779586792,
          -7.187281131744385,
          -5.766438961029053,
          9.786077499389648,
          -7.392947196960449,
          -6.109838485717773,
          10.161044120788574,
          -5.431311130523682,
          0.9179124236106873,
          -0.5202232003211975,
          -6.077226161956787,
          0.7674996852874756,
          6.3897294998168945,
          -4.410896301269531,
          3.102893352508545,
          -4.2920660972595215,
          -6.800887584686279,
          -7.891982555389404,
          -6.791445255279541,
          0.9203206300735474,
          -6.181453704833984,
          -7.307830333709717,
          -5.913416862487793,
          -5.673710823059082,
          -4.368953704833984,
          -7.506589412689209,
          -23.88290023803711,
          -0.9976031184196472,
          -5.6334943771362305,
          -6.747256278991699,
          -5.779792308807373,
          -1.832787036895752,
          -7.796998977661133,
          2.3535609245300293,
          -5.313446044921875,
          -1.3937735557556152,
          -7.523202419281006,
          42.177730560302734,
          -30.685043334960938,
          -7.77577543258667,
          -9.315197944641113,
          0.6537443399429321,
          -5.088021278381348,
          -23.65605926513672,
          1.033776044845581,
          -5.116485118865967,
          -21.74308204650879,
          1.4529914855957031,
          -3.0137767791748047,
          -3.918862819671631,
          -23.47863006591797,
          -23.440675735473633,
          -24.170419692993164,
          -5.175905704498291,
          0.9696934223175049,
          -4.101068019866943,
          0.3157745599746704,
          -20.694677352905273,
          -2.2039623260498047,
          -24.532846450805664,
          -3.5907466411590576,
          -1.298757791519165,
          -5.286768913269043,
          -1.5983206033706665,
          -20.65484046936035,
          -2.7294600009918213,
          -19.655460357666016,
          -2.590268135070801,
          -4.792226314544678,
          -2.401930809020996,
          -6.15053129196167,
          -1.7683552503585815,
          2.344571113586426,
          -2.0059561729431152,
          -5.1461005210876465,
          1.2671478986740112,
          -0.5702804923057556,
          -5.804749488830566,
          7.712850570678711,
          -5.665328025817871,
          12.967294692993164,
          -3.453298330307007,
          -0.9928997159004211,
          -27.02098846435547,
          -3.537806987762451,
          -24.254905700683594,
          -4.253506183624268,
          -27.381887435913086,
          1.871212363243103,
          -24.820472717285156,
          -1.290986180305481,
          -3.079340696334839,
          8.139278411865234
         ],
         "xaxis": "x",
         "y": [
          -26.175798416137695,
          0.2778891921043396,
          -23.345497131347656,
          -28.42430305480957,
          -27.806320190429688,
          -28.886795043945312,
          -26.284894943237305,
          -31.686677932739258,
          -27.136428833007812,
          -29.594619750976562,
          -30.960397720336914,
          -23.17989158630371,
          -34.75022888183594,
          -28.972137451171875,
          -26.579044342041016,
          -28.082868576049805,
          -33.31736373901367,
          -29.41691017150879,
          -26.33067512512207,
          -25.144044876098633,
          -25.20620346069336,
          -27.28814697265625,
          -22.742795944213867,
          -24.584617614746094,
          -22.86078453063965,
          -4.928520202636719,
          -32.90550994873047,
          -32.40044403076172,
          -27.324554443359375,
          -28.76993179321289,
          -25.49524688720703,
          -32.76960372924805,
          -5.790468692779541,
          -4.327556133270264,
          -23.112995147705078,
          -2.060720920562744,
          -26.803815841674805,
          -6.4975104331970215,
          -1.3567018508911133,
          -3.6605117321014404,
          -34.73183822631836,
          -33.90531921386719,
          -3.302412986755371,
          -33.926273345947266,
          -22.2580623626709,
          -16.217973709106445,
          -16.603979110717773,
          -22.201679229736328,
          -3.4178216457366943,
          -28.43393325805664,
          -2.500164031982422,
          -6.214110851287842,
          -22.461322784423828,
          -23.776702880859375,
          -21.866121292114258,
          -28.270221710205078,
          -18.95193862915039,
          -22.185848236083984,
          -26.57315444946289,
          -6.9434003829956055,
          -22.076467514038086,
          -5.930052757263184,
          -27.155494689941406,
          -33.538291931152344,
          -3.318629503250122,
          -27.075101852416992,
          -2.780974864959717,
          -15.528188705444336,
          -19.509408950805664,
          -14.790559768676758,
          -23.903644561767578,
          -19.98352813720703,
          -13.714872360229492,
          -22.30057144165039,
          -18.698442459106445,
          -23.860837936401367,
          -23.020498275756836,
          -35.05679702758789,
          -18.643817901611328,
          -22.3745174407959,
          -16.354095458984375,
          -14.262943267822266,
          -15.356077194213867,
          -31.785680770874023,
          -27.9541072845459,
          -23.72629165649414,
          -16.352962493896484,
          -14.258028984069824,
          -14.198439598083496,
          -18.999603271484375,
          -24.274147033691406,
          -18.79771614074707,
          -29.784883499145508,
          -23.539331436157227,
          -31.572202682495117,
          -34.8284797668457,
          -3.408137321472168,
          -3.364901065826416,
          0.08568409085273743,
          9.127092361450195,
          -5.404693603515625,
          -4.253401756286621,
          -2.960256814956665,
          -30.044527053833008,
          -36.305850982666016,
          -35.09831237792969,
          -35.60060119628906,
          -16.973400115966797,
          -7.092172145843506,
          -32.56290054321289,
          -5.966489315032959,
          -6.0152812004089355,
          -35.25910186767578,
          -25.663753509521484,
          -35.26560592651367,
          -33.35609817504883,
          -33.91726303100586,
          0.242009699344635,
          -33.64037322998047,
          -34.3380012512207,
          -3.473876714706421,
          -31.296539306640625,
          -25.249025344848633,
          -4.884012222290039,
          -30.432519912719727,
          -27.349061965942383,
          -4.509044170379639,
          -30.990642547607422,
          -33.3448486328125,
          -26.50167465209961,
          -23.603485107421875,
          -26.911563873291016,
          -32.83715057373047,
          -4.137667655944824,
          -31.438486099243164,
          -2.4797613620758057,
          -26.612083435058594,
          -5.3482208251953125,
          -31.688030242919922,
          -23.836973190307617,
          -31.345197677612305,
          -25.614566802978516,
          -3.4312729835510254,
          -32.806983947753906,
          -6.095925807952881,
          -30.557252883911133,
          -26.110382080078125,
          -4.678606986999512,
          -26.4292049407959,
          -33.65554428100586,
          -26.00277328491211,
          -18.851787567138672,
          -6.259161949157715,
          -29.996793746948242,
          -3.9550106525421143,
          -18.65935516357422,
          -1.7870405912399292,
          -19.799854278564453,
          -24.001943588256836,
          -18.915903091430664,
          -3.303428888320923,
          -24.366744995117188,
          -18.708824157714844,
          -2.5235068798065186,
          -18.968441009521484,
          -24.774797439575195,
          -24.830976486206055,
          -17.978103637695312,
          -23.461570739746094,
          -5.846875190734863,
          -22.177722930908203,
          -31.123470306396484,
          -22.476947784423828,
          -28.378555297851562,
          -29.04234504699707,
          -28.136625289916992,
          -26.50571060180664,
          -25.093769073486328,
          -27.908536911010742,
          -25.919645309448242,
          -25.412628173828125,
          -33.14850616455078,
          -25.304372787475586,
          -25.139562606811523,
          -29.442424774169922,
          -29.07940101623535,
          -28.90268898010254,
          -30.179607391357422,
          -27.795015335083008,
          -27.322383880615234,
          -32.67964553833008,
          -28.718231201171875,
          -34.25715255737305,
          -30.50061798095703,
          -2.6581315994262695,
          -21.32512664794922,
          -30.021516799926758,
          -31.497785568237305,
          -6.076812744140625,
          -31.463796615600586,
          -25.67647933959961,
          -6.403830051422119,
          -33.64543533325195,
          -28.78896713256836,
          -6.891765117645264,
          -31.131614685058594,
          -30.33391571044922,
          -25.57923698425293,
          -25.696090698242188,
          -25.480976104736328,
          -32.87543487548828,
          -3.9004504680633545,
          -31.77831268310547,
          -4.049882411956787,
          -24.383869171142578,
          -31.524356842041016,
          -26.245817184448242,
          -31.637285232543945,
          -6.231597423553467,
          -32.63998031616211,
          -5.87799596786499,
          -24.345224380493164,
          -31.390424728393555,
          -27.165029525756836,
          -5.525016784667969,
          -29.976608276367188,
          -4.563372611999512,
          -33.08079528808594,
          -3.9009628295898438,
          -30.652502059936523,
          -29.65821075439453,
          -27.19786834716797,
          -29.918800354003906,
          -27.42937660217285,
          -34.47147750854492,
          -0.7576041221618652,
          -32.18552780151367,
          -16.371797561645508,
          -27.751155853271484,
          -27.669225692749023,
          -23.05095672607422,
          -27.306013107299805,
          -22.85940170288086,
          -26.709705352783203,
          -22.83453941345215,
          -26.560592651367188,
          -23.27173614501953,
          -26.767942428588867,
          -23.97662353515625,
          -0.4778750240802765
         ],
         "yaxis": "y"
        },
        {
         "hovertemplate": "color=9<br>x=%{x}<br>y=%{y}<extra></extra>",
         "legendgroup": "9",
         "marker": {
          "color": "#19d3f3",
          "size": 12,
          "symbol": "circle"
         },
         "mode": "markers",
         "name": "9",
         "showlegend": true,
         "type": "scattergl",
         "x": [
          -50.47531509399414,
          -55.17204666137695,
          -49.71019744873047,
          -54.50360107421875,
          -50.70625305175781,
          -53.8273811340332,
          -50.7302360534668,
          -65.94036102294922,
          -50.208553314208984,
          -52.39548873901367,
          -48.80470657348633,
          -49.059574127197266,
          -58.3131103515625,
          -57.47505569458008,
          -52.44679260253906,
          -64.52220916748047,
          -65.01992797851562,
          -53.13034439086914,
          -65.04119110107422,
          -63.85171127319336,
          -65.83509826660156,
          -54.00556182861328,
          -56.66489028930664,
          -58.763427734375,
          -60.4744873046875,
          -61.083560943603516,
          -64.72096252441406,
          -60.050716400146484,
          -59.85364532470703,
          -63.47409439086914,
          -63.27412033081055,
          -63.04250717163086,
          -53.077335357666016,
          -60.24428939819336,
          -60.112422943115234,
          -61.688472747802734,
          -63.982784271240234,
          -55.99816131591797,
          -56.43968963623047,
          -56.395267486572266,
          -57.071407318115234,
          -54.37860107421875,
          -56.43632888793945,
          -56.11567687988281,
          -56.633296966552734,
          -52.52368927001953,
          -57.67770004272461,
          -57.779544830322266,
          -55.797637939453125,
          -52.91238784790039,
          -53.34115982055664,
          -53.76873016357422,
          -51.54120635986328,
          57.82313919067383,
          15.351055145263672,
          -49.810340881347656,
          -51.61860656738281,
          -52.40614700317383,
          -52.6466178894043,
          57.38072967529297,
          -51.62334442138672,
          -49.51982879638672,
          -52.970706939697266,
          -52.4039421081543,
          -50.9422492980957,
          -64.23920440673828,
          -63.52790832519531,
          -63.17658996582031,
          -64.05502319335938,
          -65.85635375976562,
          -61.19218826293945,
          -63.05643844604492,
          -62.463233947753906,
          -62.6107063293457,
          -51.04084014892578,
          -60.61083984375,
          -51.45725631713867,
          -51.60109329223633,
          -54.60961151123047,
          25.093971252441406,
          -56.8515510559082,
          -56.322227478027344,
          -53.569828033447266,
          -55.32290267944336,
          -56.28535079956055,
          -54.46181869506836,
          -57.61467742919922,
          -57.97932052612305,
          -56.42702865600586,
          -54.315547943115234,
          -63.142616271972656,
          -62.55866622924805,
          -63.72005081176758,
          -61.3632698059082,
          -60.23929214477539,
          -62.71113204956055,
          -59.87166213989258,
          -60.22786331176758,
          -62.135276794433594,
          -61.53653335571289,
          -60.795448303222656,
          -60.45658493041992,
          -60.27204132080078,
          -58.6959228515625,
          -60.75868606567383,
          -57.587432861328125,
          -60.9247932434082,
          -54.65518569946289,
          -51.98656463623047,
          -65.2074966430664,
          -61.52776336669922,
          -63.00877380371094,
          -51.00713348388672,
          -65.07408905029297,
          -61.90735626220703,
          -49.02876663208008,
          -61.460113525390625,
          -60.25872039794922,
          -51.15519332885742,
          -61.39750289916992,
          -62.70591735839844,
          -57.82883834838867,
          -61.43627166748047,
          -53.60004425048828,
          -53.24332046508789,
          -60.367862701416016,
          -61.01066970825195,
          -61.31901168823242,
          -53.8734245300293,
          -60.95287322998047,
          -57.93857955932617,
          -58.18805694580078,
          -61.386474609375,
          -60.91511535644531,
          -56.65822982788086,
          -56.985233306884766,
          -57.681358337402344,
          -56.43704605102539,
          -52.062705993652344,
          -58.44373321533203,
          -61.30534744262695,
          -58.79294967651367,
          -59.9678840637207,
          -58.72399139404297,
          -57.95256042480469,
          -57.997013092041016,
          -59.63304138183594,
          -54.15983963012695,
          -58.52565002441406,
          -59.593257904052734,
          -63.220802307128906,
          -59.07007598876953,
          -57.7365837097168,
          -57.322021484375,
          -57.24250793457031,
          -57.30473327636719,
          -60.56966781616211,
          -56.215118408203125,
          -49.41611099243164,
          -56.261688232421875,
          -57.270240783691406,
          -53.88249588012695,
          -53.67325210571289,
          -57.546531677246094,
          -57.42399597167969,
          -54.8682975769043,
          -59.489723205566406,
          -53.37912368774414,
          -52.069637298583984,
          -54.718326568603516,
          -57.260948181152344,
          -55.42300796508789,
          -55.99368667602539,
          -56.7309684753418,
          -48.75581359863281,
          -56.353546142578125,
          -65.97059631347656,
          -49.78533172607422,
          -50.977378845214844,
          -50.6701774597168,
          -50.10385513305664,
          -57.46405029296875
         ],
         "xaxis": "x",
         "y": [
          5.29712438583374,
          9.678863525390625,
          4.806368827819824,
          8.139464378356934,
          4.365259647369385,
          3.962923288345337,
          5.180897235870361,
          -3.8942854404449463,
          5.280822277069092,
          6.065293788909912,
          2.2337920665740967,
          6.76096248626709,
          -2.7805016040802,
          6.196124076843262,
          5.796848297119141,
          -4.140035152435303,
          -2.6235158443450928,
          4.921002388000488,
          -2.567838430404663,
          -3.370272636413574,
          -3.9820117950439453,
          8.876001358032227,
          0.49011632800102234,
          -5.496731281280518,
          -3.4054625034332275,
          -1.9672174453735352,
          -4.4409260749816895,
          1.4867850542068481,
          -6.629580974578857,
          -0.739937961101532,
          -0.6657105088233948,
          1.9055041074752808,
          9.145048141479492,
          -4.476718902587891,
          1.4912770986557007,
          -2.428361654281616,
          -0.19019563496112823,
          1.277286410331726,
          1.9229505062103271,
          3.5444889068603516,
          2.371608018875122,
          -4.040348052978516,
          3.7461631298065186,
          1.8156516551971436,
          3.6006433963775635,
          2.6472280025482178,
          5.533034801483154,
          3.4870848655700684,
          4.124639987945557,
          1.4078291654586792,
          -2.7938525676727295,
          0.040049370378255844,
          0.3268192708492279,
          -7.923958778381348,
          3.5861263275146484,
          0.23623844981193542,
          -1.6313985586166382,
          1.1225961446762085,
          -2.843269109725952,
          -8.041025161743164,
          -1.656744122505188,
          0.5248003005981445,
          1.335742473602295,
          1.7894542217254639,
          0.16302992403507233,
          -1.251672625541687,
          -1.7249306440353394,
          -2.1055829524993896,
          -3.74416446685791,
          -3.4395949840545654,
          -4.307497501373291,
          1.732684850692749,
          -5.848306179046631,
          -1.886231780052185,
          9.041757583618164,
          -4.332561492919922,
          8.57827377319336,
          8.857060432434082,
          -7.641332149505615,
          5.32634162902832,
          4.461399555206299,
          -6.378301620483398,
          5.320587158203125,
          3.382779359817505,
          -6.438197135925293,
          -7.757627010345459,
          -1.1895779371261597,
          4.300520896911621,
          -3.8558318614959717,
          7.833920955657959,
          -3.834254026412964,
          -4.209182262420654,
          -5.073232173919678,
          -5.184296607971191,
          -1.4444804191589355,
          -4.535874366760254,
          -1.1924076080322266,
          -2.104426622390747,
          -3.702817916870117,
          -3.9083266258239746,
          2.7588679790496826,
          0.5016421675682068,
          -3.8327040672302246,
          -4.117959976196289,
          -5.002453327178955,
          -5.429060935974121,
          -0.527916669845581,
          8.969213485717773,
          3.267826795578003,
          -0.743026077747345,
          3.930976152420044,
          3.043588399887085,
          7.844165802001953,
          -0.5307950377464294,
          1.6839587688446045,
          4.471268177032471,
          0.13832467794418335,
          -5.659910202026367,
          1.4904285669326782,
          2.902509927749634,
          3.4019649028778076,
          5.167460918426514,
          3.950256586074829,
          3.366654634475708,
          3.3087685108184814,
          3.852499485015869,
          4.584403038024902,
          4.688198089599609,
          2.3308587074279785,
          5.5427021980285645,
          8.892640113830566,
          9.092645645141602,
          6.942455291748047,
          6.573922157287598,
          5.079934597015381,
          4.708815574645996,
          4.811241626739502,
          5.387364864349365,
          -2.969942331314087,
          7.3877105712890625,
          6.927279472351074,
          8.4632568359375,
          8.158533096313477,
          4.659055233001709,
          -4.662423133850098,
          -5.226125717163086,
          -5.157752990722656,
          -3.2141571044921875,
          -5.981259346008301,
          -3.7959561347961426,
          -5.6667962074279785,
          -1.6020522117614746,
          -4.677363395690918,
          -4.360161781311035,
          -3.227996826171875,
          -3.309641122817993,
          2.598493814468384,
          7.522220134735107,
          7.164623260498047,
          6.340656280517578,
          8.121439933776855,
          6.486920356750488,
          7.212913990020752,
          7.538364410400391,
          8.048345565795898,
          7.467971324920654,
          6.889404773712158,
          7.607415676116943,
          4.8588175773620605,
          -0.9678935408592224,
          -0.9475404024124146,
          -1.2254325151443481,
          -1.6874405145645142,
          -0.4771111309528351,
          3.7364084720611572,
          -1.8280582427978516,
          -4.828701019287109,
          3.752103567123413,
          6.805362701416016,
          2.36712908744812,
          6.2271952629089355,
          -2.6109256744384766
         ],
         "yaxis": "y"
        },
        {
         "hovertemplate": "color=4<br>x=%{x}<br>y=%{y}<extra></extra>",
         "legendgroup": "4",
         "marker": {
          "color": "#FF6692",
          "size": 12,
          "symbol": "circle"
         },
         "mode": "markers",
         "name": "4",
         "showlegend": true,
         "type": "scattergl",
         "x": [
          21.25785255432129,
          13.680916786193848,
          10.517258644104004,
          11.384187698364258,
          21.231779098510742,
          11.479049682617188,
          18.010009765625,
          13.298384666442871,
          18.553442001342773,
          9.049851417541504,
          14.530160903930664,
          20.75887680053711,
          12.74699592590332,
          17.111284255981445,
          15.216594696044922,
          18.706575393676758,
          19.21675682067871,
          22.182044982910156,
          11.212774276733398,
          10.252357482910156,
          19.133893966674805,
          23.772905349731445,
          25.782106399536133,
          23.206838607788086,
          14.193533897399902,
          26.64069175720215,
          21.865074157714844,
          22.698348999023438,
          13.256498336791992,
          20.079866409301758,
          2.7381696701049805,
          8.105718612670898,
          20.699129104614258,
          9.258772850036621,
          9.922926902770996,
          8.176433563232422,
          1.8568081855773926,
          2.6558709144592285,
          13.59897518157959,
          14.149832725524902,
          2.441563129425049,
          20.71793556213379,
          2.238555669784546,
          21.490060806274414,
          14.18457317352295,
          10.917998313903809,
          2.2164578437805176,
          3.5520968437194824,
          3.0832600593566895,
          2.811202049255371,
          2.245532274246216,
          5.269990921020508,
          3.2779037952423096,
          2.2149829864501953,
          2.1213130950927734,
          4.699080944061279,
          2.242978811264038,
          2.6851048469543457,
          2.732741594314575,
          4.4838690757751465,
          25.93581771850586,
          -11.233914375305176,
          20.324817657470703,
          9.85543441772461,
          14.592830657958984,
          19.030529022216797,
          23.106054306030273,
          9.058592796325684,
          21.114646911621094,
          19.738971710205078,
          19.4251651763916,
          18.987852096557617,
          24.178712844848633,
          19.370609283447266,
          -11.824393272399902,
          19.406469345092773,
          9.103078842163086,
          6.35821533203125,
          6.739844799041748,
          6.677634239196777,
          9.860551834106445,
          9.083582878112793,
          9.372787475585938,
          6.649362087249756,
          8.98104476928711,
          -7.322763919830322,
          9.006755828857422,
          -7.97626256942749,
          8.459925651550293,
          18.756450653076172,
          -7.731954574584961,
          13.151843070983887,
          19.511720657348633,
          18.401784896850586,
          23.734106063842773,
          12.485627174377441,
          23.76093101501465,
          17.686229705810547,
          17.48076629638672,
          37.422183990478516,
          13.765135765075684,
          23.40143394470215,
          19.029924392700195,
          17.751798629760742,
          33.969818115234375,
          24.85666275024414,
          10.211506843566895,
          12.169404029846191,
          9.852270126342773,
          12.839546203613281,
          8.200068473815918,
          12.335005760192871,
          10.586289405822754,
          13.40329647064209,
          10.572376251220703,
          9.513376235961914,
          13.221424102783203,
          11.333189010620117,
          15.9258451461792,
          3.6839661598205566,
          13.247522354125977,
          15.887612342834473,
          14.91629695892334,
          14.54957389831543,
          15.835902214050293,
          16.01024627685547,
          -10.633774757385254,
          18.9013614654541,
          16.061094284057617,
          6.8618998527526855,
          14.041952133178711,
          20.094894409179688,
          18.21088218688965,
          16.134029388427734,
          22.48943328857422,
          14.32479476928711,
          8.720001220703125,
          23.20399284362793,
          21.569814682006836,
          21.767553329467773,
          19.856069564819336,
          4.635046005249023,
          22.671722412109375,
          23.221704483032227,
          24.098560333251953,
          19.85521697998047,
          23.308059692382812,
          10.34034252166748,
          13.87311840057373,
          24.196697235107422,
          12.112177848815918,
          16.54949378967285,
          11.534722328186035,
          17.54620933532715,
          16.498987197875977,
          23.926105499267578,
          21.948137283325195,
          23.72880744934082,
          12.451162338256836,
          21.29971694946289,
          11.188396453857422,
          18.297609329223633,
          9.250480651855469,
          8.37076187133789,
          9.159696578979492,
          11.040213584899902,
          10.871615409851074,
          7.690449237823486,
          9.573023796081543,
          11.023645401000977,
          11.996490478515625,
          10.774624824523926,
          8.819933891296387,
          8.791494369506836,
          9.04703426361084,
          -1.9215518236160278,
          -2.7491555213928223,
          25.732919692993164,
          21.61928367614746,
          25.457426071166992,
          20.774473190307617,
          25.147747039794922,
          22.63443374633789,
          23.168359756469727,
          24.75288200378418,
          1.4602993726730347,
          25.31300926208496,
          17.846569061279297,
          22.004375457763672,
          25.541040420532227,
          7.467979431152344,
          10.74204158782959,
          20.37997817993164,
          12.053550720214844,
          20.214092254638672,
          10.055611610412598,
          10.214734077453613,
          21.957395553588867,
          20.22871971130371,
          18.500991821289062,
          22.22484016418457,
          20.885089874267578,
          15.981362342834473,
          24.70747184753418,
          14.273608207702637,
          22.02638816833496
         ],
         "xaxis": "x",
         "y": [
          36.07759475708008,
          39.968692779541016,
          45.06172561645508,
          44.56781768798828,
          37.158138275146484,
          43.352752685546875,
          9.904932022094727,
          40.54673385620117,
          39.350154876708984,
          45.570194244384766,
          37.354801177978516,
          -4.688747406005859,
          41.31821823120117,
          39.969337463378906,
          41.04444122314453,
          43.505226135253906,
          43.833675384521484,
          43.240821838378906,
          43.13895034790039,
          39.03116989135742,
          42.17451858520508,
          44.73229217529297,
          37.525535583496094,
          44.434932708740234,
          42.13935470581055,
          -11.010442733764648,
          42.12923812866211,
          44.424007415771484,
          43.956809997558594,
          40.15289306640625,
          29.41082191467285,
          40.075706481933594,
          40.38197326660156,
          38.5744514465332,
          42.237022399902344,
          40.44184112548828,
          30.163692474365234,
          29.540803909301758,
          37.298187255859375,
          38.022674560546875,
          30.356143951416016,
          43.2833137512207,
          29.748863220214844,
          44.38294982910156,
          38.05107879638672,
          40.322967529296875,
          30.52834701538086,
          34.98448944091797,
          35.17705154418945,
          35.51892852783203,
          35.390953063964844,
          34.41181564331055,
          35.05557632446289,
          36.009952545166016,
          35.755767822265625,
          34.66835021972656,
          31.97133445739746,
          35.91689682006836,
          35.058223724365234,
          34.68132019042969,
          37.111576080322266,
          58.06190872192383,
          37.26841354370117,
          42.51689910888672,
          40.645362854003906,
          37.56224060058594,
          37.52861022949219,
          42.29443359375,
          38.62977600097656,
          37.94574737548828,
          41.438987731933594,
          39.298248291015625,
          40.782630920410156,
          37.38670349121094,
          59.892826080322266,
          39.03776168823242,
          42.512428283691406,
          44.81327438354492,
          45.21809387207031,
          45.22152328491211,
          43.590065002441406,
          43.1553955078125,
          44.18190002441406,
          44.91892623901367,
          44.18042755126953,
          53.45072555541992,
          44.37646484375,
          53.24300765991211,
          45.031124114990234,
          38.57219696044922,
          53.34734344482422,
          38.20863342285156,
          40.91081237792969,
          41.60325241088867,
          42.67711639404297,
          38.676998138427734,
          44.03434371948242,
          42.15464401245117,
          42.76530838012695,
          6.371825218200684,
          43.365570068359375,
          43.40361022949219,
          42.95827865600586,
          42.41346740722656,
          5.10476541519165,
          37.492977142333984,
          35.31114959716797,
          34.26473617553711,
          35.78551483154297,
          34.85930633544922,
          37.086517333984375,
          34.56504821777344,
          34.52513122558594,
          38.91554641723633,
          34.607444763183594,
          35.61021423339844,
          35.48717498779297,
          35.93192672729492,
          35.4678955078125,
          11.756012916564941,
          35.696231842041016,
          34.789833068847656,
          33.801109313964844,
          36.14275360107422,
          34.15913009643555,
          32.53078842163086,
          52.00725173950195,
          34.92784881591797,
          32.346092224121094,
          41.899192810058594,
          35.256649017333984,
          35.806793212890625,
          34.94731903076172,
          33.94561004638672,
          37.427101135253906,
          42.385841369628906,
          42.596351623535156,
          38.868743896484375,
          37.400611877441406,
          -5.77429723739624,
          39.23355484008789,
          13.568123817443848,
          36.60158920288086,
          38.515045166015625,
          40.21168899536133,
          40.37983703613281,
          36.939239501953125,
          43.038177490234375,
          44.88609313964844,
          39.465484619140625,
          38.949092864990234,
          38.19838333129883,
          38.62007522583008,
          37.93441390991211,
          38.32407760620117,
          37.68864440917969,
          37.71778106689453,
          42.94522476196289,
          40.16370391845703,
          41.85727310180664,
          41.51028823852539,
          38.03925323486328,
          37.345481872558594,
          37.91092300415039,
          37.101200103759766,
          37.44064712524414,
          36.56470489501953,
          38.66014099121094,
          38.35694122314453,
          38.2819709777832,
          37.58120346069336,
          37.54702377319336,
          36.23076248168945,
          38.24311065673828,
          36.81427764892578,
          -4.212416172027588,
          -5.169637680053711,
          37.09146499633789,
          40.23748779296875,
          40.67183303833008,
          -4.800230979919434,
          40.982147216796875,
          -4.301001071929932,
          40.24171829223633,
          43.176422119140625,
          29.825439453125,
          39.91456985473633,
          40.43998718261719,
          42.177528381347656,
          41.78709411621094,
          19.30772590637207,
          7.749927043914795,
          38.0152473449707,
          42.61288070678711,
          37.92243957519531,
          33.83491516113281,
          43.66851043701172,
          -6.047717094421387,
          42.1059684753418,
          45.166114807128906,
          43.82065200805664,
          44.714637756347656,
          39.785701751708984,
          37.93314743041992,
          43.034976959228516,
          42.816978454589844
         ],
         "yaxis": "y"
        },
        {
         "hovertemplate": "color=6<br>x=%{x}<br>y=%{y}<extra></extra>",
         "legendgroup": "6",
         "marker": {
          "color": "#B6E880",
          "size": 12,
          "symbol": "circle"
         },
         "mode": "markers",
         "name": "6",
         "showlegend": true,
         "type": "scattergl",
         "x": [
          -17.63113784790039,
          -19.331005096435547,
          -22.781770706176758,
          -17.256977081298828,
          -18.263715744018555,
          -18.48954200744629,
          -18.676698684692383,
          17.759689331054688,
          17.56410026550293,
          -18.90304183959961,
          -16.615863800048828,
          -17.071874618530273,
          -17.276487350463867,
          -20.36334228515625,
          -17.830541610717773,
          -18.361629486083984,
          -19.46940040588379,
          -18.966524124145508,
          -19.798717498779297,
          -16.63296890258789,
          -19.15057373046875,
          -15.651154518127441,
          -18.26702117919922,
          -18.621383666992188,
          -17.212961196899414,
          -18.528888702392578,
          -25.297855377197266,
          -15.907638549804688,
          -13.823661804199219,
          -14.685388565063477,
          -22.073732376098633,
          -20.611207962036133,
          -20.355260848999023,
          -20.255477905273438,
          -20.38165855407715,
          -19.798206329345703,
          -19.94392967224121,
          -19.776836395263672,
          -22.81838607788086,
          -18.229475021362305,
          -20.592844009399414,
          -20.694385528564453,
          -20.549163818359375,
          -22.890108108520508,
          13.821451187133789,
          -14.486610412597656,
          -15.956400871276855,
          -22.369386672973633,
          -15.263284683227539,
          -16.354694366455078,
          -15.88171672821045,
          -15.78266716003418,
          -15.73813533782959,
          -16.722461700439453,
          -16.327028274536133,
          -16.004928588867188,
          -15.233869552612305,
          -14.859578132629395,
          -14.62231159210205,
          -18.918310165405273,
          -4.339710235595703,
          -4.103530406951904,
          -18.46194839477539,
          -18.206329345703125,
          -18.582521438598633,
          -23.77977180480957,
          -18.64202117919922,
          -21.123987197875977,
          -18.572404861450195,
          -23.08492660522461,
          -22.695608139038086,
          -21.090456008911133,
          -20.997819900512695,
          -21.39408302307129,
          -3.9525139331817627,
          -22.876522064208984,
          -22.844175338745117,
          -22.740442276000977,
          -23.39185333251953,
          -21.038043975830078,
          -21.99449920654297,
          -21.788469314575195,
          -23.298137664794922,
          -57.36467742919922,
          -15.621421813964844,
          -12.40591049194336,
          -12.298722267150879,
          -12.697175979614258,
          -13.513920783996582,
          -25.5938663482666
         ],
         "xaxis": "x",
         "y": [
          24.816953659057617,
          24.070554733276367,
          48.61848449707031,
          23.6467227935791,
          22.199169158935547,
          22.98169708251953,
          21.218730926513672,
          10.035470008850098,
          10.421309471130371,
          22.915790557861328,
          22.201438903808594,
          23.66680145263672,
          25.976306915283203,
          27.84147071838379,
          26.47870445251465,
          27.614290237426758,
          26.040102005004883,
          27.434690475463867,
          25.04557991027832,
          25.237445831298828,
          26.112756729125977,
          25.642528533935547,
          27.62479019165039,
          24.810321807861328,
          25.1661434173584,
          25.308815002441406,
          43.36979293823242,
          25.531700134277344,
          32.931396484375,
          32.823429107666016,
          26.229597091674805,
          21.817039489746094,
          23.44875717163086,
          24.33857536315918,
          21.535921096801758,
          24.007558822631836,
          21.139785766601562,
          20.534982681274414,
          47.85926055908203,
          23.573171615600586,
          22.676740646362305,
          22.050827026367188,
          23.96929359436035,
          47.07969665527344,
          5.993344306945801,
          32.24876022338867,
          32.843833923339844,
          46.668766021728516,
          32.28193283081055,
          32.84564971923828,
          29.95431900024414,
          32.531368255615234,
          32.056636810302734,
          31.544755935668945,
          31.47748565673828,
          33.344383239746094,
          32.82699203491211,
          31.978639602661133,
          31.10647201538086,
          20.215402603149414,
          -4.054009437561035,
          -4.250115394592285,
          48.19820785522461,
          21.24213409423828,
          21.84708023071289,
          25.91983413696289,
          28.175752639770508,
          24.408462524414062,
          21.51580810546875,
          25.80060386657715,
          26.845142364501953,
          25.418453216552734,
          27.713151931762695,
          28.133586883544922,
          -6.35546350479126,
          27.415552139282227,
          27.463369369506836,
          28.07756233215332,
          26.032997131347656,
          25.47893524169922,
          27.558998107910156,
          28.24631690979004,
          27.11577033996582,
          9.734127044677734,
          31.55160903930664,
          31.797883987426758,
          31.903902053833008,
          31.786540985107422,
          32.92428207397461,
          50.29399490356445
         ],
         "yaxis": "y"
        },
        {
         "hovertemplate": "color=8<br>x=%{x}<br>y=%{y}<extra></extra>",
         "legendgroup": "8",
         "marker": {
          "color": "#FF97FF",
          "size": 12,
          "symbol": "circle"
         },
         "mode": "markers",
         "name": "8",
         "showlegend": true,
         "type": "scattergl",
         "x": [
          45.89316940307617,
          43.632747650146484,
          48.60136032104492,
          41.59000778198242,
          47.27759552001953,
          44.23504638671875,
          37.8252067565918,
          42.08064651489258,
          43.72743225097656,
          50.321502685546875,
          50.6051139831543,
          37.504295349121094,
          42.90483474731445,
          44.691776275634766,
          50.7065315246582,
          50.507415771484375,
          42.01510238647461,
          44.76939392089844,
          45.108028411865234,
          44.51824951171875,
          46.63249206542969,
          43.493648529052734,
          44.20811080932617,
          45.92091751098633,
          43.87609100341797,
          45.49005889892578,
          43.807273864746094,
          44.16470718383789,
          45.46507263183594,
          46.69741439819336,
          45.4550895690918,
          46.67039108276367,
          49.575496673583984,
          47.10761642456055,
          46.73097229003906,
          46.659767150878906,
          55.51407241821289,
          46.320556640625,
          47.711177825927734,
          47.78919219970703,
          50.60861587524414,
          48.067962646484375,
          49.19866943359375,
          55.70246124267578,
          42.836483001708984,
          56.112789154052734,
          40.174076080322266,
          57.02106857299805,
          40.42637634277344,
          57.02010726928711,
          41.62678527832031,
          41.2077522277832,
          42.795494079589844,
          57.20331573486328,
          41.24076843261719,
          41.596614837646484,
          45.23169708251953,
          57.81986999511719,
          49.13109588623047,
          57.1483039855957,
          58.21746826171875,
          56.19118881225586,
          55.190189361572266,
          40.790401458740234,
          43.892372131347656,
          41.27535629272461,
          40.764869689941406,
          40.13071823120117,
          40.51121139526367,
          38.66881561279297,
          40.55961227416992,
          46.840579986572266,
          40.07204818725586,
          39.68317794799805,
          40.756866455078125,
          46.85235595703125,
          47.19742202758789,
          47.13713455200195,
          43.2447395324707,
          50.204158782958984,
          46.428401947021484,
          56.37803649902344,
          50.428077697753906,
          48.0885124206543,
          49.609527587890625,
          25.15481185913086,
          48.751556396484375,
          41.327091217041016,
          56.55017852783203,
          44.8842658996582,
          56.202392578125,
          51.40009307861328,
          56.907283782958984,
          45.25813293457031,
          54.94894790649414,
          45.90371322631836,
          44.19985580444336,
          55.36192321777344,
          44.712799072265625,
          54.993324279785156,
          43.61802673339844,
          44.11725997924805,
          55.156124114990234,
          47.29719924926758,
          56.53290557861328,
          55.53193664550781,
          54.9301872253418,
          54.69873046875,
          55.6644287109375,
          44.05176544189453,
          44.070045471191406,
          48.85793685913086,
          47.810272216796875,
          41.90650939941406,
          43.076011657714844,
          41.69498825073242,
          43.17768096923828,
          46.226924896240234,
          45.61526870727539,
          48.59595489501953,
          41.95220947265625,
          43.083003997802734,
          10.481828689575195,
          47.322322845458984,
          44.250823974609375,
          40.25777053833008,
          39.656761169433594,
          40.58840560913086,
          45.97834014892578,
          43.34897232055664,
          42.59654998779297,
          37.74772262573242,
          42.97256088256836,
          46.979583740234375,
          25.786100387573242,
          45.0477294921875,
          42.37434387207031,
          40.89718246459961,
          43.97958755493164,
          45.16172409057617,
          43.117740631103516,
          43.434326171875,
          42.416160583496094,
          49.826324462890625,
          51.43768310546875,
          49.41242218017578,
          48.31601333618164,
          49.7093391418457,
          50.2822151184082,
          50.8809814453125,
          49.745086669921875,
          50.1782341003418,
          51.194576263427734,
          48.025177001953125,
          43.9696044921875,
          50.853965759277344,
          43.322349548339844,
          46.47828674316406,
          45.52191162109375,
          41.451446533203125,
          47.638572692871094,
          51.00978088378906,
          47.07644271850586,
          41.19782638549805,
          39.241031646728516,
          51.236305236816406,
          49.45050811767578,
          50.93198776245117,
          52.023597717285156,
          39.89360046386719,
          39.835968017578125,
          39.28812789916992,
          48.42707443237305,
          49.49467849731445,
          51.63794708251953
         ],
         "xaxis": "x",
         "y": [
          2.3015058040618896,
          5.612753868103027,
          10.720396041870117,
          6.7625732421875,
          12.450815200805664,
          13.652966499328613,
          7.630510330200195,
          14.774214744567871,
          13.478232383728027,
          12.108023643493652,
          8.83134651184082,
          7.959838390350342,
          14.149027824401855,
          13.857285499572754,
          12.382257461547852,
          12.75964069366455,
          15.133974075317383,
          9.361589431762695,
          9.331991195678711,
          10.967554092407227,
          12.81370735168457,
          12.562232971191406,
          9.099203109741211,
          10.181366920471191,
          9.642655372619629,
          12.349048614501953,
          11.879068374633789,
          10.303631782531738,
          12.47093391418457,
          9.81530475616455,
          3.390138864517212,
          0.7849417924880981,
          4.601871013641357,
          0.9112272262573242,
          3.81060791015625,
          2.7695159912109375,
          -6.125731468200684,
          0.31252557039260864,
          2.094515562057495,
          7.124000072479248,
          7.3709540367126465,
          7.779526233673096,
          5.777697563171387,
          -8.22413158416748,
          -1.71001398563385,
          -6.3265509605407715,
          1.7354061603546143,
          -6.913120746612549,
          1.430324912071228,
          -6.423182010650635,
          3.0947723388671875,
          3.124507188796997,
          2.5097758769989014,
          -6.100794315338135,
          3.133106231689453,
          0.8751392364501953,
          8.837578773498535,
          -7.249488353729248,
          10.252520561218262,
          -7.994748592376709,
          -7.065030097961426,
          -8.389650344848633,
          -9.342483520507812,
          2.5562589168548584,
          7.96681022644043,
          3.208087205886841,
          13.202314376831055,
          13.877276420593262,
          11.454008102416992,
          11.827169418334961,
          14.603764533996582,
          14.25955581665039,
          12.599472045898438,
          12.638580322265625,
          12.568995475769043,
          11.862576484680176,
          10.202332496643066,
          13.724990844726562,
          13.656603813171387,
          13.101490020751953,
          13.818488121032715,
          -4.717896461486816,
          7.577518463134766,
          13.960007667541504,
          13.04144287109375,
          5.407980918884277,
          13.67996883392334,
          12.115211486816406,
          -5.236314296722412,
          7.886106491088867,
          -5.010043144226074,
          10.500611305236816,
          -4.797369480133057,
          6.453113555908203,
          -7.178269386291504,
          5.543169975280762,
          -0.24264118075370789,
          -6.592906951904297,
          3.126011848449707,
          -8.66741943359375,
          0.09338998794555664,
          0.22843684256076813,
          -7.2201385498046875,
          6.681412696838379,
          -5.307637691497803,
          -7.18377685546875,
          -8.310771942138672,
          -8.380764961242676,
          -6.247806549072266,
          3.224069833755493,
          -0.7253770232200623,
          5.36388635635376,
          9.719383239746094,
          5.901177406311035,
          0.13810966908931732,
          -0.9351693987846375,
          0.3787981867790222,
          0.4741235673427582,
          4.259654998779297,
          5.3775315284729,
          5.770339488983154,
          -1.4610742330551147,
          -3.7734711170196533,
          11.283356666564941,
          6.974790573120117,
          11.004685401916504,
          7.227137088775635,
          11.975842475891113,
          12.535224914550781,
          9.253353118896484,
          9.290558815002441,
          6.348114013671875,
          10.759750366210938,
          14.258502960205078,
          6.10896635055542,
          11.947155952453613,
          9.691685676574707,
          -1.3670942783355713,
          -2.3925905227661133,
          1.430380940437317,
          0.9687446355819702,
          -0.3548407256603241,
          -0.8262501955032349,
          7.644899845123291,
          7.800604343414307,
          7.030773162841797,
          4.190570831298828,
          6.733180522918701,
          5.7188286781311035,
          5.853604316711426,
          6.416974067687988,
          5.6576948165893555,
          11.570557594299316,
          5.281262397766113,
          1.6169489622116089,
          5.7439117431640625,
          5.482831954956055,
          -0.35470470786094666,
          5.823122501373291,
          12.95419692993164,
          11.67158031463623,
          8.867116928100586,
          6.019316673278809,
          13.407490730285645,
          9.48721694946289,
          11.36835765838623,
          7.506275177001953,
          11.317651748657227,
          7.504508972167969,
          8.892736434936523,
          10.969935417175293,
          9.542603492736816,
          4.202861785888672,
          5.390867233276367,
          6.54100227355957
         ],
         "yaxis": "y"
        },
        {
         "hovertemplate": "color=2<br>x=%{x}<br>y=%{y}<extra></extra>",
         "legendgroup": "2",
         "marker": {
          "color": "#FECB52",
          "size": 12,
          "symbol": "circle"
         },
         "mode": "markers",
         "name": "2",
         "showlegend": true,
         "type": "scattergl",
         "x": [
          -27.409481048583984,
          -31.24704360961914,
          -24.259157180786133,
          -22.13722801208496,
          -22.0349178314209,
          -22.000526428222656,
          -23.92664337158203,
          -29.176315307617188,
          -29.006994247436523,
          -29.839736938476562,
          -26.927400588989258,
          -21.386539459228516,
          -28.125337600708008,
          -25.5115966796875,
          -31.001026153564453,
          -27.244930267333984,
          -30.065834045410156,
          -28.528921127319336,
          -28.0487117767334,
          -28.401447296142578,
          -30.504161834716797,
          -27.73702621459961,
          -28.2085018157959,
          -28.339555740356445,
          -27.40738296508789,
          2.569788932800293,
          -25.499446868896484,
          -23.873878479003906,
          -22.655357360839844,
          -22.15315818786621,
          -29.718719482421875,
          -22.631715774536133,
          -25.662302017211914,
          -27.68959617614746,
          -20.93482780456543,
          -22.81029510498047,
          -22.73126792907715,
          -23.42711067199707,
          -21.84864044189453,
          -23.456058502197266,
          -22.899459838867188,
          -23.503490447998047,
          -29.235403060913086,
          -22.316619873046875,
          -20.920696258544922,
          -22.31683921813965,
          -22.627586364746094,
          -23.275074005126953,
          -20.51691436767578,
          -27.26445960998535,
          -31.658248901367188,
          -31.482437133789062,
          -29.980060577392578,
          -31.982603073120117,
          -29.880727767944336,
          -31.357322692871094,
          -31.652956008911133,
          -29.55514907836914,
          -29.629989624023438,
          -31.196683883666992,
          -31.65922737121582,
          -26.181230545043945,
          -28.356834411621094,
          -28.972442626953125,
          -23.917442321777344,
          -30.132963180541992,
          -25.96006202697754,
          -26.509180068969727,
          -24.03386688232422,
          -24.83949089050293,
          -24.72821044921875,
          -29.08645248413086,
          -24.629535675048828,
          -28.470792770385742,
          -23.302780151367188,
          -23.533889770507812,
          -27.582813262939453,
          -25.39297866821289,
          -22.029142379760742,
          -27.509187698364258,
          -28.77475357055664,
          -27.455209732055664,
          -25.242206573486328,
          -26.574623107910156,
          5.750927448272705,
          -29.74083709716797,
          -29.3918514251709,
          -28.635154724121094,
          -27.774660110473633,
          -30.4305419921875,
          -29.61773681640625,
          -29.437923431396484,
          -28.955169677734375,
          -26.046045303344727,
          -24.520917892456055,
          -26.39892578125,
          6.0262651443481445,
          5.133173942565918,
          -31.112045288085938,
          -31.47803497314453,
          -29.503570556640625,
          6.028463363647461,
          -27.9531192779541,
          -14.919151306152344,
          -27.71237564086914,
          -31.957763671875,
          -28.60433578491211,
          -24.97417449951172,
          -30.066749572753906,
          -28.593406677246094,
          -29.23960304260254,
          -23.90762710571289,
          -28.67699432373047,
          -29.994953155517578,
          -30.287559509277344,
          -26.892810821533203,
          -23.412492752075195,
          -23.468595504760742,
          -28.694881439208984,
          -25.165510177612305,
          -24.36542320251465,
          -30.101701736450195,
          -31.147525787353516,
          -27.845138549804688,
          -1.6214972734451294,
          -23.514751434326172,
          -28.88522720336914,
          -30.743980407714844,
          0.36849290132522583,
          -23.3087215423584,
          -30.1175594329834,
          -29.6862735748291,
          -28.507568359375,
          -29.013973236083984,
          -26.003732681274414,
          -31.520475387573242,
          -29.019208908081055,
          -23.59967613220215,
          1.045405387878418,
          -25.88694190979004,
          -26.890642166137695,
          -12.101672172546387,
          -26.878337860107422,
          -25.27252960205078,
          -23.973678588867188,
          -26.714845657348633,
          -21.19774627685547,
          -12.136777877807617,
          -28.296119689941406
         ],
         "xaxis": "x",
         "y": [
          -10.973475456237793,
          -9.518182754516602,
          -16.97146987915039,
          -11.360940933227539,
          -11.353939056396484,
          -10.248435974121094,
          -17.437946319580078,
          -17.169389724731445,
          -16.064916610717773,
          -10.231605529785156,
          -8.075647354125977,
          -11.506576538085938,
          -7.102670192718506,
          -9.86991024017334,
          -3.9539835453033447,
          -8.693096160888672,
          -4.716209411621094,
          -5.680314064025879,
          -8.71329402923584,
          -8.01218032836914,
          -3.8274028301239014,
          -5.79793643951416,
          -6.3986077308654785,
          -5.694571495056152,
          -6.743594646453857,
          30.804277420043945,
          -8.664238929748535,
          -19.885704040527344,
          -19.39155387878418,
          -19.040966033935547,
          -12.767431259155273,
          -19.470285415649414,
          -17.089580535888672,
          -4.4309468269348145,
          -15.994820594787598,
          -13.453612327575684,
          -13.773370742797852,
          -14.246416091918945,
          -14.170114517211914,
          -14.271407127380371,
          -16.100370407104492,
          -13.827345848083496,
          -9.350722312927246,
          -14.317411422729492,
          -20.75908660888672,
          -17.78834342956543,
          -21.398334503173828,
          -21.518390655517578,
          -20.514400482177734,
          -21.403003692626953,
          -9.648724555969238,
          -9.285470962524414,
          -7.880428314208984,
          -8.83657169342041,
          -9.245824813842773,
          -19.813507080078125,
          -19.85655403137207,
          -21.779197692871094,
          -8.959857940673828,
          -7.614955902099609,
          -4.005460739135742,
          -9.787652015686035,
          -4.132218837738037,
          -4.909170627593994,
          -8.97547435760498,
          -6.9659223556518555,
          -9.365544319152832,
          -8.762201309204102,
          -8.737171173095703,
          -8.062572479248047,
          -9.9430570602417,
          -6.115980625152588,
          -11.411378860473633,
          -4.829873561859131,
          -21.018802642822266,
          -19.768951416015625,
          -12.191621780395508,
          -15.0342435836792,
          -19.848827362060547,
          -13.488410949707031,
          -12.706141471862793,
          -13.311759948730469,
          -17.298694610595703,
          -18.85775375366211,
          11.946882247924805,
          -7.9509782791137695,
          -15.743340492248535,
          -20.567697525024414,
          -11.810062408447266,
          -18.523759841918945,
          -20.643508911132812,
          -21.945816040039062,
          -4.541420936584473,
          -18.296875,
          -11.631440162658691,
          -9.996217727661133,
          10.343755722045898,
          8.654550552368164,
          -20.14929962158203,
          -8.541926383972168,
          -19.645299911499023,
          10.332244873046875,
          -3.8668274879455566,
          13.42638874053955,
          -5.457408428192139,
          -4.042479991912842,
          -8.30074405670166,
          -20.89877700805664,
          -19.138450622558594,
          -18.472339630126953,
          -17.87270736694336,
          -16.652912139892578,
          -18.67790985107422,
          -20.511709213256836,
          -15.460792541503906,
          -14.659515380859375,
          -17.328168869018555,
          -22.146587371826172,
          -19.474517822265625,
          -24.790664672851562,
          -20.63257598876953,
          -6.172306060791016,
          -6.6288161277771,
          -11.645312309265137,
          7.035562515258789,
          -6.164762496948242,
          -3.254408359527588,
          -6.2543134689331055,
          29.455503463745117,
          -6.080082893371582,
          -3.360220193862915,
          -6.032993316650391,
          -15.766716003417969,
          -11.56577205657959,
          -7.873194694519043,
          -7.051081657409668,
          -11.64056396484375,
          -6.004950046539307,
          29.61831283569336,
          -22.42784881591797,
          -21.842390060424805,
          -11.020227432250977,
          -20.380308151245117,
          -19.27727699279785,
          -17.634382247924805,
          -22.12934684753418,
          -20.605363845825195,
          -11.034355163574219,
          -22.298858642578125
         ],
         "yaxis": "y"
        }
       ],
       "layout": {
        "height": 500,
        "legend": {
         "title": {
          "text": "color"
         },
         "tracegroupgap": 0
        },
        "margin": {
         "t": 60
        },
        "template": {
         "data": {
          "bar": [
           {
            "error_x": {
             "color": "#2a3f5f"
            },
            "error_y": {
             "color": "#2a3f5f"
            },
            "marker": {
             "line": {
              "color": "#E5ECF6",
              "width": 0.5
             },
             "pattern": {
              "fillmode": "overlay",
              "size": 10,
              "solidity": 0.2
             }
            },
            "type": "bar"
           }
          ],
          "barpolar": [
           {
            "marker": {
             "line": {
              "color": "#E5ECF6",
              "width": 0.5
             },
             "pattern": {
              "fillmode": "overlay",
              "size": 10,
              "solidity": 0.2
             }
            },
            "type": "barpolar"
           }
          ],
          "carpet": [
           {
            "aaxis": {
             "endlinecolor": "#2a3f5f",
             "gridcolor": "white",
             "linecolor": "white",
             "minorgridcolor": "white",
             "startlinecolor": "#2a3f5f"
            },
            "baxis": {
             "endlinecolor": "#2a3f5f",
             "gridcolor": "white",
             "linecolor": "white",
             "minorgridcolor": "white",
             "startlinecolor": "#2a3f5f"
            },
            "type": "carpet"
           }
          ],
          "choropleth": [
           {
            "colorbar": {
             "outlinewidth": 0,
             "ticks": ""
            },
            "type": "choropleth"
           }
          ],
          "contour": [
           {
            "colorbar": {
             "outlinewidth": 0,
             "ticks": ""
            },
            "colorscale": [
             [
              0,
              "#0d0887"
             ],
             [
              0.1111111111111111,
              "#46039f"
             ],
             [
              0.2222222222222222,
              "#7201a8"
             ],
             [
              0.3333333333333333,
              "#9c179e"
             ],
             [
              0.4444444444444444,
              "#bd3786"
             ],
             [
              0.5555555555555556,
              "#d8576b"
             ],
             [
              0.6666666666666666,
              "#ed7953"
             ],
             [
              0.7777777777777778,
              "#fb9f3a"
             ],
             [
              0.8888888888888888,
              "#fdca26"
             ],
             [
              1,
              "#f0f921"
             ]
            ],
            "type": "contour"
           }
          ],
          "contourcarpet": [
           {
            "colorbar": {
             "outlinewidth": 0,
             "ticks": ""
            },
            "type": "contourcarpet"
           }
          ],
          "heatmap": [
           {
            "colorbar": {
             "outlinewidth": 0,
             "ticks": ""
            },
            "colorscale": [
             [
              0,
              "#0d0887"
             ],
             [
              0.1111111111111111,
              "#46039f"
             ],
             [
              0.2222222222222222,
              "#7201a8"
             ],
             [
              0.3333333333333333,
              "#9c179e"
             ],
             [
              0.4444444444444444,
              "#bd3786"
             ],
             [
              0.5555555555555556,
              "#d8576b"
             ],
             [
              0.6666666666666666,
              "#ed7953"
             ],
             [
              0.7777777777777778,
              "#fb9f3a"
             ],
             [
              0.8888888888888888,
              "#fdca26"
             ],
             [
              1,
              "#f0f921"
             ]
            ],
            "type": "heatmap"
           }
          ],
          "heatmapgl": [
           {
            "colorbar": {
             "outlinewidth": 0,
             "ticks": ""
            },
            "colorscale": [
             [
              0,
              "#0d0887"
             ],
             [
              0.1111111111111111,
              "#46039f"
             ],
             [
              0.2222222222222222,
              "#7201a8"
             ],
             [
              0.3333333333333333,
              "#9c179e"
             ],
             [
              0.4444444444444444,
              "#bd3786"
             ],
             [
              0.5555555555555556,
              "#d8576b"
             ],
             [
              0.6666666666666666,
              "#ed7953"
             ],
             [
              0.7777777777777778,
              "#fb9f3a"
             ],
             [
              0.8888888888888888,
              "#fdca26"
             ],
             [
              1,
              "#f0f921"
             ]
            ],
            "type": "heatmapgl"
           }
          ],
          "histogram": [
           {
            "marker": {
             "pattern": {
              "fillmode": "overlay",
              "size": 10,
              "solidity": 0.2
             }
            },
            "type": "histogram"
           }
          ],
          "histogram2d": [
           {
            "colorbar": {
             "outlinewidth": 0,
             "ticks": ""
            },
            "colorscale": [
             [
              0,
              "#0d0887"
             ],
             [
              0.1111111111111111,
              "#46039f"
             ],
             [
              0.2222222222222222,
              "#7201a8"
             ],
             [
              0.3333333333333333,
              "#9c179e"
             ],
             [
              0.4444444444444444,
              "#bd3786"
             ],
             [
              0.5555555555555556,
              "#d8576b"
             ],
             [
              0.6666666666666666,
              "#ed7953"
             ],
             [
              0.7777777777777778,
              "#fb9f3a"
             ],
             [
              0.8888888888888888,
              "#fdca26"
             ],
             [
              1,
              "#f0f921"
             ]
            ],
            "type": "histogram2d"
           }
          ],
          "histogram2dcontour": [
           {
            "colorbar": {
             "outlinewidth": 0,
             "ticks": ""
            },
            "colorscale": [
             [
              0,
              "#0d0887"
             ],
             [
              0.1111111111111111,
              "#46039f"
             ],
             [
              0.2222222222222222,
              "#7201a8"
             ],
             [
              0.3333333333333333,
              "#9c179e"
             ],
             [
              0.4444444444444444,
              "#bd3786"
             ],
             [
              0.5555555555555556,
              "#d8576b"
             ],
             [
              0.6666666666666666,
              "#ed7953"
             ],
             [
              0.7777777777777778,
              "#fb9f3a"
             ],
             [
              0.8888888888888888,
              "#fdca26"
             ],
             [
              1,
              "#f0f921"
             ]
            ],
            "type": "histogram2dcontour"
           }
          ],
          "mesh3d": [
           {
            "colorbar": {
             "outlinewidth": 0,
             "ticks": ""
            },
            "type": "mesh3d"
           }
          ],
          "parcoords": [
           {
            "line": {
             "colorbar": {
              "outlinewidth": 0,
              "ticks": ""
             }
            },
            "type": "parcoords"
           }
          ],
          "pie": [
           {
            "automargin": true,
            "type": "pie"
           }
          ],
          "scatter": [
           {
            "fillpattern": {
             "fillmode": "overlay",
             "size": 10,
             "solidity": 0.2
            },
            "type": "scatter"
           }
          ],
          "scatter3d": [
           {
            "line": {
             "colorbar": {
              "outlinewidth": 0,
              "ticks": ""
             }
            },
            "marker": {
             "colorbar": {
              "outlinewidth": 0,
              "ticks": ""
             }
            },
            "type": "scatter3d"
           }
          ],
          "scattercarpet": [
           {
            "marker": {
             "colorbar": {
              "outlinewidth": 0,
              "ticks": ""
             }
            },
            "type": "scattercarpet"
           }
          ],
          "scattergeo": [
           {
            "marker": {
             "colorbar": {
              "outlinewidth": 0,
              "ticks": ""
             }
            },
            "type": "scattergeo"
           }
          ],
          "scattergl": [
           {
            "marker": {
             "colorbar": {
              "outlinewidth": 0,
              "ticks": ""
             }
            },
            "type": "scattergl"
           }
          ],
          "scattermapbox": [
           {
            "marker": {
             "colorbar": {
              "outlinewidth": 0,
              "ticks": ""
             }
            },
            "type": "scattermapbox"
           }
          ],
          "scatterpolar": [
           {
            "marker": {
             "colorbar": {
              "outlinewidth": 0,
              "ticks": ""
             }
            },
            "type": "scatterpolar"
           }
          ],
          "scatterpolargl": [
           {
            "marker": {
             "colorbar": {
              "outlinewidth": 0,
              "ticks": ""
             }
            },
            "type": "scatterpolargl"
           }
          ],
          "scatterternary": [
           {
            "marker": {
             "colorbar": {
              "outlinewidth": 0,
              "ticks": ""
             }
            },
            "type": "scatterternary"
           }
          ],
          "surface": [
           {
            "colorbar": {
             "outlinewidth": 0,
             "ticks": ""
            },
            "colorscale": [
             [
              0,
              "#0d0887"
             ],
             [
              0.1111111111111111,
              "#46039f"
             ],
             [
              0.2222222222222222,
              "#7201a8"
             ],
             [
              0.3333333333333333,
              "#9c179e"
             ],
             [
              0.4444444444444444,
              "#bd3786"
             ],
             [
              0.5555555555555556,
              "#d8576b"
             ],
             [
              0.6666666666666666,
              "#ed7953"
             ],
             [
              0.7777777777777778,
              "#fb9f3a"
             ],
             [
              0.8888888888888888,
              "#fdca26"
             ],
             [
              1,
              "#f0f921"
             ]
            ],
            "type": "surface"
           }
          ],
          "table": [
           {
            "cells": {
             "fill": {
              "color": "#EBF0F8"
             },
             "line": {
              "color": "white"
             }
            },
            "header": {
             "fill": {
              "color": "#C8D4E3"
             },
             "line": {
              "color": "white"
             }
            },
            "type": "table"
           }
          ]
         },
         "layout": {
          "annotationdefaults": {
           "arrowcolor": "#2a3f5f",
           "arrowhead": 0,
           "arrowwidth": 1
          },
          "autotypenumbers": "strict",
          "coloraxis": {
           "colorbar": {
            "outlinewidth": 0,
            "ticks": ""
           }
          },
          "colorscale": {
           "diverging": [
            [
             0,
             "#8e0152"
            ],
            [
             0.1,
             "#c51b7d"
            ],
            [
             0.2,
             "#de77ae"
            ],
            [
             0.3,
             "#f1b6da"
            ],
            [
             0.4,
             "#fde0ef"
            ],
            [
             0.5,
             "#f7f7f7"
            ],
            [
             0.6,
             "#e6f5d0"
            ],
            [
             0.7,
             "#b8e186"
            ],
            [
             0.8,
             "#7fbc41"
            ],
            [
             0.9,
             "#4d9221"
            ],
            [
             1,
             "#276419"
            ]
           ],
           "sequential": [
            [
             0,
             "#0d0887"
            ],
            [
             0.1111111111111111,
             "#46039f"
            ],
            [
             0.2222222222222222,
             "#7201a8"
            ],
            [
             0.3333333333333333,
             "#9c179e"
            ],
            [
             0.4444444444444444,
             "#bd3786"
            ],
            [
             0.5555555555555556,
             "#d8576b"
            ],
            [
             0.6666666666666666,
             "#ed7953"
            ],
            [
             0.7777777777777778,
             "#fb9f3a"
            ],
            [
             0.8888888888888888,
             "#fdca26"
            ],
            [
             1,
             "#f0f921"
            ]
           ],
           "sequentialminus": [
            [
             0,
             "#0d0887"
            ],
            [
             0.1111111111111111,
             "#46039f"
            ],
            [
             0.2222222222222222,
             "#7201a8"
            ],
            [
             0.3333333333333333,
             "#9c179e"
            ],
            [
             0.4444444444444444,
             "#bd3786"
            ],
            [
             0.5555555555555556,
             "#d8576b"
            ],
            [
             0.6666666666666666,
             "#ed7953"
            ],
            [
             0.7777777777777778,
             "#fb9f3a"
            ],
            [
             0.8888888888888888,
             "#fdca26"
            ],
            [
             1,
             "#f0f921"
            ]
           ]
          },
          "colorway": [
           "#636efa",
           "#EF553B",
           "#00cc96",
           "#ab63fa",
           "#FFA15A",
           "#19d3f3",
           "#FF6692",
           "#B6E880",
           "#FF97FF",
           "#FECB52"
          ],
          "font": {
           "color": "#2a3f5f"
          },
          "geo": {
           "bgcolor": "white",
           "lakecolor": "white",
           "landcolor": "#E5ECF6",
           "showlakes": true,
           "showland": true,
           "subunitcolor": "white"
          },
          "hoverlabel": {
           "align": "left"
          },
          "hovermode": "closest",
          "mapbox": {
           "style": "light"
          },
          "paper_bgcolor": "white",
          "plot_bgcolor": "#E5ECF6",
          "polar": {
           "angularaxis": {
            "gridcolor": "white",
            "linecolor": "white",
            "ticks": ""
           },
           "bgcolor": "#E5ECF6",
           "radialaxis": {
            "gridcolor": "white",
            "linecolor": "white",
            "ticks": ""
           }
          },
          "scene": {
           "xaxis": {
            "backgroundcolor": "#E5ECF6",
            "gridcolor": "white",
            "gridwidth": 2,
            "linecolor": "white",
            "showbackground": true,
            "ticks": "",
            "zerolinecolor": "white"
           },
           "yaxis": {
            "backgroundcolor": "#E5ECF6",
            "gridcolor": "white",
            "gridwidth": 2,
            "linecolor": "white",
            "showbackground": true,
            "ticks": "",
            "zerolinecolor": "white"
           },
           "zaxis": {
            "backgroundcolor": "#E5ECF6",
            "gridcolor": "white",
            "gridwidth": 2,
            "linecolor": "white",
            "showbackground": true,
            "ticks": "",
            "zerolinecolor": "white"
           }
          },
          "shapedefaults": {
           "line": {
            "color": "#2a3f5f"
           }
          },
          "ternary": {
           "aaxis": {
            "gridcolor": "white",
            "linecolor": "white",
            "ticks": ""
           },
           "baxis": {
            "gridcolor": "white",
            "linecolor": "white",
            "ticks": ""
           },
           "bgcolor": "#E5ECF6",
           "caxis": {
            "gridcolor": "white",
            "linecolor": "white",
            "ticks": ""
           }
          },
          "title": {
           "x": 0.05
          },
          "xaxis": {
           "automargin": true,
           "gridcolor": "white",
           "linecolor": "white",
           "ticks": "",
           "title": {
            "standoff": 15
           },
           "zerolinecolor": "white",
           "zerolinewidth": 2
          },
          "yaxis": {
           "automargin": true,
           "gridcolor": "white",
           "linecolor": "white",
           "ticks": "",
           "title": {
            "standoff": 15
           },
           "zerolinecolor": "white",
           "zerolinewidth": 2
          }
         }
        },
        "width": 700,
        "xaxis": {
         "anchor": "y",
         "domain": [
          0,
          1
         ],
         "title": {
          "text": "x"
         }
        },
        "yaxis": {
         "anchor": "x",
         "domain": [
          0,
          1
         ],
         "title": {
          "text": "y"
         }
        }
       }
      },
      "text/html": [
       "<div>                            <div id=\"cb552021-5377-4fcd-9a3a-8f1941cb507b\" class=\"plotly-graph-div\" style=\"height:500px; width:700px;\"></div>            <script type=\"text/javascript\">                require([\"plotly\"], function(Plotly) {                    window.PLOTLYENV=window.PLOTLYENV || {};                                    if (document.getElementById(\"cb552021-5377-4fcd-9a3a-8f1941cb507b\")) {                    Plotly.newPlot(                        \"cb552021-5377-4fcd-9a3a-8f1941cb507b\",                        [{\"hovertemplate\":\"color=5<br>x=%{x}<br>y=%{y}<extra></extra>\",\"legendgroup\":\"5\",\"marker\":{\"color\":\"#636efa\",\"symbol\":\"circle\",\"size\":12},\"mode\":\"markers\",\"name\":\"5\",\"showlegend\":true,\"x\":[17.34334945678711,13.5399808883667,8.576258659362793,12.128852844238281,7.736945152282715,16.42176055908203,20.96095085144043,7.656495094299316,8.80775260925293,23.41155433654785,21.845624923706055,8.462316513061523,8.699426651000977,17.643075942993164,6.852702617645264,9.438887596130371,8.671809196472168,12.682923316955566,22.791322708129883,7.149659633636475,8.115287780761719,10.50178050994873,7.395133018493652,8.284640312194824,21.8142032623291,9.890396118164062,13.67040729522705,20.871379852294922,15.59192180633545,14.241349220275879,14.57898235321045,16.61446762084961,16.393491744995117,16.19750213623047,15.526518821716309,13.742140769958496,15.774103164672852,20.264802932739258,19.951480865478516,23.305049896240234,21.8955020904541,10.622098922729492,7.104625225067139,22.525728225708008,21.666271209716797,16.17300796508789,18.322744369506836,13.083985328674316,18.827566146850586,22.4819278717041,23.79075050354004,15.011031150817871,14.043829917907715,16.798511505126953,14.229070663452148,13.773125648498535,19.667490005493164,15.636966705322266,24.416015625,14.130212783813477,11.669146537780762,16.606529235839844,13.605706214904785,14.000387191772461,14.657793998718262,10.428690910339355,16.86531639099121,10.055943489074707,15.349496841430664,21.863073348999023,10.23720932006836,17.603158950805664,6.791962623596191,9.81901741027832,8.63785171508789,15.52592945098877,11.378596305847168,13.666081428527832,17.408475875854492,22.850317001342773,-54.46455764770508,14.676998138427734,15.854887008666992,15.350454330444336,11.897710800170898,12.541802406311035,11.468130111694336,9.015337944030762,7.235947132110596,18.53855323791504,17.07327651977539,13.098827362060547,19.153091430664062,18.902433395385742,17.50126075744629,18.12513542175293,18.395668029785156,18.466764450073242,17.44369125366211,19.837202072143555,18.181842803955078,18.75494956970215,17.94156265258789,18.213380813598633,21.15569305419922,19.105472564697266,16.674468994140625,21.508007049560547,21.52965545654297,23.828968048095703,17.845802307128906,24.083141326904297,24.495548248291016,18.608713150024414,20.50869369506836,15.429896354675293,17.332733154296875,16.243911743164062,16.64894676208496,13.439613342285156,12.80260944366455,13.373292922973633,17.11127281188965,15.980850219726562,16.75673484802246,16.83863639831543,11.978096961975098,16.6422061920166,21.077390670776367,12.2306547164917,13.08895492553711,24.638124465942383,6.308673858642578,11.247126579284668,10.877379417419434,11.81406307220459,14.503376007080078,17.82080841064453,12.245687484741211,12.203714370727539,6.195233345031738,18.4604434967041,20.84239387512207,16.515098571777344,19.99662971496582,19.83481788635254,19.15751838684082,19.28159523010254,24.571290969848633,23.625232696533203,24.58438491821289,18.68892478942871,19.797908782958984,18.676692962646484,10.01307487487793,10.039738655090332,9.47946548461914,13.68591022491455,5.632301330566406,18.934494018554688,42.08382034301758,10.406679153442383,5.915706157684326,23.006669998168945,7.993372917175293,14.49241828918457,20.886516571044922,20.789775848388672,23.071128845214844,17.79304313659668,9.452594757080078,21.573949813842773,16.892513275146484,6.98066520690918,21.351713180541992,20.294742584228516,22.96061897277832,10.001376152038574,8.750753402709961],\"xaxis\":\"x\",\"y\":[-64.98147583007812,-65.13554382324219,-60.729652404785156,-68.92849731445312,-63.40859603881836,-61.67039108276367,-58.78107833862305,-60.01234436035156,-59.42805099487305,-60.580753326416016,-61.000152587890625,-57.7274284362793,-59.55034255981445,-60.508453369140625,-63.96634292602539,-57.65067672729492,-64.00270080566406,-59.29399108886719,-59.31920623779297,-59.503868103027344,-59.52061462402344,-59.176090240478516,-60.921329498291016,-58.17792892456055,-62.058021545410156,-59.41881561279297,-66.33759307861328,-63.7902946472168,-64.0889663696289,-66.77262115478516,-68.36685180664062,-61.696346282958984,-62.40174102783203,-63.16704559326172,-64.89556884765625,-64.51409912109375,-65.44966888427734,-63.2099609375,-61.869110107421875,-62.90592575073242,-62.280120849609375,-59.24672317504883,-64.514404296875,-63.389835357666016,-60.47571563720703,-59.66975784301758,-58.67380905151367,-59.33846664428711,-63.277957916259766,-60.32139205932617,-64.29779815673828,-60.85092544555664,-58.884246826171875,-56.33236312866211,-57.61959457397461,-58.60311508178711,-57.33649826049805,-58.198692321777344,-58.982337951660156,-63.82509994506836,-63.41872787475586,-57.99797821044922,-58.03114700317383,-56.877708435058594,-58.95975112915039,-65.51232147216797,-69.8380126953125,-64.90428161621094,-65.31475067138672,-61.8231086730957,-62.22966384887695,-67.2462158203125,-60.658233642578125,-62.68524169921875,-64.6114730834961,-64.70732116699219,-61.038291931152344,-60.38477325439453,-54.399497985839844,-57.647010803222656,-8.096949577331543,-67.08061218261719,-62.49663162231445,-62.88282012939453,-65.66168212890625,-65.87998962402344,-67.88159942626953,-62.102142333984375,-62.46479034423828,-62.47719955444336,-64.80093383789062,-63.0287971496582,-56.64735412597656,-57.1960334777832,-59.48844909667969,-56.81002426147461,-61.88019943237305,-56.465152740478516,-54.401920318603516,-59.19209671020508,-58.04246520996094,-55.55179214477539,-65.29466247558594,-59.93248748779297,-56.04212188720703,-58.479373931884766,-59.63201141357422,-54.49619674682617,-54.55894088745117,-58.07367706298828,-59.03985595703125,-57.952945709228516,-58.81919479370117,-65.59342193603516,-57.721046447753906,-60.49751281738281,-66.11282348632812,-66.2502212524414,-69.1453628540039,-69.03553771972656,-69.59275817871094,-69.28624725341797,-68.88086700439453,-69.45219421386719,-69.66313171386719,-68.83738708496094,-64.62094116210938,-70.24983215332031,-55.9266242980957,-62.61319351196289,-61.498592376708984,-60.22659683227539,-61.86848068237305,-61.59383773803711,-61.48552703857422,-68.4368667602539,-63.537391662597656,-65.02830505371094,-60.89384078979492,-61.79905700683594,-61.8087158203125,-57.344242095947266,-60.072818756103516,-56.07851028442383,-59.954368591308594,-60.72999954223633,-61.405250549316406,-61.12891387939453,-60.013545989990234,-61.767704010009766,-60.57012939453125,-61.21198272705078,-59.99309158325195,-62.903846740722656,-61.3536491394043,-60.70027542114258,-61.63694763183594,-61.76762008666992,-60.07854461669922,-66.60950469970703,-5.428617000579834,-57.271751403808594,-59.75446701049805,-57.89374542236328,-61.61528396606445,-63.197044372558594,-61.87010192871094,-60.9571533203125,-64.3131103515625,-64.267333984375,-63.68896484375,-64.76483917236328,-63.88017654418945,-65.19344329833984,-64.56590270996094,-65.65101623535156,-64.14677429199219,-57.0870361328125,-64.31851196289062],\"yaxis\":\"y\",\"type\":\"scattergl\"},{\"hovertemplate\":\"color=7<br>x=%{x}<br>y=%{y}<extra></extra>\",\"legendgroup\":\"7\",\"marker\":{\"color\":\"#EF553B\",\"symbol\":\"circle\",\"size\":12},\"mode\":\"markers\",\"name\":\"7\",\"showlegend\":true,\"x\":[-13.800766944885254,17.893491744995117,6.186275959014893,7.0716681480407715,-0.3891347646713257,6.991214275360107,19.295114517211914,18.111953735351562,10.360467910766602,17.897022247314453,6.975339412689209,2.215419292449951,-13.989911079406738,-48.184906005859375,4.052837371826172,-11.092491149902344,2.071794271469116,18.87648582458496,19.531841278076172,7.769933700561523,-1.2406084537506104,-0.7216729521751404,-10.354207992553711,6.238476276397705,1.7923346757888794,9.461432456970215,6.265415668487549,1.5472608804702759,8.136080741882324,-27.03340721130371,1.6542779207229614,11.636035919189453,-26.985031127929688,-0.6314238905906677,8.105281829833984,8.666354179382324,11.501774787902832,2.3276994228363037,-7.523899078369141,-14.017949104309082,4.13712739944458,-6.022965431213379,3.5479745864868164,5.839317798614502,5.333890914916992,-9.389657974243164,-4.576934814453125,-9.108357429504395,-6.28556489944458,-13.576913833618164,-6.662608623504639,-9.746115684509277,4.947242736816406,-7.716865539550781,-10.095916748046875,3.6899096965789795,5.46706485748291,1.4632337093353271,-47.80251693725586,18.774898529052734,5.17718505859375,3.927313804626465,13.521815299987793,13.790685653686523,13.974124908447266,4.329206943511963,14.106025695800781,14.519899368286133,15.247709274291992,14.476417541503906,-6.217116832733154,14.56808853149414,15.102059364318848,14.960819244384766,14.176502227783203,-6.669410705566406,-8.55687427520752,4.462291717529297,-8.950209617614746,3.3897480964660645,-5.00312614440918,-5.098945140838623,3.676642894744873,36.2234992980957,-5.677596092224121,-7.870538711547852,-5.482291221618652,-8.946974754333496,-9.363065719604492,-7.257065296173096,1.915927529335022,-7.879824638366699,-7.014812469482422,2.3600430488586426,1.430490493774414,3.3822906017303467,-8.594691276550293,-7.069945335388184,-6.404090881347656,1.5242527723312378,-5.1598711013793945,-5.509654998779297,-3.1418440341949463,-0.3144882321357727,-9.957659721374512,-7.523750305175781,-8.83029842376709,-9.565895080566406,-7.749321460723877,-3.4959704875946045,-4.441400051116943,24.93443489074707,-4.505856990814209,-4.657581806182861,7.527800559997559,-9.112147331237793,7.431717395782471,-4.142681121826172,-9.937682151794434,7.594198703765869,-9.414115905761719,-9.243351936340332,-10.81610107421875,-8.635909080505371,-3.2650885581970215,-6.932339668273926,10.046622276306152,-10.114914894104004,-10.254079818725586,5.243309497833252,11.266358375549316,10.660621643066406,3.112536668777466,-15.074485778808594,4.107481956481934,-4.832202911376953,-16.112646102905273,-10.25820541381836,-10.250589370727539,-8.466367721557617,-15.610334396362305,-9.70773983001709,-9.717430114746094,6.582363128662109,-11.258169174194336,4.176544666290283,6.196174144744873,6.075557708740234,6.599043369293213,2.361854076385498,-15.72404956817627,2.170840263366699,4.267219543457031,6.109325885772705,1.7707663774490356,-10.45087718963623,-9.160933494567871,2.809907913208008,-7.873330593109131,1.6269111633300781,-7.597083568572998,-8.715778350830078,-9.775918960571289,7.147367000579834,-10.65158748626709,-11.37247371673584,7.139989376068115,1.345935344696045,2.2174313068389893,5.732946872711182,-11.652754783630371,26.424579620361328,-15.893604278564453,-12.28508186340332,-12.018572807312012,1.7892438173294067,11.964332580566406,-9.420527458190918,20.599271774291992,-11.112714767456055,26.423107147216797,3.8506901264190674,-12.32604694366455,20.42911148071289,20.086294174194336,7.368829727172852,-10.272671699523926,11.123353004455566,-10.838196754455566,-10.487278938293457,7.311381816864014,-9.782527923583984,-9.536772727966309,11.733659744262695,-8.984384536743164,-9.198382377624512,10.185748100280762,-7.104439735412598,-6.384793281555176,21.340038299560547,8.395092964172363,-8.765838623046875,9.190445899963379,7.189503192901611,-6.543078422546387,-6.118948459625244,5.303445816040039,-8.512984275817871,22.01350975036621,22.397533416748047,21.88873863220215,-4.090938091278076,8.457544326782227,-4.648874282836914,-3.8797481060028076,-3.7589759826660156,-7.775345325469971,0.05392792448401451,-4.9276957511901855,-4.574624061584473,9.000535011291504,-0.6722174286842346,-2.1160635948181152,0.14913174510002136],\"xaxis\":\"x\",\"y\":[18.526126861572266,8.81281566619873,8.031123161315918,4.781373977661133,7.381660461425781,5.669857025146484,8.970269203186035,9.740317344665527,8.992431640625,8.985201835632324,18.999019622802734,7.297048568725586,18.59115219116211,5.406806468963623,8.159128189086914,13.29584789276123,5.405203342437744,9.28774642944336,8.95883846282959,7.747096061706543,9.499685287475586,7.338305473327637,11.398600578308105,3.148207187652588,2.5439066886901855,7.47113561630249,3.3625383377075195,13.766651153564453,2.807466983795166,43.013694763183594,13.6873779296875,4.40629243850708,43.13058090209961,10.071717262268066,3.773914098739624,3.450744867324829,4.440462112426758,4.930967330932617,13.056680679321289,23.712026596069336,10.645567893981934,12.591635704040527,10.68191909790039,-0.9050986170768738,-1.2133522033691406,7.983272075653076,14.258125305175781,13.204022407531738,13.944518089294434,23.51947784423828,14.33108139038086,15.407153129577637,2.948518753051758,17.31618881225586,9.183303833007812,10.318037033081055,4.59043025970459,-1.6675204038619995,1.0048577785491943,8.360788345336914,3.8363561630249023,4.1612043380737305,6.236076354980469,4.549345016479492,3.8323395252227783,3.39654803276062,6.099094867706299,4.2147979736328125,4.145299911499023,4.422359466552734,7.399230480194092,6.73148775100708,4.632165431976318,4.348298072814941,5.909517765045166,11.505611419677734,8.063145637512207,1.0738235712051392,8.44349479675293,0.5076126456260681,11.474889755249023,11.345112800598145,1.426656723022461,9.283591270446777,16.379409790039062,10.387397766113281,16.473386764526367,10.06452751159668,9.520611763000488,9.912200927734375,3.244356632232666,10.559745788574219,11.3601713180542,9.44741439819336,7.7942328453063965,2.091197967529297,16.9523983001709,18.235445022583008,16.18131446838379,8.768847465515137,8.26779842376709,10.235530853271484,12.797701835632324,0.48540207743644714,7.919945240020752,12.55058479309082,13.739673614501953,13.946699142456055,15.348149299621582,13.246685028076172,-3.7971267700195312,5.2271318435668945,9.296934127807617,13.215492248535156,9.381168365478516,15.656286239624023,3.0899274349212646,10.57496452331543,14.169428825378418,9.295241355895996,10.415410041809082,16.146530151367188,12.530506134033203,16.073488235473633,11.527667045593262,14.617446899414062,-2.3778481483459473,11.939266204833984,13.47614860534668,11.469659805297852,-0.9663270711898804,-1.5779706239700317,7.973506927490234,14.918204307556152,7.363263130187988,13.278854370117188,16.781341552734375,17.43240737915039,12.448681831359863,16.384180068969727,16.143558502197266,13.02743911743164,12.682754516601562,8.778237342834473,10.731492042541504,7.866083145141602,7.0725507736206055,6.372574329376221,7.101178169250488,5.633115291595459,16.238523483276367,7.024880409240723,6.670365333557129,5.8365654945373535,5.412879943847656,16.840133666992188,17.20494270324707,6.263054847717285,16.103492736816406,3.004533529281616,18.57767677307129,17.75888442993164,16.34123992919922,7.971720218658447,14.60759162902832,15.071249008178711,5.962851047515869,5.963842391967773,7.353909015655518,7.728688716888428,16.999717712402344,36.70381546020508,14.93200397491455,12.494951248168945,11.511783599853516,10.417346000671387,5.405831336975098,18.23753547668457,-5.487912178039551,15.745882987976074,40.616416931152344,6.253756523132324,12.116669654846191,-5.7183837890625,-6.1992082595825195,19.284231185913086,15.29073715209961,5.355316162109375,16.20789337158203,18.138395309448242,19.26154899597168,18.272729873657227,16.724058151245117,6.105290412902832,18.07482147216797,18.442293167114258,7.300737380981445,7.053071975708008,9.904480934143066,-7.683895111083984,6.163875102996826,7.514141082763672,1.7637348175048828,11.004156112670898,7.33571195602417,10.9067964553833,11.108614921569824,6.826053619384766,-7.988697052001953,-7.612251281738281,-7.283799648284912,10.35449504852295,2.0194342136383057,8.257966995239258,15.886859893798828,11.864606857299805,8.252704620361328,4.15887975692749,8.688188552856445,8.887102127075195,0.5235037207603455,11.904197692871094,12.769681930541992,3.7397007942199707],\"yaxis\":\"y\",\"type\":\"scattergl\"},{\"hovertemplate\":\"color=1<br>x=%{x}<br>y=%{y}<extra></extra>\",\"legendgroup\":\"1\",\"marker\":{\"color\":\"#00cc96\",\"symbol\":\"circle\",\"size\":12},\"mode\":\"markers\",\"name\":\"1\",\"showlegend\":true,\"x\":[14.50280475616455,22.640974044799805,26.41450309753418,25.378997802734375,22.635456085205078,25.30565643310547,25.863672256469727,24.54728126525879,26.448524475097656,26.070354461669922,24.573884963989258,-5.512482643127441,25.30999755859375,26.1761417388916,26.42349624633789,26.3756103515625,2.5028653144836426,23.352970123291016,26.7501277923584,26.85970687866211,27.604719161987305,25.40872573852539,26.44010353088379,26.82038688659668,25.395313262939453,27.223392486572266,14.04848575592041,20.2786922454834,18.159900665283203,21.067943572998047,15.289730072021484,22.472942352294922,19.015493392944336,18.995901107788086,20.477569580078125,21.776155471801758,15.11461353302002,14.916560173034668,18.13481903076172,20.91383934020996,22.77126121520996,11.847031593322754,14.18137264251709,11.993203163146973,11.597187995910645,11.717159271240234,11.757743835449219,12.06540298461914,12.610139846801758,10.444039344787598,7.091577529907227,10.633383750915527,7.514831066131592,7.492354869842529,21.778783798217773,22.51774024963379,20.42701530456543,26.243915557861328,36.995521545410156,23.37487030029297,22.140949249267578,23.56267547607422,21.131479263305664,37.46361541748047,22.71195411682129,23.848726272583008,13.325567245483398,13.353429794311523,19.949480056762695,13.906793594360352,16.34143829345703,17.19192886352539,17.53746795654297,17.21088981628418,17.34070587158203,24.07416534423828,23.674747467041016,20.525056838989258,15.055976867675781,16.83234405517578,15.6232271194458,21.66729736328125,16.15383529663086,15.200163841247559,13.76986312866211,54.75792694091797,14.164684295654297,16.06426429748535,15.55042839050293,15.6862211227417,13.732234001159668,15.528886795043945,16.497480392456055,14.564132690429688,16.551965713500977,13.843093872070312,18.532434463500977,6.428575038909912,18.61522102355957,20.46718406677246,24.99651527404785,21.793180465698242,24.683237075805664,21.816884994506836,21.720855712890625,41.089656829833984,19.39222526550293,19.34588623046875,19.784595489501953,21.631013870239258,10.689997673034668,20.861116409301758,24.32271957397461,24.349966049194336,24.531782150268555,21.206396102905273,25.292457580566406,25.32267951965332,23.92220687866211,23.90887451171875,20.056856155395508,20.36405372619629,24.037830352783203,20.270662307739258,24.89164924621582,41.49640655517578,13.998054504394531,19.599939346313477,40.9901008605957,41.398780822753906,42.572208404541016,41.49733352661133,22.171789169311523,23.5054874420166,22.859067916870117,22.158973693847656,42.15048599243164,19.295581817626953,21.795373916625977,17.77229118347168,22.675281524658203,20.18548011779785,13.499996185302734,12.973711013793945,14.293562889099121,17.638917922973633,13.035816192626953,16.63374137878418,13.494717597961426,18.2954044342041,15.594051361083984,18.780794143676758,17.671640396118164,17.30272674560547,15.86181640625,-6.426033020019531,23.163965225219727,43.43926239013672,26.680192947387695,21.99250030517578,42.3703498840332,43.27130889892578,22.680322647094727,23.913469314575195,20.375446319580078,22.706666946411133,23.630571365356445,3.597689390182495,40.71969223022461,19.354013442993164,13.435458183288574,9.901396751403809,21.917695999145508,21.819429397583008,19.083663940429688,19.494029998779297],\"xaxis\":\"x\",\"y\":[-21.257131576538086,-16.591999053955078,-11.488569259643555,-16.95902442932129,-13.86208438873291,-16.480083465576172,-15.933816909790039,-13.855123519897461,-13.81370735168457,-15.410094261169434,-12.908448219299316,-35.163883209228516,-13.600470542907715,-12.87462043762207,-16.01958465576172,-12.317831993103027,-28.170419692993164,-13.379777908325195,-16.214099884033203,-14.867098808288574,-12.165757179260254,-15.029345512390137,-13.86577033996582,-14.0263032913208,-14.42432975769043,-12.49979305267334,-21.102752685546875,-19.824344635009766,-24.2249755859375,-20.040916442871094,-18.495241165161133,-19.591646194458008,-20.74110221862793,-20.065671920776367,-19.923856735229492,-17.891687393188477,-18.63274574279785,-18.116661071777344,-24.54587745666504,-14.621297836303711,-18.730005264282227,-22.562593460083008,-27.61777114868164,-23.573089599609375,-24.153650283813477,-22.290424346923828,-21.610870361328125,-20.384950637817383,-20.90816879272461,-21.948789596557617,-15.785635948181152,-14.733477592468262,-15.564974784851074,-15.331632614135742,-20.483139038085938,-21.701448440551758,-19.193601608276367,-21.1898136138916,9.241278648376465,-21.480058670043945,-20.520156860351562,-22.289960861206055,-18.906949996948242,9.999981880187988,-20.988201141357422,-22.473886489868164,-18.341468811035156,-18.374040603637695,-18.846908569335938,-17.516605377197266,-18.990583419799805,-19.355493545532227,-17.27353286743164,-16.54258155822754,-16.29266357421875,-18.182579040527344,-17.464481353759766,-17.018444061279297,-19.581283569335938,-20.377769470214844,-20.44389533996582,-15.54712963104248,-26.28205680847168,-23.266822814941406,-22.730548858642578,-9.146222114562988,-22.853361129760742,-22.127399444580078,-23.51817512512207,-27.44948387145996,-26.184558868408203,-27.989845275878906,-26.113277435302734,-27.619840621948242,-21.355350494384766,-26.090482711791992,-25.206281661987305,-23.31378173828125,-25.76205825805664,-25.043506622314453,-21.08091926574707,-24.747346878051758,-20.316139221191406,-23.45416831970215,-24.664098739624023,-2.7506775856018066,-25.26129722595215,-25.259544372558594,-25.78297996520996,-25.6729736328125,1.7955266237258911,-23.533349990844727,-19.455965042114258,-24.74993324279785,-24.572324752807617,-14.107893943786621,-11.38110637664795,-19.595001220703125,-12.3327054977417,-14.667394638061523,-23.530803680419922,-17.059249877929688,-12.169476509094238,-21.963483810424805,-20.240015029907227,-1.908003807067871,-24.11050796508789,-22.927732467651367,-3.030547618865967,-3.7792627811431885,-4.444138050079346,-3.0008697509765625,-15.400976181030273,-21.092483520507812,-23.552305221557617,-23.39358901977539,-4.966582775115967,-22.558303833007812,-13.147579193115234,-21.666261672973633,-22.04288673400879,-23.421218872070312,-20.824851989746094,-22.857667922973633,-19.954627990722656,-18.245616912841797,-22.188796997070312,-22.62369155883789,-23.090559005737305,-22.674924850463867,-21.66995620727539,-19.910188674926758,-18.11366844177246,-23.062759399414062,-20.593109130859375,-33.26304244995117,-15.156331062316895,-4.6895060539245605,-18.598188400268555,-13.241312026977539,-4.989835262298584,-4.7258687019348145,-12.78860092163086,-15.322959899902344,-12.119292259216309,-15.156046867370605,-15.611352920532227,-29.599761962890625,-2.246166467666626,-12.813345909118652,-16.87822723388672,1.9273353815078735,-8.808621406555176,-14.103163719177246,-18.994142532348633,-15.826216697692871],\"yaxis\":\"y\",\"type\":\"scattergl\"},{\"hovertemplate\":\"color=0<br>x=%{x}<br>y=%{y}<extra></extra>\",\"legendgroup\":\"0\",\"marker\":{\"color\":\"#ab63fa\",\"symbol\":\"circle\",\"size\":12},\"mode\":\"markers\",\"name\":\"0\",\"showlegend\":true,\"x\":[-23.950881958007812,-18.4306583404541,-17.704418182373047,-21.211519241333008,-13.383676528930664,-10.62862777709961,-22.35745620727539,-22.718687057495117,-12.540037155151367,-13.67785358428955,-10.78616714477539,-17.465471267700195,-22.76012420654297,-23.851478576660156,-24.162940979003906,-25.3836612701416,-25.722381591796875,-24.610422134399414,-24.5387020111084,-24.981868743896484,-23.896839141845703,-13.847051620483398,-15.561205863952637,-13.6024808883667,-19.24211311340332,-15.488414764404297,-14.152933120727539,-15.6548490524292,-20.799543380737305,-12.140745162963867,-23.574098587036133,-17.181358337402344,-14.982489585876465,-17.66170883178711,-26.69905662536621,-15.194950103759766,-24.811952590942383,-22.658504486083984,-25.37630271911621,-24.87289047241211,-25.751272201538086,-24.056655883789062,-24.203636169433594,-22.905851364135742,-26.841373443603516,-12.535980224609375,-16.615930557250977,-14.108587265014648,-15.059541702270508,-11.580653190612793,-12.233920097351074,-14.074287414550781,-13.501165390014648,-16.581287384033203,-15.329309463500977,-12.656381607055664,-23.568532943725586,-23.958541870117188,-32.58695983886719,-22.018712997436523,-21.25240135192871,-24.239803314208984,-23.752193450927734,-13.0313138961792,-16.5909366607666,-17.591445922851562,-19.930191040039062,-18.897096633911133,-17.680866241455078,-21.152822494506836,-17.446853637695312,-18.2506103515625,-23.971771240234375,-19.149118423461914,-24.67738151550293,-17.96632957458496,-21.215524673461914,-19.86897087097168,-24.260107040405273,-22.886232376098633,-23.378665924072266,-19.353689193725586,-16.047029495239258,-18.522354125976562,-19.450273513793945,-26.653852462768555,-24.799589157104492,-22.523113250732422,-15.831372261047363,-14.400508880615234,-13.721159934997559,-14.45138168334961,-14.822917938232422,-15.144392967224121,-15.779247283935547,-13.88216781616211,-14.356828689575195,-12.73256778717041,-14.96955394744873,-19.532663345336914,-14.387419700622559,-16.21075439453125,-12.43865966796875,-16.817760467529297,-23.85061264038086,-14.798476219177246,-23.511642456054688,-24.049915313720703,-18.49778938293457,-20.38973045349121,-19.574512481689453,-20.996835708618164,-22.46626853942871,-18.296491622924805,-21.252378463745117,-12.437725067138672,-25.51180076599121,-25.95947265625,-26.049964904785156,-25.135498046875,-25.527816772460938,-22.40178680419922,-22.22206687927246,-25.747314453125,-18.750885009765625,-22.71991539001465,-22.435945510864258,-22.051597595214844,-22.352336883544922,-12.147783279418945,-16.692686080932617,-15.156736373901367,-18.04286766052246,-16.15106773376465,-16.3146915435791,-17.233905792236328,-14.870159149169922,-15.382411003112793,-16.727930068969727,-11.73165512084961,-16.24376678466797,-17.882436752319336,-14.684422492980957,-14.038646697998047,-12.22304630279541,4.896617889404297,-15.225162506103516,-11.757080078125,-15.744989395141602,-15.10208797454834,-14.607338905334473,-11.447376251220703,-14.727675437927246,-19.522075653076172,-19.863506317138672,-27.09610366821289,-18.449283599853516,-19.855043411254883,-24.86104393005371,-24.7018985748291,-23.340232849121094,-21.728174209594727,-23.9232234954834,-24.778587341308594,-23.90454864501953,-20.924386978149414],\"xaxis\":\"x\",\"y\":[50.296321868896484,51.48674774169922,52.48590850830078,52.38865661621094,52.033607482910156,49.67298889160156,49.359657287597656,49.52568817138672,53.4283561706543,52.55613327026367,49.82598876953125,52.81413650512695,41.68168258666992,41.709861755371094,43.407264709472656,41.788124084472656,44.66655349731445,41.95111846923828,42.35935592651367,43.01820755004883,41.85002899169922,52.711727142333984,53.50898742675781,55.235923767089844,55.16490936279297,54.849876403808594,56.122737884521484,53.802555084228516,56.283451080322266,51.530025482177734,57.3581428527832,53.981632232666016,55.52356719970703,52.54489517211914,44.45487976074219,61.262969970703125,44.800331115722656,45.150184631347656,45.921409606933594,45.05611801147461,46.089813232421875,44.91209030151367,45.92932891845703,47.63436508178711,44.167171478271484,59.39210891723633,61.006256103515625,59.041439056396484,57.658145904541016,58.39746856689453,59.95189666748047,59.67422866821289,60.063785552978516,62.42584991455078,57.27876281738281,59.678680419921875,43.72060775756836,43.58282470703125,-20.14250946044922,44.27488327026367,44.430076599121094,44.30648422241211,44.31743621826172,60.06679916381836,62.54795837402344,62.323455810546875,60.486473083496094,58.33674240112305,60.486839294433594,55.231868743896484,58.10710144042969,59.85816192626953,53.92086410522461,60.803253173828125,57.894004821777344,60.23164749145508,54.00748062133789,60.39045333862305,56.95741653442383,52.021671295166016,52.01858139038086,48.68653106689453,49.81443786621094,48.25031280517578,48.707489013671875,56.90034866333008,50.943660736083984,51.49341583251953,48.952903747558594,48.28915023803711,50.565067291259766,49.07392501831055,48.628204345703125,49.77717971801758,48.302490234375,50.34280014038086,49.74385452270508,50.63861083984375,52.05287551879883,52.480995178222656,49.79566955566406,52.31557083129883,50.618717193603516,53.2226676940918,53.161338806152344,58.43924331665039,52.26546859741211,56.47883605957031,52.638858795166016,53.08572006225586,53.533573150634766,56.33979415893555,55.81330490112305,53.99880599975586,53.06574249267578,53.88128662109375,56.89787673950195,57.04388427734375,57.14030456542969,56.56027603149414,56.2329216003418,56.868648529052734,57.044071197509766,56.30195999145508,53.44137954711914,53.57148361206055,53.50124740600586,53.24089050292969,56.93224334716797,59.13488006591797,60.112892150878906,59.321327209472656,56.98359680175781,60.330501556396484,58.61848068237305,59.160579681396484,59.399269104003906,59.1205940246582,59.16408157348633,57.684120178222656,59.811004638671875,57.980186462402344,53.36479949951172,53.3197021484375,55.64002990722656,-60.90830993652344,55.59795379638672,55.462955474853516,55.92317199707031,53.73638153076172,53.536277770996094,56.61621856689453,54.889102935791016,55.47240447998047,54.580177307128906,-22.7907657623291,55.31386947631836,51.455230712890625,51.11641311645508,51.92254638671875,55.715999603271484,49.876766204833984,50.3043098449707,54.5245475769043,53.555076599121094,54.12380599975586],\"yaxis\":\"y\",\"type\":\"scattergl\"},{\"hovertemplate\":\"color=3<br>x=%{x}<br>y=%{y}<extra></extra>\",\"legendgroup\":\"3\",\"marker\":{\"color\":\"#FFA15A\",\"symbol\":\"circle\",\"size\":12},\"mode\":\"markers\",\"name\":\"3\",\"showlegend\":true,\"x\":[2.7360939979553223,7.214386940002441,-4.134977340698242,4.581846714019775,4.231566905975342,4.503377914428711,5.591188430786133,-4.309518814086914,3.302734136581421,3.284059524536133,3.04699969291687,0.7481401562690735,-7.644811153411865,1.8522474765777588,1.5612667798995972,1.6204479932785034,2.1051371097564697,2.0463194847106934,0.3995049297809601,-4.411805152893066,-4.891495704650879,2.0828285217285156,-3.9852960109710693,-2.946977376937866,-19.94857406616211,3.607743740081787,-3.6118695735931396,2.3887665271759033,-24.11543846130371,-21.767024993896484,-7.313384056091309,-1.1482045650482178,0.8239874839782715,3.784144878387451,-23.78883171081543,4.70173978805542,-23.319250106811523,7.418270111083984,4.803874492645264,0.20500236749649048,-5.831311225891113,1.2598294019699097,-2.2873995304107666,1.2884143590927124,-2.745783805847168,-20.37110137939453,-18.889148712158203,-2.440727949142456,1.8238028287887573,-3.0656850337982178,1.764803171157837,-0.7154362201690674,11.186766624450684,11.62680435180664,11.307827949523926,-3.694394826889038,-20.509065628051758,-2.3094873428344727,-2.480510711669922,4.570250511169434,-2.2532739639282227,3.224714994430542,-2.735539197921753,-8.932034492492676,2.9476218223571777,-2.806955575942993,1.4487366676330566,6.314062595367432,-1.7023452520370483,7.648056983947754,-22.679977416992188,-0.8317296504974365,7.59439754486084,-21.690595626831055,-2.774810791015625,-21.811986923217773,-21.74007225036621,-8.377240180969238,-1.7202422618865967,-22.198713302612305,6.301634788513184,6.012725353240967,6.762526035308838,-8.890122413635254,-7.225413799285889,-22.86554527282715,6.333636283874512,6.808957576751709,7.163434982299805,-1.675049901008606,-21.45282745361328,-1.8379502296447754,-2.3927090167999268,-22.674558639526367,-8.184313774108887,0.4176290035247803,4.982661247253418,4.8741068840026855,3.504883289337158,36.3131103515625,2.2769529819488525,3.0557057857513428,4.922579765319824,-0.12544938921928406,-8.305299758911133,0.6327810287475586,-8.165325164794922,5.692423343658447,1.3590184450149536,-8.079450607299805,-3.1212520599365234,-3.368553638458252,0.2336568832397461,-3.0999269485473633,-7.927149772644043,1.769196629524231,-8.274566650390625,9.299549102783203,-8.521187782287598,-4.650231838226318,6.281345367431641,0.4960779547691345,-19.94428825378418,6.011377334594727,-1.1502355337142944,-18.964805603027344,6.55035400390625,-0.3855191469192505,-3.36611008644104,-19.84444808959961,-20.669981002807617,-19.162702560424805,-0.2460755705833435,5.513273239135742,-1.6392369270324707,2.032623052597046,-17.856189727783203,5.825491428375244,0.8961597084999084,-20.23319435119629,0.2952791750431061,-20.228294372558594,3.307573080062866,-0.02647654339671135,0.06116706132888794,-1.3380179405212402,-19.108686447143555,6.89093542098999,-19.08929443359375,-2.853273391723633,-22.43192481994629,-4.05180025100708,1.4237815141677856,-1.5145946741104126,5.067258358001709,-6.006956100463867,10.523284912109375,-6.61494779586792,-7.187281131744385,-5.766438961029053,9.786077499389648,-7.392947196960449,-6.109838485717773,10.161044120788574,-5.431311130523682,0.9179124236106873,-0.5202232003211975,-6.077226161956787,0.7674996852874756,6.3897294998168945,-4.410896301269531,3.102893352508545,-4.2920660972595215,-6.800887584686279,-7.891982555389404,-6.791445255279541,0.9203206300735474,-6.181453704833984,-7.307830333709717,-5.913416862487793,-5.673710823059082,-4.368953704833984,-7.506589412689209,-23.88290023803711,-0.9976031184196472,-5.6334943771362305,-6.747256278991699,-5.779792308807373,-1.832787036895752,-7.796998977661133,2.3535609245300293,-5.313446044921875,-1.3937735557556152,-7.523202419281006,42.177730560302734,-30.685043334960938,-7.77577543258667,-9.315197944641113,0.6537443399429321,-5.088021278381348,-23.65605926513672,1.033776044845581,-5.116485118865967,-21.74308204650879,1.4529914855957031,-3.0137767791748047,-3.918862819671631,-23.47863006591797,-23.440675735473633,-24.170419692993164,-5.175905704498291,0.9696934223175049,-4.101068019866943,0.3157745599746704,-20.694677352905273,-2.2039623260498047,-24.532846450805664,-3.5907466411590576,-1.298757791519165,-5.286768913269043,-1.5983206033706665,-20.65484046936035,-2.7294600009918213,-19.655460357666016,-2.590268135070801,-4.792226314544678,-2.401930809020996,-6.15053129196167,-1.7683552503585815,2.344571113586426,-2.0059561729431152,-5.1461005210876465,1.2671478986740112,-0.5702804923057556,-5.804749488830566,7.712850570678711,-5.665328025817871,12.967294692993164,-3.453298330307007,-0.9928997159004211,-27.02098846435547,-3.537806987762451,-24.254905700683594,-4.253506183624268,-27.381887435913086,1.871212363243103,-24.820472717285156,-1.290986180305481,-3.079340696334839,8.139278411865234],\"xaxis\":\"x\",\"y\":[-26.175798416137695,0.2778891921043396,-23.345497131347656,-28.42430305480957,-27.806320190429688,-28.886795043945312,-26.284894943237305,-31.686677932739258,-27.136428833007812,-29.594619750976562,-30.960397720336914,-23.17989158630371,-34.75022888183594,-28.972137451171875,-26.579044342041016,-28.082868576049805,-33.31736373901367,-29.41691017150879,-26.33067512512207,-25.144044876098633,-25.20620346069336,-27.28814697265625,-22.742795944213867,-24.584617614746094,-22.86078453063965,-4.928520202636719,-32.90550994873047,-32.40044403076172,-27.324554443359375,-28.76993179321289,-25.49524688720703,-32.76960372924805,-5.790468692779541,-4.327556133270264,-23.112995147705078,-2.060720920562744,-26.803815841674805,-6.4975104331970215,-1.3567018508911133,-3.6605117321014404,-34.73183822631836,-33.90531921386719,-3.302412986755371,-33.926273345947266,-22.2580623626709,-16.217973709106445,-16.603979110717773,-22.201679229736328,-3.4178216457366943,-28.43393325805664,-2.500164031982422,-6.214110851287842,-22.461322784423828,-23.776702880859375,-21.866121292114258,-28.270221710205078,-18.95193862915039,-22.185848236083984,-26.57315444946289,-6.9434003829956055,-22.076467514038086,-5.930052757263184,-27.155494689941406,-33.538291931152344,-3.318629503250122,-27.075101852416992,-2.780974864959717,-15.528188705444336,-19.509408950805664,-14.790559768676758,-23.903644561767578,-19.98352813720703,-13.714872360229492,-22.30057144165039,-18.698442459106445,-23.860837936401367,-23.020498275756836,-35.05679702758789,-18.643817901611328,-22.3745174407959,-16.354095458984375,-14.262943267822266,-15.356077194213867,-31.785680770874023,-27.9541072845459,-23.72629165649414,-16.352962493896484,-14.258028984069824,-14.198439598083496,-18.999603271484375,-24.274147033691406,-18.79771614074707,-29.784883499145508,-23.539331436157227,-31.572202682495117,-34.8284797668457,-3.408137321472168,-3.364901065826416,0.08568409085273743,9.127092361450195,-5.404693603515625,-4.253401756286621,-2.960256814956665,-30.044527053833008,-36.305850982666016,-35.09831237792969,-35.60060119628906,-16.973400115966797,-7.092172145843506,-32.56290054321289,-5.966489315032959,-6.0152812004089355,-35.25910186767578,-25.663753509521484,-35.26560592651367,-33.35609817504883,-33.91726303100586,0.242009699344635,-33.64037322998047,-34.3380012512207,-3.473876714706421,-31.296539306640625,-25.249025344848633,-4.884012222290039,-30.432519912719727,-27.349061965942383,-4.509044170379639,-30.990642547607422,-33.3448486328125,-26.50167465209961,-23.603485107421875,-26.911563873291016,-32.83715057373047,-4.137667655944824,-31.438486099243164,-2.4797613620758057,-26.612083435058594,-5.3482208251953125,-31.688030242919922,-23.836973190307617,-31.345197677612305,-25.614566802978516,-3.4312729835510254,-32.806983947753906,-6.095925807952881,-30.557252883911133,-26.110382080078125,-4.678606986999512,-26.4292049407959,-33.65554428100586,-26.00277328491211,-18.851787567138672,-6.259161949157715,-29.996793746948242,-3.9550106525421143,-18.65935516357422,-1.7870405912399292,-19.799854278564453,-24.001943588256836,-18.915903091430664,-3.303428888320923,-24.366744995117188,-18.708824157714844,-2.5235068798065186,-18.968441009521484,-24.774797439575195,-24.830976486206055,-17.978103637695312,-23.461570739746094,-5.846875190734863,-22.177722930908203,-31.123470306396484,-22.476947784423828,-28.378555297851562,-29.04234504699707,-28.136625289916992,-26.50571060180664,-25.093769073486328,-27.908536911010742,-25.919645309448242,-25.412628173828125,-33.14850616455078,-25.304372787475586,-25.139562606811523,-29.442424774169922,-29.07940101623535,-28.90268898010254,-30.179607391357422,-27.795015335083008,-27.322383880615234,-32.67964553833008,-28.718231201171875,-34.25715255737305,-30.50061798095703,-2.6581315994262695,-21.32512664794922,-30.021516799926758,-31.497785568237305,-6.076812744140625,-31.463796615600586,-25.67647933959961,-6.403830051422119,-33.64543533325195,-28.78896713256836,-6.891765117645264,-31.131614685058594,-30.33391571044922,-25.57923698425293,-25.696090698242188,-25.480976104736328,-32.87543487548828,-3.9004504680633545,-31.77831268310547,-4.049882411956787,-24.383869171142578,-31.524356842041016,-26.245817184448242,-31.637285232543945,-6.231597423553467,-32.63998031616211,-5.87799596786499,-24.345224380493164,-31.390424728393555,-27.165029525756836,-5.525016784667969,-29.976608276367188,-4.563372611999512,-33.08079528808594,-3.9009628295898438,-30.652502059936523,-29.65821075439453,-27.19786834716797,-29.918800354003906,-27.42937660217285,-34.47147750854492,-0.7576041221618652,-32.18552780151367,-16.371797561645508,-27.751155853271484,-27.669225692749023,-23.05095672607422,-27.306013107299805,-22.85940170288086,-26.709705352783203,-22.83453941345215,-26.560592651367188,-23.27173614501953,-26.767942428588867,-23.97662353515625,-0.4778750240802765],\"yaxis\":\"y\",\"type\":\"scattergl\"},{\"hovertemplate\":\"color=9<br>x=%{x}<br>y=%{y}<extra></extra>\",\"legendgroup\":\"9\",\"marker\":{\"color\":\"#19d3f3\",\"symbol\":\"circle\",\"size\":12},\"mode\":\"markers\",\"name\":\"9\",\"showlegend\":true,\"x\":[-50.47531509399414,-55.17204666137695,-49.71019744873047,-54.50360107421875,-50.70625305175781,-53.8273811340332,-50.7302360534668,-65.94036102294922,-50.208553314208984,-52.39548873901367,-48.80470657348633,-49.059574127197266,-58.3131103515625,-57.47505569458008,-52.44679260253906,-64.52220916748047,-65.01992797851562,-53.13034439086914,-65.04119110107422,-63.85171127319336,-65.83509826660156,-54.00556182861328,-56.66489028930664,-58.763427734375,-60.4744873046875,-61.083560943603516,-64.72096252441406,-60.050716400146484,-59.85364532470703,-63.47409439086914,-63.27412033081055,-63.04250717163086,-53.077335357666016,-60.24428939819336,-60.112422943115234,-61.688472747802734,-63.982784271240234,-55.99816131591797,-56.43968963623047,-56.395267486572266,-57.071407318115234,-54.37860107421875,-56.43632888793945,-56.11567687988281,-56.633296966552734,-52.52368927001953,-57.67770004272461,-57.779544830322266,-55.797637939453125,-52.91238784790039,-53.34115982055664,-53.76873016357422,-51.54120635986328,57.82313919067383,15.351055145263672,-49.810340881347656,-51.61860656738281,-52.40614700317383,-52.6466178894043,57.38072967529297,-51.62334442138672,-49.51982879638672,-52.970706939697266,-52.4039421081543,-50.9422492980957,-64.23920440673828,-63.52790832519531,-63.17658996582031,-64.05502319335938,-65.85635375976562,-61.19218826293945,-63.05643844604492,-62.463233947753906,-62.6107063293457,-51.04084014892578,-60.61083984375,-51.45725631713867,-51.60109329223633,-54.60961151123047,25.093971252441406,-56.8515510559082,-56.322227478027344,-53.569828033447266,-55.32290267944336,-56.28535079956055,-54.46181869506836,-57.61467742919922,-57.97932052612305,-56.42702865600586,-54.315547943115234,-63.142616271972656,-62.55866622924805,-63.72005081176758,-61.3632698059082,-60.23929214477539,-62.71113204956055,-59.87166213989258,-60.22786331176758,-62.135276794433594,-61.53653335571289,-60.795448303222656,-60.45658493041992,-60.27204132080078,-58.6959228515625,-60.75868606567383,-57.587432861328125,-60.9247932434082,-54.65518569946289,-51.98656463623047,-65.2074966430664,-61.52776336669922,-63.00877380371094,-51.00713348388672,-65.07408905029297,-61.90735626220703,-49.02876663208008,-61.460113525390625,-60.25872039794922,-51.15519332885742,-61.39750289916992,-62.70591735839844,-57.82883834838867,-61.43627166748047,-53.60004425048828,-53.24332046508789,-60.367862701416016,-61.01066970825195,-61.31901168823242,-53.8734245300293,-60.95287322998047,-57.93857955932617,-58.18805694580078,-61.386474609375,-60.91511535644531,-56.65822982788086,-56.985233306884766,-57.681358337402344,-56.43704605102539,-52.062705993652344,-58.44373321533203,-61.30534744262695,-58.79294967651367,-59.9678840637207,-58.72399139404297,-57.95256042480469,-57.997013092041016,-59.63304138183594,-54.15983963012695,-58.52565002441406,-59.593257904052734,-63.220802307128906,-59.07007598876953,-57.7365837097168,-57.322021484375,-57.24250793457031,-57.30473327636719,-60.56966781616211,-56.215118408203125,-49.41611099243164,-56.261688232421875,-57.270240783691406,-53.88249588012695,-53.67325210571289,-57.546531677246094,-57.42399597167969,-54.8682975769043,-59.489723205566406,-53.37912368774414,-52.069637298583984,-54.718326568603516,-57.260948181152344,-55.42300796508789,-55.99368667602539,-56.7309684753418,-48.75581359863281,-56.353546142578125,-65.97059631347656,-49.78533172607422,-50.977378845214844,-50.6701774597168,-50.10385513305664,-57.46405029296875],\"xaxis\":\"x\",\"y\":[5.29712438583374,9.678863525390625,4.806368827819824,8.139464378356934,4.365259647369385,3.962923288345337,5.180897235870361,-3.8942854404449463,5.280822277069092,6.065293788909912,2.2337920665740967,6.76096248626709,-2.7805016040802,6.196124076843262,5.796848297119141,-4.140035152435303,-2.6235158443450928,4.921002388000488,-2.567838430404663,-3.370272636413574,-3.9820117950439453,8.876001358032227,0.49011632800102234,-5.496731281280518,-3.4054625034332275,-1.9672174453735352,-4.4409260749816895,1.4867850542068481,-6.629580974578857,-0.739937961101532,-0.6657105088233948,1.9055041074752808,9.145048141479492,-4.476718902587891,1.4912770986557007,-2.428361654281616,-0.19019563496112823,1.277286410331726,1.9229505062103271,3.5444889068603516,2.371608018875122,-4.040348052978516,3.7461631298065186,1.8156516551971436,3.6006433963775635,2.6472280025482178,5.533034801483154,3.4870848655700684,4.124639987945557,1.4078291654586792,-2.7938525676727295,0.040049370378255844,0.3268192708492279,-7.923958778381348,3.5861263275146484,0.23623844981193542,-1.6313985586166382,1.1225961446762085,-2.843269109725952,-8.041025161743164,-1.656744122505188,0.5248003005981445,1.335742473602295,1.7894542217254639,0.16302992403507233,-1.251672625541687,-1.7249306440353394,-2.1055829524993896,-3.74416446685791,-3.4395949840545654,-4.307497501373291,1.732684850692749,-5.848306179046631,-1.886231780052185,9.041757583618164,-4.332561492919922,8.57827377319336,8.857060432434082,-7.641332149505615,5.32634162902832,4.461399555206299,-6.378301620483398,5.320587158203125,3.382779359817505,-6.438197135925293,-7.757627010345459,-1.1895779371261597,4.300520896911621,-3.8558318614959717,7.833920955657959,-3.834254026412964,-4.209182262420654,-5.073232173919678,-5.184296607971191,-1.4444804191589355,-4.535874366760254,-1.1924076080322266,-2.104426622390747,-3.702817916870117,-3.9083266258239746,2.7588679790496826,0.5016421675682068,-3.8327040672302246,-4.117959976196289,-5.002453327178955,-5.429060935974121,-0.527916669845581,8.969213485717773,3.267826795578003,-0.743026077747345,3.930976152420044,3.043588399887085,7.844165802001953,-0.5307950377464294,1.6839587688446045,4.471268177032471,0.13832467794418335,-5.659910202026367,1.4904285669326782,2.902509927749634,3.4019649028778076,5.167460918426514,3.950256586074829,3.366654634475708,3.3087685108184814,3.852499485015869,4.584403038024902,4.688198089599609,2.3308587074279785,5.5427021980285645,8.892640113830566,9.092645645141602,6.942455291748047,6.573922157287598,5.079934597015381,4.708815574645996,4.811241626739502,5.387364864349365,-2.969942331314087,7.3877105712890625,6.927279472351074,8.4632568359375,8.158533096313477,4.659055233001709,-4.662423133850098,-5.226125717163086,-5.157752990722656,-3.2141571044921875,-5.981259346008301,-3.7959561347961426,-5.6667962074279785,-1.6020522117614746,-4.677363395690918,-4.360161781311035,-3.227996826171875,-3.309641122817993,2.598493814468384,7.522220134735107,7.164623260498047,6.340656280517578,8.121439933776855,6.486920356750488,7.212913990020752,7.538364410400391,8.048345565795898,7.467971324920654,6.889404773712158,7.607415676116943,4.8588175773620605,-0.9678935408592224,-0.9475404024124146,-1.2254325151443481,-1.6874405145645142,-0.4771111309528351,3.7364084720611572,-1.8280582427978516,-4.828701019287109,3.752103567123413,6.805362701416016,2.36712908744812,6.2271952629089355,-2.6109256744384766],\"yaxis\":\"y\",\"type\":\"scattergl\"},{\"hovertemplate\":\"color=4<br>x=%{x}<br>y=%{y}<extra></extra>\",\"legendgroup\":\"4\",\"marker\":{\"color\":\"#FF6692\",\"symbol\":\"circle\",\"size\":12},\"mode\":\"markers\",\"name\":\"4\",\"showlegend\":true,\"x\":[21.25785255432129,13.680916786193848,10.517258644104004,11.384187698364258,21.231779098510742,11.479049682617188,18.010009765625,13.298384666442871,18.553442001342773,9.049851417541504,14.530160903930664,20.75887680053711,12.74699592590332,17.111284255981445,15.216594696044922,18.706575393676758,19.21675682067871,22.182044982910156,11.212774276733398,10.252357482910156,19.133893966674805,23.772905349731445,25.782106399536133,23.206838607788086,14.193533897399902,26.64069175720215,21.865074157714844,22.698348999023438,13.256498336791992,20.079866409301758,2.7381696701049805,8.105718612670898,20.699129104614258,9.258772850036621,9.922926902770996,8.176433563232422,1.8568081855773926,2.6558709144592285,13.59897518157959,14.149832725524902,2.441563129425049,20.71793556213379,2.238555669784546,21.490060806274414,14.18457317352295,10.917998313903809,2.2164578437805176,3.5520968437194824,3.0832600593566895,2.811202049255371,2.245532274246216,5.269990921020508,3.2779037952423096,2.2149829864501953,2.1213130950927734,4.699080944061279,2.242978811264038,2.6851048469543457,2.732741594314575,4.4838690757751465,25.93581771850586,-11.233914375305176,20.324817657470703,9.85543441772461,14.592830657958984,19.030529022216797,23.106054306030273,9.058592796325684,21.114646911621094,19.738971710205078,19.4251651763916,18.987852096557617,24.178712844848633,19.370609283447266,-11.824393272399902,19.406469345092773,9.103078842163086,6.35821533203125,6.739844799041748,6.677634239196777,9.860551834106445,9.083582878112793,9.372787475585938,6.649362087249756,8.98104476928711,-7.322763919830322,9.006755828857422,-7.97626256942749,8.459925651550293,18.756450653076172,-7.731954574584961,13.151843070983887,19.511720657348633,18.401784896850586,23.734106063842773,12.485627174377441,23.76093101501465,17.686229705810547,17.48076629638672,37.422183990478516,13.765135765075684,23.40143394470215,19.029924392700195,17.751798629760742,33.969818115234375,24.85666275024414,10.211506843566895,12.169404029846191,9.852270126342773,12.839546203613281,8.200068473815918,12.335005760192871,10.586289405822754,13.40329647064209,10.572376251220703,9.513376235961914,13.221424102783203,11.333189010620117,15.9258451461792,3.6839661598205566,13.247522354125977,15.887612342834473,14.91629695892334,14.54957389831543,15.835902214050293,16.01024627685547,-10.633774757385254,18.9013614654541,16.061094284057617,6.8618998527526855,14.041952133178711,20.094894409179688,18.21088218688965,16.134029388427734,22.48943328857422,14.32479476928711,8.720001220703125,23.20399284362793,21.569814682006836,21.767553329467773,19.856069564819336,4.635046005249023,22.671722412109375,23.221704483032227,24.098560333251953,19.85521697998047,23.308059692382812,10.34034252166748,13.87311840057373,24.196697235107422,12.112177848815918,16.54949378967285,11.534722328186035,17.54620933532715,16.498987197875977,23.926105499267578,21.948137283325195,23.72880744934082,12.451162338256836,21.29971694946289,11.188396453857422,18.297609329223633,9.250480651855469,8.37076187133789,9.159696578979492,11.040213584899902,10.871615409851074,7.690449237823486,9.573023796081543,11.023645401000977,11.996490478515625,10.774624824523926,8.819933891296387,8.791494369506836,9.04703426361084,-1.9215518236160278,-2.7491555213928223,25.732919692993164,21.61928367614746,25.457426071166992,20.774473190307617,25.147747039794922,22.63443374633789,23.168359756469727,24.75288200378418,1.4602993726730347,25.31300926208496,17.846569061279297,22.004375457763672,25.541040420532227,7.467979431152344,10.74204158782959,20.37997817993164,12.053550720214844,20.214092254638672,10.055611610412598,10.214734077453613,21.957395553588867,20.22871971130371,18.500991821289062,22.22484016418457,20.885089874267578,15.981362342834473,24.70747184753418,14.273608207702637,22.02638816833496],\"xaxis\":\"x\",\"y\":[36.07759475708008,39.968692779541016,45.06172561645508,44.56781768798828,37.158138275146484,43.352752685546875,9.904932022094727,40.54673385620117,39.350154876708984,45.570194244384766,37.354801177978516,-4.688747406005859,41.31821823120117,39.969337463378906,41.04444122314453,43.505226135253906,43.833675384521484,43.240821838378906,43.13895034790039,39.03116989135742,42.17451858520508,44.73229217529297,37.525535583496094,44.434932708740234,42.13935470581055,-11.010442733764648,42.12923812866211,44.424007415771484,43.956809997558594,40.15289306640625,29.41082191467285,40.075706481933594,40.38197326660156,38.5744514465332,42.237022399902344,40.44184112548828,30.163692474365234,29.540803909301758,37.298187255859375,38.022674560546875,30.356143951416016,43.2833137512207,29.748863220214844,44.38294982910156,38.05107879638672,40.322967529296875,30.52834701538086,34.98448944091797,35.17705154418945,35.51892852783203,35.390953063964844,34.41181564331055,35.05557632446289,36.009952545166016,35.755767822265625,34.66835021972656,31.97133445739746,35.91689682006836,35.058223724365234,34.68132019042969,37.111576080322266,58.06190872192383,37.26841354370117,42.51689910888672,40.645362854003906,37.56224060058594,37.52861022949219,42.29443359375,38.62977600097656,37.94574737548828,41.438987731933594,39.298248291015625,40.782630920410156,37.38670349121094,59.892826080322266,39.03776168823242,42.512428283691406,44.81327438354492,45.21809387207031,45.22152328491211,43.590065002441406,43.1553955078125,44.18190002441406,44.91892623901367,44.18042755126953,53.45072555541992,44.37646484375,53.24300765991211,45.031124114990234,38.57219696044922,53.34734344482422,38.20863342285156,40.91081237792969,41.60325241088867,42.67711639404297,38.676998138427734,44.03434371948242,42.15464401245117,42.76530838012695,6.371825218200684,43.365570068359375,43.40361022949219,42.95827865600586,42.41346740722656,5.10476541519165,37.492977142333984,35.31114959716797,34.26473617553711,35.78551483154297,34.85930633544922,37.086517333984375,34.56504821777344,34.52513122558594,38.91554641723633,34.607444763183594,35.61021423339844,35.48717498779297,35.93192672729492,35.4678955078125,11.756012916564941,35.696231842041016,34.789833068847656,33.801109313964844,36.14275360107422,34.15913009643555,32.53078842163086,52.00725173950195,34.92784881591797,32.346092224121094,41.899192810058594,35.256649017333984,35.806793212890625,34.94731903076172,33.94561004638672,37.427101135253906,42.385841369628906,42.596351623535156,38.868743896484375,37.400611877441406,-5.77429723739624,39.23355484008789,13.568123817443848,36.60158920288086,38.515045166015625,40.21168899536133,40.37983703613281,36.939239501953125,43.038177490234375,44.88609313964844,39.465484619140625,38.949092864990234,38.19838333129883,38.62007522583008,37.93441390991211,38.32407760620117,37.68864440917969,37.71778106689453,42.94522476196289,40.16370391845703,41.85727310180664,41.51028823852539,38.03925323486328,37.345481872558594,37.91092300415039,37.101200103759766,37.44064712524414,36.56470489501953,38.66014099121094,38.35694122314453,38.2819709777832,37.58120346069336,37.54702377319336,36.23076248168945,38.24311065673828,36.81427764892578,-4.212416172027588,-5.169637680053711,37.09146499633789,40.23748779296875,40.67183303833008,-4.800230979919434,40.982147216796875,-4.301001071929932,40.24171829223633,43.176422119140625,29.825439453125,39.91456985473633,40.43998718261719,42.177528381347656,41.78709411621094,19.30772590637207,7.749927043914795,38.0152473449707,42.61288070678711,37.92243957519531,33.83491516113281,43.66851043701172,-6.047717094421387,42.1059684753418,45.166114807128906,43.82065200805664,44.714637756347656,39.785701751708984,37.93314743041992,43.034976959228516,42.816978454589844],\"yaxis\":\"y\",\"type\":\"scattergl\"},{\"hovertemplate\":\"color=6<br>x=%{x}<br>y=%{y}<extra></extra>\",\"legendgroup\":\"6\",\"marker\":{\"color\":\"#B6E880\",\"symbol\":\"circle\",\"size\":12},\"mode\":\"markers\",\"name\":\"6\",\"showlegend\":true,\"x\":[-17.63113784790039,-19.331005096435547,-22.781770706176758,-17.256977081298828,-18.263715744018555,-18.48954200744629,-18.676698684692383,17.759689331054688,17.56410026550293,-18.90304183959961,-16.615863800048828,-17.071874618530273,-17.276487350463867,-20.36334228515625,-17.830541610717773,-18.361629486083984,-19.46940040588379,-18.966524124145508,-19.798717498779297,-16.63296890258789,-19.15057373046875,-15.651154518127441,-18.26702117919922,-18.621383666992188,-17.212961196899414,-18.528888702392578,-25.297855377197266,-15.907638549804688,-13.823661804199219,-14.685388565063477,-22.073732376098633,-20.611207962036133,-20.355260848999023,-20.255477905273438,-20.38165855407715,-19.798206329345703,-19.94392967224121,-19.776836395263672,-22.81838607788086,-18.229475021362305,-20.592844009399414,-20.694385528564453,-20.549163818359375,-22.890108108520508,13.821451187133789,-14.486610412597656,-15.956400871276855,-22.369386672973633,-15.263284683227539,-16.354694366455078,-15.88171672821045,-15.78266716003418,-15.73813533782959,-16.722461700439453,-16.327028274536133,-16.004928588867188,-15.233869552612305,-14.859578132629395,-14.62231159210205,-18.918310165405273,-4.339710235595703,-4.103530406951904,-18.46194839477539,-18.206329345703125,-18.582521438598633,-23.77977180480957,-18.64202117919922,-21.123987197875977,-18.572404861450195,-23.08492660522461,-22.695608139038086,-21.090456008911133,-20.997819900512695,-21.39408302307129,-3.9525139331817627,-22.876522064208984,-22.844175338745117,-22.740442276000977,-23.39185333251953,-21.038043975830078,-21.99449920654297,-21.788469314575195,-23.298137664794922,-57.36467742919922,-15.621421813964844,-12.40591049194336,-12.298722267150879,-12.697175979614258,-13.513920783996582,-25.5938663482666],\"xaxis\":\"x\",\"y\":[24.816953659057617,24.070554733276367,48.61848449707031,23.6467227935791,22.199169158935547,22.98169708251953,21.218730926513672,10.035470008850098,10.421309471130371,22.915790557861328,22.201438903808594,23.66680145263672,25.976306915283203,27.84147071838379,26.47870445251465,27.614290237426758,26.040102005004883,27.434690475463867,25.04557991027832,25.237445831298828,26.112756729125977,25.642528533935547,27.62479019165039,24.810321807861328,25.1661434173584,25.308815002441406,43.36979293823242,25.531700134277344,32.931396484375,32.823429107666016,26.229597091674805,21.817039489746094,23.44875717163086,24.33857536315918,21.535921096801758,24.007558822631836,21.139785766601562,20.534982681274414,47.85926055908203,23.573171615600586,22.676740646362305,22.050827026367188,23.96929359436035,47.07969665527344,5.993344306945801,32.24876022338867,32.843833923339844,46.668766021728516,32.28193283081055,32.84564971923828,29.95431900024414,32.531368255615234,32.056636810302734,31.544755935668945,31.47748565673828,33.344383239746094,32.82699203491211,31.978639602661133,31.10647201538086,20.215402603149414,-4.054009437561035,-4.250115394592285,48.19820785522461,21.24213409423828,21.84708023071289,25.91983413696289,28.175752639770508,24.408462524414062,21.51580810546875,25.80060386657715,26.845142364501953,25.418453216552734,27.713151931762695,28.133586883544922,-6.35546350479126,27.415552139282227,27.463369369506836,28.07756233215332,26.032997131347656,25.47893524169922,27.558998107910156,28.24631690979004,27.11577033996582,9.734127044677734,31.55160903930664,31.797883987426758,31.903902053833008,31.786540985107422,32.92428207397461,50.29399490356445],\"yaxis\":\"y\",\"type\":\"scattergl\"},{\"hovertemplate\":\"color=8<br>x=%{x}<br>y=%{y}<extra></extra>\",\"legendgroup\":\"8\",\"marker\":{\"color\":\"#FF97FF\",\"symbol\":\"circle\",\"size\":12},\"mode\":\"markers\",\"name\":\"8\",\"showlegend\":true,\"x\":[45.89316940307617,43.632747650146484,48.60136032104492,41.59000778198242,47.27759552001953,44.23504638671875,37.8252067565918,42.08064651489258,43.72743225097656,50.321502685546875,50.6051139831543,37.504295349121094,42.90483474731445,44.691776275634766,50.7065315246582,50.507415771484375,42.01510238647461,44.76939392089844,45.108028411865234,44.51824951171875,46.63249206542969,43.493648529052734,44.20811080932617,45.92091751098633,43.87609100341797,45.49005889892578,43.807273864746094,44.16470718383789,45.46507263183594,46.69741439819336,45.4550895690918,46.67039108276367,49.575496673583984,47.10761642456055,46.73097229003906,46.659767150878906,55.51407241821289,46.320556640625,47.711177825927734,47.78919219970703,50.60861587524414,48.067962646484375,49.19866943359375,55.70246124267578,42.836483001708984,56.112789154052734,40.174076080322266,57.02106857299805,40.42637634277344,57.02010726928711,41.62678527832031,41.2077522277832,42.795494079589844,57.20331573486328,41.24076843261719,41.596614837646484,45.23169708251953,57.81986999511719,49.13109588623047,57.1483039855957,58.21746826171875,56.19118881225586,55.190189361572266,40.790401458740234,43.892372131347656,41.27535629272461,40.764869689941406,40.13071823120117,40.51121139526367,38.66881561279297,40.55961227416992,46.840579986572266,40.07204818725586,39.68317794799805,40.756866455078125,46.85235595703125,47.19742202758789,47.13713455200195,43.2447395324707,50.204158782958984,46.428401947021484,56.37803649902344,50.428077697753906,48.0885124206543,49.609527587890625,25.15481185913086,48.751556396484375,41.327091217041016,56.55017852783203,44.8842658996582,56.202392578125,51.40009307861328,56.907283782958984,45.25813293457031,54.94894790649414,45.90371322631836,44.19985580444336,55.36192321777344,44.712799072265625,54.993324279785156,43.61802673339844,44.11725997924805,55.156124114990234,47.29719924926758,56.53290557861328,55.53193664550781,54.9301872253418,54.69873046875,55.6644287109375,44.05176544189453,44.070045471191406,48.85793685913086,47.810272216796875,41.90650939941406,43.076011657714844,41.69498825073242,43.17768096923828,46.226924896240234,45.61526870727539,48.59595489501953,41.95220947265625,43.083003997802734,10.481828689575195,47.322322845458984,44.250823974609375,40.25777053833008,39.656761169433594,40.58840560913086,45.97834014892578,43.34897232055664,42.59654998779297,37.74772262573242,42.97256088256836,46.979583740234375,25.786100387573242,45.0477294921875,42.37434387207031,40.89718246459961,43.97958755493164,45.16172409057617,43.117740631103516,43.434326171875,42.416160583496094,49.826324462890625,51.43768310546875,49.41242218017578,48.31601333618164,49.7093391418457,50.2822151184082,50.8809814453125,49.745086669921875,50.1782341003418,51.194576263427734,48.025177001953125,43.9696044921875,50.853965759277344,43.322349548339844,46.47828674316406,45.52191162109375,41.451446533203125,47.638572692871094,51.00978088378906,47.07644271850586,41.19782638549805,39.241031646728516,51.236305236816406,49.45050811767578,50.93198776245117,52.023597717285156,39.89360046386719,39.835968017578125,39.28812789916992,48.42707443237305,49.49467849731445,51.63794708251953],\"xaxis\":\"x\",\"y\":[2.3015058040618896,5.612753868103027,10.720396041870117,6.7625732421875,12.450815200805664,13.652966499328613,7.630510330200195,14.774214744567871,13.478232383728027,12.108023643493652,8.83134651184082,7.959838390350342,14.149027824401855,13.857285499572754,12.382257461547852,12.75964069366455,15.133974075317383,9.361589431762695,9.331991195678711,10.967554092407227,12.81370735168457,12.562232971191406,9.099203109741211,10.181366920471191,9.642655372619629,12.349048614501953,11.879068374633789,10.303631782531738,12.47093391418457,9.81530475616455,3.390138864517212,0.7849417924880981,4.601871013641357,0.9112272262573242,3.81060791015625,2.7695159912109375,-6.125731468200684,0.31252557039260864,2.094515562057495,7.124000072479248,7.3709540367126465,7.779526233673096,5.777697563171387,-8.22413158416748,-1.71001398563385,-6.3265509605407715,1.7354061603546143,-6.913120746612549,1.430324912071228,-6.423182010650635,3.0947723388671875,3.124507188796997,2.5097758769989014,-6.100794315338135,3.133106231689453,0.8751392364501953,8.837578773498535,-7.249488353729248,10.252520561218262,-7.994748592376709,-7.065030097961426,-8.389650344848633,-9.342483520507812,2.5562589168548584,7.96681022644043,3.208087205886841,13.202314376831055,13.877276420593262,11.454008102416992,11.827169418334961,14.603764533996582,14.25955581665039,12.599472045898438,12.638580322265625,12.568995475769043,11.862576484680176,10.202332496643066,13.724990844726562,13.656603813171387,13.101490020751953,13.818488121032715,-4.717896461486816,7.577518463134766,13.960007667541504,13.04144287109375,5.407980918884277,13.67996883392334,12.115211486816406,-5.236314296722412,7.886106491088867,-5.010043144226074,10.500611305236816,-4.797369480133057,6.453113555908203,-7.178269386291504,5.543169975280762,-0.24264118075370789,-6.592906951904297,3.126011848449707,-8.66741943359375,0.09338998794555664,0.22843684256076813,-7.2201385498046875,6.681412696838379,-5.307637691497803,-7.18377685546875,-8.310771942138672,-8.380764961242676,-6.247806549072266,3.224069833755493,-0.7253770232200623,5.36388635635376,9.719383239746094,5.901177406311035,0.13810966908931732,-0.9351693987846375,0.3787981867790222,0.4741235673427582,4.259654998779297,5.3775315284729,5.770339488983154,-1.4610742330551147,-3.7734711170196533,11.283356666564941,6.974790573120117,11.004685401916504,7.227137088775635,11.975842475891113,12.535224914550781,9.253353118896484,9.290558815002441,6.348114013671875,10.759750366210938,14.258502960205078,6.10896635055542,11.947155952453613,9.691685676574707,-1.3670942783355713,-2.3925905227661133,1.430380940437317,0.9687446355819702,-0.3548407256603241,-0.8262501955032349,7.644899845123291,7.800604343414307,7.030773162841797,4.190570831298828,6.733180522918701,5.7188286781311035,5.853604316711426,6.416974067687988,5.6576948165893555,11.570557594299316,5.281262397766113,1.6169489622116089,5.7439117431640625,5.482831954956055,-0.35470470786094666,5.823122501373291,12.95419692993164,11.67158031463623,8.867116928100586,6.019316673278809,13.407490730285645,9.48721694946289,11.36835765838623,7.506275177001953,11.317651748657227,7.504508972167969,8.892736434936523,10.969935417175293,9.542603492736816,4.202861785888672,5.390867233276367,6.54100227355957],\"yaxis\":\"y\",\"type\":\"scattergl\"},{\"hovertemplate\":\"color=2<br>x=%{x}<br>y=%{y}<extra></extra>\",\"legendgroup\":\"2\",\"marker\":{\"color\":\"#FECB52\",\"symbol\":\"circle\",\"size\":12},\"mode\":\"markers\",\"name\":\"2\",\"showlegend\":true,\"x\":[-27.409481048583984,-31.24704360961914,-24.259157180786133,-22.13722801208496,-22.0349178314209,-22.000526428222656,-23.92664337158203,-29.176315307617188,-29.006994247436523,-29.839736938476562,-26.927400588989258,-21.386539459228516,-28.125337600708008,-25.5115966796875,-31.001026153564453,-27.244930267333984,-30.065834045410156,-28.528921127319336,-28.0487117767334,-28.401447296142578,-30.504161834716797,-27.73702621459961,-28.2085018157959,-28.339555740356445,-27.40738296508789,2.569788932800293,-25.499446868896484,-23.873878479003906,-22.655357360839844,-22.15315818786621,-29.718719482421875,-22.631715774536133,-25.662302017211914,-27.68959617614746,-20.93482780456543,-22.81029510498047,-22.73126792907715,-23.42711067199707,-21.84864044189453,-23.456058502197266,-22.899459838867188,-23.503490447998047,-29.235403060913086,-22.316619873046875,-20.920696258544922,-22.31683921813965,-22.627586364746094,-23.275074005126953,-20.51691436767578,-27.26445960998535,-31.658248901367188,-31.482437133789062,-29.980060577392578,-31.982603073120117,-29.880727767944336,-31.357322692871094,-31.652956008911133,-29.55514907836914,-29.629989624023438,-31.196683883666992,-31.65922737121582,-26.181230545043945,-28.356834411621094,-28.972442626953125,-23.917442321777344,-30.132963180541992,-25.96006202697754,-26.509180068969727,-24.03386688232422,-24.83949089050293,-24.72821044921875,-29.08645248413086,-24.629535675048828,-28.470792770385742,-23.302780151367188,-23.533889770507812,-27.582813262939453,-25.39297866821289,-22.029142379760742,-27.509187698364258,-28.77475357055664,-27.455209732055664,-25.242206573486328,-26.574623107910156,5.750927448272705,-29.74083709716797,-29.3918514251709,-28.635154724121094,-27.774660110473633,-30.4305419921875,-29.61773681640625,-29.437923431396484,-28.955169677734375,-26.046045303344727,-24.520917892456055,-26.39892578125,6.0262651443481445,5.133173942565918,-31.112045288085938,-31.47803497314453,-29.503570556640625,6.028463363647461,-27.9531192779541,-14.919151306152344,-27.71237564086914,-31.957763671875,-28.60433578491211,-24.97417449951172,-30.066749572753906,-28.593406677246094,-29.23960304260254,-23.90762710571289,-28.67699432373047,-29.994953155517578,-30.287559509277344,-26.892810821533203,-23.412492752075195,-23.468595504760742,-28.694881439208984,-25.165510177612305,-24.36542320251465,-30.101701736450195,-31.147525787353516,-27.845138549804688,-1.6214972734451294,-23.514751434326172,-28.88522720336914,-30.743980407714844,0.36849290132522583,-23.3087215423584,-30.1175594329834,-29.6862735748291,-28.507568359375,-29.013973236083984,-26.003732681274414,-31.520475387573242,-29.019208908081055,-23.59967613220215,1.045405387878418,-25.88694190979004,-26.890642166137695,-12.101672172546387,-26.878337860107422,-25.27252960205078,-23.973678588867188,-26.714845657348633,-21.19774627685547,-12.136777877807617,-28.296119689941406],\"xaxis\":\"x\",\"y\":[-10.973475456237793,-9.518182754516602,-16.97146987915039,-11.360940933227539,-11.353939056396484,-10.248435974121094,-17.437946319580078,-17.169389724731445,-16.064916610717773,-10.231605529785156,-8.075647354125977,-11.506576538085938,-7.102670192718506,-9.86991024017334,-3.9539835453033447,-8.693096160888672,-4.716209411621094,-5.680314064025879,-8.71329402923584,-8.01218032836914,-3.8274028301239014,-5.79793643951416,-6.3986077308654785,-5.694571495056152,-6.743594646453857,30.804277420043945,-8.664238929748535,-19.885704040527344,-19.39155387878418,-19.040966033935547,-12.767431259155273,-19.470285415649414,-17.089580535888672,-4.4309468269348145,-15.994820594787598,-13.453612327575684,-13.773370742797852,-14.246416091918945,-14.170114517211914,-14.271407127380371,-16.100370407104492,-13.827345848083496,-9.350722312927246,-14.317411422729492,-20.75908660888672,-17.78834342956543,-21.398334503173828,-21.518390655517578,-20.514400482177734,-21.403003692626953,-9.648724555969238,-9.285470962524414,-7.880428314208984,-8.83657169342041,-9.245824813842773,-19.813507080078125,-19.85655403137207,-21.779197692871094,-8.959857940673828,-7.614955902099609,-4.005460739135742,-9.787652015686035,-4.132218837738037,-4.909170627593994,-8.97547435760498,-6.9659223556518555,-9.365544319152832,-8.762201309204102,-8.737171173095703,-8.062572479248047,-9.9430570602417,-6.115980625152588,-11.411378860473633,-4.829873561859131,-21.018802642822266,-19.768951416015625,-12.191621780395508,-15.0342435836792,-19.848827362060547,-13.488410949707031,-12.706141471862793,-13.311759948730469,-17.298694610595703,-18.85775375366211,11.946882247924805,-7.9509782791137695,-15.743340492248535,-20.567697525024414,-11.810062408447266,-18.523759841918945,-20.643508911132812,-21.945816040039062,-4.541420936584473,-18.296875,-11.631440162658691,-9.996217727661133,10.343755722045898,8.654550552368164,-20.14929962158203,-8.541926383972168,-19.645299911499023,10.332244873046875,-3.8668274879455566,13.42638874053955,-5.457408428192139,-4.042479991912842,-8.30074405670166,-20.89877700805664,-19.138450622558594,-18.472339630126953,-17.87270736694336,-16.652912139892578,-18.67790985107422,-20.511709213256836,-15.460792541503906,-14.659515380859375,-17.328168869018555,-22.146587371826172,-19.474517822265625,-24.790664672851562,-20.63257598876953,-6.172306060791016,-6.6288161277771,-11.645312309265137,7.035562515258789,-6.164762496948242,-3.254408359527588,-6.2543134689331055,29.455503463745117,-6.080082893371582,-3.360220193862915,-6.032993316650391,-15.766716003417969,-11.56577205657959,-7.873194694519043,-7.051081657409668,-11.64056396484375,-6.004950046539307,29.61831283569336,-22.42784881591797,-21.842390060424805,-11.020227432250977,-20.380308151245117,-19.27727699279785,-17.634382247924805,-22.12934684753418,-20.605363845825195,-11.034355163574219,-22.298858642578125],\"yaxis\":\"y\",\"type\":\"scattergl\"}],                        {\"template\":{\"data\":{\"histogram2dcontour\":[{\"type\":\"histogram2dcontour\",\"colorbar\":{\"outlinewidth\":0,\"ticks\":\"\"},\"colorscale\":[[0.0,\"#0d0887\"],[0.1111111111111111,\"#46039f\"],[0.2222222222222222,\"#7201a8\"],[0.3333333333333333,\"#9c179e\"],[0.4444444444444444,\"#bd3786\"],[0.5555555555555556,\"#d8576b\"],[0.6666666666666666,\"#ed7953\"],[0.7777777777777778,\"#fb9f3a\"],[0.8888888888888888,\"#fdca26\"],[1.0,\"#f0f921\"]]}],\"choropleth\":[{\"type\":\"choropleth\",\"colorbar\":{\"outlinewidth\":0,\"ticks\":\"\"}}],\"histogram2d\":[{\"type\":\"histogram2d\",\"colorbar\":{\"outlinewidth\":0,\"ticks\":\"\"},\"colorscale\":[[0.0,\"#0d0887\"],[0.1111111111111111,\"#46039f\"],[0.2222222222222222,\"#7201a8\"],[0.3333333333333333,\"#9c179e\"],[0.4444444444444444,\"#bd3786\"],[0.5555555555555556,\"#d8576b\"],[0.6666666666666666,\"#ed7953\"],[0.7777777777777778,\"#fb9f3a\"],[0.8888888888888888,\"#fdca26\"],[1.0,\"#f0f921\"]]}],\"heatmap\":[{\"type\":\"heatmap\",\"colorbar\":{\"outlinewidth\":0,\"ticks\":\"\"},\"colorscale\":[[0.0,\"#0d0887\"],[0.1111111111111111,\"#46039f\"],[0.2222222222222222,\"#7201a8\"],[0.3333333333333333,\"#9c179e\"],[0.4444444444444444,\"#bd3786\"],[0.5555555555555556,\"#d8576b\"],[0.6666666666666666,\"#ed7953\"],[0.7777777777777778,\"#fb9f3a\"],[0.8888888888888888,\"#fdca26\"],[1.0,\"#f0f921\"]]}],\"heatmapgl\":[{\"type\":\"heatmapgl\",\"colorbar\":{\"outlinewidth\":0,\"ticks\":\"\"},\"colorscale\":[[0.0,\"#0d0887\"],[0.1111111111111111,\"#46039f\"],[0.2222222222222222,\"#7201a8\"],[0.3333333333333333,\"#9c179e\"],[0.4444444444444444,\"#bd3786\"],[0.5555555555555556,\"#d8576b\"],[0.6666666666666666,\"#ed7953\"],[0.7777777777777778,\"#fb9f3a\"],[0.8888888888888888,\"#fdca26\"],[1.0,\"#f0f921\"]]}],\"contourcarpet\":[{\"type\":\"contourcarpet\",\"colorbar\":{\"outlinewidth\":0,\"ticks\":\"\"}}],\"contour\":[{\"type\":\"contour\",\"colorbar\":{\"outlinewidth\":0,\"ticks\":\"\"},\"colorscale\":[[0.0,\"#0d0887\"],[0.1111111111111111,\"#46039f\"],[0.2222222222222222,\"#7201a8\"],[0.3333333333333333,\"#9c179e\"],[0.4444444444444444,\"#bd3786\"],[0.5555555555555556,\"#d8576b\"],[0.6666666666666666,\"#ed7953\"],[0.7777777777777778,\"#fb9f3a\"],[0.8888888888888888,\"#fdca26\"],[1.0,\"#f0f921\"]]}],\"surface\":[{\"type\":\"surface\",\"colorbar\":{\"outlinewidth\":0,\"ticks\":\"\"},\"colorscale\":[[0.0,\"#0d0887\"],[0.1111111111111111,\"#46039f\"],[0.2222222222222222,\"#7201a8\"],[0.3333333333333333,\"#9c179e\"],[0.4444444444444444,\"#bd3786\"],[0.5555555555555556,\"#d8576b\"],[0.6666666666666666,\"#ed7953\"],[0.7777777777777778,\"#fb9f3a\"],[0.8888888888888888,\"#fdca26\"],[1.0,\"#f0f921\"]]}],\"mesh3d\":[{\"type\":\"mesh3d\",\"colorbar\":{\"outlinewidth\":0,\"ticks\":\"\"}}],\"scatter\":[{\"fillpattern\":{\"fillmode\":\"overlay\",\"size\":10,\"solidity\":0.2},\"type\":\"scatter\"}],\"parcoords\":[{\"type\":\"parcoords\",\"line\":{\"colorbar\":{\"outlinewidth\":0,\"ticks\":\"\"}}}],\"scatterpolargl\":[{\"type\":\"scatterpolargl\",\"marker\":{\"colorbar\":{\"outlinewidth\":0,\"ticks\":\"\"}}}],\"bar\":[{\"error_x\":{\"color\":\"#2a3f5f\"},\"error_y\":{\"color\":\"#2a3f5f\"},\"marker\":{\"line\":{\"color\":\"#E5ECF6\",\"width\":0.5},\"pattern\":{\"fillmode\":\"overlay\",\"size\":10,\"solidity\":0.2}},\"type\":\"bar\"}],\"scattergeo\":[{\"type\":\"scattergeo\",\"marker\":{\"colorbar\":{\"outlinewidth\":0,\"ticks\":\"\"}}}],\"scatterpolar\":[{\"type\":\"scatterpolar\",\"marker\":{\"colorbar\":{\"outlinewidth\":0,\"ticks\":\"\"}}}],\"histogram\":[{\"marker\":{\"pattern\":{\"fillmode\":\"overlay\",\"size\":10,\"solidity\":0.2}},\"type\":\"histogram\"}],\"scattergl\":[{\"type\":\"scattergl\",\"marker\":{\"colorbar\":{\"outlinewidth\":0,\"ticks\":\"\"}}}],\"scatter3d\":[{\"type\":\"scatter3d\",\"line\":{\"colorbar\":{\"outlinewidth\":0,\"ticks\":\"\"}},\"marker\":{\"colorbar\":{\"outlinewidth\":0,\"ticks\":\"\"}}}],\"scattermapbox\":[{\"type\":\"scattermapbox\",\"marker\":{\"colorbar\":{\"outlinewidth\":0,\"ticks\":\"\"}}}],\"scatterternary\":[{\"type\":\"scatterternary\",\"marker\":{\"colorbar\":{\"outlinewidth\":0,\"ticks\":\"\"}}}],\"scattercarpet\":[{\"type\":\"scattercarpet\",\"marker\":{\"colorbar\":{\"outlinewidth\":0,\"ticks\":\"\"}}}],\"carpet\":[{\"aaxis\":{\"endlinecolor\":\"#2a3f5f\",\"gridcolor\":\"white\",\"linecolor\":\"white\",\"minorgridcolor\":\"white\",\"startlinecolor\":\"#2a3f5f\"},\"baxis\":{\"endlinecolor\":\"#2a3f5f\",\"gridcolor\":\"white\",\"linecolor\":\"white\",\"minorgridcolor\":\"white\",\"startlinecolor\":\"#2a3f5f\"},\"type\":\"carpet\"}],\"table\":[{\"cells\":{\"fill\":{\"color\":\"#EBF0F8\"},\"line\":{\"color\":\"white\"}},\"header\":{\"fill\":{\"color\":\"#C8D4E3\"},\"line\":{\"color\":\"white\"}},\"type\":\"table\"}],\"barpolar\":[{\"marker\":{\"line\":{\"color\":\"#E5ECF6\",\"width\":0.5},\"pattern\":{\"fillmode\":\"overlay\",\"size\":10,\"solidity\":0.2}},\"type\":\"barpolar\"}],\"pie\":[{\"automargin\":true,\"type\":\"pie\"}]},\"layout\":{\"autotypenumbers\":\"strict\",\"colorway\":[\"#636efa\",\"#EF553B\",\"#00cc96\",\"#ab63fa\",\"#FFA15A\",\"#19d3f3\",\"#FF6692\",\"#B6E880\",\"#FF97FF\",\"#FECB52\"],\"font\":{\"color\":\"#2a3f5f\"},\"hovermode\":\"closest\",\"hoverlabel\":{\"align\":\"left\"},\"paper_bgcolor\":\"white\",\"plot_bgcolor\":\"#E5ECF6\",\"polar\":{\"bgcolor\":\"#E5ECF6\",\"angularaxis\":{\"gridcolor\":\"white\",\"linecolor\":\"white\",\"ticks\":\"\"},\"radialaxis\":{\"gridcolor\":\"white\",\"linecolor\":\"white\",\"ticks\":\"\"}},\"ternary\":{\"bgcolor\":\"#E5ECF6\",\"aaxis\":{\"gridcolor\":\"white\",\"linecolor\":\"white\",\"ticks\":\"\"},\"baxis\":{\"gridcolor\":\"white\",\"linecolor\":\"white\",\"ticks\":\"\"},\"caxis\":{\"gridcolor\":\"white\",\"linecolor\":\"white\",\"ticks\":\"\"}},\"coloraxis\":{\"colorbar\":{\"outlinewidth\":0,\"ticks\":\"\"}},\"colorscale\":{\"sequential\":[[0.0,\"#0d0887\"],[0.1111111111111111,\"#46039f\"],[0.2222222222222222,\"#7201a8\"],[0.3333333333333333,\"#9c179e\"],[0.4444444444444444,\"#bd3786\"],[0.5555555555555556,\"#d8576b\"],[0.6666666666666666,\"#ed7953\"],[0.7777777777777778,\"#fb9f3a\"],[0.8888888888888888,\"#fdca26\"],[1.0,\"#f0f921\"]],\"sequentialminus\":[[0.0,\"#0d0887\"],[0.1111111111111111,\"#46039f\"],[0.2222222222222222,\"#7201a8\"],[0.3333333333333333,\"#9c179e\"],[0.4444444444444444,\"#bd3786\"],[0.5555555555555556,\"#d8576b\"],[0.6666666666666666,\"#ed7953\"],[0.7777777777777778,\"#fb9f3a\"],[0.8888888888888888,\"#fdca26\"],[1.0,\"#f0f921\"]],\"diverging\":[[0,\"#8e0152\"],[0.1,\"#c51b7d\"],[0.2,\"#de77ae\"],[0.3,\"#f1b6da\"],[0.4,\"#fde0ef\"],[0.5,\"#f7f7f7\"],[0.6,\"#e6f5d0\"],[0.7,\"#b8e186\"],[0.8,\"#7fbc41\"],[0.9,\"#4d9221\"],[1,\"#276419\"]]},\"xaxis\":{\"gridcolor\":\"white\",\"linecolor\":\"white\",\"ticks\":\"\",\"title\":{\"standoff\":15},\"zerolinecolor\":\"white\",\"automargin\":true,\"zerolinewidth\":2},\"yaxis\":{\"gridcolor\":\"white\",\"linecolor\":\"white\",\"ticks\":\"\",\"title\":{\"standoff\":15},\"zerolinecolor\":\"white\",\"automargin\":true,\"zerolinewidth\":2},\"scene\":{\"xaxis\":{\"backgroundcolor\":\"#E5ECF6\",\"gridcolor\":\"white\",\"linecolor\":\"white\",\"showbackground\":true,\"ticks\":\"\",\"zerolinecolor\":\"white\",\"gridwidth\":2},\"yaxis\":{\"backgroundcolor\":\"#E5ECF6\",\"gridcolor\":\"white\",\"linecolor\":\"white\",\"showbackground\":true,\"ticks\":\"\",\"zerolinecolor\":\"white\",\"gridwidth\":2},\"zaxis\":{\"backgroundcolor\":\"#E5ECF6\",\"gridcolor\":\"white\",\"linecolor\":\"white\",\"showbackground\":true,\"ticks\":\"\",\"zerolinecolor\":\"white\",\"gridwidth\":2}},\"shapedefaults\":{\"line\":{\"color\":\"#2a3f5f\"}},\"annotationdefaults\":{\"arrowcolor\":\"#2a3f5f\",\"arrowhead\":0,\"arrowwidth\":1},\"geo\":{\"bgcolor\":\"white\",\"landcolor\":\"#E5ECF6\",\"subunitcolor\":\"white\",\"showland\":true,\"showlakes\":true,\"lakecolor\":\"white\"},\"title\":{\"x\":0.05},\"mapbox\":{\"style\":\"light\"}}},\"xaxis\":{\"anchor\":\"y\",\"domain\":[0.0,1.0],\"title\":{\"text\":\"x\"}},\"yaxis\":{\"anchor\":\"x\",\"domain\":[0.0,1.0],\"title\":{\"text\":\"y\"}},\"legend\":{\"title\":{\"text\":\"color\"},\"tracegroupgap\":0},\"margin\":{\"t\":60},\"height\":500,\"width\":700},                        {\"responsive\": true}                    ).then(function(){\n",
       "                            \n",
       "var gd = document.getElementById('cb552021-5377-4fcd-9a3a-8f1941cb507b');\n",
       "var x = new MutationObserver(function (mutations, observer) {{\n",
       "        var display = window.getComputedStyle(gd).display;\n",
       "        if (!display || display === 'none') {{\n",
       "            console.log([gd, 'removed!']);\n",
       "            Plotly.purge(gd);\n",
       "            observer.disconnect();\n",
       "        }}\n",
       "}});\n",
       "\n",
       "// Listen for the removal of the full notebook cells\n",
       "var notebookContainer = gd.closest('#notebook-container');\n",
       "if (notebookContainer) {{\n",
       "    x.observe(notebookContainer, {childList: true});\n",
       "}}\n",
       "\n",
       "// Listen for the clearing of the current output cell\n",
       "var outputEl = gd.closest('.output');\n",
       "if (outputEl) {{\n",
       "    x.observe(outputEl, {childList: true});\n",
       "}}\n",
       "\n",
       "                        })                };                });            </script>        </div>"
      ]
     },
     "metadata": {},
     "output_type": "display_data"
    }
   ],
   "source": [
    "from sklearn.manifold import TSNE\n",
    "\n",
    "tsne = TSNE()\n",
    "X_new = tsne.fit_transform(X)\n",
    "\n",
    "x = []\n",
    "y = []\n",
    "for row in X_new:\n",
    "    x.append(row[0])\n",
    "    y.append(row[1])\n",
    "\n",
    "fig = px.scatter(x=x, y=y, color=cluster_assignments,\n",
    "                width=700, height=500)\n",
    "\n",
    "fig.update_traces(marker=dict(size=12),\n",
    "#                               line=dict(width=2,\n",
    "#                                         color='DarkSlateGrey')),\n",
    "                  selector=dict(mode='markers'))\n",
    "\n",
    "fig.show()"
   ]
  },
  {
   "cell_type": "markdown",
   "metadata": {},
   "source": [
    "# Moons Dataset"
   ]
  },
  {
   "cell_type": "code",
   "execution_count": 97,
   "metadata": {
    "colab": {
     "base_uri": "https://localhost:8080/",
     "height": 282
    },
    "id": "-hSk6cVeaDgf",
    "outputId": "aaa59609-63c2-4e39-97de-c4724c9f35f5"
   },
   "outputs": [
    {
     "data": {
      "application/vnd.plotly.v1+json": {
       "config": {
        "plotlyServerURL": "https://plot.ly"
       },
       "data": [
        {
         "hovertemplate": "x=%{x}<br>y=%{y}<extra></extra>",
         "legendgroup": "",
         "marker": {
          "color": "#636efa",
          "symbol": "circle"
         },
         "mode": "markers",
         "name": "",
         "orientation": "v",
         "showlegend": false,
         "type": "scatter",
         "x": [
          0.7183493500977276,
          0.9679484224283447,
          1.5721166601221694,
          1.9979453927503363,
          -0.9815591569910653,
          -0.9979453927503363,
          0.22252093395631445,
          1.7614459583691342,
          0.9490557470106686,
          0.01844084300893467,
          1.6234898018587334,
          -1,
          1.8380881048918405,
          0.9672948630390295,
          0.1286812958766106,
          -0.7183493500977275,
          1.991790013823246,
          0.5374617097591645,
          -0.032051577571654985,
          0.8713187041233894,
          0.09903113209758085,
          0.3765101981412664,
          0.595216656877606,
          0.09602302590768189,
          0,
          -0.09602302590768154,
          -0.9269167573460216,
          1.6723008902613166,
          1.7183493500977276,
          0.5183925683105252,
          -0.6234898018587335,
          0.8380881048918407,
          0.03205157757165533,
          0.7154724133689674,
          1.0960230259076815,
          0.48160743168947484,
          0.9815591569910653,
          0.7614459583691344,
          0.3276991097386831,
          0.15959989503337932,
          0.008209986176753836,
          -0.4625382902408351,
          0.9009688679024191,
          1.2845275866310324,
          0.6546349455786922,
          -0.8380881048918404,
          1.2225209339563143,
          1.032051577571655,
          -0.6723008902613166,
          0.07308324265397825,
          0.1619118951081593,
          0.28452758663103267,
          1.518392568310525,
          -0.28452758663103234,
          1.9815591569910653,
          0.6723008902613169,
          0.9269167573460217,
          -0.7614459583691342,
          0.2816506499022724,
          0.7774790660436856,
          0.9039769740923181,
          -0.5721166601221694,
          0.9917900138232462,
          1.9269167573460217,
          -0.40478334312239367,
          1,
          -0.518392568310525,
          1.9672948630390295,
          -0.9672948630390293,
          1.8014136218679564,
          0.9979453927503363,
          -0.15959989503337896,
          0.42788333987783034,
          0.03270513696097055,
          1.462538290240835,
          0.404783343122394,
          -0.3453650544213075,
          0.3453650544213078,
          -0.8713187041233892,
          -0.900968867902419,
          0.23855404163086558,
          1.9490557470106686,
          0.5721166601221697,
          1.8713187041233892,
          0.8404001049666207,
          0.05094425298933136,
          1.3453650544213076,
          0.4625382902408354,
          1.4047833431223937,
          0.19858637813204327,
          0.0020546072496636647,
          0.6234898018587336,
          1.900968867902419,
          -0.22252093395631434,
          -0.9490557470106686,
          2,
          0.8014136218679567,
          1.159599895033379,
          -0.991790013823246,
          -0.8014136218679565
         ],
         "xaxis": "x",
         "y": [
          0.6956825506034864,
          -0.4994862162006879,
          -0.3201722545969561,
          0.43592978001928673,
          0.19115862870137254,
          0.06407021998071323,
          0.9749279121818236,
          -0.14822839530778875,
          0.31510821802362066,
          0.30884137129862776,
          -0.2818314824680299,
          1.2246467991473532e-16,
          -0.04553490121054904,
          0.25365458390950735,
          0.009282447996062149,
          0.6956825506034865,
          0.37212283831549353,
          -0.386599306373,
          0.9994862162006879,
          0.49071755200393785,
          0.06611626088244194,
          -0.2818314824680298,
          -0.4144126230158124,
          0.9953791129491982,
          0.5,
          0.9953791129491982,
          0.3752670048793745,
          -0.24027799707531572,
          -0.1956825506034865,
          0.8551427630053461,
          0.7818314824680299,
          0.5455349012105486,
          0.9994862162006879,
          -0.4586678530366606,
          -0.49537911294919823,
          -0.3551427630053461,
          0.1911586287013723,
          0.6482283953077884,
          -0.2402779970753155,
          0.9871817834144501,
          0.372122838315494,
          0.8865993063730001,
          0.4338837391175581,
          -0.4586678530366607,
          -0.43846842204976033,
          0.545534901210549,
          -0.4749279121818236,
          -0.4994862162006879,
          0.7402779970753157,
          0.12473299512062597,
          -0.045534901210548595,
          0.9586678530366606,
          -0.3551427630053462,
          0.9586678530366607,
          0.30884137129862743,
          0.7402779970753155,
          0.3752670048793741,
          0.6482283953077888,
          -0.19568255060348638,
          -0.4749279121818236,
          -0.49537911294919823,
          0.8201722545969561,
          0.127877161684506,
          0.12473299512062552,
          0.9144126230158125,
          0,
          0.8551427630053462,
          0.2463454160904922,
          0.2536545839095078,
          -0.0981105304912161,
          0.06407021998071291,
          0.9871817834144502,
          -0.32017225459695586,
          0.24634541609049265,
          -0.3865993063730001,
          0.9144126230158124,
          0.9384684220497604,
          0.9384684220497603,
          0.49071755200393813,
          0.43388373911755823,
          -0.14822839530778842,
          0.18489178197637912,
          0.8201722545969559,
          0.009282447996061816,
          -0.48718178341445006,
          0.18489178197637934,
          -0.43846842204976044,
          0.886599306373,
          -0.4144126230158125,
          -0.09811053049121587,
          0.43592978001928706,
          0.7818314824680298,
          0.06611626088244171,
          0.9749279121818236,
          0.3151082180236209,
          0.4999999999999999,
          0.5981105304912159,
          -0.4871817834144502,
          0.1278771616845065,
          0.5981105304912161
         ],
         "yaxis": "y"
        }
       ],
       "layout": {
        "legend": {
         "tracegroupgap": 0
        },
        "margin": {
         "t": 60
        },
        "template": {
         "data": {
          "bar": [
           {
            "error_x": {
             "color": "#2a3f5f"
            },
            "error_y": {
             "color": "#2a3f5f"
            },
            "marker": {
             "line": {
              "color": "#E5ECF6",
              "width": 0.5
             },
             "pattern": {
              "fillmode": "overlay",
              "size": 10,
              "solidity": 0.2
             }
            },
            "type": "bar"
           }
          ],
          "barpolar": [
           {
            "marker": {
             "line": {
              "color": "#E5ECF6",
              "width": 0.5
             },
             "pattern": {
              "fillmode": "overlay",
              "size": 10,
              "solidity": 0.2
             }
            },
            "type": "barpolar"
           }
          ],
          "carpet": [
           {
            "aaxis": {
             "endlinecolor": "#2a3f5f",
             "gridcolor": "white",
             "linecolor": "white",
             "minorgridcolor": "white",
             "startlinecolor": "#2a3f5f"
            },
            "baxis": {
             "endlinecolor": "#2a3f5f",
             "gridcolor": "white",
             "linecolor": "white",
             "minorgridcolor": "white",
             "startlinecolor": "#2a3f5f"
            },
            "type": "carpet"
           }
          ],
          "choropleth": [
           {
            "colorbar": {
             "outlinewidth": 0,
             "ticks": ""
            },
            "type": "choropleth"
           }
          ],
          "contour": [
           {
            "colorbar": {
             "outlinewidth": 0,
             "ticks": ""
            },
            "colorscale": [
             [
              0,
              "#0d0887"
             ],
             [
              0.1111111111111111,
              "#46039f"
             ],
             [
              0.2222222222222222,
              "#7201a8"
             ],
             [
              0.3333333333333333,
              "#9c179e"
             ],
             [
              0.4444444444444444,
              "#bd3786"
             ],
             [
              0.5555555555555556,
              "#d8576b"
             ],
             [
              0.6666666666666666,
              "#ed7953"
             ],
             [
              0.7777777777777778,
              "#fb9f3a"
             ],
             [
              0.8888888888888888,
              "#fdca26"
             ],
             [
              1,
              "#f0f921"
             ]
            ],
            "type": "contour"
           }
          ],
          "contourcarpet": [
           {
            "colorbar": {
             "outlinewidth": 0,
             "ticks": ""
            },
            "type": "contourcarpet"
           }
          ],
          "heatmap": [
           {
            "colorbar": {
             "outlinewidth": 0,
             "ticks": ""
            },
            "colorscale": [
             [
              0,
              "#0d0887"
             ],
             [
              0.1111111111111111,
              "#46039f"
             ],
             [
              0.2222222222222222,
              "#7201a8"
             ],
             [
              0.3333333333333333,
              "#9c179e"
             ],
             [
              0.4444444444444444,
              "#bd3786"
             ],
             [
              0.5555555555555556,
              "#d8576b"
             ],
             [
              0.6666666666666666,
              "#ed7953"
             ],
             [
              0.7777777777777778,
              "#fb9f3a"
             ],
             [
              0.8888888888888888,
              "#fdca26"
             ],
             [
              1,
              "#f0f921"
             ]
            ],
            "type": "heatmap"
           }
          ],
          "heatmapgl": [
           {
            "colorbar": {
             "outlinewidth": 0,
             "ticks": ""
            },
            "colorscale": [
             [
              0,
              "#0d0887"
             ],
             [
              0.1111111111111111,
              "#46039f"
             ],
             [
              0.2222222222222222,
              "#7201a8"
             ],
             [
              0.3333333333333333,
              "#9c179e"
             ],
             [
              0.4444444444444444,
              "#bd3786"
             ],
             [
              0.5555555555555556,
              "#d8576b"
             ],
             [
              0.6666666666666666,
              "#ed7953"
             ],
             [
              0.7777777777777778,
              "#fb9f3a"
             ],
             [
              0.8888888888888888,
              "#fdca26"
             ],
             [
              1,
              "#f0f921"
             ]
            ],
            "type": "heatmapgl"
           }
          ],
          "histogram": [
           {
            "marker": {
             "pattern": {
              "fillmode": "overlay",
              "size": 10,
              "solidity": 0.2
             }
            },
            "type": "histogram"
           }
          ],
          "histogram2d": [
           {
            "colorbar": {
             "outlinewidth": 0,
             "ticks": ""
            },
            "colorscale": [
             [
              0,
              "#0d0887"
             ],
             [
              0.1111111111111111,
              "#46039f"
             ],
             [
              0.2222222222222222,
              "#7201a8"
             ],
             [
              0.3333333333333333,
              "#9c179e"
             ],
             [
              0.4444444444444444,
              "#bd3786"
             ],
             [
              0.5555555555555556,
              "#d8576b"
             ],
             [
              0.6666666666666666,
              "#ed7953"
             ],
             [
              0.7777777777777778,
              "#fb9f3a"
             ],
             [
              0.8888888888888888,
              "#fdca26"
             ],
             [
              1,
              "#f0f921"
             ]
            ],
            "type": "histogram2d"
           }
          ],
          "histogram2dcontour": [
           {
            "colorbar": {
             "outlinewidth": 0,
             "ticks": ""
            },
            "colorscale": [
             [
              0,
              "#0d0887"
             ],
             [
              0.1111111111111111,
              "#46039f"
             ],
             [
              0.2222222222222222,
              "#7201a8"
             ],
             [
              0.3333333333333333,
              "#9c179e"
             ],
             [
              0.4444444444444444,
              "#bd3786"
             ],
             [
              0.5555555555555556,
              "#d8576b"
             ],
             [
              0.6666666666666666,
              "#ed7953"
             ],
             [
              0.7777777777777778,
              "#fb9f3a"
             ],
             [
              0.8888888888888888,
              "#fdca26"
             ],
             [
              1,
              "#f0f921"
             ]
            ],
            "type": "histogram2dcontour"
           }
          ],
          "mesh3d": [
           {
            "colorbar": {
             "outlinewidth": 0,
             "ticks": ""
            },
            "type": "mesh3d"
           }
          ],
          "parcoords": [
           {
            "line": {
             "colorbar": {
              "outlinewidth": 0,
              "ticks": ""
             }
            },
            "type": "parcoords"
           }
          ],
          "pie": [
           {
            "automargin": true,
            "type": "pie"
           }
          ],
          "scatter": [
           {
            "fillpattern": {
             "fillmode": "overlay",
             "size": 10,
             "solidity": 0.2
            },
            "type": "scatter"
           }
          ],
          "scatter3d": [
           {
            "line": {
             "colorbar": {
              "outlinewidth": 0,
              "ticks": ""
             }
            },
            "marker": {
             "colorbar": {
              "outlinewidth": 0,
              "ticks": ""
             }
            },
            "type": "scatter3d"
           }
          ],
          "scattercarpet": [
           {
            "marker": {
             "colorbar": {
              "outlinewidth": 0,
              "ticks": ""
             }
            },
            "type": "scattercarpet"
           }
          ],
          "scattergeo": [
           {
            "marker": {
             "colorbar": {
              "outlinewidth": 0,
              "ticks": ""
             }
            },
            "type": "scattergeo"
           }
          ],
          "scattergl": [
           {
            "marker": {
             "colorbar": {
              "outlinewidth": 0,
              "ticks": ""
             }
            },
            "type": "scattergl"
           }
          ],
          "scattermapbox": [
           {
            "marker": {
             "colorbar": {
              "outlinewidth": 0,
              "ticks": ""
             }
            },
            "type": "scattermapbox"
           }
          ],
          "scatterpolar": [
           {
            "marker": {
             "colorbar": {
              "outlinewidth": 0,
              "ticks": ""
             }
            },
            "type": "scatterpolar"
           }
          ],
          "scatterpolargl": [
           {
            "marker": {
             "colorbar": {
              "outlinewidth": 0,
              "ticks": ""
             }
            },
            "type": "scatterpolargl"
           }
          ],
          "scatterternary": [
           {
            "marker": {
             "colorbar": {
              "outlinewidth": 0,
              "ticks": ""
             }
            },
            "type": "scatterternary"
           }
          ],
          "surface": [
           {
            "colorbar": {
             "outlinewidth": 0,
             "ticks": ""
            },
            "colorscale": [
             [
              0,
              "#0d0887"
             ],
             [
              0.1111111111111111,
              "#46039f"
             ],
             [
              0.2222222222222222,
              "#7201a8"
             ],
             [
              0.3333333333333333,
              "#9c179e"
             ],
             [
              0.4444444444444444,
              "#bd3786"
             ],
             [
              0.5555555555555556,
              "#d8576b"
             ],
             [
              0.6666666666666666,
              "#ed7953"
             ],
             [
              0.7777777777777778,
              "#fb9f3a"
             ],
             [
              0.8888888888888888,
              "#fdca26"
             ],
             [
              1,
              "#f0f921"
             ]
            ],
            "type": "surface"
           }
          ],
          "table": [
           {
            "cells": {
             "fill": {
              "color": "#EBF0F8"
             },
             "line": {
              "color": "white"
             }
            },
            "header": {
             "fill": {
              "color": "#C8D4E3"
             },
             "line": {
              "color": "white"
             }
            },
            "type": "table"
           }
          ]
         },
         "layout": {
          "annotationdefaults": {
           "arrowcolor": "#2a3f5f",
           "arrowhead": 0,
           "arrowwidth": 1
          },
          "autotypenumbers": "strict",
          "coloraxis": {
           "colorbar": {
            "outlinewidth": 0,
            "ticks": ""
           }
          },
          "colorscale": {
           "diverging": [
            [
             0,
             "#8e0152"
            ],
            [
             0.1,
             "#c51b7d"
            ],
            [
             0.2,
             "#de77ae"
            ],
            [
             0.3,
             "#f1b6da"
            ],
            [
             0.4,
             "#fde0ef"
            ],
            [
             0.5,
             "#f7f7f7"
            ],
            [
             0.6,
             "#e6f5d0"
            ],
            [
             0.7,
             "#b8e186"
            ],
            [
             0.8,
             "#7fbc41"
            ],
            [
             0.9,
             "#4d9221"
            ],
            [
             1,
             "#276419"
            ]
           ],
           "sequential": [
            [
             0,
             "#0d0887"
            ],
            [
             0.1111111111111111,
             "#46039f"
            ],
            [
             0.2222222222222222,
             "#7201a8"
            ],
            [
             0.3333333333333333,
             "#9c179e"
            ],
            [
             0.4444444444444444,
             "#bd3786"
            ],
            [
             0.5555555555555556,
             "#d8576b"
            ],
            [
             0.6666666666666666,
             "#ed7953"
            ],
            [
             0.7777777777777778,
             "#fb9f3a"
            ],
            [
             0.8888888888888888,
             "#fdca26"
            ],
            [
             1,
             "#f0f921"
            ]
           ],
           "sequentialminus": [
            [
             0,
             "#0d0887"
            ],
            [
             0.1111111111111111,
             "#46039f"
            ],
            [
             0.2222222222222222,
             "#7201a8"
            ],
            [
             0.3333333333333333,
             "#9c179e"
            ],
            [
             0.4444444444444444,
             "#bd3786"
            ],
            [
             0.5555555555555556,
             "#d8576b"
            ],
            [
             0.6666666666666666,
             "#ed7953"
            ],
            [
             0.7777777777777778,
             "#fb9f3a"
            ],
            [
             0.8888888888888888,
             "#fdca26"
            ],
            [
             1,
             "#f0f921"
            ]
           ]
          },
          "colorway": [
           "#636efa",
           "#EF553B",
           "#00cc96",
           "#ab63fa",
           "#FFA15A",
           "#19d3f3",
           "#FF6692",
           "#B6E880",
           "#FF97FF",
           "#FECB52"
          ],
          "font": {
           "color": "#2a3f5f"
          },
          "geo": {
           "bgcolor": "white",
           "lakecolor": "white",
           "landcolor": "#E5ECF6",
           "showlakes": true,
           "showland": true,
           "subunitcolor": "white"
          },
          "hoverlabel": {
           "align": "left"
          },
          "hovermode": "closest",
          "mapbox": {
           "style": "light"
          },
          "paper_bgcolor": "white",
          "plot_bgcolor": "#E5ECF6",
          "polar": {
           "angularaxis": {
            "gridcolor": "white",
            "linecolor": "white",
            "ticks": ""
           },
           "bgcolor": "#E5ECF6",
           "radialaxis": {
            "gridcolor": "white",
            "linecolor": "white",
            "ticks": ""
           }
          },
          "scene": {
           "xaxis": {
            "backgroundcolor": "#E5ECF6",
            "gridcolor": "white",
            "gridwidth": 2,
            "linecolor": "white",
            "showbackground": true,
            "ticks": "",
            "zerolinecolor": "white"
           },
           "yaxis": {
            "backgroundcolor": "#E5ECF6",
            "gridcolor": "white",
            "gridwidth": 2,
            "linecolor": "white",
            "showbackground": true,
            "ticks": "",
            "zerolinecolor": "white"
           },
           "zaxis": {
            "backgroundcolor": "#E5ECF6",
            "gridcolor": "white",
            "gridwidth": 2,
            "linecolor": "white",
            "showbackground": true,
            "ticks": "",
            "zerolinecolor": "white"
           }
          },
          "shapedefaults": {
           "line": {
            "color": "#2a3f5f"
           }
          },
          "ternary": {
           "aaxis": {
            "gridcolor": "white",
            "linecolor": "white",
            "ticks": ""
           },
           "baxis": {
            "gridcolor": "white",
            "linecolor": "white",
            "ticks": ""
           },
           "bgcolor": "#E5ECF6",
           "caxis": {
            "gridcolor": "white",
            "linecolor": "white",
            "ticks": ""
           }
          },
          "title": {
           "x": 0.05
          },
          "xaxis": {
           "automargin": true,
           "gridcolor": "white",
           "linecolor": "white",
           "ticks": "",
           "title": {
            "standoff": 15
           },
           "zerolinecolor": "white",
           "zerolinewidth": 2
          },
          "yaxis": {
           "automargin": true,
           "gridcolor": "white",
           "linecolor": "white",
           "ticks": "",
           "title": {
            "standoff": 15
           },
           "zerolinecolor": "white",
           "zerolinewidth": 2
          }
         }
        },
        "xaxis": {
         "anchor": "y",
         "domain": [
          0,
          1
         ],
         "title": {
          "text": "x"
         }
        },
        "yaxis": {
         "anchor": "x",
         "domain": [
          0,
          1
         ],
         "title": {
          "text": "y"
         }
        }
       }
      },
      "text/html": [
       "<div>                            <div id=\"20ea9ff6-cd7a-45ad-8d33-28d4d48aec7c\" class=\"plotly-graph-div\" style=\"height:525px; width:100%;\"></div>            <script type=\"text/javascript\">                require([\"plotly\"], function(Plotly) {                    window.PLOTLYENV=window.PLOTLYENV || {};                                    if (document.getElementById(\"20ea9ff6-cd7a-45ad-8d33-28d4d48aec7c\")) {                    Plotly.newPlot(                        \"20ea9ff6-cd7a-45ad-8d33-28d4d48aec7c\",                        [{\"hovertemplate\":\"x=%{x}<br>y=%{y}<extra></extra>\",\"legendgroup\":\"\",\"marker\":{\"color\":\"#636efa\",\"symbol\":\"circle\"},\"mode\":\"markers\",\"name\":\"\",\"orientation\":\"v\",\"showlegend\":false,\"x\":[0.7183493500977276,0.9679484224283447,1.5721166601221694,1.9979453927503363,-0.9815591569910653,-0.9979453927503363,0.22252093395631445,1.7614459583691342,0.9490557470106686,0.01844084300893467,1.6234898018587334,-1.0,1.8380881048918405,0.9672948630390295,0.1286812958766106,-0.7183493500977275,1.991790013823246,0.5374617097591645,-0.032051577571654985,0.8713187041233894,0.09903113209758085,0.3765101981412664,0.595216656877606,0.09602302590768189,0.0,-0.09602302590768154,-0.9269167573460216,1.6723008902613166,1.7183493500977276,0.5183925683105252,-0.6234898018587335,0.8380881048918407,0.03205157757165533,0.7154724133689674,1.0960230259076815,0.48160743168947484,0.9815591569910653,0.7614459583691344,0.3276991097386831,0.15959989503337932,0.008209986176753836,-0.4625382902408351,0.9009688679024191,1.2845275866310324,0.6546349455786922,-0.8380881048918404,1.2225209339563143,1.032051577571655,-0.6723008902613166,0.07308324265397825,0.1619118951081593,0.28452758663103267,1.518392568310525,-0.28452758663103234,1.9815591569910653,0.6723008902613169,0.9269167573460217,-0.7614459583691342,0.2816506499022724,0.7774790660436856,0.9039769740923181,-0.5721166601221694,0.9917900138232462,1.9269167573460217,-0.40478334312239367,1.0,-0.518392568310525,1.9672948630390295,-0.9672948630390293,1.8014136218679564,0.9979453927503363,-0.15959989503337896,0.42788333987783034,0.03270513696097055,1.462538290240835,0.404783343122394,-0.3453650544213075,0.3453650544213078,-0.8713187041233892,-0.900968867902419,0.23855404163086558,1.9490557470106686,0.5721166601221697,1.8713187041233892,0.8404001049666207,0.05094425298933136,1.3453650544213076,0.4625382902408354,1.4047833431223937,0.19858637813204327,0.0020546072496636647,0.6234898018587336,1.900968867902419,-0.22252093395631434,-0.9490557470106686,2.0,0.8014136218679567,1.159599895033379,-0.991790013823246,-0.8014136218679565],\"xaxis\":\"x\",\"y\":[0.6956825506034864,-0.4994862162006879,-0.3201722545969561,0.43592978001928673,0.19115862870137254,0.06407021998071323,0.9749279121818236,-0.14822839530778875,0.31510821802362066,0.30884137129862776,-0.2818314824680299,1.2246467991473532e-16,-0.04553490121054904,0.25365458390950735,0.009282447996062149,0.6956825506034865,0.37212283831549353,-0.386599306373,0.9994862162006879,0.49071755200393785,0.06611626088244194,-0.2818314824680298,-0.4144126230158124,0.9953791129491982,0.5,0.9953791129491982,0.3752670048793745,-0.24027799707531572,-0.1956825506034865,0.8551427630053461,0.7818314824680299,0.5455349012105486,0.9994862162006879,-0.4586678530366606,-0.49537911294919823,-0.3551427630053461,0.1911586287013723,0.6482283953077884,-0.2402779970753155,0.9871817834144501,0.372122838315494,0.8865993063730001,0.4338837391175581,-0.4586678530366607,-0.43846842204976033,0.545534901210549,-0.4749279121818236,-0.4994862162006879,0.7402779970753157,0.12473299512062597,-0.045534901210548595,0.9586678530366606,-0.3551427630053462,0.9586678530366607,0.30884137129862743,0.7402779970753155,0.3752670048793741,0.6482283953077888,-0.19568255060348638,-0.4749279121818236,-0.49537911294919823,0.8201722545969561,0.127877161684506,0.12473299512062552,0.9144126230158125,0.0,0.8551427630053462,0.2463454160904922,0.2536545839095078,-0.0981105304912161,0.06407021998071291,0.9871817834144502,-0.32017225459695586,0.24634541609049265,-0.3865993063730001,0.9144126230158124,0.9384684220497604,0.9384684220497603,0.49071755200393813,0.43388373911755823,-0.14822839530778842,0.18489178197637912,0.8201722545969559,0.009282447996061816,-0.48718178341445006,0.18489178197637934,-0.43846842204976044,0.886599306373,-0.4144126230158125,-0.09811053049121587,0.43592978001928706,0.7818314824680298,0.06611626088244171,0.9749279121818236,0.3151082180236209,0.4999999999999999,0.5981105304912159,-0.4871817834144502,0.1278771616845065,0.5981105304912161],\"yaxis\":\"y\",\"type\":\"scatter\"}],                        {\"template\":{\"data\":{\"histogram2dcontour\":[{\"type\":\"histogram2dcontour\",\"colorbar\":{\"outlinewidth\":0,\"ticks\":\"\"},\"colorscale\":[[0.0,\"#0d0887\"],[0.1111111111111111,\"#46039f\"],[0.2222222222222222,\"#7201a8\"],[0.3333333333333333,\"#9c179e\"],[0.4444444444444444,\"#bd3786\"],[0.5555555555555556,\"#d8576b\"],[0.6666666666666666,\"#ed7953\"],[0.7777777777777778,\"#fb9f3a\"],[0.8888888888888888,\"#fdca26\"],[1.0,\"#f0f921\"]]}],\"choropleth\":[{\"type\":\"choropleth\",\"colorbar\":{\"outlinewidth\":0,\"ticks\":\"\"}}],\"histogram2d\":[{\"type\":\"histogram2d\",\"colorbar\":{\"outlinewidth\":0,\"ticks\":\"\"},\"colorscale\":[[0.0,\"#0d0887\"],[0.1111111111111111,\"#46039f\"],[0.2222222222222222,\"#7201a8\"],[0.3333333333333333,\"#9c179e\"],[0.4444444444444444,\"#bd3786\"],[0.5555555555555556,\"#d8576b\"],[0.6666666666666666,\"#ed7953\"],[0.7777777777777778,\"#fb9f3a\"],[0.8888888888888888,\"#fdca26\"],[1.0,\"#f0f921\"]]}],\"heatmap\":[{\"type\":\"heatmap\",\"colorbar\":{\"outlinewidth\":0,\"ticks\":\"\"},\"colorscale\":[[0.0,\"#0d0887\"],[0.1111111111111111,\"#46039f\"],[0.2222222222222222,\"#7201a8\"],[0.3333333333333333,\"#9c179e\"],[0.4444444444444444,\"#bd3786\"],[0.5555555555555556,\"#d8576b\"],[0.6666666666666666,\"#ed7953\"],[0.7777777777777778,\"#fb9f3a\"],[0.8888888888888888,\"#fdca26\"],[1.0,\"#f0f921\"]]}],\"heatmapgl\":[{\"type\":\"heatmapgl\",\"colorbar\":{\"outlinewidth\":0,\"ticks\":\"\"},\"colorscale\":[[0.0,\"#0d0887\"],[0.1111111111111111,\"#46039f\"],[0.2222222222222222,\"#7201a8\"],[0.3333333333333333,\"#9c179e\"],[0.4444444444444444,\"#bd3786\"],[0.5555555555555556,\"#d8576b\"],[0.6666666666666666,\"#ed7953\"],[0.7777777777777778,\"#fb9f3a\"],[0.8888888888888888,\"#fdca26\"],[1.0,\"#f0f921\"]]}],\"contourcarpet\":[{\"type\":\"contourcarpet\",\"colorbar\":{\"outlinewidth\":0,\"ticks\":\"\"}}],\"contour\":[{\"type\":\"contour\",\"colorbar\":{\"outlinewidth\":0,\"ticks\":\"\"},\"colorscale\":[[0.0,\"#0d0887\"],[0.1111111111111111,\"#46039f\"],[0.2222222222222222,\"#7201a8\"],[0.3333333333333333,\"#9c179e\"],[0.4444444444444444,\"#bd3786\"],[0.5555555555555556,\"#d8576b\"],[0.6666666666666666,\"#ed7953\"],[0.7777777777777778,\"#fb9f3a\"],[0.8888888888888888,\"#fdca26\"],[1.0,\"#f0f921\"]]}],\"surface\":[{\"type\":\"surface\",\"colorbar\":{\"outlinewidth\":0,\"ticks\":\"\"},\"colorscale\":[[0.0,\"#0d0887\"],[0.1111111111111111,\"#46039f\"],[0.2222222222222222,\"#7201a8\"],[0.3333333333333333,\"#9c179e\"],[0.4444444444444444,\"#bd3786\"],[0.5555555555555556,\"#d8576b\"],[0.6666666666666666,\"#ed7953\"],[0.7777777777777778,\"#fb9f3a\"],[0.8888888888888888,\"#fdca26\"],[1.0,\"#f0f921\"]]}],\"mesh3d\":[{\"type\":\"mesh3d\",\"colorbar\":{\"outlinewidth\":0,\"ticks\":\"\"}}],\"scatter\":[{\"fillpattern\":{\"fillmode\":\"overlay\",\"size\":10,\"solidity\":0.2},\"type\":\"scatter\"}],\"parcoords\":[{\"type\":\"parcoords\",\"line\":{\"colorbar\":{\"outlinewidth\":0,\"ticks\":\"\"}}}],\"scatterpolargl\":[{\"type\":\"scatterpolargl\",\"marker\":{\"colorbar\":{\"outlinewidth\":0,\"ticks\":\"\"}}}],\"bar\":[{\"error_x\":{\"color\":\"#2a3f5f\"},\"error_y\":{\"color\":\"#2a3f5f\"},\"marker\":{\"line\":{\"color\":\"#E5ECF6\",\"width\":0.5},\"pattern\":{\"fillmode\":\"overlay\",\"size\":10,\"solidity\":0.2}},\"type\":\"bar\"}],\"scattergeo\":[{\"type\":\"scattergeo\",\"marker\":{\"colorbar\":{\"outlinewidth\":0,\"ticks\":\"\"}}}],\"scatterpolar\":[{\"type\":\"scatterpolar\",\"marker\":{\"colorbar\":{\"outlinewidth\":0,\"ticks\":\"\"}}}],\"histogram\":[{\"marker\":{\"pattern\":{\"fillmode\":\"overlay\",\"size\":10,\"solidity\":0.2}},\"type\":\"histogram\"}],\"scattergl\":[{\"type\":\"scattergl\",\"marker\":{\"colorbar\":{\"outlinewidth\":0,\"ticks\":\"\"}}}],\"scatter3d\":[{\"type\":\"scatter3d\",\"line\":{\"colorbar\":{\"outlinewidth\":0,\"ticks\":\"\"}},\"marker\":{\"colorbar\":{\"outlinewidth\":0,\"ticks\":\"\"}}}],\"scattermapbox\":[{\"type\":\"scattermapbox\",\"marker\":{\"colorbar\":{\"outlinewidth\":0,\"ticks\":\"\"}}}],\"scatterternary\":[{\"type\":\"scatterternary\",\"marker\":{\"colorbar\":{\"outlinewidth\":0,\"ticks\":\"\"}}}],\"scattercarpet\":[{\"type\":\"scattercarpet\",\"marker\":{\"colorbar\":{\"outlinewidth\":0,\"ticks\":\"\"}}}],\"carpet\":[{\"aaxis\":{\"endlinecolor\":\"#2a3f5f\",\"gridcolor\":\"white\",\"linecolor\":\"white\",\"minorgridcolor\":\"white\",\"startlinecolor\":\"#2a3f5f\"},\"baxis\":{\"endlinecolor\":\"#2a3f5f\",\"gridcolor\":\"white\",\"linecolor\":\"white\",\"minorgridcolor\":\"white\",\"startlinecolor\":\"#2a3f5f\"},\"type\":\"carpet\"}],\"table\":[{\"cells\":{\"fill\":{\"color\":\"#EBF0F8\"},\"line\":{\"color\":\"white\"}},\"header\":{\"fill\":{\"color\":\"#C8D4E3\"},\"line\":{\"color\":\"white\"}},\"type\":\"table\"}],\"barpolar\":[{\"marker\":{\"line\":{\"color\":\"#E5ECF6\",\"width\":0.5},\"pattern\":{\"fillmode\":\"overlay\",\"size\":10,\"solidity\":0.2}},\"type\":\"barpolar\"}],\"pie\":[{\"automargin\":true,\"type\":\"pie\"}]},\"layout\":{\"autotypenumbers\":\"strict\",\"colorway\":[\"#636efa\",\"#EF553B\",\"#00cc96\",\"#ab63fa\",\"#FFA15A\",\"#19d3f3\",\"#FF6692\",\"#B6E880\",\"#FF97FF\",\"#FECB52\"],\"font\":{\"color\":\"#2a3f5f\"},\"hovermode\":\"closest\",\"hoverlabel\":{\"align\":\"left\"},\"paper_bgcolor\":\"white\",\"plot_bgcolor\":\"#E5ECF6\",\"polar\":{\"bgcolor\":\"#E5ECF6\",\"angularaxis\":{\"gridcolor\":\"white\",\"linecolor\":\"white\",\"ticks\":\"\"},\"radialaxis\":{\"gridcolor\":\"white\",\"linecolor\":\"white\",\"ticks\":\"\"}},\"ternary\":{\"bgcolor\":\"#E5ECF6\",\"aaxis\":{\"gridcolor\":\"white\",\"linecolor\":\"white\",\"ticks\":\"\"},\"baxis\":{\"gridcolor\":\"white\",\"linecolor\":\"white\",\"ticks\":\"\"},\"caxis\":{\"gridcolor\":\"white\",\"linecolor\":\"white\",\"ticks\":\"\"}},\"coloraxis\":{\"colorbar\":{\"outlinewidth\":0,\"ticks\":\"\"}},\"colorscale\":{\"sequential\":[[0.0,\"#0d0887\"],[0.1111111111111111,\"#46039f\"],[0.2222222222222222,\"#7201a8\"],[0.3333333333333333,\"#9c179e\"],[0.4444444444444444,\"#bd3786\"],[0.5555555555555556,\"#d8576b\"],[0.6666666666666666,\"#ed7953\"],[0.7777777777777778,\"#fb9f3a\"],[0.8888888888888888,\"#fdca26\"],[1.0,\"#f0f921\"]],\"sequentialminus\":[[0.0,\"#0d0887\"],[0.1111111111111111,\"#46039f\"],[0.2222222222222222,\"#7201a8\"],[0.3333333333333333,\"#9c179e\"],[0.4444444444444444,\"#bd3786\"],[0.5555555555555556,\"#d8576b\"],[0.6666666666666666,\"#ed7953\"],[0.7777777777777778,\"#fb9f3a\"],[0.8888888888888888,\"#fdca26\"],[1.0,\"#f0f921\"]],\"diverging\":[[0,\"#8e0152\"],[0.1,\"#c51b7d\"],[0.2,\"#de77ae\"],[0.3,\"#f1b6da\"],[0.4,\"#fde0ef\"],[0.5,\"#f7f7f7\"],[0.6,\"#e6f5d0\"],[0.7,\"#b8e186\"],[0.8,\"#7fbc41\"],[0.9,\"#4d9221\"],[1,\"#276419\"]]},\"xaxis\":{\"gridcolor\":\"white\",\"linecolor\":\"white\",\"ticks\":\"\",\"title\":{\"standoff\":15},\"zerolinecolor\":\"white\",\"automargin\":true,\"zerolinewidth\":2},\"yaxis\":{\"gridcolor\":\"white\",\"linecolor\":\"white\",\"ticks\":\"\",\"title\":{\"standoff\":15},\"zerolinecolor\":\"white\",\"automargin\":true,\"zerolinewidth\":2},\"scene\":{\"xaxis\":{\"backgroundcolor\":\"#E5ECF6\",\"gridcolor\":\"white\",\"linecolor\":\"white\",\"showbackground\":true,\"ticks\":\"\",\"zerolinecolor\":\"white\",\"gridwidth\":2},\"yaxis\":{\"backgroundcolor\":\"#E5ECF6\",\"gridcolor\":\"white\",\"linecolor\":\"white\",\"showbackground\":true,\"ticks\":\"\",\"zerolinecolor\":\"white\",\"gridwidth\":2},\"zaxis\":{\"backgroundcolor\":\"#E5ECF6\",\"gridcolor\":\"white\",\"linecolor\":\"white\",\"showbackground\":true,\"ticks\":\"\",\"zerolinecolor\":\"white\",\"gridwidth\":2}},\"shapedefaults\":{\"line\":{\"color\":\"#2a3f5f\"}},\"annotationdefaults\":{\"arrowcolor\":\"#2a3f5f\",\"arrowhead\":0,\"arrowwidth\":1},\"geo\":{\"bgcolor\":\"white\",\"landcolor\":\"#E5ECF6\",\"subunitcolor\":\"white\",\"showland\":true,\"showlakes\":true,\"lakecolor\":\"white\"},\"title\":{\"x\":0.05},\"mapbox\":{\"style\":\"light\"}}},\"xaxis\":{\"anchor\":\"y\",\"domain\":[0.0,1.0],\"title\":{\"text\":\"x\"}},\"yaxis\":{\"anchor\":\"x\",\"domain\":[0.0,1.0],\"title\":{\"text\":\"y\"}},\"legend\":{\"tracegroupgap\":0},\"margin\":{\"t\":60}},                        {\"responsive\": true}                    ).then(function(){\n",
       "                            \n",
       "var gd = document.getElementById('20ea9ff6-cd7a-45ad-8d33-28d4d48aec7c');\n",
       "var x = new MutationObserver(function (mutations, observer) {{\n",
       "        var display = window.getComputedStyle(gd).display;\n",
       "        if (!display || display === 'none') {{\n",
       "            console.log([gd, 'removed!']);\n",
       "            Plotly.purge(gd);\n",
       "            observer.disconnect();\n",
       "        }}\n",
       "}});\n",
       "\n",
       "// Listen for the removal of the full notebook cells\n",
       "var notebookContainer = gd.closest('#notebook-container');\n",
       "if (notebookContainer) {{\n",
       "    x.observe(notebookContainer, {childList: true});\n",
       "}}\n",
       "\n",
       "// Listen for the clearing of the current output cell\n",
       "var outputEl = gd.closest('.output');\n",
       "if (outputEl) {{\n",
       "    x.observe(outputEl, {childList: true});\n",
       "}}\n",
       "\n",
       "                        })                };                });            </script>        </div>"
      ]
     },
     "metadata": {},
     "output_type": "display_data"
    }
   ],
   "source": [
    "from sklearn.datasets import make_moons\n",
    "X, y = make_moons()\n",
    "px.scatter(x=X[:,0], y=X[:,1])"
   ]
  },
  {
   "cell_type": "markdown",
   "metadata": {
    "id": "daArUsZP1Su2"
   },
   "source": [
    "#### K-Means\n",
    "\n"
   ]
  },
  {
   "cell_type": "code",
   "execution_count": 98,
   "metadata": {
    "colab": {
     "base_uri": "https://localhost:8080/",
     "height": 286
    },
    "id": "NDWgk2eodwyk",
    "outputId": "37480fa4-d60a-4e63-b2fe-924c627f5772"
   },
   "outputs": [
    {
     "data": {
      "application/vnd.plotly.v1+json": {
       "config": {
        "plotlyServerURL": "https://plot.ly"
       },
       "data": [
        {
         "hovertemplate": "color=1<br>x=%{x}<br>y=%{y}<extra></extra>",
         "legendgroup": "1",
         "marker": {
          "color": "#636efa",
          "symbol": "circle"
         },
         "mode": "markers",
         "name": "1",
         "orientation": "v",
         "showlegend": true,
         "type": "scatter",
         "x": [
          0.7183493500977276,
          -0.9815591569910653,
          -0.9979453927503363,
          0.22252093395631445,
          0.01844084300893467,
          -1,
          0.1286812958766106,
          -0.7183493500977275,
          -0.032051577571654985,
          0.09903113209758085,
          0.09602302590768189,
          0,
          -0.09602302590768154,
          -0.9269167573460216,
          0.5183925683105252,
          -0.6234898018587335,
          0.03205157757165533,
          0.15959989503337932,
          0.008209986176753836,
          -0.4625382902408351,
          -0.8380881048918404,
          -0.6723008902613166,
          0.07308324265397825,
          0.1619118951081593,
          0.28452758663103267,
          -0.28452758663103234,
          0.6723008902613169,
          -0.7614459583691342,
          0.2816506499022724,
          -0.5721166601221694,
          -0.40478334312239367,
          -0.518392568310525,
          -0.9672948630390293,
          -0.15959989503337896,
          0.03270513696097055,
          0.404783343122394,
          -0.3453650544213075,
          0.3453650544213078,
          -0.8713187041233892,
          -0.900968867902419,
          0.23855404163086558,
          0.5721166601221697,
          0.05094425298933136,
          0.4625382902408354,
          0.19858637813204327,
          0.0020546072496636647,
          0.6234898018587336,
          -0.22252093395631434,
          -0.9490557470106686,
          -0.991790013823246,
          -0.8014136218679565
         ],
         "xaxis": "x",
         "y": [
          0.6956825506034864,
          0.19115862870137254,
          0.06407021998071323,
          0.9749279121818236,
          0.30884137129862776,
          1.2246467991473532e-16,
          0.009282447996062149,
          0.6956825506034865,
          0.9994862162006879,
          0.06611626088244194,
          0.9953791129491982,
          0.5,
          0.9953791129491982,
          0.3752670048793745,
          0.8551427630053461,
          0.7818314824680299,
          0.9994862162006879,
          0.9871817834144501,
          0.372122838315494,
          0.8865993063730001,
          0.545534901210549,
          0.7402779970753157,
          0.12473299512062597,
          -0.045534901210548595,
          0.9586678530366606,
          0.9586678530366607,
          0.7402779970753155,
          0.6482283953077888,
          -0.19568255060348638,
          0.8201722545969561,
          0.9144126230158125,
          0.8551427630053462,
          0.2536545839095078,
          0.9871817834144502,
          0.24634541609049265,
          0.9144126230158124,
          0.9384684220497604,
          0.9384684220497603,
          0.49071755200393813,
          0.43388373911755823,
          -0.14822839530778842,
          0.8201722545969559,
          0.18489178197637934,
          0.886599306373,
          -0.09811053049121587,
          0.43592978001928706,
          0.7818314824680298,
          0.9749279121818236,
          0.3151082180236209,
          0.1278771616845065,
          0.5981105304912161
         ],
         "yaxis": "y"
        },
        {
         "hovertemplate": "color=0<br>x=%{x}<br>y=%{y}<extra></extra>",
         "legendgroup": "0",
         "marker": {
          "color": "#EF553B",
          "symbol": "circle"
         },
         "mode": "markers",
         "name": "0",
         "orientation": "v",
         "showlegend": true,
         "type": "scatter",
         "x": [
          0.9679484224283447,
          1.5721166601221694,
          1.9979453927503363,
          1.7614459583691342,
          0.9490557470106686,
          1.6234898018587334,
          1.8380881048918405,
          0.9672948630390295,
          1.991790013823246,
          0.5374617097591645,
          0.8713187041233894,
          0.3765101981412664,
          0.595216656877606,
          1.6723008902613166,
          1.7183493500977276,
          0.8380881048918407,
          0.7154724133689674,
          1.0960230259076815,
          0.48160743168947484,
          0.9815591569910653,
          0.7614459583691344,
          0.3276991097386831,
          0.9009688679024191,
          1.2845275866310324,
          0.6546349455786922,
          1.2225209339563143,
          1.032051577571655,
          1.518392568310525,
          1.9815591569910653,
          0.9269167573460217,
          0.7774790660436856,
          0.9039769740923181,
          0.9917900138232462,
          1.9269167573460217,
          1,
          1.9672948630390295,
          1.8014136218679564,
          0.9979453927503363,
          0.42788333987783034,
          1.462538290240835,
          1.9490557470106686,
          1.8713187041233892,
          0.8404001049666207,
          1.3453650544213076,
          1.4047833431223937,
          1.900968867902419,
          2,
          0.8014136218679567,
          1.159599895033379
         ],
         "xaxis": "x",
         "y": [
          -0.4994862162006879,
          -0.3201722545969561,
          0.43592978001928673,
          -0.14822839530778875,
          0.31510821802362066,
          -0.2818314824680299,
          -0.04553490121054904,
          0.25365458390950735,
          0.37212283831549353,
          -0.386599306373,
          0.49071755200393785,
          -0.2818314824680298,
          -0.4144126230158124,
          -0.24027799707531572,
          -0.1956825506034865,
          0.5455349012105486,
          -0.4586678530366606,
          -0.49537911294919823,
          -0.3551427630053461,
          0.1911586287013723,
          0.6482283953077884,
          -0.2402779970753155,
          0.4338837391175581,
          -0.4586678530366607,
          -0.43846842204976033,
          -0.4749279121818236,
          -0.4994862162006879,
          -0.3551427630053462,
          0.30884137129862743,
          0.3752670048793741,
          -0.4749279121818236,
          -0.49537911294919823,
          0.127877161684506,
          0.12473299512062552,
          0,
          0.2463454160904922,
          -0.0981105304912161,
          0.06407021998071291,
          -0.32017225459695586,
          -0.3865993063730001,
          0.18489178197637912,
          0.009282447996061816,
          -0.48718178341445006,
          -0.43846842204976044,
          -0.4144126230158125,
          0.06611626088244171,
          0.4999999999999999,
          0.5981105304912159,
          -0.4871817834144502
         ],
         "yaxis": "y"
        }
       ],
       "layout": {
        "legend": {
         "title": {
          "text": "color"
         },
         "tracegroupgap": 0
        },
        "margin": {
         "t": 60
        },
        "template": {
         "data": {
          "bar": [
           {
            "error_x": {
             "color": "#2a3f5f"
            },
            "error_y": {
             "color": "#2a3f5f"
            },
            "marker": {
             "line": {
              "color": "#E5ECF6",
              "width": 0.5
             },
             "pattern": {
              "fillmode": "overlay",
              "size": 10,
              "solidity": 0.2
             }
            },
            "type": "bar"
           }
          ],
          "barpolar": [
           {
            "marker": {
             "line": {
              "color": "#E5ECF6",
              "width": 0.5
             },
             "pattern": {
              "fillmode": "overlay",
              "size": 10,
              "solidity": 0.2
             }
            },
            "type": "barpolar"
           }
          ],
          "carpet": [
           {
            "aaxis": {
             "endlinecolor": "#2a3f5f",
             "gridcolor": "white",
             "linecolor": "white",
             "minorgridcolor": "white",
             "startlinecolor": "#2a3f5f"
            },
            "baxis": {
             "endlinecolor": "#2a3f5f",
             "gridcolor": "white",
             "linecolor": "white",
             "minorgridcolor": "white",
             "startlinecolor": "#2a3f5f"
            },
            "type": "carpet"
           }
          ],
          "choropleth": [
           {
            "colorbar": {
             "outlinewidth": 0,
             "ticks": ""
            },
            "type": "choropleth"
           }
          ],
          "contour": [
           {
            "colorbar": {
             "outlinewidth": 0,
             "ticks": ""
            },
            "colorscale": [
             [
              0,
              "#0d0887"
             ],
             [
              0.1111111111111111,
              "#46039f"
             ],
             [
              0.2222222222222222,
              "#7201a8"
             ],
             [
              0.3333333333333333,
              "#9c179e"
             ],
             [
              0.4444444444444444,
              "#bd3786"
             ],
             [
              0.5555555555555556,
              "#d8576b"
             ],
             [
              0.6666666666666666,
              "#ed7953"
             ],
             [
              0.7777777777777778,
              "#fb9f3a"
             ],
             [
              0.8888888888888888,
              "#fdca26"
             ],
             [
              1,
              "#f0f921"
             ]
            ],
            "type": "contour"
           }
          ],
          "contourcarpet": [
           {
            "colorbar": {
             "outlinewidth": 0,
             "ticks": ""
            },
            "type": "contourcarpet"
           }
          ],
          "heatmap": [
           {
            "colorbar": {
             "outlinewidth": 0,
             "ticks": ""
            },
            "colorscale": [
             [
              0,
              "#0d0887"
             ],
             [
              0.1111111111111111,
              "#46039f"
             ],
             [
              0.2222222222222222,
              "#7201a8"
             ],
             [
              0.3333333333333333,
              "#9c179e"
             ],
             [
              0.4444444444444444,
              "#bd3786"
             ],
             [
              0.5555555555555556,
              "#d8576b"
             ],
             [
              0.6666666666666666,
              "#ed7953"
             ],
             [
              0.7777777777777778,
              "#fb9f3a"
             ],
             [
              0.8888888888888888,
              "#fdca26"
             ],
             [
              1,
              "#f0f921"
             ]
            ],
            "type": "heatmap"
           }
          ],
          "heatmapgl": [
           {
            "colorbar": {
             "outlinewidth": 0,
             "ticks": ""
            },
            "colorscale": [
             [
              0,
              "#0d0887"
             ],
             [
              0.1111111111111111,
              "#46039f"
             ],
             [
              0.2222222222222222,
              "#7201a8"
             ],
             [
              0.3333333333333333,
              "#9c179e"
             ],
             [
              0.4444444444444444,
              "#bd3786"
             ],
             [
              0.5555555555555556,
              "#d8576b"
             ],
             [
              0.6666666666666666,
              "#ed7953"
             ],
             [
              0.7777777777777778,
              "#fb9f3a"
             ],
             [
              0.8888888888888888,
              "#fdca26"
             ],
             [
              1,
              "#f0f921"
             ]
            ],
            "type": "heatmapgl"
           }
          ],
          "histogram": [
           {
            "marker": {
             "pattern": {
              "fillmode": "overlay",
              "size": 10,
              "solidity": 0.2
             }
            },
            "type": "histogram"
           }
          ],
          "histogram2d": [
           {
            "colorbar": {
             "outlinewidth": 0,
             "ticks": ""
            },
            "colorscale": [
             [
              0,
              "#0d0887"
             ],
             [
              0.1111111111111111,
              "#46039f"
             ],
             [
              0.2222222222222222,
              "#7201a8"
             ],
             [
              0.3333333333333333,
              "#9c179e"
             ],
             [
              0.4444444444444444,
              "#bd3786"
             ],
             [
              0.5555555555555556,
              "#d8576b"
             ],
             [
              0.6666666666666666,
              "#ed7953"
             ],
             [
              0.7777777777777778,
              "#fb9f3a"
             ],
             [
              0.8888888888888888,
              "#fdca26"
             ],
             [
              1,
              "#f0f921"
             ]
            ],
            "type": "histogram2d"
           }
          ],
          "histogram2dcontour": [
           {
            "colorbar": {
             "outlinewidth": 0,
             "ticks": ""
            },
            "colorscale": [
             [
              0,
              "#0d0887"
             ],
             [
              0.1111111111111111,
              "#46039f"
             ],
             [
              0.2222222222222222,
              "#7201a8"
             ],
             [
              0.3333333333333333,
              "#9c179e"
             ],
             [
              0.4444444444444444,
              "#bd3786"
             ],
             [
              0.5555555555555556,
              "#d8576b"
             ],
             [
              0.6666666666666666,
              "#ed7953"
             ],
             [
              0.7777777777777778,
              "#fb9f3a"
             ],
             [
              0.8888888888888888,
              "#fdca26"
             ],
             [
              1,
              "#f0f921"
             ]
            ],
            "type": "histogram2dcontour"
           }
          ],
          "mesh3d": [
           {
            "colorbar": {
             "outlinewidth": 0,
             "ticks": ""
            },
            "type": "mesh3d"
           }
          ],
          "parcoords": [
           {
            "line": {
             "colorbar": {
              "outlinewidth": 0,
              "ticks": ""
             }
            },
            "type": "parcoords"
           }
          ],
          "pie": [
           {
            "automargin": true,
            "type": "pie"
           }
          ],
          "scatter": [
           {
            "fillpattern": {
             "fillmode": "overlay",
             "size": 10,
             "solidity": 0.2
            },
            "type": "scatter"
           }
          ],
          "scatter3d": [
           {
            "line": {
             "colorbar": {
              "outlinewidth": 0,
              "ticks": ""
             }
            },
            "marker": {
             "colorbar": {
              "outlinewidth": 0,
              "ticks": ""
             }
            },
            "type": "scatter3d"
           }
          ],
          "scattercarpet": [
           {
            "marker": {
             "colorbar": {
              "outlinewidth": 0,
              "ticks": ""
             }
            },
            "type": "scattercarpet"
           }
          ],
          "scattergeo": [
           {
            "marker": {
             "colorbar": {
              "outlinewidth": 0,
              "ticks": ""
             }
            },
            "type": "scattergeo"
           }
          ],
          "scattergl": [
           {
            "marker": {
             "colorbar": {
              "outlinewidth": 0,
              "ticks": ""
             }
            },
            "type": "scattergl"
           }
          ],
          "scattermapbox": [
           {
            "marker": {
             "colorbar": {
              "outlinewidth": 0,
              "ticks": ""
             }
            },
            "type": "scattermapbox"
           }
          ],
          "scatterpolar": [
           {
            "marker": {
             "colorbar": {
              "outlinewidth": 0,
              "ticks": ""
             }
            },
            "type": "scatterpolar"
           }
          ],
          "scatterpolargl": [
           {
            "marker": {
             "colorbar": {
              "outlinewidth": 0,
              "ticks": ""
             }
            },
            "type": "scatterpolargl"
           }
          ],
          "scatterternary": [
           {
            "marker": {
             "colorbar": {
              "outlinewidth": 0,
              "ticks": ""
             }
            },
            "type": "scatterternary"
           }
          ],
          "surface": [
           {
            "colorbar": {
             "outlinewidth": 0,
             "ticks": ""
            },
            "colorscale": [
             [
              0,
              "#0d0887"
             ],
             [
              0.1111111111111111,
              "#46039f"
             ],
             [
              0.2222222222222222,
              "#7201a8"
             ],
             [
              0.3333333333333333,
              "#9c179e"
             ],
             [
              0.4444444444444444,
              "#bd3786"
             ],
             [
              0.5555555555555556,
              "#d8576b"
             ],
             [
              0.6666666666666666,
              "#ed7953"
             ],
             [
              0.7777777777777778,
              "#fb9f3a"
             ],
             [
              0.8888888888888888,
              "#fdca26"
             ],
             [
              1,
              "#f0f921"
             ]
            ],
            "type": "surface"
           }
          ],
          "table": [
           {
            "cells": {
             "fill": {
              "color": "#EBF0F8"
             },
             "line": {
              "color": "white"
             }
            },
            "header": {
             "fill": {
              "color": "#C8D4E3"
             },
             "line": {
              "color": "white"
             }
            },
            "type": "table"
           }
          ]
         },
         "layout": {
          "annotationdefaults": {
           "arrowcolor": "#2a3f5f",
           "arrowhead": 0,
           "arrowwidth": 1
          },
          "autotypenumbers": "strict",
          "coloraxis": {
           "colorbar": {
            "outlinewidth": 0,
            "ticks": ""
           }
          },
          "colorscale": {
           "diverging": [
            [
             0,
             "#8e0152"
            ],
            [
             0.1,
             "#c51b7d"
            ],
            [
             0.2,
             "#de77ae"
            ],
            [
             0.3,
             "#f1b6da"
            ],
            [
             0.4,
             "#fde0ef"
            ],
            [
             0.5,
             "#f7f7f7"
            ],
            [
             0.6,
             "#e6f5d0"
            ],
            [
             0.7,
             "#b8e186"
            ],
            [
             0.8,
             "#7fbc41"
            ],
            [
             0.9,
             "#4d9221"
            ],
            [
             1,
             "#276419"
            ]
           ],
           "sequential": [
            [
             0,
             "#0d0887"
            ],
            [
             0.1111111111111111,
             "#46039f"
            ],
            [
             0.2222222222222222,
             "#7201a8"
            ],
            [
             0.3333333333333333,
             "#9c179e"
            ],
            [
             0.4444444444444444,
             "#bd3786"
            ],
            [
             0.5555555555555556,
             "#d8576b"
            ],
            [
             0.6666666666666666,
             "#ed7953"
            ],
            [
             0.7777777777777778,
             "#fb9f3a"
            ],
            [
             0.8888888888888888,
             "#fdca26"
            ],
            [
             1,
             "#f0f921"
            ]
           ],
           "sequentialminus": [
            [
             0,
             "#0d0887"
            ],
            [
             0.1111111111111111,
             "#46039f"
            ],
            [
             0.2222222222222222,
             "#7201a8"
            ],
            [
             0.3333333333333333,
             "#9c179e"
            ],
            [
             0.4444444444444444,
             "#bd3786"
            ],
            [
             0.5555555555555556,
             "#d8576b"
            ],
            [
             0.6666666666666666,
             "#ed7953"
            ],
            [
             0.7777777777777778,
             "#fb9f3a"
            ],
            [
             0.8888888888888888,
             "#fdca26"
            ],
            [
             1,
             "#f0f921"
            ]
           ]
          },
          "colorway": [
           "#636efa",
           "#EF553B",
           "#00cc96",
           "#ab63fa",
           "#FFA15A",
           "#19d3f3",
           "#FF6692",
           "#B6E880",
           "#FF97FF",
           "#FECB52"
          ],
          "font": {
           "color": "#2a3f5f"
          },
          "geo": {
           "bgcolor": "white",
           "lakecolor": "white",
           "landcolor": "#E5ECF6",
           "showlakes": true,
           "showland": true,
           "subunitcolor": "white"
          },
          "hoverlabel": {
           "align": "left"
          },
          "hovermode": "closest",
          "mapbox": {
           "style": "light"
          },
          "paper_bgcolor": "white",
          "plot_bgcolor": "#E5ECF6",
          "polar": {
           "angularaxis": {
            "gridcolor": "white",
            "linecolor": "white",
            "ticks": ""
           },
           "bgcolor": "#E5ECF6",
           "radialaxis": {
            "gridcolor": "white",
            "linecolor": "white",
            "ticks": ""
           }
          },
          "scene": {
           "xaxis": {
            "backgroundcolor": "#E5ECF6",
            "gridcolor": "white",
            "gridwidth": 2,
            "linecolor": "white",
            "showbackground": true,
            "ticks": "",
            "zerolinecolor": "white"
           },
           "yaxis": {
            "backgroundcolor": "#E5ECF6",
            "gridcolor": "white",
            "gridwidth": 2,
            "linecolor": "white",
            "showbackground": true,
            "ticks": "",
            "zerolinecolor": "white"
           },
           "zaxis": {
            "backgroundcolor": "#E5ECF6",
            "gridcolor": "white",
            "gridwidth": 2,
            "linecolor": "white",
            "showbackground": true,
            "ticks": "",
            "zerolinecolor": "white"
           }
          },
          "shapedefaults": {
           "line": {
            "color": "#2a3f5f"
           }
          },
          "ternary": {
           "aaxis": {
            "gridcolor": "white",
            "linecolor": "white",
            "ticks": ""
           },
           "baxis": {
            "gridcolor": "white",
            "linecolor": "white",
            "ticks": ""
           },
           "bgcolor": "#E5ECF6",
           "caxis": {
            "gridcolor": "white",
            "linecolor": "white",
            "ticks": ""
           }
          },
          "title": {
           "x": 0.05
          },
          "xaxis": {
           "automargin": true,
           "gridcolor": "white",
           "linecolor": "white",
           "ticks": "",
           "title": {
            "standoff": 15
           },
           "zerolinecolor": "white",
           "zerolinewidth": 2
          },
          "yaxis": {
           "automargin": true,
           "gridcolor": "white",
           "linecolor": "white",
           "ticks": "",
           "title": {
            "standoff": 15
           },
           "zerolinecolor": "white",
           "zerolinewidth": 2
          }
         }
        },
        "xaxis": {
         "anchor": "y",
         "domain": [
          0,
          1
         ],
         "title": {
          "text": "x"
         }
        },
        "yaxis": {
         "anchor": "x",
         "domain": [
          0,
          1
         ],
         "title": {
          "text": "y"
         }
        }
       }
      },
      "text/html": [
       "<div>                            <div id=\"1bb05ff7-28ba-470b-b10d-9a1a03c2dcc0\" class=\"plotly-graph-div\" style=\"height:525px; width:100%;\"></div>            <script type=\"text/javascript\">                require([\"plotly\"], function(Plotly) {                    window.PLOTLYENV=window.PLOTLYENV || {};                                    if (document.getElementById(\"1bb05ff7-28ba-470b-b10d-9a1a03c2dcc0\")) {                    Plotly.newPlot(                        \"1bb05ff7-28ba-470b-b10d-9a1a03c2dcc0\",                        [{\"hovertemplate\":\"color=1<br>x=%{x}<br>y=%{y}<extra></extra>\",\"legendgroup\":\"1\",\"marker\":{\"color\":\"#636efa\",\"symbol\":\"circle\"},\"mode\":\"markers\",\"name\":\"1\",\"orientation\":\"v\",\"showlegend\":true,\"x\":[0.7183493500977276,-0.9815591569910653,-0.9979453927503363,0.22252093395631445,0.01844084300893467,-1.0,0.1286812958766106,-0.7183493500977275,-0.032051577571654985,0.09903113209758085,0.09602302590768189,0.0,-0.09602302590768154,-0.9269167573460216,0.5183925683105252,-0.6234898018587335,0.03205157757165533,0.15959989503337932,0.008209986176753836,-0.4625382902408351,-0.8380881048918404,-0.6723008902613166,0.07308324265397825,0.1619118951081593,0.28452758663103267,-0.28452758663103234,0.6723008902613169,-0.7614459583691342,0.2816506499022724,-0.5721166601221694,-0.40478334312239367,-0.518392568310525,-0.9672948630390293,-0.15959989503337896,0.03270513696097055,0.404783343122394,-0.3453650544213075,0.3453650544213078,-0.8713187041233892,-0.900968867902419,0.23855404163086558,0.5721166601221697,0.05094425298933136,0.4625382902408354,0.19858637813204327,0.0020546072496636647,0.6234898018587336,-0.22252093395631434,-0.9490557470106686,-0.991790013823246,-0.8014136218679565],\"xaxis\":\"x\",\"y\":[0.6956825506034864,0.19115862870137254,0.06407021998071323,0.9749279121818236,0.30884137129862776,1.2246467991473532e-16,0.009282447996062149,0.6956825506034865,0.9994862162006879,0.06611626088244194,0.9953791129491982,0.5,0.9953791129491982,0.3752670048793745,0.8551427630053461,0.7818314824680299,0.9994862162006879,0.9871817834144501,0.372122838315494,0.8865993063730001,0.545534901210549,0.7402779970753157,0.12473299512062597,-0.045534901210548595,0.9586678530366606,0.9586678530366607,0.7402779970753155,0.6482283953077888,-0.19568255060348638,0.8201722545969561,0.9144126230158125,0.8551427630053462,0.2536545839095078,0.9871817834144502,0.24634541609049265,0.9144126230158124,0.9384684220497604,0.9384684220497603,0.49071755200393813,0.43388373911755823,-0.14822839530778842,0.8201722545969559,0.18489178197637934,0.886599306373,-0.09811053049121587,0.43592978001928706,0.7818314824680298,0.9749279121818236,0.3151082180236209,0.1278771616845065,0.5981105304912161],\"yaxis\":\"y\",\"type\":\"scatter\"},{\"hovertemplate\":\"color=0<br>x=%{x}<br>y=%{y}<extra></extra>\",\"legendgroup\":\"0\",\"marker\":{\"color\":\"#EF553B\",\"symbol\":\"circle\"},\"mode\":\"markers\",\"name\":\"0\",\"orientation\":\"v\",\"showlegend\":true,\"x\":[0.9679484224283447,1.5721166601221694,1.9979453927503363,1.7614459583691342,0.9490557470106686,1.6234898018587334,1.8380881048918405,0.9672948630390295,1.991790013823246,0.5374617097591645,0.8713187041233894,0.3765101981412664,0.595216656877606,1.6723008902613166,1.7183493500977276,0.8380881048918407,0.7154724133689674,1.0960230259076815,0.48160743168947484,0.9815591569910653,0.7614459583691344,0.3276991097386831,0.9009688679024191,1.2845275866310324,0.6546349455786922,1.2225209339563143,1.032051577571655,1.518392568310525,1.9815591569910653,0.9269167573460217,0.7774790660436856,0.9039769740923181,0.9917900138232462,1.9269167573460217,1.0,1.9672948630390295,1.8014136218679564,0.9979453927503363,0.42788333987783034,1.462538290240835,1.9490557470106686,1.8713187041233892,0.8404001049666207,1.3453650544213076,1.4047833431223937,1.900968867902419,2.0,0.8014136218679567,1.159599895033379],\"xaxis\":\"x\",\"y\":[-0.4994862162006879,-0.3201722545969561,0.43592978001928673,-0.14822839530778875,0.31510821802362066,-0.2818314824680299,-0.04553490121054904,0.25365458390950735,0.37212283831549353,-0.386599306373,0.49071755200393785,-0.2818314824680298,-0.4144126230158124,-0.24027799707531572,-0.1956825506034865,0.5455349012105486,-0.4586678530366606,-0.49537911294919823,-0.3551427630053461,0.1911586287013723,0.6482283953077884,-0.2402779970753155,0.4338837391175581,-0.4586678530366607,-0.43846842204976033,-0.4749279121818236,-0.4994862162006879,-0.3551427630053462,0.30884137129862743,0.3752670048793741,-0.4749279121818236,-0.49537911294919823,0.127877161684506,0.12473299512062552,0.0,0.2463454160904922,-0.0981105304912161,0.06407021998071291,-0.32017225459695586,-0.3865993063730001,0.18489178197637912,0.009282447996061816,-0.48718178341445006,-0.43846842204976044,-0.4144126230158125,0.06611626088244171,0.4999999999999999,0.5981105304912159,-0.4871817834144502],\"yaxis\":\"y\",\"type\":\"scatter\"}],                        {\"template\":{\"data\":{\"histogram2dcontour\":[{\"type\":\"histogram2dcontour\",\"colorbar\":{\"outlinewidth\":0,\"ticks\":\"\"},\"colorscale\":[[0.0,\"#0d0887\"],[0.1111111111111111,\"#46039f\"],[0.2222222222222222,\"#7201a8\"],[0.3333333333333333,\"#9c179e\"],[0.4444444444444444,\"#bd3786\"],[0.5555555555555556,\"#d8576b\"],[0.6666666666666666,\"#ed7953\"],[0.7777777777777778,\"#fb9f3a\"],[0.8888888888888888,\"#fdca26\"],[1.0,\"#f0f921\"]]}],\"choropleth\":[{\"type\":\"choropleth\",\"colorbar\":{\"outlinewidth\":0,\"ticks\":\"\"}}],\"histogram2d\":[{\"type\":\"histogram2d\",\"colorbar\":{\"outlinewidth\":0,\"ticks\":\"\"},\"colorscale\":[[0.0,\"#0d0887\"],[0.1111111111111111,\"#46039f\"],[0.2222222222222222,\"#7201a8\"],[0.3333333333333333,\"#9c179e\"],[0.4444444444444444,\"#bd3786\"],[0.5555555555555556,\"#d8576b\"],[0.6666666666666666,\"#ed7953\"],[0.7777777777777778,\"#fb9f3a\"],[0.8888888888888888,\"#fdca26\"],[1.0,\"#f0f921\"]]}],\"heatmap\":[{\"type\":\"heatmap\",\"colorbar\":{\"outlinewidth\":0,\"ticks\":\"\"},\"colorscale\":[[0.0,\"#0d0887\"],[0.1111111111111111,\"#46039f\"],[0.2222222222222222,\"#7201a8\"],[0.3333333333333333,\"#9c179e\"],[0.4444444444444444,\"#bd3786\"],[0.5555555555555556,\"#d8576b\"],[0.6666666666666666,\"#ed7953\"],[0.7777777777777778,\"#fb9f3a\"],[0.8888888888888888,\"#fdca26\"],[1.0,\"#f0f921\"]]}],\"heatmapgl\":[{\"type\":\"heatmapgl\",\"colorbar\":{\"outlinewidth\":0,\"ticks\":\"\"},\"colorscale\":[[0.0,\"#0d0887\"],[0.1111111111111111,\"#46039f\"],[0.2222222222222222,\"#7201a8\"],[0.3333333333333333,\"#9c179e\"],[0.4444444444444444,\"#bd3786\"],[0.5555555555555556,\"#d8576b\"],[0.6666666666666666,\"#ed7953\"],[0.7777777777777778,\"#fb9f3a\"],[0.8888888888888888,\"#fdca26\"],[1.0,\"#f0f921\"]]}],\"contourcarpet\":[{\"type\":\"contourcarpet\",\"colorbar\":{\"outlinewidth\":0,\"ticks\":\"\"}}],\"contour\":[{\"type\":\"contour\",\"colorbar\":{\"outlinewidth\":0,\"ticks\":\"\"},\"colorscale\":[[0.0,\"#0d0887\"],[0.1111111111111111,\"#46039f\"],[0.2222222222222222,\"#7201a8\"],[0.3333333333333333,\"#9c179e\"],[0.4444444444444444,\"#bd3786\"],[0.5555555555555556,\"#d8576b\"],[0.6666666666666666,\"#ed7953\"],[0.7777777777777778,\"#fb9f3a\"],[0.8888888888888888,\"#fdca26\"],[1.0,\"#f0f921\"]]}],\"surface\":[{\"type\":\"surface\",\"colorbar\":{\"outlinewidth\":0,\"ticks\":\"\"},\"colorscale\":[[0.0,\"#0d0887\"],[0.1111111111111111,\"#46039f\"],[0.2222222222222222,\"#7201a8\"],[0.3333333333333333,\"#9c179e\"],[0.4444444444444444,\"#bd3786\"],[0.5555555555555556,\"#d8576b\"],[0.6666666666666666,\"#ed7953\"],[0.7777777777777778,\"#fb9f3a\"],[0.8888888888888888,\"#fdca26\"],[1.0,\"#f0f921\"]]}],\"mesh3d\":[{\"type\":\"mesh3d\",\"colorbar\":{\"outlinewidth\":0,\"ticks\":\"\"}}],\"scatter\":[{\"fillpattern\":{\"fillmode\":\"overlay\",\"size\":10,\"solidity\":0.2},\"type\":\"scatter\"}],\"parcoords\":[{\"type\":\"parcoords\",\"line\":{\"colorbar\":{\"outlinewidth\":0,\"ticks\":\"\"}}}],\"scatterpolargl\":[{\"type\":\"scatterpolargl\",\"marker\":{\"colorbar\":{\"outlinewidth\":0,\"ticks\":\"\"}}}],\"bar\":[{\"error_x\":{\"color\":\"#2a3f5f\"},\"error_y\":{\"color\":\"#2a3f5f\"},\"marker\":{\"line\":{\"color\":\"#E5ECF6\",\"width\":0.5},\"pattern\":{\"fillmode\":\"overlay\",\"size\":10,\"solidity\":0.2}},\"type\":\"bar\"}],\"scattergeo\":[{\"type\":\"scattergeo\",\"marker\":{\"colorbar\":{\"outlinewidth\":0,\"ticks\":\"\"}}}],\"scatterpolar\":[{\"type\":\"scatterpolar\",\"marker\":{\"colorbar\":{\"outlinewidth\":0,\"ticks\":\"\"}}}],\"histogram\":[{\"marker\":{\"pattern\":{\"fillmode\":\"overlay\",\"size\":10,\"solidity\":0.2}},\"type\":\"histogram\"}],\"scattergl\":[{\"type\":\"scattergl\",\"marker\":{\"colorbar\":{\"outlinewidth\":0,\"ticks\":\"\"}}}],\"scatter3d\":[{\"type\":\"scatter3d\",\"line\":{\"colorbar\":{\"outlinewidth\":0,\"ticks\":\"\"}},\"marker\":{\"colorbar\":{\"outlinewidth\":0,\"ticks\":\"\"}}}],\"scattermapbox\":[{\"type\":\"scattermapbox\",\"marker\":{\"colorbar\":{\"outlinewidth\":0,\"ticks\":\"\"}}}],\"scatterternary\":[{\"type\":\"scatterternary\",\"marker\":{\"colorbar\":{\"outlinewidth\":0,\"ticks\":\"\"}}}],\"scattercarpet\":[{\"type\":\"scattercarpet\",\"marker\":{\"colorbar\":{\"outlinewidth\":0,\"ticks\":\"\"}}}],\"carpet\":[{\"aaxis\":{\"endlinecolor\":\"#2a3f5f\",\"gridcolor\":\"white\",\"linecolor\":\"white\",\"minorgridcolor\":\"white\",\"startlinecolor\":\"#2a3f5f\"},\"baxis\":{\"endlinecolor\":\"#2a3f5f\",\"gridcolor\":\"white\",\"linecolor\":\"white\",\"minorgridcolor\":\"white\",\"startlinecolor\":\"#2a3f5f\"},\"type\":\"carpet\"}],\"table\":[{\"cells\":{\"fill\":{\"color\":\"#EBF0F8\"},\"line\":{\"color\":\"white\"}},\"header\":{\"fill\":{\"color\":\"#C8D4E3\"},\"line\":{\"color\":\"white\"}},\"type\":\"table\"}],\"barpolar\":[{\"marker\":{\"line\":{\"color\":\"#E5ECF6\",\"width\":0.5},\"pattern\":{\"fillmode\":\"overlay\",\"size\":10,\"solidity\":0.2}},\"type\":\"barpolar\"}],\"pie\":[{\"automargin\":true,\"type\":\"pie\"}]},\"layout\":{\"autotypenumbers\":\"strict\",\"colorway\":[\"#636efa\",\"#EF553B\",\"#00cc96\",\"#ab63fa\",\"#FFA15A\",\"#19d3f3\",\"#FF6692\",\"#B6E880\",\"#FF97FF\",\"#FECB52\"],\"font\":{\"color\":\"#2a3f5f\"},\"hovermode\":\"closest\",\"hoverlabel\":{\"align\":\"left\"},\"paper_bgcolor\":\"white\",\"plot_bgcolor\":\"#E5ECF6\",\"polar\":{\"bgcolor\":\"#E5ECF6\",\"angularaxis\":{\"gridcolor\":\"white\",\"linecolor\":\"white\",\"ticks\":\"\"},\"radialaxis\":{\"gridcolor\":\"white\",\"linecolor\":\"white\",\"ticks\":\"\"}},\"ternary\":{\"bgcolor\":\"#E5ECF6\",\"aaxis\":{\"gridcolor\":\"white\",\"linecolor\":\"white\",\"ticks\":\"\"},\"baxis\":{\"gridcolor\":\"white\",\"linecolor\":\"white\",\"ticks\":\"\"},\"caxis\":{\"gridcolor\":\"white\",\"linecolor\":\"white\",\"ticks\":\"\"}},\"coloraxis\":{\"colorbar\":{\"outlinewidth\":0,\"ticks\":\"\"}},\"colorscale\":{\"sequential\":[[0.0,\"#0d0887\"],[0.1111111111111111,\"#46039f\"],[0.2222222222222222,\"#7201a8\"],[0.3333333333333333,\"#9c179e\"],[0.4444444444444444,\"#bd3786\"],[0.5555555555555556,\"#d8576b\"],[0.6666666666666666,\"#ed7953\"],[0.7777777777777778,\"#fb9f3a\"],[0.8888888888888888,\"#fdca26\"],[1.0,\"#f0f921\"]],\"sequentialminus\":[[0.0,\"#0d0887\"],[0.1111111111111111,\"#46039f\"],[0.2222222222222222,\"#7201a8\"],[0.3333333333333333,\"#9c179e\"],[0.4444444444444444,\"#bd3786\"],[0.5555555555555556,\"#d8576b\"],[0.6666666666666666,\"#ed7953\"],[0.7777777777777778,\"#fb9f3a\"],[0.8888888888888888,\"#fdca26\"],[1.0,\"#f0f921\"]],\"diverging\":[[0,\"#8e0152\"],[0.1,\"#c51b7d\"],[0.2,\"#de77ae\"],[0.3,\"#f1b6da\"],[0.4,\"#fde0ef\"],[0.5,\"#f7f7f7\"],[0.6,\"#e6f5d0\"],[0.7,\"#b8e186\"],[0.8,\"#7fbc41\"],[0.9,\"#4d9221\"],[1,\"#276419\"]]},\"xaxis\":{\"gridcolor\":\"white\",\"linecolor\":\"white\",\"ticks\":\"\",\"title\":{\"standoff\":15},\"zerolinecolor\":\"white\",\"automargin\":true,\"zerolinewidth\":2},\"yaxis\":{\"gridcolor\":\"white\",\"linecolor\":\"white\",\"ticks\":\"\",\"title\":{\"standoff\":15},\"zerolinecolor\":\"white\",\"automargin\":true,\"zerolinewidth\":2},\"scene\":{\"xaxis\":{\"backgroundcolor\":\"#E5ECF6\",\"gridcolor\":\"white\",\"linecolor\":\"white\",\"showbackground\":true,\"ticks\":\"\",\"zerolinecolor\":\"white\",\"gridwidth\":2},\"yaxis\":{\"backgroundcolor\":\"#E5ECF6\",\"gridcolor\":\"white\",\"linecolor\":\"white\",\"showbackground\":true,\"ticks\":\"\",\"zerolinecolor\":\"white\",\"gridwidth\":2},\"zaxis\":{\"backgroundcolor\":\"#E5ECF6\",\"gridcolor\":\"white\",\"linecolor\":\"white\",\"showbackground\":true,\"ticks\":\"\",\"zerolinecolor\":\"white\",\"gridwidth\":2}},\"shapedefaults\":{\"line\":{\"color\":\"#2a3f5f\"}},\"annotationdefaults\":{\"arrowcolor\":\"#2a3f5f\",\"arrowhead\":0,\"arrowwidth\":1},\"geo\":{\"bgcolor\":\"white\",\"landcolor\":\"#E5ECF6\",\"subunitcolor\":\"white\",\"showland\":true,\"showlakes\":true,\"lakecolor\":\"white\"},\"title\":{\"x\":0.05},\"mapbox\":{\"style\":\"light\"}}},\"xaxis\":{\"anchor\":\"y\",\"domain\":[0.0,1.0],\"title\":{\"text\":\"x\"}},\"yaxis\":{\"anchor\":\"x\",\"domain\":[0.0,1.0],\"title\":{\"text\":\"y\"}},\"legend\":{\"title\":{\"text\":\"color\"},\"tracegroupgap\":0},\"margin\":{\"t\":60}},                        {\"responsive\": true}                    ).then(function(){\n",
       "                            \n",
       "var gd = document.getElementById('1bb05ff7-28ba-470b-b10d-9a1a03c2dcc0');\n",
       "var x = new MutationObserver(function (mutations, observer) {{\n",
       "        var display = window.getComputedStyle(gd).display;\n",
       "        if (!display || display === 'none') {{\n",
       "            console.log([gd, 'removed!']);\n",
       "            Plotly.purge(gd);\n",
       "            observer.disconnect();\n",
       "        }}\n",
       "}});\n",
       "\n",
       "// Listen for the removal of the full notebook cells\n",
       "var notebookContainer = gd.closest('#notebook-container');\n",
       "if (notebookContainer) {{\n",
       "    x.observe(notebookContainer, {childList: true});\n",
       "}}\n",
       "\n",
       "// Listen for the clearing of the current output cell\n",
       "var outputEl = gd.closest('.output');\n",
       "if (outputEl) {{\n",
       "    x.observe(outputEl, {childList: true});\n",
       "}}\n",
       "\n",
       "                        })                };                });            </script>        </div>"
      ]
     },
     "metadata": {},
     "output_type": "display_data"
    }
   ],
   "source": [
    "from sklearn.cluster import KMeans\n",
    "kmeans = KMeans(n_clusters=2, random_state=0).fit(X)\n",
    "labels = [str(i) for i in kmeans.labels_]\n",
    "fig = px.scatter(x=X[:, 0], y=X[:, 1], color=labels);\n",
    "fig.show()"
   ]
  },
  {
   "cell_type": "markdown",
   "metadata": {
    "id": "MYHjI0aKan_U"
   },
   "source": [
    "#### DBSCAN\n"
   ]
  },
  {
   "cell_type": "code",
   "execution_count": 99,
   "metadata": {
    "colab": {
     "base_uri": "https://localhost:8080/",
     "height": 286
    },
    "id": "Pq4_YbO9cqZT",
    "outputId": "8558d9cc-7d90-4159-e64d-926497108b2c"
   },
   "outputs": [
    {
     "data": {
      "application/vnd.plotly.v1+json": {
       "config": {
        "plotlyServerURL": "https://plot.ly"
       },
       "data": [
        {
         "hovertemplate": "color=0<br>x=%{x}<br>y=%{y}<extra></extra>",
         "legendgroup": "0",
         "marker": {
          "color": "#636efa",
          "symbol": "circle"
         },
         "mode": "markers",
         "name": "0",
         "orientation": "v",
         "showlegend": true,
         "type": "scatter",
         "x": [
          0.7183493500977276,
          -0.9815591569910653,
          -0.9979453927503363,
          0.22252093395631445,
          0.9490557470106686,
          -1,
          0.9672948630390295,
          -0.7183493500977275,
          -0.032051577571654985,
          0.8713187041233894,
          0.09602302590768189,
          -0.09602302590768154,
          -0.9269167573460216,
          0.5183925683105252,
          -0.6234898018587335,
          0.8380881048918407,
          0.03205157757165533,
          0.9815591569910653,
          0.7614459583691344,
          0.15959989503337932,
          -0.4625382902408351,
          0.9009688679024191,
          -0.8380881048918404,
          -0.6723008902613166,
          0.28452758663103267,
          -0.28452758663103234,
          0.6723008902613169,
          0.9269167573460217,
          -0.7614459583691342,
          -0.5721166601221694,
          0.9917900138232462,
          -0.40478334312239367,
          1,
          -0.518392568310525,
          -0.9672948630390293,
          0.9979453927503363,
          -0.15959989503337896,
          0.404783343122394,
          -0.3453650544213075,
          0.3453650544213078,
          -0.8713187041233892,
          -0.900968867902419,
          0.5721166601221697,
          0.4625382902408354,
          0.6234898018587336,
          -0.22252093395631434,
          -0.9490557470106686,
          0.8014136218679567,
          -0.991790013823246,
          -0.8014136218679565
         ],
         "xaxis": "x",
         "y": [
          0.6956825506034864,
          0.19115862870137254,
          0.06407021998071323,
          0.9749279121818236,
          0.31510821802362066,
          1.2246467991473532e-16,
          0.25365458390950735,
          0.6956825506034865,
          0.9994862162006879,
          0.49071755200393785,
          0.9953791129491982,
          0.9953791129491982,
          0.3752670048793745,
          0.8551427630053461,
          0.7818314824680299,
          0.5455349012105486,
          0.9994862162006879,
          0.1911586287013723,
          0.6482283953077884,
          0.9871817834144501,
          0.8865993063730001,
          0.4338837391175581,
          0.545534901210549,
          0.7402779970753157,
          0.9586678530366606,
          0.9586678530366607,
          0.7402779970753155,
          0.3752670048793741,
          0.6482283953077888,
          0.8201722545969561,
          0.127877161684506,
          0.9144126230158125,
          0,
          0.8551427630053462,
          0.2536545839095078,
          0.06407021998071291,
          0.9871817834144502,
          0.9144126230158124,
          0.9384684220497604,
          0.9384684220497603,
          0.49071755200393813,
          0.43388373911755823,
          0.8201722545969559,
          0.886599306373,
          0.7818314824680298,
          0.9749279121818236,
          0.3151082180236209,
          0.5981105304912159,
          0.1278771616845065,
          0.5981105304912161
         ],
         "yaxis": "y"
        },
        {
         "hovertemplate": "color=1<br>x=%{x}<br>y=%{y}<extra></extra>",
         "legendgroup": "1",
         "marker": {
          "color": "#EF553B",
          "symbol": "circle"
         },
         "mode": "markers",
         "name": "1",
         "orientation": "v",
         "showlegend": true,
         "type": "scatter",
         "x": [
          0.9679484224283447,
          1.5721166601221694,
          1.9979453927503363,
          1.7614459583691342,
          0.01844084300893467,
          1.6234898018587334,
          1.8380881048918405,
          0.1286812958766106,
          1.991790013823246,
          0.5374617097591645,
          0.09903113209758085,
          0.3765101981412664,
          0.595216656877606,
          0,
          1.6723008902613166,
          1.7183493500977276,
          0.7154724133689674,
          1.0960230259076815,
          0.48160743168947484,
          0.3276991097386831,
          0.008209986176753836,
          1.2845275866310324,
          0.6546349455786922,
          1.2225209339563143,
          1.032051577571655,
          0.07308324265397825,
          0.1619118951081593,
          1.518392568310525,
          1.9815591569910653,
          0.2816506499022724,
          0.7774790660436856,
          0.9039769740923181,
          1.9269167573460217,
          1.9672948630390295,
          1.8014136218679564,
          0.42788333987783034,
          0.03270513696097055,
          1.462538290240835,
          0.23855404163086558,
          1.9490557470106686,
          1.8713187041233892,
          0.8404001049666207,
          0.05094425298933136,
          1.3453650544213076,
          1.4047833431223937,
          0.19858637813204327,
          0.0020546072496636647,
          1.900968867902419,
          2,
          1.159599895033379
         ],
         "xaxis": "x",
         "y": [
          -0.4994862162006879,
          -0.3201722545969561,
          0.43592978001928673,
          -0.14822839530778875,
          0.30884137129862776,
          -0.2818314824680299,
          -0.04553490121054904,
          0.009282447996062149,
          0.37212283831549353,
          -0.386599306373,
          0.06611626088244194,
          -0.2818314824680298,
          -0.4144126230158124,
          0.5,
          -0.24027799707531572,
          -0.1956825506034865,
          -0.4586678530366606,
          -0.49537911294919823,
          -0.3551427630053461,
          -0.2402779970753155,
          0.372122838315494,
          -0.4586678530366607,
          -0.43846842204976033,
          -0.4749279121818236,
          -0.4994862162006879,
          0.12473299512062597,
          -0.045534901210548595,
          -0.3551427630053462,
          0.30884137129862743,
          -0.19568255060348638,
          -0.4749279121818236,
          -0.49537911294919823,
          0.12473299512062552,
          0.2463454160904922,
          -0.0981105304912161,
          -0.32017225459695586,
          0.24634541609049265,
          -0.3865993063730001,
          -0.14822839530778842,
          0.18489178197637912,
          0.009282447996061816,
          -0.48718178341445006,
          0.18489178197637934,
          -0.43846842204976044,
          -0.4144126230158125,
          -0.09811053049121587,
          0.43592978001928706,
          0.06611626088244171,
          0.4999999999999999,
          -0.4871817834144502
         ],
         "yaxis": "y"
        }
       ],
       "layout": {
        "legend": {
         "title": {
          "text": "color"
         },
         "tracegroupgap": 0
        },
        "margin": {
         "t": 60
        },
        "template": {
         "data": {
          "bar": [
           {
            "error_x": {
             "color": "#2a3f5f"
            },
            "error_y": {
             "color": "#2a3f5f"
            },
            "marker": {
             "line": {
              "color": "#E5ECF6",
              "width": 0.5
             },
             "pattern": {
              "fillmode": "overlay",
              "size": 10,
              "solidity": 0.2
             }
            },
            "type": "bar"
           }
          ],
          "barpolar": [
           {
            "marker": {
             "line": {
              "color": "#E5ECF6",
              "width": 0.5
             },
             "pattern": {
              "fillmode": "overlay",
              "size": 10,
              "solidity": 0.2
             }
            },
            "type": "barpolar"
           }
          ],
          "carpet": [
           {
            "aaxis": {
             "endlinecolor": "#2a3f5f",
             "gridcolor": "white",
             "linecolor": "white",
             "minorgridcolor": "white",
             "startlinecolor": "#2a3f5f"
            },
            "baxis": {
             "endlinecolor": "#2a3f5f",
             "gridcolor": "white",
             "linecolor": "white",
             "minorgridcolor": "white",
             "startlinecolor": "#2a3f5f"
            },
            "type": "carpet"
           }
          ],
          "choropleth": [
           {
            "colorbar": {
             "outlinewidth": 0,
             "ticks": ""
            },
            "type": "choropleth"
           }
          ],
          "contour": [
           {
            "colorbar": {
             "outlinewidth": 0,
             "ticks": ""
            },
            "colorscale": [
             [
              0,
              "#0d0887"
             ],
             [
              0.1111111111111111,
              "#46039f"
             ],
             [
              0.2222222222222222,
              "#7201a8"
             ],
             [
              0.3333333333333333,
              "#9c179e"
             ],
             [
              0.4444444444444444,
              "#bd3786"
             ],
             [
              0.5555555555555556,
              "#d8576b"
             ],
             [
              0.6666666666666666,
              "#ed7953"
             ],
             [
              0.7777777777777778,
              "#fb9f3a"
             ],
             [
              0.8888888888888888,
              "#fdca26"
             ],
             [
              1,
              "#f0f921"
             ]
            ],
            "type": "contour"
           }
          ],
          "contourcarpet": [
           {
            "colorbar": {
             "outlinewidth": 0,
             "ticks": ""
            },
            "type": "contourcarpet"
           }
          ],
          "heatmap": [
           {
            "colorbar": {
             "outlinewidth": 0,
             "ticks": ""
            },
            "colorscale": [
             [
              0,
              "#0d0887"
             ],
             [
              0.1111111111111111,
              "#46039f"
             ],
             [
              0.2222222222222222,
              "#7201a8"
             ],
             [
              0.3333333333333333,
              "#9c179e"
             ],
             [
              0.4444444444444444,
              "#bd3786"
             ],
             [
              0.5555555555555556,
              "#d8576b"
             ],
             [
              0.6666666666666666,
              "#ed7953"
             ],
             [
              0.7777777777777778,
              "#fb9f3a"
             ],
             [
              0.8888888888888888,
              "#fdca26"
             ],
             [
              1,
              "#f0f921"
             ]
            ],
            "type": "heatmap"
           }
          ],
          "heatmapgl": [
           {
            "colorbar": {
             "outlinewidth": 0,
             "ticks": ""
            },
            "colorscale": [
             [
              0,
              "#0d0887"
             ],
             [
              0.1111111111111111,
              "#46039f"
             ],
             [
              0.2222222222222222,
              "#7201a8"
             ],
             [
              0.3333333333333333,
              "#9c179e"
             ],
             [
              0.4444444444444444,
              "#bd3786"
             ],
             [
              0.5555555555555556,
              "#d8576b"
             ],
             [
              0.6666666666666666,
              "#ed7953"
             ],
             [
              0.7777777777777778,
              "#fb9f3a"
             ],
             [
              0.8888888888888888,
              "#fdca26"
             ],
             [
              1,
              "#f0f921"
             ]
            ],
            "type": "heatmapgl"
           }
          ],
          "histogram": [
           {
            "marker": {
             "pattern": {
              "fillmode": "overlay",
              "size": 10,
              "solidity": 0.2
             }
            },
            "type": "histogram"
           }
          ],
          "histogram2d": [
           {
            "colorbar": {
             "outlinewidth": 0,
             "ticks": ""
            },
            "colorscale": [
             [
              0,
              "#0d0887"
             ],
             [
              0.1111111111111111,
              "#46039f"
             ],
             [
              0.2222222222222222,
              "#7201a8"
             ],
             [
              0.3333333333333333,
              "#9c179e"
             ],
             [
              0.4444444444444444,
              "#bd3786"
             ],
             [
              0.5555555555555556,
              "#d8576b"
             ],
             [
              0.6666666666666666,
              "#ed7953"
             ],
             [
              0.7777777777777778,
              "#fb9f3a"
             ],
             [
              0.8888888888888888,
              "#fdca26"
             ],
             [
              1,
              "#f0f921"
             ]
            ],
            "type": "histogram2d"
           }
          ],
          "histogram2dcontour": [
           {
            "colorbar": {
             "outlinewidth": 0,
             "ticks": ""
            },
            "colorscale": [
             [
              0,
              "#0d0887"
             ],
             [
              0.1111111111111111,
              "#46039f"
             ],
             [
              0.2222222222222222,
              "#7201a8"
             ],
             [
              0.3333333333333333,
              "#9c179e"
             ],
             [
              0.4444444444444444,
              "#bd3786"
             ],
             [
              0.5555555555555556,
              "#d8576b"
             ],
             [
              0.6666666666666666,
              "#ed7953"
             ],
             [
              0.7777777777777778,
              "#fb9f3a"
             ],
             [
              0.8888888888888888,
              "#fdca26"
             ],
             [
              1,
              "#f0f921"
             ]
            ],
            "type": "histogram2dcontour"
           }
          ],
          "mesh3d": [
           {
            "colorbar": {
             "outlinewidth": 0,
             "ticks": ""
            },
            "type": "mesh3d"
           }
          ],
          "parcoords": [
           {
            "line": {
             "colorbar": {
              "outlinewidth": 0,
              "ticks": ""
             }
            },
            "type": "parcoords"
           }
          ],
          "pie": [
           {
            "automargin": true,
            "type": "pie"
           }
          ],
          "scatter": [
           {
            "fillpattern": {
             "fillmode": "overlay",
             "size": 10,
             "solidity": 0.2
            },
            "type": "scatter"
           }
          ],
          "scatter3d": [
           {
            "line": {
             "colorbar": {
              "outlinewidth": 0,
              "ticks": ""
             }
            },
            "marker": {
             "colorbar": {
              "outlinewidth": 0,
              "ticks": ""
             }
            },
            "type": "scatter3d"
           }
          ],
          "scattercarpet": [
           {
            "marker": {
             "colorbar": {
              "outlinewidth": 0,
              "ticks": ""
             }
            },
            "type": "scattercarpet"
           }
          ],
          "scattergeo": [
           {
            "marker": {
             "colorbar": {
              "outlinewidth": 0,
              "ticks": ""
             }
            },
            "type": "scattergeo"
           }
          ],
          "scattergl": [
           {
            "marker": {
             "colorbar": {
              "outlinewidth": 0,
              "ticks": ""
             }
            },
            "type": "scattergl"
           }
          ],
          "scattermapbox": [
           {
            "marker": {
             "colorbar": {
              "outlinewidth": 0,
              "ticks": ""
             }
            },
            "type": "scattermapbox"
           }
          ],
          "scatterpolar": [
           {
            "marker": {
             "colorbar": {
              "outlinewidth": 0,
              "ticks": ""
             }
            },
            "type": "scatterpolar"
           }
          ],
          "scatterpolargl": [
           {
            "marker": {
             "colorbar": {
              "outlinewidth": 0,
              "ticks": ""
             }
            },
            "type": "scatterpolargl"
           }
          ],
          "scatterternary": [
           {
            "marker": {
             "colorbar": {
              "outlinewidth": 0,
              "ticks": ""
             }
            },
            "type": "scatterternary"
           }
          ],
          "surface": [
           {
            "colorbar": {
             "outlinewidth": 0,
             "ticks": ""
            },
            "colorscale": [
             [
              0,
              "#0d0887"
             ],
             [
              0.1111111111111111,
              "#46039f"
             ],
             [
              0.2222222222222222,
              "#7201a8"
             ],
             [
              0.3333333333333333,
              "#9c179e"
             ],
             [
              0.4444444444444444,
              "#bd3786"
             ],
             [
              0.5555555555555556,
              "#d8576b"
             ],
             [
              0.6666666666666666,
              "#ed7953"
             ],
             [
              0.7777777777777778,
              "#fb9f3a"
             ],
             [
              0.8888888888888888,
              "#fdca26"
             ],
             [
              1,
              "#f0f921"
             ]
            ],
            "type": "surface"
           }
          ],
          "table": [
           {
            "cells": {
             "fill": {
              "color": "#EBF0F8"
             },
             "line": {
              "color": "white"
             }
            },
            "header": {
             "fill": {
              "color": "#C8D4E3"
             },
             "line": {
              "color": "white"
             }
            },
            "type": "table"
           }
          ]
         },
         "layout": {
          "annotationdefaults": {
           "arrowcolor": "#2a3f5f",
           "arrowhead": 0,
           "arrowwidth": 1
          },
          "autotypenumbers": "strict",
          "coloraxis": {
           "colorbar": {
            "outlinewidth": 0,
            "ticks": ""
           }
          },
          "colorscale": {
           "diverging": [
            [
             0,
             "#8e0152"
            ],
            [
             0.1,
             "#c51b7d"
            ],
            [
             0.2,
             "#de77ae"
            ],
            [
             0.3,
             "#f1b6da"
            ],
            [
             0.4,
             "#fde0ef"
            ],
            [
             0.5,
             "#f7f7f7"
            ],
            [
             0.6,
             "#e6f5d0"
            ],
            [
             0.7,
             "#b8e186"
            ],
            [
             0.8,
             "#7fbc41"
            ],
            [
             0.9,
             "#4d9221"
            ],
            [
             1,
             "#276419"
            ]
           ],
           "sequential": [
            [
             0,
             "#0d0887"
            ],
            [
             0.1111111111111111,
             "#46039f"
            ],
            [
             0.2222222222222222,
             "#7201a8"
            ],
            [
             0.3333333333333333,
             "#9c179e"
            ],
            [
             0.4444444444444444,
             "#bd3786"
            ],
            [
             0.5555555555555556,
             "#d8576b"
            ],
            [
             0.6666666666666666,
             "#ed7953"
            ],
            [
             0.7777777777777778,
             "#fb9f3a"
            ],
            [
             0.8888888888888888,
             "#fdca26"
            ],
            [
             1,
             "#f0f921"
            ]
           ],
           "sequentialminus": [
            [
             0,
             "#0d0887"
            ],
            [
             0.1111111111111111,
             "#46039f"
            ],
            [
             0.2222222222222222,
             "#7201a8"
            ],
            [
             0.3333333333333333,
             "#9c179e"
            ],
            [
             0.4444444444444444,
             "#bd3786"
            ],
            [
             0.5555555555555556,
             "#d8576b"
            ],
            [
             0.6666666666666666,
             "#ed7953"
            ],
            [
             0.7777777777777778,
             "#fb9f3a"
            ],
            [
             0.8888888888888888,
             "#fdca26"
            ],
            [
             1,
             "#f0f921"
            ]
           ]
          },
          "colorway": [
           "#636efa",
           "#EF553B",
           "#00cc96",
           "#ab63fa",
           "#FFA15A",
           "#19d3f3",
           "#FF6692",
           "#B6E880",
           "#FF97FF",
           "#FECB52"
          ],
          "font": {
           "color": "#2a3f5f"
          },
          "geo": {
           "bgcolor": "white",
           "lakecolor": "white",
           "landcolor": "#E5ECF6",
           "showlakes": true,
           "showland": true,
           "subunitcolor": "white"
          },
          "hoverlabel": {
           "align": "left"
          },
          "hovermode": "closest",
          "mapbox": {
           "style": "light"
          },
          "paper_bgcolor": "white",
          "plot_bgcolor": "#E5ECF6",
          "polar": {
           "angularaxis": {
            "gridcolor": "white",
            "linecolor": "white",
            "ticks": ""
           },
           "bgcolor": "#E5ECF6",
           "radialaxis": {
            "gridcolor": "white",
            "linecolor": "white",
            "ticks": ""
           }
          },
          "scene": {
           "xaxis": {
            "backgroundcolor": "#E5ECF6",
            "gridcolor": "white",
            "gridwidth": 2,
            "linecolor": "white",
            "showbackground": true,
            "ticks": "",
            "zerolinecolor": "white"
           },
           "yaxis": {
            "backgroundcolor": "#E5ECF6",
            "gridcolor": "white",
            "gridwidth": 2,
            "linecolor": "white",
            "showbackground": true,
            "ticks": "",
            "zerolinecolor": "white"
           },
           "zaxis": {
            "backgroundcolor": "#E5ECF6",
            "gridcolor": "white",
            "gridwidth": 2,
            "linecolor": "white",
            "showbackground": true,
            "ticks": "",
            "zerolinecolor": "white"
           }
          },
          "shapedefaults": {
           "line": {
            "color": "#2a3f5f"
           }
          },
          "ternary": {
           "aaxis": {
            "gridcolor": "white",
            "linecolor": "white",
            "ticks": ""
           },
           "baxis": {
            "gridcolor": "white",
            "linecolor": "white",
            "ticks": ""
           },
           "bgcolor": "#E5ECF6",
           "caxis": {
            "gridcolor": "white",
            "linecolor": "white",
            "ticks": ""
           }
          },
          "title": {
           "x": 0.05
          },
          "xaxis": {
           "automargin": true,
           "gridcolor": "white",
           "linecolor": "white",
           "ticks": "",
           "title": {
            "standoff": 15
           },
           "zerolinecolor": "white",
           "zerolinewidth": 2
          },
          "yaxis": {
           "automargin": true,
           "gridcolor": "white",
           "linecolor": "white",
           "ticks": "",
           "title": {
            "standoff": 15
           },
           "zerolinecolor": "white",
           "zerolinewidth": 2
          }
         }
        },
        "xaxis": {
         "anchor": "y",
         "domain": [
          0,
          1
         ],
         "title": {
          "text": "x"
         }
        },
        "yaxis": {
         "anchor": "x",
         "domain": [
          0,
          1
         ],
         "title": {
          "text": "y"
         }
        }
       }
      },
      "text/html": [
       "<div>                            <div id=\"754d95b9-956c-44dc-a2a1-e7cbeb93d82d\" class=\"plotly-graph-div\" style=\"height:525px; width:100%;\"></div>            <script type=\"text/javascript\">                require([\"plotly\"], function(Plotly) {                    window.PLOTLYENV=window.PLOTLYENV || {};                                    if (document.getElementById(\"754d95b9-956c-44dc-a2a1-e7cbeb93d82d\")) {                    Plotly.newPlot(                        \"754d95b9-956c-44dc-a2a1-e7cbeb93d82d\",                        [{\"hovertemplate\":\"color=0<br>x=%{x}<br>y=%{y}<extra></extra>\",\"legendgroup\":\"0\",\"marker\":{\"color\":\"#636efa\",\"symbol\":\"circle\"},\"mode\":\"markers\",\"name\":\"0\",\"orientation\":\"v\",\"showlegend\":true,\"x\":[0.7183493500977276,-0.9815591569910653,-0.9979453927503363,0.22252093395631445,0.9490557470106686,-1.0,0.9672948630390295,-0.7183493500977275,-0.032051577571654985,0.8713187041233894,0.09602302590768189,-0.09602302590768154,-0.9269167573460216,0.5183925683105252,-0.6234898018587335,0.8380881048918407,0.03205157757165533,0.9815591569910653,0.7614459583691344,0.15959989503337932,-0.4625382902408351,0.9009688679024191,-0.8380881048918404,-0.6723008902613166,0.28452758663103267,-0.28452758663103234,0.6723008902613169,0.9269167573460217,-0.7614459583691342,-0.5721166601221694,0.9917900138232462,-0.40478334312239367,1.0,-0.518392568310525,-0.9672948630390293,0.9979453927503363,-0.15959989503337896,0.404783343122394,-0.3453650544213075,0.3453650544213078,-0.8713187041233892,-0.900968867902419,0.5721166601221697,0.4625382902408354,0.6234898018587336,-0.22252093395631434,-0.9490557470106686,0.8014136218679567,-0.991790013823246,-0.8014136218679565],\"xaxis\":\"x\",\"y\":[0.6956825506034864,0.19115862870137254,0.06407021998071323,0.9749279121818236,0.31510821802362066,1.2246467991473532e-16,0.25365458390950735,0.6956825506034865,0.9994862162006879,0.49071755200393785,0.9953791129491982,0.9953791129491982,0.3752670048793745,0.8551427630053461,0.7818314824680299,0.5455349012105486,0.9994862162006879,0.1911586287013723,0.6482283953077884,0.9871817834144501,0.8865993063730001,0.4338837391175581,0.545534901210549,0.7402779970753157,0.9586678530366606,0.9586678530366607,0.7402779970753155,0.3752670048793741,0.6482283953077888,0.8201722545969561,0.127877161684506,0.9144126230158125,0.0,0.8551427630053462,0.2536545839095078,0.06407021998071291,0.9871817834144502,0.9144126230158124,0.9384684220497604,0.9384684220497603,0.49071755200393813,0.43388373911755823,0.8201722545969559,0.886599306373,0.7818314824680298,0.9749279121818236,0.3151082180236209,0.5981105304912159,0.1278771616845065,0.5981105304912161],\"yaxis\":\"y\",\"type\":\"scatter\"},{\"hovertemplate\":\"color=1<br>x=%{x}<br>y=%{y}<extra></extra>\",\"legendgroup\":\"1\",\"marker\":{\"color\":\"#EF553B\",\"symbol\":\"circle\"},\"mode\":\"markers\",\"name\":\"1\",\"orientation\":\"v\",\"showlegend\":true,\"x\":[0.9679484224283447,1.5721166601221694,1.9979453927503363,1.7614459583691342,0.01844084300893467,1.6234898018587334,1.8380881048918405,0.1286812958766106,1.991790013823246,0.5374617097591645,0.09903113209758085,0.3765101981412664,0.595216656877606,0.0,1.6723008902613166,1.7183493500977276,0.7154724133689674,1.0960230259076815,0.48160743168947484,0.3276991097386831,0.008209986176753836,1.2845275866310324,0.6546349455786922,1.2225209339563143,1.032051577571655,0.07308324265397825,0.1619118951081593,1.518392568310525,1.9815591569910653,0.2816506499022724,0.7774790660436856,0.9039769740923181,1.9269167573460217,1.9672948630390295,1.8014136218679564,0.42788333987783034,0.03270513696097055,1.462538290240835,0.23855404163086558,1.9490557470106686,1.8713187041233892,0.8404001049666207,0.05094425298933136,1.3453650544213076,1.4047833431223937,0.19858637813204327,0.0020546072496636647,1.900968867902419,2.0,1.159599895033379],\"xaxis\":\"x\",\"y\":[-0.4994862162006879,-0.3201722545969561,0.43592978001928673,-0.14822839530778875,0.30884137129862776,-0.2818314824680299,-0.04553490121054904,0.009282447996062149,0.37212283831549353,-0.386599306373,0.06611626088244194,-0.2818314824680298,-0.4144126230158124,0.5,-0.24027799707531572,-0.1956825506034865,-0.4586678530366606,-0.49537911294919823,-0.3551427630053461,-0.2402779970753155,0.372122838315494,-0.4586678530366607,-0.43846842204976033,-0.4749279121818236,-0.4994862162006879,0.12473299512062597,-0.045534901210548595,-0.3551427630053462,0.30884137129862743,-0.19568255060348638,-0.4749279121818236,-0.49537911294919823,0.12473299512062552,0.2463454160904922,-0.0981105304912161,-0.32017225459695586,0.24634541609049265,-0.3865993063730001,-0.14822839530778842,0.18489178197637912,0.009282447996061816,-0.48718178341445006,0.18489178197637934,-0.43846842204976044,-0.4144126230158125,-0.09811053049121587,0.43592978001928706,0.06611626088244171,0.4999999999999999,-0.4871817834144502],\"yaxis\":\"y\",\"type\":\"scatter\"}],                        {\"template\":{\"data\":{\"histogram2dcontour\":[{\"type\":\"histogram2dcontour\",\"colorbar\":{\"outlinewidth\":0,\"ticks\":\"\"},\"colorscale\":[[0.0,\"#0d0887\"],[0.1111111111111111,\"#46039f\"],[0.2222222222222222,\"#7201a8\"],[0.3333333333333333,\"#9c179e\"],[0.4444444444444444,\"#bd3786\"],[0.5555555555555556,\"#d8576b\"],[0.6666666666666666,\"#ed7953\"],[0.7777777777777778,\"#fb9f3a\"],[0.8888888888888888,\"#fdca26\"],[1.0,\"#f0f921\"]]}],\"choropleth\":[{\"type\":\"choropleth\",\"colorbar\":{\"outlinewidth\":0,\"ticks\":\"\"}}],\"histogram2d\":[{\"type\":\"histogram2d\",\"colorbar\":{\"outlinewidth\":0,\"ticks\":\"\"},\"colorscale\":[[0.0,\"#0d0887\"],[0.1111111111111111,\"#46039f\"],[0.2222222222222222,\"#7201a8\"],[0.3333333333333333,\"#9c179e\"],[0.4444444444444444,\"#bd3786\"],[0.5555555555555556,\"#d8576b\"],[0.6666666666666666,\"#ed7953\"],[0.7777777777777778,\"#fb9f3a\"],[0.8888888888888888,\"#fdca26\"],[1.0,\"#f0f921\"]]}],\"heatmap\":[{\"type\":\"heatmap\",\"colorbar\":{\"outlinewidth\":0,\"ticks\":\"\"},\"colorscale\":[[0.0,\"#0d0887\"],[0.1111111111111111,\"#46039f\"],[0.2222222222222222,\"#7201a8\"],[0.3333333333333333,\"#9c179e\"],[0.4444444444444444,\"#bd3786\"],[0.5555555555555556,\"#d8576b\"],[0.6666666666666666,\"#ed7953\"],[0.7777777777777778,\"#fb9f3a\"],[0.8888888888888888,\"#fdca26\"],[1.0,\"#f0f921\"]]}],\"heatmapgl\":[{\"type\":\"heatmapgl\",\"colorbar\":{\"outlinewidth\":0,\"ticks\":\"\"},\"colorscale\":[[0.0,\"#0d0887\"],[0.1111111111111111,\"#46039f\"],[0.2222222222222222,\"#7201a8\"],[0.3333333333333333,\"#9c179e\"],[0.4444444444444444,\"#bd3786\"],[0.5555555555555556,\"#d8576b\"],[0.6666666666666666,\"#ed7953\"],[0.7777777777777778,\"#fb9f3a\"],[0.8888888888888888,\"#fdca26\"],[1.0,\"#f0f921\"]]}],\"contourcarpet\":[{\"type\":\"contourcarpet\",\"colorbar\":{\"outlinewidth\":0,\"ticks\":\"\"}}],\"contour\":[{\"type\":\"contour\",\"colorbar\":{\"outlinewidth\":0,\"ticks\":\"\"},\"colorscale\":[[0.0,\"#0d0887\"],[0.1111111111111111,\"#46039f\"],[0.2222222222222222,\"#7201a8\"],[0.3333333333333333,\"#9c179e\"],[0.4444444444444444,\"#bd3786\"],[0.5555555555555556,\"#d8576b\"],[0.6666666666666666,\"#ed7953\"],[0.7777777777777778,\"#fb9f3a\"],[0.8888888888888888,\"#fdca26\"],[1.0,\"#f0f921\"]]}],\"surface\":[{\"type\":\"surface\",\"colorbar\":{\"outlinewidth\":0,\"ticks\":\"\"},\"colorscale\":[[0.0,\"#0d0887\"],[0.1111111111111111,\"#46039f\"],[0.2222222222222222,\"#7201a8\"],[0.3333333333333333,\"#9c179e\"],[0.4444444444444444,\"#bd3786\"],[0.5555555555555556,\"#d8576b\"],[0.6666666666666666,\"#ed7953\"],[0.7777777777777778,\"#fb9f3a\"],[0.8888888888888888,\"#fdca26\"],[1.0,\"#f0f921\"]]}],\"mesh3d\":[{\"type\":\"mesh3d\",\"colorbar\":{\"outlinewidth\":0,\"ticks\":\"\"}}],\"scatter\":[{\"fillpattern\":{\"fillmode\":\"overlay\",\"size\":10,\"solidity\":0.2},\"type\":\"scatter\"}],\"parcoords\":[{\"type\":\"parcoords\",\"line\":{\"colorbar\":{\"outlinewidth\":0,\"ticks\":\"\"}}}],\"scatterpolargl\":[{\"type\":\"scatterpolargl\",\"marker\":{\"colorbar\":{\"outlinewidth\":0,\"ticks\":\"\"}}}],\"bar\":[{\"error_x\":{\"color\":\"#2a3f5f\"},\"error_y\":{\"color\":\"#2a3f5f\"},\"marker\":{\"line\":{\"color\":\"#E5ECF6\",\"width\":0.5},\"pattern\":{\"fillmode\":\"overlay\",\"size\":10,\"solidity\":0.2}},\"type\":\"bar\"}],\"scattergeo\":[{\"type\":\"scattergeo\",\"marker\":{\"colorbar\":{\"outlinewidth\":0,\"ticks\":\"\"}}}],\"scatterpolar\":[{\"type\":\"scatterpolar\",\"marker\":{\"colorbar\":{\"outlinewidth\":0,\"ticks\":\"\"}}}],\"histogram\":[{\"marker\":{\"pattern\":{\"fillmode\":\"overlay\",\"size\":10,\"solidity\":0.2}},\"type\":\"histogram\"}],\"scattergl\":[{\"type\":\"scattergl\",\"marker\":{\"colorbar\":{\"outlinewidth\":0,\"ticks\":\"\"}}}],\"scatter3d\":[{\"type\":\"scatter3d\",\"line\":{\"colorbar\":{\"outlinewidth\":0,\"ticks\":\"\"}},\"marker\":{\"colorbar\":{\"outlinewidth\":0,\"ticks\":\"\"}}}],\"scattermapbox\":[{\"type\":\"scattermapbox\",\"marker\":{\"colorbar\":{\"outlinewidth\":0,\"ticks\":\"\"}}}],\"scatterternary\":[{\"type\":\"scatterternary\",\"marker\":{\"colorbar\":{\"outlinewidth\":0,\"ticks\":\"\"}}}],\"scattercarpet\":[{\"type\":\"scattercarpet\",\"marker\":{\"colorbar\":{\"outlinewidth\":0,\"ticks\":\"\"}}}],\"carpet\":[{\"aaxis\":{\"endlinecolor\":\"#2a3f5f\",\"gridcolor\":\"white\",\"linecolor\":\"white\",\"minorgridcolor\":\"white\",\"startlinecolor\":\"#2a3f5f\"},\"baxis\":{\"endlinecolor\":\"#2a3f5f\",\"gridcolor\":\"white\",\"linecolor\":\"white\",\"minorgridcolor\":\"white\",\"startlinecolor\":\"#2a3f5f\"},\"type\":\"carpet\"}],\"table\":[{\"cells\":{\"fill\":{\"color\":\"#EBF0F8\"},\"line\":{\"color\":\"white\"}},\"header\":{\"fill\":{\"color\":\"#C8D4E3\"},\"line\":{\"color\":\"white\"}},\"type\":\"table\"}],\"barpolar\":[{\"marker\":{\"line\":{\"color\":\"#E5ECF6\",\"width\":0.5},\"pattern\":{\"fillmode\":\"overlay\",\"size\":10,\"solidity\":0.2}},\"type\":\"barpolar\"}],\"pie\":[{\"automargin\":true,\"type\":\"pie\"}]},\"layout\":{\"autotypenumbers\":\"strict\",\"colorway\":[\"#636efa\",\"#EF553B\",\"#00cc96\",\"#ab63fa\",\"#FFA15A\",\"#19d3f3\",\"#FF6692\",\"#B6E880\",\"#FF97FF\",\"#FECB52\"],\"font\":{\"color\":\"#2a3f5f\"},\"hovermode\":\"closest\",\"hoverlabel\":{\"align\":\"left\"},\"paper_bgcolor\":\"white\",\"plot_bgcolor\":\"#E5ECF6\",\"polar\":{\"bgcolor\":\"#E5ECF6\",\"angularaxis\":{\"gridcolor\":\"white\",\"linecolor\":\"white\",\"ticks\":\"\"},\"radialaxis\":{\"gridcolor\":\"white\",\"linecolor\":\"white\",\"ticks\":\"\"}},\"ternary\":{\"bgcolor\":\"#E5ECF6\",\"aaxis\":{\"gridcolor\":\"white\",\"linecolor\":\"white\",\"ticks\":\"\"},\"baxis\":{\"gridcolor\":\"white\",\"linecolor\":\"white\",\"ticks\":\"\"},\"caxis\":{\"gridcolor\":\"white\",\"linecolor\":\"white\",\"ticks\":\"\"}},\"coloraxis\":{\"colorbar\":{\"outlinewidth\":0,\"ticks\":\"\"}},\"colorscale\":{\"sequential\":[[0.0,\"#0d0887\"],[0.1111111111111111,\"#46039f\"],[0.2222222222222222,\"#7201a8\"],[0.3333333333333333,\"#9c179e\"],[0.4444444444444444,\"#bd3786\"],[0.5555555555555556,\"#d8576b\"],[0.6666666666666666,\"#ed7953\"],[0.7777777777777778,\"#fb9f3a\"],[0.8888888888888888,\"#fdca26\"],[1.0,\"#f0f921\"]],\"sequentialminus\":[[0.0,\"#0d0887\"],[0.1111111111111111,\"#46039f\"],[0.2222222222222222,\"#7201a8\"],[0.3333333333333333,\"#9c179e\"],[0.4444444444444444,\"#bd3786\"],[0.5555555555555556,\"#d8576b\"],[0.6666666666666666,\"#ed7953\"],[0.7777777777777778,\"#fb9f3a\"],[0.8888888888888888,\"#fdca26\"],[1.0,\"#f0f921\"]],\"diverging\":[[0,\"#8e0152\"],[0.1,\"#c51b7d\"],[0.2,\"#de77ae\"],[0.3,\"#f1b6da\"],[0.4,\"#fde0ef\"],[0.5,\"#f7f7f7\"],[0.6,\"#e6f5d0\"],[0.7,\"#b8e186\"],[0.8,\"#7fbc41\"],[0.9,\"#4d9221\"],[1,\"#276419\"]]},\"xaxis\":{\"gridcolor\":\"white\",\"linecolor\":\"white\",\"ticks\":\"\",\"title\":{\"standoff\":15},\"zerolinecolor\":\"white\",\"automargin\":true,\"zerolinewidth\":2},\"yaxis\":{\"gridcolor\":\"white\",\"linecolor\":\"white\",\"ticks\":\"\",\"title\":{\"standoff\":15},\"zerolinecolor\":\"white\",\"automargin\":true,\"zerolinewidth\":2},\"scene\":{\"xaxis\":{\"backgroundcolor\":\"#E5ECF6\",\"gridcolor\":\"white\",\"linecolor\":\"white\",\"showbackground\":true,\"ticks\":\"\",\"zerolinecolor\":\"white\",\"gridwidth\":2},\"yaxis\":{\"backgroundcolor\":\"#E5ECF6\",\"gridcolor\":\"white\",\"linecolor\":\"white\",\"showbackground\":true,\"ticks\":\"\",\"zerolinecolor\":\"white\",\"gridwidth\":2},\"zaxis\":{\"backgroundcolor\":\"#E5ECF6\",\"gridcolor\":\"white\",\"linecolor\":\"white\",\"showbackground\":true,\"ticks\":\"\",\"zerolinecolor\":\"white\",\"gridwidth\":2}},\"shapedefaults\":{\"line\":{\"color\":\"#2a3f5f\"}},\"annotationdefaults\":{\"arrowcolor\":\"#2a3f5f\",\"arrowhead\":0,\"arrowwidth\":1},\"geo\":{\"bgcolor\":\"white\",\"landcolor\":\"#E5ECF6\",\"subunitcolor\":\"white\",\"showland\":true,\"showlakes\":true,\"lakecolor\":\"white\"},\"title\":{\"x\":0.05},\"mapbox\":{\"style\":\"light\"}}},\"xaxis\":{\"anchor\":\"y\",\"domain\":[0.0,1.0],\"title\":{\"text\":\"x\"}},\"yaxis\":{\"anchor\":\"x\",\"domain\":[0.0,1.0],\"title\":{\"text\":\"y\"}},\"legend\":{\"title\":{\"text\":\"color\"},\"tracegroupgap\":0},\"margin\":{\"t\":60}},                        {\"responsive\": true}                    ).then(function(){\n",
       "                            \n",
       "var gd = document.getElementById('754d95b9-956c-44dc-a2a1-e7cbeb93d82d');\n",
       "var x = new MutationObserver(function (mutations, observer) {{\n",
       "        var display = window.getComputedStyle(gd).display;\n",
       "        if (!display || display === 'none') {{\n",
       "            console.log([gd, 'removed!']);\n",
       "            Plotly.purge(gd);\n",
       "            observer.disconnect();\n",
       "        }}\n",
       "}});\n",
       "\n",
       "// Listen for the removal of the full notebook cells\n",
       "var notebookContainer = gd.closest('#notebook-container');\n",
       "if (notebookContainer) {{\n",
       "    x.observe(notebookContainer, {childList: true});\n",
       "}}\n",
       "\n",
       "// Listen for the clearing of the current output cell\n",
       "var outputEl = gd.closest('.output');\n",
       "if (outputEl) {{\n",
       "    x.observe(outputEl, {childList: true});\n",
       "}}\n",
       "\n",
       "                        })                };                });            </script>        </div>"
      ]
     },
     "metadata": {},
     "output_type": "display_data"
    }
   ],
   "source": [
    "from sklearn.cluster import DBSCAN\n",
    "\n",
    "dbscan = DBSCAN().fit(X)\n",
    "labels = [str(i) for i in dbscan.labels_]\n",
    "fig = px.scatter(x=X[:, 0], y=X[:, 1], color=labels);\n",
    "fig.show()"
   ]
  },
  {
   "cell_type": "markdown",
   "metadata": {
    "id": "MQEfHd0DPFtz"
   },
   "source": [
    "This is great, DBSCAN has correctly identified the two natural clusters in the data.\n",
    "\n",
    "Note that we also didn't tell it how many clusters to find, DBSCAN automatically detects the number of clusters. This is controlled by some hyperparameters, specifically, eps (the neighbourhood size) and min_samples (the minimum number of samples required within a neighbourhood for a point to be a 'core point').\n",
    "\n",
    "Let's see how these hyperparameters can alter the performance of DBSCAN on another dataset.\n",
    "\n",
    "We will regenerate the same dataset as we used at the start of this worksheet."
   ]
  },
  {
   "cell_type": "markdown",
   "metadata": {},
   "source": [
    "# Blobs dataset"
   ]
  },
  {
   "cell_type": "code",
   "execution_count": 100,
   "metadata": {
    "colab": {
     "base_uri": "https://localhost:8080/",
     "height": 265
    },
    "id": "9Wn_uZIe2RuS",
    "outputId": "acdbdd99-5726-4ab9-a543-5eeb024eb0ca"
   },
   "outputs": [
    {
     "data": {
      "application/vnd.plotly.v1+json": {
       "config": {
        "plotlyServerURL": "https://plot.ly"
       },
       "data": [
        {
         "hovertemplate": "x=%{x}<br>y=%{y}<extra></extra>",
         "legendgroup": "",
         "marker": {
          "color": "#636efa",
          "size": 12,
          "symbol": "circle"
         },
         "mode": "markers",
         "name": "",
         "orientation": "v",
         "showlegend": false,
         "type": "scatter",
         "x": [
          1.7427119845537635,
          -2.1620637852478226,
          0.8019730107129165,
          -1.1247234137703774,
          2.2246590104529114,
          0.8197096113497264,
          -1.8137506747204084,
          0.24268082241177502,
          -0.5102149854110218,
          2.0109638854414333,
          1.4890003865909804,
          2.562253686380806,
          8.258251306789601,
          -1.8929179298637968,
          0.6736628770473171,
          1.5038215379593023,
          -2.2202626697219867,
          -1.3014295950540067,
          -1.1843768512517994,
          2.215632400161359,
          -1.755327388686685,
          -1.9519048283851181,
          1.6486056614674178,
          -1.4214516888777242,
          8.96545030603884,
          2.895669053624834,
          -1.3094331400513946,
          -0.21149326078837638,
          9.187461137908956,
          -1.5596782062491263,
          2.1123779631495068,
          -1.8165322944967062,
          0.5044212442663034,
          0.6908251363900615,
          -1.4564760711374864,
          1.5067208855683378,
          9.887294541666698,
          -1.5747745950547631,
          1.8594484231581412,
          1.0459964201101073,
          -1.400937943652448,
          1.1760085332819366,
          0.7464077666405022,
          2.024558799036794,
          9.290638958348671,
          9.266198259799436,
          9.533589883998582,
          2.920591433349051,
          2.130270594350516,
          -1.0125048140207578,
          0.5844113614146482,
          1.9346660045047568,
          -1.1194011147446243,
          2.9026853351081923,
          9.587560927118888,
          8.829775378062719,
          -2.0238765159647083,
          -1.3881545520104626,
          9.754084439712791,
          1.4835492721142978,
          9.003860938405243,
          9.074840025488921,
          -1.6862012732859732,
          0.746926596758251,
          -1.9923132920249145,
          9.295527951763127,
          0.6103542516264907,
          2.3147333889096013,
          1.8311529186213407,
          10.014915929513988,
          9.60948996041267,
          1.3842016047153556,
          9.528535835054289,
          0.4944313988667509,
          0.20844849276523936,
          9.562746719298904,
          -0.5534478360455949,
          -1.7355222018126477,
          -1.238844826477989,
          1.6677159631582619,
          -1.2672329278269108,
          -1.0686849192080916,
          2.148991261567465,
          1.7088052879324855,
          -1.8361928580270428,
          -1.8486720868773894,
          0.573310126009341,
          1.1171505442894007,
          8.477412907215923,
          8.979723090049827,
          -1.516597092048879,
          9.152775118418301,
          -0.9370633367645662,
          -1.5720777495944571,
          0.5679858145740361,
          1.318737054862642,
          1.4631091867026935,
          -1.7956962442563187,
          8.929390444262687,
          0.9968614113321458,
          0.2500160471454168,
          -1.173056430272866,
          8.509107591276072,
          2.4815309069310647,
          1.6444975199830065,
          9.05741009371701,
          8.443873912450094,
          -1.5653708988814554,
          0.4519526501939847,
          -1.1413302378656944,
          2.331603238088614,
          0.8360714390891774,
          8.076627702922053,
          -1.960578053546937,
          -1.5345631994595537,
          1.6051706151075738,
          -1.245549860259671,
          0.5767664921129443,
          -1.33508758437176,
          -1.7711916774294283,
          9.114210923079847,
          1.056111842560684,
          9.621219049851756,
          -1.0083548090695014,
          1.3043608315263866,
          -1.5378507692014265,
          0.9635880757941003,
          -1.783242440748963,
          1.9976596593409186,
          -2.1677314222640445,
          -1.5445812814242783,
          1.0062028286189206,
          -0.9378376007054954,
          1.72012785151108,
          -1.5418396368203093,
          9.933215632028967,
          1.666020725007801,
          -1.6659598492931105,
          9.39945397741292,
          9.109143115044327,
          2.189474699825603,
          9.639789130140127,
          -1.7318936398047098,
          -2.047186107541766,
          -1.428007837914444,
          3.1276826701216516,
          1.7518178241370588,
          -0.3680952360333378,
          1.5389066278478818,
          1.0410896855688903,
          -1.112517542520537,
          -1.297999070500763,
          8.96372828505768,
          8.483104447473613,
          9.180148555746799,
          -0.17257533857884044,
          -2.1195816873770785,
          -1.888438362100134,
          1.185818176425202,
          9.692586978372024,
          -0.9483833878317888,
          -1.308421476596948,
          -2.108689622597457,
          -1.7690656413820345,
          2.2334705421306182,
          -1.179598265175755,
          -1.5308951765848606,
          -1.71861978951228,
          9.618253641760875,
          1.1573238170763922,
          -1.0320571950727044,
          -1.693035840296005,
          -0.8543859682007894,
          2.357800162088474,
          1.645983565754515,
          -1.2042795392744652,
          9.189981058066383,
          -1.3192059320198675,
          -1.2759876556891916,
          1.873837895294947,
          1.8691389800909917,
          -1.117323504580239,
          1.3652663680332726,
          -1.9570792634436551,
          -1.2914295159826161,
          1.5299008848739692,
          -1.8597073615979964,
          0.4125121665240282,
          -1.0137765803424088,
          -0.9360578560355906,
          9.141928396784047,
          1.527361989131506,
          2.4825068845494704,
          1.7691367861623815,
          2.589880927991414,
          2.0599925307572473,
          9.659320975952138,
          9.651989278853723,
          -1.5867002731360353,
          -1.0260719749390155
         ],
         "xaxis": "x",
         "y": [
          0.830328116790485,
          8.764481803253288,
          4.167751089689489,
          7.434548228293607,
          0.4029333041750493,
          4.374144363545181,
          2.739109944885164,
          4.5120393424349885,
          2.8988665430858336,
          0.5990984310749885,
          3.7481157082892462,
          0.41169448117439633,
          -2.791297703120467,
          2.2579913138219916,
          4.141988404755146,
          1.277626999318633,
          2.946350158723272,
          7.529379823843011,
          7.691762227926302,
          1.2156215856243135,
          7.506655026852423,
          2.733359899391976,
          4.21146610875378,
          7.877918230834277,
          -1.584371765199003,
          1.3053837561618602,
          8.347061128812808,
          7.358452895416898,
          -2.508851904799498,
          8.526829690052203,
          1.0785588734880527,
          1.9173508428321309,
          3.664779255717851,
          4.1405538027541775,
          3.022363727623247,
          4.222821151332832,
          -2.6414217565319174,
          7.212946235713819,
          1.7298323377536406,
          4.473960461269368,
          2.873714585993792,
          4.45394077476681,
          3.7725028445933044,
          1.668667884680152,
          -3.0766914195293245,
          -2.258751947750245,
          -2.173825117837517,
          1.563895316083428,
          1.1834278065393846,
          7.875249954811692,
          4.043304978304403,
          1.2587690380463146,
          8.109439741155548,
          0.29117208242383597,
          -2.3294727233956243,
          -2.9934953768430597,
          2.941356547000561,
          7.879290090462547,
          -2.53519323521757,
          1.3338921786090419,
          -2.833323267166623,
          -2.4573295963174746,
          2.299154179295014,
          4.106653891723356,
          3.224599794559855,
          -2.1089430741580153,
          3.5269601563991353,
          0.8039292199278392,
          1.7659530841555804,
          -2.2572671335151453,
          -2.866194853326127,
          1.0953899255069786,
          -2.431373418716265,
          4.778290604567402,
          5.181636255302696,
          -3.037950157369499,
          3.519319838579499,
          3.1345489245311806,
          2.190252041393247,
          1.7571928888325021,
          7.706360779066135,
          6.587793275249601,
          1.3371512263556076,
          1.1403257960192545,
          8.581618821469778,
          7.2294371380326945,
          4.477893451485058,
          3.9194442447626137,
          -2.1712028167497492,
          -2.5657048140199454,
          7.811804732320298,
          -2.8387747226459483,
          8.148097130286796,
          7.469613170792259,
          4.327162755556652,
          4.358541084870163,
          0.6899505877713178,
          2.8108174829519195,
          -2.978175786695156,
          4.219554594936765,
          4.208054201352104,
          2.7079936678019485,
          -2.156893409556667,
          0.8279091180470615,
          1.4003209895810707,
          -2.0520083892298646,
          -2.5462579253026645,
          8.259927341877868,
          4.709159246577774,
          2.6249207443480564,
          1.312656662142874,
          4.329061731451776,
          -2.058325837522724,
          8.110130736239837,
          3.0885005423329095,
          0.20251666638801158,
          2.1969563163100863,
          3.412428916747623,
          3.222490877096733,
          3.1051047821507645,
          -3.0585830083774104,
          4.122985906154672,
          -2.8639159115714383,
          3.4037106277496925,
          4.361829637289225,
          2.585768352190563,
          4.496536669187078,
          7.6073926562071845,
          3.649322773878946,
          2.6958883138201353,
          2.392240187349584,
          4.439899681431291,
          8.421290818945844,
          0.5257663175413804,
          7.659530996807174,
          -1.947521250726891,
          4.964998773903519,
          2.163680548484633,
          -2.778075248402757,
          -2.2606528886118817,
          1.4945373134471005,
          -2.3046531083527118,
          2.9257478828943984,
          3.26942140710262,
          8.001985165172977,
          1.322679429083623,
          0.9119874111613949,
          8.011002010851161,
          0.7006446398029416,
          4.958210405581728,
          3.0613097051574822,
          8.294537735913703,
          -2.8775044548768,
          -2.1282491156717835,
          -1.9350891130480934,
          4.597915695396552,
          7.920410384198817,
          2.6075848613455324,
          3.6124776686236393,
          -2.1781853807738774,
          7.628136111316745,
          8.320444728330912,
          3.038055152540255,
          7.694928502635032,
          0.4057859810092092,
          3.288459130616802,
          7.618997812334239,
          8.38047539599881,
          -2.1708378556219152,
          3.995622786525249,
          3.212750940158292,
          2.8101616314239557,
          1.986389000077033,
          1.0810214862464365,
          5.156937456662153,
          8.097789171530577,
          -2.6946114429118055,
          8.850985589425788,
          7.7871726413105655,
          1.4477639416100292,
          0.5613089947895958,
          3.0606304581692085,
          3.9698130682654913,
          2.762190462268399,
          2.840686412283111,
          4.844858259401375,
          3.612238829266154,
          4.65365798757275,
          7.576355429225714,
          7.763651968475774,
          -2.673841118799676,
          1.7722931934801185,
          0.9370617185612727,
          1.2020586426638618,
          1.0402878353041192,
          1.7013053821955628,
          -1.8176737834885373,
          -2.4434259845568724,
          2.783876365602345,
          7.783213243076129
         ],
         "yaxis": "y"
        }
       ],
       "layout": {
        "legend": {
         "tracegroupgap": 0
        },
        "margin": {
         "t": 60
        },
        "template": {
         "data": {
          "bar": [
           {
            "error_x": {
             "color": "#2a3f5f"
            },
            "error_y": {
             "color": "#2a3f5f"
            },
            "marker": {
             "line": {
              "color": "#E5ECF6",
              "width": 0.5
             },
             "pattern": {
              "fillmode": "overlay",
              "size": 10,
              "solidity": 0.2
             }
            },
            "type": "bar"
           }
          ],
          "barpolar": [
           {
            "marker": {
             "line": {
              "color": "#E5ECF6",
              "width": 0.5
             },
             "pattern": {
              "fillmode": "overlay",
              "size": 10,
              "solidity": 0.2
             }
            },
            "type": "barpolar"
           }
          ],
          "carpet": [
           {
            "aaxis": {
             "endlinecolor": "#2a3f5f",
             "gridcolor": "white",
             "linecolor": "white",
             "minorgridcolor": "white",
             "startlinecolor": "#2a3f5f"
            },
            "baxis": {
             "endlinecolor": "#2a3f5f",
             "gridcolor": "white",
             "linecolor": "white",
             "minorgridcolor": "white",
             "startlinecolor": "#2a3f5f"
            },
            "type": "carpet"
           }
          ],
          "choropleth": [
           {
            "colorbar": {
             "outlinewidth": 0,
             "ticks": ""
            },
            "type": "choropleth"
           }
          ],
          "contour": [
           {
            "colorbar": {
             "outlinewidth": 0,
             "ticks": ""
            },
            "colorscale": [
             [
              0,
              "#0d0887"
             ],
             [
              0.1111111111111111,
              "#46039f"
             ],
             [
              0.2222222222222222,
              "#7201a8"
             ],
             [
              0.3333333333333333,
              "#9c179e"
             ],
             [
              0.4444444444444444,
              "#bd3786"
             ],
             [
              0.5555555555555556,
              "#d8576b"
             ],
             [
              0.6666666666666666,
              "#ed7953"
             ],
             [
              0.7777777777777778,
              "#fb9f3a"
             ],
             [
              0.8888888888888888,
              "#fdca26"
             ],
             [
              1,
              "#f0f921"
             ]
            ],
            "type": "contour"
           }
          ],
          "contourcarpet": [
           {
            "colorbar": {
             "outlinewidth": 0,
             "ticks": ""
            },
            "type": "contourcarpet"
           }
          ],
          "heatmap": [
           {
            "colorbar": {
             "outlinewidth": 0,
             "ticks": ""
            },
            "colorscale": [
             [
              0,
              "#0d0887"
             ],
             [
              0.1111111111111111,
              "#46039f"
             ],
             [
              0.2222222222222222,
              "#7201a8"
             ],
             [
              0.3333333333333333,
              "#9c179e"
             ],
             [
              0.4444444444444444,
              "#bd3786"
             ],
             [
              0.5555555555555556,
              "#d8576b"
             ],
             [
              0.6666666666666666,
              "#ed7953"
             ],
             [
              0.7777777777777778,
              "#fb9f3a"
             ],
             [
              0.8888888888888888,
              "#fdca26"
             ],
             [
              1,
              "#f0f921"
             ]
            ],
            "type": "heatmap"
           }
          ],
          "heatmapgl": [
           {
            "colorbar": {
             "outlinewidth": 0,
             "ticks": ""
            },
            "colorscale": [
             [
              0,
              "#0d0887"
             ],
             [
              0.1111111111111111,
              "#46039f"
             ],
             [
              0.2222222222222222,
              "#7201a8"
             ],
             [
              0.3333333333333333,
              "#9c179e"
             ],
             [
              0.4444444444444444,
              "#bd3786"
             ],
             [
              0.5555555555555556,
              "#d8576b"
             ],
             [
              0.6666666666666666,
              "#ed7953"
             ],
             [
              0.7777777777777778,
              "#fb9f3a"
             ],
             [
              0.8888888888888888,
              "#fdca26"
             ],
             [
              1,
              "#f0f921"
             ]
            ],
            "type": "heatmapgl"
           }
          ],
          "histogram": [
           {
            "marker": {
             "pattern": {
              "fillmode": "overlay",
              "size": 10,
              "solidity": 0.2
             }
            },
            "type": "histogram"
           }
          ],
          "histogram2d": [
           {
            "colorbar": {
             "outlinewidth": 0,
             "ticks": ""
            },
            "colorscale": [
             [
              0,
              "#0d0887"
             ],
             [
              0.1111111111111111,
              "#46039f"
             ],
             [
              0.2222222222222222,
              "#7201a8"
             ],
             [
              0.3333333333333333,
              "#9c179e"
             ],
             [
              0.4444444444444444,
              "#bd3786"
             ],
             [
              0.5555555555555556,
              "#d8576b"
             ],
             [
              0.6666666666666666,
              "#ed7953"
             ],
             [
              0.7777777777777778,
              "#fb9f3a"
             ],
             [
              0.8888888888888888,
              "#fdca26"
             ],
             [
              1,
              "#f0f921"
             ]
            ],
            "type": "histogram2d"
           }
          ],
          "histogram2dcontour": [
           {
            "colorbar": {
             "outlinewidth": 0,
             "ticks": ""
            },
            "colorscale": [
             [
              0,
              "#0d0887"
             ],
             [
              0.1111111111111111,
              "#46039f"
             ],
             [
              0.2222222222222222,
              "#7201a8"
             ],
             [
              0.3333333333333333,
              "#9c179e"
             ],
             [
              0.4444444444444444,
              "#bd3786"
             ],
             [
              0.5555555555555556,
              "#d8576b"
             ],
             [
              0.6666666666666666,
              "#ed7953"
             ],
             [
              0.7777777777777778,
              "#fb9f3a"
             ],
             [
              0.8888888888888888,
              "#fdca26"
             ],
             [
              1,
              "#f0f921"
             ]
            ],
            "type": "histogram2dcontour"
           }
          ],
          "mesh3d": [
           {
            "colorbar": {
             "outlinewidth": 0,
             "ticks": ""
            },
            "type": "mesh3d"
           }
          ],
          "parcoords": [
           {
            "line": {
             "colorbar": {
              "outlinewidth": 0,
              "ticks": ""
             }
            },
            "type": "parcoords"
           }
          ],
          "pie": [
           {
            "automargin": true,
            "type": "pie"
           }
          ],
          "scatter": [
           {
            "fillpattern": {
             "fillmode": "overlay",
             "size": 10,
             "solidity": 0.2
            },
            "type": "scatter"
           }
          ],
          "scatter3d": [
           {
            "line": {
             "colorbar": {
              "outlinewidth": 0,
              "ticks": ""
             }
            },
            "marker": {
             "colorbar": {
              "outlinewidth": 0,
              "ticks": ""
             }
            },
            "type": "scatter3d"
           }
          ],
          "scattercarpet": [
           {
            "marker": {
             "colorbar": {
              "outlinewidth": 0,
              "ticks": ""
             }
            },
            "type": "scattercarpet"
           }
          ],
          "scattergeo": [
           {
            "marker": {
             "colorbar": {
              "outlinewidth": 0,
              "ticks": ""
             }
            },
            "type": "scattergeo"
           }
          ],
          "scattergl": [
           {
            "marker": {
             "colorbar": {
              "outlinewidth": 0,
              "ticks": ""
             }
            },
            "type": "scattergl"
           }
          ],
          "scattermapbox": [
           {
            "marker": {
             "colorbar": {
              "outlinewidth": 0,
              "ticks": ""
             }
            },
            "type": "scattermapbox"
           }
          ],
          "scatterpolar": [
           {
            "marker": {
             "colorbar": {
              "outlinewidth": 0,
              "ticks": ""
             }
            },
            "type": "scatterpolar"
           }
          ],
          "scatterpolargl": [
           {
            "marker": {
             "colorbar": {
              "outlinewidth": 0,
              "ticks": ""
             }
            },
            "type": "scatterpolargl"
           }
          ],
          "scatterternary": [
           {
            "marker": {
             "colorbar": {
              "outlinewidth": 0,
              "ticks": ""
             }
            },
            "type": "scatterternary"
           }
          ],
          "surface": [
           {
            "colorbar": {
             "outlinewidth": 0,
             "ticks": ""
            },
            "colorscale": [
             [
              0,
              "#0d0887"
             ],
             [
              0.1111111111111111,
              "#46039f"
             ],
             [
              0.2222222222222222,
              "#7201a8"
             ],
             [
              0.3333333333333333,
              "#9c179e"
             ],
             [
              0.4444444444444444,
              "#bd3786"
             ],
             [
              0.5555555555555556,
              "#d8576b"
             ],
             [
              0.6666666666666666,
              "#ed7953"
             ],
             [
              0.7777777777777778,
              "#fb9f3a"
             ],
             [
              0.8888888888888888,
              "#fdca26"
             ],
             [
              1,
              "#f0f921"
             ]
            ],
            "type": "surface"
           }
          ],
          "table": [
           {
            "cells": {
             "fill": {
              "color": "#EBF0F8"
             },
             "line": {
              "color": "white"
             }
            },
            "header": {
             "fill": {
              "color": "#C8D4E3"
             },
             "line": {
              "color": "white"
             }
            },
            "type": "table"
           }
          ]
         },
         "layout": {
          "annotationdefaults": {
           "arrowcolor": "#2a3f5f",
           "arrowhead": 0,
           "arrowwidth": 1
          },
          "autotypenumbers": "strict",
          "coloraxis": {
           "colorbar": {
            "outlinewidth": 0,
            "ticks": ""
           }
          },
          "colorscale": {
           "diverging": [
            [
             0,
             "#8e0152"
            ],
            [
             0.1,
             "#c51b7d"
            ],
            [
             0.2,
             "#de77ae"
            ],
            [
             0.3,
             "#f1b6da"
            ],
            [
             0.4,
             "#fde0ef"
            ],
            [
             0.5,
             "#f7f7f7"
            ],
            [
             0.6,
             "#e6f5d0"
            ],
            [
             0.7,
             "#b8e186"
            ],
            [
             0.8,
             "#7fbc41"
            ],
            [
             0.9,
             "#4d9221"
            ],
            [
             1,
             "#276419"
            ]
           ],
           "sequential": [
            [
             0,
             "#0d0887"
            ],
            [
             0.1111111111111111,
             "#46039f"
            ],
            [
             0.2222222222222222,
             "#7201a8"
            ],
            [
             0.3333333333333333,
             "#9c179e"
            ],
            [
             0.4444444444444444,
             "#bd3786"
            ],
            [
             0.5555555555555556,
             "#d8576b"
            ],
            [
             0.6666666666666666,
             "#ed7953"
            ],
            [
             0.7777777777777778,
             "#fb9f3a"
            ],
            [
             0.8888888888888888,
             "#fdca26"
            ],
            [
             1,
             "#f0f921"
            ]
           ],
           "sequentialminus": [
            [
             0,
             "#0d0887"
            ],
            [
             0.1111111111111111,
             "#46039f"
            ],
            [
             0.2222222222222222,
             "#7201a8"
            ],
            [
             0.3333333333333333,
             "#9c179e"
            ],
            [
             0.4444444444444444,
             "#bd3786"
            ],
            [
             0.5555555555555556,
             "#d8576b"
            ],
            [
             0.6666666666666666,
             "#ed7953"
            ],
            [
             0.7777777777777778,
             "#fb9f3a"
            ],
            [
             0.8888888888888888,
             "#fdca26"
            ],
            [
             1,
             "#f0f921"
            ]
           ]
          },
          "colorway": [
           "#636efa",
           "#EF553B",
           "#00cc96",
           "#ab63fa",
           "#FFA15A",
           "#19d3f3",
           "#FF6692",
           "#B6E880",
           "#FF97FF",
           "#FECB52"
          ],
          "font": {
           "color": "#2a3f5f"
          },
          "geo": {
           "bgcolor": "white",
           "lakecolor": "white",
           "landcolor": "#E5ECF6",
           "showlakes": true,
           "showland": true,
           "subunitcolor": "white"
          },
          "hoverlabel": {
           "align": "left"
          },
          "hovermode": "closest",
          "mapbox": {
           "style": "light"
          },
          "paper_bgcolor": "white",
          "plot_bgcolor": "#E5ECF6",
          "polar": {
           "angularaxis": {
            "gridcolor": "white",
            "linecolor": "white",
            "ticks": ""
           },
           "bgcolor": "#E5ECF6",
           "radialaxis": {
            "gridcolor": "white",
            "linecolor": "white",
            "ticks": ""
           }
          },
          "scene": {
           "xaxis": {
            "backgroundcolor": "#E5ECF6",
            "gridcolor": "white",
            "gridwidth": 2,
            "linecolor": "white",
            "showbackground": true,
            "ticks": "",
            "zerolinecolor": "white"
           },
           "yaxis": {
            "backgroundcolor": "#E5ECF6",
            "gridcolor": "white",
            "gridwidth": 2,
            "linecolor": "white",
            "showbackground": true,
            "ticks": "",
            "zerolinecolor": "white"
           },
           "zaxis": {
            "backgroundcolor": "#E5ECF6",
            "gridcolor": "white",
            "gridwidth": 2,
            "linecolor": "white",
            "showbackground": true,
            "ticks": "",
            "zerolinecolor": "white"
           }
          },
          "shapedefaults": {
           "line": {
            "color": "#2a3f5f"
           }
          },
          "ternary": {
           "aaxis": {
            "gridcolor": "white",
            "linecolor": "white",
            "ticks": ""
           },
           "baxis": {
            "gridcolor": "white",
            "linecolor": "white",
            "ticks": ""
           },
           "bgcolor": "#E5ECF6",
           "caxis": {
            "gridcolor": "white",
            "linecolor": "white",
            "ticks": ""
           }
          },
          "title": {
           "x": 0.05
          },
          "xaxis": {
           "automargin": true,
           "gridcolor": "white",
           "linecolor": "white",
           "ticks": "",
           "title": {
            "standoff": 15
           },
           "zerolinecolor": "white",
           "zerolinewidth": 2
          },
          "yaxis": {
           "automargin": true,
           "gridcolor": "white",
           "linecolor": "white",
           "ticks": "",
           "title": {
            "standoff": 15
           },
           "zerolinecolor": "white",
           "zerolinewidth": 2
          }
         }
        },
        "xaxis": {
         "anchor": "y",
         "domain": [
          0,
          1
         ],
         "title": {
          "text": "x"
         }
        },
        "yaxis": {
         "anchor": "x",
         "domain": [
          0,
          1
         ],
         "title": {
          "text": "y"
         }
        }
       }
      },
      "text/html": [
       "<div>                            <div id=\"a8849601-3b2a-4a17-96b5-312c68f488d8\" class=\"plotly-graph-div\" style=\"height:525px; width:100%;\"></div>            <script type=\"text/javascript\">                require([\"plotly\"], function(Plotly) {                    window.PLOTLYENV=window.PLOTLYENV || {};                                    if (document.getElementById(\"a8849601-3b2a-4a17-96b5-312c68f488d8\")) {                    Plotly.newPlot(                        \"a8849601-3b2a-4a17-96b5-312c68f488d8\",                        [{\"hovertemplate\":\"x=%{x}<br>y=%{y}<extra></extra>\",\"legendgroup\":\"\",\"marker\":{\"color\":\"#636efa\",\"symbol\":\"circle\",\"size\":12},\"mode\":\"markers\",\"name\":\"\",\"orientation\":\"v\",\"showlegend\":false,\"x\":[1.7427119845537635,-2.1620637852478226,0.8019730107129165,-1.1247234137703774,2.2246590104529114,0.8197096113497264,-1.8137506747204084,0.24268082241177502,-0.5102149854110218,2.0109638854414333,1.4890003865909804,2.562253686380806,8.258251306789601,-1.8929179298637968,0.6736628770473171,1.5038215379593023,-2.2202626697219867,-1.3014295950540067,-1.1843768512517994,2.215632400161359,-1.755327388686685,-1.9519048283851181,1.6486056614674178,-1.4214516888777242,8.96545030603884,2.895669053624834,-1.3094331400513946,-0.21149326078837638,9.187461137908956,-1.5596782062491263,2.1123779631495068,-1.8165322944967062,0.5044212442663034,0.6908251363900615,-1.4564760711374864,1.5067208855683378,9.887294541666698,-1.5747745950547631,1.8594484231581412,1.0459964201101073,-1.400937943652448,1.1760085332819366,0.7464077666405022,2.024558799036794,9.290638958348671,9.266198259799436,9.533589883998582,2.920591433349051,2.130270594350516,-1.0125048140207578,0.5844113614146482,1.9346660045047568,-1.1194011147446243,2.9026853351081923,9.587560927118888,8.829775378062719,-2.0238765159647083,-1.3881545520104626,9.754084439712791,1.4835492721142978,9.003860938405243,9.074840025488921,-1.6862012732859732,0.746926596758251,-1.9923132920249145,9.295527951763127,0.6103542516264907,2.3147333889096013,1.8311529186213407,10.014915929513988,9.60948996041267,1.3842016047153556,9.528535835054289,0.4944313988667509,0.20844849276523936,9.562746719298904,-0.5534478360455949,-1.7355222018126477,-1.238844826477989,1.6677159631582619,-1.2672329278269108,-1.0686849192080916,2.148991261567465,1.7088052879324855,-1.8361928580270428,-1.8486720868773894,0.573310126009341,1.1171505442894007,8.477412907215923,8.979723090049827,-1.516597092048879,9.152775118418301,-0.9370633367645662,-1.5720777495944571,0.5679858145740361,1.318737054862642,1.4631091867026935,-1.7956962442563187,8.929390444262687,0.9968614113321458,0.2500160471454168,-1.173056430272866,8.509107591276072,2.4815309069310647,1.6444975199830065,9.05741009371701,8.443873912450094,-1.5653708988814554,0.4519526501939847,-1.1413302378656944,2.331603238088614,0.8360714390891774,8.076627702922053,-1.960578053546937,-1.5345631994595537,1.6051706151075738,-1.245549860259671,0.5767664921129443,-1.33508758437176,-1.7711916774294283,9.114210923079847,1.056111842560684,9.621219049851756,-1.0083548090695014,1.3043608315263866,-1.5378507692014265,0.9635880757941003,-1.783242440748963,1.9976596593409186,-2.1677314222640445,-1.5445812814242783,1.0062028286189206,-0.9378376007054954,1.72012785151108,-1.5418396368203093,9.933215632028967,1.666020725007801,-1.6659598492931105,9.39945397741292,9.109143115044327,2.189474699825603,9.639789130140127,-1.7318936398047098,-2.047186107541766,-1.428007837914444,3.1276826701216516,1.7518178241370588,-0.3680952360333378,1.5389066278478818,1.0410896855688903,-1.112517542520537,-1.297999070500763,8.96372828505768,8.483104447473613,9.180148555746799,-0.17257533857884044,-2.1195816873770785,-1.888438362100134,1.185818176425202,9.692586978372024,-0.9483833878317888,-1.308421476596948,-2.108689622597457,-1.7690656413820345,2.2334705421306182,-1.179598265175755,-1.5308951765848606,-1.71861978951228,9.618253641760875,1.1573238170763922,-1.0320571950727044,-1.693035840296005,-0.8543859682007894,2.357800162088474,1.645983565754515,-1.2042795392744652,9.189981058066383,-1.3192059320198675,-1.2759876556891916,1.873837895294947,1.8691389800909917,-1.117323504580239,1.3652663680332726,-1.9570792634436551,-1.2914295159826161,1.5299008848739692,-1.8597073615979964,0.4125121665240282,-1.0137765803424088,-0.9360578560355906,9.141928396784047,1.527361989131506,2.4825068845494704,1.7691367861623815,2.589880927991414,2.0599925307572473,9.659320975952138,9.651989278853723,-1.5867002731360353,-1.0260719749390155],\"xaxis\":\"x\",\"y\":[0.830328116790485,8.764481803253288,4.167751089689489,7.434548228293607,0.4029333041750493,4.374144363545181,2.739109944885164,4.5120393424349885,2.8988665430858336,0.5990984310749885,3.7481157082892462,0.41169448117439633,-2.791297703120467,2.2579913138219916,4.141988404755146,1.277626999318633,2.946350158723272,7.529379823843011,7.691762227926302,1.2156215856243135,7.506655026852423,2.733359899391976,4.21146610875378,7.877918230834277,-1.584371765199003,1.3053837561618602,8.347061128812808,7.358452895416898,-2.508851904799498,8.526829690052203,1.0785588734880527,1.9173508428321309,3.664779255717851,4.1405538027541775,3.022363727623247,4.222821151332832,-2.6414217565319174,7.212946235713819,1.7298323377536406,4.473960461269368,2.873714585993792,4.45394077476681,3.7725028445933044,1.668667884680152,-3.0766914195293245,-2.258751947750245,-2.173825117837517,1.563895316083428,1.1834278065393846,7.875249954811692,4.043304978304403,1.2587690380463146,8.109439741155548,0.29117208242383597,-2.3294727233956243,-2.9934953768430597,2.941356547000561,7.879290090462547,-2.53519323521757,1.3338921786090419,-2.833323267166623,-2.4573295963174746,2.299154179295014,4.106653891723356,3.224599794559855,-2.1089430741580153,3.5269601563991353,0.8039292199278392,1.7659530841555804,-2.2572671335151453,-2.866194853326127,1.0953899255069786,-2.431373418716265,4.778290604567402,5.181636255302696,-3.037950157369499,3.519319838579499,3.1345489245311806,2.190252041393247,1.7571928888325021,7.706360779066135,6.587793275249601,1.3371512263556076,1.1403257960192545,8.581618821469778,7.2294371380326945,4.477893451485058,3.9194442447626137,-2.1712028167497492,-2.5657048140199454,7.811804732320298,-2.8387747226459483,8.148097130286796,7.469613170792259,4.327162755556652,4.358541084870163,0.6899505877713178,2.8108174829519195,-2.978175786695156,4.219554594936765,4.208054201352104,2.7079936678019485,-2.156893409556667,0.8279091180470615,1.4003209895810707,-2.0520083892298646,-2.5462579253026645,8.259927341877868,4.709159246577774,2.6249207443480564,1.312656662142874,4.329061731451776,-2.058325837522724,8.110130736239837,3.0885005423329095,0.20251666638801158,2.1969563163100863,3.412428916747623,3.222490877096733,3.1051047821507645,-3.0585830083774104,4.122985906154672,-2.8639159115714383,3.4037106277496925,4.361829637289225,2.585768352190563,4.496536669187078,7.6073926562071845,3.649322773878946,2.6958883138201353,2.392240187349584,4.439899681431291,8.421290818945844,0.5257663175413804,7.659530996807174,-1.947521250726891,4.964998773903519,2.163680548484633,-2.778075248402757,-2.2606528886118817,1.4945373134471005,-2.3046531083527118,2.9257478828943984,3.26942140710262,8.001985165172977,1.322679429083623,0.9119874111613949,8.011002010851161,0.7006446398029416,4.958210405581728,3.0613097051574822,8.294537735913703,-2.8775044548768,-2.1282491156717835,-1.9350891130480934,4.597915695396552,7.920410384198817,2.6075848613455324,3.6124776686236393,-2.1781853807738774,7.628136111316745,8.320444728330912,3.038055152540255,7.694928502635032,0.4057859810092092,3.288459130616802,7.618997812334239,8.38047539599881,-2.1708378556219152,3.995622786525249,3.212750940158292,2.8101616314239557,1.986389000077033,1.0810214862464365,5.156937456662153,8.097789171530577,-2.6946114429118055,8.850985589425788,7.7871726413105655,1.4477639416100292,0.5613089947895958,3.0606304581692085,3.9698130682654913,2.762190462268399,2.840686412283111,4.844858259401375,3.612238829266154,4.65365798757275,7.576355429225714,7.763651968475774,-2.673841118799676,1.7722931934801185,0.9370617185612727,1.2020586426638618,1.0402878353041192,1.7013053821955628,-1.8176737834885373,-2.4434259845568724,2.783876365602345,7.783213243076129],\"yaxis\":\"y\",\"type\":\"scatter\"}],                        {\"template\":{\"data\":{\"histogram2dcontour\":[{\"type\":\"histogram2dcontour\",\"colorbar\":{\"outlinewidth\":0,\"ticks\":\"\"},\"colorscale\":[[0.0,\"#0d0887\"],[0.1111111111111111,\"#46039f\"],[0.2222222222222222,\"#7201a8\"],[0.3333333333333333,\"#9c179e\"],[0.4444444444444444,\"#bd3786\"],[0.5555555555555556,\"#d8576b\"],[0.6666666666666666,\"#ed7953\"],[0.7777777777777778,\"#fb9f3a\"],[0.8888888888888888,\"#fdca26\"],[1.0,\"#f0f921\"]]}],\"choropleth\":[{\"type\":\"choropleth\",\"colorbar\":{\"outlinewidth\":0,\"ticks\":\"\"}}],\"histogram2d\":[{\"type\":\"histogram2d\",\"colorbar\":{\"outlinewidth\":0,\"ticks\":\"\"},\"colorscale\":[[0.0,\"#0d0887\"],[0.1111111111111111,\"#46039f\"],[0.2222222222222222,\"#7201a8\"],[0.3333333333333333,\"#9c179e\"],[0.4444444444444444,\"#bd3786\"],[0.5555555555555556,\"#d8576b\"],[0.6666666666666666,\"#ed7953\"],[0.7777777777777778,\"#fb9f3a\"],[0.8888888888888888,\"#fdca26\"],[1.0,\"#f0f921\"]]}],\"heatmap\":[{\"type\":\"heatmap\",\"colorbar\":{\"outlinewidth\":0,\"ticks\":\"\"},\"colorscale\":[[0.0,\"#0d0887\"],[0.1111111111111111,\"#46039f\"],[0.2222222222222222,\"#7201a8\"],[0.3333333333333333,\"#9c179e\"],[0.4444444444444444,\"#bd3786\"],[0.5555555555555556,\"#d8576b\"],[0.6666666666666666,\"#ed7953\"],[0.7777777777777778,\"#fb9f3a\"],[0.8888888888888888,\"#fdca26\"],[1.0,\"#f0f921\"]]}],\"heatmapgl\":[{\"type\":\"heatmapgl\",\"colorbar\":{\"outlinewidth\":0,\"ticks\":\"\"},\"colorscale\":[[0.0,\"#0d0887\"],[0.1111111111111111,\"#46039f\"],[0.2222222222222222,\"#7201a8\"],[0.3333333333333333,\"#9c179e\"],[0.4444444444444444,\"#bd3786\"],[0.5555555555555556,\"#d8576b\"],[0.6666666666666666,\"#ed7953\"],[0.7777777777777778,\"#fb9f3a\"],[0.8888888888888888,\"#fdca26\"],[1.0,\"#f0f921\"]]}],\"contourcarpet\":[{\"type\":\"contourcarpet\",\"colorbar\":{\"outlinewidth\":0,\"ticks\":\"\"}}],\"contour\":[{\"type\":\"contour\",\"colorbar\":{\"outlinewidth\":0,\"ticks\":\"\"},\"colorscale\":[[0.0,\"#0d0887\"],[0.1111111111111111,\"#46039f\"],[0.2222222222222222,\"#7201a8\"],[0.3333333333333333,\"#9c179e\"],[0.4444444444444444,\"#bd3786\"],[0.5555555555555556,\"#d8576b\"],[0.6666666666666666,\"#ed7953\"],[0.7777777777777778,\"#fb9f3a\"],[0.8888888888888888,\"#fdca26\"],[1.0,\"#f0f921\"]]}],\"surface\":[{\"type\":\"surface\",\"colorbar\":{\"outlinewidth\":0,\"ticks\":\"\"},\"colorscale\":[[0.0,\"#0d0887\"],[0.1111111111111111,\"#46039f\"],[0.2222222222222222,\"#7201a8\"],[0.3333333333333333,\"#9c179e\"],[0.4444444444444444,\"#bd3786\"],[0.5555555555555556,\"#d8576b\"],[0.6666666666666666,\"#ed7953\"],[0.7777777777777778,\"#fb9f3a\"],[0.8888888888888888,\"#fdca26\"],[1.0,\"#f0f921\"]]}],\"mesh3d\":[{\"type\":\"mesh3d\",\"colorbar\":{\"outlinewidth\":0,\"ticks\":\"\"}}],\"scatter\":[{\"fillpattern\":{\"fillmode\":\"overlay\",\"size\":10,\"solidity\":0.2},\"type\":\"scatter\"}],\"parcoords\":[{\"type\":\"parcoords\",\"line\":{\"colorbar\":{\"outlinewidth\":0,\"ticks\":\"\"}}}],\"scatterpolargl\":[{\"type\":\"scatterpolargl\",\"marker\":{\"colorbar\":{\"outlinewidth\":0,\"ticks\":\"\"}}}],\"bar\":[{\"error_x\":{\"color\":\"#2a3f5f\"},\"error_y\":{\"color\":\"#2a3f5f\"},\"marker\":{\"line\":{\"color\":\"#E5ECF6\",\"width\":0.5},\"pattern\":{\"fillmode\":\"overlay\",\"size\":10,\"solidity\":0.2}},\"type\":\"bar\"}],\"scattergeo\":[{\"type\":\"scattergeo\",\"marker\":{\"colorbar\":{\"outlinewidth\":0,\"ticks\":\"\"}}}],\"scatterpolar\":[{\"type\":\"scatterpolar\",\"marker\":{\"colorbar\":{\"outlinewidth\":0,\"ticks\":\"\"}}}],\"histogram\":[{\"marker\":{\"pattern\":{\"fillmode\":\"overlay\",\"size\":10,\"solidity\":0.2}},\"type\":\"histogram\"}],\"scattergl\":[{\"type\":\"scattergl\",\"marker\":{\"colorbar\":{\"outlinewidth\":0,\"ticks\":\"\"}}}],\"scatter3d\":[{\"type\":\"scatter3d\",\"line\":{\"colorbar\":{\"outlinewidth\":0,\"ticks\":\"\"}},\"marker\":{\"colorbar\":{\"outlinewidth\":0,\"ticks\":\"\"}}}],\"scattermapbox\":[{\"type\":\"scattermapbox\",\"marker\":{\"colorbar\":{\"outlinewidth\":0,\"ticks\":\"\"}}}],\"scatterternary\":[{\"type\":\"scatterternary\",\"marker\":{\"colorbar\":{\"outlinewidth\":0,\"ticks\":\"\"}}}],\"scattercarpet\":[{\"type\":\"scattercarpet\",\"marker\":{\"colorbar\":{\"outlinewidth\":0,\"ticks\":\"\"}}}],\"carpet\":[{\"aaxis\":{\"endlinecolor\":\"#2a3f5f\",\"gridcolor\":\"white\",\"linecolor\":\"white\",\"minorgridcolor\":\"white\",\"startlinecolor\":\"#2a3f5f\"},\"baxis\":{\"endlinecolor\":\"#2a3f5f\",\"gridcolor\":\"white\",\"linecolor\":\"white\",\"minorgridcolor\":\"white\",\"startlinecolor\":\"#2a3f5f\"},\"type\":\"carpet\"}],\"table\":[{\"cells\":{\"fill\":{\"color\":\"#EBF0F8\"},\"line\":{\"color\":\"white\"}},\"header\":{\"fill\":{\"color\":\"#C8D4E3\"},\"line\":{\"color\":\"white\"}},\"type\":\"table\"}],\"barpolar\":[{\"marker\":{\"line\":{\"color\":\"#E5ECF6\",\"width\":0.5},\"pattern\":{\"fillmode\":\"overlay\",\"size\":10,\"solidity\":0.2}},\"type\":\"barpolar\"}],\"pie\":[{\"automargin\":true,\"type\":\"pie\"}]},\"layout\":{\"autotypenumbers\":\"strict\",\"colorway\":[\"#636efa\",\"#EF553B\",\"#00cc96\",\"#ab63fa\",\"#FFA15A\",\"#19d3f3\",\"#FF6692\",\"#B6E880\",\"#FF97FF\",\"#FECB52\"],\"font\":{\"color\":\"#2a3f5f\"},\"hovermode\":\"closest\",\"hoverlabel\":{\"align\":\"left\"},\"paper_bgcolor\":\"white\",\"plot_bgcolor\":\"#E5ECF6\",\"polar\":{\"bgcolor\":\"#E5ECF6\",\"angularaxis\":{\"gridcolor\":\"white\",\"linecolor\":\"white\",\"ticks\":\"\"},\"radialaxis\":{\"gridcolor\":\"white\",\"linecolor\":\"white\",\"ticks\":\"\"}},\"ternary\":{\"bgcolor\":\"#E5ECF6\",\"aaxis\":{\"gridcolor\":\"white\",\"linecolor\":\"white\",\"ticks\":\"\"},\"baxis\":{\"gridcolor\":\"white\",\"linecolor\":\"white\",\"ticks\":\"\"},\"caxis\":{\"gridcolor\":\"white\",\"linecolor\":\"white\",\"ticks\":\"\"}},\"coloraxis\":{\"colorbar\":{\"outlinewidth\":0,\"ticks\":\"\"}},\"colorscale\":{\"sequential\":[[0.0,\"#0d0887\"],[0.1111111111111111,\"#46039f\"],[0.2222222222222222,\"#7201a8\"],[0.3333333333333333,\"#9c179e\"],[0.4444444444444444,\"#bd3786\"],[0.5555555555555556,\"#d8576b\"],[0.6666666666666666,\"#ed7953\"],[0.7777777777777778,\"#fb9f3a\"],[0.8888888888888888,\"#fdca26\"],[1.0,\"#f0f921\"]],\"sequentialminus\":[[0.0,\"#0d0887\"],[0.1111111111111111,\"#46039f\"],[0.2222222222222222,\"#7201a8\"],[0.3333333333333333,\"#9c179e\"],[0.4444444444444444,\"#bd3786\"],[0.5555555555555556,\"#d8576b\"],[0.6666666666666666,\"#ed7953\"],[0.7777777777777778,\"#fb9f3a\"],[0.8888888888888888,\"#fdca26\"],[1.0,\"#f0f921\"]],\"diverging\":[[0,\"#8e0152\"],[0.1,\"#c51b7d\"],[0.2,\"#de77ae\"],[0.3,\"#f1b6da\"],[0.4,\"#fde0ef\"],[0.5,\"#f7f7f7\"],[0.6,\"#e6f5d0\"],[0.7,\"#b8e186\"],[0.8,\"#7fbc41\"],[0.9,\"#4d9221\"],[1,\"#276419\"]]},\"xaxis\":{\"gridcolor\":\"white\",\"linecolor\":\"white\",\"ticks\":\"\",\"title\":{\"standoff\":15},\"zerolinecolor\":\"white\",\"automargin\":true,\"zerolinewidth\":2},\"yaxis\":{\"gridcolor\":\"white\",\"linecolor\":\"white\",\"ticks\":\"\",\"title\":{\"standoff\":15},\"zerolinecolor\":\"white\",\"automargin\":true,\"zerolinewidth\":2},\"scene\":{\"xaxis\":{\"backgroundcolor\":\"#E5ECF6\",\"gridcolor\":\"white\",\"linecolor\":\"white\",\"showbackground\":true,\"ticks\":\"\",\"zerolinecolor\":\"white\",\"gridwidth\":2},\"yaxis\":{\"backgroundcolor\":\"#E5ECF6\",\"gridcolor\":\"white\",\"linecolor\":\"white\",\"showbackground\":true,\"ticks\":\"\",\"zerolinecolor\":\"white\",\"gridwidth\":2},\"zaxis\":{\"backgroundcolor\":\"#E5ECF6\",\"gridcolor\":\"white\",\"linecolor\":\"white\",\"showbackground\":true,\"ticks\":\"\",\"zerolinecolor\":\"white\",\"gridwidth\":2}},\"shapedefaults\":{\"line\":{\"color\":\"#2a3f5f\"}},\"annotationdefaults\":{\"arrowcolor\":\"#2a3f5f\",\"arrowhead\":0,\"arrowwidth\":1},\"geo\":{\"bgcolor\":\"white\",\"landcolor\":\"#E5ECF6\",\"subunitcolor\":\"white\",\"showland\":true,\"showlakes\":true,\"lakecolor\":\"white\"},\"title\":{\"x\":0.05},\"mapbox\":{\"style\":\"light\"}}},\"xaxis\":{\"anchor\":\"y\",\"domain\":[0.0,1.0],\"title\":{\"text\":\"x\"}},\"yaxis\":{\"anchor\":\"x\",\"domain\":[0.0,1.0],\"title\":{\"text\":\"y\"}},\"legend\":{\"tracegroupgap\":0},\"margin\":{\"t\":60}},                        {\"responsive\": true}                    ).then(function(){\n",
       "                            \n",
       "var gd = document.getElementById('a8849601-3b2a-4a17-96b5-312c68f488d8');\n",
       "var x = new MutationObserver(function (mutations, observer) {{\n",
       "        var display = window.getComputedStyle(gd).display;\n",
       "        if (!display || display === 'none') {{\n",
       "            console.log([gd, 'removed!']);\n",
       "            Plotly.purge(gd);\n",
       "            observer.disconnect();\n",
       "        }}\n",
       "}});\n",
       "\n",
       "// Listen for the removal of the full notebook cells\n",
       "var notebookContainer = gd.closest('#notebook-container');\n",
       "if (notebookContainer) {{\n",
       "    x.observe(notebookContainer, {childList: true});\n",
       "}}\n",
       "\n",
       "// Listen for the clearing of the current output cell\n",
       "var outputEl = gd.closest('.output');\n",
       "if (outputEl) {{\n",
       "    x.observe(outputEl, {childList: true});\n",
       "}}\n",
       "\n",
       "                        })                };                });            </script>        </div>"
      ]
     },
     "metadata": {},
     "output_type": "display_data"
    }
   ],
   "source": [
    "from sklearn.datasets import make_blobs\n",
    "import plotly.express as px\n",
    "\n",
    "X, y_true = make_blobs(n_samples=200, centers=5,\n",
    "                       cluster_std=0.45, random_state=0)\n",
    "fig = px.scatter(x=X[:, 0], y=X[:, 1]);\n",
    "fig.update_traces(marker=dict(size=12))\n",
    "\n",
    "fig.show()"
   ]
  },
  {
   "cell_type": "markdown",
   "metadata": {},
   "source": [
    "#### K-Means"
   ]
  },
  {
   "cell_type": "code",
   "execution_count": 101,
   "metadata": {},
   "outputs": [
    {
     "data": {
      "application/vnd.plotly.v1+json": {
       "config": {
        "plotlyServerURL": "https://plot.ly"
       },
       "data": [
        {
         "hovertemplate": "color=3<br>x=%{x}<br>y=%{y}<extra></extra>",
         "legendgroup": "3",
         "marker": {
          "color": "#636efa",
          "size": 12,
          "symbol": "circle"
         },
         "mode": "markers",
         "name": "3",
         "orientation": "v",
         "showlegend": true,
         "type": "scatter",
         "x": [
          1.7427119845537635,
          2.2246590104529114,
          2.0109638854414333,
          2.562253686380806,
          1.5038215379593023,
          2.215632400161359,
          2.895669053624834,
          2.1123779631495068,
          1.8594484231581412,
          2.024558799036794,
          2.920591433349051,
          2.130270594350516,
          1.9346660045047568,
          2.9026853351081923,
          1.4835492721142978,
          2.3147333889096013,
          1.8311529186213407,
          1.3842016047153556,
          1.6677159631582619,
          2.148991261567465,
          1.7088052879324855,
          1.4631091867026935,
          2.4815309069310647,
          1.6444975199830065,
          2.331603238088614,
          1.6051706151075738,
          1.72012785151108,
          2.189474699825603,
          3.1276826701216516,
          1.7518178241370588,
          1.5389066278478818,
          2.2334705421306182,
          2.357800162088474,
          1.873837895294947,
          1.8691389800909917,
          1.527361989131506,
          2.4825068845494704,
          1.7691367861623815,
          2.589880927991414,
          2.0599925307572473
         ],
         "xaxis": "x",
         "y": [
          0.830328116790485,
          0.4029333041750493,
          0.5990984310749885,
          0.41169448117439633,
          1.277626999318633,
          1.2156215856243135,
          1.3053837561618602,
          1.0785588734880527,
          1.7298323377536406,
          1.668667884680152,
          1.563895316083428,
          1.1834278065393846,
          1.2587690380463146,
          0.29117208242383597,
          1.3338921786090419,
          0.8039292199278392,
          1.7659530841555804,
          1.0953899255069786,
          1.7571928888325021,
          1.3371512263556076,
          1.1403257960192545,
          0.6899505877713178,
          0.8279091180470615,
          1.4003209895810707,
          1.312656662142874,
          0.20251666638801158,
          0.5257663175413804,
          1.4945373134471005,
          1.322679429083623,
          0.9119874111613949,
          0.7006446398029416,
          0.4057859810092092,
          1.0810214862464365,
          1.4477639416100292,
          0.5613089947895958,
          1.7722931934801185,
          0.9370617185612727,
          1.2020586426638618,
          1.0402878353041192,
          1.7013053821955628
         ],
         "yaxis": "y"
        },
        {
         "hovertemplate": "color=1<br>x=%{x}<br>y=%{y}<extra></extra>",
         "legendgroup": "1",
         "marker": {
          "color": "#EF553B",
          "size": 12,
          "symbol": "circle"
         },
         "mode": "markers",
         "name": "1",
         "orientation": "v",
         "showlegend": true,
         "type": "scatter",
         "x": [
          -2.1620637852478226,
          -1.1247234137703774,
          -1.3014295950540067,
          -1.1843768512517994,
          -1.755327388686685,
          -1.4214516888777242,
          -1.3094331400513946,
          -0.21149326078837638,
          -1.5596782062491263,
          -1.5747745950547631,
          -1.0125048140207578,
          -1.1194011147446243,
          -1.3881545520104626,
          -1.2672329278269108,
          -1.0686849192080916,
          -1.8361928580270428,
          -1.8486720868773894,
          -1.516597092048879,
          -0.9370633367645662,
          -1.5720777495944571,
          -1.5653708988814554,
          -1.960578053546937,
          -1.783242440748963,
          -0.9378376007054954,
          -1.5418396368203093,
          -1.428007837914444,
          -0.3680952360333378,
          -1.297999070500763,
          -2.1195816873770785,
          -0.9483833878317888,
          -1.308421476596948,
          -1.7690656413820345,
          -1.5308951765848606,
          -1.71861978951228,
          -1.2042795392744652,
          -1.3192059320198675,
          -1.2759876556891916,
          -1.0137765803424088,
          -0.9360578560355906,
          -1.0260719749390155
         ],
         "xaxis": "x",
         "y": [
          8.764481803253288,
          7.434548228293607,
          7.529379823843011,
          7.691762227926302,
          7.506655026852423,
          7.877918230834277,
          8.347061128812808,
          7.358452895416898,
          8.526829690052203,
          7.212946235713819,
          7.875249954811692,
          8.109439741155548,
          7.879290090462547,
          7.706360779066135,
          6.587793275249601,
          8.581618821469778,
          7.2294371380326945,
          7.811804732320298,
          8.148097130286796,
          7.469613170792259,
          8.259927341877868,
          8.110130736239837,
          7.6073926562071845,
          8.421290818945844,
          7.659530996807174,
          8.001985165172977,
          8.011002010851161,
          8.294537735913703,
          7.920410384198817,
          7.628136111316745,
          8.320444728330912,
          7.694928502635032,
          7.618997812334239,
          8.38047539599881,
          8.097789171530577,
          8.850985589425788,
          7.7871726413105655,
          7.576355429225714,
          7.763651968475774,
          7.783213243076129
         ],
         "yaxis": "y"
        },
        {
         "hovertemplate": "color=4<br>x=%{x}<br>y=%{y}<extra></extra>",
         "legendgroup": "4",
         "marker": {
          "color": "#00cc96",
          "size": 12,
          "symbol": "circle"
         },
         "mode": "markers",
         "name": "4",
         "orientation": "v",
         "showlegend": true,
         "type": "scatter",
         "x": [
          0.8019730107129165,
          0.8197096113497264,
          0.24268082241177502,
          1.4890003865909804,
          0.6736628770473171,
          1.6486056614674178,
          0.5044212442663034,
          0.6908251363900615,
          1.5067208855683378,
          1.0459964201101073,
          1.1760085332819366,
          0.7464077666405022,
          0.5844113614146482,
          0.746926596758251,
          0.6103542516264907,
          0.4944313988667509,
          0.20844849276523936,
          0.573310126009341,
          1.1171505442894007,
          0.5679858145740361,
          1.318737054862642,
          0.9968614113321458,
          0.2500160471454168,
          0.4519526501939847,
          0.8360714390891774,
          0.5767664921129443,
          1.056111842560684,
          1.3043608315263866,
          0.9635880757941003,
          1.9976596593409186,
          1.0062028286189206,
          1.666020725007801,
          1.0410896855688903,
          -0.17257533857884044,
          1.185818176425202,
          1.1573238170763922,
          1.645983565754515,
          1.3652663680332726,
          1.5299008848739692,
          0.4125121665240282
         ],
         "xaxis": "x",
         "y": [
          4.167751089689489,
          4.374144363545181,
          4.5120393424349885,
          3.7481157082892462,
          4.141988404755146,
          4.21146610875378,
          3.664779255717851,
          4.1405538027541775,
          4.222821151332832,
          4.473960461269368,
          4.45394077476681,
          3.7725028445933044,
          4.043304978304403,
          4.106653891723356,
          3.5269601563991353,
          4.778290604567402,
          5.181636255302696,
          4.477893451485058,
          3.9194442447626137,
          4.327162755556652,
          4.358541084870163,
          4.219554594936765,
          4.208054201352104,
          4.709159246577774,
          4.329061731451776,
          3.412428916747623,
          4.122985906154672,
          4.361829637289225,
          4.496536669187078,
          3.649322773878946,
          4.439899681431291,
          4.964998773903519,
          4.958210405581728,
          4.597915695396552,
          3.6124776686236393,
          3.995622786525249,
          5.156937456662153,
          3.9698130682654913,
          4.844858259401375,
          4.65365798757275
         ],
         "yaxis": "y"
        },
        {
         "hovertemplate": "color=0<br>x=%{x}<br>y=%{y}<extra></extra>",
         "legendgroup": "0",
         "marker": {
          "color": "#ab63fa",
          "size": 12,
          "symbol": "circle"
         },
         "mode": "markers",
         "name": "0",
         "orientation": "v",
         "showlegend": true,
         "type": "scatter",
         "x": [
          -1.8137506747204084,
          -0.5102149854110218,
          -1.8929179298637968,
          -2.2202626697219867,
          -1.9519048283851181,
          -1.8165322944967062,
          -1.4564760711374864,
          -1.400937943652448,
          -2.0238765159647083,
          -1.6862012732859732,
          -1.9923132920249145,
          -0.5534478360455949,
          -1.7355222018126477,
          -1.238844826477989,
          -1.7956962442563187,
          -1.173056430272866,
          -1.1413302378656944,
          -1.5345631994595537,
          -1.245549860259671,
          -1.33508758437176,
          -1.7711916774294283,
          -1.0083548090695014,
          -1.5378507692014265,
          -2.1677314222640445,
          -1.5445812814242783,
          -1.6659598492931105,
          -1.7318936398047098,
          -2.047186107541766,
          -1.112517542520537,
          -1.888438362100134,
          -2.108689622597457,
          -1.179598265175755,
          -1.0320571950727044,
          -1.693035840296005,
          -0.8543859682007894,
          -1.117323504580239,
          -1.9570792634436551,
          -1.2914295159826161,
          -1.8597073615979964,
          -1.5867002731360353
         ],
         "xaxis": "x",
         "y": [
          2.739109944885164,
          2.8988665430858336,
          2.2579913138219916,
          2.946350158723272,
          2.733359899391976,
          1.9173508428321309,
          3.022363727623247,
          2.873714585993792,
          2.941356547000561,
          2.299154179295014,
          3.224599794559855,
          3.519319838579499,
          3.1345489245311806,
          2.190252041393247,
          2.8108174829519195,
          2.7079936678019485,
          2.6249207443480564,
          3.0885005423329095,
          2.1969563163100863,
          3.222490877096733,
          3.1051047821507645,
          3.4037106277496925,
          2.585768352190563,
          2.6958883138201353,
          2.392240187349584,
          2.163680548484633,
          2.9257478828943984,
          3.26942140710262,
          3.0613097051574822,
          2.6075848613455324,
          3.038055152540255,
          3.288459130616802,
          3.212750940158292,
          2.8101616314239557,
          1.986389000077033,
          3.0606304581692085,
          2.762190462268399,
          2.840686412283111,
          3.612238829266154,
          2.783876365602345
         ],
         "yaxis": "y"
        },
        {
         "hovertemplate": "color=2<br>x=%{x}<br>y=%{y}<extra></extra>",
         "legendgroup": "2",
         "marker": {
          "color": "#FFA15A",
          "size": 12,
          "symbol": "circle"
         },
         "mode": "markers",
         "name": "2",
         "orientation": "v",
         "showlegend": true,
         "type": "scatter",
         "x": [
          8.258251306789601,
          8.96545030603884,
          9.187461137908956,
          9.887294541666698,
          9.290638958348671,
          9.266198259799436,
          9.533589883998582,
          9.587560927118888,
          8.829775378062719,
          9.754084439712791,
          9.003860938405243,
          9.074840025488921,
          9.295527951763127,
          10.014915929513988,
          9.60948996041267,
          9.528535835054289,
          9.562746719298904,
          8.477412907215923,
          8.979723090049827,
          9.152775118418301,
          8.929390444262687,
          8.509107591276072,
          9.05741009371701,
          8.443873912450094,
          8.076627702922053,
          9.114210923079847,
          9.621219049851756,
          9.933215632028967,
          9.39945397741292,
          9.109143115044327,
          9.639789130140127,
          8.96372828505768,
          8.483104447473613,
          9.180148555746799,
          9.692586978372024,
          9.618253641760875,
          9.189981058066383,
          9.141928396784047,
          9.659320975952138,
          9.651989278853723
         ],
         "xaxis": "x",
         "y": [
          -2.791297703120467,
          -1.584371765199003,
          -2.508851904799498,
          -2.6414217565319174,
          -3.0766914195293245,
          -2.258751947750245,
          -2.173825117837517,
          -2.3294727233956243,
          -2.9934953768430597,
          -2.53519323521757,
          -2.833323267166623,
          -2.4573295963174746,
          -2.1089430741580153,
          -2.2572671335151453,
          -2.866194853326127,
          -2.431373418716265,
          -3.037950157369499,
          -2.1712028167497492,
          -2.5657048140199454,
          -2.8387747226459483,
          -2.978175786695156,
          -2.156893409556667,
          -2.0520083892298646,
          -2.5462579253026645,
          -2.058325837522724,
          -3.0585830083774104,
          -2.8639159115714383,
          -1.947521250726891,
          -2.778075248402757,
          -2.2606528886118817,
          -2.3046531083527118,
          -2.8775044548768,
          -2.1282491156717835,
          -1.9350891130480934,
          -2.1781853807738774,
          -2.1708378556219152,
          -2.6946114429118055,
          -2.673841118799676,
          -1.8176737834885373,
          -2.4434259845568724
         ],
         "yaxis": "y"
        }
       ],
       "layout": {
        "legend": {
         "title": {
          "text": "color"
         },
         "tracegroupgap": 0
        },
        "margin": {
         "t": 60
        },
        "template": {
         "data": {
          "bar": [
           {
            "error_x": {
             "color": "#2a3f5f"
            },
            "error_y": {
             "color": "#2a3f5f"
            },
            "marker": {
             "line": {
              "color": "#E5ECF6",
              "width": 0.5
             },
             "pattern": {
              "fillmode": "overlay",
              "size": 10,
              "solidity": 0.2
             }
            },
            "type": "bar"
           }
          ],
          "barpolar": [
           {
            "marker": {
             "line": {
              "color": "#E5ECF6",
              "width": 0.5
             },
             "pattern": {
              "fillmode": "overlay",
              "size": 10,
              "solidity": 0.2
             }
            },
            "type": "barpolar"
           }
          ],
          "carpet": [
           {
            "aaxis": {
             "endlinecolor": "#2a3f5f",
             "gridcolor": "white",
             "linecolor": "white",
             "minorgridcolor": "white",
             "startlinecolor": "#2a3f5f"
            },
            "baxis": {
             "endlinecolor": "#2a3f5f",
             "gridcolor": "white",
             "linecolor": "white",
             "minorgridcolor": "white",
             "startlinecolor": "#2a3f5f"
            },
            "type": "carpet"
           }
          ],
          "choropleth": [
           {
            "colorbar": {
             "outlinewidth": 0,
             "ticks": ""
            },
            "type": "choropleth"
           }
          ],
          "contour": [
           {
            "colorbar": {
             "outlinewidth": 0,
             "ticks": ""
            },
            "colorscale": [
             [
              0,
              "#0d0887"
             ],
             [
              0.1111111111111111,
              "#46039f"
             ],
             [
              0.2222222222222222,
              "#7201a8"
             ],
             [
              0.3333333333333333,
              "#9c179e"
             ],
             [
              0.4444444444444444,
              "#bd3786"
             ],
             [
              0.5555555555555556,
              "#d8576b"
             ],
             [
              0.6666666666666666,
              "#ed7953"
             ],
             [
              0.7777777777777778,
              "#fb9f3a"
             ],
             [
              0.8888888888888888,
              "#fdca26"
             ],
             [
              1,
              "#f0f921"
             ]
            ],
            "type": "contour"
           }
          ],
          "contourcarpet": [
           {
            "colorbar": {
             "outlinewidth": 0,
             "ticks": ""
            },
            "type": "contourcarpet"
           }
          ],
          "heatmap": [
           {
            "colorbar": {
             "outlinewidth": 0,
             "ticks": ""
            },
            "colorscale": [
             [
              0,
              "#0d0887"
             ],
             [
              0.1111111111111111,
              "#46039f"
             ],
             [
              0.2222222222222222,
              "#7201a8"
             ],
             [
              0.3333333333333333,
              "#9c179e"
             ],
             [
              0.4444444444444444,
              "#bd3786"
             ],
             [
              0.5555555555555556,
              "#d8576b"
             ],
             [
              0.6666666666666666,
              "#ed7953"
             ],
             [
              0.7777777777777778,
              "#fb9f3a"
             ],
             [
              0.8888888888888888,
              "#fdca26"
             ],
             [
              1,
              "#f0f921"
             ]
            ],
            "type": "heatmap"
           }
          ],
          "heatmapgl": [
           {
            "colorbar": {
             "outlinewidth": 0,
             "ticks": ""
            },
            "colorscale": [
             [
              0,
              "#0d0887"
             ],
             [
              0.1111111111111111,
              "#46039f"
             ],
             [
              0.2222222222222222,
              "#7201a8"
             ],
             [
              0.3333333333333333,
              "#9c179e"
             ],
             [
              0.4444444444444444,
              "#bd3786"
             ],
             [
              0.5555555555555556,
              "#d8576b"
             ],
             [
              0.6666666666666666,
              "#ed7953"
             ],
             [
              0.7777777777777778,
              "#fb9f3a"
             ],
             [
              0.8888888888888888,
              "#fdca26"
             ],
             [
              1,
              "#f0f921"
             ]
            ],
            "type": "heatmapgl"
           }
          ],
          "histogram": [
           {
            "marker": {
             "pattern": {
              "fillmode": "overlay",
              "size": 10,
              "solidity": 0.2
             }
            },
            "type": "histogram"
           }
          ],
          "histogram2d": [
           {
            "colorbar": {
             "outlinewidth": 0,
             "ticks": ""
            },
            "colorscale": [
             [
              0,
              "#0d0887"
             ],
             [
              0.1111111111111111,
              "#46039f"
             ],
             [
              0.2222222222222222,
              "#7201a8"
             ],
             [
              0.3333333333333333,
              "#9c179e"
             ],
             [
              0.4444444444444444,
              "#bd3786"
             ],
             [
              0.5555555555555556,
              "#d8576b"
             ],
             [
              0.6666666666666666,
              "#ed7953"
             ],
             [
              0.7777777777777778,
              "#fb9f3a"
             ],
             [
              0.8888888888888888,
              "#fdca26"
             ],
             [
              1,
              "#f0f921"
             ]
            ],
            "type": "histogram2d"
           }
          ],
          "histogram2dcontour": [
           {
            "colorbar": {
             "outlinewidth": 0,
             "ticks": ""
            },
            "colorscale": [
             [
              0,
              "#0d0887"
             ],
             [
              0.1111111111111111,
              "#46039f"
             ],
             [
              0.2222222222222222,
              "#7201a8"
             ],
             [
              0.3333333333333333,
              "#9c179e"
             ],
             [
              0.4444444444444444,
              "#bd3786"
             ],
             [
              0.5555555555555556,
              "#d8576b"
             ],
             [
              0.6666666666666666,
              "#ed7953"
             ],
             [
              0.7777777777777778,
              "#fb9f3a"
             ],
             [
              0.8888888888888888,
              "#fdca26"
             ],
             [
              1,
              "#f0f921"
             ]
            ],
            "type": "histogram2dcontour"
           }
          ],
          "mesh3d": [
           {
            "colorbar": {
             "outlinewidth": 0,
             "ticks": ""
            },
            "type": "mesh3d"
           }
          ],
          "parcoords": [
           {
            "line": {
             "colorbar": {
              "outlinewidth": 0,
              "ticks": ""
             }
            },
            "type": "parcoords"
           }
          ],
          "pie": [
           {
            "automargin": true,
            "type": "pie"
           }
          ],
          "scatter": [
           {
            "fillpattern": {
             "fillmode": "overlay",
             "size": 10,
             "solidity": 0.2
            },
            "type": "scatter"
           }
          ],
          "scatter3d": [
           {
            "line": {
             "colorbar": {
              "outlinewidth": 0,
              "ticks": ""
             }
            },
            "marker": {
             "colorbar": {
              "outlinewidth": 0,
              "ticks": ""
             }
            },
            "type": "scatter3d"
           }
          ],
          "scattercarpet": [
           {
            "marker": {
             "colorbar": {
              "outlinewidth": 0,
              "ticks": ""
             }
            },
            "type": "scattercarpet"
           }
          ],
          "scattergeo": [
           {
            "marker": {
             "colorbar": {
              "outlinewidth": 0,
              "ticks": ""
             }
            },
            "type": "scattergeo"
           }
          ],
          "scattergl": [
           {
            "marker": {
             "colorbar": {
              "outlinewidth": 0,
              "ticks": ""
             }
            },
            "type": "scattergl"
           }
          ],
          "scattermapbox": [
           {
            "marker": {
             "colorbar": {
              "outlinewidth": 0,
              "ticks": ""
             }
            },
            "type": "scattermapbox"
           }
          ],
          "scatterpolar": [
           {
            "marker": {
             "colorbar": {
              "outlinewidth": 0,
              "ticks": ""
             }
            },
            "type": "scatterpolar"
           }
          ],
          "scatterpolargl": [
           {
            "marker": {
             "colorbar": {
              "outlinewidth": 0,
              "ticks": ""
             }
            },
            "type": "scatterpolargl"
           }
          ],
          "scatterternary": [
           {
            "marker": {
             "colorbar": {
              "outlinewidth": 0,
              "ticks": ""
             }
            },
            "type": "scatterternary"
           }
          ],
          "surface": [
           {
            "colorbar": {
             "outlinewidth": 0,
             "ticks": ""
            },
            "colorscale": [
             [
              0,
              "#0d0887"
             ],
             [
              0.1111111111111111,
              "#46039f"
             ],
             [
              0.2222222222222222,
              "#7201a8"
             ],
             [
              0.3333333333333333,
              "#9c179e"
             ],
             [
              0.4444444444444444,
              "#bd3786"
             ],
             [
              0.5555555555555556,
              "#d8576b"
             ],
             [
              0.6666666666666666,
              "#ed7953"
             ],
             [
              0.7777777777777778,
              "#fb9f3a"
             ],
             [
              0.8888888888888888,
              "#fdca26"
             ],
             [
              1,
              "#f0f921"
             ]
            ],
            "type": "surface"
           }
          ],
          "table": [
           {
            "cells": {
             "fill": {
              "color": "#EBF0F8"
             },
             "line": {
              "color": "white"
             }
            },
            "header": {
             "fill": {
              "color": "#C8D4E3"
             },
             "line": {
              "color": "white"
             }
            },
            "type": "table"
           }
          ]
         },
         "layout": {
          "annotationdefaults": {
           "arrowcolor": "#2a3f5f",
           "arrowhead": 0,
           "arrowwidth": 1
          },
          "autotypenumbers": "strict",
          "coloraxis": {
           "colorbar": {
            "outlinewidth": 0,
            "ticks": ""
           }
          },
          "colorscale": {
           "diverging": [
            [
             0,
             "#8e0152"
            ],
            [
             0.1,
             "#c51b7d"
            ],
            [
             0.2,
             "#de77ae"
            ],
            [
             0.3,
             "#f1b6da"
            ],
            [
             0.4,
             "#fde0ef"
            ],
            [
             0.5,
             "#f7f7f7"
            ],
            [
             0.6,
             "#e6f5d0"
            ],
            [
             0.7,
             "#b8e186"
            ],
            [
             0.8,
             "#7fbc41"
            ],
            [
             0.9,
             "#4d9221"
            ],
            [
             1,
             "#276419"
            ]
           ],
           "sequential": [
            [
             0,
             "#0d0887"
            ],
            [
             0.1111111111111111,
             "#46039f"
            ],
            [
             0.2222222222222222,
             "#7201a8"
            ],
            [
             0.3333333333333333,
             "#9c179e"
            ],
            [
             0.4444444444444444,
             "#bd3786"
            ],
            [
             0.5555555555555556,
             "#d8576b"
            ],
            [
             0.6666666666666666,
             "#ed7953"
            ],
            [
             0.7777777777777778,
             "#fb9f3a"
            ],
            [
             0.8888888888888888,
             "#fdca26"
            ],
            [
             1,
             "#f0f921"
            ]
           ],
           "sequentialminus": [
            [
             0,
             "#0d0887"
            ],
            [
             0.1111111111111111,
             "#46039f"
            ],
            [
             0.2222222222222222,
             "#7201a8"
            ],
            [
             0.3333333333333333,
             "#9c179e"
            ],
            [
             0.4444444444444444,
             "#bd3786"
            ],
            [
             0.5555555555555556,
             "#d8576b"
            ],
            [
             0.6666666666666666,
             "#ed7953"
            ],
            [
             0.7777777777777778,
             "#fb9f3a"
            ],
            [
             0.8888888888888888,
             "#fdca26"
            ],
            [
             1,
             "#f0f921"
            ]
           ]
          },
          "colorway": [
           "#636efa",
           "#EF553B",
           "#00cc96",
           "#ab63fa",
           "#FFA15A",
           "#19d3f3",
           "#FF6692",
           "#B6E880",
           "#FF97FF",
           "#FECB52"
          ],
          "font": {
           "color": "#2a3f5f"
          },
          "geo": {
           "bgcolor": "white",
           "lakecolor": "white",
           "landcolor": "#E5ECF6",
           "showlakes": true,
           "showland": true,
           "subunitcolor": "white"
          },
          "hoverlabel": {
           "align": "left"
          },
          "hovermode": "closest",
          "mapbox": {
           "style": "light"
          },
          "paper_bgcolor": "white",
          "plot_bgcolor": "#E5ECF6",
          "polar": {
           "angularaxis": {
            "gridcolor": "white",
            "linecolor": "white",
            "ticks": ""
           },
           "bgcolor": "#E5ECF6",
           "radialaxis": {
            "gridcolor": "white",
            "linecolor": "white",
            "ticks": ""
           }
          },
          "scene": {
           "xaxis": {
            "backgroundcolor": "#E5ECF6",
            "gridcolor": "white",
            "gridwidth": 2,
            "linecolor": "white",
            "showbackground": true,
            "ticks": "",
            "zerolinecolor": "white"
           },
           "yaxis": {
            "backgroundcolor": "#E5ECF6",
            "gridcolor": "white",
            "gridwidth": 2,
            "linecolor": "white",
            "showbackground": true,
            "ticks": "",
            "zerolinecolor": "white"
           },
           "zaxis": {
            "backgroundcolor": "#E5ECF6",
            "gridcolor": "white",
            "gridwidth": 2,
            "linecolor": "white",
            "showbackground": true,
            "ticks": "",
            "zerolinecolor": "white"
           }
          },
          "shapedefaults": {
           "line": {
            "color": "#2a3f5f"
           }
          },
          "ternary": {
           "aaxis": {
            "gridcolor": "white",
            "linecolor": "white",
            "ticks": ""
           },
           "baxis": {
            "gridcolor": "white",
            "linecolor": "white",
            "ticks": ""
           },
           "bgcolor": "#E5ECF6",
           "caxis": {
            "gridcolor": "white",
            "linecolor": "white",
            "ticks": ""
           }
          },
          "title": {
           "x": 0.05
          },
          "xaxis": {
           "automargin": true,
           "gridcolor": "white",
           "linecolor": "white",
           "ticks": "",
           "title": {
            "standoff": 15
           },
           "zerolinecolor": "white",
           "zerolinewidth": 2
          },
          "yaxis": {
           "automargin": true,
           "gridcolor": "white",
           "linecolor": "white",
           "ticks": "",
           "title": {
            "standoff": 15
           },
           "zerolinecolor": "white",
           "zerolinewidth": 2
          }
         }
        },
        "xaxis": {
         "anchor": "y",
         "domain": [
          0,
          1
         ],
         "title": {
          "text": "x"
         }
        },
        "yaxis": {
         "anchor": "x",
         "domain": [
          0,
          1
         ],
         "title": {
          "text": "y"
         }
        }
       }
      },
      "text/html": [
       "<div>                            <div id=\"056141b9-d62e-4e57-a441-eb65b3b0fc90\" class=\"plotly-graph-div\" style=\"height:525px; width:100%;\"></div>            <script type=\"text/javascript\">                require([\"plotly\"], function(Plotly) {                    window.PLOTLYENV=window.PLOTLYENV || {};                                    if (document.getElementById(\"056141b9-d62e-4e57-a441-eb65b3b0fc90\")) {                    Plotly.newPlot(                        \"056141b9-d62e-4e57-a441-eb65b3b0fc90\",                        [{\"hovertemplate\":\"color=3<br>x=%{x}<br>y=%{y}<extra></extra>\",\"legendgroup\":\"3\",\"marker\":{\"color\":\"#636efa\",\"symbol\":\"circle\",\"size\":12},\"mode\":\"markers\",\"name\":\"3\",\"orientation\":\"v\",\"showlegend\":true,\"x\":[1.7427119845537635,2.2246590104529114,2.0109638854414333,2.562253686380806,1.5038215379593023,2.215632400161359,2.895669053624834,2.1123779631495068,1.8594484231581412,2.024558799036794,2.920591433349051,2.130270594350516,1.9346660045047568,2.9026853351081923,1.4835492721142978,2.3147333889096013,1.8311529186213407,1.3842016047153556,1.6677159631582619,2.148991261567465,1.7088052879324855,1.4631091867026935,2.4815309069310647,1.6444975199830065,2.331603238088614,1.6051706151075738,1.72012785151108,2.189474699825603,3.1276826701216516,1.7518178241370588,1.5389066278478818,2.2334705421306182,2.357800162088474,1.873837895294947,1.8691389800909917,1.527361989131506,2.4825068845494704,1.7691367861623815,2.589880927991414,2.0599925307572473],\"xaxis\":\"x\",\"y\":[0.830328116790485,0.4029333041750493,0.5990984310749885,0.41169448117439633,1.277626999318633,1.2156215856243135,1.3053837561618602,1.0785588734880527,1.7298323377536406,1.668667884680152,1.563895316083428,1.1834278065393846,1.2587690380463146,0.29117208242383597,1.3338921786090419,0.8039292199278392,1.7659530841555804,1.0953899255069786,1.7571928888325021,1.3371512263556076,1.1403257960192545,0.6899505877713178,0.8279091180470615,1.4003209895810707,1.312656662142874,0.20251666638801158,0.5257663175413804,1.4945373134471005,1.322679429083623,0.9119874111613949,0.7006446398029416,0.4057859810092092,1.0810214862464365,1.4477639416100292,0.5613089947895958,1.7722931934801185,0.9370617185612727,1.2020586426638618,1.0402878353041192,1.7013053821955628],\"yaxis\":\"y\",\"type\":\"scatter\"},{\"hovertemplate\":\"color=1<br>x=%{x}<br>y=%{y}<extra></extra>\",\"legendgroup\":\"1\",\"marker\":{\"color\":\"#EF553B\",\"symbol\":\"circle\",\"size\":12},\"mode\":\"markers\",\"name\":\"1\",\"orientation\":\"v\",\"showlegend\":true,\"x\":[-2.1620637852478226,-1.1247234137703774,-1.3014295950540067,-1.1843768512517994,-1.755327388686685,-1.4214516888777242,-1.3094331400513946,-0.21149326078837638,-1.5596782062491263,-1.5747745950547631,-1.0125048140207578,-1.1194011147446243,-1.3881545520104626,-1.2672329278269108,-1.0686849192080916,-1.8361928580270428,-1.8486720868773894,-1.516597092048879,-0.9370633367645662,-1.5720777495944571,-1.5653708988814554,-1.960578053546937,-1.783242440748963,-0.9378376007054954,-1.5418396368203093,-1.428007837914444,-0.3680952360333378,-1.297999070500763,-2.1195816873770785,-0.9483833878317888,-1.308421476596948,-1.7690656413820345,-1.5308951765848606,-1.71861978951228,-1.2042795392744652,-1.3192059320198675,-1.2759876556891916,-1.0137765803424088,-0.9360578560355906,-1.0260719749390155],\"xaxis\":\"x\",\"y\":[8.764481803253288,7.434548228293607,7.529379823843011,7.691762227926302,7.506655026852423,7.877918230834277,8.347061128812808,7.358452895416898,8.526829690052203,7.212946235713819,7.875249954811692,8.109439741155548,7.879290090462547,7.706360779066135,6.587793275249601,8.581618821469778,7.2294371380326945,7.811804732320298,8.148097130286796,7.469613170792259,8.259927341877868,8.110130736239837,7.6073926562071845,8.421290818945844,7.659530996807174,8.001985165172977,8.011002010851161,8.294537735913703,7.920410384198817,7.628136111316745,8.320444728330912,7.694928502635032,7.618997812334239,8.38047539599881,8.097789171530577,8.850985589425788,7.7871726413105655,7.576355429225714,7.763651968475774,7.783213243076129],\"yaxis\":\"y\",\"type\":\"scatter\"},{\"hovertemplate\":\"color=4<br>x=%{x}<br>y=%{y}<extra></extra>\",\"legendgroup\":\"4\",\"marker\":{\"color\":\"#00cc96\",\"symbol\":\"circle\",\"size\":12},\"mode\":\"markers\",\"name\":\"4\",\"orientation\":\"v\",\"showlegend\":true,\"x\":[0.8019730107129165,0.8197096113497264,0.24268082241177502,1.4890003865909804,0.6736628770473171,1.6486056614674178,0.5044212442663034,0.6908251363900615,1.5067208855683378,1.0459964201101073,1.1760085332819366,0.7464077666405022,0.5844113614146482,0.746926596758251,0.6103542516264907,0.4944313988667509,0.20844849276523936,0.573310126009341,1.1171505442894007,0.5679858145740361,1.318737054862642,0.9968614113321458,0.2500160471454168,0.4519526501939847,0.8360714390891774,0.5767664921129443,1.056111842560684,1.3043608315263866,0.9635880757941003,1.9976596593409186,1.0062028286189206,1.666020725007801,1.0410896855688903,-0.17257533857884044,1.185818176425202,1.1573238170763922,1.645983565754515,1.3652663680332726,1.5299008848739692,0.4125121665240282],\"xaxis\":\"x\",\"y\":[4.167751089689489,4.374144363545181,4.5120393424349885,3.7481157082892462,4.141988404755146,4.21146610875378,3.664779255717851,4.1405538027541775,4.222821151332832,4.473960461269368,4.45394077476681,3.7725028445933044,4.043304978304403,4.106653891723356,3.5269601563991353,4.778290604567402,5.181636255302696,4.477893451485058,3.9194442447626137,4.327162755556652,4.358541084870163,4.219554594936765,4.208054201352104,4.709159246577774,4.329061731451776,3.412428916747623,4.122985906154672,4.361829637289225,4.496536669187078,3.649322773878946,4.439899681431291,4.964998773903519,4.958210405581728,4.597915695396552,3.6124776686236393,3.995622786525249,5.156937456662153,3.9698130682654913,4.844858259401375,4.65365798757275],\"yaxis\":\"y\",\"type\":\"scatter\"},{\"hovertemplate\":\"color=0<br>x=%{x}<br>y=%{y}<extra></extra>\",\"legendgroup\":\"0\",\"marker\":{\"color\":\"#ab63fa\",\"symbol\":\"circle\",\"size\":12},\"mode\":\"markers\",\"name\":\"0\",\"orientation\":\"v\",\"showlegend\":true,\"x\":[-1.8137506747204084,-0.5102149854110218,-1.8929179298637968,-2.2202626697219867,-1.9519048283851181,-1.8165322944967062,-1.4564760711374864,-1.400937943652448,-2.0238765159647083,-1.6862012732859732,-1.9923132920249145,-0.5534478360455949,-1.7355222018126477,-1.238844826477989,-1.7956962442563187,-1.173056430272866,-1.1413302378656944,-1.5345631994595537,-1.245549860259671,-1.33508758437176,-1.7711916774294283,-1.0083548090695014,-1.5378507692014265,-2.1677314222640445,-1.5445812814242783,-1.6659598492931105,-1.7318936398047098,-2.047186107541766,-1.112517542520537,-1.888438362100134,-2.108689622597457,-1.179598265175755,-1.0320571950727044,-1.693035840296005,-0.8543859682007894,-1.117323504580239,-1.9570792634436551,-1.2914295159826161,-1.8597073615979964,-1.5867002731360353],\"xaxis\":\"x\",\"y\":[2.739109944885164,2.8988665430858336,2.2579913138219916,2.946350158723272,2.733359899391976,1.9173508428321309,3.022363727623247,2.873714585993792,2.941356547000561,2.299154179295014,3.224599794559855,3.519319838579499,3.1345489245311806,2.190252041393247,2.8108174829519195,2.7079936678019485,2.6249207443480564,3.0885005423329095,2.1969563163100863,3.222490877096733,3.1051047821507645,3.4037106277496925,2.585768352190563,2.6958883138201353,2.392240187349584,2.163680548484633,2.9257478828943984,3.26942140710262,3.0613097051574822,2.6075848613455324,3.038055152540255,3.288459130616802,3.212750940158292,2.8101616314239557,1.986389000077033,3.0606304581692085,2.762190462268399,2.840686412283111,3.612238829266154,2.783876365602345],\"yaxis\":\"y\",\"type\":\"scatter\"},{\"hovertemplate\":\"color=2<br>x=%{x}<br>y=%{y}<extra></extra>\",\"legendgroup\":\"2\",\"marker\":{\"color\":\"#FFA15A\",\"symbol\":\"circle\",\"size\":12},\"mode\":\"markers\",\"name\":\"2\",\"orientation\":\"v\",\"showlegend\":true,\"x\":[8.258251306789601,8.96545030603884,9.187461137908956,9.887294541666698,9.290638958348671,9.266198259799436,9.533589883998582,9.587560927118888,8.829775378062719,9.754084439712791,9.003860938405243,9.074840025488921,9.295527951763127,10.014915929513988,9.60948996041267,9.528535835054289,9.562746719298904,8.477412907215923,8.979723090049827,9.152775118418301,8.929390444262687,8.509107591276072,9.05741009371701,8.443873912450094,8.076627702922053,9.114210923079847,9.621219049851756,9.933215632028967,9.39945397741292,9.109143115044327,9.639789130140127,8.96372828505768,8.483104447473613,9.180148555746799,9.692586978372024,9.618253641760875,9.189981058066383,9.141928396784047,9.659320975952138,9.651989278853723],\"xaxis\":\"x\",\"y\":[-2.791297703120467,-1.584371765199003,-2.508851904799498,-2.6414217565319174,-3.0766914195293245,-2.258751947750245,-2.173825117837517,-2.3294727233956243,-2.9934953768430597,-2.53519323521757,-2.833323267166623,-2.4573295963174746,-2.1089430741580153,-2.2572671335151453,-2.866194853326127,-2.431373418716265,-3.037950157369499,-2.1712028167497492,-2.5657048140199454,-2.8387747226459483,-2.978175786695156,-2.156893409556667,-2.0520083892298646,-2.5462579253026645,-2.058325837522724,-3.0585830083774104,-2.8639159115714383,-1.947521250726891,-2.778075248402757,-2.2606528886118817,-2.3046531083527118,-2.8775044548768,-2.1282491156717835,-1.9350891130480934,-2.1781853807738774,-2.1708378556219152,-2.6946114429118055,-2.673841118799676,-1.8176737834885373,-2.4434259845568724],\"yaxis\":\"y\",\"type\":\"scatter\"}],                        {\"template\":{\"data\":{\"histogram2dcontour\":[{\"type\":\"histogram2dcontour\",\"colorbar\":{\"outlinewidth\":0,\"ticks\":\"\"},\"colorscale\":[[0.0,\"#0d0887\"],[0.1111111111111111,\"#46039f\"],[0.2222222222222222,\"#7201a8\"],[0.3333333333333333,\"#9c179e\"],[0.4444444444444444,\"#bd3786\"],[0.5555555555555556,\"#d8576b\"],[0.6666666666666666,\"#ed7953\"],[0.7777777777777778,\"#fb9f3a\"],[0.8888888888888888,\"#fdca26\"],[1.0,\"#f0f921\"]]}],\"choropleth\":[{\"type\":\"choropleth\",\"colorbar\":{\"outlinewidth\":0,\"ticks\":\"\"}}],\"histogram2d\":[{\"type\":\"histogram2d\",\"colorbar\":{\"outlinewidth\":0,\"ticks\":\"\"},\"colorscale\":[[0.0,\"#0d0887\"],[0.1111111111111111,\"#46039f\"],[0.2222222222222222,\"#7201a8\"],[0.3333333333333333,\"#9c179e\"],[0.4444444444444444,\"#bd3786\"],[0.5555555555555556,\"#d8576b\"],[0.6666666666666666,\"#ed7953\"],[0.7777777777777778,\"#fb9f3a\"],[0.8888888888888888,\"#fdca26\"],[1.0,\"#f0f921\"]]}],\"heatmap\":[{\"type\":\"heatmap\",\"colorbar\":{\"outlinewidth\":0,\"ticks\":\"\"},\"colorscale\":[[0.0,\"#0d0887\"],[0.1111111111111111,\"#46039f\"],[0.2222222222222222,\"#7201a8\"],[0.3333333333333333,\"#9c179e\"],[0.4444444444444444,\"#bd3786\"],[0.5555555555555556,\"#d8576b\"],[0.6666666666666666,\"#ed7953\"],[0.7777777777777778,\"#fb9f3a\"],[0.8888888888888888,\"#fdca26\"],[1.0,\"#f0f921\"]]}],\"heatmapgl\":[{\"type\":\"heatmapgl\",\"colorbar\":{\"outlinewidth\":0,\"ticks\":\"\"},\"colorscale\":[[0.0,\"#0d0887\"],[0.1111111111111111,\"#46039f\"],[0.2222222222222222,\"#7201a8\"],[0.3333333333333333,\"#9c179e\"],[0.4444444444444444,\"#bd3786\"],[0.5555555555555556,\"#d8576b\"],[0.6666666666666666,\"#ed7953\"],[0.7777777777777778,\"#fb9f3a\"],[0.8888888888888888,\"#fdca26\"],[1.0,\"#f0f921\"]]}],\"contourcarpet\":[{\"type\":\"contourcarpet\",\"colorbar\":{\"outlinewidth\":0,\"ticks\":\"\"}}],\"contour\":[{\"type\":\"contour\",\"colorbar\":{\"outlinewidth\":0,\"ticks\":\"\"},\"colorscale\":[[0.0,\"#0d0887\"],[0.1111111111111111,\"#46039f\"],[0.2222222222222222,\"#7201a8\"],[0.3333333333333333,\"#9c179e\"],[0.4444444444444444,\"#bd3786\"],[0.5555555555555556,\"#d8576b\"],[0.6666666666666666,\"#ed7953\"],[0.7777777777777778,\"#fb9f3a\"],[0.8888888888888888,\"#fdca26\"],[1.0,\"#f0f921\"]]}],\"surface\":[{\"type\":\"surface\",\"colorbar\":{\"outlinewidth\":0,\"ticks\":\"\"},\"colorscale\":[[0.0,\"#0d0887\"],[0.1111111111111111,\"#46039f\"],[0.2222222222222222,\"#7201a8\"],[0.3333333333333333,\"#9c179e\"],[0.4444444444444444,\"#bd3786\"],[0.5555555555555556,\"#d8576b\"],[0.6666666666666666,\"#ed7953\"],[0.7777777777777778,\"#fb9f3a\"],[0.8888888888888888,\"#fdca26\"],[1.0,\"#f0f921\"]]}],\"mesh3d\":[{\"type\":\"mesh3d\",\"colorbar\":{\"outlinewidth\":0,\"ticks\":\"\"}}],\"scatter\":[{\"fillpattern\":{\"fillmode\":\"overlay\",\"size\":10,\"solidity\":0.2},\"type\":\"scatter\"}],\"parcoords\":[{\"type\":\"parcoords\",\"line\":{\"colorbar\":{\"outlinewidth\":0,\"ticks\":\"\"}}}],\"scatterpolargl\":[{\"type\":\"scatterpolargl\",\"marker\":{\"colorbar\":{\"outlinewidth\":0,\"ticks\":\"\"}}}],\"bar\":[{\"error_x\":{\"color\":\"#2a3f5f\"},\"error_y\":{\"color\":\"#2a3f5f\"},\"marker\":{\"line\":{\"color\":\"#E5ECF6\",\"width\":0.5},\"pattern\":{\"fillmode\":\"overlay\",\"size\":10,\"solidity\":0.2}},\"type\":\"bar\"}],\"scattergeo\":[{\"type\":\"scattergeo\",\"marker\":{\"colorbar\":{\"outlinewidth\":0,\"ticks\":\"\"}}}],\"scatterpolar\":[{\"type\":\"scatterpolar\",\"marker\":{\"colorbar\":{\"outlinewidth\":0,\"ticks\":\"\"}}}],\"histogram\":[{\"marker\":{\"pattern\":{\"fillmode\":\"overlay\",\"size\":10,\"solidity\":0.2}},\"type\":\"histogram\"}],\"scattergl\":[{\"type\":\"scattergl\",\"marker\":{\"colorbar\":{\"outlinewidth\":0,\"ticks\":\"\"}}}],\"scatter3d\":[{\"type\":\"scatter3d\",\"line\":{\"colorbar\":{\"outlinewidth\":0,\"ticks\":\"\"}},\"marker\":{\"colorbar\":{\"outlinewidth\":0,\"ticks\":\"\"}}}],\"scattermapbox\":[{\"type\":\"scattermapbox\",\"marker\":{\"colorbar\":{\"outlinewidth\":0,\"ticks\":\"\"}}}],\"scatterternary\":[{\"type\":\"scatterternary\",\"marker\":{\"colorbar\":{\"outlinewidth\":0,\"ticks\":\"\"}}}],\"scattercarpet\":[{\"type\":\"scattercarpet\",\"marker\":{\"colorbar\":{\"outlinewidth\":0,\"ticks\":\"\"}}}],\"carpet\":[{\"aaxis\":{\"endlinecolor\":\"#2a3f5f\",\"gridcolor\":\"white\",\"linecolor\":\"white\",\"minorgridcolor\":\"white\",\"startlinecolor\":\"#2a3f5f\"},\"baxis\":{\"endlinecolor\":\"#2a3f5f\",\"gridcolor\":\"white\",\"linecolor\":\"white\",\"minorgridcolor\":\"white\",\"startlinecolor\":\"#2a3f5f\"},\"type\":\"carpet\"}],\"table\":[{\"cells\":{\"fill\":{\"color\":\"#EBF0F8\"},\"line\":{\"color\":\"white\"}},\"header\":{\"fill\":{\"color\":\"#C8D4E3\"},\"line\":{\"color\":\"white\"}},\"type\":\"table\"}],\"barpolar\":[{\"marker\":{\"line\":{\"color\":\"#E5ECF6\",\"width\":0.5},\"pattern\":{\"fillmode\":\"overlay\",\"size\":10,\"solidity\":0.2}},\"type\":\"barpolar\"}],\"pie\":[{\"automargin\":true,\"type\":\"pie\"}]},\"layout\":{\"autotypenumbers\":\"strict\",\"colorway\":[\"#636efa\",\"#EF553B\",\"#00cc96\",\"#ab63fa\",\"#FFA15A\",\"#19d3f3\",\"#FF6692\",\"#B6E880\",\"#FF97FF\",\"#FECB52\"],\"font\":{\"color\":\"#2a3f5f\"},\"hovermode\":\"closest\",\"hoverlabel\":{\"align\":\"left\"},\"paper_bgcolor\":\"white\",\"plot_bgcolor\":\"#E5ECF6\",\"polar\":{\"bgcolor\":\"#E5ECF6\",\"angularaxis\":{\"gridcolor\":\"white\",\"linecolor\":\"white\",\"ticks\":\"\"},\"radialaxis\":{\"gridcolor\":\"white\",\"linecolor\":\"white\",\"ticks\":\"\"}},\"ternary\":{\"bgcolor\":\"#E5ECF6\",\"aaxis\":{\"gridcolor\":\"white\",\"linecolor\":\"white\",\"ticks\":\"\"},\"baxis\":{\"gridcolor\":\"white\",\"linecolor\":\"white\",\"ticks\":\"\"},\"caxis\":{\"gridcolor\":\"white\",\"linecolor\":\"white\",\"ticks\":\"\"}},\"coloraxis\":{\"colorbar\":{\"outlinewidth\":0,\"ticks\":\"\"}},\"colorscale\":{\"sequential\":[[0.0,\"#0d0887\"],[0.1111111111111111,\"#46039f\"],[0.2222222222222222,\"#7201a8\"],[0.3333333333333333,\"#9c179e\"],[0.4444444444444444,\"#bd3786\"],[0.5555555555555556,\"#d8576b\"],[0.6666666666666666,\"#ed7953\"],[0.7777777777777778,\"#fb9f3a\"],[0.8888888888888888,\"#fdca26\"],[1.0,\"#f0f921\"]],\"sequentialminus\":[[0.0,\"#0d0887\"],[0.1111111111111111,\"#46039f\"],[0.2222222222222222,\"#7201a8\"],[0.3333333333333333,\"#9c179e\"],[0.4444444444444444,\"#bd3786\"],[0.5555555555555556,\"#d8576b\"],[0.6666666666666666,\"#ed7953\"],[0.7777777777777778,\"#fb9f3a\"],[0.8888888888888888,\"#fdca26\"],[1.0,\"#f0f921\"]],\"diverging\":[[0,\"#8e0152\"],[0.1,\"#c51b7d\"],[0.2,\"#de77ae\"],[0.3,\"#f1b6da\"],[0.4,\"#fde0ef\"],[0.5,\"#f7f7f7\"],[0.6,\"#e6f5d0\"],[0.7,\"#b8e186\"],[0.8,\"#7fbc41\"],[0.9,\"#4d9221\"],[1,\"#276419\"]]},\"xaxis\":{\"gridcolor\":\"white\",\"linecolor\":\"white\",\"ticks\":\"\",\"title\":{\"standoff\":15},\"zerolinecolor\":\"white\",\"automargin\":true,\"zerolinewidth\":2},\"yaxis\":{\"gridcolor\":\"white\",\"linecolor\":\"white\",\"ticks\":\"\",\"title\":{\"standoff\":15},\"zerolinecolor\":\"white\",\"automargin\":true,\"zerolinewidth\":2},\"scene\":{\"xaxis\":{\"backgroundcolor\":\"#E5ECF6\",\"gridcolor\":\"white\",\"linecolor\":\"white\",\"showbackground\":true,\"ticks\":\"\",\"zerolinecolor\":\"white\",\"gridwidth\":2},\"yaxis\":{\"backgroundcolor\":\"#E5ECF6\",\"gridcolor\":\"white\",\"linecolor\":\"white\",\"showbackground\":true,\"ticks\":\"\",\"zerolinecolor\":\"white\",\"gridwidth\":2},\"zaxis\":{\"backgroundcolor\":\"#E5ECF6\",\"gridcolor\":\"white\",\"linecolor\":\"white\",\"showbackground\":true,\"ticks\":\"\",\"zerolinecolor\":\"white\",\"gridwidth\":2}},\"shapedefaults\":{\"line\":{\"color\":\"#2a3f5f\"}},\"annotationdefaults\":{\"arrowcolor\":\"#2a3f5f\",\"arrowhead\":0,\"arrowwidth\":1},\"geo\":{\"bgcolor\":\"white\",\"landcolor\":\"#E5ECF6\",\"subunitcolor\":\"white\",\"showland\":true,\"showlakes\":true,\"lakecolor\":\"white\"},\"title\":{\"x\":0.05},\"mapbox\":{\"style\":\"light\"}}},\"xaxis\":{\"anchor\":\"y\",\"domain\":[0.0,1.0],\"title\":{\"text\":\"x\"}},\"yaxis\":{\"anchor\":\"x\",\"domain\":[0.0,1.0],\"title\":{\"text\":\"y\"}},\"legend\":{\"title\":{\"text\":\"color\"},\"tracegroupgap\":0},\"margin\":{\"t\":60}},                        {\"responsive\": true}                    ).then(function(){\n",
       "                            \n",
       "var gd = document.getElementById('056141b9-d62e-4e57-a441-eb65b3b0fc90');\n",
       "var x = new MutationObserver(function (mutations, observer) {{\n",
       "        var display = window.getComputedStyle(gd).display;\n",
       "        if (!display || display === 'none') {{\n",
       "            console.log([gd, 'removed!']);\n",
       "            Plotly.purge(gd);\n",
       "            observer.disconnect();\n",
       "        }}\n",
       "}});\n",
       "\n",
       "// Listen for the removal of the full notebook cells\n",
       "var notebookContainer = gd.closest('#notebook-container');\n",
       "if (notebookContainer) {{\n",
       "    x.observe(notebookContainer, {childList: true});\n",
       "}}\n",
       "\n",
       "// Listen for the clearing of the current output cell\n",
       "var outputEl = gd.closest('.output');\n",
       "if (outputEl) {{\n",
       "    x.observe(outputEl, {childList: true});\n",
       "}}\n",
       "\n",
       "                        })                };                });            </script>        </div>"
      ]
     },
     "metadata": {},
     "output_type": "display_data"
    }
   ],
   "source": [
    "from sklearn.cluster import KMeans\n",
    "kmeans = KMeans(n_clusters=5, random_state=0).fit(X)\n",
    "labels = [str(i) for i in kmeans.labels_]\n",
    "fig = px.scatter(x=X[:, 0], y=X[:, 1], color=labels);\n",
    "fig.update_traces(marker=dict(size=12))\n",
    "fig.show()"
   ]
  },
  {
   "cell_type": "markdown",
   "metadata": {
    "id": "NH-P0T8-2b3M"
   },
   "source": [
    "#### DBSCAN - no hyperparameters"
   ]
  },
  {
   "cell_type": "code",
   "execution_count": 102,
   "metadata": {
    "colab": {
     "base_uri": "https://localhost:8080/",
     "height": 286
    },
    "id": "Hp2idrPY2Tig",
    "outputId": "05b94a52-f46d-4cd0-841e-b012d7ef7948"
   },
   "outputs": [
    {
     "data": {
      "application/vnd.plotly.v1+json": {
       "config": {
        "plotlyServerURL": "https://plot.ly"
       },
       "data": [
        {
         "hovertemplate": "color=0<br>x=%{x}<br>y=%{y}<extra></extra>",
         "legendgroup": "0",
         "marker": {
          "color": "#636efa",
          "size": 12,
          "symbol": "circle"
         },
         "mode": "markers",
         "name": "0",
         "orientation": "v",
         "showlegend": true,
         "type": "scatter",
         "x": [
          1.7427119845537635,
          2.2246590104529114,
          2.0109638854414333,
          2.562253686380806,
          1.5038215379593023,
          2.215632400161359,
          2.895669053624834,
          2.1123779631495068,
          1.8594484231581412,
          2.024558799036794,
          2.130270594350516,
          1.9346660045047568,
          2.9026853351081923,
          1.4835492721142978,
          2.3147333889096013,
          1.8311529186213407,
          1.3842016047153556,
          1.6677159631582619,
          2.148991261567465,
          1.7088052879324855,
          1.4631091867026935,
          2.4815309069310647,
          1.6444975199830065,
          2.331603238088614,
          1.6051706151075738,
          1.72012785151108,
          2.189474699825603,
          1.7518178241370588,
          1.5389066278478818,
          2.2334705421306182,
          2.357800162088474,
          1.873837895294947,
          1.8691389800909917,
          1.527361989131506,
          2.4825068845494704,
          1.7691367861623815,
          2.589880927991414,
          2.0599925307572473
         ],
         "xaxis": "x",
         "y": [
          0.830328116790485,
          0.4029333041750493,
          0.5990984310749885,
          0.41169448117439633,
          1.277626999318633,
          1.2156215856243135,
          1.3053837561618602,
          1.0785588734880527,
          1.7298323377536406,
          1.668667884680152,
          1.1834278065393846,
          1.2587690380463146,
          0.29117208242383597,
          1.3338921786090419,
          0.8039292199278392,
          1.7659530841555804,
          1.0953899255069786,
          1.7571928888325021,
          1.3371512263556076,
          1.1403257960192545,
          0.6899505877713178,
          0.8279091180470615,
          1.4003209895810707,
          1.312656662142874,
          0.20251666638801158,
          0.5257663175413804,
          1.4945373134471005,
          0.9119874111613949,
          0.7006446398029416,
          0.4057859810092092,
          1.0810214862464365,
          1.4477639416100292,
          0.5613089947895958,
          1.7722931934801185,
          0.9370617185612727,
          1.2020586426638618,
          1.0402878353041192,
          1.7013053821955628
         ],
         "yaxis": "y"
        },
        {
         "hovertemplate": "color=2<br>x=%{x}<br>y=%{y}<extra></extra>",
         "legendgroup": "2",
         "marker": {
          "color": "#EF553B",
          "size": 12,
          "symbol": "circle"
         },
         "mode": "markers",
         "name": "2",
         "orientation": "v",
         "showlegend": true,
         "type": "scatter",
         "x": [
          -2.1620637852478226,
          -1.1247234137703774,
          -1.3014295950540067,
          -1.1843768512517994,
          -1.755327388686685,
          -1.4214516888777242,
          -1.3094331400513946,
          -1.5596782062491263,
          -1.5747745950547631,
          -1.0125048140207578,
          -1.1194011147446243,
          -1.3881545520104626,
          -1.2672329278269108,
          -1.8361928580270428,
          -1.8486720868773894,
          -1.516597092048879,
          -0.9370633367645662,
          -1.5720777495944571,
          -1.5653708988814554,
          -1.960578053546937,
          -1.783242440748963,
          -0.9378376007054954,
          -1.5418396368203093,
          -1.428007837914444,
          -1.297999070500763,
          -2.1195816873770785,
          -0.9483833878317888,
          -1.308421476596948,
          -1.7690656413820345,
          -1.5308951765848606,
          -1.71861978951228,
          -1.2042795392744652,
          -1.3192059320198675,
          -1.2759876556891916,
          -1.0137765803424088,
          -0.9360578560355906,
          -1.0260719749390155
         ],
         "xaxis": "x",
         "y": [
          8.764481803253288,
          7.434548228293607,
          7.529379823843011,
          7.691762227926302,
          7.506655026852423,
          7.877918230834277,
          8.347061128812808,
          8.526829690052203,
          7.212946235713819,
          7.875249954811692,
          8.109439741155548,
          7.879290090462547,
          7.706360779066135,
          8.581618821469778,
          7.2294371380326945,
          7.811804732320298,
          8.148097130286796,
          7.469613170792259,
          8.259927341877868,
          8.110130736239837,
          7.6073926562071845,
          8.421290818945844,
          7.659530996807174,
          8.001985165172977,
          8.294537735913703,
          7.920410384198817,
          7.628136111316745,
          8.320444728330912,
          7.694928502635032,
          7.618997812334239,
          8.38047539599881,
          8.097789171530577,
          8.850985589425788,
          7.7871726413105655,
          7.576355429225714,
          7.763651968475774,
          7.783213243076129
         ],
         "yaxis": "y"
        },
        {
         "hovertemplate": "color=1<br>x=%{x}<br>y=%{y}<extra></extra>",
         "legendgroup": "1",
         "marker": {
          "color": "#00cc96",
          "size": 12,
          "symbol": "circle"
         },
         "mode": "markers",
         "name": "1",
         "orientation": "v",
         "showlegend": true,
         "type": "scatter",
         "x": [
          0.8019730107129165,
          0.8197096113497264,
          0.24268082241177502,
          1.4890003865909804,
          0.6736628770473171,
          1.6486056614674178,
          0.5044212442663034,
          0.6908251363900615,
          1.5067208855683378,
          1.0459964201101073,
          1.1760085332819366,
          0.7464077666405022,
          0.5844113614146482,
          0.746926596758251,
          0.6103542516264907,
          0.4944313988667509,
          0.20844849276523936,
          0.573310126009341,
          1.1171505442894007,
          0.5679858145740361,
          1.318737054862642,
          0.9968614113321458,
          0.2500160471454168,
          0.4519526501939847,
          0.8360714390891774,
          0.5767664921129443,
          1.056111842560684,
          1.3043608315263866,
          0.9635880757941003,
          1.0062028286189206,
          1.0410896855688903,
          -0.17257533857884044,
          1.185818176425202,
          1.1573238170763922,
          1.3652663680332726,
          0.4125121665240282
         ],
         "xaxis": "x",
         "y": [
          4.167751089689489,
          4.374144363545181,
          4.5120393424349885,
          3.7481157082892462,
          4.141988404755146,
          4.21146610875378,
          3.664779255717851,
          4.1405538027541775,
          4.222821151332832,
          4.473960461269368,
          4.45394077476681,
          3.7725028445933044,
          4.043304978304403,
          4.106653891723356,
          3.5269601563991353,
          4.778290604567402,
          5.181636255302696,
          4.477893451485058,
          3.9194442447626137,
          4.327162755556652,
          4.358541084870163,
          4.219554594936765,
          4.208054201352104,
          4.709159246577774,
          4.329061731451776,
          3.412428916747623,
          4.122985906154672,
          4.361829637289225,
          4.496536669187078,
          4.439899681431291,
          4.958210405581728,
          4.597915695396552,
          3.6124776686236393,
          3.995622786525249,
          3.9698130682654913,
          4.65365798757275
         ],
         "yaxis": "y"
        },
        {
         "hovertemplate": "color=3<br>x=%{x}<br>y=%{y}<extra></extra>",
         "legendgroup": "3",
         "marker": {
          "color": "#ab63fa",
          "size": 12,
          "symbol": "circle"
         },
         "mode": "markers",
         "name": "3",
         "orientation": "v",
         "showlegend": true,
         "type": "scatter",
         "x": [
          -1.8137506747204084,
          -1.8929179298637968,
          -2.2202626697219867,
          -1.9519048283851181,
          -1.8165322944967062,
          -1.4564760711374864,
          -1.400937943652448,
          -2.0238765159647083,
          -1.6862012732859732,
          -1.9923132920249145,
          -0.5534478360455949,
          -1.7355222018126477,
          -1.238844826477989,
          -1.7956962442563187,
          -1.173056430272866,
          -1.1413302378656944,
          -1.5345631994595537,
          -1.245549860259671,
          -1.33508758437176,
          -1.7711916774294283,
          -1.0083548090695014,
          -1.5378507692014265,
          -2.1677314222640445,
          -1.5445812814242783,
          -1.6659598492931105,
          -1.7318936398047098,
          -2.047186107541766,
          -1.112517542520537,
          -1.888438362100134,
          -2.108689622597457,
          -1.179598265175755,
          -1.0320571950727044,
          -1.693035840296005,
          -0.8543859682007894,
          -1.117323504580239,
          -1.9570792634436551,
          -1.2914295159826161,
          -1.8597073615979964,
          -1.5867002731360353
         ],
         "xaxis": "x",
         "y": [
          2.739109944885164,
          2.2579913138219916,
          2.946350158723272,
          2.733359899391976,
          1.9173508428321309,
          3.022363727623247,
          2.873714585993792,
          2.941356547000561,
          2.299154179295014,
          3.224599794559855,
          3.519319838579499,
          3.1345489245311806,
          2.190252041393247,
          2.8108174829519195,
          2.7079936678019485,
          2.6249207443480564,
          3.0885005423329095,
          2.1969563163100863,
          3.222490877096733,
          3.1051047821507645,
          3.4037106277496925,
          2.585768352190563,
          2.6958883138201353,
          2.392240187349584,
          2.163680548484633,
          2.9257478828943984,
          3.26942140710262,
          3.0613097051574822,
          2.6075848613455324,
          3.038055152540255,
          3.288459130616802,
          3.212750940158292,
          2.8101616314239557,
          1.986389000077033,
          3.0606304581692085,
          2.762190462268399,
          2.840686412283111,
          3.612238829266154,
          2.783876365602345
         ],
         "yaxis": "y"
        },
        {
         "hovertemplate": "color=-1<br>x=%{x}<br>y=%{y}<extra></extra>",
         "legendgroup": "-1",
         "marker": {
          "color": "#FFA15A",
          "size": 12,
          "symbol": "circle"
         },
         "mode": "markers",
         "name": "-1",
         "orientation": "v",
         "showlegend": true,
         "type": "scatter",
         "x": [
          -0.5102149854110218,
          -0.21149326078837638,
          2.920591433349051,
          -1.0686849192080916,
          1.9976596593409186,
          1.666020725007801,
          3.1276826701216516,
          -0.3680952360333378,
          1.645983565754515,
          1.5299008848739692
         ],
         "xaxis": "x",
         "y": [
          2.8988665430858336,
          7.358452895416898,
          1.563895316083428,
          6.587793275249601,
          3.649322773878946,
          4.964998773903519,
          1.322679429083623,
          8.011002010851161,
          5.156937456662153,
          4.844858259401375
         ],
         "yaxis": "y"
        },
        {
         "hovertemplate": "color=5<br>x=%{x}<br>y=%{y}<extra></extra>",
         "legendgroup": "5",
         "marker": {
          "color": "#19d3f3",
          "size": 12,
          "symbol": "circle"
         },
         "mode": "markers",
         "name": "5",
         "orientation": "v",
         "showlegend": true,
         "type": "scatter",
         "x": [
          8.258251306789601,
          8.477412907215923,
          8.509107591276072,
          8.443873912450094,
          8.076627702922053,
          8.483104447473613
         ],
         "xaxis": "x",
         "y": [
          -2.791297703120467,
          -2.1712028167497492,
          -2.156893409556667,
          -2.5462579253026645,
          -2.058325837522724,
          -2.1282491156717835
         ],
         "yaxis": "y"
        },
        {
         "hovertemplate": "color=4<br>x=%{x}<br>y=%{y}<extra></extra>",
         "legendgroup": "4",
         "marker": {
          "color": "#FF6692",
          "size": 12,
          "symbol": "circle"
         },
         "mode": "markers",
         "name": "4",
         "orientation": "v",
         "showlegend": true,
         "type": "scatter",
         "x": [
          8.96545030603884,
          9.187461137908956,
          9.887294541666698,
          9.290638958348671,
          9.266198259799436,
          9.533589883998582,
          9.587560927118888,
          8.829775378062719,
          9.754084439712791,
          9.003860938405243,
          9.074840025488921,
          9.295527951763127,
          10.014915929513988,
          9.60948996041267,
          9.528535835054289,
          9.562746719298904,
          8.979723090049827,
          9.152775118418301,
          8.929390444262687,
          9.05741009371701,
          9.114210923079847,
          9.621219049851756,
          9.933215632028967,
          9.39945397741292,
          9.109143115044327,
          9.639789130140127,
          8.96372828505768,
          9.180148555746799,
          9.692586978372024,
          9.618253641760875,
          9.189981058066383,
          9.141928396784047,
          9.659320975952138,
          9.651989278853723
         ],
         "xaxis": "x",
         "y": [
          -1.584371765199003,
          -2.508851904799498,
          -2.6414217565319174,
          -3.0766914195293245,
          -2.258751947750245,
          -2.173825117837517,
          -2.3294727233956243,
          -2.9934953768430597,
          -2.53519323521757,
          -2.833323267166623,
          -2.4573295963174746,
          -2.1089430741580153,
          -2.2572671335151453,
          -2.866194853326127,
          -2.431373418716265,
          -3.037950157369499,
          -2.5657048140199454,
          -2.8387747226459483,
          -2.978175786695156,
          -2.0520083892298646,
          -3.0585830083774104,
          -2.8639159115714383,
          -1.947521250726891,
          -2.778075248402757,
          -2.2606528886118817,
          -2.3046531083527118,
          -2.8775044548768,
          -1.9350891130480934,
          -2.1781853807738774,
          -2.1708378556219152,
          -2.6946114429118055,
          -2.673841118799676,
          -1.8176737834885373,
          -2.4434259845568724
         ],
         "yaxis": "y"
        }
       ],
       "layout": {
        "legend": {
         "title": {
          "text": "color"
         },
         "tracegroupgap": 0
        },
        "margin": {
         "t": 60
        },
        "template": {
         "data": {
          "bar": [
           {
            "error_x": {
             "color": "#2a3f5f"
            },
            "error_y": {
             "color": "#2a3f5f"
            },
            "marker": {
             "line": {
              "color": "#E5ECF6",
              "width": 0.5
             },
             "pattern": {
              "fillmode": "overlay",
              "size": 10,
              "solidity": 0.2
             }
            },
            "type": "bar"
           }
          ],
          "barpolar": [
           {
            "marker": {
             "line": {
              "color": "#E5ECF6",
              "width": 0.5
             },
             "pattern": {
              "fillmode": "overlay",
              "size": 10,
              "solidity": 0.2
             }
            },
            "type": "barpolar"
           }
          ],
          "carpet": [
           {
            "aaxis": {
             "endlinecolor": "#2a3f5f",
             "gridcolor": "white",
             "linecolor": "white",
             "minorgridcolor": "white",
             "startlinecolor": "#2a3f5f"
            },
            "baxis": {
             "endlinecolor": "#2a3f5f",
             "gridcolor": "white",
             "linecolor": "white",
             "minorgridcolor": "white",
             "startlinecolor": "#2a3f5f"
            },
            "type": "carpet"
           }
          ],
          "choropleth": [
           {
            "colorbar": {
             "outlinewidth": 0,
             "ticks": ""
            },
            "type": "choropleth"
           }
          ],
          "contour": [
           {
            "colorbar": {
             "outlinewidth": 0,
             "ticks": ""
            },
            "colorscale": [
             [
              0,
              "#0d0887"
             ],
             [
              0.1111111111111111,
              "#46039f"
             ],
             [
              0.2222222222222222,
              "#7201a8"
             ],
             [
              0.3333333333333333,
              "#9c179e"
             ],
             [
              0.4444444444444444,
              "#bd3786"
             ],
             [
              0.5555555555555556,
              "#d8576b"
             ],
             [
              0.6666666666666666,
              "#ed7953"
             ],
             [
              0.7777777777777778,
              "#fb9f3a"
             ],
             [
              0.8888888888888888,
              "#fdca26"
             ],
             [
              1,
              "#f0f921"
             ]
            ],
            "type": "contour"
           }
          ],
          "contourcarpet": [
           {
            "colorbar": {
             "outlinewidth": 0,
             "ticks": ""
            },
            "type": "contourcarpet"
           }
          ],
          "heatmap": [
           {
            "colorbar": {
             "outlinewidth": 0,
             "ticks": ""
            },
            "colorscale": [
             [
              0,
              "#0d0887"
             ],
             [
              0.1111111111111111,
              "#46039f"
             ],
             [
              0.2222222222222222,
              "#7201a8"
             ],
             [
              0.3333333333333333,
              "#9c179e"
             ],
             [
              0.4444444444444444,
              "#bd3786"
             ],
             [
              0.5555555555555556,
              "#d8576b"
             ],
             [
              0.6666666666666666,
              "#ed7953"
             ],
             [
              0.7777777777777778,
              "#fb9f3a"
             ],
             [
              0.8888888888888888,
              "#fdca26"
             ],
             [
              1,
              "#f0f921"
             ]
            ],
            "type": "heatmap"
           }
          ],
          "heatmapgl": [
           {
            "colorbar": {
             "outlinewidth": 0,
             "ticks": ""
            },
            "colorscale": [
             [
              0,
              "#0d0887"
             ],
             [
              0.1111111111111111,
              "#46039f"
             ],
             [
              0.2222222222222222,
              "#7201a8"
             ],
             [
              0.3333333333333333,
              "#9c179e"
             ],
             [
              0.4444444444444444,
              "#bd3786"
             ],
             [
              0.5555555555555556,
              "#d8576b"
             ],
             [
              0.6666666666666666,
              "#ed7953"
             ],
             [
              0.7777777777777778,
              "#fb9f3a"
             ],
             [
              0.8888888888888888,
              "#fdca26"
             ],
             [
              1,
              "#f0f921"
             ]
            ],
            "type": "heatmapgl"
           }
          ],
          "histogram": [
           {
            "marker": {
             "pattern": {
              "fillmode": "overlay",
              "size": 10,
              "solidity": 0.2
             }
            },
            "type": "histogram"
           }
          ],
          "histogram2d": [
           {
            "colorbar": {
             "outlinewidth": 0,
             "ticks": ""
            },
            "colorscale": [
             [
              0,
              "#0d0887"
             ],
             [
              0.1111111111111111,
              "#46039f"
             ],
             [
              0.2222222222222222,
              "#7201a8"
             ],
             [
              0.3333333333333333,
              "#9c179e"
             ],
             [
              0.4444444444444444,
              "#bd3786"
             ],
             [
              0.5555555555555556,
              "#d8576b"
             ],
             [
              0.6666666666666666,
              "#ed7953"
             ],
             [
              0.7777777777777778,
              "#fb9f3a"
             ],
             [
              0.8888888888888888,
              "#fdca26"
             ],
             [
              1,
              "#f0f921"
             ]
            ],
            "type": "histogram2d"
           }
          ],
          "histogram2dcontour": [
           {
            "colorbar": {
             "outlinewidth": 0,
             "ticks": ""
            },
            "colorscale": [
             [
              0,
              "#0d0887"
             ],
             [
              0.1111111111111111,
              "#46039f"
             ],
             [
              0.2222222222222222,
              "#7201a8"
             ],
             [
              0.3333333333333333,
              "#9c179e"
             ],
             [
              0.4444444444444444,
              "#bd3786"
             ],
             [
              0.5555555555555556,
              "#d8576b"
             ],
             [
              0.6666666666666666,
              "#ed7953"
             ],
             [
              0.7777777777777778,
              "#fb9f3a"
             ],
             [
              0.8888888888888888,
              "#fdca26"
             ],
             [
              1,
              "#f0f921"
             ]
            ],
            "type": "histogram2dcontour"
           }
          ],
          "mesh3d": [
           {
            "colorbar": {
             "outlinewidth": 0,
             "ticks": ""
            },
            "type": "mesh3d"
           }
          ],
          "parcoords": [
           {
            "line": {
             "colorbar": {
              "outlinewidth": 0,
              "ticks": ""
             }
            },
            "type": "parcoords"
           }
          ],
          "pie": [
           {
            "automargin": true,
            "type": "pie"
           }
          ],
          "scatter": [
           {
            "fillpattern": {
             "fillmode": "overlay",
             "size": 10,
             "solidity": 0.2
            },
            "type": "scatter"
           }
          ],
          "scatter3d": [
           {
            "line": {
             "colorbar": {
              "outlinewidth": 0,
              "ticks": ""
             }
            },
            "marker": {
             "colorbar": {
              "outlinewidth": 0,
              "ticks": ""
             }
            },
            "type": "scatter3d"
           }
          ],
          "scattercarpet": [
           {
            "marker": {
             "colorbar": {
              "outlinewidth": 0,
              "ticks": ""
             }
            },
            "type": "scattercarpet"
           }
          ],
          "scattergeo": [
           {
            "marker": {
             "colorbar": {
              "outlinewidth": 0,
              "ticks": ""
             }
            },
            "type": "scattergeo"
           }
          ],
          "scattergl": [
           {
            "marker": {
             "colorbar": {
              "outlinewidth": 0,
              "ticks": ""
             }
            },
            "type": "scattergl"
           }
          ],
          "scattermapbox": [
           {
            "marker": {
             "colorbar": {
              "outlinewidth": 0,
              "ticks": ""
             }
            },
            "type": "scattermapbox"
           }
          ],
          "scatterpolar": [
           {
            "marker": {
             "colorbar": {
              "outlinewidth": 0,
              "ticks": ""
             }
            },
            "type": "scatterpolar"
           }
          ],
          "scatterpolargl": [
           {
            "marker": {
             "colorbar": {
              "outlinewidth": 0,
              "ticks": ""
             }
            },
            "type": "scatterpolargl"
           }
          ],
          "scatterternary": [
           {
            "marker": {
             "colorbar": {
              "outlinewidth": 0,
              "ticks": ""
             }
            },
            "type": "scatterternary"
           }
          ],
          "surface": [
           {
            "colorbar": {
             "outlinewidth": 0,
             "ticks": ""
            },
            "colorscale": [
             [
              0,
              "#0d0887"
             ],
             [
              0.1111111111111111,
              "#46039f"
             ],
             [
              0.2222222222222222,
              "#7201a8"
             ],
             [
              0.3333333333333333,
              "#9c179e"
             ],
             [
              0.4444444444444444,
              "#bd3786"
             ],
             [
              0.5555555555555556,
              "#d8576b"
             ],
             [
              0.6666666666666666,
              "#ed7953"
             ],
             [
              0.7777777777777778,
              "#fb9f3a"
             ],
             [
              0.8888888888888888,
              "#fdca26"
             ],
             [
              1,
              "#f0f921"
             ]
            ],
            "type": "surface"
           }
          ],
          "table": [
           {
            "cells": {
             "fill": {
              "color": "#EBF0F8"
             },
             "line": {
              "color": "white"
             }
            },
            "header": {
             "fill": {
              "color": "#C8D4E3"
             },
             "line": {
              "color": "white"
             }
            },
            "type": "table"
           }
          ]
         },
         "layout": {
          "annotationdefaults": {
           "arrowcolor": "#2a3f5f",
           "arrowhead": 0,
           "arrowwidth": 1
          },
          "autotypenumbers": "strict",
          "coloraxis": {
           "colorbar": {
            "outlinewidth": 0,
            "ticks": ""
           }
          },
          "colorscale": {
           "diverging": [
            [
             0,
             "#8e0152"
            ],
            [
             0.1,
             "#c51b7d"
            ],
            [
             0.2,
             "#de77ae"
            ],
            [
             0.3,
             "#f1b6da"
            ],
            [
             0.4,
             "#fde0ef"
            ],
            [
             0.5,
             "#f7f7f7"
            ],
            [
             0.6,
             "#e6f5d0"
            ],
            [
             0.7,
             "#b8e186"
            ],
            [
             0.8,
             "#7fbc41"
            ],
            [
             0.9,
             "#4d9221"
            ],
            [
             1,
             "#276419"
            ]
           ],
           "sequential": [
            [
             0,
             "#0d0887"
            ],
            [
             0.1111111111111111,
             "#46039f"
            ],
            [
             0.2222222222222222,
             "#7201a8"
            ],
            [
             0.3333333333333333,
             "#9c179e"
            ],
            [
             0.4444444444444444,
             "#bd3786"
            ],
            [
             0.5555555555555556,
             "#d8576b"
            ],
            [
             0.6666666666666666,
             "#ed7953"
            ],
            [
             0.7777777777777778,
             "#fb9f3a"
            ],
            [
             0.8888888888888888,
             "#fdca26"
            ],
            [
             1,
             "#f0f921"
            ]
           ],
           "sequentialminus": [
            [
             0,
             "#0d0887"
            ],
            [
             0.1111111111111111,
             "#46039f"
            ],
            [
             0.2222222222222222,
             "#7201a8"
            ],
            [
             0.3333333333333333,
             "#9c179e"
            ],
            [
             0.4444444444444444,
             "#bd3786"
            ],
            [
             0.5555555555555556,
             "#d8576b"
            ],
            [
             0.6666666666666666,
             "#ed7953"
            ],
            [
             0.7777777777777778,
             "#fb9f3a"
            ],
            [
             0.8888888888888888,
             "#fdca26"
            ],
            [
             1,
             "#f0f921"
            ]
           ]
          },
          "colorway": [
           "#636efa",
           "#EF553B",
           "#00cc96",
           "#ab63fa",
           "#FFA15A",
           "#19d3f3",
           "#FF6692",
           "#B6E880",
           "#FF97FF",
           "#FECB52"
          ],
          "font": {
           "color": "#2a3f5f"
          },
          "geo": {
           "bgcolor": "white",
           "lakecolor": "white",
           "landcolor": "#E5ECF6",
           "showlakes": true,
           "showland": true,
           "subunitcolor": "white"
          },
          "hoverlabel": {
           "align": "left"
          },
          "hovermode": "closest",
          "mapbox": {
           "style": "light"
          },
          "paper_bgcolor": "white",
          "plot_bgcolor": "#E5ECF6",
          "polar": {
           "angularaxis": {
            "gridcolor": "white",
            "linecolor": "white",
            "ticks": ""
           },
           "bgcolor": "#E5ECF6",
           "radialaxis": {
            "gridcolor": "white",
            "linecolor": "white",
            "ticks": ""
           }
          },
          "scene": {
           "xaxis": {
            "backgroundcolor": "#E5ECF6",
            "gridcolor": "white",
            "gridwidth": 2,
            "linecolor": "white",
            "showbackground": true,
            "ticks": "",
            "zerolinecolor": "white"
           },
           "yaxis": {
            "backgroundcolor": "#E5ECF6",
            "gridcolor": "white",
            "gridwidth": 2,
            "linecolor": "white",
            "showbackground": true,
            "ticks": "",
            "zerolinecolor": "white"
           },
           "zaxis": {
            "backgroundcolor": "#E5ECF6",
            "gridcolor": "white",
            "gridwidth": 2,
            "linecolor": "white",
            "showbackground": true,
            "ticks": "",
            "zerolinecolor": "white"
           }
          },
          "shapedefaults": {
           "line": {
            "color": "#2a3f5f"
           }
          },
          "ternary": {
           "aaxis": {
            "gridcolor": "white",
            "linecolor": "white",
            "ticks": ""
           },
           "baxis": {
            "gridcolor": "white",
            "linecolor": "white",
            "ticks": ""
           },
           "bgcolor": "#E5ECF6",
           "caxis": {
            "gridcolor": "white",
            "linecolor": "white",
            "ticks": ""
           }
          },
          "title": {
           "x": 0.05
          },
          "xaxis": {
           "automargin": true,
           "gridcolor": "white",
           "linecolor": "white",
           "ticks": "",
           "title": {
            "standoff": 15
           },
           "zerolinecolor": "white",
           "zerolinewidth": 2
          },
          "yaxis": {
           "automargin": true,
           "gridcolor": "white",
           "linecolor": "white",
           "ticks": "",
           "title": {
            "standoff": 15
           },
           "zerolinecolor": "white",
           "zerolinewidth": 2
          }
         }
        },
        "xaxis": {
         "anchor": "y",
         "domain": [
          0,
          1
         ],
         "title": {
          "text": "x"
         }
        },
        "yaxis": {
         "anchor": "x",
         "domain": [
          0,
          1
         ],
         "title": {
          "text": "y"
         }
        }
       }
      },
      "text/html": [
       "<div>                            <div id=\"2f198ec2-a216-41a0-b71f-f07820b2588f\" class=\"plotly-graph-div\" style=\"height:525px; width:100%;\"></div>            <script type=\"text/javascript\">                require([\"plotly\"], function(Plotly) {                    window.PLOTLYENV=window.PLOTLYENV || {};                                    if (document.getElementById(\"2f198ec2-a216-41a0-b71f-f07820b2588f\")) {                    Plotly.newPlot(                        \"2f198ec2-a216-41a0-b71f-f07820b2588f\",                        [{\"hovertemplate\":\"color=0<br>x=%{x}<br>y=%{y}<extra></extra>\",\"legendgroup\":\"0\",\"marker\":{\"color\":\"#636efa\",\"symbol\":\"circle\",\"size\":12},\"mode\":\"markers\",\"name\":\"0\",\"orientation\":\"v\",\"showlegend\":true,\"x\":[1.7427119845537635,2.2246590104529114,2.0109638854414333,2.562253686380806,1.5038215379593023,2.215632400161359,2.895669053624834,2.1123779631495068,1.8594484231581412,2.024558799036794,2.130270594350516,1.9346660045047568,2.9026853351081923,1.4835492721142978,2.3147333889096013,1.8311529186213407,1.3842016047153556,1.6677159631582619,2.148991261567465,1.7088052879324855,1.4631091867026935,2.4815309069310647,1.6444975199830065,2.331603238088614,1.6051706151075738,1.72012785151108,2.189474699825603,1.7518178241370588,1.5389066278478818,2.2334705421306182,2.357800162088474,1.873837895294947,1.8691389800909917,1.527361989131506,2.4825068845494704,1.7691367861623815,2.589880927991414,2.0599925307572473],\"xaxis\":\"x\",\"y\":[0.830328116790485,0.4029333041750493,0.5990984310749885,0.41169448117439633,1.277626999318633,1.2156215856243135,1.3053837561618602,1.0785588734880527,1.7298323377536406,1.668667884680152,1.1834278065393846,1.2587690380463146,0.29117208242383597,1.3338921786090419,0.8039292199278392,1.7659530841555804,1.0953899255069786,1.7571928888325021,1.3371512263556076,1.1403257960192545,0.6899505877713178,0.8279091180470615,1.4003209895810707,1.312656662142874,0.20251666638801158,0.5257663175413804,1.4945373134471005,0.9119874111613949,0.7006446398029416,0.4057859810092092,1.0810214862464365,1.4477639416100292,0.5613089947895958,1.7722931934801185,0.9370617185612727,1.2020586426638618,1.0402878353041192,1.7013053821955628],\"yaxis\":\"y\",\"type\":\"scatter\"},{\"hovertemplate\":\"color=2<br>x=%{x}<br>y=%{y}<extra></extra>\",\"legendgroup\":\"2\",\"marker\":{\"color\":\"#EF553B\",\"symbol\":\"circle\",\"size\":12},\"mode\":\"markers\",\"name\":\"2\",\"orientation\":\"v\",\"showlegend\":true,\"x\":[-2.1620637852478226,-1.1247234137703774,-1.3014295950540067,-1.1843768512517994,-1.755327388686685,-1.4214516888777242,-1.3094331400513946,-1.5596782062491263,-1.5747745950547631,-1.0125048140207578,-1.1194011147446243,-1.3881545520104626,-1.2672329278269108,-1.8361928580270428,-1.8486720868773894,-1.516597092048879,-0.9370633367645662,-1.5720777495944571,-1.5653708988814554,-1.960578053546937,-1.783242440748963,-0.9378376007054954,-1.5418396368203093,-1.428007837914444,-1.297999070500763,-2.1195816873770785,-0.9483833878317888,-1.308421476596948,-1.7690656413820345,-1.5308951765848606,-1.71861978951228,-1.2042795392744652,-1.3192059320198675,-1.2759876556891916,-1.0137765803424088,-0.9360578560355906,-1.0260719749390155],\"xaxis\":\"x\",\"y\":[8.764481803253288,7.434548228293607,7.529379823843011,7.691762227926302,7.506655026852423,7.877918230834277,8.347061128812808,8.526829690052203,7.212946235713819,7.875249954811692,8.109439741155548,7.879290090462547,7.706360779066135,8.581618821469778,7.2294371380326945,7.811804732320298,8.148097130286796,7.469613170792259,8.259927341877868,8.110130736239837,7.6073926562071845,8.421290818945844,7.659530996807174,8.001985165172977,8.294537735913703,7.920410384198817,7.628136111316745,8.320444728330912,7.694928502635032,7.618997812334239,8.38047539599881,8.097789171530577,8.850985589425788,7.7871726413105655,7.576355429225714,7.763651968475774,7.783213243076129],\"yaxis\":\"y\",\"type\":\"scatter\"},{\"hovertemplate\":\"color=1<br>x=%{x}<br>y=%{y}<extra></extra>\",\"legendgroup\":\"1\",\"marker\":{\"color\":\"#00cc96\",\"symbol\":\"circle\",\"size\":12},\"mode\":\"markers\",\"name\":\"1\",\"orientation\":\"v\",\"showlegend\":true,\"x\":[0.8019730107129165,0.8197096113497264,0.24268082241177502,1.4890003865909804,0.6736628770473171,1.6486056614674178,0.5044212442663034,0.6908251363900615,1.5067208855683378,1.0459964201101073,1.1760085332819366,0.7464077666405022,0.5844113614146482,0.746926596758251,0.6103542516264907,0.4944313988667509,0.20844849276523936,0.573310126009341,1.1171505442894007,0.5679858145740361,1.318737054862642,0.9968614113321458,0.2500160471454168,0.4519526501939847,0.8360714390891774,0.5767664921129443,1.056111842560684,1.3043608315263866,0.9635880757941003,1.0062028286189206,1.0410896855688903,-0.17257533857884044,1.185818176425202,1.1573238170763922,1.3652663680332726,0.4125121665240282],\"xaxis\":\"x\",\"y\":[4.167751089689489,4.374144363545181,4.5120393424349885,3.7481157082892462,4.141988404755146,4.21146610875378,3.664779255717851,4.1405538027541775,4.222821151332832,4.473960461269368,4.45394077476681,3.7725028445933044,4.043304978304403,4.106653891723356,3.5269601563991353,4.778290604567402,5.181636255302696,4.477893451485058,3.9194442447626137,4.327162755556652,4.358541084870163,4.219554594936765,4.208054201352104,4.709159246577774,4.329061731451776,3.412428916747623,4.122985906154672,4.361829637289225,4.496536669187078,4.439899681431291,4.958210405581728,4.597915695396552,3.6124776686236393,3.995622786525249,3.9698130682654913,4.65365798757275],\"yaxis\":\"y\",\"type\":\"scatter\"},{\"hovertemplate\":\"color=3<br>x=%{x}<br>y=%{y}<extra></extra>\",\"legendgroup\":\"3\",\"marker\":{\"color\":\"#ab63fa\",\"symbol\":\"circle\",\"size\":12},\"mode\":\"markers\",\"name\":\"3\",\"orientation\":\"v\",\"showlegend\":true,\"x\":[-1.8137506747204084,-1.8929179298637968,-2.2202626697219867,-1.9519048283851181,-1.8165322944967062,-1.4564760711374864,-1.400937943652448,-2.0238765159647083,-1.6862012732859732,-1.9923132920249145,-0.5534478360455949,-1.7355222018126477,-1.238844826477989,-1.7956962442563187,-1.173056430272866,-1.1413302378656944,-1.5345631994595537,-1.245549860259671,-1.33508758437176,-1.7711916774294283,-1.0083548090695014,-1.5378507692014265,-2.1677314222640445,-1.5445812814242783,-1.6659598492931105,-1.7318936398047098,-2.047186107541766,-1.112517542520537,-1.888438362100134,-2.108689622597457,-1.179598265175755,-1.0320571950727044,-1.693035840296005,-0.8543859682007894,-1.117323504580239,-1.9570792634436551,-1.2914295159826161,-1.8597073615979964,-1.5867002731360353],\"xaxis\":\"x\",\"y\":[2.739109944885164,2.2579913138219916,2.946350158723272,2.733359899391976,1.9173508428321309,3.022363727623247,2.873714585993792,2.941356547000561,2.299154179295014,3.224599794559855,3.519319838579499,3.1345489245311806,2.190252041393247,2.8108174829519195,2.7079936678019485,2.6249207443480564,3.0885005423329095,2.1969563163100863,3.222490877096733,3.1051047821507645,3.4037106277496925,2.585768352190563,2.6958883138201353,2.392240187349584,2.163680548484633,2.9257478828943984,3.26942140710262,3.0613097051574822,2.6075848613455324,3.038055152540255,3.288459130616802,3.212750940158292,2.8101616314239557,1.986389000077033,3.0606304581692085,2.762190462268399,2.840686412283111,3.612238829266154,2.783876365602345],\"yaxis\":\"y\",\"type\":\"scatter\"},{\"hovertemplate\":\"color=-1<br>x=%{x}<br>y=%{y}<extra></extra>\",\"legendgroup\":\"-1\",\"marker\":{\"color\":\"#FFA15A\",\"symbol\":\"circle\",\"size\":12},\"mode\":\"markers\",\"name\":\"-1\",\"orientation\":\"v\",\"showlegend\":true,\"x\":[-0.5102149854110218,-0.21149326078837638,2.920591433349051,-1.0686849192080916,1.9976596593409186,1.666020725007801,3.1276826701216516,-0.3680952360333378,1.645983565754515,1.5299008848739692],\"xaxis\":\"x\",\"y\":[2.8988665430858336,7.358452895416898,1.563895316083428,6.587793275249601,3.649322773878946,4.964998773903519,1.322679429083623,8.011002010851161,5.156937456662153,4.844858259401375],\"yaxis\":\"y\",\"type\":\"scatter\"},{\"hovertemplate\":\"color=5<br>x=%{x}<br>y=%{y}<extra></extra>\",\"legendgroup\":\"5\",\"marker\":{\"color\":\"#19d3f3\",\"symbol\":\"circle\",\"size\":12},\"mode\":\"markers\",\"name\":\"5\",\"orientation\":\"v\",\"showlegend\":true,\"x\":[8.258251306789601,8.477412907215923,8.509107591276072,8.443873912450094,8.076627702922053,8.483104447473613],\"xaxis\":\"x\",\"y\":[-2.791297703120467,-2.1712028167497492,-2.156893409556667,-2.5462579253026645,-2.058325837522724,-2.1282491156717835],\"yaxis\":\"y\",\"type\":\"scatter\"},{\"hovertemplate\":\"color=4<br>x=%{x}<br>y=%{y}<extra></extra>\",\"legendgroup\":\"4\",\"marker\":{\"color\":\"#FF6692\",\"symbol\":\"circle\",\"size\":12},\"mode\":\"markers\",\"name\":\"4\",\"orientation\":\"v\",\"showlegend\":true,\"x\":[8.96545030603884,9.187461137908956,9.887294541666698,9.290638958348671,9.266198259799436,9.533589883998582,9.587560927118888,8.829775378062719,9.754084439712791,9.003860938405243,9.074840025488921,9.295527951763127,10.014915929513988,9.60948996041267,9.528535835054289,9.562746719298904,8.979723090049827,9.152775118418301,8.929390444262687,9.05741009371701,9.114210923079847,9.621219049851756,9.933215632028967,9.39945397741292,9.109143115044327,9.639789130140127,8.96372828505768,9.180148555746799,9.692586978372024,9.618253641760875,9.189981058066383,9.141928396784047,9.659320975952138,9.651989278853723],\"xaxis\":\"x\",\"y\":[-1.584371765199003,-2.508851904799498,-2.6414217565319174,-3.0766914195293245,-2.258751947750245,-2.173825117837517,-2.3294727233956243,-2.9934953768430597,-2.53519323521757,-2.833323267166623,-2.4573295963174746,-2.1089430741580153,-2.2572671335151453,-2.866194853326127,-2.431373418716265,-3.037950157369499,-2.5657048140199454,-2.8387747226459483,-2.978175786695156,-2.0520083892298646,-3.0585830083774104,-2.8639159115714383,-1.947521250726891,-2.778075248402757,-2.2606528886118817,-2.3046531083527118,-2.8775044548768,-1.9350891130480934,-2.1781853807738774,-2.1708378556219152,-2.6946114429118055,-2.673841118799676,-1.8176737834885373,-2.4434259845568724],\"yaxis\":\"y\",\"type\":\"scatter\"}],                        {\"template\":{\"data\":{\"histogram2dcontour\":[{\"type\":\"histogram2dcontour\",\"colorbar\":{\"outlinewidth\":0,\"ticks\":\"\"},\"colorscale\":[[0.0,\"#0d0887\"],[0.1111111111111111,\"#46039f\"],[0.2222222222222222,\"#7201a8\"],[0.3333333333333333,\"#9c179e\"],[0.4444444444444444,\"#bd3786\"],[0.5555555555555556,\"#d8576b\"],[0.6666666666666666,\"#ed7953\"],[0.7777777777777778,\"#fb9f3a\"],[0.8888888888888888,\"#fdca26\"],[1.0,\"#f0f921\"]]}],\"choropleth\":[{\"type\":\"choropleth\",\"colorbar\":{\"outlinewidth\":0,\"ticks\":\"\"}}],\"histogram2d\":[{\"type\":\"histogram2d\",\"colorbar\":{\"outlinewidth\":0,\"ticks\":\"\"},\"colorscale\":[[0.0,\"#0d0887\"],[0.1111111111111111,\"#46039f\"],[0.2222222222222222,\"#7201a8\"],[0.3333333333333333,\"#9c179e\"],[0.4444444444444444,\"#bd3786\"],[0.5555555555555556,\"#d8576b\"],[0.6666666666666666,\"#ed7953\"],[0.7777777777777778,\"#fb9f3a\"],[0.8888888888888888,\"#fdca26\"],[1.0,\"#f0f921\"]]}],\"heatmap\":[{\"type\":\"heatmap\",\"colorbar\":{\"outlinewidth\":0,\"ticks\":\"\"},\"colorscale\":[[0.0,\"#0d0887\"],[0.1111111111111111,\"#46039f\"],[0.2222222222222222,\"#7201a8\"],[0.3333333333333333,\"#9c179e\"],[0.4444444444444444,\"#bd3786\"],[0.5555555555555556,\"#d8576b\"],[0.6666666666666666,\"#ed7953\"],[0.7777777777777778,\"#fb9f3a\"],[0.8888888888888888,\"#fdca26\"],[1.0,\"#f0f921\"]]}],\"heatmapgl\":[{\"type\":\"heatmapgl\",\"colorbar\":{\"outlinewidth\":0,\"ticks\":\"\"},\"colorscale\":[[0.0,\"#0d0887\"],[0.1111111111111111,\"#46039f\"],[0.2222222222222222,\"#7201a8\"],[0.3333333333333333,\"#9c179e\"],[0.4444444444444444,\"#bd3786\"],[0.5555555555555556,\"#d8576b\"],[0.6666666666666666,\"#ed7953\"],[0.7777777777777778,\"#fb9f3a\"],[0.8888888888888888,\"#fdca26\"],[1.0,\"#f0f921\"]]}],\"contourcarpet\":[{\"type\":\"contourcarpet\",\"colorbar\":{\"outlinewidth\":0,\"ticks\":\"\"}}],\"contour\":[{\"type\":\"contour\",\"colorbar\":{\"outlinewidth\":0,\"ticks\":\"\"},\"colorscale\":[[0.0,\"#0d0887\"],[0.1111111111111111,\"#46039f\"],[0.2222222222222222,\"#7201a8\"],[0.3333333333333333,\"#9c179e\"],[0.4444444444444444,\"#bd3786\"],[0.5555555555555556,\"#d8576b\"],[0.6666666666666666,\"#ed7953\"],[0.7777777777777778,\"#fb9f3a\"],[0.8888888888888888,\"#fdca26\"],[1.0,\"#f0f921\"]]}],\"surface\":[{\"type\":\"surface\",\"colorbar\":{\"outlinewidth\":0,\"ticks\":\"\"},\"colorscale\":[[0.0,\"#0d0887\"],[0.1111111111111111,\"#46039f\"],[0.2222222222222222,\"#7201a8\"],[0.3333333333333333,\"#9c179e\"],[0.4444444444444444,\"#bd3786\"],[0.5555555555555556,\"#d8576b\"],[0.6666666666666666,\"#ed7953\"],[0.7777777777777778,\"#fb9f3a\"],[0.8888888888888888,\"#fdca26\"],[1.0,\"#f0f921\"]]}],\"mesh3d\":[{\"type\":\"mesh3d\",\"colorbar\":{\"outlinewidth\":0,\"ticks\":\"\"}}],\"scatter\":[{\"fillpattern\":{\"fillmode\":\"overlay\",\"size\":10,\"solidity\":0.2},\"type\":\"scatter\"}],\"parcoords\":[{\"type\":\"parcoords\",\"line\":{\"colorbar\":{\"outlinewidth\":0,\"ticks\":\"\"}}}],\"scatterpolargl\":[{\"type\":\"scatterpolargl\",\"marker\":{\"colorbar\":{\"outlinewidth\":0,\"ticks\":\"\"}}}],\"bar\":[{\"error_x\":{\"color\":\"#2a3f5f\"},\"error_y\":{\"color\":\"#2a3f5f\"},\"marker\":{\"line\":{\"color\":\"#E5ECF6\",\"width\":0.5},\"pattern\":{\"fillmode\":\"overlay\",\"size\":10,\"solidity\":0.2}},\"type\":\"bar\"}],\"scattergeo\":[{\"type\":\"scattergeo\",\"marker\":{\"colorbar\":{\"outlinewidth\":0,\"ticks\":\"\"}}}],\"scatterpolar\":[{\"type\":\"scatterpolar\",\"marker\":{\"colorbar\":{\"outlinewidth\":0,\"ticks\":\"\"}}}],\"histogram\":[{\"marker\":{\"pattern\":{\"fillmode\":\"overlay\",\"size\":10,\"solidity\":0.2}},\"type\":\"histogram\"}],\"scattergl\":[{\"type\":\"scattergl\",\"marker\":{\"colorbar\":{\"outlinewidth\":0,\"ticks\":\"\"}}}],\"scatter3d\":[{\"type\":\"scatter3d\",\"line\":{\"colorbar\":{\"outlinewidth\":0,\"ticks\":\"\"}},\"marker\":{\"colorbar\":{\"outlinewidth\":0,\"ticks\":\"\"}}}],\"scattermapbox\":[{\"type\":\"scattermapbox\",\"marker\":{\"colorbar\":{\"outlinewidth\":0,\"ticks\":\"\"}}}],\"scatterternary\":[{\"type\":\"scatterternary\",\"marker\":{\"colorbar\":{\"outlinewidth\":0,\"ticks\":\"\"}}}],\"scattercarpet\":[{\"type\":\"scattercarpet\",\"marker\":{\"colorbar\":{\"outlinewidth\":0,\"ticks\":\"\"}}}],\"carpet\":[{\"aaxis\":{\"endlinecolor\":\"#2a3f5f\",\"gridcolor\":\"white\",\"linecolor\":\"white\",\"minorgridcolor\":\"white\",\"startlinecolor\":\"#2a3f5f\"},\"baxis\":{\"endlinecolor\":\"#2a3f5f\",\"gridcolor\":\"white\",\"linecolor\":\"white\",\"minorgridcolor\":\"white\",\"startlinecolor\":\"#2a3f5f\"},\"type\":\"carpet\"}],\"table\":[{\"cells\":{\"fill\":{\"color\":\"#EBF0F8\"},\"line\":{\"color\":\"white\"}},\"header\":{\"fill\":{\"color\":\"#C8D4E3\"},\"line\":{\"color\":\"white\"}},\"type\":\"table\"}],\"barpolar\":[{\"marker\":{\"line\":{\"color\":\"#E5ECF6\",\"width\":0.5},\"pattern\":{\"fillmode\":\"overlay\",\"size\":10,\"solidity\":0.2}},\"type\":\"barpolar\"}],\"pie\":[{\"automargin\":true,\"type\":\"pie\"}]},\"layout\":{\"autotypenumbers\":\"strict\",\"colorway\":[\"#636efa\",\"#EF553B\",\"#00cc96\",\"#ab63fa\",\"#FFA15A\",\"#19d3f3\",\"#FF6692\",\"#B6E880\",\"#FF97FF\",\"#FECB52\"],\"font\":{\"color\":\"#2a3f5f\"},\"hovermode\":\"closest\",\"hoverlabel\":{\"align\":\"left\"},\"paper_bgcolor\":\"white\",\"plot_bgcolor\":\"#E5ECF6\",\"polar\":{\"bgcolor\":\"#E5ECF6\",\"angularaxis\":{\"gridcolor\":\"white\",\"linecolor\":\"white\",\"ticks\":\"\"},\"radialaxis\":{\"gridcolor\":\"white\",\"linecolor\":\"white\",\"ticks\":\"\"}},\"ternary\":{\"bgcolor\":\"#E5ECF6\",\"aaxis\":{\"gridcolor\":\"white\",\"linecolor\":\"white\",\"ticks\":\"\"},\"baxis\":{\"gridcolor\":\"white\",\"linecolor\":\"white\",\"ticks\":\"\"},\"caxis\":{\"gridcolor\":\"white\",\"linecolor\":\"white\",\"ticks\":\"\"}},\"coloraxis\":{\"colorbar\":{\"outlinewidth\":0,\"ticks\":\"\"}},\"colorscale\":{\"sequential\":[[0.0,\"#0d0887\"],[0.1111111111111111,\"#46039f\"],[0.2222222222222222,\"#7201a8\"],[0.3333333333333333,\"#9c179e\"],[0.4444444444444444,\"#bd3786\"],[0.5555555555555556,\"#d8576b\"],[0.6666666666666666,\"#ed7953\"],[0.7777777777777778,\"#fb9f3a\"],[0.8888888888888888,\"#fdca26\"],[1.0,\"#f0f921\"]],\"sequentialminus\":[[0.0,\"#0d0887\"],[0.1111111111111111,\"#46039f\"],[0.2222222222222222,\"#7201a8\"],[0.3333333333333333,\"#9c179e\"],[0.4444444444444444,\"#bd3786\"],[0.5555555555555556,\"#d8576b\"],[0.6666666666666666,\"#ed7953\"],[0.7777777777777778,\"#fb9f3a\"],[0.8888888888888888,\"#fdca26\"],[1.0,\"#f0f921\"]],\"diverging\":[[0,\"#8e0152\"],[0.1,\"#c51b7d\"],[0.2,\"#de77ae\"],[0.3,\"#f1b6da\"],[0.4,\"#fde0ef\"],[0.5,\"#f7f7f7\"],[0.6,\"#e6f5d0\"],[0.7,\"#b8e186\"],[0.8,\"#7fbc41\"],[0.9,\"#4d9221\"],[1,\"#276419\"]]},\"xaxis\":{\"gridcolor\":\"white\",\"linecolor\":\"white\",\"ticks\":\"\",\"title\":{\"standoff\":15},\"zerolinecolor\":\"white\",\"automargin\":true,\"zerolinewidth\":2},\"yaxis\":{\"gridcolor\":\"white\",\"linecolor\":\"white\",\"ticks\":\"\",\"title\":{\"standoff\":15},\"zerolinecolor\":\"white\",\"automargin\":true,\"zerolinewidth\":2},\"scene\":{\"xaxis\":{\"backgroundcolor\":\"#E5ECF6\",\"gridcolor\":\"white\",\"linecolor\":\"white\",\"showbackground\":true,\"ticks\":\"\",\"zerolinecolor\":\"white\",\"gridwidth\":2},\"yaxis\":{\"backgroundcolor\":\"#E5ECF6\",\"gridcolor\":\"white\",\"linecolor\":\"white\",\"showbackground\":true,\"ticks\":\"\",\"zerolinecolor\":\"white\",\"gridwidth\":2},\"zaxis\":{\"backgroundcolor\":\"#E5ECF6\",\"gridcolor\":\"white\",\"linecolor\":\"white\",\"showbackground\":true,\"ticks\":\"\",\"zerolinecolor\":\"white\",\"gridwidth\":2}},\"shapedefaults\":{\"line\":{\"color\":\"#2a3f5f\"}},\"annotationdefaults\":{\"arrowcolor\":\"#2a3f5f\",\"arrowhead\":0,\"arrowwidth\":1},\"geo\":{\"bgcolor\":\"white\",\"landcolor\":\"#E5ECF6\",\"subunitcolor\":\"white\",\"showland\":true,\"showlakes\":true,\"lakecolor\":\"white\"},\"title\":{\"x\":0.05},\"mapbox\":{\"style\":\"light\"}}},\"xaxis\":{\"anchor\":\"y\",\"domain\":[0.0,1.0],\"title\":{\"text\":\"x\"}},\"yaxis\":{\"anchor\":\"x\",\"domain\":[0.0,1.0],\"title\":{\"text\":\"y\"}},\"legend\":{\"title\":{\"text\":\"color\"},\"tracegroupgap\":0},\"margin\":{\"t\":60}},                        {\"responsive\": true}                    ).then(function(){\n",
       "                            \n",
       "var gd = document.getElementById('2f198ec2-a216-41a0-b71f-f07820b2588f');\n",
       "var x = new MutationObserver(function (mutations, observer) {{\n",
       "        var display = window.getComputedStyle(gd).display;\n",
       "        if (!display || display === 'none') {{\n",
       "            console.log([gd, 'removed!']);\n",
       "            Plotly.purge(gd);\n",
       "            observer.disconnect();\n",
       "        }}\n",
       "}});\n",
       "\n",
       "// Listen for the removal of the full notebook cells\n",
       "var notebookContainer = gd.closest('#notebook-container');\n",
       "if (notebookContainer) {{\n",
       "    x.observe(notebookContainer, {childList: true});\n",
       "}}\n",
       "\n",
       "// Listen for the clearing of the current output cell\n",
       "var outputEl = gd.closest('.output');\n",
       "if (outputEl) {{\n",
       "    x.observe(outputEl, {childList: true});\n",
       "}}\n",
       "\n",
       "                        })                };                });            </script>        </div>"
      ]
     },
     "metadata": {},
     "output_type": "display_data"
    }
   ],
   "source": [
    "dbscan = DBSCAN().fit(X)\n",
    "labels = [str(i) for i in dbscan.labels_]\n",
    "fig = px.scatter(x=X[:, 0], y=X[:, 1], color=labels);\n",
    "fig.update_traces(marker=dict(size=12))\n",
    "fig.show()"
   ]
  },
  {
   "cell_type": "markdown",
   "metadata": {
    "id": "BXenIc2xPoZf"
   },
   "source": [
    "#### DBSCAN - with hyperparameters"
   ]
  },
  {
   "cell_type": "code",
   "execution_count": 103,
   "metadata": {
    "colab": {
     "base_uri": "https://localhost:8080/",
     "height": 286
    },
    "id": "1AdAz5Xl2_K_",
    "outputId": "9b3454e1-dad8-46da-c973-4f5a23126449"
   },
   "outputs": [
    {
     "data": {
      "application/vnd.plotly.v1+json": {
       "config": {
        "plotlyServerURL": "https://plot.ly"
       },
       "data": [
        {
         "hovertemplate": "color=0<br>x=%{x}<br>y=%{y}<extra></extra>",
         "legendgroup": "0",
         "marker": {
          "color": "#636efa",
          "size": 12,
          "symbol": "circle"
         },
         "mode": "markers",
         "name": "0",
         "orientation": "v",
         "showlegend": true,
         "type": "scatter",
         "x": [
          1.7427119845537635,
          2.2246590104529114,
          2.0109638854414333,
          2.562253686380806,
          1.5038215379593023,
          2.215632400161359,
          2.895669053624834,
          2.1123779631495068,
          1.8594484231581412,
          2.024558799036794,
          2.920591433349051,
          2.130270594350516,
          1.9346660045047568,
          2.9026853351081923,
          1.4835492721142978,
          2.3147333889096013,
          1.8311529186213407,
          1.3842016047153556,
          1.6677159631582619,
          2.148991261567465,
          1.7088052879324855,
          1.4631091867026935,
          2.4815309069310647,
          1.6444975199830065,
          2.331603238088614,
          1.6051706151075738,
          1.72012785151108,
          2.189474699825603,
          3.1276826701216516,
          1.7518178241370588,
          1.5389066278478818,
          2.2334705421306182,
          2.357800162088474,
          1.873837895294947,
          1.8691389800909917,
          1.527361989131506,
          2.4825068845494704,
          1.7691367861623815,
          2.589880927991414,
          2.0599925307572473
         ],
         "xaxis": "x",
         "y": [
          0.830328116790485,
          0.4029333041750493,
          0.5990984310749885,
          0.41169448117439633,
          1.277626999318633,
          1.2156215856243135,
          1.3053837561618602,
          1.0785588734880527,
          1.7298323377536406,
          1.668667884680152,
          1.563895316083428,
          1.1834278065393846,
          1.2587690380463146,
          0.29117208242383597,
          1.3338921786090419,
          0.8039292199278392,
          1.7659530841555804,
          1.0953899255069786,
          1.7571928888325021,
          1.3371512263556076,
          1.1403257960192545,
          0.6899505877713178,
          0.8279091180470615,
          1.4003209895810707,
          1.312656662142874,
          0.20251666638801158,
          0.5257663175413804,
          1.4945373134471005,
          1.322679429083623,
          0.9119874111613949,
          0.7006446398029416,
          0.4057859810092092,
          1.0810214862464365,
          1.4477639416100292,
          0.5613089947895958,
          1.7722931934801185,
          0.9370617185612727,
          1.2020586426638618,
          1.0402878353041192,
          1.7013053821955628
         ],
         "yaxis": "y"
        },
        {
         "hovertemplate": "color=1<br>x=%{x}<br>y=%{y}<extra></extra>",
         "legendgroup": "1",
         "marker": {
          "color": "#EF553B",
          "size": 12,
          "symbol": "circle"
         },
         "mode": "markers",
         "name": "1",
         "orientation": "v",
         "showlegend": true,
         "type": "scatter",
         "x": [
          -2.1620637852478226,
          -1.1247234137703774,
          -1.3014295950540067,
          -1.1843768512517994,
          -1.755327388686685,
          -1.4214516888777242,
          -1.3094331400513946,
          -0.21149326078837638,
          -1.5596782062491263,
          -1.5747745950547631,
          -1.0125048140207578,
          -1.1194011147446243,
          -1.3881545520104626,
          -1.2672329278269108,
          -1.0686849192080916,
          -1.8361928580270428,
          -1.8486720868773894,
          -1.516597092048879,
          -0.9370633367645662,
          -1.5720777495944571,
          -1.5653708988814554,
          -1.960578053546937,
          -1.783242440748963,
          -0.9378376007054954,
          -1.5418396368203093,
          -1.428007837914444,
          -0.3680952360333378,
          -1.297999070500763,
          -2.1195816873770785,
          -0.9483833878317888,
          -1.308421476596948,
          -1.7690656413820345,
          -1.5308951765848606,
          -1.71861978951228,
          -1.2042795392744652,
          -1.3192059320198675,
          -1.2759876556891916,
          -1.0137765803424088,
          -0.9360578560355906,
          -1.0260719749390155
         ],
         "xaxis": "x",
         "y": [
          8.764481803253288,
          7.434548228293607,
          7.529379823843011,
          7.691762227926302,
          7.506655026852423,
          7.877918230834277,
          8.347061128812808,
          7.358452895416898,
          8.526829690052203,
          7.212946235713819,
          7.875249954811692,
          8.109439741155548,
          7.879290090462547,
          7.706360779066135,
          6.587793275249601,
          8.581618821469778,
          7.2294371380326945,
          7.811804732320298,
          8.148097130286796,
          7.469613170792259,
          8.259927341877868,
          8.110130736239837,
          7.6073926562071845,
          8.421290818945844,
          7.659530996807174,
          8.001985165172977,
          8.011002010851161,
          8.294537735913703,
          7.920410384198817,
          7.628136111316745,
          8.320444728330912,
          7.694928502635032,
          7.618997812334239,
          8.38047539599881,
          8.097789171530577,
          8.850985589425788,
          7.7871726413105655,
          7.576355429225714,
          7.763651968475774,
          7.783213243076129
         ],
         "yaxis": "y"
        },
        {
         "hovertemplate": "color=2<br>x=%{x}<br>y=%{y}<extra></extra>",
         "legendgroup": "2",
         "marker": {
          "color": "#00cc96",
          "size": 12,
          "symbol": "circle"
         },
         "mode": "markers",
         "name": "2",
         "orientation": "v",
         "showlegend": true,
         "type": "scatter",
         "x": [
          0.8019730107129165,
          0.8197096113497264,
          0.24268082241177502,
          1.4890003865909804,
          0.6736628770473171,
          1.6486056614674178,
          0.5044212442663034,
          0.6908251363900615,
          1.5067208855683378,
          1.0459964201101073,
          1.1760085332819366,
          0.7464077666405022,
          0.5844113614146482,
          0.746926596758251,
          0.6103542516264907,
          0.4944313988667509,
          0.20844849276523936,
          0.573310126009341,
          1.1171505442894007,
          0.5679858145740361,
          1.318737054862642,
          0.9968614113321458,
          0.2500160471454168,
          0.4519526501939847,
          0.8360714390891774,
          0.5767664921129443,
          1.056111842560684,
          1.3043608315263866,
          0.9635880757941003,
          1.9976596593409186,
          1.0062028286189206,
          1.666020725007801,
          1.0410896855688903,
          -0.17257533857884044,
          1.185818176425202,
          1.1573238170763922,
          1.645983565754515,
          1.3652663680332726,
          1.5299008848739692,
          0.4125121665240282
         ],
         "xaxis": "x",
         "y": [
          4.167751089689489,
          4.374144363545181,
          4.5120393424349885,
          3.7481157082892462,
          4.141988404755146,
          4.21146610875378,
          3.664779255717851,
          4.1405538027541775,
          4.222821151332832,
          4.473960461269368,
          4.45394077476681,
          3.7725028445933044,
          4.043304978304403,
          4.106653891723356,
          3.5269601563991353,
          4.778290604567402,
          5.181636255302696,
          4.477893451485058,
          3.9194442447626137,
          4.327162755556652,
          4.358541084870163,
          4.219554594936765,
          4.208054201352104,
          4.709159246577774,
          4.329061731451776,
          3.412428916747623,
          4.122985906154672,
          4.361829637289225,
          4.496536669187078,
          3.649322773878946,
          4.439899681431291,
          4.964998773903519,
          4.958210405581728,
          4.597915695396552,
          3.6124776686236393,
          3.995622786525249,
          5.156937456662153,
          3.9698130682654913,
          4.844858259401375,
          4.65365798757275
         ],
         "yaxis": "y"
        },
        {
         "hovertemplate": "color=3<br>x=%{x}<br>y=%{y}<extra></extra>",
         "legendgroup": "3",
         "marker": {
          "color": "#ab63fa",
          "size": 12,
          "symbol": "circle"
         },
         "mode": "markers",
         "name": "3",
         "orientation": "v",
         "showlegend": true,
         "type": "scatter",
         "x": [
          -1.8137506747204084,
          -0.5102149854110218,
          -1.8929179298637968,
          -2.2202626697219867,
          -1.9519048283851181,
          -1.8165322944967062,
          -1.4564760711374864,
          -1.400937943652448,
          -2.0238765159647083,
          -1.6862012732859732,
          -1.9923132920249145,
          -0.5534478360455949,
          -1.7355222018126477,
          -1.238844826477989,
          -1.7956962442563187,
          -1.173056430272866,
          -1.1413302378656944,
          -1.5345631994595537,
          -1.245549860259671,
          -1.33508758437176,
          -1.7711916774294283,
          -1.0083548090695014,
          -1.5378507692014265,
          -2.1677314222640445,
          -1.5445812814242783,
          -1.6659598492931105,
          -1.7318936398047098,
          -2.047186107541766,
          -1.112517542520537,
          -1.888438362100134,
          -2.108689622597457,
          -1.179598265175755,
          -1.0320571950727044,
          -1.693035840296005,
          -0.8543859682007894,
          -1.117323504580239,
          -1.9570792634436551,
          -1.2914295159826161,
          -1.8597073615979964,
          -1.5867002731360353
         ],
         "xaxis": "x",
         "y": [
          2.739109944885164,
          2.8988665430858336,
          2.2579913138219916,
          2.946350158723272,
          2.733359899391976,
          1.9173508428321309,
          3.022363727623247,
          2.873714585993792,
          2.941356547000561,
          2.299154179295014,
          3.224599794559855,
          3.519319838579499,
          3.1345489245311806,
          2.190252041393247,
          2.8108174829519195,
          2.7079936678019485,
          2.6249207443480564,
          3.0885005423329095,
          2.1969563163100863,
          3.222490877096733,
          3.1051047821507645,
          3.4037106277496925,
          2.585768352190563,
          2.6958883138201353,
          2.392240187349584,
          2.163680548484633,
          2.9257478828943984,
          3.26942140710262,
          3.0613097051574822,
          2.6075848613455324,
          3.038055152540255,
          3.288459130616802,
          3.212750940158292,
          2.8101616314239557,
          1.986389000077033,
          3.0606304581692085,
          2.762190462268399,
          2.840686412283111,
          3.612238829266154,
          2.783876365602345
         ],
         "yaxis": "y"
        },
        {
         "hovertemplate": "color=4<br>x=%{x}<br>y=%{y}<extra></extra>",
         "legendgroup": "4",
         "marker": {
          "color": "#FFA15A",
          "size": 12,
          "symbol": "circle"
         },
         "mode": "markers",
         "name": "4",
         "orientation": "v",
         "showlegend": true,
         "type": "scatter",
         "x": [
          8.258251306789601,
          8.96545030603884,
          9.187461137908956,
          9.887294541666698,
          9.290638958348671,
          9.266198259799436,
          9.533589883998582,
          9.587560927118888,
          8.829775378062719,
          9.754084439712791,
          9.003860938405243,
          9.074840025488921,
          9.295527951763127,
          10.014915929513988,
          9.60948996041267,
          9.528535835054289,
          9.562746719298904,
          8.477412907215923,
          8.979723090049827,
          9.152775118418301,
          8.929390444262687,
          8.509107591276072,
          9.05741009371701,
          8.443873912450094,
          8.076627702922053,
          9.114210923079847,
          9.621219049851756,
          9.933215632028967,
          9.39945397741292,
          9.109143115044327,
          9.639789130140127,
          8.96372828505768,
          8.483104447473613,
          9.180148555746799,
          9.692586978372024,
          9.618253641760875,
          9.189981058066383,
          9.141928396784047,
          9.659320975952138,
          9.651989278853723
         ],
         "xaxis": "x",
         "y": [
          -2.791297703120467,
          -1.584371765199003,
          -2.508851904799498,
          -2.6414217565319174,
          -3.0766914195293245,
          -2.258751947750245,
          -2.173825117837517,
          -2.3294727233956243,
          -2.9934953768430597,
          -2.53519323521757,
          -2.833323267166623,
          -2.4573295963174746,
          -2.1089430741580153,
          -2.2572671335151453,
          -2.866194853326127,
          -2.431373418716265,
          -3.037950157369499,
          -2.1712028167497492,
          -2.5657048140199454,
          -2.8387747226459483,
          -2.978175786695156,
          -2.156893409556667,
          -2.0520083892298646,
          -2.5462579253026645,
          -2.058325837522724,
          -3.0585830083774104,
          -2.8639159115714383,
          -1.947521250726891,
          -2.778075248402757,
          -2.2606528886118817,
          -2.3046531083527118,
          -2.8775044548768,
          -2.1282491156717835,
          -1.9350891130480934,
          -2.1781853807738774,
          -2.1708378556219152,
          -2.6946114429118055,
          -2.673841118799676,
          -1.8176737834885373,
          -2.4434259845568724
         ],
         "yaxis": "y"
        }
       ],
       "layout": {
        "legend": {
         "title": {
          "text": "color"
         },
         "tracegroupgap": 0
        },
        "margin": {
         "t": 60
        },
        "template": {
         "data": {
          "bar": [
           {
            "error_x": {
             "color": "#2a3f5f"
            },
            "error_y": {
             "color": "#2a3f5f"
            },
            "marker": {
             "line": {
              "color": "#E5ECF6",
              "width": 0.5
             },
             "pattern": {
              "fillmode": "overlay",
              "size": 10,
              "solidity": 0.2
             }
            },
            "type": "bar"
           }
          ],
          "barpolar": [
           {
            "marker": {
             "line": {
              "color": "#E5ECF6",
              "width": 0.5
             },
             "pattern": {
              "fillmode": "overlay",
              "size": 10,
              "solidity": 0.2
             }
            },
            "type": "barpolar"
           }
          ],
          "carpet": [
           {
            "aaxis": {
             "endlinecolor": "#2a3f5f",
             "gridcolor": "white",
             "linecolor": "white",
             "minorgridcolor": "white",
             "startlinecolor": "#2a3f5f"
            },
            "baxis": {
             "endlinecolor": "#2a3f5f",
             "gridcolor": "white",
             "linecolor": "white",
             "minorgridcolor": "white",
             "startlinecolor": "#2a3f5f"
            },
            "type": "carpet"
           }
          ],
          "choropleth": [
           {
            "colorbar": {
             "outlinewidth": 0,
             "ticks": ""
            },
            "type": "choropleth"
           }
          ],
          "contour": [
           {
            "colorbar": {
             "outlinewidth": 0,
             "ticks": ""
            },
            "colorscale": [
             [
              0,
              "#0d0887"
             ],
             [
              0.1111111111111111,
              "#46039f"
             ],
             [
              0.2222222222222222,
              "#7201a8"
             ],
             [
              0.3333333333333333,
              "#9c179e"
             ],
             [
              0.4444444444444444,
              "#bd3786"
             ],
             [
              0.5555555555555556,
              "#d8576b"
             ],
             [
              0.6666666666666666,
              "#ed7953"
             ],
             [
              0.7777777777777778,
              "#fb9f3a"
             ],
             [
              0.8888888888888888,
              "#fdca26"
             ],
             [
              1,
              "#f0f921"
             ]
            ],
            "type": "contour"
           }
          ],
          "contourcarpet": [
           {
            "colorbar": {
             "outlinewidth": 0,
             "ticks": ""
            },
            "type": "contourcarpet"
           }
          ],
          "heatmap": [
           {
            "colorbar": {
             "outlinewidth": 0,
             "ticks": ""
            },
            "colorscale": [
             [
              0,
              "#0d0887"
             ],
             [
              0.1111111111111111,
              "#46039f"
             ],
             [
              0.2222222222222222,
              "#7201a8"
             ],
             [
              0.3333333333333333,
              "#9c179e"
             ],
             [
              0.4444444444444444,
              "#bd3786"
             ],
             [
              0.5555555555555556,
              "#d8576b"
             ],
             [
              0.6666666666666666,
              "#ed7953"
             ],
             [
              0.7777777777777778,
              "#fb9f3a"
             ],
             [
              0.8888888888888888,
              "#fdca26"
             ],
             [
              1,
              "#f0f921"
             ]
            ],
            "type": "heatmap"
           }
          ],
          "heatmapgl": [
           {
            "colorbar": {
             "outlinewidth": 0,
             "ticks": ""
            },
            "colorscale": [
             [
              0,
              "#0d0887"
             ],
             [
              0.1111111111111111,
              "#46039f"
             ],
             [
              0.2222222222222222,
              "#7201a8"
             ],
             [
              0.3333333333333333,
              "#9c179e"
             ],
             [
              0.4444444444444444,
              "#bd3786"
             ],
             [
              0.5555555555555556,
              "#d8576b"
             ],
             [
              0.6666666666666666,
              "#ed7953"
             ],
             [
              0.7777777777777778,
              "#fb9f3a"
             ],
             [
              0.8888888888888888,
              "#fdca26"
             ],
             [
              1,
              "#f0f921"
             ]
            ],
            "type": "heatmapgl"
           }
          ],
          "histogram": [
           {
            "marker": {
             "pattern": {
              "fillmode": "overlay",
              "size": 10,
              "solidity": 0.2
             }
            },
            "type": "histogram"
           }
          ],
          "histogram2d": [
           {
            "colorbar": {
             "outlinewidth": 0,
             "ticks": ""
            },
            "colorscale": [
             [
              0,
              "#0d0887"
             ],
             [
              0.1111111111111111,
              "#46039f"
             ],
             [
              0.2222222222222222,
              "#7201a8"
             ],
             [
              0.3333333333333333,
              "#9c179e"
             ],
             [
              0.4444444444444444,
              "#bd3786"
             ],
             [
              0.5555555555555556,
              "#d8576b"
             ],
             [
              0.6666666666666666,
              "#ed7953"
             ],
             [
              0.7777777777777778,
              "#fb9f3a"
             ],
             [
              0.8888888888888888,
              "#fdca26"
             ],
             [
              1,
              "#f0f921"
             ]
            ],
            "type": "histogram2d"
           }
          ],
          "histogram2dcontour": [
           {
            "colorbar": {
             "outlinewidth": 0,
             "ticks": ""
            },
            "colorscale": [
             [
              0,
              "#0d0887"
             ],
             [
              0.1111111111111111,
              "#46039f"
             ],
             [
              0.2222222222222222,
              "#7201a8"
             ],
             [
              0.3333333333333333,
              "#9c179e"
             ],
             [
              0.4444444444444444,
              "#bd3786"
             ],
             [
              0.5555555555555556,
              "#d8576b"
             ],
             [
              0.6666666666666666,
              "#ed7953"
             ],
             [
              0.7777777777777778,
              "#fb9f3a"
             ],
             [
              0.8888888888888888,
              "#fdca26"
             ],
             [
              1,
              "#f0f921"
             ]
            ],
            "type": "histogram2dcontour"
           }
          ],
          "mesh3d": [
           {
            "colorbar": {
             "outlinewidth": 0,
             "ticks": ""
            },
            "type": "mesh3d"
           }
          ],
          "parcoords": [
           {
            "line": {
             "colorbar": {
              "outlinewidth": 0,
              "ticks": ""
             }
            },
            "type": "parcoords"
           }
          ],
          "pie": [
           {
            "automargin": true,
            "type": "pie"
           }
          ],
          "scatter": [
           {
            "fillpattern": {
             "fillmode": "overlay",
             "size": 10,
             "solidity": 0.2
            },
            "type": "scatter"
           }
          ],
          "scatter3d": [
           {
            "line": {
             "colorbar": {
              "outlinewidth": 0,
              "ticks": ""
             }
            },
            "marker": {
             "colorbar": {
              "outlinewidth": 0,
              "ticks": ""
             }
            },
            "type": "scatter3d"
           }
          ],
          "scattercarpet": [
           {
            "marker": {
             "colorbar": {
              "outlinewidth": 0,
              "ticks": ""
             }
            },
            "type": "scattercarpet"
           }
          ],
          "scattergeo": [
           {
            "marker": {
             "colorbar": {
              "outlinewidth": 0,
              "ticks": ""
             }
            },
            "type": "scattergeo"
           }
          ],
          "scattergl": [
           {
            "marker": {
             "colorbar": {
              "outlinewidth": 0,
              "ticks": ""
             }
            },
            "type": "scattergl"
           }
          ],
          "scattermapbox": [
           {
            "marker": {
             "colorbar": {
              "outlinewidth": 0,
              "ticks": ""
             }
            },
            "type": "scattermapbox"
           }
          ],
          "scatterpolar": [
           {
            "marker": {
             "colorbar": {
              "outlinewidth": 0,
              "ticks": ""
             }
            },
            "type": "scatterpolar"
           }
          ],
          "scatterpolargl": [
           {
            "marker": {
             "colorbar": {
              "outlinewidth": 0,
              "ticks": ""
             }
            },
            "type": "scatterpolargl"
           }
          ],
          "scatterternary": [
           {
            "marker": {
             "colorbar": {
              "outlinewidth": 0,
              "ticks": ""
             }
            },
            "type": "scatterternary"
           }
          ],
          "surface": [
           {
            "colorbar": {
             "outlinewidth": 0,
             "ticks": ""
            },
            "colorscale": [
             [
              0,
              "#0d0887"
             ],
             [
              0.1111111111111111,
              "#46039f"
             ],
             [
              0.2222222222222222,
              "#7201a8"
             ],
             [
              0.3333333333333333,
              "#9c179e"
             ],
             [
              0.4444444444444444,
              "#bd3786"
             ],
             [
              0.5555555555555556,
              "#d8576b"
             ],
             [
              0.6666666666666666,
              "#ed7953"
             ],
             [
              0.7777777777777778,
              "#fb9f3a"
             ],
             [
              0.8888888888888888,
              "#fdca26"
             ],
             [
              1,
              "#f0f921"
             ]
            ],
            "type": "surface"
           }
          ],
          "table": [
           {
            "cells": {
             "fill": {
              "color": "#EBF0F8"
             },
             "line": {
              "color": "white"
             }
            },
            "header": {
             "fill": {
              "color": "#C8D4E3"
             },
             "line": {
              "color": "white"
             }
            },
            "type": "table"
           }
          ]
         },
         "layout": {
          "annotationdefaults": {
           "arrowcolor": "#2a3f5f",
           "arrowhead": 0,
           "arrowwidth": 1
          },
          "autotypenumbers": "strict",
          "coloraxis": {
           "colorbar": {
            "outlinewidth": 0,
            "ticks": ""
           }
          },
          "colorscale": {
           "diverging": [
            [
             0,
             "#8e0152"
            ],
            [
             0.1,
             "#c51b7d"
            ],
            [
             0.2,
             "#de77ae"
            ],
            [
             0.3,
             "#f1b6da"
            ],
            [
             0.4,
             "#fde0ef"
            ],
            [
             0.5,
             "#f7f7f7"
            ],
            [
             0.6,
             "#e6f5d0"
            ],
            [
             0.7,
             "#b8e186"
            ],
            [
             0.8,
             "#7fbc41"
            ],
            [
             0.9,
             "#4d9221"
            ],
            [
             1,
             "#276419"
            ]
           ],
           "sequential": [
            [
             0,
             "#0d0887"
            ],
            [
             0.1111111111111111,
             "#46039f"
            ],
            [
             0.2222222222222222,
             "#7201a8"
            ],
            [
             0.3333333333333333,
             "#9c179e"
            ],
            [
             0.4444444444444444,
             "#bd3786"
            ],
            [
             0.5555555555555556,
             "#d8576b"
            ],
            [
             0.6666666666666666,
             "#ed7953"
            ],
            [
             0.7777777777777778,
             "#fb9f3a"
            ],
            [
             0.8888888888888888,
             "#fdca26"
            ],
            [
             1,
             "#f0f921"
            ]
           ],
           "sequentialminus": [
            [
             0,
             "#0d0887"
            ],
            [
             0.1111111111111111,
             "#46039f"
            ],
            [
             0.2222222222222222,
             "#7201a8"
            ],
            [
             0.3333333333333333,
             "#9c179e"
            ],
            [
             0.4444444444444444,
             "#bd3786"
            ],
            [
             0.5555555555555556,
             "#d8576b"
            ],
            [
             0.6666666666666666,
             "#ed7953"
            ],
            [
             0.7777777777777778,
             "#fb9f3a"
            ],
            [
             0.8888888888888888,
             "#fdca26"
            ],
            [
             1,
             "#f0f921"
            ]
           ]
          },
          "colorway": [
           "#636efa",
           "#EF553B",
           "#00cc96",
           "#ab63fa",
           "#FFA15A",
           "#19d3f3",
           "#FF6692",
           "#B6E880",
           "#FF97FF",
           "#FECB52"
          ],
          "font": {
           "color": "#2a3f5f"
          },
          "geo": {
           "bgcolor": "white",
           "lakecolor": "white",
           "landcolor": "#E5ECF6",
           "showlakes": true,
           "showland": true,
           "subunitcolor": "white"
          },
          "hoverlabel": {
           "align": "left"
          },
          "hovermode": "closest",
          "mapbox": {
           "style": "light"
          },
          "paper_bgcolor": "white",
          "plot_bgcolor": "#E5ECF6",
          "polar": {
           "angularaxis": {
            "gridcolor": "white",
            "linecolor": "white",
            "ticks": ""
           },
           "bgcolor": "#E5ECF6",
           "radialaxis": {
            "gridcolor": "white",
            "linecolor": "white",
            "ticks": ""
           }
          },
          "scene": {
           "xaxis": {
            "backgroundcolor": "#E5ECF6",
            "gridcolor": "white",
            "gridwidth": 2,
            "linecolor": "white",
            "showbackground": true,
            "ticks": "",
            "zerolinecolor": "white"
           },
           "yaxis": {
            "backgroundcolor": "#E5ECF6",
            "gridcolor": "white",
            "gridwidth": 2,
            "linecolor": "white",
            "showbackground": true,
            "ticks": "",
            "zerolinecolor": "white"
           },
           "zaxis": {
            "backgroundcolor": "#E5ECF6",
            "gridcolor": "white",
            "gridwidth": 2,
            "linecolor": "white",
            "showbackground": true,
            "ticks": "",
            "zerolinecolor": "white"
           }
          },
          "shapedefaults": {
           "line": {
            "color": "#2a3f5f"
           }
          },
          "ternary": {
           "aaxis": {
            "gridcolor": "white",
            "linecolor": "white",
            "ticks": ""
           },
           "baxis": {
            "gridcolor": "white",
            "linecolor": "white",
            "ticks": ""
           },
           "bgcolor": "#E5ECF6",
           "caxis": {
            "gridcolor": "white",
            "linecolor": "white",
            "ticks": ""
           }
          },
          "title": {
           "x": 0.05
          },
          "xaxis": {
           "automargin": true,
           "gridcolor": "white",
           "linecolor": "white",
           "ticks": "",
           "title": {
            "standoff": 15
           },
           "zerolinecolor": "white",
           "zerolinewidth": 2
          },
          "yaxis": {
           "automargin": true,
           "gridcolor": "white",
           "linecolor": "white",
           "ticks": "",
           "title": {
            "standoff": 15
           },
           "zerolinecolor": "white",
           "zerolinewidth": 2
          }
         }
        },
        "xaxis": {
         "anchor": "y",
         "domain": [
          0,
          1
         ],
         "title": {
          "text": "x"
         }
        },
        "yaxis": {
         "anchor": "x",
         "domain": [
          0,
          1
         ],
         "title": {
          "text": "y"
         }
        }
       }
      },
      "text/html": [
       "<div>                            <div id=\"f3aee4d5-503f-40aa-b755-ba234cd256d3\" class=\"plotly-graph-div\" style=\"height:525px; width:100%;\"></div>            <script type=\"text/javascript\">                require([\"plotly\"], function(Plotly) {                    window.PLOTLYENV=window.PLOTLYENV || {};                                    if (document.getElementById(\"f3aee4d5-503f-40aa-b755-ba234cd256d3\")) {                    Plotly.newPlot(                        \"f3aee4d5-503f-40aa-b755-ba234cd256d3\",                        [{\"hovertemplate\":\"color=0<br>x=%{x}<br>y=%{y}<extra></extra>\",\"legendgroup\":\"0\",\"marker\":{\"color\":\"#636efa\",\"symbol\":\"circle\",\"size\":12},\"mode\":\"markers\",\"name\":\"0\",\"orientation\":\"v\",\"showlegend\":true,\"x\":[1.7427119845537635,2.2246590104529114,2.0109638854414333,2.562253686380806,1.5038215379593023,2.215632400161359,2.895669053624834,2.1123779631495068,1.8594484231581412,2.024558799036794,2.920591433349051,2.130270594350516,1.9346660045047568,2.9026853351081923,1.4835492721142978,2.3147333889096013,1.8311529186213407,1.3842016047153556,1.6677159631582619,2.148991261567465,1.7088052879324855,1.4631091867026935,2.4815309069310647,1.6444975199830065,2.331603238088614,1.6051706151075738,1.72012785151108,2.189474699825603,3.1276826701216516,1.7518178241370588,1.5389066278478818,2.2334705421306182,2.357800162088474,1.873837895294947,1.8691389800909917,1.527361989131506,2.4825068845494704,1.7691367861623815,2.589880927991414,2.0599925307572473],\"xaxis\":\"x\",\"y\":[0.830328116790485,0.4029333041750493,0.5990984310749885,0.41169448117439633,1.277626999318633,1.2156215856243135,1.3053837561618602,1.0785588734880527,1.7298323377536406,1.668667884680152,1.563895316083428,1.1834278065393846,1.2587690380463146,0.29117208242383597,1.3338921786090419,0.8039292199278392,1.7659530841555804,1.0953899255069786,1.7571928888325021,1.3371512263556076,1.1403257960192545,0.6899505877713178,0.8279091180470615,1.4003209895810707,1.312656662142874,0.20251666638801158,0.5257663175413804,1.4945373134471005,1.322679429083623,0.9119874111613949,0.7006446398029416,0.4057859810092092,1.0810214862464365,1.4477639416100292,0.5613089947895958,1.7722931934801185,0.9370617185612727,1.2020586426638618,1.0402878353041192,1.7013053821955628],\"yaxis\":\"y\",\"type\":\"scatter\"},{\"hovertemplate\":\"color=1<br>x=%{x}<br>y=%{y}<extra></extra>\",\"legendgroup\":\"1\",\"marker\":{\"color\":\"#EF553B\",\"symbol\":\"circle\",\"size\":12},\"mode\":\"markers\",\"name\":\"1\",\"orientation\":\"v\",\"showlegend\":true,\"x\":[-2.1620637852478226,-1.1247234137703774,-1.3014295950540067,-1.1843768512517994,-1.755327388686685,-1.4214516888777242,-1.3094331400513946,-0.21149326078837638,-1.5596782062491263,-1.5747745950547631,-1.0125048140207578,-1.1194011147446243,-1.3881545520104626,-1.2672329278269108,-1.0686849192080916,-1.8361928580270428,-1.8486720868773894,-1.516597092048879,-0.9370633367645662,-1.5720777495944571,-1.5653708988814554,-1.960578053546937,-1.783242440748963,-0.9378376007054954,-1.5418396368203093,-1.428007837914444,-0.3680952360333378,-1.297999070500763,-2.1195816873770785,-0.9483833878317888,-1.308421476596948,-1.7690656413820345,-1.5308951765848606,-1.71861978951228,-1.2042795392744652,-1.3192059320198675,-1.2759876556891916,-1.0137765803424088,-0.9360578560355906,-1.0260719749390155],\"xaxis\":\"x\",\"y\":[8.764481803253288,7.434548228293607,7.529379823843011,7.691762227926302,7.506655026852423,7.877918230834277,8.347061128812808,7.358452895416898,8.526829690052203,7.212946235713819,7.875249954811692,8.109439741155548,7.879290090462547,7.706360779066135,6.587793275249601,8.581618821469778,7.2294371380326945,7.811804732320298,8.148097130286796,7.469613170792259,8.259927341877868,8.110130736239837,7.6073926562071845,8.421290818945844,7.659530996807174,8.001985165172977,8.011002010851161,8.294537735913703,7.920410384198817,7.628136111316745,8.320444728330912,7.694928502635032,7.618997812334239,8.38047539599881,8.097789171530577,8.850985589425788,7.7871726413105655,7.576355429225714,7.763651968475774,7.783213243076129],\"yaxis\":\"y\",\"type\":\"scatter\"},{\"hovertemplate\":\"color=2<br>x=%{x}<br>y=%{y}<extra></extra>\",\"legendgroup\":\"2\",\"marker\":{\"color\":\"#00cc96\",\"symbol\":\"circle\",\"size\":12},\"mode\":\"markers\",\"name\":\"2\",\"orientation\":\"v\",\"showlegend\":true,\"x\":[0.8019730107129165,0.8197096113497264,0.24268082241177502,1.4890003865909804,0.6736628770473171,1.6486056614674178,0.5044212442663034,0.6908251363900615,1.5067208855683378,1.0459964201101073,1.1760085332819366,0.7464077666405022,0.5844113614146482,0.746926596758251,0.6103542516264907,0.4944313988667509,0.20844849276523936,0.573310126009341,1.1171505442894007,0.5679858145740361,1.318737054862642,0.9968614113321458,0.2500160471454168,0.4519526501939847,0.8360714390891774,0.5767664921129443,1.056111842560684,1.3043608315263866,0.9635880757941003,1.9976596593409186,1.0062028286189206,1.666020725007801,1.0410896855688903,-0.17257533857884044,1.185818176425202,1.1573238170763922,1.645983565754515,1.3652663680332726,1.5299008848739692,0.4125121665240282],\"xaxis\":\"x\",\"y\":[4.167751089689489,4.374144363545181,4.5120393424349885,3.7481157082892462,4.141988404755146,4.21146610875378,3.664779255717851,4.1405538027541775,4.222821151332832,4.473960461269368,4.45394077476681,3.7725028445933044,4.043304978304403,4.106653891723356,3.5269601563991353,4.778290604567402,5.181636255302696,4.477893451485058,3.9194442447626137,4.327162755556652,4.358541084870163,4.219554594936765,4.208054201352104,4.709159246577774,4.329061731451776,3.412428916747623,4.122985906154672,4.361829637289225,4.496536669187078,3.649322773878946,4.439899681431291,4.964998773903519,4.958210405581728,4.597915695396552,3.6124776686236393,3.995622786525249,5.156937456662153,3.9698130682654913,4.844858259401375,4.65365798757275],\"yaxis\":\"y\",\"type\":\"scatter\"},{\"hovertemplate\":\"color=3<br>x=%{x}<br>y=%{y}<extra></extra>\",\"legendgroup\":\"3\",\"marker\":{\"color\":\"#ab63fa\",\"symbol\":\"circle\",\"size\":12},\"mode\":\"markers\",\"name\":\"3\",\"orientation\":\"v\",\"showlegend\":true,\"x\":[-1.8137506747204084,-0.5102149854110218,-1.8929179298637968,-2.2202626697219867,-1.9519048283851181,-1.8165322944967062,-1.4564760711374864,-1.400937943652448,-2.0238765159647083,-1.6862012732859732,-1.9923132920249145,-0.5534478360455949,-1.7355222018126477,-1.238844826477989,-1.7956962442563187,-1.173056430272866,-1.1413302378656944,-1.5345631994595537,-1.245549860259671,-1.33508758437176,-1.7711916774294283,-1.0083548090695014,-1.5378507692014265,-2.1677314222640445,-1.5445812814242783,-1.6659598492931105,-1.7318936398047098,-2.047186107541766,-1.112517542520537,-1.888438362100134,-2.108689622597457,-1.179598265175755,-1.0320571950727044,-1.693035840296005,-0.8543859682007894,-1.117323504580239,-1.9570792634436551,-1.2914295159826161,-1.8597073615979964,-1.5867002731360353],\"xaxis\":\"x\",\"y\":[2.739109944885164,2.8988665430858336,2.2579913138219916,2.946350158723272,2.733359899391976,1.9173508428321309,3.022363727623247,2.873714585993792,2.941356547000561,2.299154179295014,3.224599794559855,3.519319838579499,3.1345489245311806,2.190252041393247,2.8108174829519195,2.7079936678019485,2.6249207443480564,3.0885005423329095,2.1969563163100863,3.222490877096733,3.1051047821507645,3.4037106277496925,2.585768352190563,2.6958883138201353,2.392240187349584,2.163680548484633,2.9257478828943984,3.26942140710262,3.0613097051574822,2.6075848613455324,3.038055152540255,3.288459130616802,3.212750940158292,2.8101616314239557,1.986389000077033,3.0606304581692085,2.762190462268399,2.840686412283111,3.612238829266154,2.783876365602345],\"yaxis\":\"y\",\"type\":\"scatter\"},{\"hovertemplate\":\"color=4<br>x=%{x}<br>y=%{y}<extra></extra>\",\"legendgroup\":\"4\",\"marker\":{\"color\":\"#FFA15A\",\"symbol\":\"circle\",\"size\":12},\"mode\":\"markers\",\"name\":\"4\",\"orientation\":\"v\",\"showlegend\":true,\"x\":[8.258251306789601,8.96545030603884,9.187461137908956,9.887294541666698,9.290638958348671,9.266198259799436,9.533589883998582,9.587560927118888,8.829775378062719,9.754084439712791,9.003860938405243,9.074840025488921,9.295527951763127,10.014915929513988,9.60948996041267,9.528535835054289,9.562746719298904,8.477412907215923,8.979723090049827,9.152775118418301,8.929390444262687,8.509107591276072,9.05741009371701,8.443873912450094,8.076627702922053,9.114210923079847,9.621219049851756,9.933215632028967,9.39945397741292,9.109143115044327,9.639789130140127,8.96372828505768,8.483104447473613,9.180148555746799,9.692586978372024,9.618253641760875,9.189981058066383,9.141928396784047,9.659320975952138,9.651989278853723],\"xaxis\":\"x\",\"y\":[-2.791297703120467,-1.584371765199003,-2.508851904799498,-2.6414217565319174,-3.0766914195293245,-2.258751947750245,-2.173825117837517,-2.3294727233956243,-2.9934953768430597,-2.53519323521757,-2.833323267166623,-2.4573295963174746,-2.1089430741580153,-2.2572671335151453,-2.866194853326127,-2.431373418716265,-3.037950157369499,-2.1712028167497492,-2.5657048140199454,-2.8387747226459483,-2.978175786695156,-2.156893409556667,-2.0520083892298646,-2.5462579253026645,-2.058325837522724,-3.0585830083774104,-2.8639159115714383,-1.947521250726891,-2.778075248402757,-2.2606528886118817,-2.3046531083527118,-2.8775044548768,-2.1282491156717835,-1.9350891130480934,-2.1781853807738774,-2.1708378556219152,-2.6946114429118055,-2.673841118799676,-1.8176737834885373,-2.4434259845568724],\"yaxis\":\"y\",\"type\":\"scatter\"}],                        {\"template\":{\"data\":{\"histogram2dcontour\":[{\"type\":\"histogram2dcontour\",\"colorbar\":{\"outlinewidth\":0,\"ticks\":\"\"},\"colorscale\":[[0.0,\"#0d0887\"],[0.1111111111111111,\"#46039f\"],[0.2222222222222222,\"#7201a8\"],[0.3333333333333333,\"#9c179e\"],[0.4444444444444444,\"#bd3786\"],[0.5555555555555556,\"#d8576b\"],[0.6666666666666666,\"#ed7953\"],[0.7777777777777778,\"#fb9f3a\"],[0.8888888888888888,\"#fdca26\"],[1.0,\"#f0f921\"]]}],\"choropleth\":[{\"type\":\"choropleth\",\"colorbar\":{\"outlinewidth\":0,\"ticks\":\"\"}}],\"histogram2d\":[{\"type\":\"histogram2d\",\"colorbar\":{\"outlinewidth\":0,\"ticks\":\"\"},\"colorscale\":[[0.0,\"#0d0887\"],[0.1111111111111111,\"#46039f\"],[0.2222222222222222,\"#7201a8\"],[0.3333333333333333,\"#9c179e\"],[0.4444444444444444,\"#bd3786\"],[0.5555555555555556,\"#d8576b\"],[0.6666666666666666,\"#ed7953\"],[0.7777777777777778,\"#fb9f3a\"],[0.8888888888888888,\"#fdca26\"],[1.0,\"#f0f921\"]]}],\"heatmap\":[{\"type\":\"heatmap\",\"colorbar\":{\"outlinewidth\":0,\"ticks\":\"\"},\"colorscale\":[[0.0,\"#0d0887\"],[0.1111111111111111,\"#46039f\"],[0.2222222222222222,\"#7201a8\"],[0.3333333333333333,\"#9c179e\"],[0.4444444444444444,\"#bd3786\"],[0.5555555555555556,\"#d8576b\"],[0.6666666666666666,\"#ed7953\"],[0.7777777777777778,\"#fb9f3a\"],[0.8888888888888888,\"#fdca26\"],[1.0,\"#f0f921\"]]}],\"heatmapgl\":[{\"type\":\"heatmapgl\",\"colorbar\":{\"outlinewidth\":0,\"ticks\":\"\"},\"colorscale\":[[0.0,\"#0d0887\"],[0.1111111111111111,\"#46039f\"],[0.2222222222222222,\"#7201a8\"],[0.3333333333333333,\"#9c179e\"],[0.4444444444444444,\"#bd3786\"],[0.5555555555555556,\"#d8576b\"],[0.6666666666666666,\"#ed7953\"],[0.7777777777777778,\"#fb9f3a\"],[0.8888888888888888,\"#fdca26\"],[1.0,\"#f0f921\"]]}],\"contourcarpet\":[{\"type\":\"contourcarpet\",\"colorbar\":{\"outlinewidth\":0,\"ticks\":\"\"}}],\"contour\":[{\"type\":\"contour\",\"colorbar\":{\"outlinewidth\":0,\"ticks\":\"\"},\"colorscale\":[[0.0,\"#0d0887\"],[0.1111111111111111,\"#46039f\"],[0.2222222222222222,\"#7201a8\"],[0.3333333333333333,\"#9c179e\"],[0.4444444444444444,\"#bd3786\"],[0.5555555555555556,\"#d8576b\"],[0.6666666666666666,\"#ed7953\"],[0.7777777777777778,\"#fb9f3a\"],[0.8888888888888888,\"#fdca26\"],[1.0,\"#f0f921\"]]}],\"surface\":[{\"type\":\"surface\",\"colorbar\":{\"outlinewidth\":0,\"ticks\":\"\"},\"colorscale\":[[0.0,\"#0d0887\"],[0.1111111111111111,\"#46039f\"],[0.2222222222222222,\"#7201a8\"],[0.3333333333333333,\"#9c179e\"],[0.4444444444444444,\"#bd3786\"],[0.5555555555555556,\"#d8576b\"],[0.6666666666666666,\"#ed7953\"],[0.7777777777777778,\"#fb9f3a\"],[0.8888888888888888,\"#fdca26\"],[1.0,\"#f0f921\"]]}],\"mesh3d\":[{\"type\":\"mesh3d\",\"colorbar\":{\"outlinewidth\":0,\"ticks\":\"\"}}],\"scatter\":[{\"fillpattern\":{\"fillmode\":\"overlay\",\"size\":10,\"solidity\":0.2},\"type\":\"scatter\"}],\"parcoords\":[{\"type\":\"parcoords\",\"line\":{\"colorbar\":{\"outlinewidth\":0,\"ticks\":\"\"}}}],\"scatterpolargl\":[{\"type\":\"scatterpolargl\",\"marker\":{\"colorbar\":{\"outlinewidth\":0,\"ticks\":\"\"}}}],\"bar\":[{\"error_x\":{\"color\":\"#2a3f5f\"},\"error_y\":{\"color\":\"#2a3f5f\"},\"marker\":{\"line\":{\"color\":\"#E5ECF6\",\"width\":0.5},\"pattern\":{\"fillmode\":\"overlay\",\"size\":10,\"solidity\":0.2}},\"type\":\"bar\"}],\"scattergeo\":[{\"type\":\"scattergeo\",\"marker\":{\"colorbar\":{\"outlinewidth\":0,\"ticks\":\"\"}}}],\"scatterpolar\":[{\"type\":\"scatterpolar\",\"marker\":{\"colorbar\":{\"outlinewidth\":0,\"ticks\":\"\"}}}],\"histogram\":[{\"marker\":{\"pattern\":{\"fillmode\":\"overlay\",\"size\":10,\"solidity\":0.2}},\"type\":\"histogram\"}],\"scattergl\":[{\"type\":\"scattergl\",\"marker\":{\"colorbar\":{\"outlinewidth\":0,\"ticks\":\"\"}}}],\"scatter3d\":[{\"type\":\"scatter3d\",\"line\":{\"colorbar\":{\"outlinewidth\":0,\"ticks\":\"\"}},\"marker\":{\"colorbar\":{\"outlinewidth\":0,\"ticks\":\"\"}}}],\"scattermapbox\":[{\"type\":\"scattermapbox\",\"marker\":{\"colorbar\":{\"outlinewidth\":0,\"ticks\":\"\"}}}],\"scatterternary\":[{\"type\":\"scatterternary\",\"marker\":{\"colorbar\":{\"outlinewidth\":0,\"ticks\":\"\"}}}],\"scattercarpet\":[{\"type\":\"scattercarpet\",\"marker\":{\"colorbar\":{\"outlinewidth\":0,\"ticks\":\"\"}}}],\"carpet\":[{\"aaxis\":{\"endlinecolor\":\"#2a3f5f\",\"gridcolor\":\"white\",\"linecolor\":\"white\",\"minorgridcolor\":\"white\",\"startlinecolor\":\"#2a3f5f\"},\"baxis\":{\"endlinecolor\":\"#2a3f5f\",\"gridcolor\":\"white\",\"linecolor\":\"white\",\"minorgridcolor\":\"white\",\"startlinecolor\":\"#2a3f5f\"},\"type\":\"carpet\"}],\"table\":[{\"cells\":{\"fill\":{\"color\":\"#EBF0F8\"},\"line\":{\"color\":\"white\"}},\"header\":{\"fill\":{\"color\":\"#C8D4E3\"},\"line\":{\"color\":\"white\"}},\"type\":\"table\"}],\"barpolar\":[{\"marker\":{\"line\":{\"color\":\"#E5ECF6\",\"width\":0.5},\"pattern\":{\"fillmode\":\"overlay\",\"size\":10,\"solidity\":0.2}},\"type\":\"barpolar\"}],\"pie\":[{\"automargin\":true,\"type\":\"pie\"}]},\"layout\":{\"autotypenumbers\":\"strict\",\"colorway\":[\"#636efa\",\"#EF553B\",\"#00cc96\",\"#ab63fa\",\"#FFA15A\",\"#19d3f3\",\"#FF6692\",\"#B6E880\",\"#FF97FF\",\"#FECB52\"],\"font\":{\"color\":\"#2a3f5f\"},\"hovermode\":\"closest\",\"hoverlabel\":{\"align\":\"left\"},\"paper_bgcolor\":\"white\",\"plot_bgcolor\":\"#E5ECF6\",\"polar\":{\"bgcolor\":\"#E5ECF6\",\"angularaxis\":{\"gridcolor\":\"white\",\"linecolor\":\"white\",\"ticks\":\"\"},\"radialaxis\":{\"gridcolor\":\"white\",\"linecolor\":\"white\",\"ticks\":\"\"}},\"ternary\":{\"bgcolor\":\"#E5ECF6\",\"aaxis\":{\"gridcolor\":\"white\",\"linecolor\":\"white\",\"ticks\":\"\"},\"baxis\":{\"gridcolor\":\"white\",\"linecolor\":\"white\",\"ticks\":\"\"},\"caxis\":{\"gridcolor\":\"white\",\"linecolor\":\"white\",\"ticks\":\"\"}},\"coloraxis\":{\"colorbar\":{\"outlinewidth\":0,\"ticks\":\"\"}},\"colorscale\":{\"sequential\":[[0.0,\"#0d0887\"],[0.1111111111111111,\"#46039f\"],[0.2222222222222222,\"#7201a8\"],[0.3333333333333333,\"#9c179e\"],[0.4444444444444444,\"#bd3786\"],[0.5555555555555556,\"#d8576b\"],[0.6666666666666666,\"#ed7953\"],[0.7777777777777778,\"#fb9f3a\"],[0.8888888888888888,\"#fdca26\"],[1.0,\"#f0f921\"]],\"sequentialminus\":[[0.0,\"#0d0887\"],[0.1111111111111111,\"#46039f\"],[0.2222222222222222,\"#7201a8\"],[0.3333333333333333,\"#9c179e\"],[0.4444444444444444,\"#bd3786\"],[0.5555555555555556,\"#d8576b\"],[0.6666666666666666,\"#ed7953\"],[0.7777777777777778,\"#fb9f3a\"],[0.8888888888888888,\"#fdca26\"],[1.0,\"#f0f921\"]],\"diverging\":[[0,\"#8e0152\"],[0.1,\"#c51b7d\"],[0.2,\"#de77ae\"],[0.3,\"#f1b6da\"],[0.4,\"#fde0ef\"],[0.5,\"#f7f7f7\"],[0.6,\"#e6f5d0\"],[0.7,\"#b8e186\"],[0.8,\"#7fbc41\"],[0.9,\"#4d9221\"],[1,\"#276419\"]]},\"xaxis\":{\"gridcolor\":\"white\",\"linecolor\":\"white\",\"ticks\":\"\",\"title\":{\"standoff\":15},\"zerolinecolor\":\"white\",\"automargin\":true,\"zerolinewidth\":2},\"yaxis\":{\"gridcolor\":\"white\",\"linecolor\":\"white\",\"ticks\":\"\",\"title\":{\"standoff\":15},\"zerolinecolor\":\"white\",\"automargin\":true,\"zerolinewidth\":2},\"scene\":{\"xaxis\":{\"backgroundcolor\":\"#E5ECF6\",\"gridcolor\":\"white\",\"linecolor\":\"white\",\"showbackground\":true,\"ticks\":\"\",\"zerolinecolor\":\"white\",\"gridwidth\":2},\"yaxis\":{\"backgroundcolor\":\"#E5ECF6\",\"gridcolor\":\"white\",\"linecolor\":\"white\",\"showbackground\":true,\"ticks\":\"\",\"zerolinecolor\":\"white\",\"gridwidth\":2},\"zaxis\":{\"backgroundcolor\":\"#E5ECF6\",\"gridcolor\":\"white\",\"linecolor\":\"white\",\"showbackground\":true,\"ticks\":\"\",\"zerolinecolor\":\"white\",\"gridwidth\":2}},\"shapedefaults\":{\"line\":{\"color\":\"#2a3f5f\"}},\"annotationdefaults\":{\"arrowcolor\":\"#2a3f5f\",\"arrowhead\":0,\"arrowwidth\":1},\"geo\":{\"bgcolor\":\"white\",\"landcolor\":\"#E5ECF6\",\"subunitcolor\":\"white\",\"showland\":true,\"showlakes\":true,\"lakecolor\":\"white\"},\"title\":{\"x\":0.05},\"mapbox\":{\"style\":\"light\"}}},\"xaxis\":{\"anchor\":\"y\",\"domain\":[0.0,1.0],\"title\":{\"text\":\"x\"}},\"yaxis\":{\"anchor\":\"x\",\"domain\":[0.0,1.0],\"title\":{\"text\":\"y\"}},\"legend\":{\"title\":{\"text\":\"color\"},\"tracegroupgap\":0},\"margin\":{\"t\":60}},                        {\"responsive\": true}                    ).then(function(){\n",
       "                            \n",
       "var gd = document.getElementById('f3aee4d5-503f-40aa-b755-ba234cd256d3');\n",
       "var x = new MutationObserver(function (mutations, observer) {{\n",
       "        var display = window.getComputedStyle(gd).display;\n",
       "        if (!display || display === 'none') {{\n",
       "            console.log([gd, 'removed!']);\n",
       "            Plotly.purge(gd);\n",
       "            observer.disconnect();\n",
       "        }}\n",
       "}});\n",
       "\n",
       "// Listen for the removal of the full notebook cells\n",
       "var notebookContainer = gd.closest('#notebook-container');\n",
       "if (notebookContainer) {{\n",
       "    x.observe(notebookContainer, {childList: true});\n",
       "}}\n",
       "\n",
       "// Listen for the clearing of the current output cell\n",
       "var outputEl = gd.closest('.output');\n",
       "if (outputEl) {{\n",
       "    x.observe(outputEl, {childList: true});\n",
       "}}\n",
       "\n",
       "                        })                };                });            </script>        </div>"
      ]
     },
     "metadata": {},
     "output_type": "display_data"
    }
   ],
   "source": [
    "dbscan = DBSCAN(eps=1).fit(X)\n",
    "labels = [str(i) for i in dbscan.labels_]\n",
    "fig = px.scatter(x=X[:, 0], y=X[:, 1], color=labels);\n",
    "fig.update_traces(marker=dict(size=12))\n",
    "fig.show()"
   ]
  },
  {
   "cell_type": "markdown",
   "metadata": {
    "id": "CD4_hPKqb-kF"
   },
   "source": [
    "Hopefully in your exploration of these two parameters you have realised how sensitive DBSCAN is two these parameters, specifically eps. This shows that there is no 'magic bullet' in unsupervised learning. While DBSCAN doesn't require the number of clusters in order to function (most popular clustering methods do, e.g., k-means), it does require some apriori knowledge of the data structure."
   ]
  }
 ],
 "metadata": {
  "colab": {
   "collapsed_sections": [],
   "provenance": [],
   "toc_visible": true
  },
  "kernelspec": {
   "display_name": "Python 3 (ipykernel)",
   "language": "python",
   "name": "python3"
  },
  "language_info": {
   "codemirror_mode": {
    "name": "ipython",
    "version": 3
   },
   "file_extension": ".py",
   "mimetype": "text/x-python",
   "name": "python",
   "nbconvert_exporter": "python",
   "pygments_lexer": "ipython3",
   "version": "3.10.6"
  }
 },
 "nbformat": 4,
 "nbformat_minor": 1
}
